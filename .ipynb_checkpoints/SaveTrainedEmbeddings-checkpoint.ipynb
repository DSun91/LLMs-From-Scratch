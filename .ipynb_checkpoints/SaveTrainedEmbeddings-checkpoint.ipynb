{
 "cells": [
  {
   "cell_type": "code",
   "execution_count": 228,
   "id": "e369085c-ed60-44b8-9930-9dd98baf8858",
   "metadata": {},
   "outputs": [
    {
     "data": {
      "text/plain": [
       "((2, 6, 3), (2, 6, 3), (2, 6, 4))"
      ]
     },
     "execution_count": 228,
     "metadata": {},
     "output_type": "execute_result"
    }
   ],
   "source": [
    " \n",
    "import sys\n",
    "import numpy as np\n",
    "\n",
    "# Phrase 1\n",
    "word1 = np.array([0.1, 0.2, 0.3, 0.4, 0.5, 0.3])\n",
    "word2 = np.array([0.5, 0.4, 0.7, 0.3, 0.2, 0.3])\n",
    "word3 = np.array([0.2, 0.7, 0.3, 0.5, 0.4, 0.4])\n",
    "word4 = np.array([0.4, 0.1, 0.7, 0.2, 0.5, 0.7])\n",
    "\n",
    "# Phrase 2\n",
    "word5 = np.array([0.1, 0.9, 0.3, 0.4, 0.5, 0.2])\n",
    "word6 = np.array([0.4, 0.4, 0.7, 0.3, 0.4, 0.6])\n",
    "word7 = np.array([0.2, 0.7, 0.4, 0.5, 0.4, 0.2])\n",
    "word8 = np.array([0.4, 0.5, 0.7, 0.7, 0.5, 0.1])\n",
    "\n",
    "# Phrase 3\n",
    "word9 = np.array([0.1, 0.2, 0.3, 0.8, 0.5, 0.2])\n",
    "word10 = np.array([0.4, 0.5, 0.7, 0.3, 0.8, 0.4])\n",
    "word11 = np.array([0.9, 0.7, 0.3, 0.5, 0.4, 0.6])\n",
    "word12 = np.array([0.4, 0.5, 0.1, 0.7, 0.4, 0.4])\n",
    "\n",
    "word13 = np.array([0.9, 0.7, 0.2, 0.5, 0.3, 0.6])\n",
    "word14 = np.array([0.5, 0.5, 0.1, 0.4, 0.1, 0.4])\n",
    "\n",
    "inputs = np.stack([[word1, word2, word3, word4], \n",
    "                   [word5, word6, word7, word8], \n",
    "                   [word9, word10, word11, word12]])\n",
    "\n",
    "\n",
    "inputs = np.stack([[word1, word2, word6, word2, word3], \n",
    "                   [word3, word4, word11, word12, word2],\n",
    "                   [word5, word6, word2, word3, word4],\n",
    "                   [word7, word8, word7, word8, word4],\n",
    "                   [word9, word10, word3, word4, word1],\n",
    "                   [word11, word12, word7, word8, word7],\n",
    "                   [word13, word14, word10, word3, word4],\n",
    "                   [word7, word8,word14, word10,word3],\n",
    "                   [word9, word10,word8,word14,word1]])\n",
    "\n",
    "num_head = 2\n",
    "dk = 3\n",
    "dv = 4\n",
    "words_per_phrase = 5\n",
    "word2vec_len = 6 \n",
    "num_prases = 9\n",
    " \n",
    "\n",
    "Q = np.random.rand(num_head, word2vec_len, dk) / np.sqrt(word2vec_len)\n",
    "K = np.random.rand(num_head, word2vec_len, dk) / np.sqrt(word2vec_len)\n",
    "V = np.random.rand(num_head, word2vec_len, dv) / np.sqrt(word2vec_len)\n",
    "Q.shape,K.shape,V.shape\n"
   ]
  },
  {
   "cell_type": "code",
   "execution_count": 229,
   "id": "d3c8acac-2647-4cd5-b13a-8fb86441a902",
   "metadata": {},
   "outputs": [
    {
     "name": "stdout",
     "output_type": "stream",
     "text": [
      "Qval.shape:  (9, 2, 5, 3)\n",
      "Kval.shape:  (9, 2, 5, 3)\n",
      "Vval.shape:  (9, 2, 5, 4)\n"
     ]
    }
   ],
   "source": [
    "Qval = np.repeat(inputs, num_head, axis=0).reshape(num_prases,num_head,words_per_phrase,word2vec_len)@Q\n",
    "print(\"Qval.shape: \",Qval.shape)\n",
    "\n",
    "Kval = np.repeat(inputs, num_head, axis=0).reshape(num_prases,num_head,words_per_phrase,word2vec_len)@K\n",
    "print(\"Kval.shape: \",Kval.shape)\n",
    "\n",
    "\n",
    "Vval = np.repeat(inputs, num_head, axis=0).reshape(num_prases,num_head,words_per_phrase,word2vec_len)@V\n",
    "print(\"Vval.shape: \",Vval.shape)\n",
    " "
   ]
  },
  {
   "cell_type": "code",
   "execution_count": 230,
   "id": "3f8a5c60-8aff-4f7f-b674-cf614f8a07fa",
   "metadata": {
    "scrolled": true
   },
   "outputs": [
    {
     "name": "stdout",
     "output_type": "stream",
     "text": [
      "Attention_weights shape: (9, 2, 5, 5)\n",
      "Attention shape: (9, 2, 5, 4)\n",
      "Concat Phrase Representation: (9, 8)\n"
     ]
    }
   ],
   "source": [
    "QKscaled = np.matmul(Qval, np.transpose(Kval, (0, 1, 3, 2))) / np.sqrt(dk)\n",
    "QKscaled\n",
    "\n",
    "import numpy as np\n",
    "\n",
    "\n",
    "def softmax(x, axis=-1):\n",
    "    # Subtract the max value for numerical stability\n",
    "    e_x = np.exp(x - np.max(x, axis=axis, keepdims=True))\n",
    "    return e_x / np.sum(e_x, axis=axis, keepdims=True)\n",
    "\n",
    "\n",
    "Attention_weights = softmax(QKscaled)\n",
    "Attention_weights\n",
    "print(\"Attention_weights shape:\",Attention_weights.shape)\n",
    "Attention = np.matmul(Attention_weights, Vval)\n",
    "  \n",
    "print(\"Attention shape:\",Attention.shape)\n",
    "phrase_representation = np.mean(Attention, axis=2).reshape(num_prases, dv * num_head)\n",
    "print(\"Concat Phrase Representation:\",phrase_representation.shape)\n"
   ]
  },
  {
   "cell_type": "code",
   "execution_count": null,
   "id": "9667d9f3-653d-4363-a533-42e396d2911e",
   "metadata": {},
   "outputs": [],
   "source": []
  },
  {
   "cell_type": "code",
   "execution_count": 231,
   "id": "7514fc22-3bed-4d44-8ac2-09779961c47f",
   "metadata": {},
   "outputs": [
    {
     "name": "stdout",
     "output_type": "stream",
     "text": [
      "Cross-Entropy Loss:  0.9860394846954631\n",
      "dL_dA.shape:  (9, 2, 5, 4)\n",
      "A.shape:  (9, 2, 5, 4)\n",
      "dLoss_dV.shape:  (2, 6, 4)\n",
      "Attention_weights.shape:  (9, 2, 5, 5)\n"
     ]
    }
   ],
   "source": [
    "num_classes = 2  # Example number of classes (binary classification)\n",
    "linearlayer = np.random.rand(dv * num_head, num_classes)\n",
    "linear_bias = np.random.rand(num_classes)\n",
    "Sigma_Zout = softmax(np.matmul(phrase_representation, linearlayer) + linear_bias)\n",
    "Sigma_Zout\n",
    "import numpy as np\n",
    "\n",
    "target = [np.array([0, 1]), np.array([1, 0]), np.array([1, 1]),np.array([0, 1]), np.array([1, 1]), np.array([1, 0]),np.array([1, 0]), np.array([1, 0]), np.array([1, 1])]\n",
    "\n",
    "\n",
    "def cross_entropy_loss(predictions, target):\n",
    "    batch_loss = -np.sum(target * np.log(predictions + 1e-8), axis=1)\n",
    "    return np.mean(batch_loss)\n",
    "\n",
    "\n",
    "loss = cross_entropy_loss(Sigma_Zout, target)\n",
    "print(\"Cross-Entropy Loss: \", loss)\n",
    "\n",
    "# Gradient of loss with respect to output probabilities\n",
    "dLoss_dSigma_Zout = Sigma_Zout - np.stack(target)\n",
    "dLoss_dSigma_Zout\n",
    "# Gradient for linear layer and bias\n",
    "d_linear = np.dot(dLoss_dSigma_Zout.T, phrase_representation).T\n",
    "d_bias = np.sum(dLoss_dSigma_Zout, axis=0)\n",
    "d_linear, d_bias\n",
    "\n",
    "# Gradient for phrase representation\n",
    "d_phrase_rep = np.dot(dLoss_dSigma_Zout, linearlayer.T)\n",
    "d_phrase_rep\n",
    "\n",
    "# Gradient for attention\n",
    "dL_dA = np.array([np.outer(np.ones(inputs.shape[1]), d_phrase_rep[i, :]) for i in range(d_phrase_rep.shape[0])]) / \\\n",
    "        inputs.shape[1]\n",
    "dL_dA =dL_dA.reshape(num_prases, num_head, words_per_phrase, dv) \n",
    "dL_dA.shape\n",
    "print(\"dL_dA.shape: \", dL_dA.shape)\n",
    "print(\"A.shape: \",Attention.shape)\n",
    "# Gradient for V\n",
    "d_Vval = np.matmul(np.transpose(dL_dA,(0,1,3,2)), Attention_weights) \n",
    "dLoss_dV = np.transpose(\n",
    "    np.mean(np.matmul(d_Vval, inputs.reshape(num_prases, 1, words_per_phrase, inputs.shape[2])), axis=0), (0, 2, 1))\n",
    "\n",
    "print(\"dLoss_dV.shape: \", dLoss_dV.shape)\n",
    "print(\"Attention_weights.shape: \", Attention_weights.shape)"
   ]
  },
  {
   "cell_type": "markdown",
   "id": "33bf5854-7cfd-4530-a383-d8efd33bcbfa",
   "metadata": {},
   "source": [
    "\\\\[ \n",
    "\\frac{\\partial Loss}{\\partial \\text{Q}} =\\frac{\\partial Loss}{\\partial A} \\cdot [\\sigma( \\frac{Q_{val}K_{val}^T}{\\sqrt{d_k}}) \\cdot [1-\\sigma( \\frac{Q_{val}K_{val}^T}{\\sqrt{d_k}})]] \\cdot \\frac{Inputs \\cdot K_{val}^T}{\\sqrt{d_k}} \\cdot V_{val}\n",
    "\\\\] "
   ]
  },
  {
   "cell_type": "markdown",
   "id": "ced6e049-9a90-461a-8feb-50c8a0d109e1",
   "metadata": {},
   "source": [
    "\\\\[ \n",
    "[\\sigma( \\frac{Q_{val}K_{val}^T}{\\sqrt{d_k}}) \\cdot [1-\\sigma( \\frac{Q_{val}K_{val}^T}{\\sqrt{d_k}})]]\n",
    "\\\\] "
   ]
  },
  {
   "cell_type": "code",
   "execution_count": 232,
   "id": "07885241-988d-4a5a-9a22-da5b8c361080",
   "metadata": {},
   "outputs": [
    {
     "name": "stdout",
     "output_type": "stream",
     "text": [
      "softmax_derivative.shape:  (9, 2, 5, 5)\n"
     ]
    }
   ],
   "source": [
    "softmax_derivative = Attention_weights*(1 - Attention_weights)\n",
    "print(\"softmax_derivative.shape: \", softmax_derivative.shape)"
   ]
  },
  {
   "cell_type": "markdown",
   "id": "a5278948-1ae1-4a4a-9bad-02edced98006",
   "metadata": {},
   "source": [
    "\\\\[ \n",
    " \\frac{Inputs \\cdot K_{val}^T}{\\sqrt{d_k}}\n",
    "\\\\] "
   ]
  },
  {
   "cell_type": "code",
   "execution_count": 233,
   "id": "23bbbee5-21de-460d-9b2a-685c337a0487",
   "metadata": {},
   "outputs": [
    {
     "name": "stdout",
     "output_type": "stream",
     "text": [
      "inputs.shape:  (9, 5, 6)\n",
      "Kval.shape:  (9, 2, 5, 3)\n",
      "Q.shape:  (2, 6, 3) K.shape:  (2, 6, 3)\n",
      "Vval.shape:  (9, 2, 5, 4)\n"
     ]
    }
   ],
   "source": [
    "print(\"inputs.shape: \", inputs.shape)\n",
    "print(\"Kval.shape: \", Kval.shape)\n",
    "print(\"Q.shape: \", Q.shape,\"K.shape: \",K.shape)\n",
    "print(\"Vval.shape: \", Vval.shape ) "
   ]
  },
  {
   "cell_type": "markdown",
   "id": "b5a4e00e-29c8-49e3-a65d-bb680f9bf8d4",
   "metadata": {},
   "source": [
    "\\\\[ \n",
    " K_{val}^T=(Inputs \\cdot K)^T = K^T \\cdot I^T\n",
    "\\\\] "
   ]
  },
  {
   "cell_type": "code",
   "execution_count": 234,
   "id": "3c5bdd10-b2ad-448d-ae9d-1ce47957d644",
   "metadata": {},
   "outputs": [
    {
     "data": {
      "text/plain": [
       "(9, 2, 5, 6)"
      ]
     },
     "execution_count": 234,
     "metadata": {},
     "output_type": "execute_result"
    }
   ],
   "source": [
    "I=np.repeat(inputs, num_head, axis=0).reshape(num_prases,num_head,words_per_phrase,word2vec_len)\n",
    "I.shape"
   ]
  },
  {
   "cell_type": "code",
   "execution_count": null,
   "id": "6eab7a77-f3e8-452f-b49a-986ab4c7cf8a",
   "metadata": {},
   "outputs": [],
   "source": []
  },
  {
   "cell_type": "code",
   "execution_count": 235,
   "id": "7f7e99b3-0772-4c84-8582-4b990a8299f4",
   "metadata": {},
   "outputs": [],
   "source": [
    "dLoss_dQ=np.transpose(np.transpose(dL_dA,(0,1,3,2))@softmax_derivative@Kval,(0,1,3,2))@np.transpose(Vval,(0,1,3,2))@I/np.sqrt(dk)\n",
    "dLoss_dQ=np.transpose(np.mean(dLoss_dQ,axis=0),(0,2,1)).shape"
   ]
  },
  {
   "cell_type": "code",
   "execution_count": 236,
   "id": "0e79186b-3feb-432c-987d-9215c399bcc3",
   "metadata": {},
   "outputs": [
    {
     "data": {
      "text/plain": [
       "(2, 6, 3)"
      ]
     },
     "execution_count": 236,
     "metadata": {},
     "output_type": "execute_result"
    }
   ],
   "source": [
    "Q.shape"
   ]
  },
  {
   "cell_type": "code",
   "execution_count": 237,
   "id": "fead05db-c4b7-433f-a52f-0cb8d09cd1c7",
   "metadata": {},
   "outputs": [
    {
     "data": {
      "text/plain": [
       "(9, 2, 6, 5)"
      ]
     },
     "execution_count": 237,
     "metadata": {},
     "output_type": "execute_result"
    }
   ],
   "source": [
    "np.transpose(I,(0,1,3,2)).shape"
   ]
  },
  {
   "cell_type": "code",
   "execution_count": 238,
   "id": "70cb3eb0-eaac-4278-acda-bb1848fa420d",
   "metadata": {},
   "outputs": [
    {
     "data": {
      "text/plain": [
       "(9, 2, 4, 5)"
      ]
     },
     "execution_count": 238,
     "metadata": {},
     "output_type": "execute_result"
    }
   ],
   "source": [
    "np.transpose(Vval,(0,1,3,2)).shape"
   ]
  },
  {
   "cell_type": "code",
   "execution_count": 112,
   "id": "e7ef12f7-dfc8-4bf5-b513-313884b7afa3",
   "metadata": {
    "scrolled": true
   },
   "outputs": [
    {
     "data": {
      "text/plain": [
       "array([[[[ 0.04483918,  0.04765099,  0.06119899,  0.04765099,\n",
       "           0.05888704],\n",
       "         [ 0.06164859,  0.06551446,  0.08414102,  0.06551446,\n",
       "           0.08096256],\n",
       "         [ 0.04674712,  0.04967851,  0.06380234,  0.04967851,\n",
       "           0.06139238]],\n",
       "\n",
       "        [[ 0.07564711,  0.08706407,  0.10866893,  0.08706407,\n",
       "           0.09794627],\n",
       "         [ 0.06125771,  0.07050274,  0.08799808,  0.07050274,\n",
       "           0.07931507],\n",
       "         [ 0.07889673,  0.09080425,  0.11333715,  0.09080425,\n",
       "           0.10215387]]],\n",
       "\n",
       "\n",
       "       [[[-0.03783132, -0.03741229, -0.04711875, -0.03827536,\n",
       "          -0.03061274],\n",
       "         [-0.04855243, -0.04801466, -0.06047184, -0.04912229,\n",
       "          -0.03928816],\n",
       "         [-0.04253822, -0.04206754, -0.05298123, -0.04303681,\n",
       "          -0.03442132]],\n",
       "\n",
       "        [[-0.06516863, -0.06831582, -0.07362426, -0.05729565,\n",
       "          -0.05792805],\n",
       "         [-0.05129823, -0.05377566, -0.05795364, -0.04510075,\n",
       "          -0.04559854],\n",
       "         [-0.06709721, -0.0703375 , -0.07580326, -0.0589913 ,\n",
       "          -0.05964242]]],\n",
       "\n",
       "\n",
       "       [[[-0.36434911, -0.39005859, -0.30959551, -0.37345975,\n",
       "          -0.3689041 ],\n",
       "         [-0.53452265, -0.57224021, -0.45419594, -0.54788856,\n",
       "          -0.54120522],\n",
       "         [-0.39844255, -0.42655773, -0.33856544, -0.4084057 ,\n",
       "          -0.40342375]],\n",
       "\n",
       "        [[-0.47593614, -0.50795413, -0.43187816, -0.46494832,\n",
       "          -0.46861892],\n",
       "         [-0.38072164, -0.40633425, -0.34547766, -0.37193202,\n",
       "          -0.37486844],\n",
       "         [-0.49721577, -0.53066532, -0.45118794, -0.48573668,\n",
       "          -0.48957137]]],\n",
       "\n",
       "\n",
       "       [[[ 0.06826988,  0.07868539,  0.06826988,  0.07868539,\n",
       "           0.07262586],\n",
       "         [ 0.09060111,  0.1044219 ,  0.09060111,  0.1044219 ,\n",
       "           0.09638347],\n",
       "         [ 0.05837563,  0.06727945,  0.05837563,  0.06727945,\n",
       "           0.06210233]],\n",
       "\n",
       "        [[ 0.10607373,  0.1238479 ,  0.10607373,  0.1238479 ,\n",
       "           0.11330645],\n",
       "         [ 0.07860731,  0.09177913,  0.07860731,  0.09177913,\n",
       "           0.08396716],\n",
       "         [ 0.11948424,  0.13950571,  0.11948424,  0.13950571,\n",
       "           0.12763107]]],\n",
       "\n",
       "\n",
       "       [[[-0.35377244, -0.49655858, -0.40823312, -0.40325273,\n",
       "          -0.30588459],\n",
       "         [-0.44812388, -0.62899019, -0.51710797, -0.5107983 ,\n",
       "          -0.38746419],\n",
       "         [-0.31691514, -0.44482463, -0.36570106, -0.36123889,\n",
       "          -0.27401635]],\n",
       "\n",
       "        [[-0.36751088, -0.5917013 , -0.45615996, -0.45976887,\n",
       "          -0.33022007],\n",
       "         [-0.26657306, -0.42917262, -0.33085645, -0.3334859 ,\n",
       "          -0.23952486],\n",
       "         [-0.41890628, -0.67445011, -0.51995377, -0.52406668,\n",
       "          -0.37640042]]],\n",
       "\n",
       "\n",
       "       [[[-0.05059394, -0.04109826, -0.03776089, -0.04352033,\n",
       "          -0.03776089],\n",
       "         [-0.06694956, -0.05438455, -0.04996811, -0.05758984,\n",
       "          -0.04996811],\n",
       "         [-0.0496192 , -0.04030636, -0.03703335, -0.0426817 ,\n",
       "          -0.03703335]],\n",
       "\n",
       "        [[-0.07262366, -0.05651694, -0.06308552, -0.07365627,\n",
       "          -0.06308552],\n",
       "         [-0.05206022, -0.04051441, -0.0452233 , -0.05280094,\n",
       "          -0.0452233 ],\n",
       "         [-0.07842891, -0.06103474, -0.06812844, -0.07954417,\n",
       "          -0.06812844]]],\n",
       "\n",
       "\n",
       "       [[[-0.04254125, -0.02681498, -0.04370003, -0.036473  ,\n",
       "          -0.03607007],\n",
       "         [-0.05670617, -0.03574352, -0.05825082, -0.04861738,\n",
       "          -0.04808033],\n",
       "         [-0.04944225, -0.03116501, -0.0507887 , -0.04238965,\n",
       "          -0.04192094]],\n",
       "\n",
       "        [[-0.0648238 , -0.03970101, -0.08484148, -0.06379159,\n",
       "          -0.06687297],\n",
       "         [-0.05171728, -0.03167432, -0.0676943 , -0.05089892,\n",
       "          -0.05335832],\n",
       "         [-0.06773116, -0.04148244, -0.08866339, -0.06666563,\n",
       "          -0.06988781]]],\n",
       "\n",
       "\n",
       "       [[[-0.03479096, -0.04010081, -0.02751602, -0.04483865,\n",
       "          -0.03742539],\n",
       "         [-0.04859302, -0.05600821, -0.03843213, -0.06262782,\n",
       "          -0.05227298],\n",
       "         [-0.03344047, -0.03854049, -0.0264483 , -0.0431015 ,\n",
       "          -0.03597397]],\n",
       "\n",
       "        [[-0.05780746, -0.06749406, -0.03666308, -0.07834202,\n",
       "          -0.05890451],\n",
       "         [-0.04241016, -0.04951714, -0.02689954, -0.05747506,\n",
       "          -0.04321476],\n",
       "         [-0.06370835, -0.07438567, -0.04041354, -0.08633826,\n",
       "          -0.06491634]]],\n",
       "\n",
       "\n",
       "       [[[-0.3687474 , -0.51751199, -0.4589932 , -0.32017286,\n",
       "          -0.31881964],\n",
       "         [-0.44932888, -0.63060206, -0.55929503, -0.39013877,\n",
       "          -0.38849045],\n",
       "         [-0.31014013, -0.4352612 , -0.3860434 , -0.26928647,\n",
       "          -0.26814778]],\n",
       "\n",
       "        [[-0.36122097, -0.58153036, -0.51754537, -0.33391938,\n",
       "          -0.32459234],\n",
       "         [-0.25520722, -0.41085457, -0.365647  , -0.2359096 ,\n",
       "          -0.22932876],\n",
       "         [-0.41638549, -0.67033598, -0.5965781 , -0.3849062 ,\n",
       "          -0.37416318]]]])"
      ]
     },
     "execution_count": 112,
     "metadata": {},
     "output_type": "execute_result"
    }
   ],
   "source": [
    "np.transpose(np.transpose(dL_dA,(0,1,3,2))@dAttention_dSoftmax@Kval,(0,1,3,2))@np.transpose(Vval,(0,1,3,2))@inputs/np.sqrt(dk)"
   ]
  },
  {
   "cell_type": "code",
   "execution_count": null,
   "id": "dab612f0-689a-44de-9d77-661850e4f844",
   "metadata": {},
   "outputs": [],
   "source": [
    "I=np.repeat(inputs, num_head, axis=0).reshape(num_prases,num_head,words_per_phrase,word2vec_len)\n",
    "\n",
    "dLoss_dQ=np.transpose(np.transpose(dL_dA,(0,1,3,2))@softmax_derivative@Kval,(0,1,3,2))@np.transpose(Vval,(0,1,3,2))@I/np.sqrt(dk)\n",
    "dLoss_dQ=np.transpose(np.mean(dLoss_dQ,axis=0),(0,2,1)).shape\n",
    "\n",
    "dLoss_dK=np.transpose(np.transpose(dL_dA,(0,1,3,2))@softmax_derivative@Qval,(0,1,3,2))@np.transpose(Vval,(0,1,3,2))@I/np.sqrt(dk)\n",
    "dLoss_dK=np.transpose(np.mean(dLoss_dK,axis=0),(0,2,1)).shape"
   ]
  },
  {
   "cell_type": "code",
   "execution_count": null,
   "id": "b22e221f-b40e-4b6c-87bc-c33783aea24d",
   "metadata": {},
   "outputs": [],
   "source": []
  },
  {
   "cell_type": "code",
   "execution_count": 137,
   "id": "e59af831-f34e-41a6-a788-0d8f771ec093",
   "metadata": {},
   "outputs": [],
   "source": []
  },
  {
   "cell_type": "code",
   "execution_count": 52,
   "id": "2375a181-798d-4cb1-b14a-ccd84db5e9ac",
   "metadata": {},
   "outputs": [
    {
     "name": "stdout",
     "output_type": "stream",
     "text": [
      "dQKscaled_dK shape: (9, 2, 5, 6, 3)\n",
      "dQKscaled_dQ shape: (9, 2, 5, 6, 3)\n",
      "dLoss_dQ shape: (2, 6, 3)\n",
      "dLoss_dK shape: (2, 6, 3)\n"
     ]
    }
   ],
   "source": [
    "\n",
    "\n",
    "dQKscaled_dK = np.einsum('nwi,nhwk->nhwik', inputs, Qval) / np.sqrt(dk)\n",
    "dQKscaled_dQ = np.einsum('nwi,nhwk->nhwik', inputs, Kval) / np.sqrt(dk)\n",
    "\n",
    "# Calculate dAttention_dSoftmax\n",
    "dAttention_dSoftmax = Attention_weights * (1 - Attention_weights)\n",
    "\n",
    "# Calculate dLoss_dQ\n",
    "dLoss_dQ = np.einsum('nhwv,nhwx,nhwik,nhwv->nhik', \n",
    "                     dL_dA, \n",
    "                     dAttention_dSoftmax, \n",
    "                     dQKscaled_dQ, \n",
    "                     Vval) / np.sqrt(dk)\n",
    "\n",
    "# Average over the batch dimension\n",
    "dLoss_dQ = np.mean(dLoss_dQ, axis=0)\n",
    "\n",
    "print(\"dQKscaled_dK shape:\", dQKscaled_dK.shape)\n",
    "print(\"dQKscaled_dQ shape:\", dQKscaled_dQ.shape)\n",
    "print(\"dLoss_dQ shape:\", dLoss_dQ.shape)\n",
    "# Gradient of QKscaled with respect to K\n",
    "dQKscaled_dK = np.einsum('nwi,nhwk->nhwik', inputs, Qval) / np.sqrt(dk)\n",
    "\n",
    "# Calculate dAttention_dSoftmax\n",
    "dAttention_dSoftmax = Attention_weights * (1 - Attention_weights)\n",
    "\n",
    "# Calculate dLoss_dK\n",
    "dLoss_dK = np.einsum('nhwv,nhwx,nhwik,nhwv->nhik', \n",
    "                     dL_dA, \n",
    "                     dAttention_dSoftmax, \n",
    "                     dQKscaled_dK, \n",
    "                     Vval) / np.sqrt(dk)\n",
    "\n",
    "# Average over the batch dimension\n",
    "dLoss_dK = np.mean(dLoss_dK, axis=0)\n",
    "\n",
    "print(\"dLoss_dK shape:\", dLoss_dK.shape)\n",
    "learning_rate = 0.001\n",
    "Q -= learning_rate * dLoss_dQ\n",
    "K -= learning_rate * dLoss_dK\n",
    "V -= learning_rate * dLoss_dV\n",
    "linearlayer -= learning_rate * d_linear\n",
    "linear_bias -= learning_rate * d_bias"
   ]
  },
  {
   "cell_type": "code",
   "execution_count": 1,
   "id": "77f6790c-9d32-4591-9fd8-33708a38f671",
   "metadata": {},
   "outputs": [
    {
     "data": {
      "text/plain": [
       "((1713,), (512,), (1713, 5), (512, 5))"
      ]
     },
     "execution_count": 1,
     "metadata": {},
     "output_type": "execute_result"
    }
   ],
   "source": [
    "import sys\n",
    "sys.path.append('c:\\\\python312\\\\lib\\\\site-packages')\n",
    "from sklearn.model_selection import train_test_split\n",
    "import numpy as np\n",
    "from tqdm import tqdm \n",
    "import pickle\n",
    "import spacy\n",
    "import numpy as np\n",
    "import pandas as pd\n",
    "from tqdm import tqdm\n",
    " \n",
    "\n",
    "df=pd.read_csv(\"data/bbc-text.csv\")\n",
    "nlp = spacy.load('en_core_web_lg')\n",
    "with open('data/InputProcessed.pkl', 'rb') as f:\n",
    "    X = pickle.load(f)\n",
    "\n",
    "y = np.array(pd.get_dummies(df[\"category\"], dtype=int))\n",
    "X_train, X_test, y_train, y_test = train_test_split(\n",
    "    X, y, test_size=0.23, random_state=42)\n",
    "X_train.shape,X_test.shape,y_train.shape,y_test.shape"
   ]
  },
  {
   "cell_type": "code",
   "execution_count": 182,
   "id": "ecf65905-8a08-4d34-9890-d4944fa33225",
   "metadata": {},
   "outputs": [
    {
     "data": {
      "text/plain": [
       "8.0"
      ]
     },
     "execution_count": 182,
     "metadata": {},
     "output_type": "execute_result"
    }
   ],
   "source": [
    "y_test.shape[0]/batch_size"
   ]
  },
  {
   "cell_type": "code",
   "execution_count": null,
   "id": "9f24d1fc-4977-4af2-9dd8-e141d7f0ff8d",
   "metadata": {},
   "outputs": [],
   "source": [
    "Qval = np.repeat(inputs, num_head, axis=0).reshape(num_prases,num_head,words_per_phrase,word2vec_len)@Q\n",
    "print(\"Qval.shape: \",Qval.shape)\n",
    "\n",
    "Kval = np.repeat(inputs, num_head, axis=0).reshape(num_prases,num_head,words_per_phrase,word2vec_len)@K\n",
    "print(\"Kval.shape: \",Kval.shape)\n",
    "\n",
    "\n",
    "Vval = np.repeat(inputs, num_head, axis=0).reshape(num_prases,num_head,words_per_phrase,word2vec_len)@V\n",
    "print(\"Vval.shape: \",Vval.shape)"
   ]
  },
  {
   "cell_type": "code",
   "execution_count": 4,
   "id": "7afd0a1b-1bb8-4ef9-8afc-65ddd56ce31b",
   "metadata": {},
   "outputs": [],
   "source": [
    "class QKVMultiHeadsAttentionClassifier:\n",
    "    def __init__(self, word_len, words_per_phrase,num_heads, batch_size, dk, dv, num_classes):\n",
    "\n",
    "        self.word_len = word_len\n",
    "        self.batch_size = batch_size\n",
    "        self.dk = dk\n",
    "        self.dv = dv\n",
    "        self.num_heads = num_heads\n",
    "        self.num_classes = num_classes\n",
    "        self.words_per_phrase = words_per_phrase\n",
    "\n",
    "        # Initialize weights with Xavier/Glorot initialization\n",
    "        self.Q = np.random.randn(self.num_heads, self.word_len, self.dk) / np.sqrt(self.word_len)  # * 0.01\n",
    "        self.K = np.random.randn(self.num_heads, self.word_len, self.dk) / np.sqrt(self.word_len)  # * 0.01\n",
    "        self.V = np.random.randn(self.num_heads, self.word_len, self.dv) / np.sqrt(self.word_len)  # * 0.01\n",
    "\n",
    "        # Initialize linear layer weights\n",
    "        self.linearlayer = np.random.randn(self.dv*self.num_heads, self.num_classes) / np.sqrt(self.dk)\n",
    "        self.linear_bias = np.zeros(self.num_classes)\n",
    "\n",
    "    def softmax(self, x, axis=-1):\n",
    "        x = np.clip(x, -1e4, 1e4)  # Clip for numerical stability\n",
    "        e_x = np.exp(x - np.max(x, axis=axis, keepdims=True))\n",
    "        softmax_result= e_x / np.sum(e_x, axis=axis, keepdims=True)\n",
    "        #print(\"Softmax result shape:\", softmax_result.shape)\n",
    "        return softmax_result\n",
    "\n",
    "    def cross_entropy_loss(self, predictions, target):\n",
    "        # Cross-entropy loss for a batch of predictions and targets\n",
    "        batch_loss = -np.sum(target * np.log(predictions + 1e-9), axis=1)\n",
    "        mean_loss = np.mean(batch_loss)\n",
    "        #print(\"Cross-entropy loss:\", mean_loss)\n",
    "        return mean_loss\n",
    "\n",
    "    def MultiHeadsAttention(self, Inputs):\n",
    "        self.Qval = np.repeat(Inputs, self.num_heads, axis=0).reshape(self.batch_size,self.num_heads,self.words_per_phrase,self.word_len)@self.Q\n",
    "        self.Kval = np.repeat(Inputs, self.num_heads, axis=0).reshape(self.batch_size,self.num_heads,self.words_per_phrase,self.word_len)@self.K\n",
    "        self.Vval = np.repeat(Inputs, self.num_heads, axis=0).reshape(self.batch_size,self.num_heads,self.words_per_phrase,self.word_len)@self.V\n",
    "        #print(\"Qval shape:\", self.Qval.shape)\n",
    "        #print(\"Kval shape:\", self.Kval.shape)\n",
    "        #print(\"Vval shape:\", self.Vval.shape)\n",
    "\n",
    "        QKscaled = np.matmul(self.Qval, np.transpose(self.Kval, (0, 1, 3, 2))) / np.sqrt(self.dk)\n",
    "        #print(\"QKscaled shape:\", QKscaled.shape)\n",
    "\n",
    "        self.Attention_weights = self.softmax(QKscaled)\n",
    "        #print(\"Attention_weights shape:\", self.Attention_weights.shape)\n",
    "\n",
    "        Attention_output = np.matmul(self.Attention_weights, self.Vval)\n",
    "        #print(\"Attention output shape:\", Attention_output.shape)\n",
    "\n",
    "        return Attention_output\n",
    "\n",
    "    def LinearLayer(self):\n",
    "        output = np.matmul(self.phrase_representation, self.linearlayer) + self.linear_bias\n",
    "        #print(\"Linear layer output shape:\", output.shape)\n",
    "        return output\n",
    "\n",
    "    def forward(self, Inputs):\n",
    "\n",
    "        Attention = self.MultiHeadsAttention(Inputs)\n",
    "        \n",
    "        self.phrase_representation = np.mean(Attention, axis=2)\n",
    "        #print(\"Phrase representation shape before reshaping:\", self.phrase_representation.shape)\n",
    "\n",
    "        self.phrase_representation = self.phrase_representation.reshape(self.batch_size, self.dv * self.num_heads)\n",
    "        #print(\"Phrase representation shape after reshaping:\", self.phrase_representation.shape)\n",
    "\n",
    "        Zout = self.LinearLayer()\n",
    "        Sigma_Zout = self.softmax(Zout)\n",
    "        #print(\"Sigma_Zout shape:\", Sigma_Zout.shape)\n",
    "\n",
    "        return Sigma_Zout\n",
    "       \n",
    "\n",
    "    def BackPropagation(self, dLoss_dSigma_Zout, inputs):\n",
    "\n",
    "        # Gradient for linear layer\n",
    "        dlinear_dW = np.dot(dLoss_dSigma_Zout.T, self.phrase_representation).T\n",
    "        #print(\"dlinear_dW shape:\", dlinear_dW.shape)\n",
    "\n",
    "        # Gradient for bias\n",
    "        d_bias = np.sum(dLoss_dSigma_Zout, axis=0)\n",
    "        #print(\"d_bias shape:\", d_bias.shape)\n",
    "\n",
    "        # Gradient for phrase representation\n",
    "        d_phrase_rep = np.dot(dLoss_dSigma_Zout, self.linearlayer.T)\n",
    "        #print(\"d_phrase_rep shape:\", d_phrase_rep.shape)\n",
    "\n",
    "        # Gradient for attention\n",
    "        dL_dA = np.array([np.outer(np.ones(inputs.shape[1]), d_phrase_rep[i, :]) for i in range(d_phrase_rep.shape[0])]) / inputs.shape[1]\n",
    "        dL_dA = dL_dA.reshape(self.batch_size, self.num_heads, self.words_per_phrase, self.dv)\n",
    "        #print(\"dL_dA shape:\", dL_dA.shape)\n",
    "\n",
    "        # Gradient for V\n",
    "        d_Vval = np.matmul(np.transpose(dL_dA, (0, 1, 3, 2)), self.Attention_weights)\n",
    "        dLoss_dV = np.transpose(np.mean(np.matmul(d_Vval, inputs.reshape(self.batch_size, 1, self.words_per_phrase, inputs.shape[2])), axis=0), (0, 2, 1))\n",
    "        #print(\"dLoss_dV shape:\", dLoss_dV.shape)\n",
    "\n",
    "        # Gradient of softmax\n",
    "        dAttention_dSoftmax = self.Attention_weights * (1 - self.Attention_weights)\n",
    "        #print(\"dAttention_dSoftmax shape:\", dAttention_dSoftmax.shape)\n",
    "\n",
    "\n",
    " \n",
    "        I=np.repeat(inputs, self.num_heads, axis=0).reshape(self.batch_size,self.num_heads,self.words_per_phrase,self.word_len)\n",
    "        # Compute dLoss_dQ\n",
    "        dLoss_dQ=np.transpose(np.transpose(dL_dA,(0,1,3,2))@dAttention_dSoftmax@self.Kval,(0,1,3,2))@np.transpose(self.Vval,(0,1,3,2))@I/np.sqrt(self.dk)\n",
    "        dLoss_dQ=np.transpose(np.mean(dLoss_dQ,axis=0),(0,2,1)) \n",
    "        #print(\"dLoss_dQ shape:\", dLoss_dQ.shape)\n",
    "\n",
    "        # Gradient of K\n",
    "        dLoss_dK=np.transpose(np.transpose(dL_dA,(0,1,3,2))@dAttention_dSoftmax@self.Qval,(0,1,3,2))@np.transpose(self.Vval,(0,1,3,2))@I/np.sqrt(self.dk)\n",
    "        dLoss_dK=np.transpose(np.mean(dLoss_dK,axis=0),(0,2,1)) \n",
    "        #print(\"dLoss_dK shape:\", dLoss_dK.shape)\n",
    "\n",
    "        # Gradient clipping\n",
    "        clip_value = 15.0\n",
    "        dLoss_dQ = np.clip(dLoss_dQ, -clip_value, clip_value)\n",
    "        dLoss_dK = np.clip(dLoss_dK, -clip_value, clip_value)\n",
    "        dLoss_dV = np.clip(dLoss_dV, -clip_value, clip_value)\n",
    "        dlinear_dW = np.clip(dlinear_dW, -clip_value, clip_value)\n",
    "        d_bias = np.clip(d_bias, -clip_value, clip_value)\n",
    "\n",
    "        self.UpdateParams(dLoss_dQ, dLoss_dK, dLoss_dV, dlinear_dW, d_bias)\n",
    "\n",
    "    def UpdateParams(self, dLoss_dQ, dLoss_dK, dLoss_dV, dlinear_dW, d_bias):\n",
    "        self.Q -= self.learning_rate * dLoss_dQ\n",
    "        self.K -= self.learning_rate * dLoss_dK\n",
    "        self.V -= self.learning_rate * dLoss_dV\n",
    "        self.linearlayer -= self.learning_rate * dlinear_dW\n",
    "        self.linear_bias -= self.learning_rate * d_bias\n",
    "\n",
    "    def train(self, X_train, y_train, num_epochs, learning_rate=0.01):\n",
    "\n",
    "        self.learning_rate = learning_rate\n",
    "\n",
    "        for epoch in range(num_epochs):\n",
    "\n",
    "            total_loss = 0\n",
    "\n",
    "            num_batches_per_epoch = len(X_train) // self.batch_size\n",
    "\n",
    "            for i in tqdm(range(num_batches_per_epoch), desc=f\"Epoch {epoch + 1}/{num_epochs}\"):\n",
    "                start = i * self.batch_size\n",
    "                end = start + self.batch_size\n",
    "                X_batch = X_train[start:end]\n",
    "                y_batch = y_train[start:end]\n",
    "                \n",
    "                yi = self.forward(X_batch)\n",
    "\n",
    "                Loss = self.cross_entropy_loss(yi, y_batch)\n",
    "                total_loss += Loss\n",
    "\n",
    "                dLoss_dSigma_Zout = yi - y_batch\n",
    "\n",
    "                self.BackPropagation(dLoss_dSigma_Zout, X_batch)\n",
    "\n",
    "            print(f\"Epoch {epoch + 1}/{num_epochs}, Loss: {(total_loss / num_batches_per_epoch):.4f}\")\n",
    "\n",
    "    def predict(self, X):\n",
    "        return self.forward(X)"
   ]
  },
  {
   "cell_type": "code",
   "execution_count": null,
   "id": "f916e46f-2964-47fc-9870-fb7a98d2bc59",
   "metadata": {},
   "outputs": [],
   "source": []
  },
  {
   "cell_type": "code",
   "execution_count": null,
   "id": "843acf5a-5068-4332-8093-e9680c7993d0",
   "metadata": {},
   "outputs": [],
   "source": []
  },
  {
   "cell_type": "code",
   "execution_count": 6,
   "id": "6dc61562-feda-429a-bc15-db2b31b73639",
   "metadata": {
    "scrolled": true
   },
   "outputs": [
    {
     "name": "stderr",
     "output_type": "stream",
     "text": [
      "Epoch 1/10: 100%|██████████████████████████████████████████████████████████████████████| 26/26 [00:03<00:00,  7.53it/s]\n"
     ]
    },
    {
     "name": "stdout",
     "output_type": "stream",
     "text": [
      "Epoch 1/10, Loss: 4.3535\n"
     ]
    },
    {
     "name": "stderr",
     "output_type": "stream",
     "text": [
      "Epoch 2/10: 100%|██████████████████████████████████████████████████████████████████████| 26/26 [00:03<00:00,  6.96it/s]\n"
     ]
    },
    {
     "name": "stdout",
     "output_type": "stream",
     "text": [
      "Epoch 2/10, Loss: 2.7495\n"
     ]
    },
    {
     "name": "stderr",
     "output_type": "stream",
     "text": [
      "Epoch 3/10: 100%|██████████████████████████████████████████████████████████████████████| 26/26 [00:03<00:00,  7.10it/s]\n"
     ]
    },
    {
     "name": "stdout",
     "output_type": "stream",
     "text": [
      "Epoch 3/10, Loss: 1.7227\n"
     ]
    },
    {
     "name": "stderr",
     "output_type": "stream",
     "text": [
      "Epoch 4/10: 100%|██████████████████████████████████████████████████████████████████████| 26/26 [00:03<00:00,  7.24it/s]\n"
     ]
    },
    {
     "name": "stdout",
     "output_type": "stream",
     "text": [
      "Epoch 4/10, Loss: 1.0273\n"
     ]
    },
    {
     "name": "stderr",
     "output_type": "stream",
     "text": [
      "Epoch 5/10: 100%|██████████████████████████████████████████████████████████████████████| 26/26 [00:03<00:00,  7.85it/s]\n"
     ]
    },
    {
     "name": "stdout",
     "output_type": "stream",
     "text": [
      "Epoch 5/10, Loss: 0.6788\n"
     ]
    },
    {
     "name": "stderr",
     "output_type": "stream",
     "text": [
      "Epoch 6/10: 100%|██████████████████████████████████████████████████████████████████████| 26/26 [00:03<00:00,  8.17it/s]\n"
     ]
    },
    {
     "name": "stdout",
     "output_type": "stream",
     "text": [
      "Epoch 6/10, Loss: 0.5483\n"
     ]
    },
    {
     "name": "stderr",
     "output_type": "stream",
     "text": [
      "Epoch 7/10: 100%|██████████████████████████████████████████████████████████████████████| 26/26 [00:03<00:00,  7.98it/s]\n"
     ]
    },
    {
     "name": "stdout",
     "output_type": "stream",
     "text": [
      "Epoch 7/10, Loss: 0.4596\n"
     ]
    },
    {
     "name": "stderr",
     "output_type": "stream",
     "text": [
      "Epoch 8/10: 100%|██████████████████████████████████████████████████████████████████████| 26/26 [00:03<00:00,  8.35it/s]\n"
     ]
    },
    {
     "name": "stdout",
     "output_type": "stream",
     "text": [
      "Epoch 8/10, Loss: 0.4165\n"
     ]
    },
    {
     "name": "stderr",
     "output_type": "stream",
     "text": [
      "Epoch 9/10: 100%|██████████████████████████████████████████████████████████████████████| 26/26 [00:03<00:00,  8.09it/s]\n"
     ]
    },
    {
     "name": "stdout",
     "output_type": "stream",
     "text": [
      "Epoch 9/10, Loss: 0.3797\n"
     ]
    },
    {
     "name": "stderr",
     "output_type": "stream",
     "text": [
      "Epoch 10/10: 100%|█████████████████████████████████████████████████████████████████████| 26/26 [00:03<00:00,  8.18it/s]"
     ]
    },
    {
     "name": "stdout",
     "output_type": "stream",
     "text": [
      "Epoch 10/10, Loss: 0.3465\n"
     ]
    },
    {
     "name": "stderr",
     "output_type": "stream",
     "text": [
      "\n"
     ]
    }
   ],
   "source": [
    "def pad_sequences(sequences, max_len):\n",
    "    padded_sequences = np.zeros((len(sequences), max_len, sequences[0].shape[1]))\n",
    "    for i, seq in enumerate(sequences):\n",
    "        length = min(seq.shape[0], max_len)\n",
    "        padded_sequences[i, :length] = seq[:length]\n",
    "    return padded_sequences\n",
    "\n",
    "word_len = 300\n",
    "max_words_per_phrase=50\n",
    "dk = 16\n",
    "dv = 32\n",
    "batch_size = 64\n",
    "num_classes = 5\n",
    "num_head=3\n",
    "\n",
    "# padding and truncating phrases to max phrase lenght\n",
    "X_train_padded = pad_sequences(X_train, max_words_per_phrase)\n",
    "\n",
    "\n",
    "\n",
    "model = QKVAttentionClassifier(word_len, max_words_per_phrase,num_head, batch_size, dk, dv, num_classes)\n",
    "model.train(X_train_padded, y_train, num_epochs=10, learning_rate=0.001)"
   ]
  },
  {
   "cell_type": "code",
   "execution_count": 7,
   "id": "2912968d-4d61-402e-ad80-2befbfff6956",
   "metadata": {},
   "outputs": [
    {
     "data": {
      "image/png": "[encoded data removed]",
      "text/plain": [
       "<Figure size 800x600 with 2 Axes>"
      ]
     },
     "metadata": {},
     "output_type": "display_data"
    },
    {
     "name": "stdout",
     "output_type": "stream",
     "text": [
      "Weighted F1 Score: 0.8667\n",
      "F1 Score for class 0: 0.8571\n",
      "F1 Score for class 1: 0.8642\n",
      "F1 Score for class 2: 0.8187\n",
      "F1 Score for class 3: 0.9292\n",
      "F1 Score for class 4: 0.8543\n",
      "Number of predictions: 512\n",
      "Number of true labels: 512\n"
     ]
    }
   ],
   "source": [
    "import numpy as np\n",
    "from sklearn.metrics import confusion_matrix, f1_score\n",
    "import seaborn as sns\n",
    "import matplotlib.pyplot as plt\n",
    "\n",
    "# Assuming X_test is already padded\n",
    "X_test = pad_sequences(X_test, max_words_per_phrase)\n",
    "\n",
    "# Initialize an empty array for predictions\n",
    "all_predictions = []\n",
    "\n",
    "# Process X_test in batches of 64\n",
    "batch_size = 64\n",
    "for i in range(0, len(X_test), batch_size):\n",
    "    batch = X_test[i:i+batch_size]\n",
    "   \n",
    "    batch_predictions = model.predict(batch)\n",
    "    all_predictions.append(batch_predictions)\n",
    "\n",
    "# Concatenate all batch predictions\n",
    "predictions = np.concatenate(all_predictions, axis=0)\n",
    "\n",
    "# Get the predicted classes\n",
    "y_pred = np.argmax(predictions, axis=1)\n",
    "\n",
    "# Convert one-hot encoded true labels to class labels for the entire y_test\n",
    "y_true = np.argmax(y_test[0:len(predictions)], axis=1)\n",
    "\n",
    "# Compute confusion matrix\n",
    "cm = confusion_matrix(y_true, y_pred, labels=np.arange(5))\n",
    "\n",
    "# Visualize the confusion matrix\n",
    "plt.figure(figsize=(8, 6))\n",
    "sns.heatmap(cm, annot=True, fmt='d', cmap='Blues', xticklabels=np.arange(5), yticklabels=np.arange(5))\n",
    "plt.xlabel('Predicted Label')\n",
    "plt.ylabel('True Label')\n",
    "plt.title('Confusion Matrix')\n",
    "plt.show()\n",
    "\n",
    "# Calculate F1 score\n",
    "f1 = f1_score(y_true, y_pred, average='weighted')\n",
    "print(f\"Weighted F1 Score: {f1:.4f}\")\n",
    "\n",
    "# If you want to see individual F1 scores for each class\n",
    "f1_per_class = f1_score(y_true, y_pred, average=None)\n",
    "for i, score in enumerate(f1_per_class):\n",
    "    print(f\"F1 Score for class {i}: {score:.4f}\")\n",
    "\n",
    "# Print the number of predictions to verify\n",
    "print(f\"Number of predictions: {len(y_pred)}\")\n",
    "print(f\"Number of true labels: {len(y_true)}\")"
   ]
  },
  {
   "cell_type": "code",
   "execution_count": 8,
   "id": "da8c1177-b396-4077-b1c6-0187fb5e66dd",
   "metadata": {},
   "outputs": [
    {
     "data": {
      "text/plain": [
       "array([0.85714286, 0.86419753, 0.81871345, 0.92920354, 0.85427136])"
      ]
     },
     "execution_count": 8,
     "metadata": {},
     "output_type": "execute_result"
    }
   ],
   "source": [
    "f1_score(y_pred,y_true,average=None)"
   ]
  },
  {
   "cell_type": "code",
   "execution_count": 210,
   "id": "4ca2fb80-bac8-4f4b-909f-955195588a1e",
   "metadata": {},
   "outputs": [
    {
     "data": {
      "text/plain": [
       "array([0.76806084, 0.74025974, 0.73626374, 0.89380531, 0.7638191 ])"
      ]
     },
     "execution_count": 210,
     "metadata": {},
     "output_type": "execute_result"
    }
   ],
   "source": [
    "f1_score(y_pred,y_true,average=None)"
   ]
  },
  {
   "cell_type": "code",
   "execution_count": 213,
   "id": "9f2c27d1-7d09-4d44-87d6-d5fd796f377f",
   "metadata": {},
   "outputs": [
    {
     "data": {
      "text/plain": [
       "array([0.808     , 0.76190476, 0.8       , 0.88311688, 0.81052632])"
      ]
     },
     "execution_count": 213,
     "metadata": {},
     "output_type": "execute_result"
    }
   ],
   "source": [
    "f1_score(y_pred,y_true,average=None)"
   ]
  },
  {
   "cell_type": "code",
   "execution_count": 216,
   "id": "7aa2e429-18b8-4569-9b67-5d0c92932d57",
   "metadata": {},
   "outputs": [
    {
     "data": {
      "text/plain": [
       "array([0.82071713, 0.7816092 , 0.83937824, 0.89686099, 0.80874317])"
      ]
     },
     "execution_count": 216,
     "metadata": {},
     "output_type": "execute_result"
    }
   ],
   "source": [
    "f1_score(y_pred,y_true,average=None)"
   ]
  },
  {
   "cell_type": "code",
   "execution_count": 219,
   "id": "0d45d6f8-be94-4652-9b97-4ff464f258b3",
   "metadata": {},
   "outputs": [
    {
     "data": {
      "text/plain": [
       "array([0.83464567, 0.82634731, 0.78974359, 0.88596491, 0.88888889])"
      ]
     },
     "execution_count": 219,
     "metadata": {},
     "output_type": "execute_result"
    }
   ],
   "source": [
    "f1_score(y_pred,y_true,average=None)"
   ]
  },
  {
   "cell_type": "code",
   "execution_count": null,
   "id": "89b3f1d1-6461-4c95-bfce-3b54a020f5fe",
   "metadata": {},
   "outputs": [],
   "source": []
  }
 ],
 "metadata": {
  "kernelspec": {
   "display_name": "Python 3 (ipykernel)",
   "language": "python",
   "name": "python3"
  },
  "language_info": {
   "codemirror_mode": {
    "name": "ipython",
    "version": 3
   },
   "file_extension": ".py",
   "mimetype": "text/x-python",
   "name": "python",
   "nbconvert_exporter": "python",
   "pygments_lexer": "ipython3",
   "version": "3.12.2"
  }
 },
 "nbformat": 4,
 "nbformat_minor": 5
}
