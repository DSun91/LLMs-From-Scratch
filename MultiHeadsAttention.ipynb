{
 "cells": [
  {
   "cell_type": "markdown",
   "id": "c9b3f3e9",
   "metadata": {},
   "source": [
    "# Multi-Head Attention from Scratch Using CuPy\n",
    "\n",
    "In this notebook, we will implement the **Multi-Head Attention** mechanism from scratch using **CuPy**, a GPU-accelerated library similar to NumPy. The multi-head attention mechanism is a key component of the Transformer model, enabling it to attend to different parts of the input simultaneously.\n",
    "\n",
    "---\n",
    "\n",
    "## 1. Overview of Multi-Head Attention\n",
    "\n",
    "Multi-head attention allows the model to have multiple attention \"heads,\" each of which focuses on different parts of the input sequence. Each head computes its own attention values, and the results are concatenated and transformed into the final output.\n",
    "\n",
    "The steps involved in multi-head attention:\n",
    "- **Linear transformations**: Apply learned weight matrices to the queries (Q), keys (K), and values (V).\n",
    "- **Scaled Dot-Product Attention**: For each head, compute the attention scores and apply them to the values.\n",
    "- **Concatenation**: Concatenate the outputs from all heads.\n",
    "- **Final Linear Transformation**: Apply a final linear transformation to the concatenated output.\n",
    "\n",
    "Mathematically, the output of the multi-head attention mechanism can be written as:\n",
    "\n",
    "$$\n",
    "\\text{MultiHead}(Q, K, V) = \\text{Concat}(\\text{head}_1, \\dots, \\text{head}_h)W^O\n",
    "$$\n",
    "where each attention head is computed as:\n",
    "\n",
    "$$\n",
    "\\text{head}_i = \\text{Attention}(QW_i^Q, KW_i^K, VW_i^V)\n",
    "$$\n",
    "---\n",
    "\n",
    "## 2. CuPy Setup\n",
    "\n",
    "Before we begin, make sure you have **CuPy** installed. You can install it via:\n",
    "\n",
    "```bash\n",
    "!pip install cupy\n"
   ]
  },
  {
   "cell_type": "code",
   "execution_count": 1,
   "id": "db372a96",
   "metadata": {},
   "outputs": [
    {
     "data": {
      "text/plain": [
       "((3, 7, 10), (10, 8), (10, 8), (10, 8))"
      ]
     },
     "execution_count": 1,
     "metadata": {},
     "output_type": "execute_result"
    }
   ],
   "source": [
    "import sys \n",
    "import numpy as np\n",
    "import re\n",
    "import cupy as cp\n",
    "import pickle\n",
    "import time\n",
    "import numpy as np \n",
    "import jax.numpy as jnp\n",
    "import pandas as pd\n",
    "import numpy as np\n",
    "import jax\n",
    "from tqdm import tqdm\n",
    "from pathlib import Path\n",
    "np.set_printoptions(edgeitems=30, linewidth=100000, formatter=dict(float=lambda x: \"%.3g\" % x)) \n",
    "def softmax(x, axis=-1):\n",
    "    # Subtract the max value for numerical stability\n",
    "    e_x = np.exp(x - np.max(x, axis=axis, keepdims=True))\n",
    "    return e_x / np.sum(e_x, axis=axis, keepdims=True)\n",
    "\n",
    "num_classes=2\n",
    "word2vec_len = 10\n",
    "num_phrases = 3\n",
    "words_per_phrase = 7 \n",
    "dk = dv = 8\n",
    " \n",
    "num_heads=4\n",
    " \n",
    " \n",
    "inputs = np.random.rand(num_phrases,words_per_phrase, word2vec_len)\n",
    "target = softmax(np.random.rand(num_phrases,num_classes))\n",
    "\n",
    "Q = np.random.rand(word2vec_len, dk) / jnp.sqrt(word2vec_len)\n",
    "K = np.random.rand(word2vec_len, dk) / jnp.sqrt(word2vec_len)\n",
    "V = np.random.rand(word2vec_len, dv) / jnp.sqrt(word2vec_len)\n",
    "inputs.shape,Q.shape,K.shape,V.shape"
   ]
  },
  {
   "cell_type": "markdown",
   "id": "26957032",
   "metadata": {},
   "source": [
    "### Consideriamo input formato da 3 frasi composte da 7 parole ciasuna ed ogni parola avente rappresentazione vettoriale di dimensione 10. Mentre vogliamo dopo l'attentione che ogni parola abbia rappresentazione vettoriale di 8 "
   ]
  },
  {
   "cell_type": "code",
   "execution_count": 2,
   "id": "25dd2618",
   "metadata": {},
   "outputs": [
    {
     "data": {
      "text/plain": [
       "array([[[0.242, 0.61, 0.0936, 0.483, 0.58, 0.00754, 0.831, 0.137, 0.233, 0.108],\n",
       "        [0.513, 0.817, 0.873, 0.995, 0.745, 0.264, 0.188, 0.815, 0.471, 0.299],\n",
       "        [0.86, 0.0837, 0.148, 0.718, 0.237, 0.302, 0.0181, 0.676, 0.218, 0.335],\n",
       "        [0.459, 0.45, 0.872, 0.321, 0.0168, 0.722, 0.212, 0.253, 0.361, 0.975],\n",
       "        [0.794, 0.717, 0.111, 0.188, 0.639, 0.325, 0.614, 0.125, 0.604, 0.279],\n",
       "        [0.308, 0.828, 0.988, 0.188, 0.773, 0.489, 0.11, 0.477, 0.142, 0.534],\n",
       "        [0.357, 0.0608, 0.438, 0.429, 0.543, 0.907, 0.356, 0.313, 0.3, 0.193]],\n",
       "\n",
       "       [[0.468, 0.332, 0.491, 0.848, 0.0648, 0.44, 0.86, 0.551, 0.621, 0.751],\n",
       "        [0.711, 0.899, 0.689, 0.779, 0.106, 0.275, 0.0318, 0.161, 0.0841, 0.708],\n",
       "        [0.86, 0.581, 0.934, 0.558, 0.138, 0.312, 0.54, 0.751, 0.0094, 0.316],\n",
       "        [0.359, 0.0142, 0.826, 0.763, 0.45, 0.452, 0.509, 0.864, 0.974, 0.738],\n",
       "        [0.192, 0.369, 0.948, 0.0747, 0.749, 0.342, 0.826, 0.925, 0.216, 0.693],\n",
       "        [0.196, 0.668, 0.241, 0.492, 0.477, 0.63, 0.0317, 0.383, 0.538, 0.209],\n",
       "        [0.283, 0.442, 0.79, 0.38, 0.107, 0.00117, 0.971, 0.818, 0.266, 0.693]],\n",
       "\n",
       "       [[0.687, 0.0709, 0.557, 0.231, 0.201, 0.177, 0.125, 0.505, 0.987, 0.349],\n",
       "        [0.145, 0.987, 0.856, 0.906, 0.357, 0.369, 0.211, 0.527, 0.684, 0.717],\n",
       "        [0.642, 0.209, 0.751, 0.822, 0.296, 0.557, 0.821, 0.881, 0.285, 0.702],\n",
       "        [0.0616, 0.493, 0.978, 0.342, 0.97, 0.399, 0.72, 0.978, 0.298, 0.817],\n",
       "        [0.597, 0.722, 0.766, 0.4, 0.51, 0.437, 0.29, 0.72, 0.463, 0.379],\n",
       "        [0.47, 0.198, 0.752, 0.112, 0.312, 0.592, 0.51, 0.956, 0.773, 0.572],\n",
       "        [0.175, 0.245, 0.597, 0.432, 0.63, 0.479, 0.64, 0.945, 0.419, 0.323]]])"
      ]
     },
     "execution_count": 2,
     "metadata": {},
     "output_type": "execute_result"
    }
   ],
   "source": [
    "inputs# each input phrase is made by 13 words having lenght 15"
   ]
  },
  {
   "cell_type": "code",
   "execution_count": 3,
   "id": "de56657a",
   "metadata": {},
   "outputs": [
    {
     "data": {
      "text/plain": [
       "((3, 7, 10), (10, 8))"
      ]
     },
     "execution_count": 3,
     "metadata": {},
     "output_type": "execute_result"
    }
   ],
   "source": [
    "inputs.shape,Q.shape"
   ]
  },
  {
   "cell_type": "code",
   "execution_count": 4,
   "id": "ed92a667",
   "metadata": {},
   "outputs": [
    {
     "data": {
      "text/plain": [
       "Array([[[0.387, 0.723, 0.607, 0.492, 0.419, 0.662, 0.492, 0.675],\n",
       "        [0.797, 1.46, 1.05, 0.935, 0.61, 1.01, 0.928, 1.15],\n",
       "        [0.619, 0.877, 0.587, 0.517, 0.513, 0.61, 0.471, 0.626],\n",
       "        [0.591, 0.983, 0.844, 0.96, 0.566, 0.508, 0.675, 0.806],\n",
       "        [0.569, 0.97, 0.749, 0.693, 0.678, 0.715, 0.607, 0.812],\n",
       "        [0.53, 1.11, 0.899, 0.891, 0.411, 0.678, 0.64, 0.914],\n",
       "        [0.422, 0.727, 0.613, 0.641, 0.523, 0.512, 0.59, 0.71]],\n",
       "\n",
       "       [[0.697, 1.15, 0.97, 0.961, 0.749, 0.852, 0.828, 1.01],\n",
       "        [0.731, 1.09, 0.815, 0.806, 0.493, 0.621, 0.704, 0.764],\n",
       "        [0.671, 1.13, 0.907, 0.9, 0.52, 0.777, 0.664, 0.812],\n",
       "        [0.723, 1.33, 1, 1.03, 0.782, 0.899, 0.855, 1.16],\n",
       "        [0.481, 1.14, 1.02, 1.01, 0.496, 0.859, 0.56, 1.04],\n",
       "        [0.444, 0.862, 0.674, 0.597, 0.466, 0.595, 0.693, 0.773],\n",
       "        [0.517, 1.06, 0.943, 0.919, 0.485, 0.816, 0.576, 0.89]],\n",
       "\n",
       "       [[0.546, 0.939, 0.605, 0.666, 0.617, 0.542, 0.548, 0.694],\n",
       "        [0.723, 1.37, 1.06, 1.01, 0.604, 0.881, 0.994, 1.14],\n",
       "        [0.75, 1.27, 1.06, 1.05, 0.723, 0.941, 0.792, 1.08],\n",
       "        [0.58, 1.33, 1.15, 1.09, 0.552, 0.992, 0.708, 1.24],\n",
       "        [0.639, 1.22, 0.947, 0.907, 0.582, 0.817, 0.75, 0.969],\n",
       "        [0.539, 1.13, 0.933, 0.967, 0.659, 0.764, 0.676, 0.972],\n",
       "        [0.47, 1.04, 0.882, 0.814, 0.522, 0.832, 0.647, 0.969]]], dtype=float32)"
      ]
     },
     "execution_count": 4,
     "metadata": {},
     "output_type": "execute_result"
    }
   ],
   "source": [
    "jnp.matmul(inputs, Q) "
   ]
  },
  {
   "cell_type": "markdown",
   "id": "23fedbac",
   "metadata": {},
   "source": [
    "### Avendo fissato il numero di teste per il attezione ogni matrice Qval, Kval, Vval viene suddivisa in 4 parti uguali di 2 colonne. Otteniamo un array di 4 elementi che per ogni frase riportano le prime due colonne come di seguito."
   ]
  },
  {
   "cell_type": "code",
   "execution_count": 5,
   "id": "eef75667",
   "metadata": {},
   "outputs": [
    {
     "data": {
      "text/plain": [
       "4"
      ]
     },
     "execution_count": 5,
     "metadata": {},
     "output_type": "execute_result"
    }
   ],
   "source": [
    "len(jnp.array_split(jnp.matmul(inputs, Q),num_heads,axis=2))"
   ]
  },
  {
   "cell_type": "code",
   "execution_count": 6,
   "id": "d76673db",
   "metadata": {},
   "outputs": [
    {
     "data": {
      "text/plain": [
       "Array([[[0.387, 0.723],\n",
       "        [0.797, 1.46],\n",
       "        [0.619, 0.877],\n",
       "        [0.591, 0.983],\n",
       "        [0.569, 0.97],\n",
       "        [0.53, 1.11],\n",
       "        [0.422, 0.727]],\n",
       "\n",
       "       [[0.697, 1.15],\n",
       "        [0.731, 1.09],\n",
       "        [0.671, 1.13],\n",
       "        [0.723, 1.33],\n",
       "        [0.481, 1.14],\n",
       "        [0.444, 0.862],\n",
       "        [0.517, 1.06]],\n",
       "\n",
       "       [[0.546, 0.939],\n",
       "        [0.723, 1.37],\n",
       "        [0.75, 1.27],\n",
       "        [0.58, 1.33],\n",
       "        [0.639, 1.22],\n",
       "        [0.539, 1.13],\n",
       "        [0.47, 1.04]]], dtype=float32)"
      ]
     },
     "execution_count": 6,
     "metadata": {},
     "output_type": "execute_result"
    }
   ],
   "source": [
    "jnp.array_split(jnp.matmul(inputs, Q),num_heads,axis=2)[0]# so i have basically num_heads chuncks of the Qval this is a list not array structure"
   ]
  },
  {
   "cell_type": "markdown",
   "id": "81b35421",
   "metadata": {},
   "source": [
    "### Ridimensioniamo l'array in modo che ogni frase contenga la lista dei rispettivi attention heads, ottenendo 3 frasi contententi 4 attention heads che hanno dimensione 7 (come il numero di parole per ogni frase) per 2 (fetta di embedding assegnata ad ogni head)"
   ]
  },
  {
   "cell_type": "code",
   "execution_count": 7,
   "id": "34aa11cc",
   "metadata": {},
   "outputs": [
    {
     "data": {
      "text/plain": [
       "(3, 4, 7, 2)"
      ]
     },
     "execution_count": 7,
     "metadata": {},
     "output_type": "execute_result"
    }
   ],
   "source": [
    "jnp.swapaxes(jnp.array(jnp.array_split(jnp.matmul(inputs, Q),num_heads,axis=2)), 0, 1).shape#  # here i actually transform it to a structure Qval\n"
   ]
  },
  {
   "cell_type": "code",
   "execution_count": 8,
   "id": "fd7464e9",
   "metadata": {},
   "outputs": [
    {
     "data": {
      "text/plain": [
       "Array([[[0.387, 0.723],\n",
       "        [0.797, 1.46],\n",
       "        [0.619, 0.877],\n",
       "        [0.591, 0.983],\n",
       "        [0.569, 0.97],\n",
       "        [0.53, 1.11],\n",
       "        [0.422, 0.727]],\n",
       "\n",
       "       [[0.607, 0.492],\n",
       "        [1.05, 0.935],\n",
       "        [0.587, 0.517],\n",
       "        [0.844, 0.96],\n",
       "        [0.749, 0.693],\n",
       "        [0.899, 0.891],\n",
       "        [0.613, 0.641]],\n",
       "\n",
       "       [[0.419, 0.662],\n",
       "        [0.61, 1.01],\n",
       "        [0.513, 0.61],\n",
       "        [0.566, 0.508],\n",
       "        [0.678, 0.715],\n",
       "        [0.411, 0.678],\n",
       "        [0.523, 0.512]],\n",
       "\n",
       "       [[0.492, 0.675],\n",
       "        [0.928, 1.15],\n",
       "        [0.471, 0.626],\n",
       "        [0.675, 0.806],\n",
       "        [0.607, 0.812],\n",
       "        [0.64, 0.914],\n",
       "        [0.59, 0.71]]], dtype=float32)"
      ]
     },
     "execution_count": 8,
     "metadata": {},
     "output_type": "execute_result"
    }
   ],
   "source": [
    "jnp.swapaxes(jnp.array(jnp.array_split(jnp.matmul(inputs, Q),num_heads,axis=2)), 0, 1)[0]# refer to cell jnp.matmul(inputs, Q) "
   ]
  },
  {
   "cell_type": "code",
   "execution_count": 9,
   "id": "60adc1fc-9393-47c0-a181-ed799c4d3b0f",
   "metadata": {
    "scrolled": true
   },
   "outputs": [
    {
     "name": "stdout",
     "output_type": "stream",
     "text": [
      "Qval.shape:  (3, 4, 7, 2)\n",
      "Kval.shape:  (3, 4, 7, 2)\n",
      "Vval.shape:  (3, 4, 7, 2)\n"
     ]
    }
   ],
   "source": [
    "Qval = jnp.swapaxes(jnp.array(jnp.array_split(jnp.matmul(inputs, Q),num_heads,axis=2)), 0, 1)\n",
    "print(\"Qval.shape: \",Qval.shape)\n",
    "\n",
    "Kval = jnp.swapaxes(jnp.array(jnp.array_split(jnp.matmul(inputs, K),num_heads,axis=2)), 0, 1)\n",
    "print(\"Kval.shape: \",Kval.shape)\n",
    "\n",
    "\n",
    "Vval = jnp.swapaxes(jnp.array(jnp.array_split(jnp.matmul(inputs,V),num_heads,axis=2)), 0, 1)\n",
    "print(\"Vval.shape: \",Vval.shape)"
   ]
  },
  {
   "cell_type": "markdown",
   "id": "90b98a1d",
   "metadata": {},
   "source": [
    "### Per calcolare ora i pesi dell'attenzione applichiamo la formua \n",
    "\n",
    "$$\n",
    "  \\frac{QK^T}{\\sqrt{d_k}}\n",
    "  $$"
   ]
  },
  {
   "cell_type": "code",
   "execution_count": 10,
   "id": "b6c38c04",
   "metadata": {},
   "outputs": [
    {
     "data": {
      "text/plain": [
       "(Array([[0.387, 0.723],\n",
       "        [0.797, 1.46],\n",
       "        [0.619, 0.877],\n",
       "        [0.591, 0.983],\n",
       "        [0.569, 0.97],\n",
       "        [0.53, 1.11],\n",
       "        [0.422, 0.727]], dtype=float32),\n",
       " Array([[0.463, 0.444],\n",
       "        [0.526, 0.699],\n",
       "        [0.321, 0.359],\n",
       "        [0.409, 0.725],\n",
       "        [0.514, 0.61],\n",
       "        [0.395, 0.663],\n",
       "        [0.49, 0.448]], dtype=float32))"
      ]
     },
     "execution_count": 10,
     "metadata": {},
     "output_type": "execute_result"
    }
   ],
   "source": [
    "Qval[0][0],Kval[0][0]"
   ]
  },
  {
   "cell_type": "code",
   "execution_count": 11,
   "id": "e02d8827",
   "metadata": {},
   "outputs": [
    {
     "data": {
      "text/plain": [
       "(Array([[0.387, 0.723],\n",
       "        [0.797, 1.46],\n",
       "        [0.619, 0.877],\n",
       "        [0.591, 0.983],\n",
       "        [0.569, 0.97],\n",
       "        [0.53, 1.11],\n",
       "        [0.422, 0.727]], dtype=float32),\n",
       " Array([[0.463, 0.526, 0.321, 0.409, 0.514, 0.395, 0.49],\n",
       "        [0.444, 0.699, 0.359, 0.725, 0.61, 0.663, 0.448]], dtype=float32))"
      ]
     },
     "execution_count": 11,
     "metadata": {},
     "output_type": "execute_result"
    }
   ],
   "source": [
    "Qval[0][0],np.transpose(Kval, (0, 1, 3, 2))[0][0]"
   ]
  },
  {
   "cell_type": "code",
   "execution_count": 12,
   "id": "44bbb725",
   "metadata": {},
   "outputs": [
    {
     "data": {
      "text/plain": [
       "Array([[0.177, 0.25, 0.135, 0.241, 0.226, 0.223, 0.182],\n",
       "       [0.36, 0.509, 0.275, 0.49, 0.46, 0.453, 0.37],\n",
       "       [0.239, 0.332, 0.181, 0.314, 0.302, 0.292, 0.246],\n",
       "       [0.251, 0.353, 0.192, 0.337, 0.32, 0.313, 0.258],\n",
       "       [0.246, 0.345, 0.187, 0.331, 0.313, 0.307, 0.252],\n",
       "       [0.261, 0.373, 0.201, 0.361, 0.336, 0.334, 0.268],\n",
       "       [0.183, 0.258, 0.14, 0.247, 0.234, 0.229, 0.188]], dtype=float32)"
      ]
     },
     "execution_count": 12,
     "metadata": {},
     "output_type": "execute_result"
    }
   ],
   "source": [
    "Qval[0][0]@jnp.transpose(Kval, (0, 1, 3, 2))[0][0]/ jnp.sqrt(dk)"
   ]
  },
  {
   "cell_type": "code",
   "execution_count": 13,
   "id": "35bec325",
   "metadata": {},
   "outputs": [
    {
     "data": {
      "text/plain": [
       "(3, 4, 7, 7)"
      ]
     },
     "execution_count": 13,
     "metadata": {},
     "output_type": "execute_result"
    }
   ],
   "source": [
    "QKscaled = jnp.matmul(Qval, jnp.transpose(Kval, (0, 1, 3, 2))) / jnp.sqrt(dk)\n",
    " \n",
    "QKscaled.shape"
   ]
  },
  {
   "cell_type": "code",
   "execution_count": 14,
   "id": "14f39e4c",
   "metadata": {},
   "outputs": [
    {
     "data": {
      "text/plain": [
       "Array([[0.177, 0.25, 0.135, 0.241, 0.226, 0.223, 0.182],\n",
       "       [0.36, 0.509, 0.275, 0.49, 0.46, 0.453, 0.37],\n",
       "       [0.239, 0.332, 0.181, 0.314, 0.302, 0.292, 0.246],\n",
       "       [0.251, 0.353, 0.192, 0.337, 0.32, 0.313, 0.258],\n",
       "       [0.246, 0.345, 0.187, 0.331, 0.313, 0.307, 0.252],\n",
       "       [0.261, 0.373, 0.201, 0.361, 0.336, 0.334, 0.268],\n",
       "       [0.183, 0.258, 0.14, 0.247, 0.234, 0.229, 0.188]], dtype=float32)"
      ]
     },
     "execution_count": 14,
     "metadata": {},
     "output_type": "execute_result"
    }
   ],
   "source": [
    "QKscaled[0][0]"
   ]
  },
  {
   "cell_type": "code",
   "execution_count": 15,
   "id": "2d505c29",
   "metadata": {},
   "outputs": [
    {
     "name": "stdout",
     "output_type": "stream",
     "text": [
      "Attention_weights shape: (3, 4, 7, 7)\n"
     ]
    }
   ],
   "source": [
    "Attention_weights = softmax(QKscaled)\n",
    "print(\"Attention_weights shape:\",Attention_weights.shape)"
   ]
  },
  {
   "cell_type": "code",
   "execution_count": 16,
   "id": "52a8b7f7",
   "metadata": {},
   "outputs": [
    {
     "name": "stdout",
     "output_type": "stream",
     "text": [
      "Attention shape: (3, 4, 7, 2)\n"
     ]
    }
   ],
   "source": [
    "Attention = jnp.matmul(Attention_weights, Vval)\n",
    "print(\"Attention shape:\",Attention.shape)"
   ]
  },
  {
   "cell_type": "code",
   "execution_count": 17,
   "id": "9ec19e03",
   "metadata": {},
   "outputs": [
    {
     "data": {
      "text/plain": [
       "Array([[[0.704, 0.542],\n",
       "        [0.708, 0.546],\n",
       "        [0.705, 0.543],\n",
       "        [0.706, 0.544],\n",
       "        [0.706, 0.543],\n",
       "        [0.706, 0.544],\n",
       "        [0.704, 0.542]],\n",
       "\n",
       "       [[0.635, 0.631],\n",
       "        [0.638, 0.633],\n",
       "        [0.635, 0.631],\n",
       "        [0.637, 0.633],\n",
       "        [0.636, 0.632],\n",
       "        [0.637, 0.633],\n",
       "        [0.635, 0.631]],\n",
       "\n",
       "       [[0.495, 0.587],\n",
       "        [0.496, 0.588],\n",
       "        [0.496, 0.587],\n",
       "        [0.496, 0.586],\n",
       "        [0.496, 0.587],\n",
       "        [0.495, 0.587],\n",
       "        [0.496, 0.586]],\n",
       "\n",
       "       [[0.923, 0.805],\n",
       "        [0.93, 0.811],\n",
       "        [0.923, 0.805],\n",
       "        [0.926, 0.807],\n",
       "        [0.925, 0.807],\n",
       "        [0.926, 0.807],\n",
       "        [0.924, 0.806]]], dtype=float32)"
      ]
     },
     "execution_count": 17,
     "metadata": {},
     "output_type": "execute_result"
    }
   ],
   "source": [
    "Attention[0]"
   ]
  },
  {
   "cell_type": "markdown",
   "id": "10742435",
   "metadata": {},
   "source": [
    "### Now for tetrieving the attention correct size we need to horizontaly concatenate the attention output"
   ]
  },
  {
   "cell_type": "code",
   "execution_count": 18,
   "id": "1c3a9217",
   "metadata": {},
   "outputs": [
    {
     "data": {
      "text/plain": [
       "(Array([[[0.704, 0.542, 0.635, 0.631, 0.495, 0.587, 0.923, 0.805],\n",
       "         [0.708, 0.546, 0.638, 0.633, 0.496, 0.588, 0.93, 0.811],\n",
       "         [0.705, 0.543, 0.635, 0.631, 0.496, 0.587, 0.923, 0.805],\n",
       "         [0.706, 0.544, 0.637, 0.633, 0.496, 0.586, 0.926, 0.807],\n",
       "         [0.706, 0.543, 0.636, 0.632, 0.496, 0.587, 0.925, 0.807],\n",
       "         [0.706, 0.544, 0.637, 0.633, 0.495, 0.587, 0.926, 0.807],\n",
       "         [0.704, 0.542, 0.635, 0.631, 0.496, 0.586, 0.924, 0.806]],\n",
       " \n",
       "        [[0.662, 0.601, 0.754, 0.701, 0.596, 0.711, 0.995, 0.993],\n",
       "         [0.662, 0.601, 0.754, 0.7, 0.595, 0.709, 0.993, 0.992],\n",
       "         [0.662, 0.601, 0.754, 0.701, 0.595, 0.709, 0.993, 0.992],\n",
       "         [0.662, 0.602, 0.755, 0.701, 0.596, 0.711, 0.996, 0.994],\n",
       "         [0.662, 0.601, 0.755, 0.701, 0.595, 0.709, 0.994, 0.992],\n",
       "         [0.662, 0.601, 0.753, 0.699, 0.594, 0.708, 0.993, 0.992],\n",
       "         [0.662, 0.601, 0.754, 0.701, 0.595, 0.709, 0.993, 0.992]],\n",
       " \n",
       "        [[0.716, 0.608, 0.795, 0.739, 0.604, 0.767, 1.11, 1.05],\n",
       "         [0.719, 0.61, 0.797, 0.741, 0.606, 0.767, 1.11, 1.05],\n",
       "         [0.718, 0.61, 0.797, 0.741, 0.606, 0.767, 1.11, 1.05],\n",
       "         [0.718, 0.61, 0.798, 0.741, 0.606, 0.767, 1.11, 1.05],\n",
       "         [0.718, 0.609, 0.797, 0.74, 0.605, 0.767, 1.11, 1.05],\n",
       "         [0.717, 0.609, 0.797, 0.74, 0.605, 0.767, 1.11, 1.05],\n",
       "         [0.717, 0.608, 0.796, 0.74, 0.605, 0.767, 1.11, 1.05]]], dtype=float32),\n",
       " (3, 7, 8),\n",
       " (3, 7, 10))"
      ]
     },
     "execution_count": 18,
     "metadata": {},
     "output_type": "execute_result"
    }
   ],
   "source": [
    "Attention=jnp.array([jnp.concatenate(Attention[i], axis=1) for i in range(num_phrases)])\n",
    "Attention,Attention.shape,inputs.shape"
   ]
  },
  {
   "cell_type": "code",
   "execution_count": 19,
   "id": "fb48e5c6",
   "metadata": {},
   "outputs": [
    {
     "data": {
      "text/plain": [
       "((3, 8, 10), (3, 1, 10))"
      ]
     },
     "execution_count": 19,
     "metadata": {},
     "output_type": "execute_result"
    }
   ],
   "source": [
    "linearlayer= np.random.rand(num_phrases,dv, word2vec_len)   \n",
    "linear_bias = np.random.rand(num_phrases,1,word2vec_len)\n",
    "linearlayer.shape,linear_bias.shape"
   ]
  },
  {
   "cell_type": "code",
   "execution_count": 20,
   "id": "3bd1665b",
   "metadata": {},
   "outputs": [
    {
     "data": {
      "text/plain": [
       "array([[[0.0534, 0.914, 0.0156, 0.0563, 0.231, 0.763, 0.809, 0.433, 0.738, 0.0148]],\n",
       "\n",
       "       [[0.515, 0.061, 0.161, 0.653, 0.316, 0.501, 0.258, 0.104, 0.198, 0.202]],\n",
       "\n",
       "       [[0.509, 0.00268, 0.58, 0.877, 0.722, 0.909, 0.227, 0.618, 0.321, 0.256]]])"
      ]
     },
     "execution_count": 20,
     "metadata": {},
     "output_type": "execute_result"
    }
   ],
   "source": [
    "linear_bias"
   ]
  },
  {
   "cell_type": "code",
   "execution_count": 21,
   "id": "b1bebf84",
   "metadata": {},
   "outputs": [
    {
     "data": {
      "text/plain": [
       "Array([[[-0.882, 1.06, 0.305, -0.368, 0.975, 0.0722, 1.13, 0.213, -0.137, -2.36],\n",
       "        [-0.864, 0.966, 1, -0.0286, 0.832, 0.0598, -0.119, 0.774, -0.18, -2.44],\n",
       "        [-0.0908, 0.388, 0.448, -0.106, 0.609, 0.574, -0.0363, 1.2, -0.256, -2.73],\n",
       "        [-1.01, 0.871, 1.58, -1.02, 0.029, 1.16, 0.128, 0.254, -0.192, -1.79],\n",
       "        [-0.29, 1.13, 0.197, -0.985, 0.974, 0.387, 0.729, 0.0538, 0.24, -2.44],\n",
       "        [-0.96, 1.11, 1.28, -0.945, 0.995, 0.507, -0.0687, 0.455, -0.455, -1.91],\n",
       "        [-0.828, 0.233, 0.722, -0.537, 0.871, 1.27, 0.409, 0.388, -0.129, -2.4]],\n",
       "\n",
       "       [[1.73, -0.218, 0.687, 0.515, -0.446, 1.12, -1.22, -0.772, 0.227, -1.62],\n",
       "        [1.7, 0.527, 0.842, 0.429, -0.2, 0.802, -1.71, -0.904, -0.283, -1.2],\n",
       "        [1.83, 0.139, 1.06, 0.143, -0.229, 0.799, -1.26, -0.351, -0.428, -1.7],\n",
       "        [1.39, -0.659, 0.983, 0.303, 0.00278, 0.985, -1.63, -0.386, 0.582, -1.57],\n",
       "        [1.39, -0.157, 1.33, -0.525, 0.497, 1.02, -1.28, -0.257, -0.312, -1.71],\n",
       "        [1.26, 0.358, 0.448, 0.196, 0.258, 1.28, -1.71, -0.633, 0.262, -1.72],\n",
       "        [1.75, 0.0228, 1.32, -0.0293, -0.333, 0.697, -1.1, -0.357, -0.18, -1.79]],\n",
       "\n",
       "       [[1.7, -1.55, 0.161, -0.19, -0.16, -0.154, -1.79, 0.905, 0.572, 0.505],\n",
       "        [1.2, -1.01, 0.344, 0.386, -0.24, -0.187, -2.36, 0.921, 0.0887, 0.863],\n",
       "        [1.59, -1.79, 0.161, 0.222, -0.303, 0.0236, -1.42, 1.19, -0.394, 0.721],\n",
       "        [1.01, -1.61, 0.443, -0.357, 0.482, -0.178, -1.68, 1.4, -0.424, 0.913],\n",
       "        [1.69, -1.19, 0.267, -0.183, 0.0138, -0.036, -2.03, 1.13, -0.123, 0.454],\n",
       "        [1.43, -1.67, 0.236, -0.48, -0.199, 0.14, -1.63, 1.31, 0.229, 0.634],\n",
       "        [1.29, -1.77, 0.12, -0.102, 0.21, 0.0622, -1.63, 1.5, -0.131, 0.451]]], dtype=float32)"
      ]
     },
     "execution_count": 21,
     "metadata": {},
     "output_type": "execute_result"
    }
   ],
   "source": [
    "def layer_norm(x, epsilon=1e-6):\n",
    "    # Calculate the mean and variance\n",
    "        mean = jnp.mean(x, axis=-1, keepdims=True)\n",
    "        var = jnp.var(x, axis=-1, keepdims=True) \n",
    "        # Normalize the output\n",
    "        x_norm = (x - mean) / jnp.sqrt(var + epsilon) \n",
    "        return x_norm\n",
    "\n",
    "\n",
    "output_sublayer_one=layer_norm((Attention@linearlayer +linear_bias)+inputs)\n",
    "output_sublayer_one"
   ]
  },
  {
   "cell_type": "code",
   "execution_count": 22,
   "id": "3963d5af",
   "metadata": {},
   "outputs": [
    {
     "data": {
      "text/plain": [
       "((3, 8, 10), (3, 1, 10))"
      ]
     },
     "execution_count": 22,
     "metadata": {},
     "output_type": "execute_result"
    }
   ],
   "source": [
    "linearlayer= np.random.rand(num_phrases,dv, word2vec_len)   \n",
    "linear_bias = np.random.rand(num_phrases,1,word2vec_len)\n",
    "linearlayer.shape,linear_bias.shape"
   ]
  },
  {
   "cell_type": "code",
   "execution_count": 23,
   "id": "8392e1a0",
   "metadata": {},
   "outputs": [
    {
     "data": {
      "text/plain": [
       "array([[[0.0541, 0.141, 0.0794, 0.126, 0.112, 0.109, 0.141, 0.057, 0.0887, 0.0922],\n",
       "        [0.054, 0.141, 0.0793, 0.126, 0.112, 0.109, 0.141, 0.0567, 0.0887, 0.0922],\n",
       "        [0.054, 0.141, 0.0794, 0.126, 0.112, 0.109, 0.141, 0.057, 0.0888, 0.0923],\n",
       "        [0.054, 0.141, 0.0793, 0.126, 0.112, 0.109, 0.141, 0.0568, 0.0887, 0.0922],\n",
       "        [0.054, 0.141, 0.0793, 0.126, 0.112, 0.109, 0.141, 0.0569, 0.0887, 0.0922],\n",
       "        [0.054, 0.141, 0.0793, 0.126, 0.112, 0.109, 0.141, 0.0568, 0.0887, 0.0922],\n",
       "        [0.0541, 0.141, 0.0794, 0.126, 0.112, 0.109, 0.141, 0.0569, 0.0887, 0.0921]],\n",
       "\n",
       "       [[0.0409, 0.0539, 0.0539, 0.226, 0.341, 0.0867, 0.042, 0.023, 0.0487, 0.0834],\n",
       "        [0.041, 0.054, 0.0539, 0.226, 0.341, 0.0867, 0.0421, 0.0231, 0.0487, 0.0834],\n",
       "        [0.041, 0.054, 0.0539, 0.226, 0.341, 0.0867, 0.0421, 0.023, 0.0487, 0.0834],\n",
       "        [0.0409, 0.0539, 0.0538, 0.226, 0.342, 0.0867, 0.042, 0.023, 0.0486, 0.0834],\n",
       "        [0.041, 0.054, 0.0539, 0.226, 0.341, 0.0867, 0.042, 0.023, 0.0487, 0.0834],\n",
       "        [0.041, 0.054, 0.0539, 0.226, 0.341, 0.0867, 0.0421, 0.0231, 0.0487, 0.0834],\n",
       "        [0.041, 0.054, 0.0539, 0.226, 0.341, 0.0867, 0.042, 0.023, 0.0487, 0.0834]],\n",
       "\n",
       "       [[0.0401, 0.317, 0.0545, 0.0327, 0.2, 0.0445, 0.0132, 0.0615, 0.0881, 0.148],\n",
       "        [0.04, 0.317, 0.0544, 0.0326, 0.201, 0.0444, 0.0132, 0.0614, 0.0881, 0.148],\n",
       "        [0.04, 0.317, 0.0544, 0.0326, 0.201, 0.0444, 0.0132, 0.0614, 0.0881, 0.148],\n",
       "        [0.04, 0.318, 0.0544, 0.0326, 0.201, 0.0444, 0.0132, 0.0614, 0.088, 0.148],\n",
       "        [0.04, 0.317, 0.0544, 0.0327, 0.201, 0.0444, 0.0132, 0.0615, 0.0881, 0.148],\n",
       "        [0.04, 0.317, 0.0544, 0.0327, 0.201, 0.0444, 0.0132, 0.0615, 0.0881, 0.148],\n",
       "        [0.04, 0.317, 0.0544, 0.0327, 0.2, 0.0444, 0.0132, 0.0615, 0.0881, 0.148]]], dtype=float32)"
      ]
     },
     "execution_count": 23,
     "metadata": {},
     "output_type": "execute_result"
    }
   ],
   "source": [
    "Sigma_Zout=softmax(Attention@linearlayer +linear_bias)\n",
    "Sigma_Zout"
   ]
  },
  {
   "cell_type": "code",
   "execution_count": null,
   "id": "5d11b0e3",
   "metadata": {},
   "outputs": [],
   "source": []
  },
  {
   "cell_type": "code",
   "execution_count": null,
   "id": "72607f31",
   "metadata": {},
   "outputs": [],
   "source": []
  },
  {
   "cell_type": "code",
   "execution_count": 24,
   "id": "2d2ff37d-f071-4d6d-811b-bf30eff4dc1f",
   "metadata": {},
   "outputs": [
    {
     "name": "stdout",
     "output_type": "stream",
     "text": [
      "Concat Phrase Representation: (3, 8)\n",
      "Sigma_Zout:\n",
      " [[0.46 0.54]\n",
      " [0.439 0.561]\n",
      " [0.425 0.575]]\n",
      "target:\n",
      " [[0.58 0.42]\n",
      " [0.592 0.408]\n",
      " [0.419 0.581]]\n",
      "Cross-Entropy Loss:  0.7042346937821095\n"
     ]
    }
   ],
   "source": [
    " \n",
    " \n",
    "\n",
    "\n",
    "\n",
    "\n",
    "#phrase_representation = np.mean(Attention, axis=2).reshape(num_phrases,dv)\n",
    "phrase_representation = np.mean(Attention, axis=1).reshape(num_phrases,dv)\n",
    "print(\"Concat Phrase Representation:\",phrase_representation.shape)\n",
    "\n",
    "\n",
    "\n",
    "\n",
    "\n",
    "linearlayer= np.random.rand(dv, num_classes)   \n",
    "linear_bias = np.random.rand(num_classes)\n",
    "Sigma_Zout=softmax(np.matmul(phrase_representation, linearlayer) + linear_bias)\n",
    "print(\"Sigma_Zout:\\n\",Sigma_Zout)\n",
    "print(\"target:\\n\",target)\n",
    "import numpy as np\n",
    "\n",
    " \n",
    "def cross_entropy_loss(predictions, target): \n",
    "    batch_loss = -np.sum(target * np.log(predictions + 1e-8), axis=1)\n",
    "    return np.mean(batch_loss) \n",
    " \n",
    "\n",
    "loss = cross_entropy_loss(Sigma_Zout, target)\n",
    "print(\"Cross-Entropy Loss: \",loss)"
   ]
  },
  {
   "cell_type": "code",
   "execution_count": 29,
   "id": "a54bdecb",
   "metadata": {},
   "outputs": [
    {
     "data": {
      "text/plain": [
       "array([0.761, 0.39])"
      ]
     },
     "execution_count": 29,
     "metadata": {},
     "output_type": "execute_result"
    }
   ],
   "source": [
    "linear_bias"
   ]
  },
  {
   "cell_type": "code",
   "execution_count": 30,
   "id": "e0164eff",
   "metadata": {},
   "outputs": [
    {
     "data": {
      "text/plain": [
       "array([-0.268, 0.268])"
      ]
     },
     "execution_count": 30,
     "metadata": {},
     "output_type": "execute_result"
    }
   ],
   "source": [
    "d_bias"
   ]
  },
  {
   "cell_type": "code",
   "execution_count": 25,
   "id": "cc405f96-fe61-48f5-ba8d-788e4694fe3f",
   "metadata": {},
   "outputs": [],
   "source": [
    "dLoss_dSigma_Zout =Sigma_Zout - np.stack(target)\n",
    "dLoss_dSigma_Zout\n",
    "\n",
    "# Gradient for linear layer and bias\n",
    "d_linear = np.dot(dLoss_dSigma_Zout.T, phrase_representation).T\n",
    "d_bias =  np.sum(dLoss_dSigma_Zout, axis=0)\n",
    "d_linear,d_bias\n",
    "\n",
    "\n",
    "# Gradient for phrase representation\n",
    "d_phrase_rep = np.dot(dLoss_dSigma_Zout, linearlayer.T)\n",
    "d_phrase_rep.shape\n",
    "dL_dA = np.array([np.outer(np.ones(inputs.shape[1]), d_phrase_rep[i, :]) for i in range(d_phrase_rep.shape[0])])  / inputs.shape[1]\n",
    "dL_dA = np.swapaxes(np.array(np.array_split(dL_dA,num_heads,axis=2)), 0, 1)\n",
    "dL_dA \n",
    "\n",
    "\n",
    "softmax_derivative = Attention_weights*(1 - Attention_weights)\n",
    "\n",
    "\n",
    "# Gradient for V\n",
    "d_Vval=np.matmul(np.transpose(dL_dA,(0,1,3,2)), Attention_weights) \n",
    "dLoss_dV = np.concatenate(np.mean(np.matmul(d_Vval,inputs.reshape(num_phrases, 1, words_per_phrase, inputs.shape[2])),axis=0),axis=0).T\n",
    "dLoss_dV\n",
    "\n",
    "# Gradient for Q\n",
    "dLoss_dQ=np.transpose(dL_dA,(0,1,3,2))@softmax_derivative@Kval@np.transpose(Vval,(0,1,3,2))@inputs.reshape(num_phrases, 1, words_per_phrase, inputs.shape[2])\n",
    "dLoss_dQ=np.concatenate(np.mean(dLoss_dQ,axis=0),axis=0).T\n",
    "dLoss_dQ.shape\n",
    "\n",
    "# Gradient for K\n",
    "dLoss_dK=np.transpose(dL_dA,(0,1,3,2))@softmax_derivative@Qval@np.transpose(Vval,(0,1,3,2))@inputs.reshape(num_phrases, 1, words_per_phrase, inputs.shape[2])\n",
    "dLoss_dK=np.concatenate(np.mean(dLoss_dK,axis=0),axis=0).T\n",
    "dLoss_dK.shape\n",
    "\n",
    "clip_value = 15.0\n",
    "dLoss_dQ = np.clip(dLoss_dQ, -clip_value, clip_value)\n",
    "dLoss_dK = np.clip(dLoss_dK, -clip_value, clip_value)\n",
    "dLoss_dV = np.clip(dLoss_dV, -clip_value, clip_value)\n",
    "d_linear = np.clip(d_linear, -clip_value, clip_value)\n",
    "d_bias = np.clip(d_bias, -clip_value, clip_value)\n",
    "learning_rate=0.001\n",
    "Q -= learning_rate * dLoss_dQ\n",
    "K -= learning_rate * dLoss_dK\n",
    "V -= learning_rate * dLoss_dV\n",
    "linearlayer -= learning_rate * d_linear\n",
    "linear_bias -= learning_rate * d_bias"
   ]
  },
  {
   "cell_type": "code",
   "execution_count": null,
   "id": "59d09480-1faf-49d0-8a9e-1f0a17c251fa",
   "metadata": {},
   "outputs": [],
   "source": []
  },
  {
   "cell_type": "code",
   "execution_count": 30,
   "id": "72a51ee3-bc25-4b45-abad-e4ae9bcfcdb7",
   "metadata": {},
   "outputs": [],
   "source": []
  },
  {
   "cell_type": "code",
   "execution_count": null,
   "id": "f2360157-06e6-4854-8bee-c3593af53387",
   "metadata": {},
   "outputs": [],
   "source": []
  },
  {
   "cell_type": "code",
   "execution_count": null,
   "id": "5aa3bf41-ca57-4132-8cf6-0b8f45974e2b",
   "metadata": {},
   "outputs": [],
   "source": []
  },
  {
   "cell_type": "code",
   "execution_count": null,
   "id": "c9fccc24-364a-4d05-9163-531ac64ed86d",
   "metadata": {},
   "outputs": [],
   "source": []
  },
  {
   "cell_type": "code",
   "execution_count": null,
   "id": "882e7e03-a749-4d8a-b2cb-4bdf89eb3fcf",
   "metadata": {},
   "outputs": [],
   "source": []
  },
  {
   "cell_type": "code",
   "execution_count": 26,
   "id": "07885241-988d-4a5a-9a22-da5b8c361080",
   "metadata": {},
   "outputs": [
    {
     "name": "stdout",
     "output_type": "stream",
     "text": [
      "softmax_derivative.shape:  (3, 4, 7, 7)\n"
     ]
    }
   ],
   "source": [
    "softmax_derivative = Attention_weights*(1 - Attention_weights)\n",
    "print(\"softmax_derivative.shape: \", softmax_derivative.shape)"
   ]
  },
  {
   "cell_type": "markdown",
   "id": "a5278948-1ae1-4a4a-9bad-02edced98006",
   "metadata": {},
   "source": [
    "\\\\[ \n",
    " \\frac{Inputs \\cdot K_{val}^T}{\\sqrt{d_k}}\n",
    "\\\\] "
   ]
  },
  {
   "cell_type": "code",
   "execution_count": 27,
   "id": "23bbbee5-21de-460d-9b2a-685c337a0487",
   "metadata": {},
   "outputs": [
    {
     "name": "stdout",
     "output_type": "stream",
     "text": [
      "inputs.shape:  (3, 7, 10)\n",
      "Kval.shape:  (3, 4, 7, 2)\n",
      "Q.shape:  (10, 8) K.shape:  (10, 8)\n",
      "Vval.shape:  (3, 4, 7, 2)\n"
     ]
    }
   ],
   "source": [
    "print(\"inputs.shape: \", inputs.shape)\n",
    "print(\"Kval.shape: \", Kval.shape)\n",
    "print(\"Q.shape: \", Q.shape,\"K.shape: \",K.shape)\n",
    "print(\"Vval.shape: \", Vval.shape ) "
   ]
  },
  {
   "cell_type": "markdown",
   "id": "b5a4e00e-29c8-49e3-a65d-bb680f9bf8d4",
   "metadata": {},
   "source": [
    "\\\\[ \n",
    " K_{val}^T=(Inputs \\cdot K)^T = K^T \\cdot I^T\n",
    "\\\\] "
   ]
  },
  {
   "cell_type": "code",
   "execution_count": 28,
   "id": "3c5bdd10-b2ad-448d-ae9d-1ce47957d644",
   "metadata": {},
   "outputs": [
    {
     "ename": "NameError",
     "evalue": "name 'num_head' is not defined",
     "output_type": "error",
     "traceback": [
      "\u001b[1;31m---------------------------------------------------------------------------\u001b[0m",
      "\u001b[1;31mNameError\u001b[0m                                 Traceback (most recent call last)",
      "Cell \u001b[1;32mIn[28], line 1\u001b[0m\n\u001b[1;32m----> 1\u001b[0m I\u001b[38;5;241m=\u001b[39mnp\u001b[38;5;241m.\u001b[39mrepeat(inputs, \u001b[43mnum_head\u001b[49m, axis\u001b[38;5;241m=\u001b[39m\u001b[38;5;241m0\u001b[39m)\u001b[38;5;241m.\u001b[39mreshape(num_phrases,num_head,words_per_phrase,word2vec_len)\n\u001b[0;32m      2\u001b[0m I\u001b[38;5;241m.\u001b[39mshape\n",
      "\u001b[1;31mNameError\u001b[0m: name 'num_head' is not defined"
     ]
    }
   ],
   "source": [
    "I=np.repeat(inputs, num_head, axis=0).reshape(num_phrases,num_head,words_per_phrase,word2vec_len)\n",
    "I.shape"
   ]
  },
  {
   "cell_type": "code",
   "execution_count": null,
   "id": "6eab7a77-f3e8-452f-b49a-986ab4c7cf8a",
   "metadata": {},
   "outputs": [],
   "source": []
  },
  {
   "cell_type": "code",
   "execution_count": 55,
   "id": "7f7e99b3-0772-4c84-8582-4b990a8299f4",
   "metadata": {},
   "outputs": [
    {
     "ename": "NameError",
     "evalue": "name 'I' is not defined",
     "output_type": "error",
     "traceback": [
      "\u001b[1;31m---------------------------------------------------------------------------\u001b[0m",
      "\u001b[1;31mNameError\u001b[0m                                 Traceback (most recent call last)",
      "Cell \u001b[1;32mIn[55], line 1\u001b[0m\n\u001b[1;32m----> 1\u001b[0m dLoss_dQ\u001b[38;5;241m=\u001b[39mnp\u001b[38;5;241m.\u001b[39mtranspose(np\u001b[38;5;241m.\u001b[39mtranspose(dL_dA,(\u001b[38;5;241m0\u001b[39m,\u001b[38;5;241m1\u001b[39m,\u001b[38;5;241m3\u001b[39m,\u001b[38;5;241m2\u001b[39m))\u001b[38;5;129m@softmax_derivative\u001b[39m\u001b[38;5;129m@Kval\u001b[39m,(\u001b[38;5;241m0\u001b[39m,\u001b[38;5;241m1\u001b[39m,\u001b[38;5;241m3\u001b[39m,\u001b[38;5;241m2\u001b[39m))\u001b[38;5;129m@np\u001b[39m\u001b[38;5;241m.\u001b[39mtranspose(Vval,(\u001b[38;5;241m0\u001b[39m,\u001b[38;5;241m1\u001b[39m,\u001b[38;5;241m3\u001b[39m,\u001b[38;5;241m2\u001b[39m))\u001b[38;5;129m@I\u001b[39m\u001b[38;5;241m/\u001b[39mnp\u001b[38;5;241m.\u001b[39msqrt(dk)\n\u001b[0;32m      2\u001b[0m dLoss_dQ\u001b[38;5;241m=\u001b[39mnp\u001b[38;5;241m.\u001b[39mtranspose(np\u001b[38;5;241m.\u001b[39mmean(dLoss_dQ,axis\u001b[38;5;241m=\u001b[39m\u001b[38;5;241m0\u001b[39m),(\u001b[38;5;241m0\u001b[39m,\u001b[38;5;241m2\u001b[39m,\u001b[38;5;241m1\u001b[39m))\u001b[38;5;241m.\u001b[39mshape\n",
      "\u001b[1;31mNameError\u001b[0m: name 'I' is not defined"
     ]
    }
   ],
   "source": [
    "dLoss_dQ=np.transpose(np.transpose(dL_dA,(0,1,3,2))@softmax_derivative@Kval,(0,1,3,2))@np.transpose(Vval,(0,1,3,2))@I/np.sqrt(dk)\n",
    "dLoss_dQ=np.transpose(np.mean(dLoss_dQ,axis=0),(0,2,1)).shape"
   ]
  },
  {
   "cell_type": "code",
   "execution_count": 24,
   "id": "0e79186b-3feb-432c-987d-9215c399bcc3",
   "metadata": {},
   "outputs": [
    {
     "data": {
      "text/plain": [
       "(2, 6, 3)"
      ]
     },
     "execution_count": 24,
     "metadata": {},
     "output_type": "execute_result"
    }
   ],
   "source": [
    "Q.shape"
   ]
  },
  {
   "cell_type": "code",
   "execution_count": 25,
   "id": "fead05db-c4b7-433f-a52f-0cb8d09cd1c7",
   "metadata": {},
   "outputs": [
    {
     "data": {
      "text/plain": [
       "(9, 2, 6, 5)"
      ]
     },
     "execution_count": 25,
     "metadata": {},
     "output_type": "execute_result"
    }
   ],
   "source": [
    "np.transpose(I,(0,1,3,2)).shape"
   ]
  },
  {
   "cell_type": "code",
   "execution_count": 26,
   "id": "70cb3eb0-eaac-4278-acda-bb1848fa420d",
   "metadata": {},
   "outputs": [
    {
     "data": {
      "text/plain": [
       "(9, 2, 4, 5)"
      ]
     },
     "execution_count": 26,
     "metadata": {},
     "output_type": "execute_result"
    }
   ],
   "source": [
    "np.transpose(Vval,(0,1,3,2)).shape"
   ]
  },
  {
   "cell_type": "code",
   "execution_count": 31,
   "id": "dab612f0-689a-44de-9d77-661850e4f844",
   "metadata": {},
   "outputs": [],
   "source": [
    "I=np.repeat(inputs, num_head, axis=0).reshape(num_phrases,num_head,words_per_phrase,word2vec_len)\n",
    "\n",
    "dLoss_dQ=np.transpose(np.transpose(dL_dA,(0,1,3,2))@softmax_derivative@Kval,(0,1,3,2))@np.transpose(Vval,(0,1,3,2))@I/np.sqrt(dk)\n",
    "dLoss_dQ=np.transpose(np.mean(dLoss_dQ,axis=0),(0,2,1)) \n",
    "\n",
    "dLoss_dK=np.transpose(np.transpose(dL_dA,(0,1,3,2))@softmax_derivative@Qval,(0,1,3,2))@np.transpose(Vval,(0,1,3,2))@I/np.sqrt(dk)\n",
    "dLoss_dK=np.transpose(np.mean(dLoss_dK,axis=0),(0,2,1)) "
   ]
  },
  {
   "cell_type": "code",
   "execution_count": 32,
   "id": "0d8bed9f-2b1f-45b1-83cd-c720c538e9e3",
   "metadata": {},
   "outputs": [],
   "source": [
    "# Update weights\n",
    "learning_rate=0.001\n",
    "Q -= learning_rate * dLoss_dQ\n",
    "K -= learning_rate * dLoss_dK\n",
    "V -= learning_rate * dLoss_dV\n",
    "linearlayer -= learning_rate * d_linear\n",
    "linear_bias -= learning_rate * d_bias"
   ]
  },
  {
   "cell_type": "code",
   "execution_count": 30,
   "id": "e59af831-f34e-41a6-a788-0d8f771ec093",
   "metadata": {},
   "outputs": [
    {
     "data": {
      "text/plain": [
       "(2, 6, 3)"
      ]
     },
     "execution_count": 30,
     "metadata": {},
     "output_type": "execute_result"
    }
   ],
   "source": [
    "dLoss_dQ"
   ]
  },
  {
   "cell_type": "code",
   "execution_count": null,
   "id": "8a37a52d-62e9-4fb1-8126-7b73b592ad53",
   "metadata": {},
   "outputs": [],
   "source": []
  },
  {
   "cell_type": "code",
   "execution_count": 1,
   "id": "77f6790c-9d32-4591-9fd8-33708a38f671",
   "metadata": {},
   "outputs": [],
   "source": [
    "\n",
    "\n"
   ]
  },
  {
   "cell_type": "code",
   "execution_count": null,
   "id": "007e5820-f949-4289-a3bc-ec9824c6c555",
   "metadata": {},
   "outputs": [],
   "source": []
  },
  {
   "cell_type": "code",
   "execution_count": null,
   "id": "3aa2fee8-7d02-4b64-89f7-64b3d8e8e2ae",
   "metadata": {},
   "outputs": [],
   "source": []
  },
  {
   "cell_type": "code",
   "execution_count": null,
   "id": "b616864e-2fc7-406d-881e-3dd145f2adbb",
   "metadata": {},
   "outputs": [],
   "source": []
  },
  {
   "cell_type": "code",
   "execution_count": 2,
   "id": "f372ba9c-0ab6-4038-906c-8bb243abcef5",
   "metadata": {},
   "outputs": [
    {
     "data": {
      "text/plain": [
       "((1668, 70, 300), (557, 70, 300), (1668, 5), (557, 5))"
      ]
     },
     "execution_count": 2,
     "metadata": {},
     "output_type": "execute_result"
    }
   ],
   "source": []
  },
  {
   "cell_type": "code",
   "execution_count": null,
   "id": "4bbe5c8a-5601-460d-8da2-d877085e12e9",
   "metadata": {},
   "outputs": [],
   "source": []
  },
  {
   "cell_type": "code",
   "execution_count": null,
   "id": "21771a30-40fd-42c7-97f3-cede7d50aecc",
   "metadata": {},
   "outputs": [],
   "source": []
  },
  {
   "cell_type": "code",
   "execution_count": 10,
   "id": "f527ad40-8f13-4ab7-ad90-7e2877a149c4",
   "metadata": {},
   "outputs": [],
   "source": [
    "import sys\n",
    "sys.path.append('c:\\\\python312\\\\lib\\\\site-packages')\n",
    "from sklearn.model_selection import train_test_split \n",
    "import pickle\n",
    "import spacy\n",
    "import numpy as np \n",
    "from tqdm import tqdm\n",
    "from sklearn.metrics import confusion_matrix, f1_score\n",
    "import seaborn as sns\n",
    "import matplotlib.pyplot as plt\n",
    "import pandas as pd \n",
    "from PIL import Image\n",
    "import io\n",
    "from IPython.display import display \n",
    "import cupy as cp"
   ]
  },
  {
   "cell_type": "code",
   "execution_count": 11,
   "id": "c9fdeade-397e-44c9-85e5-d3d0f8a41105",
   "metadata": {},
   "outputs": [
    {
     "data": {
      "text/plain": [
       "((1668, 70, 300), (557, 70, 300), (1668, 5), (557, 5))"
      ]
     },
     "execution_count": 11,
     "metadata": {},
     "output_type": "execute_result"
    }
   ],
   "source": [
    "df=pd.read_csv(\"data/bbc-text.csv\")\n",
    "nlp = spacy.load('en_core_web_lg')\n",
    "with open('data/InputProcessed.pkl', 'rb') as f:\n",
    "    X = pickle.load(f)\n",
    "\n",
    "y = np.array(pd.get_dummies(df[\"category\"], dtype=int))\n",
    "X_train, X_test, y_train, y_test = train_test_split(\n",
    "    X, y, test_size=0.25, random_state=42)\n",
    "X_train.shape,X_test.shape,y_train.shape,y_test.shape\n"
   ]
  },
  {
   "cell_type": "code",
   "execution_count": 7,
   "id": "04a1f8f6-7866-4981-99e5-46cb2684c150",
   "metadata": {},
   "outputs": [
    {
     "data": {
      "text/plain": [
       "(1668, 70, 300)"
      ]
     },
     "execution_count": 7,
     "metadata": {},
     "output_type": "execute_result"
    }
   ],
   "source": [
    "X_train.shape"
   ]
  },
  {
   "cell_type": "code",
   "execution_count": null,
   "id": "eead565c-398f-4bcf-900f-7a23e8ebac9d",
   "metadata": {},
   "outputs": [],
   "source": []
  },
  {
   "cell_type": "code",
   "execution_count": null,
   "id": "efa4eb9c-04df-4c83-a870-7791e895c0e9",
   "metadata": {},
   "outputs": [],
   "source": []
  },
  {
   "cell_type": "code",
   "execution_count": null,
   "id": "cc8d73db-0422-471d-af36-20dd1fed44a6",
   "metadata": {},
   "outputs": [],
   "source": []
  },
  {
   "cell_type": "code",
   "execution_count": 8,
   "id": "f916e46f-2964-47fc-9870-fb7a98d2bc59",
   "metadata": {},
   "outputs": [],
   "source": [
    "class QKVMultiHeadsAttentionClassifier:\n",
    "    def __init__(self, word_len, words_per_phrase, num_heads, batch_size, dk, dv, num_classes, validation_split=0.0,\n",
    "                 momentum_beta=0.9,\n",
    "                 rmsprop_beta=0.98,\n",
    "                 epsilon=0.00000001):\n",
    "\n",
    "        self.word_len = word_len\n",
    "        self.batch_size = batch_size\n",
    "        self.dk = dk\n",
    "        self.dv = dv\n",
    "        self.num_heads = num_heads\n",
    "        self.num_classes = num_classes\n",
    "        self.words_per_phrase = words_per_phrase\n",
    "        self.validation_split = validation_split\n",
    "        self.validation_scores = []\n",
    "        self.training_losses = []\n",
    "        self.MomQ = 0\n",
    "        self.MomK = 0\n",
    "        self.MomV = 0\n",
    "        self.MomLy = 0\n",
    "        self.MomB = 0\n",
    "        self.RMSPQ = 0\n",
    "        self.RMSPK = 0\n",
    "        self.RMSPV = 0\n",
    "        self.RMSPLy= 0\n",
    "        self.RMSPB = 0\n",
    "        self.momentum_beta=momentum_beta\n",
    "        self.rmsprop_beta=rmsprop_beta\n",
    "        self.epsilon=epsilon\n",
    "        self.iterations=0\n",
    "        \n",
    "\n",
    "        \n",
    "        # Initialize weights with Xavier/Glorot initialization\n",
    "        self.Q = np.random.randn(self.word_len, self.dv) / np.sqrt(self.word_len)  # * 0.01\n",
    "        self.K = np.random.randn(self.word_len, self.dv) / np.sqrt(self.word_len)  # * 0.01\n",
    "        self.V = np.random.randn(self.word_len, self.dv) / np.sqrt(self.word_len)  # * 0.01\n",
    "\n",
    "        # Initialize linear layer weights\n",
    "        self.linearlayer = np.random.randn(self.dv, self.num_classes) / np.sqrt(self.dk)\n",
    "        self.linear_bias = np.zeros(self.num_classes)\n",
    "\n",
    "    def softmax(self, x, axis=-1):\n",
    "        x = np.clip(x, -1e4, 1e4)  # Clip for numerical stability\n",
    "        e_x = np.exp(x - np.max(x, axis=axis, keepdims=True))\n",
    "        softmax_result = e_x / np.sum(e_x, axis=axis, keepdims=True)\n",
    "        # print(\"Softmax result shape:\", softmax_result.shape)\n",
    "        return softmax_result\n",
    "\n",
    "    def cross_entropy_loss(self, predictions, target):\n",
    "        # Cross-entropy loss for a batch of predictions and targets\n",
    "        batch_loss = -np.sum(target * np.log(predictions + 1e-9), axis=1)\n",
    "        mean_loss = np.mean(batch_loss)\n",
    "        # print(\"Cross-entropy loss:\", mean_loss)\n",
    "        return mean_loss\n",
    "    def load_train_validation_splits(self, X_train, y_train):\n",
    "        X_train_validation = X_train[0:round(self.validation_split * len(X_train))]\n",
    "        y_train_validation = y_train[0:round(self.validation_split * len(y_train))]\n",
    "        X_train = X_train[round(self.validation_split * len(X_train)):]\n",
    "        y_train = y_train[round(self.validation_split * len(y_train)):]\n",
    "        return [X_train, X_train_validation, y_train, y_train_validation]\n",
    "\n",
    "    def pad_sequences(self, sequences, max_len):\n",
    "        padded_sequences = np.zeros((len(sequences), max_len, sequences[0].shape[1]))\n",
    "        for i, seq in enumerate(sequences):\n",
    "            length = min(seq.shape[0], max_len)\n",
    "            padded_sequences[i, :length] = seq[:length]\n",
    "        return padded_sequences\n",
    "\n",
    "    def training_validation(self, X_validation, y_validation, current_loss):\n",
    "        # Pad validation sequences\n",
    "        X_validation = self.pad_sequences(X_validation, self.words_per_phrase)\n",
    "\n",
    "        # Make predictions\n",
    "        predictions = self.predict(X_validation)\n",
    "\n",
    "        # Convert predictions to class labels\n",
    "        y_pred = np.argmax(predictions, axis=1)\n",
    "\n",
    "        # Convert one-hot encoded true labels to class labels\n",
    "        y_true = np.argmax(y_validation, axis=1)\n",
    "\n",
    "        # Calculate F1 score\n",
    "        f1 = f1_score(y_true, y_pred, average=\"weighted\")\n",
    "        print(\"Validation F1 score: \", f1)\n",
    "\n",
    "        # Append current F1 score and loss\n",
    "        self.validation_scores.append(f1)\n",
    "        self.training_losses.append(current_loss)\n",
    "\n",
    "        # Create an Epoch column\n",
    "        epochs = list(range(1, len(self.validation_scores) + 1))\n",
    "\n",
    "        # Create DataFrame for plotting\n",
    "        data = pd.DataFrame({\n",
    "            'Epoch': epochs,\n",
    "            'F1 Score': self.validation_scores,\n",
    "            'Loss': self.training_losses\n",
    "        })\n",
    "\n",
    "        # Plot F1 score and Loss\n",
    "        self.image = plt.figure(figsize=(10, 6))\n",
    "\n",
    "        # F1 score line plot\n",
    "        sns.lineplot(x='Epoch', y='F1 Score', data=data, label='F1 Score', marker='o')\n",
    "\n",
    "        # Loss line plot on the same axes\n",
    "        sns.lineplot(x='Epoch', y='Loss', data=data, label='Loss', marker='o')\n",
    "\n",
    "        # Set plot labels and title\n",
    "        plt.title('F1 Score and Loss over Epochs')\n",
    "        plt.xlabel('Epoch')\n",
    "        plt.ylabel('Score / Loss')\n",
    "\n",
    "        # Show legend and grid\n",
    "        plt.legend()\n",
    "        plt.grid(True)\n",
    "        buf = io.BytesIO()\n",
    "        plt.savefig(buf, format='png')\n",
    "        buf.seek(0)\n",
    "\n",
    "        # Load the image from BytesIO object into a PIL Image\n",
    "        self.image = Image.open(buf)\n",
    "\n",
    "        plt.close()\n",
    "        # Display the plot\n",
    "        # self.image.show()\n",
    "\n",
    "    \n",
    "    def MultiHeadsAttention(self, Inputs):\n",
    "        self.Qval = np.swapaxes(np.array_split(np.matmul(Inputs, self.Q),self.num_heads,axis=2), 0, 1)\n",
    "        self.Kval = np.swapaxes(np.array_split(np.matmul(Inputs, self.K),self.num_heads,axis=2), 0, 1)\n",
    "        self.Vval = np.swapaxes(np.array_split(np.matmul(Inputs, self.V),self.num_heads,axis=2), 0, 1)\n",
    "        # print(\"Qval shape:\", self.Qval.shape)\n",
    "        # print(\"Kval shape:\", self.Kval.shape)\n",
    "        # print(\"Vval shape:\", self.Vval.shape)\n",
    "\n",
    "        QKscaled = np.matmul(self.Qval, np.transpose(self.Kval, (0, 1, 3, 2))) / np.sqrt(self.dk)\n",
    "        # print(\"QKscaled shape:\", QKscaled.shape)\n",
    "\n",
    "        self.Attention_weights = self.softmax(QKscaled)\n",
    "        # print(\"Attention_weights shape:\", self.Attention_weights.shape)\n",
    "\n",
    "        Attention_output = np.matmul(self.Attention_weights, self.Vval)\n",
    "        # print(\"Attention output shape:\", Attention_output.shape)\n",
    "\n",
    "        return Attention_output\n",
    "\n",
    "    def LinearLayer(self):\n",
    "        output = np.matmul(self.phrase_representation, self.linearlayer) + self.linear_bias\n",
    "        # print(\"Linear layer output shape:\", output.shape)\n",
    "        return output\n",
    "\n",
    "    def forward(self, Inputs):\n",
    "\n",
    "        Attention = self.MultiHeadsAttention(Inputs)\n",
    "\n",
    "        #print(\"Attention shape:\", Attention.shape)\n",
    "        #print(\"Attention mean shape:\", np.mean(Attention, axis=2).shape)\n",
    "        self.phrase_representation = np.mean(Attention, axis=2).reshape(Inputs.shape[0],self.dv)\n",
    "        \n",
    "\n",
    "        Zout = self.LinearLayer()\n",
    "\n",
    "        Sigma_Zout = self.softmax(Zout)\n",
    "        # print(\"Sigma_Zout shape:\", Sigma_Zout.shape)\n",
    "\n",
    "        return Sigma_Zout\n",
    "\n",
    "    def BackPropagation(self, dLoss_dSigma_Zout, Inputs):\n",
    "\n",
    "        # Gradient for linear layer\n",
    "        dlinear_dW = np.dot(dLoss_dSigma_Zout.T, self.phrase_representation).T\n",
    "        # print(\"dlinear_dW shape:\", dlinear_dW.shape)\n",
    "\n",
    "        # Gradient for bias\n",
    "        d_bias = np.sum(dLoss_dSigma_Zout, axis=0)\n",
    "        # print(\"d_bias shape:\", d_bias.shape)\n",
    "\n",
    "        # Gradient for phrase representation\n",
    "        d_phrase_rep = np.dot(dLoss_dSigma_Zout, self.linearlayer.T)\n",
    "        # print(\"d_phrase_rep shape:\", d_phrase_rep.shape)\n",
    "\n",
    "        # Gradient for attention\n",
    "        dL_dA = np.array(\n",
    "            [np.outer(np.ones(Inputs.shape[1]), d_phrase_rep[i, :]) for i in range(d_phrase_rep.shape[0])]) / \\\n",
    "                Inputs.shape[1]\n",
    "        dL_dA = np.swapaxes(np.array(np.array_split(dL_dA, self.num_heads, axis=2)), 0, 1)\n",
    "        # print(\"dL_dA shape:\", dL_dA.shape)\n",
    "\n",
    "        # Gradient for V\n",
    "        d_Vval = np.matmul(np.transpose(dL_dA, (0, 1, 3, 2)), self.Attention_weights)\n",
    "        dLoss_dV = np.concatenate(np.mean(np.matmul(d_Vval,Inputs.reshape(Inputs.shape[0], 1, self.words_per_phrase, Inputs.shape[2])),axis=0),axis=0).T\n",
    "        # print(\"dLoss_dV shape:\", dLoss_dV.shape)\n",
    "\n",
    "        # Gradient of softmax\n",
    "        dAttention_dSoftmax = self.Attention_weights * (1 - self.Attention_weights)\n",
    "        # print(\"dAttention_dSoftmax shape:\", dAttention_dSoftmax.shape)\n",
    "\n",
    "\n",
    "        # Compute dLoss_dQ\n",
    "        dLoss_dQ = np.transpose(dL_dA, (0, 1, 3, 2)) @ dAttention_dSoftmax @ self.Kval @ np.transpose(self.Vval, (\n",
    "        0, 1, 3, 2)) @ Inputs.reshape(Inputs.shape[0], 1, self.words_per_phrase, Inputs.shape[2])\n",
    "        dLoss_dQ = np.concatenate(np.mean(dLoss_dQ, axis=0), axis=0).T\n",
    "        # print(\"dLoss_dQ shape:\", dLoss_dQ.shape)\n",
    "\n",
    "        # Gradient of K\n",
    "        dLoss_dK = np.transpose(dL_dA, (0, 1, 3, 2)) @ dAttention_dSoftmax @ self.Qval @ np.transpose(self.Vval, (\n",
    "            0, 1, 3, 2)) @ Inputs.reshape(Inputs.shape[0], 1, self.words_per_phrase, Inputs.shape[2])\n",
    "        dLoss_dK = np.concatenate(np.mean(dLoss_dK, axis=0), axis=0).T\n",
    "        # print(\"dLoss_dK shape:\", dLoss_dK.shape)\n",
    "\n",
    "        # Gradient clipping\n",
    "        clip_value = 150.0\n",
    "        dLoss_dQ = np.clip(dLoss_dQ, -clip_value, clip_value)\n",
    "        dLoss_dK = np.clip(dLoss_dK, -clip_value, clip_value)\n",
    "        dLoss_dV = np.clip(dLoss_dV, -clip_value, clip_value)\n",
    "        dlinear_dW = np.clip(dlinear_dW, -clip_value, clip_value)\n",
    "        d_bias = np.clip(d_bias, -clip_value, clip_value)\n",
    "\n",
    "        self.UpdateParams(dLoss_dQ, dLoss_dK, dLoss_dV, dlinear_dW, d_bias)\n",
    "\n",
    "    def UpdateParams(self, dLoss_dQ, dLoss_dK, dLoss_dV, dlinear_dW, d_bias):\n",
    "        self.iterations += 1\n",
    "           # Set a minimum learning rate to avoid it going too low\n",
    "        # Linear learning rate decay\n",
    "        \n",
    "        lr = self.learning_rate * (1 - self.iterations / self.total_iterations)\n",
    "        self.learning_rate = max(lr, 0.001)  # Prevent learning rate from becoming too small\n",
    "        \n",
    "        \n",
    "        # Update biased first moments (momentum)\n",
    "        self.MomQ = (self.momentum_beta * self.MomQ + (1 - self.momentum_beta) * dLoss_dQ)\n",
    "        self.MomK = (self.momentum_beta * self.MomK + (1 - self.momentum_beta) * dLoss_dK)\n",
    "        self.MomV = (self.momentum_beta * self.MomV + (1 - self.momentum_beta) * dLoss_dV)\n",
    "        self.MomLy = (self.momentum_beta * self.MomLy + (1 - self.momentum_beta) * dlinear_dW)\n",
    "        self.MomB = (self.momentum_beta * self.MomB + (1 - self.momentum_beta) * d_bias)\n",
    "    \n",
    "        # Update biased second moments (variance)\n",
    "        self.RMSPQ = (self.rmsprop_beta * self.RMSPQ + (1 - self.rmsprop_beta) * dLoss_dQ * dLoss_dQ)\n",
    "        self.RMSPK = (self.rmsprop_beta * self.RMSPK + (1 - self.rmsprop_beta) * dLoss_dK * dLoss_dK)\n",
    "        self.RMSPV = (self.rmsprop_beta * self.RMSPV + (1 - self.rmsprop_beta) * dLoss_dV * dLoss_dV)\n",
    "        self.RMSPLy = (self.rmsprop_beta * self.RMSPLy + (1 - self.rmsprop_beta) * dlinear_dW * dlinear_dW)\n",
    "        self.RMSPB = (self.rmsprop_beta * self.RMSPB + (1 - self.rmsprop_beta) * d_bias * d_bias)\n",
    "    \n",
    "        # Bias correction for first moments\n",
    "        MomQ_corrected = self.MomQ / (1 - self.momentum_beta ** self.iterations)\n",
    "        MomK_corrected = self.MomK / (1 - self.momentum_beta ** self.iterations)\n",
    "        MomV_corrected = self.MomV / (1 - self.momentum_beta ** self.iterations)\n",
    "        MomLy_corrected = self.MomLy / (1 - self.momentum_beta ** self.iterations)\n",
    "        MomB_corrected = self.MomB / (1 - self.momentum_beta ** self.iterations)\n",
    "    \n",
    "        # Bias correction for second moments\n",
    "        RMSPQ_corrected = self.RMSPQ / (1 - self.rmsprop_beta ** self.iterations)\n",
    "        RMSPK_corrected = self.RMSPK / (1 - self.rmsprop_beta ** self.iterations)\n",
    "        RMSPV_corrected = self.RMSPV / (1 - self.rmsprop_beta ** self.iterations)\n",
    "        RMSPLy_corrected = self.RMSPLy / (1 - self.rmsprop_beta ** self.iterations)\n",
    "        RMSPB_corrected = self.RMSPB / (1 - self.rmsprop_beta ** self.iterations)\n",
    "    \n",
    "        # Update parameters using bias-corrected moments\n",
    "        self.Q -= self.learning_rate * MomQ_corrected / (np.sqrt(RMSPQ_corrected) + self.epsilon)\n",
    "        self.K -= self.learning_rate * MomK_corrected / (np.sqrt(RMSPK_corrected) + self.epsilon)\n",
    "        self.V -= self.learning_rate * MomV_corrected / (np.sqrt(RMSPV_corrected) + self.epsilon)\n",
    "        self.linearlayer -= self.learning_rate * MomLy_corrected / (np.sqrt(RMSPLy_corrected) + self.epsilon)\n",
    "        self.linear_bias -= self.learning_rate * MomB_corrected / (np.sqrt(RMSPB_corrected) + self.epsilon)\n",
    "\n",
    "         \n",
    "\n",
    "\n",
    "\n",
    "    def train(self, X_train, y_train, num_epochs, learning_rate=0.01):\n",
    "        \n",
    "        self.learning_rate = learning_rate\n",
    "        X_train = self.pad_sequences(X_train, self.words_per_phrase)\n",
    "\n",
    "        if self.validation_split > 0:\n",
    "            X_train, X_train_validation, y_train, y_train_validation = train_test_split(\n",
    "                X_train, y_train, test_size=self.validation_split, random_state=42)\n",
    "            print(\"Training starting:\")\n",
    "            print(\"X_train samples: \", X_train.shape[0])\n",
    "            print(\"X_train_validation samples\", X_train_validation.shape[0], \"\\n\")\n",
    "\n",
    "        \n",
    "        self.total_iterations = num_epochs*(len(X_train) // self.batch_size)\n",
    "        for epoch in range(num_epochs):\n",
    "            self.iterations=0\n",
    "            total_loss = 0\n",
    "\n",
    "            num_batches_per_epoch = len(X_train) // self.batch_size\n",
    "\n",
    "            for i in tqdm(range(num_batches_per_epoch), desc=f\"Epoch {epoch + 1}/{num_epochs}\"):\n",
    "                \n",
    "                \n",
    "                \n",
    "                start = i * self.batch_size\n",
    "                end = start + self.batch_size\n",
    "                \n",
    "                X_batch = X_train[start:end]\n",
    "                y_batch = y_train[start:end]\n",
    "\n",
    "                yi = self.forward(X_batch)\n",
    "\n",
    "                Loss = self.cross_entropy_loss(yi, y_batch)\n",
    "                total_loss += Loss\n",
    "\n",
    "                dLoss_dSigma_Zout = yi - y_batch\n",
    "\n",
    "                self.BackPropagation(dLoss_dSigma_Zout, X_batch)\n",
    "\n",
    "                \n",
    "            \n",
    "            if self.validation_split > 0:\n",
    "                self.training_validation(X_train_validation, y_train_validation, Loss)\n",
    "            print(f\"Epoch {epoch + 1}/{num_epochs}, Loss: {(total_loss / num_batches_per_epoch):.4f}, learning rate: {self.learning_rate}\")\n",
    "\n",
    "    def predict(self, X):\n",
    "        X = self.pad_sequences(X, self.words_per_phrase)\n",
    "        return self.forward(X)"
   ]
  },
  {
   "cell_type": "code",
   "execution_count": 9,
   "id": "6dc61562-feda-429a-bc15-db2b31b73639",
   "metadata": {
    "scrolled": true
   },
   "outputs": [
    {
     "name": "stdout",
     "output_type": "stream",
     "text": [
      "Training starting:\n",
      "X_train samples:  1501\n",
      "X_train_validation samples 167 \n",
      "\n"
     ]
    },
    {
     "name": "stderr",
     "output_type": "stream",
     "text": [
      "Epoch 1/10: 100%|██████████████████████████████████████████████████████████████████████| 23/23 [00:08<00:00,  2.64it/s]\n"
     ]
    },
    {
     "name": "stdout",
     "output_type": "stream",
     "text": [
      "Validation F1 score:  0.827796045884579\n",
      "Epoch 1/10, Loss: 1.3080, learning rate: 0.002884903119896506\n"
     ]
    },
    {
     "name": "stderr",
     "output_type": "stream",
     "text": [
      "Epoch 2/10: 100%|██████████████████████████████████████████████████████████████████████| 23/23 [00:09<00:00,  2.48it/s]\n"
     ]
    },
    {
     "name": "stdout",
     "output_type": "stream",
     "text": [
      "Validation F1 score:  0.9043912175648703\n",
      "Epoch 2/10, Loss: 0.4610, learning rate: 0.001\n"
     ]
    },
    {
     "name": "stderr",
     "output_type": "stream",
     "text": [
      "Epoch 3/10: 100%|██████████████████████████████████████████████████████████████████████| 23/23 [00:08<00:00,  2.57it/s]\n"
     ]
    },
    {
     "name": "stdout",
     "output_type": "stream",
     "text": [
      "Validation F1 score:  0.8864349998999885\n",
      "Epoch 3/10, Loss: 0.3722, learning rate: 0.001\n"
     ]
    },
    {
     "name": "stderr",
     "output_type": "stream",
     "text": [
      "Epoch 4/10: 100%|██████████████████████████████████████████████████████████████████████| 23/23 [00:08<00:00,  2.60it/s]\n"
     ]
    },
    {
     "name": "stdout",
     "output_type": "stream",
     "text": [
      "Validation F1 score:  0.9102065717247307\n",
      "Epoch 4/10, Loss: 0.3311, learning rate: 0.001\n"
     ]
    },
    {
     "name": "stderr",
     "output_type": "stream",
     "text": [
      "Epoch 5/10: 100%|██████████████████████████████████████████████████████████████████████| 23/23 [00:08<00:00,  2.60it/s]\n"
     ]
    },
    {
     "name": "stdout",
     "output_type": "stream",
     "text": [
      "Validation F1 score:  0.9221089846450888\n",
      "Epoch 5/10, Loss: 0.3048, learning rate: 0.001\n"
     ]
    },
    {
     "name": "stderr",
     "output_type": "stream",
     "text": [
      "Epoch 6/10: 100%|██████████████████████████████████████████████████████████████████████| 23/23 [00:08<00:00,  2.76it/s]\n"
     ]
    },
    {
     "name": "stdout",
     "output_type": "stream",
     "text": [
      "Validation F1 score:  0.8911004793416258\n",
      "Epoch 6/10, Loss: 0.2939, learning rate: 0.001\n"
     ]
    },
    {
     "name": "stderr",
     "output_type": "stream",
     "text": [
      "Epoch 7/10:   9%|██████▏                                                                | 2/23 [00:01<00:10,  1.92it/s]\n"
     ]
    },
    {
     "ename": "KeyboardInterrupt",
     "evalue": "",
     "output_type": "error",
     "traceback": [
      "\u001b[1;31m---------------------------------------------------------------------------\u001b[0m",
      "\u001b[1;31mKeyboardInterrupt\u001b[0m                         Traceback (most recent call last)",
      "Cell \u001b[1;32mIn[9], line 14\u001b[0m\n\u001b[0;32m     12\u001b[0m \u001b[38;5;66;03m#validation_split\u001b[39;00m\n\u001b[0;32m     13\u001b[0m model \u001b[38;5;241m=\u001b[39m QKVMultiHeadsAttentionClassifier(word_len, max_words_per_phrase,num_head, batch_size, dk, dv, num_classes,validation_split\u001b[38;5;241m=\u001b[39m\u001b[38;5;241m0.1\u001b[39m)\n\u001b[1;32m---> 14\u001b[0m \u001b[43mmodel\u001b[49m\u001b[38;5;241;43m.\u001b[39;49m\u001b[43mtrain\u001b[49m\u001b[43m(\u001b[49m\u001b[43mX_train\u001b[49m\u001b[43m,\u001b[49m\u001b[43m \u001b[49m\u001b[43my_train\u001b[49m\u001b[43m,\u001b[49m\u001b[43m \u001b[49m\u001b[43mnum_epochs\u001b[49m\u001b[38;5;241;43m=\u001b[39;49m\u001b[38;5;241;43m10\u001b[39;49m\u001b[43m,\u001b[49m\u001b[43m \u001b[49m\u001b[43mlearning_rate\u001b[49m\u001b[38;5;241;43m=\u001b[39;49m\u001b[38;5;241;43m0.01\u001b[39;49m\u001b[43m)\u001b[49m\n",
      "Cell \u001b[1;32mIn[8], line 308\u001b[0m, in \u001b[0;36mQKVMultiHeadsAttentionClassifier.train\u001b[1;34m(self, X_train, y_train, num_epochs, learning_rate)\u001b[0m\n\u001b[0;32m    304\u001b[0m     total_loss \u001b[38;5;241m+\u001b[39m\u001b[38;5;241m=\u001b[39m Loss\n\u001b[0;32m    306\u001b[0m     dLoss_dSigma_Zout \u001b[38;5;241m=\u001b[39m yi \u001b[38;5;241m-\u001b[39m y_batch\n\u001b[1;32m--> 308\u001b[0m     \u001b[38;5;28;43mself\u001b[39;49m\u001b[38;5;241;43m.\u001b[39;49m\u001b[43mBackPropagation\u001b[49m\u001b[43m(\u001b[49m\u001b[43mdLoss_dSigma_Zout\u001b[49m\u001b[43m,\u001b[49m\u001b[43m \u001b[49m\u001b[43mX_batch\u001b[49m\u001b[43m)\u001b[49m\n\u001b[0;32m    312\u001b[0m \u001b[38;5;28;01mif\u001b[39;00m \u001b[38;5;28mself\u001b[39m\u001b[38;5;241m.\u001b[39mvalidation_split \u001b[38;5;241m>\u001b[39m \u001b[38;5;241m0\u001b[39m:\n\u001b[0;32m    313\u001b[0m     \u001b[38;5;28mself\u001b[39m\u001b[38;5;241m.\u001b[39mtraining_validation(X_train_validation, y_train_validation, Loss)\n",
      "Cell \u001b[1;32mIn[8], line 202\u001b[0m, in \u001b[0;36mQKVMultiHeadsAttentionClassifier.BackPropagation\u001b[1;34m(self, dLoss_dSigma_Zout, Inputs)\u001b[0m\n\u001b[0;32m    197\u001b[0m dAttention_dSoftmax \u001b[38;5;241m=\u001b[39m \u001b[38;5;28mself\u001b[39m\u001b[38;5;241m.\u001b[39mAttention_weights \u001b[38;5;241m*\u001b[39m (\u001b[38;5;241m1\u001b[39m \u001b[38;5;241m-\u001b[39m \u001b[38;5;28mself\u001b[39m\u001b[38;5;241m.\u001b[39mAttention_weights)\n\u001b[0;32m    198\u001b[0m \u001b[38;5;66;03m# print(\"dAttention_dSoftmax shape:\", dAttention_dSoftmax.shape)\u001b[39;00m\n\u001b[0;32m    199\u001b[0m \n\u001b[0;32m    200\u001b[0m \n\u001b[0;32m    201\u001b[0m \u001b[38;5;66;03m# Compute dLoss_dQ\u001b[39;00m\n\u001b[1;32m--> 202\u001b[0m dLoss_dQ \u001b[38;5;241m=\u001b[39m \u001b[43mnp\u001b[49m\u001b[38;5;241;43m.\u001b[39;49m\u001b[43mtranspose\u001b[49m\u001b[43m(\u001b[49m\u001b[43mdL_dA\u001b[49m\u001b[43m,\u001b[49m\u001b[43m \u001b[49m\u001b[43m(\u001b[49m\u001b[38;5;241;43m0\u001b[39;49m\u001b[43m,\u001b[49m\u001b[43m \u001b[49m\u001b[38;5;241;43m1\u001b[39;49m\u001b[43m,\u001b[49m\u001b[43m \u001b[49m\u001b[38;5;241;43m3\u001b[39;49m\u001b[43m,\u001b[49m\u001b[43m \u001b[49m\u001b[38;5;241;43m2\u001b[39;49m\u001b[43m)\u001b[49m\u001b[43m)\u001b[49m \u001b[38;5;241m@\u001b[39m dAttention_dSoftmax \u001b[38;5;241m@\u001b[39m \u001b[38;5;28mself\u001b[39m\u001b[38;5;241m.\u001b[39mKval \u001b[38;5;241m@\u001b[39m np\u001b[38;5;241m.\u001b[39mtranspose(\u001b[38;5;28mself\u001b[39m\u001b[38;5;241m.\u001b[39mVval, (\n\u001b[0;32m    203\u001b[0m \u001b[38;5;241m0\u001b[39m, \u001b[38;5;241m1\u001b[39m, \u001b[38;5;241m3\u001b[39m, \u001b[38;5;241m2\u001b[39m)) \u001b[38;5;241m@\u001b[39m Inputs\u001b[38;5;241m.\u001b[39mreshape(Inputs\u001b[38;5;241m.\u001b[39mshape[\u001b[38;5;241m0\u001b[39m], \u001b[38;5;241m1\u001b[39m, \u001b[38;5;28mself\u001b[39m\u001b[38;5;241m.\u001b[39mwords_per_phrase, Inputs\u001b[38;5;241m.\u001b[39mshape[\u001b[38;5;241m2\u001b[39m])\n\u001b[0;32m    204\u001b[0m dLoss_dQ \u001b[38;5;241m=\u001b[39m np\u001b[38;5;241m.\u001b[39mconcatenate(np\u001b[38;5;241m.\u001b[39mmean(dLoss_dQ, axis\u001b[38;5;241m=\u001b[39m\u001b[38;5;241m0\u001b[39m), axis\u001b[38;5;241m=\u001b[39m\u001b[38;5;241m0\u001b[39m)\u001b[38;5;241m.\u001b[39mT\n\u001b[0;32m    205\u001b[0m \u001b[38;5;66;03m# print(\"dLoss_dQ shape:\", dLoss_dQ.shape)\u001b[39;00m\n\u001b[0;32m    206\u001b[0m \n\u001b[0;32m    207\u001b[0m \u001b[38;5;66;03m# Gradient of K\u001b[39;00m\n",
      "File \u001b[1;32m~\\Desktop\\LLMs from scratch\\spacy_env\\Lib\\site-packages\\numpy\\core\\fromnumeric.py:584\u001b[0m, in \u001b[0;36m_transpose_dispatcher\u001b[1;34m(a, axes)\u001b[0m\n\u001b[0;32m    539\u001b[0m \u001b[38;5;250m    \u001b[39m\u001b[38;5;124;03m\"\"\"\u001b[39;00m\n\u001b[0;32m    540\u001b[0m \u001b[38;5;124;03m    Interchange two axes of an array.\u001b[39;00m\n\u001b[0;32m    541\u001b[0m \n\u001b[1;32m   (...)\u001b[0m\n\u001b[0;32m    579\u001b[0m \n\u001b[0;32m    580\u001b[0m \u001b[38;5;124;03m    \"\"\"\u001b[39;00m\n\u001b[0;32m    581\u001b[0m     \u001b[38;5;28;01mreturn\u001b[39;00m _wrapfunc(a, \u001b[38;5;124m'\u001b[39m\u001b[38;5;124mswapaxes\u001b[39m\u001b[38;5;124m'\u001b[39m, axis1, axis2)\n\u001b[1;32m--> 584\u001b[0m \u001b[38;5;28;01mdef\u001b[39;00m \u001b[38;5;21m_transpose_dispatcher\u001b[39m(a, axes\u001b[38;5;241m=\u001b[39m\u001b[38;5;28;01mNone\u001b[39;00m):\n\u001b[0;32m    585\u001b[0m     \u001b[38;5;28;01mreturn\u001b[39;00m (a,)\n\u001b[0;32m    588\u001b[0m \u001b[38;5;129m@array_function_dispatch\u001b[39m(_transpose_dispatcher)\n\u001b[0;32m    589\u001b[0m \u001b[38;5;28;01mdef\u001b[39;00m \u001b[38;5;21mtranspose\u001b[39m(a, axes\u001b[38;5;241m=\u001b[39m\u001b[38;5;28;01mNone\u001b[39;00m):\n",
      "\u001b[1;31mKeyboardInterrupt\u001b[0m: "
     ]
    }
   ],
   "source": [
    " \n",
    "\n",
    "word_len = 300\n",
    "max_words_per_phrase=100\n",
    "dk = 32\n",
    "dv = 32\n",
    "batch_size = 64\n",
    "num_classes = 5\n",
    "num_head=8\n",
    "\n",
    " \n",
    "\n",
    "\n",
    "#validation_split\n",
    "model = QKVMultiHeadsAttentionClassifier(word_len, max_words_per_phrase,num_head, batch_size, dk, dv, num_classes,validation_split=0.1)\n",
    "model.train(X_train, y_train, num_epochs=10, learning_rate=0.01)"
   ]
  },
  {
   "cell_type": "code",
   "execution_count": 12,
   "id": "b80e04cd-5c4b-4dda-87cf-69b2f97d95e0",
   "metadata": {
    "scrolled": true
   },
   "outputs": [
    {
     "name": "stdout",
     "output_type": "stream",
     "text": [
      "Training starting:\n",
      "X_train samples:  1501\n",
      "X_train_validation samples 167 \n",
      "\n"
     ]
    },
    {
     "name": "stderr",
     "output_type": "stream",
     "text": [
      "Epoch 1/30: 100%|██████████████████████████████████████████████████████████████████████| 11/11 [00:02<00:00,  5.27it/s]\n"
     ]
    },
    {
     "name": "stdout",
     "output_type": "stream",
     "text": [
      "Validation F1 score:  0.6560568752962681\n",
      "Epoch 1/30, Loss: 12.3813, learning rate: 0.7234459346666596\n"
     ]
    },
    {
     "name": "stderr",
     "output_type": "stream",
     "text": [
      "Epoch 2/30: 100%|██████████████████████████████████████████████████████████████████████| 11/11 [00:01<00:00,  6.55it/s]\n"
     ]
    },
    {
     "name": "stdout",
     "output_type": "stream",
     "text": [
      "Validation F1 score:  0.8518788095169474\n",
      "Epoch 2/30, Loss: 3.8153, learning rate: 0.654217525482146\n"
     ]
    },
    {
     "name": "stderr",
     "output_type": "stream",
     "text": [
      "Epoch 3/30: 100%|██████████████████████████████████████████████████████████████████████| 11/11 [00:01<00:00,  6.71it/s]\n"
     ]
    },
    {
     "name": "stdout",
     "output_type": "stream",
     "text": [
      "Validation F1 score:  0.915268179138575\n",
      "Epoch 3/30, Loss: 2.2904, learning rate: 0.5916137614971753\n"
     ]
    },
    {
     "name": "stderr",
     "output_type": "stream",
     "text": [
      "Epoch 4/30: 100%|██████████████████████████████████████████████████████████████████████| 11/11 [00:01<00:00,  6.68it/s]\n"
     ]
    },
    {
     "name": "stdout",
     "output_type": "stream",
     "text": [
      "Validation F1 score:  0.9053079376188341\n",
      "Epoch 4/30, Loss: 1.6124, learning rate: 0.5350007133099778\n"
     ]
    },
    {
     "name": "stderr",
     "output_type": "stream",
     "text": [
      "Epoch 5/30: 100%|██████████████████████████████████████████████████████████████████████| 11/11 [00:01<00:00,  6.56it/s]\n"
     ]
    },
    {
     "name": "stdout",
     "output_type": "stream",
     "text": [
      "Validation F1 score:  0.9201442919671335\n",
      "Epoch 5/30, Loss: 1.3595, learning rate: 0.4838051138598331\n"
     ]
    },
    {
     "name": "stderr",
     "output_type": "stream",
     "text": [
      "Epoch 6/30: 100%|██████████████████████████████████████████████████████████████████████| 11/11 [00:01<00:00,  6.28it/s]\n"
     ]
    },
    {
     "name": "stdout",
     "output_type": "stream",
     "text": [
      "Validation F1 score:  0.8995031542988575\n",
      "Epoch 6/30, Loss: 1.1644, learning rate: 0.4375085534910458\n"
     ]
    },
    {
     "name": "stderr",
     "output_type": "stream",
     "text": [
      "Epoch 7/30: 100%|██████████████████████████████████████████████████████████████████████| 11/11 [00:01<00:00,  6.61it/s]\n"
     ]
    },
    {
     "name": "stdout",
     "output_type": "stream",
     "text": [
      "Validation F1 score:  0.9187539683149747\n",
      "Epoch 7/30, Loss: 1.0545, learning rate: 0.39564223050623487\n"
     ]
    },
    {
     "name": "stderr",
     "output_type": "stream",
     "text": [
      "Epoch 8/30: 100%|██████████████████████████████████████████████████████████████████████| 11/11 [00:01<00:00,  6.59it/s]\n"
     ]
    },
    {
     "name": "stdout",
     "output_type": "stream",
     "text": [
      "Validation F1 score:  0.8990985392678249\n",
      "Epoch 8/30, Loss: 1.1950, learning rate: 0.3577822040527314\n"
     ]
    },
    {
     "name": "stderr",
     "output_type": "stream",
     "text": [
      "Epoch 9/30: 100%|██████████████████████████████████████████████████████████████████████| 11/11 [00:01<00:00,  6.55it/s]\n"
     ]
    },
    {
     "name": "stdout",
     "output_type": "stream",
     "text": [
      "Validation F1 score:  0.9148177373479189\n",
      "Epoch 9/30, Loss: 0.8390, learning rate: 0.32354510127253233\n"
     ]
    },
    {
     "name": "stderr",
     "output_type": "stream",
     "text": [
      "Epoch 10/30: 100%|█████████████████████████████████████████████████████████████████████| 11/11 [00:01<00:00,  7.20it/s]\n"
     ]
    },
    {
     "name": "stdout",
     "output_type": "stream",
     "text": [
      "Validation F1 score:  0.9056676263789637\n",
      "Epoch 10/30, Loss: 0.9655, learning rate: 0.2925842352461577\n"
     ]
    },
    {
     "name": "stderr",
     "output_type": "stream",
     "text": [
      "Epoch 11/30: 100%|█████████████████████████████████████████████████████████████████████| 11/11 [00:01<00:00,  6.05it/s]\n"
     ]
    },
    {
     "name": "stdout",
     "output_type": "stream",
     "text": [
      "Validation F1 score:  0.9288767941720755\n",
      "Epoch 11/30, Loss: 0.4681, learning rate: 0.264586094420483\n"
     ]
    },
    {
     "name": "stderr",
     "output_type": "stream",
     "text": [
      "Epoch 12/30: 100%|█████████████████████████████████████████████████████████████████████| 11/11 [00:01<00:00,  7.78it/s]\n"
     ]
    },
    {
     "name": "stdout",
     "output_type": "stream",
     "text": [
      "Validation F1 score:  0.9348191568449384\n",
      "Epoch 12/30, Loss: 0.3753, learning rate: 0.2392671679722843\n"
     ]
    },
    {
     "name": "stderr",
     "output_type": "stream",
     "text": [
      "Epoch 13/30: 100%|█████████████████████████████████████████████████████████████████████| 11/11 [00:01<00:00,  7.68it/s]\n"
     ]
    },
    {
     "name": "stdout",
     "output_type": "stream",
     "text": [
      "Validation F1 score:  0.922765163074019\n",
      "Epoch 13/30, Loss: 0.5204, learning rate: 0.21637107496094235\n"
     ]
    },
    {
     "name": "stderr",
     "output_type": "stream",
     "text": [
      "Epoch 14/30: 100%|█████████████████████████████████████████████████████████████████████| 11/11 [00:01<00:00,  7.23it/s]\n"
     ]
    },
    {
     "name": "stdout",
     "output_type": "stream",
     "text": [
      "Validation F1 score:  0.9227325708573739\n",
      "Epoch 14/30, Loss: 0.4293, learning rate: 0.19566596819993604\n"
     ]
    },
    {
     "name": "stderr",
     "output_type": "stream",
     "text": [
      "Epoch 15/30: 100%|█████████████████████████████████████████████████████████████████████| 11/11 [00:01<00:00,  7.81it/s]\n"
     ]
    },
    {
     "name": "stdout",
     "output_type": "stream",
     "text": [
      "Validation F1 score:  0.9288732476567333\n",
      "Epoch 15/30, Loss: 0.3866, learning rate: 0.17694218655857452\n"
     ]
    },
    {
     "name": "stderr",
     "output_type": "stream",
     "text": [
      "Epoch 16/30: 100%|█████████████████████████████████████████████████████████████████████| 11/11 [00:01<00:00,  6.63it/s]\n"
     ]
    },
    {
     "name": "stdout",
     "output_type": "stream",
     "text": [
      "Validation F1 score:  0.928927599346761\n",
      "Epoch 16/30, Loss: 0.3415, learning rate: 0.16001013192103802\n"
     ]
    },
    {
     "name": "stderr",
     "output_type": "stream",
     "text": [
      "Epoch 17/30: 100%|█████████████████████████████████████████████████████████████████████| 11/11 [00:01<00:00,  6.39it/s]\n"
     ]
    },
    {
     "name": "stdout",
     "output_type": "stream",
     "text": [
      "Validation F1 score:  0.9404767586256192\n",
      "Epoch 17/30, Loss: 0.2375, learning rate: 0.1446983493046886\n"
     ]
    },
    {
     "name": "stderr",
     "output_type": "stream",
     "text": [
      "Epoch 18/30: 100%|█████████████████████████████████████████████████████████████████████| 11/11 [00:01<00:00,  6.76it/s]\n"
     ]
    },
    {
     "name": "stdout",
     "output_type": "stream",
     "text": [
      "Validation F1 score:  0.9405925366342207\n",
      "Epoch 18/30, Loss: 0.2678, learning rate: 0.13085179069681657\n"
     ]
    },
    {
     "name": "stderr",
     "output_type": "stream",
     "text": [
      "Epoch 19/30: 100%|█████████████████████████████████████████████████████████████████████| 11/11 [00:01<00:00,  6.33it/s]\n"
     ]
    },
    {
     "name": "stdout",
     "output_type": "stream",
     "text": [
      "Validation F1 score:  0.9292409415411251\n",
      "Epoch 19/30, Loss: 0.3394, learning rate: 0.11833024502933073\n"
     ]
    },
    {
     "name": "stderr",
     "output_type": "stream",
     "text": [
      "Epoch 20/30: 100%|█████████████████████████████████████████████████████████████████████| 11/11 [00:01<00:00,  6.33it/s]\n"
     ]
    },
    {
     "name": "stdout",
     "output_type": "stream",
     "text": [
      "Validation F1 score:  0.9345121644921252\n",
      "Epoch 20/30, Loss: 0.2853, learning rate: 0.10700691839322377\n"
     ]
    },
    {
     "name": "stderr",
     "output_type": "stream",
     "text": [
      "Epoch 21/30: 100%|█████████████████████████████████████████████████████████████████████| 11/11 [00:01<00:00,  7.81it/s]\n"
     ]
    },
    {
     "name": "stdout",
     "output_type": "stream",
     "text": [
      "Validation F1 score:  0.9352271907709234\n",
      "Epoch 21/30, Loss: 0.2075, learning rate: 0.09676715011598093\n"
     ]
    },
    {
     "name": "stderr",
     "output_type": "stream",
     "text": [
      "Epoch 22/30: 100%|█████████████████████████████████████████████████████████████████████| 11/11 [00:01<00:00,  7.73it/s]\n"
     ]
    },
    {
     "name": "stdout",
     "output_type": "stream",
     "text": [
      "Validation F1 score:  0.9405565760995855\n",
      "Epoch 22/30, Loss: 0.1055, learning rate: 0.08750725170085596\n"
     ]
    },
    {
     "name": "stderr",
     "output_type": "stream",
     "text": [
      "Epoch 23/30: 100%|█████████████████████████████████████████████████████████████████████| 11/11 [00:01<00:00,  7.85it/s]\n"
     ]
    },
    {
     "name": "stdout",
     "output_type": "stream",
     "text": [
      "Validation F1 score:  0.9345930898376406\n",
      "Epoch 23/30, Loss: 0.1177, learning rate: 0.0791334568710455\n"
     ]
    },
    {
     "name": "stderr",
     "output_type": "stream",
     "text": [
      "Epoch 24/30: 100%|█████████████████████████████████████████████████████████████████████| 11/11 [00:01<00:00,  7.84it/s]\n"
     ]
    },
    {
     "name": "stdout",
     "output_type": "stream",
     "text": [
      "Validation F1 score:  0.934804113480528\n",
      "Epoch 24/30, Loss: 0.0599, learning rate: 0.07156097208684666\n"
     ]
    },
    {
     "name": "stderr",
     "output_type": "stream",
     "text": [
      "Epoch 25/30: 100%|█████████████████████████████████████████████████████████████████████| 11/11 [00:01<00:00,  7.78it/s]\n"
     ]
    },
    {
     "name": "stdout",
     "output_type": "stream",
     "text": [
      "Validation F1 score:  0.9287862271717989\n",
      "Epoch 25/30, Loss: 0.0599, learning rate: 0.06471311792127941\n"
     ]
    },
    {
     "name": "stderr",
     "output_type": "stream",
     "text": [
      "Epoch 26/30: 100%|█████████████████████████████████████████████████████████████████████| 11/11 [00:01<00:00,  7.80it/s]\n"
     ]
    },
    {
     "name": "stdout",
     "output_type": "stream",
     "text": [
      "Validation F1 score:  0.9404965899675408\n",
      "Epoch 26/30, Loss: 0.0741, learning rate: 0.05852055259969218\n"
     ]
    },
    {
     "name": "stderr",
     "output_type": "stream",
     "text": [
      "Epoch 27/30: 100%|█████████████████████████████████████████████████████████████████████| 11/11 [00:01<00:00,  7.35it/s]\n"
     ]
    },
    {
     "name": "stdout",
     "output_type": "stream",
     "text": [
      "Validation F1 score:  0.9288121232929948\n",
      "Epoch 27/30, Loss: 0.0304, learning rate: 0.052920569840867154\n"
     ]
    },
    {
     "name": "stderr",
     "output_type": "stream",
     "text": [
      "Epoch 28/30: 100%|█████████████████████████████████████████████████████████████████████| 11/11 [00:01<00:00,  6.89it/s]\n"
     ]
    },
    {
     "name": "stdout",
     "output_type": "stream",
     "text": [
      "Validation F1 score:  0.9349314710034345\n",
      "Epoch 28/30, Loss: 0.0152, learning rate: 0.04785646388952297\n"
     ]
    },
    {
     "name": "stderr",
     "output_type": "stream",
     "text": [
      "Epoch 29/30: 100%|█████████████████████████████████████████████████████████████████████| 11/11 [00:01<00:00,  6.81it/s]\n"
     ]
    },
    {
     "name": "stdout",
     "output_type": "stream",
     "text": [
      "Validation F1 score:  0.9349314710034345\n",
      "Epoch 29/30, Loss: 0.0157, learning rate: 0.04327695531049648\n"
     ]
    },
    {
     "name": "stderr",
     "output_type": "stream",
     "text": [
      "Epoch 30/30: 100%|█████████████████████████████████████████████████████████████████████| 11/11 [00:01<00:00,  6.26it/s]"
     ]
    },
    {
     "name": "stdout",
     "output_type": "stream",
     "text": [
      "Validation F1 score:  0.9409177202332328\n",
      "Epoch 30/30, Loss: 0.0005, learning rate: 0.03913567173016173\n"
     ]
    },
    {
     "name": "stderr",
     "output_type": "stream",
     "text": [
      "\n"
     ]
    }
   ],
   "source": [
    "import cupy\n",
    "\n",
    "class QKVMultiHeadsAttentionClassifier:\n",
    "    def __init__(self, word_len, words_per_phrase, num_heads, batch_size, dk, dv, num_classes, validation_split=0.0,\n",
    "                 momentum_beta=0.9,\n",
    "                 rmsprop_beta=0.98,\n",
    "                 epsilon=0.00000001):\n",
    "\n",
    "        self.word_len = word_len\n",
    "        self.batch_size = batch_size\n",
    "        self.dk = dk\n",
    "        self.dv = dv\n",
    "        self.num_heads = num_heads\n",
    "        self.num_classes = num_classes\n",
    "        self.words_per_phrase = words_per_phrase\n",
    "        self.validation_split = validation_split\n",
    "        self.validation_scores = []\n",
    "        self.training_losses = []\n",
    "        self.MomQ = 0\n",
    "        self.MomK = 0\n",
    "        self.MomV = 0\n",
    "        self.MomLy = 0\n",
    "        self.MomB = 0\n",
    "        self.RMSPQ = 0\n",
    "        self.RMSPK = 0\n",
    "        self.RMSPV = 0\n",
    "        self.RMSPLy = 0\n",
    "        self.RMSPB = 0\n",
    "        self.momentum_beta = momentum_beta\n",
    "        self.rmsprop_beta = rmsprop_beta\n",
    "        self.epsilon = epsilon\n",
    "        self.iterations = 0\n",
    "\n",
    "        # Initialize weights with Xavier/Glorot initialization\n",
    "        self.Q = cupy.random.randn(self.word_len, self.dv) / cupy.sqrt(self.word_len)  # * 0.01\n",
    "        self.K = cupy.random.randn(self.word_len, self.dv) / cupy.sqrt(self.word_len)  # * 0.01\n",
    "        self.V = cupy.random.randn(self.word_len, self.dv) / cupy.sqrt(self.word_len)  # * 0.01\n",
    "\n",
    "        # Initialize linear layer weights\n",
    "        self.linearlayer = cupy.random.randn(self.dv, self.num_classes) / cupy.sqrt(self.dk)\n",
    "        self.linear_bias = cupy.zeros(self.num_classes)\n",
    "\n",
    "    def softmax(self, x, axis=-1):\n",
    "        x = cupy.clip(x, -1e4, 1e4)  # Clip for numerical stability\n",
    "        e_x = cupy.exp(x - cupy.max(x, axis=axis, keepdims=True))\n",
    "        softmax_result = e_x / cupy.sum(e_x, axis=axis, keepdims=True)\n",
    "        # print(\"Softmax result shape:\", softmax_result.shape)\n",
    "        return softmax_result\n",
    "\n",
    "    def cross_entropy_loss(self, predictions, target):\n",
    "        # Cross-entropy loss for a batch of predictions and targets\n",
    "        batch_loss = -cupy.sum(target * cupy.log(predictions + 1e-9), axis=1)\n",
    "        mean_loss = cupy.mean(batch_loss)\n",
    "        # print(\"Cross-entropy loss:\", mean_loss)\n",
    "        return mean_loss\n",
    "\n",
    "    def load_train_validation_splits(self, X_train, y_train):\n",
    "        X_train_validation = X_train[0:round(self.validation_split * len(X_train))]\n",
    "        y_train_validation = y_train[0:round(self.validation_split * len(y_train))]\n",
    "        X_train = X_train[round(self.validation_split * len(X_train)):]\n",
    "        y_train = y_train[round(self.validation_split * len(y_train)):]\n",
    "        return [X_train, X_train_validation, y_train, y_train_validation]\n",
    "\n",
    "    def pad_sequences(self, sequences, max_len):\n",
    "        padded_sequences = cupy.zeros((len(sequences), max_len, sequences[0].shape[1]))\n",
    "        for i, seq in enumerate(sequences):\n",
    "            length = min(seq.shape[0], max_len)\n",
    "            padded_sequences[i, :length] = seq[:length]\n",
    "        return padded_sequences\n",
    "\n",
    "    def training_validation(self, X_validation, y_validation, current_loss):\n",
    "        # Pad validation sequences\n",
    "        X_validation = self.pad_sequences(X_validation, self.words_per_phrase)\n",
    "\n",
    "        # Make predictions\n",
    "        predictions = self.predict(X_validation)\n",
    "\n",
    "        # Convert predictions to class labels\n",
    "        y_pred = cupy.argmax(predictions, axis=1)\n",
    "\n",
    "        # Convert one-hot encoded true labels to class labels\n",
    "        y_true = cupy.argmax(y_validation, axis=1)\n",
    "\n",
    "        #print(\"y_true\",np.array(y_true.get()))\n",
    "        # Calculate F1 score\n",
    "        f1 = f1_score(y_true.get(), y_pred.get(), average=\"weighted\")\n",
    "        print(\"Validation F1 score: \", f1)\n",
    "\n",
    "        # Append current F1 score and loss\n",
    "        self.validation_scores.append(float(f1))\n",
    "        self.training_losses.append(float(current_loss))\n",
    "\n",
    "        # Create an Epoch column\n",
    "        epochs = list(range(1, len(self.validation_scores) + 1))\n",
    "\n",
    "        # Create DataFrame for plotting\n",
    "        data = pd.DataFrame({\n",
    "            'Epoch': epochs,\n",
    "            'F1 Score': self.validation_scores,\n",
    "            'Loss': self.training_losses\n",
    "        })\n",
    "\n",
    "        # Plot F1 score and Loss\n",
    "        self.image = plt.figure(figsize=(10, 6))\n",
    "\n",
    "        # F1 score line plot\n",
    "        sns.lineplot(x='Epoch', y='F1 Score', data=data, label='F1 Score', marker='o')\n",
    "\n",
    "        # Loss line plot on the same axes\n",
    "        sns.lineplot(x='Epoch', y='Loss', data=data, label='Loss', marker='o')\n",
    "\n",
    "        # Set plot labels and title\n",
    "        plt.title('F1 Score and Loss over Epochs')\n",
    "        plt.xlabel('Epoch')\n",
    "        plt.ylabel('Score / Loss')\n",
    "\n",
    "        # Show legend and grid\n",
    "        plt.legend()\n",
    "        plt.grid(True)\n",
    "        buf = io.BytesIO()\n",
    "        plt.savefig(buf, format='png')\n",
    "        buf.seek(0)\n",
    "\n",
    "        # Load the image from BytesIO object into a PIL Image\n",
    "        self.image = Image.open(buf)\n",
    "\n",
    "        plt.close()\n",
    "        # Display the plot\n",
    "        # self.image.show()\n",
    "\n",
    "    def MultiHeadsAttention(self, Inputs):\n",
    "        #print(\"cupy.matmul(Inputs, self.Q)\", cupy.matmul(Inputs, self.Q).shape)\n",
    "        #print(\"cupy.array_split:\",cupy.array(cupy.array_split(cupy.matmul(Inputs, self.Q), self.num_heads, axis=2)).shape)\n",
    "        # print(\"Kval shape:\", self.Kval.shape)\n",
    "        # print(\"Vval shape:\", self.Vval.shape)\n",
    "        self.Qval = cupy.swapaxes(cupy.array(cupy.array_split(cupy.matmul(Inputs, self.Q), self.num_heads, axis=2)), 0, 1)\n",
    "        self.Kval = cupy.swapaxes(cupy.array(cupy.array_split(cupy.matmul(Inputs, self.K), self.num_heads, axis=2)), 0, 1)\n",
    "        self.Vval = cupy.swapaxes(cupy.array(cupy.array_split(cupy.matmul(Inputs, self.V), self.num_heads, axis=2)), 0, 1)\n",
    "        # print(\"Qval shape:\", self.Qval.shape)\n",
    "        # print(\"Kval shape:\", self.Kval.shape)\n",
    "        # print(\"Vval shape:\", self.Vval.shape)\n",
    "\n",
    "        QKscaled = cupy.matmul(self.Qval, cupy.transpose(self.Kval, (0, 1, 3, 2))) / cupy.sqrt(self.dk)\n",
    "        # print(\"QKscaled shape:\", QKscaled.shape)\n",
    "\n",
    "        self.Attention_weights = self.softmax(QKscaled)\n",
    "        # print(\"Attention_weights shape:\", self.Attention_weights.shape)\n",
    "\n",
    "        Attention_output = cupy.matmul(self.Attention_weights, self.Vval)\n",
    "        # print(\"Attention output shape:\", Attention_output.shape)\n",
    "\n",
    "        return Attention_output\n",
    "\n",
    "    def LinearLayer(self):\n",
    "        output = cupy.matmul(self.phrase_representation, self.linearlayer) + self.linear_bias\n",
    "        # print(\"Linear layer output shape:\", output.shape)\n",
    "        return output\n",
    "\n",
    "    def forward(self, Inputs):\n",
    "\n",
    "        Attention = self.MultiHeadsAttention(Inputs)\n",
    "\n",
    "        # print(\"Attention shape:\", Attention.shape)\n",
    "        # print(\"Attention mean shape:\", cupy.mean(Attention, axis=2).shape)\n",
    "        self.phrase_representation = cupy.mean(Attention, axis=2).reshape(Inputs.shape[0], self.dv)\n",
    "\n",
    "        Zout = self.LinearLayer()\n",
    "\n",
    "        Sigma_Zout = self.softmax(Zout)\n",
    "        # print(\"Sigma_Zout shape:\", Sigma_Zout.shape)\n",
    "\n",
    "        return Sigma_Zout\n",
    "\n",
    "    def BackPropagation(self, dLoss_dSigma_Zout, Inputs):\n",
    "\n",
    "        # Gradient for linear layer\n",
    "        dlinear_dW = cupy.dot(dLoss_dSigma_Zout.T, self.phrase_representation).T\n",
    "        # print(\"dlinear_dW shape:\", dlinear_dW.shape)\n",
    "\n",
    "        # Gradient for bias\n",
    "        d_bias = cupy.sum(dLoss_dSigma_Zout, axis=0)\n",
    "        # print(\"d_bias shape:\", d_bias.shape)\n",
    "\n",
    "        # Gradient for phrase representation\n",
    "        d_phrase_rep = cupy.dot(dLoss_dSigma_Zout, self.linearlayer.T)\n",
    "        # print(\"d_phrase_rep shape:\", d_phrase_rep.shape)\n",
    "\n",
    "        # Gradient for attention\n",
    "        dL_dA = cupy.array(\n",
    "            [cupy.outer(cupy.ones(Inputs.shape[1]), d_phrase_rep[i, :]) for i in range(d_phrase_rep.shape[0])]) / \\\n",
    "                Inputs.shape[1]\n",
    "        dL_dA = cupy.swapaxes(cupy.array(cupy.array_split(dL_dA, self.num_heads, axis=2)), 0, 1)\n",
    "        # print(\"dL_dA shape:\", dL_dA.shape)\n",
    "\n",
    "        # Gradient for V\n",
    "        d_Vval = cupy.matmul(cupy.transpose(dL_dA, (0, 1, 3, 2)), self.Attention_weights)\n",
    "        dLoss_dV = cupy.concatenate(\n",
    "            cupy.mean(cupy.matmul(d_Vval, Inputs.reshape(Inputs.shape[0], 1, self.words_per_phrase, Inputs.shape[2])),\n",
    "                    axis=0), axis=0).T\n",
    "        # print(\"dLoss_dV shape:\", dLoss_dV.shape)\n",
    "\n",
    "        # Gradient of softmax\n",
    "        dAttention_dSoftmax = self.Attention_weights * (1 - self.Attention_weights)\n",
    "        # print(\"dAttention_dSoftmax shape:\", dAttention_dSoftmax.shape)\n",
    "\n",
    "        # Compute dLoss_dQ\n",
    "        dLoss_dQ = cupy.transpose(dL_dA, (0, 1, 3, 2)) @ dAttention_dSoftmax @ self.Kval @ cupy.transpose(self.Vval, (\n",
    "            0, 1, 3, 2)) @ Inputs.reshape(Inputs.shape[0], 1, self.words_per_phrase, Inputs.shape[2])\n",
    "        dLoss_dQ = cupy.concatenate(cupy.mean(dLoss_dQ, axis=0), axis=0).T\n",
    "        # print(\"dLoss_dQ shape:\", dLoss_dQ.shape)\n",
    "\n",
    "        # Gradient of K\n",
    "        dLoss_dK = cupy.transpose(dL_dA, (0, 1, 3, 2)) @ dAttention_dSoftmax @ self.Qval @ cupy.transpose(self.Vval, (\n",
    "            0, 1, 3, 2)) @ Inputs.reshape(Inputs.shape[0], 1, self.words_per_phrase, Inputs.shape[2])\n",
    "        dLoss_dK = cupy.concatenate(cupy.mean(dLoss_dK, axis=0), axis=0).T\n",
    "        # print(\"dLoss_dK shape:\", dLoss_dK.shape)\n",
    "\n",
    "        # Gradient clipping\n",
    "        clip_value = 150.0\n",
    "        dLoss_dQ = cupy.clip(dLoss_dQ, -clip_value, clip_value)\n",
    "        dLoss_dK = cupy.clip(dLoss_dK, -clip_value, clip_value)\n",
    "        dLoss_dV = cupy.clip(dLoss_dV, -clip_value, clip_value)\n",
    "        dlinear_dW = cupy.clip(dlinear_dW, -clip_value, clip_value)\n",
    "        d_bias = cupy.clip(d_bias, -clip_value, clip_value)\n",
    "\n",
    "        self.UpdateParams(dLoss_dQ, dLoss_dK, dLoss_dV, dlinear_dW, d_bias)\n",
    "\n",
    "    def UpdateParams(self, dLoss_dQ, dLoss_dK, dLoss_dV, dlinear_dW, d_bias):\n",
    "        self.iterations += 1\n",
    "        # Set a minimum learning rate to avoid it going too low\n",
    "        # Linear learning rate decay\n",
    "\n",
    "        lr = self.learning_rate * (1 - self.iterations / (self.total_iterations*2))\n",
    "        self.learning_rate = max(lr, 0.001)  # Prevent learning rate from becoming too small\n",
    "\n",
    "        # Update biased first moments (momentum)\n",
    "        self.MomQ = (self.momentum_beta * self.MomQ + (1 - self.momentum_beta) * dLoss_dQ)\n",
    "        self.MomK = (self.momentum_beta * self.MomK + (1 - self.momentum_beta) * dLoss_dK)\n",
    "        self.MomV = (self.momentum_beta * self.MomV + (1 - self.momentum_beta) * dLoss_dV)\n",
    "        self.MomLy = (self.momentum_beta * self.MomLy + (1 - self.momentum_beta) * dlinear_dW)\n",
    "        self.MomB = (self.momentum_beta * self.MomB + (1 - self.momentum_beta) * d_bias)\n",
    "\n",
    "        # Update biased second moments (variance)\n",
    "        self.RMSPQ = (self.rmsprop_beta * self.RMSPQ + (1 - self.rmsprop_beta) * dLoss_dQ * dLoss_dQ)\n",
    "        self.RMSPK = (self.rmsprop_beta * self.RMSPK + (1 - self.rmsprop_beta) * dLoss_dK * dLoss_dK)\n",
    "        self.RMSPV = (self.rmsprop_beta * self.RMSPV + (1 - self.rmsprop_beta) * dLoss_dV * dLoss_dV)\n",
    "        self.RMSPLy = (self.rmsprop_beta * self.RMSPLy + (1 - self.rmsprop_beta) * dlinear_dW * dlinear_dW)\n",
    "        self.RMSPB = (self.rmsprop_beta * self.RMSPB + (1 - self.rmsprop_beta) * d_bias * d_bias)\n",
    "\n",
    "        # Bias correction for first moments\n",
    "        MomQ_corrected = self.MomQ / (1 - self.momentum_beta ** self.iterations)\n",
    "        MomK_corrected = self.MomK / (1 - self.momentum_beta ** self.iterations)\n",
    "        MomV_corrected = self.MomV / (1 - self.momentum_beta ** self.iterations)\n",
    "        MomLy_corrected = self.MomLy / (1 - self.momentum_beta ** self.iterations)\n",
    "        MomB_corrected = self.MomB / (1 - self.momentum_beta ** self.iterations)\n",
    "\n",
    "        # Bias correction for second moments\n",
    "        RMSPQ_corrected = self.RMSPQ / (1 - self.rmsprop_beta ** self.iterations)\n",
    "        RMSPK_corrected = self.RMSPK / (1 - self.rmsprop_beta ** self.iterations)\n",
    "        RMSPV_corrected = self.RMSPV / (1 - self.rmsprop_beta ** self.iterations)\n",
    "        RMSPLy_corrected = self.RMSPLy / (1 - self.rmsprop_beta ** self.iterations)\n",
    "        RMSPB_corrected = self.RMSPB / (1 - self.rmsprop_beta ** self.iterations)\n",
    "\n",
    "        # Update parameters using bias-corrected moments\n",
    "        self.Q -= self.learning_rate * MomQ_corrected / (cupy.sqrt(RMSPQ_corrected) + self.epsilon)\n",
    "        self.K -= self.learning_rate * MomK_corrected / (cupy.sqrt(RMSPK_corrected) + self.epsilon)\n",
    "        self.V -= self.learning_rate * MomV_corrected / (cupy.sqrt(RMSPV_corrected) + self.epsilon)\n",
    "        self.linearlayer -= self.learning_rate * MomLy_corrected / (cupy.sqrt(RMSPLy_corrected) + self.epsilon)\n",
    "        self.linear_bias -= self.learning_rate * MomB_corrected / (cupy.sqrt(RMSPB_corrected) + self.epsilon)\n",
    "\n",
    "    def train(self, X_train, y_train, num_epochs, learning_rate=0.01):\n",
    "\n",
    "        self.learning_rate = learning_rate\n",
    "        X_train = self.pad_sequences(X_train, self.words_per_phrase)\n",
    "\n",
    "        if self.validation_split > 0:\n",
    "            X_train, X_train_validation, y_train, y_train_validation = train_test_split(\n",
    "                X_train, y_train, test_size=self.validation_split, random_state=42)\n",
    "            print(\"Training starting:\")\n",
    "            print(\"X_train samples: \", X_train.shape[0])\n",
    "            print(\"X_train_validation samples\", X_train_validation.shape[0], \"\\n\")\n",
    "\n",
    "        self.total_iterations = num_epochs * (len(X_train) // self.batch_size)\n",
    "        for epoch in range(num_epochs):\n",
    "            self.iterations = 0\n",
    "            total_loss = 0\n",
    "\n",
    "            num_batches_per_epoch = len(X_train) // self.batch_size\n",
    "\n",
    "            for i in tqdm(range(num_batches_per_epoch), desc=f\"Epoch {epoch + 1}/{num_epochs}\"):\n",
    "                start = i * self.batch_size\n",
    "                end = start + self.batch_size\n",
    "\n",
    "                X_batch = X_train[start:end]\n",
    "                y_batch = y_train[start:end]\n",
    "\n",
    "                yi = self.forward(X_batch)\n",
    "\n",
    "                Loss = self.cross_entropy_loss(yi, y_batch)\n",
    "                total_loss += Loss\n",
    "\n",
    "                dLoss_dSigma_Zout = yi - y_batch\n",
    "\n",
    "                self.BackPropagation(dLoss_dSigma_Zout, X_batch)\n",
    "\n",
    "            if self.validation_split > 0:\n",
    "                self.training_validation(X_train_validation, y_train_validation, Loss)\n",
    "            print(\n",
    "                f\"Epoch {epoch + 1}/{num_epochs}, Loss: {(total_loss / num_batches_per_epoch):.4f}, learning rate: {self.learning_rate}\")\n",
    "\n",
    "    def predict(self, X):\n",
    "        X = self.pad_sequences(X, self.words_per_phrase)\n",
    "        return self.forward(X)\n",
    "\n",
    "\n",
    "\n",
    "\n",
    "df=pd.read_csv(\"data/bbc-text.csv\")\n",
    "nlp = spacy.load('en_core_web_lg')\n",
    "with open('data/InputProcessed.pkl', 'rb') as f:\n",
    "    X = pickle.load(f)\n",
    "\n",
    "y = np.array(pd.get_dummies(df[\"category\"], dtype=int))\n",
    "X_train, X_test, y_train, y_test = train_test_split(\n",
    "    X, y, test_size=0.25, random_state=42)\n",
    "X_train.shape,X_test.shape,y_train.shape,y_test.shape\n",
    "X_train=cp.array(X_train)\n",
    "X_test=cp.array(X_test)\n",
    "y_train=cp.array(y_train)\n",
    "y_test=cp.array(y_test)\n",
    "\n",
    "\n",
    "\n",
    "word_len = 300\n",
    "max_words_per_phrase=150\n",
    "\n",
    "batch_size = 128\n",
    "num_classes = 5\n",
    "num_head=8\n",
    "\n",
    "attention_matrix_size=10\n",
    "dk = num_head*attention_matrix_size\n",
    "dv = num_head*attention_matrix_size\n",
    "\n",
    "\n",
    "#validation_split\n",
    "model = QKVMultiHeadsAttentionClassifier(word_len, max_words_per_phrase,num_head, batch_size, dk, dv, num_classes,validation_split=0.1)\n",
    "model.train(X_train, y_train, num_epochs=30, learning_rate=0.8)"
   ]
  },
  {
   "cell_type": "code",
   "execution_count": 26,
   "id": "5d64d351-f15e-4502-932d-a11408d87655",
   "metadata": {},
   "outputs": [
    {
     "data": {
      "text/plain": [
       "960"
      ]
     },
     "execution_count": 26,
     "metadata": {},
     "output_type": "execute_result"
    }
   ],
   "source": [
    "64*15"
   ]
  },
  {
   "cell_type": "code",
   "execution_count": 4,
   "id": "36fa011e-9e20-49a2-b966-3339de40a86f",
   "metadata": {
    "scrolled": true
   },
   "outputs": [
    {
     "data": {
      "image/png": "[encoded data removed]",
      "text/plain": [
       "<PIL.PngImagePlugin.PngImageFile image mode=RGBA size=1000x600>"
      ]
     },
     "execution_count": 4,
     "metadata": {},
     "output_type": "execute_result"
    }
   ],
   "source": [
    "model.image"
   ]
  },
  {
   "cell_type": "code",
   "execution_count": 5,
   "id": "15df5a1e-2aca-44ac-9181-0afa79bfe51d",
   "metadata": {},
   "outputs": [],
   "source": [
    "def pad_sequences(sequences, max_len):\n",
    "        padded_sequences = cupy.zeros((len(sequences), max_len, sequences[0].shape[1]))\n",
    "        for i, seq in enumerate(sequences):\n",
    "            length = min(seq.shape[0], max_len)\n",
    "            padded_sequences[i, :length] = seq[:length]\n",
    "        return padded_sequences"
   ]
  },
  {
   "cell_type": "code",
   "execution_count": 6,
   "id": "250dd30b-012a-46c0-bf5d-d529f69044c4",
   "metadata": {},
   "outputs": [
    {
     "data": {
      "image/png": "[encoded data removed]",
      "text/plain": [
       "<Figure size 500x500 with 2 Axes>"
      ]
     },
     "metadata": {},
     "output_type": "display_data"
    }
   ],
   "source": [
    "import numpy as np\n",
    "from sklearn.metrics import confusion_matrix,f1_score\n",
    "import seaborn as sns\n",
    "import matplotlib.pyplot as plt\n",
    "\n",
    "X_test= pad_sequences(X_test, max_words_per_phrase)\n",
    "\n",
    "predictions = model.predict(X_test)\n",
    "y_pred = np.argmax(predictions, axis=1)\n",
    "\n",
    "# Convert one-hot encoded true labels to class labels\n",
    "y_true = np.argmax(y_test, axis=1) \n",
    "# Compute confusion matrix\n",
    "cm = confusion_matrix(y_true.get(), y_pred.get(), labels=np.arange(5))\n",
    "\n",
    "# Visualize the confusion matrix\n",
    "plt.figure(figsize=(5, 5))\n",
    "sns.heatmap(cm, annot=True, fmt='d', cmap='Blues', xticklabels=np.arange(5), yticklabels=np.arange(5))\n",
    "plt.xlabel('Predicted Label')\n",
    "plt.ylabel('True Label')\n",
    "plt.title('Confusion Matrix')\n",
    "plt.show()"
   ]
  },
  {
   "cell_type": "code",
   "execution_count": 7,
   "id": "da8c1177-b396-4077-b1c6-0187fb5e66dd",
   "metadata": {},
   "outputs": [
    {
     "data": {
      "text/plain": [
       "0.9315994518146911"
      ]
     },
     "execution_count": 7,
     "metadata": {},
     "output_type": "execute_result"
    }
   ],
   "source": [
    "f1_score(y_pred.get(),y_true.get(),average=\"weighted\")"
   ]
  },
  {
   "cell_type": "code",
   "execution_count": 22,
   "id": "4ca2fb80-bac8-4f4b-909f-955195588a1e",
   "metadata": {},
   "outputs": [
    {
     "data": {
      "text/plain": [
       "array([0.891, 0.936, 0.904, 0.964, 0.912])"
      ]
     },
     "execution_count": 22,
     "metadata": {},
     "output_type": "execute_result"
    }
   ],
   "source": [
    "f1_score(y_pred.get(),y_true.get(),average=None)"
   ]
  },
  {
   "cell_type": "code",
   "execution_count": 213,
   "id": "9f2c27d1-7d09-4d44-87d6-d5fd796f377f",
   "metadata": {},
   "outputs": [
    {
     "data": {
      "text/plain": [
       "array([0.808     , 0.76190476, 0.8       , 0.88311688, 0.81052632])"
      ]
     },
     "execution_count": 213,
     "metadata": {},
     "output_type": "execute_result"
    }
   ],
   "source": [
    "f1_score(y_pred,y_true,average=None)"
   ]
  },
  {
   "cell_type": "code",
   "execution_count": 216,
   "id": "7aa2e429-18b8-4569-9b67-5d0c92932d57",
   "metadata": {},
   "outputs": [
    {
     "data": {
      "text/plain": [
       "array([0.82071713, 0.7816092 , 0.83937824, 0.89686099, 0.80874317])"
      ]
     },
     "execution_count": 216,
     "metadata": {},
     "output_type": "execute_result"
    }
   ],
   "source": [
    "f1_score(y_pred,y_true,average=None)"
   ]
  },
  {
   "cell_type": "code",
   "execution_count": 219,
   "id": "0d45d6f8-be94-4652-9b97-4ff464f258b3",
   "metadata": {},
   "outputs": [
    {
     "data": {
      "text/plain": [
       "array([0.83464567, 0.82634731, 0.78974359, 0.88596491, 0.88888889])"
      ]
     },
     "execution_count": 219,
     "metadata": {},
     "output_type": "execute_result"
    }
   ],
   "source": [
    "f1_score(y_pred,y_true,average=None)"
   ]
  },
  {
   "cell_type": "code",
   "execution_count": null,
   "id": "89b3f1d1-6461-4c95-bfce-3b54a020f5fe",
   "metadata": {},
   "outputs": [],
   "source": []
  }
 ],
 "metadata": {
  "kernelspec": {
   "display_name": "spacy_env",
   "language": "python",
   "name": "python3"
  },
  "language_info": {
   "codemirror_mode": {
    "name": "ipython",
    "version": 3
   },
   "file_extension": ".py",
   "mimetype": "text/x-python",
   "name": "python",
   "nbconvert_exporter": "python",
   "pygments_lexer": "ipython3",
   "version": "3.12.2"
  }
 },
 "nbformat": 4,
 "nbformat_minor": 5
}
