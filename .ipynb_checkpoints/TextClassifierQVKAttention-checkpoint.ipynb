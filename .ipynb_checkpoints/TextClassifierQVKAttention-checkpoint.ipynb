{
 "cells": [
  {
   "cell_type": "markdown",
   "id": "00344db5-aab6-4409-84d9-ef8cdf2e2db9",
   "metadata": {},
   "source": [
    " # NLP Model Implementation Using the QVC Attention Mechanism\n",
    "\n",
    "This project focuses on developing a Natural Language Processing (NLP) model using the QVC (Query, Value, Context) attention mechanism from scratch using Python and Numpy. The attention mechanism is a critical component in modern NLP models, enhancing their ability to focus on different parts of the input sequence to make more accurate predictions.\n",
    "\n",
    "## Key Components:\n",
    "\n",
    "- **QVC Attention Mechanism**: Understanding and implementing the Query, Value, and Context (QVC) attention mechanism from scratch.\n",
    "- **Model Architecture**: Building the architecture of the NLP model utilizing QVC attention.\n",
    "- **Training and Evaluation**: Training the model with appropriate datasets and evaluating its performance.\n",
    "\n",
    "This project aims to provide a comprehensive guide to implementing and experimenting with attention mechanisms in NLP.\n"
   ]
  },
  {
   "cell_type": "markdown",
   "id": "7146946e-0ba5-4973-84d5-b9e5b5086ab8",
   "metadata": {},
   "source": [
    "# Preparing Input Data for NLP Model\n",
    "\n",
    "In this section, we are preparing the input data for our NLP model by defining arrays representing word embeddings and combining them into a structured format.\n",
    "\n",
    " \n"
   ]
  },
  {
   "cell_type": "markdown",
   "id": "aa334299-b0e7-483b-ae85-95b418fd030e",
   "metadata": {},
   "source": [
    "Let's consider as starting point for example 3 phrases made of 4 words each where each word have embedding size 5:"
   ]
  },
  {
   "cell_type": "code",
   "execution_count": 8,
   "id": "d9826cbc-8702-4db0-8063-c3425427ed68",
   "metadata": {},
   "outputs": [],
   "source": [
    "import sys\n",
    "sys.path.append('c:\\\\python312\\\\lib\\\\site-packages')\n",
    "import numpy as np\n",
    " \n",
    "\n",
    "# Phrase 1\n",
    "word1 = np.array([0.1, 0.2, 0.3, 0.4, 0.5])\n",
    "word2 = np.array([0.5, 0.4, 0.7,0.3, 0.2])\n",
    "word3 = np.array([0.2,0.7, 0.3, 0.5, 0.4])\n",
    "word4 = np.array([0.4, 0.1,0.7, 0.2, 0.5])\n",
    "\n",
    "# Phrase 2\n",
    "word5 = np.array([0.1, 0.9, 0.3, 0.4, 0.5])\n",
    "word6 = np.array([0.4, 0.4, 0.7,0.3, 0.8])\n",
    "word7 = np.array([0.2,0.7, 0.4, 0.5, 0.4])\n",
    "word8 = np.array([0.4, 0.5,0.7, 0.7, 0.8])\n",
    "\n",
    "# Phrase 3\n",
    "word9 = np.array([0.1, 0.2, 0.3, 0.8, 0.5])\n",
    "word10 = np.array([0.4, 0.5, 0.7,0.3, 0.8])\n",
    "word11 = np.array([0.9,0.7, 0.3, 0.5, 0.4])\n",
    "word12 = np.array([0.4, 0.5,0.1, 0.7, 0.4])\n",
    " "
   ]
  },
  {
   "cell_type": "markdown",
   "id": "aa490b91-9b93-48fe-a5f4-c68e4323be09",
   "metadata": {},
   "source": [
    "Finally, we combine all these word embeddings into a single matrix. This matrix, `inputs`, has the shape `(3, 4, 5)`, where:\n",
    "- `3` represents the number of phrases (batch size),\n",
    "- `4` is the number of words in each phrase (sequence length),\n",
    "- `5` is the dimensionality of each word embedding.\n"
   ]
  },
  {
   "cell_type": "code",
   "execution_count": 9,
   "id": "010108fc-3efd-4649-84d4-1e405ea6af37",
   "metadata": {},
   "outputs": [
    {
     "data": {
      "text/plain": [
       "(array([[[0.1, 0.2, 0.3, 0.4, 0.5],\n",
       "         [0.5, 0.4, 0.7, 0.3, 0.2],\n",
       "         [0.2, 0.7, 0.3, 0.5, 0.4],\n",
       "         [0.4, 0.1, 0.7, 0.2, 0.5]],\n",
       " \n",
       "        [[0.1, 0.9, 0.3, 0.4, 0.5],\n",
       "         [0.4, 0.4, 0.7, 0.3, 0.8],\n",
       "         [0.2, 0.7, 0.4, 0.5, 0.4],\n",
       "         [0.4, 0.5, 0.7, 0.7, 0.8]],\n",
       " \n",
       "        [[0.1, 0.2, 0.3, 0.8, 0.5],\n",
       "         [0.4, 0.5, 0.7, 0.3, 0.8],\n",
       "         [0.9, 0.7, 0.3, 0.5, 0.4],\n",
       "         [0.4, 0.5, 0.1, 0.7, 0.4]]]),\n",
       " (3, 4, 5))"
      ]
     },
     "execution_count": 9,
     "metadata": {},
     "output_type": "execute_result"
    }
   ],
   "source": [
    "inputs = np.stack([[word1, word2, word3, word4],[word5, word6, word7, word8],[word9, word10, word11, word12]])\n",
    "inputs, inputs.shape"
   ]
  },
  {
   "cell_type": "markdown",
   "id": "01448d4b-217c-4fd2-99ce-e432932482f4",
   "metadata": {},
   "source": [
    "Implementing the classifier model class we can start by adding these parameters:"
   ]
  },
  {
   "cell_type": "code",
   "execution_count": 10,
   "id": "a32f97bf-07f9-4931-834f-98b0a2c86862",
   "metadata": {},
   "outputs": [],
   "source": [
    "class QKVAttentionClassifier:\n",
    "    def __init__(self,word_len,batch_size):\n",
    "        self.word_len=word_len\n",
    "        self.batch_size = batch_size "
   ]
  },
  {
   "cell_type": "markdown",
   "id": "d04c80dc-cdad-492c-b715-0dbdb1e01c13",
   "metadata": {},
   "source": [
    "# Attention Head\n",
    "\n",
    "An attention head in the attention mechanism is a crucial component of the model that computes the weighted sum of the values based on the similarity between the queries and keys.\n",
    "The primary goal of the attention mechanism is to derive better and richer representations of word embeddings. By focusing on different parts of the input sequence, the attention mechanism helps the model capture intricate relationships and dependencies between words. This enhanced representation improves the model’s ability to understand context and perform various NLP tasks more effectively.\n",
    "\n",
    "The output of an attention head can be represented mathematically as follows:\n",
    "\n",
    "1. **Calculate the Scores**: The attention scores are computed as the dot product of the query matrix \\\\( Q \\\\) with the transpose of the key matrix \\\\( K \\\\). To ensure that the gradients are well-behaved and to prevent excessively large values in the softmax step, the dot product is scaled by \\\\( \\sqrt{d_k} \\\\):\n",
    "  $$\n",
    "  \\text{Scores} = \\frac{QK^T}{\\sqrt{d_k}}\n",
    "  $$\n",
    "   where \\\\( d_k \\\\) refers to the dimensionality of the key vectors. Specifically, \\\\( d_k \\\\) is equal to the number of neurons in the key matrix \\\\( K \\\\). This dimension is crucial for scaling the attention scores, which helps in stabilizing the gradients during training.\n",
    "\n",
    "2. **Apply Softmax**: Apply the softmax function to the scores to get the attention weights:\n",
    "   $$\n",
    "   \\text{Attention Weights} = \\text{softmax}(\\text{Scores})\n",
    "   $$\n",
    "\n",
    "3. **Compute the Weighted Sum**: Multiply the attention weights by the value matrix \\\\( V \\\\) to get the weighted sum:\n",
    "   $$\n",
    "   \\text{Output} = \\text{Attention Weights} \\times V\n",
    "   $$\n",
    "\n",
    "Here’s a more detailed breakdown:\n",
    "\n",
    "- **Query Matrix \\( Q \\)**: Represents the queries for which we are computing attention.\n",
    "- **Key Matrix \\( K \\)**: Represents the keys that are used to compute the similarity with the queries.\n",
    "- **Value Matrix \\( V \\)**: Contains the values that will be weighted by the attention weights to produce the final output.\n",
    "\n",
    "While the query and key matrices have dimensions \\\\(\\text{word\\_length} \\times d_k\\\\), the value matrix \\\\( V \\\\) has a second dimension \\\\( d_v \\\\) that specifies how the words will be represented after attention. This dimension \\\\( d_v \\\\) influences the output representation of the words, allowing the model to create a more meaningful and rich representation based on the attention mechanism.\n",
    " "
   ]
  },
  {
   "cell_type": "markdown",
   "id": "682f61a6-2c2d-45a1-83c0-621fc877d3e8",
   "metadata": {},
   "source": [
    "![Alt text](data/Attention1.png)"
   ]
  },
  {
   "cell_type": "code",
   "execution_count": 11,
   "id": "5cc195bf-ea34-41a7-8682-3f902a54a29a",
   "metadata": {},
   "outputs": [],
   "source": [
    "word2vec_len=5\n",
    "dk=3\n",
    "dv=3\n",
    "Q = np.random.rand(word2vec_len, dk)/ np.sqrt(word2vec_len)\n",
    "K = np.random.rand(word2vec_len, dk)/ np.sqrt(word2vec_len)\n",
    "V = np.random.rand(word2vec_len, dv)/ np.sqrt(word2vec_len)"
   ]
  },
  {
   "cell_type": "markdown",
   "id": "918bd284-1b11-46af-9381-c5f93d7f81b1",
   "metadata": {},
   "source": [
    "Adding Q,K,V to the classifier we have:\n"
   ]
  },
  {
   "cell_type": "code",
   "execution_count": 12,
   "id": "bbf587ef-f7dc-4c44-960c-ba87237d8597",
   "metadata": {},
   "outputs": [],
   "source": [
    "class QKVAttentionClassifier:\n",
    "    def __init__(self,word2vec_len,batch_size,dk,dv):\n",
    "        self.word2vec_len=word2vec_len\n",
    "        self.batch_size = batch_size\n",
    "        self.dk=dk\n",
    "        self.dv = dv\n",
    "        self.Q = np.random.rand(self.word2vec_len, self.dk) / np.sqrt(self.word_len)\n",
    "        self.K = np.random.rand(self.word2vec_len, self.dk) / np.sqrt(self.word_len)\n",
    "        self.V = np.random.rand(self.word2vec_len, self.dv) / np.sqrt(self.word_len)"
   ]
  },
  {
   "cell_type": "markdown",
   "id": "a393f1d5-2200-4f81-bf46-fc39f2841dee",
   "metadata": {},
   "source": [
    "## Forward Pass in Attention Mechanism\n",
    "\n",
    "The `forward` method in the attention mechanism is responsible for computing the query, key, and value vectors from the input embeddings. Let’s break down the code provided:\n"
   ]
  },
  {
   "cell_type": "code",
   "execution_count": 13,
   "id": "4ca4a1e1-9ccc-4c10-91e4-13ee411b1b15",
   "metadata": {},
   "outputs": [
    {
     "data": {
      "text/plain": [
       "(array([[[0.44473742, 0.37359187, 0.25751621],\n",
       "         [0.51669328, 0.43555713, 0.38881235],\n",
       "         [0.48573823, 0.4871934 , 0.39845243],\n",
       "         [0.53737207, 0.40425741, 0.28572654]],\n",
       " \n",
       "        [[0.47313716, 0.48043332, 0.36058557],\n",
       "         [0.67278976, 0.56595421, 0.38165137],\n",
       "         [0.52791053, 0.49910014, 0.40448538],\n",
       "         [0.84843998, 0.73419367, 0.55297242]],\n",
       " \n",
       "        [[0.61633053, 0.52656827, 0.41411307],\n",
       "         [0.67684686, 0.58121727, 0.39637557],\n",
       "         [0.51793614, 0.66170304, 0.62502174],\n",
       "         [0.48827537, 0.5592019 , 0.49997065]]]),\n",
       " (3, 4, 3))"
      ]
     },
     "execution_count": 13,
     "metadata": {},
     "output_type": "execute_result"
    }
   ],
   "source": [
    "Qval=np.matmul(inputs, Q)\n",
    "Qval,Qval.shape"
   ]
  },
  {
   "cell_type": "code",
   "execution_count": 14,
   "id": "9d3002d6-50aa-4319-9ff8-51b6fe4e0e77",
   "metadata": {},
   "outputs": [
    {
     "data": {
      "text/plain": [
       "array([[[0.35428141, 0.39431358, 0.45727823],\n",
       "        [0.34258028, 0.48016216, 0.5050268 ],\n",
       "        [0.41145235, 0.41399978, 0.4950547 ],\n",
       "        [0.38771346, 0.55076047, 0.54195111]],\n",
       "\n",
       "       [[0.41939644, 0.43572525, 0.46405562],\n",
       "        [0.56487549, 0.70118634, 0.69783149],\n",
       "        [0.41238564, 0.45133982, 0.51926323],\n",
       "        [0.66900109, 0.76709871, 0.87411652]],\n",
       "\n",
       "       [[0.44910486, 0.45430999, 0.63259506],\n",
       "        [0.57417764, 0.7071023 , 0.69879968],\n",
       "        [0.61308215, 0.5143352 , 0.67347391],\n",
       "        [0.49600173, 0.38615326, 0.58333657]]])"
      ]
     },
     "execution_count": 14,
     "metadata": {},
     "output_type": "execute_result"
    }
   ],
   "source": [
    "Kval=np.dot(inputs, K)\n",
    "Kval"
   ]
  },
  {
   "cell_type": "code",
   "execution_count": 15,
   "id": "53b206d8-fd56-4a0e-994b-9c04c755a067",
   "metadata": {},
   "outputs": [
    {
     "data": {
      "text/plain": [
       "array([[[0.24945759, 0.3264096 , 0.30551172],\n",
       "        [0.33354926, 0.57969358, 0.51066333],\n",
       "        [0.43879667, 0.5573187 , 0.43749923],\n",
       "        [0.22767624, 0.48913361, 0.42671237]],\n",
       "\n",
       "       [[0.47291493, 0.62542961, 0.4430046 ],\n",
       "        [0.37930133, 0.70048447, 0.5263831 ],\n",
       "        [0.44471154, 0.57612734, 0.47861369],\n",
       "        [0.51692787, 0.74651025, 0.65648862]],\n",
       "\n",
       "       [[0.35516165, 0.32971824, 0.4159754 ],\n",
       "        [0.41122381, 0.74320161, 0.54602494],\n",
       "        [0.5305753 , 0.86499418, 0.51127101],\n",
       "        [0.44219649, 0.52382873, 0.39229612]]])"
      ]
     },
     "execution_count": 15,
     "metadata": {},
     "output_type": "execute_result"
    }
   ],
   "source": [
    "Vval=np.dot(inputs, V)\n",
    "Vval"
   ]
  },
  {
   "cell_type": "markdown",
   "id": "efe060e4-c99f-4dab-acc6-ab43500fd004",
   "metadata": {},
   "source": [
    "Having the values of the \\\\(Q\\\\), \\\\(K\\\\), \\\\(V\\\\) matrices and the \\\\(dk\\\\) values we can calculate the scores:\n",
    "$$\n",
    "  \\text{QKscaled} = \\frac{QK^T}{\\sqrt{d_k}}\n",
    "  $$"
   ]
  },
  {
   "cell_type": "code",
   "execution_count": null,
   "id": "90fc4e23-d919-4a86-9a2f-28a2ae4f1cd1",
   "metadata": {},
   "outputs": [],
   "source": []
  },
  {
   "cell_type": "code",
   "execution_count": 16,
   "id": "3af7a0da-fbeb-4ae6-a83f-242f65e5410a",
   "metadata": {},
   "outputs": [
    {
     "data": {
      "text/plain": [
       "array([[[0.24400618, 0.26661778, 0.2685486 , 0.29892398],\n",
       "        [0.30749464, 0.33631094, 0.33798004, 0.37581685],\n",
       "        [0.31546339, 0.34731391, 0.34572418, 0.3883234 ],\n",
       "        [0.27738312, 0.30166652, 0.305947  , 0.33823788]],\n",
       "\n",
       "       [[0.33203456, 0.49407606, 0.34594394, 0.57750203],\n",
       "        [0.40753633, 0.60229766, 0.42208001, 0.70312463],\n",
       "        [0.36175501, 0.53718318, 0.37701023, 0.62908036],\n",
       "        [0.53829217, 0.79671514, 0.55910227, 0.93194068]],\n",
       "\n",
       "       [[0.44917166, 0.58635862, 0.53554329, 0.43336163],\n",
       "        [0.47271896, 0.62157387, 0.56629507, 0.45690145],\n",
       "        [0.53613416, 0.69400048, 0.62285148, 0.5063443 ],\n",
       "        [0.45588548, 0.5918701 , 0.53329112, 0.43288235]]])"
      ]
     },
     "execution_count": 16,
     "metadata": {},
     "output_type": "execute_result"
    }
   ],
   "source": [
    "QKscaled=np.matmul(Qval, np.transpose(Kval, (0, 2, 1)))/np.sqrt(K.shape[1])\n",
    "QKscaled"
   ]
  },
  {
   "cell_type": "markdown",
   "id": "2874ca4b-689b-42e5-b5fb-e19733e3a3b1",
   "metadata": {},
   "source": [
    "and finally the \\\\(attention\\\\) \\\\(weights\\\\) as:\n",
    "$$\n",
    "  \\text{Attention weights} =\\sigma( \\frac{QK^T}{\\sqrt{d_k}})\n",
    "  $$"
   ]
  },
  {
   "cell_type": "code",
   "execution_count": 17,
   "id": "57134a6b-fb58-4943-9a33-89df9fc70197",
   "metadata": {},
   "outputs": [
    {
     "data": {
      "text/plain": [
       "array([[[0.24365468, 0.24922687, 0.24970854, 0.25740991],\n",
       "        [0.24207796, 0.24915524, 0.24957145, 0.25919535],\n",
       "        [0.24162373, 0.24944344, 0.2490472 , 0.25988563],\n",
       "        [0.24293656, 0.2489081 , 0.24997583, 0.25817951]],\n",
       "\n",
       "       [[0.22380706, 0.26317674, 0.22694183, 0.28607437],\n",
       "        [0.21864673, 0.26566036, 0.2218499 , 0.29384301],\n",
       "        [0.22155293, 0.26403713, 0.22495869, 0.28945125],\n",
       "        [0.20840741, 0.26986392, 0.21278983, 0.30893885]],\n",
       "\n",
       "       [[0.23687879, 0.27171006, 0.25824796, 0.23316318],\n",
       "        [0.23568754, 0.27351647, 0.25880711, 0.23198888],\n",
       "        [0.23628108, 0.27668742, 0.25768539, 0.22934611],\n",
       "        [0.23790243, 0.27255631, 0.25704888, 0.23249239]]])"
      ]
     },
     "execution_count": 17,
     "metadata": {},
     "output_type": "execute_result"
    }
   ],
   "source": [
    "import numpy as np\n",
    "\n",
    "def softmax(x, axis=-1):\n",
    "    # Subtract the max value for numerical stability\n",
    "    e_x = np.exp(x - np.max(x, axis=axis, keepdims=True))\n",
    "    return e_x / np.sum(e_x, axis=axis, keepdims=True)\n",
    "\n",
    "Attention_weights=softmax(QKscaled)\n",
    "Attention_weights"
   ]
  },
  {
   "cell_type": "markdown",
   "id": "27b132f5-af6a-44a1-af9e-49de32810dd2",
   "metadata": {},
   "source": [
    "and finally the \\\\(Attention\\\\) value as:\n",
    "$$\n",
    "  \\text{Attention} =\\sigma( \\frac{QK^T}{\\sqrt{d_k}})V\n",
    "  $$"
   ]
  },
  {
   "cell_type": "code",
   "execution_count": 18,
   "id": "4f9a3f8b-7be8-4f5b-996c-0ad41fef0bc5",
   "metadata": {},
   "outputs": [
    {
     "data": {
      "text/plain": [
       "array([[[0.31208834, 0.48908152, 0.42079767],\n",
       "        [0.31201747, 0.48932226, 0.42098128],\n",
       "        [0.31192741, 0.48938652, 0.42105487],\n",
       "        [0.31209538, 0.48918773, 0.42086083]],\n",
       "\n",
       "       [[0.45446845, 0.66863162, 0.53410138],\n",
       "        [0.45472148, 0.67000971, 0.53578562],\n",
       "        [0.45459247, 0.66920285, 0.53482341],\n",
       "        [0.45524791, 0.6725997 , 0.53903621]],\n",
       "\n",
       "       [[0.43598784, 0.62555917, 0.47039993],\n",
       "        [0.43608499, 0.62637745, 0.47071594],\n",
       "        [0.43583598, 0.62657516, 0.47108401],\n",
       "        [0.43576656, 0.62513703, 0.4704116 ]]])"
      ]
     },
     "execution_count": 18,
     "metadata": {},
     "output_type": "execute_result"
    }
   ],
   "source": [
    "Attention=np.matmul(Attention_weights, Vval)\n",
    "Attention"
   ]
  },
  {
   "cell_type": "markdown",
   "id": "ff92ed80-c07e-4513-9263-ac9742f88310",
   "metadata": {},
   "source": [
    "# Computing Phrase Representation from Attention Scores\n",
    "\n",
    "In the attention mechanism, once the attention scores are computed and applied, we often need to summarize or aggregate these scores to obtain a representation of the entire phrase. Here’s how we compute the `phrase_representation`:\n",
    "\n",
    "### Context\n",
    "\n",
    "Given an `Attention` matrix that represents the attention weights applied to each word in a phrase, the goal is to aggregate these weights to obtain a single representation for the phrase.\n",
    "\n",
    "### Computing Phrase Representation\n",
    "\n",
    "1. **Attention Matrix**:\n",
    "   - **Shape**: \\\\((\\text{batch\\_size}, \\text{sequence\\_length}, \\text{embedding\\_dim})\\\\) \n",
    "   - **Purpose**: Contains the attention weights for each word in each phrase. Each entry in this matrix represents the weighted influence of words in the phrase.\n",
    "\n",
    "2. **Phrase Representation Calculation**:\n",
    "   - To obtain a single representation for each phrase, we compute the average of the attention weights along the sequence length dimension.\n",
    "\n",
    "   ```python\n",
    "   phrase_representation = np.mean(Attention, axis=1)\n"
   ]
  },
  {
   "cell_type": "markdown",
   "id": "0e00244b-1414-4f05-aaee-9d5f84715048",
   "metadata": {},
   "source": [
    "![Alt text](data/Attention2.png)"
   ]
  },
  {
   "cell_type": "code",
   "execution_count": 19,
   "id": "da1fc1bc-fc23-4e16-933c-3d9af598890f",
   "metadata": {},
   "outputs": [
    {
     "name": "stdout",
     "output_type": "stream",
     "text": [
      "Phrase Representation:\n",
      "[[0.31203215 0.48924451 0.42092366]\n",
      " [0.45475758 0.67011097 0.53593665]\n",
      " [0.43591884 0.6259122  0.47065287]]\n"
     ]
    }
   ],
   "source": [
    "phrase_representation = np.mean(Attention, axis=1)\n",
    "print(\"Phrase Representation:\")\n",
    "print(phrase_representation)"
   ]
  },
  {
   "cell_type": "markdown",
   "id": "77d0cd05-aa0f-445b-9dd2-e29c173864c3",
   "metadata": {},
   "source": [
    "At this point, we have computed the following:\n",
    "\n",
    "- **Attention Mechanism**:\n",
    "  - `Qval`: The result of multiplying the input with the query weight matrix \\( Q \\).\n",
    "  - `Kval`: The result of multiplying the input with the key weight matrix \\( K \\).\n",
    "  - `Vval`: The result of multiplying the input with the value weight matrix \\( V \\).\n",
    "  - `QKscaled`: The scaled dot product of `Qval` and `Kval`, normalized by the square root of the dimensionality of the key vectors \\( d_k \\).\n",
    "  - `attention_weights`: The result of applying the softmax function to `QKscaled` to get attention weights.\n",
    "  - `attention`: The result of multiplying `attention_weights` with `Vval`.\n",
    "We can now add these parts to the classifier model:"
   ]
  },
  {
   "cell_type": "code",
   "execution_count": 20,
   "id": "6d3846a3-848f-476a-bda5-448164a63f63",
   "metadata": {},
   "outputs": [],
   "source": [
    "class QKVAttentionClassifier:\n",
    "    def __init__(self,word2vec_len,batch_size,dk,dv):\n",
    "        self.word2vec_len=word2vec_len\n",
    "        self.batch_size = batch_size\n",
    "        self.dk=dk\n",
    "        self.dv = dv\n",
    "        # Initialize weights with Xavier/Glorot initialization\n",
    "        self.Q = np.random.rand(self.word2vec_len, self.dk) / np.sqrt(self.word_len)\n",
    "        self.K = np.random.rand(self.word2vec_len, self.dk) / np.sqrt(self.word_len)\n",
    "        self.V = np.random.rand(self.word2vec_len, self.dv) / np.sqrt(self.word_len)\n",
    "\n",
    "    \n",
    "    def AttentionHead(self, Inputs):\n",
    "        self.Qval = np.dot(Inputs, self.Q)\n",
    "        self.Kval = np.dot(Inputs, self.K)\n",
    "        self.Vval = np.dot(Inputs, self.V) \n",
    "        QKscaled = np.matmul(self.Qval, np.transpose(self.Kval, (0, 2, 1))) / np.sqrt(self.K.shape[1]) \n",
    "        self.Attention_weights = self.softmax(QKscaled) \n",
    "        return np.matmul(self.Attention_weights, self.Vval)\n",
    "    \n",
    "    def forward(self, Inputs):\n",
    "        Attention = self.AttentionHead(Inputs)\n",
    "        self.phrase_representation = np.mean(Attention, axis=1)"
   ]
  },
  {
   "cell_type": "markdown",
   "id": "ceeb7df4-17d1-4cad-ae0d-e337352a00c9",
   "metadata": {},
   "source": [
    "With these computations complete, we are now ready to feed the `phrase_rep` into the linear layer for further processing."
   ]
  },
  {
   "cell_type": "markdown",
   "id": "960dfe9b-1d3a-4ee5-9fc0-f517be2ee94d",
   "metadata": {},
   "source": [
    "![Alt text](data/txtclass.png)"
   ]
  },
  {
   "cell_type": "code",
   "execution_count": 21,
   "id": "f760b274-9ded-4466-8b1e-2a8404f2fb6f",
   "metadata": {},
   "outputs": [],
   "source": [
    "num_classes = 2  # Example number of classes (binary classification)\n",
    "linearlayer= np.random.rand(dv, num_classes)   \n",
    "linear_bias = np.random.rand(num_classes)"
   ]
  },
  {
   "cell_type": "code",
   "execution_count": 22,
   "id": "5e84053a-063e-4a51-925c-dc2e6a91caf8",
   "metadata": {},
   "outputs": [
    {
     "data": {
      "text/plain": [
       "array([[0.76429305, 0.23570695],\n",
       "       [0.79276488, 0.20723512],\n",
       "       [0.78322489, 0.21677511]])"
      ]
     },
     "execution_count": 22,
     "metadata": {},
     "output_type": "execute_result"
    }
   ],
   "source": [
    "Sigma_Zout=softmax(np.matmul(phrase_representation, linearlayer) + linear_bias)\n",
    "Sigma_Zout"
   ]
  },
  {
   "cell_type": "markdown",
   "id": "e62c9059-abe9-47a8-b709-27cfb505317f",
   "metadata": {},
   "source": [
    "We add the linearlayer and Sigma_Zout calculation to the classifier:\n"
   ]
  },
  {
   "cell_type": "code",
   "execution_count": 23,
   "id": "3727326d-f64c-44d9-b23e-49df570ea4fb",
   "metadata": {},
   "outputs": [],
   "source": [
    "class QKVAttentionClassifier:\n",
    "    def __init__(self, word_len, words_per_phrase, batch_size, dk, dv, num_classes):\n",
    "\n",
    "        self.word_len = word_len\n",
    "        self.batch_size = batch_size\n",
    "        self.dk = dk\n",
    "        self.dv = dv\n",
    "        self.num_classes = num_classes\n",
    "        self.words_per_phrase = words_per_phrase\n",
    "\n",
    "        # Initialize weights with Xavier/Glorot initialization\n",
    "        self.Q = np.random.randn(self.word_len, self.dk) / np.sqrt(self.word_len)  \n",
    "        self.K = np.random.randn(self.word_len, self.dk) / np.sqrt(self.word_len)  \n",
    "        self.V = np.random.randn(self.word_len, self.dk) / np.sqrt(self.word_len)  \n",
    "\n",
    "        # Initialize linear layer weights\n",
    "        self.linearlayer = np.random.randn(self.dk, self.num_classes) / np.sqrt(self.dk)\n",
    "        self.linear_bias = np.zeros(self.num_classes) \n",
    "        \n",
    "    def LinearLayer(self):\n",
    "        output = np.matmul(self.phrase_representation, self.linearlayer) + self.linear_bias\n",
    "        return output\n",
    "\n",
    "    def forward(self, Inputs):\n",
    "        Attention = self.AttentionHead(Inputs)\n",
    "        self.phrase_representation = np.mean(Attention, axis=1)\n",
    "\n",
    "        Zout = self.LinearLayer()\n",
    "        Sigma_Zout = self.softmax(Zout)\n",
    "\n",
    "        return Sigma_Zout"
   ]
  },
  {
   "cell_type": "markdown",
   "id": "4df671f0-1e4e-47b4-9af2-9ca0bbc910ee",
   "metadata": {},
   "source": [
    "### Cross-Entropy Loss Calculation\n",
    "\n",
    "At this stage, we have calculated the cross-entropy loss between our predictions and the true target values.\n",
    "\n",
    " \n",
    "\n",
    "1. **True Target**:\n",
    "   - The `target` variable represents the true class labels for each example in the batch. It is a list of one-hot encoded vectors. For instance:\n",
    "     - `np.array([0, 1])` represents the true class for the first example.\n",
    "     - `np.array([1, 0])` represents the true class for the second example.\n",
    "     - `np.array([1, 0])` represents the true class for the third example.\n",
    "\n",
    "2. **Cross-Entropy Loss Calculation**:\n",
    "   - The cross-entropy loss is computed using the formula:\n",
    "     \\\\[\n",
    "     \\text{batch\\_loss} = -\\sum (\\text{target} \\cdot \\log(\\text{predictions} + 1e-8))\n",
    "     \\\\]\n",
    "   - This loss function measures the difference between the predicted probabilities and the true class labels. The `1e-8` term is added to avoid taking the logarithm of zero, which could result in undefined values.\n",
    "\n",
    "3. **Result**:\n",
    "   - The computed loss, `loss`, is an average of the individual losses across the batch. It quantifies how well the predicted probabilities match the true labels. A lower loss indicates better performance.\n",
    "\n",
    "In summary, this step provides a measure of how well our model's predictions align with the actual class labels in our batch. The output of this calculation will be used to guide the training process through backpropagation.\n"
   ]
  },
  {
   "cell_type": "code",
   "execution_count": 24,
   "id": "2c487b25",
   "metadata": {},
   "outputs": [
    {
     "name": "stdout",
     "output_type": "stream",
     "text": [
      "Cross-Entropy Loss:  0.6405766364839527\n"
     ]
    }
   ],
   "source": [
    "import numpy as np\n",
    "\n",
    " \n",
    "target = [np.array([0, 1]),np.array([1, 0]),np.array([1, 0])]\n",
    "\n",
    "\n",
    "def cross_entropy_loss(predictions, target): \n",
    "    batch_loss = -np.sum(target * np.log(predictions + 1e-8), axis=1)\n",
    "    return np.mean(batch_loss) \n",
    " \n",
    "\n",
    "loss = cross_entropy_loss(Sigma_Zout, target)\n",
    "print(\"Cross-Entropy Loss: \",loss)\n",
    " \n"
   ]
  },
  {
   "cell_type": "markdown",
   "id": "a431718c-20aa-432b-9947-3a8e289e337d",
   "metadata": {},
   "source": [
    "We can now add both softmax and cross entropy loss functions to the classifier model:"
   ]
  },
  {
   "cell_type": "code",
   "execution_count": 25,
   "id": "31a1505c-b77c-4921-bdcc-27ed7f1e3160",
   "metadata": {},
   "outputs": [],
   "source": [
    "class QKVAttentionClassifier:\n",
    "     \n",
    "    def softmax(self, x, axis=-1):\n",
    "        x = np.clip(x, -1e4, 1e4)  # Clip for numerical stability\n",
    "        e_x = np.exp(x - np.max(x, axis=axis, keepdims=True))\n",
    "        return e_x / np.sum(e_x, axis=axis, keepdims=True)\n",
    "\n",
    "    def cross_entropy_loss(self, predictions, target):\n",
    "        # Cross-entropy loss for a batch of predictions and targets\n",
    "        batch_loss = -np.sum(target * np.log(predictions + 1e-9), axis=1)\n",
    "        return np.mean(batch_loss)\n"
   ]
  },
  {
   "cell_type": "markdown",
   "id": "e5138a1a-2c16-4d06-82f3-8a889dc0106c",
   "metadata": {},
   "source": [
    "## Backpropagation\n",
    "\n",
    "To update the model parameters, we need to compute the gradient of the loss function with respect to the output probabilities. This gradient indicates how much the loss function would change if the output probabilities were adjusted.\n",
    "\n",
    "### Gradient of loss with respect to output probabilities:\n",
    "\n",
    "\n",
    "The gradient of the loss with respect to the logits \\( Z^{out} \\) can be expressed as:\n",
    "\n",
    "\\\\[\n",
    "\\frac{\\partial \\text{Loss}}{\\partial Z^{out}} = \\frac{\\partial \\text{Loss}}{\\partial \\sigma(Z^{out})} \\frac{\\partial \\sigma(Z^{out})}{\\partial Z^{out}} = \\sigma(Z^{out}_i) - y_i\n",
    "\\\\]\n"
   ]
  },
  {
   "cell_type": "code",
   "execution_count": 26,
   "id": "a46ee5c0",
   "metadata": {},
   "outputs": [
    {
     "data": {
      "text/plain": [
       "array([[ 0.76429305, -0.76429305],\n",
       "       [-0.20723512,  0.20723512],\n",
       "       [-0.21677511,  0.21677511]])"
      ]
     },
     "execution_count": 26,
     "metadata": {},
     "output_type": "execute_result"
    }
   ],
   "source": [
    "# Gradient of loss with respect to output probabilities\n",
    "dLoss_dSigma_Zout =Sigma_Zout - np.stack(target)\n",
    "dLoss_dSigma_Zout\n",
    "\n"
   ]
  },
  {
   "cell_type": "markdown",
   "id": "d86d5926-b7ef-4b54-9d69-c259363d4723",
   "metadata": {},
   "source": [
    "### Gradient of the loss with respect to linear layer and bias:\n",
    "\n",
    "The gradient of the loss with respect to the linear layer and bias can be expressed as:\n",
    "\\\\[\n",
    "\\frac{\\partial Loss}{\\partial W}=\\begin{cases} \\frac{\\partial Loss}{\\partial Z^{out}}=\\frac{\\partial Loss}{\\partial \\sigma(Z^{out})}\\frac{\\partial \\sigma(Z^{out})}{\\partial  Z^{out}}= \\sigma(Z^{out})-y_{true} \\\\  \\frac{\\partial Loss}{\\partial w_{11}}=\\frac{\\partial Loss}{\\partial \\sigma(Z^{out}_1)}\\frac{\\partial \\sigma(Z^{out}_1)}{\\partial Z^{out}_1}\\frac{\\partial Z^{out}_1}{\\partial w_{11}}= [\\sigma(Z^{out}_1)-y_{1}]\\cdot Y_1\\\\  \\frac{\\partial Loss}{\\partial w_{21}}=\\frac{\\partial Loss}{\\partial \\sigma(Z^{out}_1)}\\frac{\\partial \\sigma(Z^{out}_1)}{\\partial Z^{out}_1}\\frac{\\partial Z^{out}_1}{\\partial w_{21}}= [\\sigma(Z^{out}_1)-y_{1}]\\cdot Y_2\\\\  \\frac{\\partial Loss}{\\partial w_{31}}=\\frac{\\partial Loss}{\\partial \\sigma(Z^{out}_1)}\\frac{\\partial \\sigma(Z^{out}_1)}{\\partial Z^{out}_1}\\frac{\\partial Z^{out}_1}{\\partial w_{31}}= [\\sigma(Z^{out}_1)-y_{1}]\\cdot Y_3\\\\  \\frac{\\partial Loss}{\\partial w_{12}}=\\frac{\\partial Loss}{\\partial \\sigma(Z^{out}_2)}\\frac{\\partial \\sigma(Z^{out}_2)}{\\partial Z^{out}_2}\\frac{\\partial Z^{out}_2}{\\partial w_{12}}= [\\sigma(Z^{out}_2)-y_{2}]\\cdot Y_1\\\\  \\frac{\\partial Loss}{\\partial w_{22}}=\\frac{\\partial Loss}{\\partial \\sigma(Z^{out}_2)}\\frac{\\partial \\sigma(Z^{out}_2)}{\\partial Z^{out}_2}\\frac{\\partial Z^{out}_2}{\\partial w_{22}}= [\\sigma(Z^{out}_2)-y_{2}]\\cdot Y_2\\\\  \\frac{\\partial Loss}{\\partial w_{32}}=\\frac{\\partial Loss}{\\partial \\sigma(Z^{out}_2)}\\frac{\\partial \\sigma(Z^{out}_2)}{\\partial Z^{out}_2}\\frac{\\partial Z^{out}_2}{\\partial w_{32}}= [\\sigma(Z^{out}_2)-y_{2}]\\cdot Y_3\\\\  \\frac{\\partial Loss}{\\partial B_{1}}=\\frac{\\partial Loss}{\\partial \\sigma(Z^{out}_1)}\\frac{\\partial \\sigma(Z^{out}_1)}{\\partial Z^{out}_1}\\frac{\\partial Z^{out}_2}{\\partial B_{1}}= [\\sigma(Z^{out}_1)-y_{1}]\\cdot 1\\\\   \\frac{\\partial Loss}{\\partial B_{2}}=\\frac{\\partial Loss}{\\partial \\sigma(Z^{out}_2)}\\frac{\\partial \\sigma(Z^{out}_2)}{\\partial Z^{out}_2}\\frac{\\partial Z^{out}_2}{\\partial B_{2}}= [\\sigma(Z^{out}_2)-y_{2}]\\cdot 1\\\\ \\end{cases}\n",
    "\\\\]\n",
    "\n",
    "and these values will be used to update the weights of the linear layer trought the learning rate."
   ]
  },
  {
   "cell_type": "code",
   "execution_count": 27,
   "id": "2f3098d2-304b-4007-84fd-a07e3652b289",
   "metadata": {},
   "outputs": [
    {
     "data": {
      "text/plain": [
       "(array([[ 0.04974591, -0.04974591],\n",
       "        [ 0.09937346, -0.09937346],\n",
       "        [ 0.1086183 , -0.1086183 ]]),\n",
       " array([ 0.34028281, -0.34028281]))"
      ]
     },
     "execution_count": 27,
     "metadata": {},
     "output_type": "execute_result"
    }
   ],
   "source": [
    "# Gradient for linear layer and bias\n",
    "d_linear = np.dot(phrase_representation.T, dLoss_dSigma_Zout) \n",
    "d_bias =  np.sum(dLoss_dSigma_Zout, axis=0)\n",
    "d_linear,d_bias"
   ]
  },
  {
   "cell_type": "code",
   "execution_count": null,
   "id": "a2666bc3-a1e0-461a-903c-b8bdc3886468",
   "metadata": {},
   "outputs": [],
   "source": [
    "class QKVAttentionClassifier: \n",
    "    def BackPropagation(self, dLoss_dSigma_Zout, inputs):\n",
    "        \n",
    "        # Gradient for linear layer\n",
    "        dlinear_dW = np.dot(self.phrase_representation.T, dLoss_dSigma_Zout)\n",
    "\n",
    "        # Gradient for bias\n",
    "        d_bias = np.sum(dLoss_dSigma_Zout, axis=0)"
   ]
  },
  {
   "cell_type": "markdown",
   "id": "c8550983-d28e-4555-b782-11872d8723f4",
   "metadata": {},
   "source": [
    "### Gradient of the loss with respect to phrase representation:\n",
    " \n",
    "\n",
    "The gradient of the loss with respect to phrase representation can be expressed as:\n",
    "\\\\[\n",
    "\\frac{\\partial Loss}{\\partial Y}=\\begin{cases} \\frac{\\partial Loss}{\\partial Y^{z_1}_1}=\\frac{\\partial Loss}{\\partial \\sigma(Z^{out}_1)}\\frac{\\partial \\sigma(Z^{out}_1)}{\\partial Z^{out}_1}\\frac{\\partial Z^{out}_1}{\\partial Y_1}=[\\sigma(Z_1^{out})-y_1]\\cdot w_{11}\\\\  \\frac{\\partial Loss}{\\partial Y^{z_2}_1}=\\frac{\\partial Loss}{\\partial \\sigma(Z^{out}_2)}\\frac{\\partial \\sigma(Z^{out}_2)}{\\partial Z^{out}_2}\\frac{\\partial Z^{out}_2}{\\partial Y_1}=[\\sigma(Z_2^{out})-y_2]\\cdot w_{12}\\\\    \\frac{\\partial Loss}{\\partial Y^{z_1}_2}=\\frac{\\partial Loss}{\\partial \\sigma(Z^{out}_1)}\\frac{\\partial \\sigma(Z^{out}_1)}{\\partial Z^{out}_1}\\frac{\\partial Z^{out}_1}{\\partial Y_2}=[\\sigma(Z_1^{out})-y_1]\\cdot w_{21}\\\\  \\frac{\\partial Loss}{\\partial Y^{z_2}_2}=\\frac{\\partial Loss}{\\partial \\sigma(Z^{out}_2)}\\frac{\\partial \\sigma(Z^{out}_2)}{\\partial Z^{out}_2}\\frac{\\partial Z^{out}_2}{\\partial Y_2}=[\\sigma(Z_2^{out})-y_2]\\cdot w_{22}\\\\     \\frac{\\partial Loss}{\\partial Y^{z_1}_3}=\\frac{\\partial Loss}{\\partial \\sigma(Z^{out}_1)}\\frac{\\partial \\sigma(Z^{out}_1)}{\\partial Z^{out}_1}\\frac{\\partial Z^{out}_1}{\\partial Y_3}=[\\sigma(Z_1^{out})-y_1]\\cdot w_{31}\\\\  \\frac{\\partial Loss}{\\partial Y^{z_2}_3}=\\frac{\\partial Loss}{\\partial \\sigma(Z^{out}_2)}\\frac{\\partial \\sigma(Z^{out}_2)}{\\partial Z^{out}_2}\\frac{\\partial Z^{out}_2}{\\partial Y_2}=[\\sigma(Z_2^{out})-y_3]\\cdot w_{32}\\end{cases}=\\begin{cases}\\frac{\\partial Loss}{\\partial Y_1}=\\frac{\\partial Loss}{\\partial Y^{z_1}_1}+\\frac{\\partial Loss}{\\partial Y^{z_2}_1}\\\\  \\frac{\\partial Loss}{\\partial Y_2}=\\frac{\\partial Loss}{\\partial Y^{z_1}_2}+\\frac{\\partial Loss}{\\partial Y^{z_2}_2}\\\\  \\frac{\\partial Loss}{\\partial Y_3}=\\frac{\\partial Loss}{\\partial Y^{z_1}_3}+\\frac{\\partial Loss}{\\partial Y^{z_2}_3}\\end{cases}\n",
    "\\\\]\n",
    " \n"
   ]
  },
  {
   "cell_type": "code",
   "execution_count": 28,
   "id": "57f28c04-c59d-40ef-bd6c-03591fb0fedb",
   "metadata": {},
   "outputs": [
    {
     "data": {
      "text/plain": [
       "array([[ 0.37459657,  0.08166687,  0.50525221],\n",
       "       [-0.10157042, -0.02214366, -0.13699719],\n",
       "       [-0.10624617, -0.02316303, -0.14330381]])"
      ]
     },
     "execution_count": 28,
     "metadata": {},
     "output_type": "execute_result"
    }
   ],
   "source": [
    "# Gradient for phrase representation\n",
    "d_phrase_rep = np.dot(dLoss_dSigma_Zout, linearlayer.T)\n",
    "d_phrase_rep"
   ]
  },
  {
   "cell_type": "code",
   "execution_count": null,
   "id": "ede1786d-8c88-429e-8007-34c4d3029288",
   "metadata": {},
   "outputs": [],
   "source": [
    "class QKVAttentionClassifier: \n",
    "    def BackPropagation(self, dLoss_dSigma_Zout, inputs):\n",
    "        \n",
    "        # Gradient for linear layer\n",
    "        dlinear_dW = np.dot(self.phrase_representation.T, dLoss_dSigma_Zout)\n",
    "\n",
    "        # Gradient for bias\n",
    "        d_bias = np.sum(dLoss_dSigma_Zout, axis=0)\n",
    "        \n",
    "         # Gradient for phrase representation\n",
    "        d_phrase_rep = np.dot(dLoss_dSigma_Zout, self.linearlayer.T)\n",
    "\n"
   ]
  },
  {
   "cell_type": "markdown",
   "id": "4653d85a-7ba3-4c00-8621-31eb998fca4a",
   "metadata": {},
   "source": [
    "### Gradient of the Loss with Respect to Attention Output\n",
    "\n",
    "Given the attention output matrix:\n",
    "\n",
    "\\\\[\n",
    "\\text{Attention} = \n",
    "\\begin{bmatrix}\n",
    "Y_a^1 & Y_a^2 & Y_a^3 \\\\\n",
    "Y_b^1 & Y_b^2 & Y_b^3 \\\\\n",
    "Y_c^1 & Y_c^2 & Y_c^3 \\\\\n",
    "Y_d^1 & Y_d^2 & Y_d^3 \\\\\n",
    "\\end{bmatrix}\n",
    "\\\\]\n",
    "\n",
    "Each row \\\\(Y_a, Y_b, Y_c, Y_d\\\\) represents the attention for each input token.\n",
    "\n",
    "#### Phrase Representation\n",
    "\n",
    "We compute the phrase representation by averaging over the rows for each component:\n",
    "\n",
    "\\\\[\n",
    "\\text{Phrase Representation} = \n",
    "\\begin{bmatrix}\n",
    "\\frac{Y^1_a + Y^1_b + Y^1_c + Y^1_d}{4} \\\\\n",
    "\\frac{Y^2_a + Y^2_b + Y^2_c + Y^2_d}{4} \\\\\n",
    "\\frac{Y^3_a + Y^3_b + Y^3_c + Y^3_d}{4} \\\\\n",
    "\\end{bmatrix}\n",
    "\\\\]\n",
    "\n",
    "#### Loss Function and Gradient\n",
    "\n",
    "The loss is computed based on the phrase representation. To compute the gradient of the loss with respect to each attention component \\\\(Y_x^i\\\\), we apply the chain rule:\n",
    "\n",
    "\\\\[\n",
    "\\frac{\\partial Loss}{\\partial Y_x^i} = \\frac{\\partial Loss}{\\partial \\text{Phrase Representation}_i} \\cdot \\frac{\\partial \\text{Phrase Representation}_i}{\\partial Y_x^i}\n",
    "\\\\]\n",
    "\n",
    "Since the phrase representation is the mean of the attention outputs, the derivative with respect to each attention component is:\n",
    "\n",
    "\\\\[\n",
    "\\frac{\\partial \\text{Phrase Representation}_i}{\\partial Y_x^i} = \\frac{1}{4}\n",
    "\\\\]\n",
    "\n",
    "Therefore, the gradient of the loss with respect to each attention component is:\n",
    "\n",
    "\\\\[\n",
    "\\frac{\\partial Loss}{\\partial Y_a^i} = \\frac{1}{4} \\frac{\\partial Loss}{\\partial \\text{Phrase Representation}_i}\n",
    "\\\\]\n",
    "\\\\[\n",
    "\\frac{\\partial Loss}{\\partial Y_b^i} = \\frac{1}{4} \\frac{\\partial Loss}{\\partial \\text{Phrase Representation}_i}\n",
    "\\\\]\n",
    "\\\\[\n",
    "\\frac{\\partial Loss}{\\partial Y_c^i} = \\frac{1}{4} \\frac{\\partial Loss}{\\partial \\text{Phrase Representation}_i}\n",
    "\\\\]\n",
    "\\\\[\n",
    "\\frac{\\partial Loss}{\\partial Y_d^i} = \\frac{1}{4} \\frac{\\partial Loss}{\\partial \\text{Phrase Representation}_i}\n",
    "\\\\]\n",
    "\n",
    "This shows how the gradient propagates through the mean operation during backpropagation.\n",
    "\n",
    " \n"
   ]
  },
  {
   "cell_type": "code",
   "execution_count": 33,
   "id": "2734b391-4b7c-49a9-9151-3828b844b17d",
   "metadata": {},
   "outputs": [
    {
     "data": {
      "text/plain": [
       "array([[[ 0.09364914,  0.02041672,  0.12631305],\n",
       "        [ 0.09364914,  0.02041672,  0.12631305],\n",
       "        [ 0.09364914,  0.02041672,  0.12631305],\n",
       "        [ 0.09364914,  0.02041672,  0.12631305]],\n",
       "\n",
       "       [[-0.0253926 , -0.00553591, -0.0342493 ],\n",
       "        [-0.0253926 , -0.00553591, -0.0342493 ],\n",
       "        [-0.0253926 , -0.00553591, -0.0342493 ],\n",
       "        [-0.0253926 , -0.00553591, -0.0342493 ]],\n",
       "\n",
       "       [[-0.02656154, -0.00579076, -0.03582595],\n",
       "        [-0.02656154, -0.00579076, -0.03582595],\n",
       "        [-0.02656154, -0.00579076, -0.03582595],\n",
       "        [-0.02656154, -0.00579076, -0.03582595]]])"
      ]
     },
     "execution_count": 33,
     "metadata": {},
     "output_type": "execute_result"
    }
   ],
   "source": [
    "# Gradient for attention\n",
    "d_attention = np.array([np.outer(np.ones(inputs.shape[1]), d_phrase_rep[i, :]) for i in range(d_phrase_rep.shape[0])])  / inputs.shape[1]\n",
    "d_attention"
   ]
  },
  {
   "cell_type": "code",
   "execution_count": null,
   "id": "eaeb3407-984b-48f3-a746-49b233f04db9",
   "metadata": {},
   "outputs": [],
   "source": [
    "class QKVAttentionClassifier: \n",
    "    def BackPropagation(self, dLoss_dSigma_Zout, inputs):\n",
    "        \n",
    "        # Gradient for linear layer\n",
    "        dlinear_dW = np.dot(self.phrase_representation.T, dLoss_dSigma_Zout)\n",
    "\n",
    "        # Gradient for bias\n",
    "        d_bias = np.sum(dLoss_dSigma_Zout, axis=0)\n",
    "        \n",
    "         # Gradient for phrase representation\n",
    "        d_phrase_rep = np.dot(dLoss_dSigma_Zout, self.linearlayer.T)\n",
    "\n",
    "        # Gradient for attention\n",
    "        d_attention = np.array([np.outer(np.ones(self.words_per_phrase), d_phrase_rep[i, :]) for i in range(d_phrase_rep.shape[0])])"
   ]
  },
  {
   "cell_type": "code",
   "execution_count": 29,
   "id": "1c179624-513e-4b6e-81f2-0e468523eb1e",
   "metadata": {},
   "outputs": [],
   "source": [
    "\n",
    "# Gradient for V\n",
    "d_Vval = np.matmul(Attention_weights, d_attention)\n",
    "d_V = np.mean(np.matmul(np.transpose(inputs,(0,2,1)),d_Vval),axis=0)\n",
    "Vval_T = np.transpose(Vval, (0, 2, 1))  # (batch_size, hidden_dim, seq_len)\n",
    "\n",
    "# Compute gradient w.r.t. attention weights\n",
    "# Shape: (batch_size, seq_len, seq_len)\n",
    "d_attention_weights = np.matmul(d_attention, Vval_T)\n",
    "# Gradient for QK scaled\n",
    "d_QKscaled = d_attention_weights * Attention_weights * (1 - Attention_weights)\n",
    "# Gradient for Q and K\n",
    "d_Qval = np.matmul(d_QKscaled, Kval) / np.sqrt(K.shape[1])\n",
    "d_Kval = np.matmul(d_QKscaled, Qval) / np.sqrt(K.shape[1])\n",
    "d_Q = np.mean(np.matmul(np.transpose(inputs,(0,2,1)), d_Qval),axis=0)\n",
    "d_K =  np.mean(np.matmul(np.transpose(inputs,(0,2,1)), d_Kval),axis=0)\n",
    "\n",
    "# Update weights\n",
    "learning_rate=0.001\n",
    "Q -= learning_rate * d_Q\n",
    "K -= learning_rate * d_K\n",
    "V -= learning_rate * d_V\n",
    "linearlayer -= learning_rate * d_linear\n",
    "linear_bias -= learning_rate * d_bias"
   ]
  },
  {
   "cell_type": "code",
   "execution_count": null,
   "id": "10758b4b-4d5b-4754-b962-a2838ec4c544",
   "metadata": {},
   "outputs": [],
   "source": []
  },
  {
   "cell_type": "code",
   "execution_count": null,
   "id": "df45d5ed-1d29-4f99-a24b-529148fe03f4",
   "metadata": {},
   "outputs": [],
   "source": []
  },
  {
   "cell_type": "code",
   "execution_count": null,
   "id": "614bc7b6-8229-4c26-b4a7-7bbf02cf12b3",
   "metadata": {},
   "outputs": [],
   "source": []
  },
  {
   "cell_type": "code",
   "execution_count": null,
   "id": "e45cab89-4a7a-49b2-8446-fa5d45449e82",
   "metadata": {},
   "outputs": [],
   "source": []
  },
  {
   "cell_type": "code",
   "execution_count": null,
   "id": "4b50a552-3422-4b37-8713-d4ec13830644",
   "metadata": {},
   "outputs": [],
   "source": []
  },
  {
   "cell_type": "code",
   "execution_count": 79,
   "id": "73d48560-3e6e-4f76-b6fb-ea168a2988ed",
   "metadata": {
    "scrolled": true
   },
   "outputs": [],
   "source": [
    "\n"
   ]
  },
  {
   "cell_type": "code",
   "execution_count": 28,
   "id": "2898e162-809a-4934-8945-a7bebc9cf396",
   "metadata": {},
   "outputs": [],
   "source": [
    "# import spacy \n",
    "# import numpy as np \n",
    "# import pandas as pd\n",
    "# df=pd.read_csv(\"data/bbc-text.csv\")\n",
    "# nlp = spacy.load('en_core_web_lg')\n",
    " \n",
    "# def preprocess_text(text, max_words=70):\n",
    "#     # Process the text using SpaCy\n",
    "#     doc = nlp(text)\n",
    "    \n",
    "#     # Filter out stopwords, punctuation, and spaces\n",
    "#     tokens = [token.text for token in doc if not token.is_stop and not token.is_punct and not token.is_space]\n",
    "    \n",
    "#     # Limit to the top 'max_words' words and pad if necessary\n",
    "#     if len(tokens) > max_words:\n",
    "#         tokens = tokens[:max_words]  # Keep the first max_words words\n",
    "#     else:\n",
    "#         tokens += ['<PAD>'] * (max_words - len(tokens))  # Pad the list with '<PAD>' token\n",
    "    \n",
    "#     # Join the tokens back into a string or return a list\n",
    "#     return tokens\n",
    "# df['processed_text'] = df['text'].apply(preprocess_text)\n",
    "# df['processed_text']\n",
    "\n",
    "\n",
    "# inputs = [] \n",
    "# # Process each phrase in the 'category' column\n",
    "# for phrase in list(df['processed_text']):\n",
    "#     doc = nlp(\" \".join(phrase))  # Process the phrase with SpaCy\n",
    "#     # Extract word vectors\n",
    "#     matrix = np.array([token.vector for token in doc])\n",
    "#     inputs.append(matrix)\n",
    "\n",
    "\n",
    "\n",
    "# def get_train_test_data(data_dir):\n",
    "#     # Get the train data\n",
    "#     train_data = pd.read_json(f\"{data_dir}/train.json\")\n",
    "#     train_data.drop(['id'], axis=1, inplace=True)\n",
    "\n",
    "#     # Get the test data\n",
    "#     test_data = pd.read_json(f\"{data_dir}/test.json\")\n",
    "#     test_data.drop(['id'], axis=1, inplace=True)\n",
    "    \n",
    "#     return train_data, test_data\n",
    "\n",
    "# data_dir = \"corpus\"\n",
    "\n",
    "# train_data, test_data = get_train_test_data(data_dir)\n",
    "\n",
    "# # Take one example from the dataset and print it\n",
    "# example_summary, example_dialogue = train_data.iloc[10]\n",
    "# print(f\"Dialogue:\\n{example_dialogue}\")\n",
    "# print(f\"\\nSummary:\\n{example_summary}\")"
   ]
  },
  {
   "cell_type": "code",
   "execution_count": null,
   "id": "ba720f59-28b9-4c2f-b129-677a567505fd",
   "metadata": {},
   "outputs": [],
   "source": []
  },
  {
   "cell_type": "code",
   "execution_count": null,
   "id": "e1446c00-9370-4bf4-ad93-ae0f79e846f9",
   "metadata": {},
   "outputs": [],
   "source": []
  },
  {
   "cell_type": "code",
   "execution_count": null,
   "id": "b036f928-2902-4ece-92f6-abf185e4fe51",
   "metadata": {},
   "outputs": [],
   "source": []
  },
  {
   "cell_type": "code",
   "execution_count": 84,
   "id": "68c3a014-7c52-47d6-b0f0-4aab54cf6c1d",
   "metadata": {
    "scrolled": true
   },
   "outputs": [
    {
     "name": "stderr",
     "output_type": "stream",
     "text": [
      "Epoch 1/30: 100%|██████████████████████████████████████████████████████████████████████████████████████████████████████████| 29/29 [00:08<00:00,  3.55it/s]\n"
     ]
    },
    {
     "name": "stdout",
     "output_type": "stream",
     "text": [
      "Epoch 1/30, Loss: 1.5622\n"
     ]
    },
    {
     "name": "stderr",
     "output_type": "stream",
     "text": [
      "Epoch 2/30: 100%|██████████████████████████████████████████████████████████████████████████████████████████████████████████| 29/29 [00:08<00:00,  3.52it/s]\n"
     ]
    },
    {
     "name": "stdout",
     "output_type": "stream",
     "text": [
      "Epoch 2/30, Loss: 0.9235\n"
     ]
    },
    {
     "name": "stderr",
     "output_type": "stream",
     "text": [
      "Epoch 3/30: 100%|██████████████████████████████████████████████████████████████████████████████████████████████████████████| 29/29 [00:08<00:00,  3.47it/s]\n"
     ]
    },
    {
     "name": "stdout",
     "output_type": "stream",
     "text": [
      "Epoch 3/30, Loss: 0.7740\n"
     ]
    },
    {
     "name": "stderr",
     "output_type": "stream",
     "text": [
      "Epoch 4/30: 100%|██████████████████████████████████████████████████████████████████████████████████████████████████████████| 29/29 [00:10<00:00,  2.66it/s]\n"
     ]
    },
    {
     "name": "stdout",
     "output_type": "stream",
     "text": [
      "Epoch 4/30, Loss: 0.7025\n"
     ]
    },
    {
     "name": "stderr",
     "output_type": "stream",
     "text": [
      "Epoch 5/30:  31%|█████████████████████████████████▏                                                                         | 9/29 [00:02<00:05,  3.63it/s]\n"
     ]
    },
    {
     "ename": "KeyboardInterrupt",
     "evalue": "",
     "output_type": "error",
     "traceback": [
      "\u001b[1;31m---------------------------------------------------------------------------\u001b[0m",
      "\u001b[1;31mKeyboardInterrupt\u001b[0m                         Traceback (most recent call last)",
      "Cell \u001b[1;32mIn[84], line 182\u001b[0m\n\u001b[0;32m    178\u001b[0m X_train_padded \u001b[38;5;241m=\u001b[39m pad_sequences(X_train, max_seq_length)\n\u001b[0;32m    181\u001b[0m model \u001b[38;5;241m=\u001b[39m QKVAttentionClassifier(word_len, word_per_phrase, batch_size, dk, dv, num_classes)\n\u001b[1;32m--> 182\u001b[0m \u001b[43mmodel\u001b[49m\u001b[38;5;241;43m.\u001b[39;49m\u001b[43mtrain\u001b[49m\u001b[43m(\u001b[49m\u001b[43mX_train_padded\u001b[49m\u001b[43m,\u001b[49m\u001b[43m \u001b[49m\u001b[43my_train\u001b[49m\u001b[43m,\u001b[49m\u001b[43m \u001b[49m\u001b[43mnum_epochs\u001b[49m\u001b[38;5;241;43m=\u001b[39;49m\u001b[38;5;241;43m30\u001b[39;49m\u001b[43m,\u001b[49m\u001b[43m \u001b[49m\u001b[43mlearning_rate\u001b[49m\u001b[38;5;241;43m=\u001b[39;49m\u001b[38;5;241;43m0.001\u001b[39;49m\u001b[43m)\u001b[49m\n",
      "Cell \u001b[1;32mIn[84], line 147\u001b[0m, in \u001b[0;36mQKVAttentionClassifier.train\u001b[1;34m(self, X_train, y_train, num_epochs, learning_rate)\u001b[0m\n\u001b[0;32m    144\u001b[0m X_batch \u001b[38;5;241m=\u001b[39m X_train[start:end]\n\u001b[0;32m    145\u001b[0m y_batch \u001b[38;5;241m=\u001b[39m y_train[start:end]\n\u001b[1;32m--> 147\u001b[0m yi \u001b[38;5;241m=\u001b[39m \u001b[38;5;28;43mself\u001b[39;49m\u001b[38;5;241;43m.\u001b[39;49m\u001b[43mforward\u001b[49m\u001b[43m(\u001b[49m\u001b[43mX_batch\u001b[49m\u001b[43m)\u001b[49m\n\u001b[0;32m    149\u001b[0m Loss \u001b[38;5;241m=\u001b[39m \u001b[38;5;28mself\u001b[39m\u001b[38;5;241m.\u001b[39mcross_entropy_loss(yi, y_batch)\n\u001b[0;32m    150\u001b[0m total_loss \u001b[38;5;241m+\u001b[39m\u001b[38;5;241m=\u001b[39m Loss\n",
      "Cell \u001b[1;32mIn[84], line 81\u001b[0m, in \u001b[0;36mQKVAttentionClassifier.forward\u001b[1;34m(self, Inputs)\u001b[0m\n\u001b[0;32m     79\u001b[0m \u001b[38;5;28;01mdef\u001b[39;00m \u001b[38;5;21mforward\u001b[39m(\u001b[38;5;28mself\u001b[39m, Inputs):\n\u001b[1;32m---> 81\u001b[0m     Attention \u001b[38;5;241m=\u001b[39m \u001b[38;5;28;43mself\u001b[39;49m\u001b[38;5;241;43m.\u001b[39;49m\u001b[43mAttentionHead\u001b[49m\u001b[43m(\u001b[49m\u001b[43mInputs\u001b[49m\u001b[43m)\u001b[49m\n\u001b[0;32m     83\u001b[0m     \u001b[38;5;28mself\u001b[39m\u001b[38;5;241m.\u001b[39mphrase_representation \u001b[38;5;241m=\u001b[39m np\u001b[38;5;241m.\u001b[39mmean(Attention, axis\u001b[38;5;241m=\u001b[39m\u001b[38;5;241m1\u001b[39m)\n\u001b[0;32m     85\u001b[0m     Zout \u001b[38;5;241m=\u001b[39m \u001b[38;5;28mself\u001b[39m\u001b[38;5;241m.\u001b[39mLinearLayer()\n",
      "Cell \u001b[1;32mIn[84], line 66\u001b[0m, in \u001b[0;36mQKVAttentionClassifier.AttentionHead\u001b[1;34m(self, Inputs)\u001b[0m\n\u001b[0;32m     64\u001b[0m \u001b[38;5;28;01mdef\u001b[39;00m \u001b[38;5;21mAttentionHead\u001b[39m(\u001b[38;5;28mself\u001b[39m, Inputs):\n\u001b[0;32m     65\u001b[0m     \u001b[38;5;28mself\u001b[39m\u001b[38;5;241m.\u001b[39mQval \u001b[38;5;241m=\u001b[39m np\u001b[38;5;241m.\u001b[39mdot(Inputs, \u001b[38;5;28mself\u001b[39m\u001b[38;5;241m.\u001b[39mQ)\n\u001b[1;32m---> 66\u001b[0m     \u001b[38;5;28mself\u001b[39m\u001b[38;5;241m.\u001b[39mKval \u001b[38;5;241m=\u001b[39m \u001b[43mnp\u001b[49m\u001b[38;5;241;43m.\u001b[39;49m\u001b[43mdot\u001b[49m\u001b[43m(\u001b[49m\u001b[43mInputs\u001b[49m\u001b[43m,\u001b[49m\u001b[43m \u001b[49m\u001b[38;5;28;43mself\u001b[39;49m\u001b[38;5;241;43m.\u001b[39;49m\u001b[43mK\u001b[49m\u001b[43m)\u001b[49m\n\u001b[0;32m     67\u001b[0m     \u001b[38;5;28mself\u001b[39m\u001b[38;5;241m.\u001b[39mVval \u001b[38;5;241m=\u001b[39m np\u001b[38;5;241m.\u001b[39mdot(Inputs, \u001b[38;5;28mself\u001b[39m\u001b[38;5;241m.\u001b[39mV)\n\u001b[0;32m     69\u001b[0m     QKscaled \u001b[38;5;241m=\u001b[39m np\u001b[38;5;241m.\u001b[39mmatmul(\u001b[38;5;28mself\u001b[39m\u001b[38;5;241m.\u001b[39mQval, np\u001b[38;5;241m.\u001b[39mtranspose(\u001b[38;5;28mself\u001b[39m\u001b[38;5;241m.\u001b[39mKval, (\u001b[38;5;241m0\u001b[39m, \u001b[38;5;241m2\u001b[39m, \u001b[38;5;241m1\u001b[39m))) \u001b[38;5;241m/\u001b[39m np\u001b[38;5;241m.\u001b[39msqrt(\u001b[38;5;28mself\u001b[39m\u001b[38;5;241m.\u001b[39mK\u001b[38;5;241m.\u001b[39mshape[\u001b[38;5;241m1\u001b[39m])\n",
      "\u001b[1;31mKeyboardInterrupt\u001b[0m: "
     ]
    }
   ],
   "source": [
    "import numpy as np\n",
    "from tqdm import tqdm\n",
    "import sys\n",
    "sys.path.append('c:\\\\python312\\\\lib\\\\site-packages')\n",
    "import pickle\n",
    "import spacy\n",
    "import numpy as np\n",
    "import pandas as pd\n",
    "from tqdm import tqdm\n",
    "\n",
    "def softmax(x, axis=-1):\n",
    "    # Subtract the max value for numerical stability\n",
    "    x = np.clip(x, -1500, 1500)\n",
    "    e_x = np.exp(x - np.max(x, axis=axis, keepdims=True))\n",
    "    return e_x / np.sum(e_x, axis=axis, keepdims=True)\n",
    "\n",
    "\n",
    "def cross_entropy_loss(predictions, target):\n",
    "    return -np.sum(target * np.log(predictions + 1e-9))  # Adding a small constant to avoid log(0)\n",
    "\n",
    "\n",
    "df=pd.read_csv(\"data/bbc-text.csv\")\n",
    "nlp = spacy.load('en_core_web_lg')\n",
    "with open('data/InputProcessed.pkl', 'rb') as f:\n",
    "    X = pickle.load(f)\n",
    "\n",
    "y = np.array(pd.get_dummies(df[\"category\"], dtype=int))\n",
    "tts=0.85\n",
    "X_train,X_test=X[0:round(tts*len(X))],X[round(tts*len(X)):]\n",
    "y_train,y_test=y[0:round(tts*len(X))],y[round(tts*len(X)):]\n",
    "X_train.shape,X_test.shape,y_train.shape,y_test.shape\n",
    "\n",
    "import numpy as np\n",
    "\n",
    "class QKVAttentionClassifier:\n",
    "    def __init__(self, word_len, words_per_phrase, batch_size, dk, dv, num_classes):\n",
    "\n",
    "        self.word_len = word_len\n",
    "        self.batch_size = batch_size\n",
    "        self.dk = dk\n",
    "        self.dv = dv\n",
    "        self.num_classes = num_classes\n",
    "        self.words_per_phrase = words_per_phrase\n",
    "        \n",
    "        # Initialize weights with Xavier/Glorot initialization\n",
    "        self.Q = np.random.randn(self.word_len, self.dk) / np.sqrt(self.word_len)  # * 0.01\n",
    "        self.K = np.random.randn(self.word_len, self.dk) / np.sqrt(self.word_len)  # * 0.01\n",
    "        self.V = np.random.randn(self.word_len, self.dk) / np.sqrt(self.word_len)  # * 0.01\n",
    "\n",
    "        # Initialize linear layer weights\n",
    "        self.linearlayer = np.random.randn(self.dk, self.num_classes) / np.sqrt(self.dk)\n",
    "        self.linear_bias = np.zeros(self.num_classes)\n",
    "\n",
    "    def softmax(self, x, axis=-1):\n",
    "        x = np.clip(x, -1e4, 1e4)  # Clip for numerical stability\n",
    "        e_x = np.exp(x - np.max(x, axis=axis, keepdims=True))\n",
    "        return e_x / np.sum(e_x, axis=axis, keepdims=True)\n",
    "\n",
    "    def cross_entropy_loss(self, predictions, target):\n",
    "        # Cross-entropy loss for a batch of predictions and targets\n",
    "        batch_loss = -np.sum(target * np.log(predictions + 1e-9), axis=1)\n",
    "        return np.mean(batch_loss)\n",
    "\n",
    "    def AttentionHead(self, Inputs):\n",
    "        self.Qval = np.dot(Inputs, self.Q)\n",
    "        self.Kval = np.dot(Inputs, self.K)\n",
    "        self.Vval = np.dot(Inputs, self.V)\n",
    "\n",
    "        QKscaled = np.matmul(self.Qval, np.transpose(self.Kval, (0, 2, 1))) / np.sqrt(self.K.shape[1])\n",
    "        # QKscaled = np.clip(QKscaled, -1e2, 1e2)\n",
    "        self.Attention_weights = self.softmax(QKscaled)\n",
    "\n",
    "        return np.matmul(self.Attention_weights, self.Vval)\n",
    "\n",
    "    def LinearLayer(self):\n",
    "        output = np.matmul(self.phrase_representation, self.linearlayer) + self.linear_bias\n",
    "        return output\n",
    "\n",
    "    def forward(self, Inputs):\n",
    "\n",
    "        Attention = self.AttentionHead(Inputs)\n",
    "\n",
    "        self.phrase_representation = np.mean(Attention, axis=1)\n",
    "\n",
    "        Zout = self.LinearLayer()\n",
    "\n",
    "        Sigma_Zout = self.softmax(Zout)\n",
    "\n",
    "        return Sigma_Zout\n",
    "\n",
    "    def BackPropagation(self, dLoss_dSigma_Zout, inputs):\n",
    "\n",
    "        dlinear_dW = np.dot(self.phrase_representation.T, dLoss_dSigma_Zout)\n",
    "\n",
    "        d_bias = np.sum(dLoss_dSigma_Zout, axis=0)\n",
    "\n",
    "        d_phrase_rep = np.dot(dLoss_dSigma_Zout, self.linearlayer.T)\n",
    "\n",
    "        d_attention = np.array([np.outer(np.ones(self.words_per_phrase), d_phrase_rep[i, :]) for i in range(d_phrase_rep.shape[0])]) / self.words_per_phrase\n",
    "\n",
    "        # Gradient for V\n",
    "        d_Vval = np.matmul(self.Attention_weights, d_attention)\n",
    "        d_V = np.mean(np.matmul(np.transpose(inputs, (0, 2, 1)), d_Vval), axis=0)\n",
    "\n",
    "        # Gradient for attention weights\n",
    "        Vval_T = np.transpose(self.Vval, (0, 2, 1))  # (batch_size, hidden_dim, seq_len)\n",
    "        d_attention_weights = np.matmul(d_attention, Vval_T)\n",
    "\n",
    "        # Gradient for QK scaled\n",
    "        d_QKscaled = d_attention_weights * self.Attention_weights * (1 - self.Attention_weights)\n",
    "        # Gradient for Q and K\n",
    "        d_Qval = np.matmul(d_QKscaled, self.Kval) / np.sqrt(self.dk)\n",
    "        d_Kval = np.matmul(d_QKscaled, self.Qval) / np.sqrt(self.dk)\n",
    "        d_Q = np.mean(np.matmul(np.transpose(inputs, (0, 2, 1)), d_Qval), axis=0)\n",
    "        d_K = np.mean(np.matmul(np.transpose(inputs, (0, 2, 1)), d_Kval), axis=0)\n",
    "\n",
    "        # Gradient clipping\n",
    "        # clip_value = 1.0\n",
    "        # d_Q = np.clip(d_Q, -clip_value, clip_value)\n",
    "        # d_K = np.clip(d_K, -clip_value, clip_value)\n",
    "        # d_V = np.clip(d_V, -clip_value, clip_value)\n",
    "        # dlinear_dW = np.clip(dlinear_dW, -clip_value, clip_value)\n",
    "        # d_bias = np.clip(d_bias, -clip_value, clip_value)\n",
    "\n",
    "        self.Q -= self.learning_rate * d_Q\n",
    "        self.K -= self.learning_rate * d_K\n",
    "        self.V -= self.learning_rate * d_V\n",
    "        self.linearlayer -= self.learning_rate * dlinear_dW\n",
    "        self.linear_bias -= self.learning_rate * d_bias\n",
    "\n",
    "    def train(self, X_train, y_train, num_epochs, learning_rate=0.01):\n",
    "\n",
    "        self.learning_rate = learning_rate\n",
    "\n",
    "        for epoch in range(num_epochs):\n",
    "\n",
    "            total_loss = 0\n",
    "\n",
    "            num_batches_per_epoch = len(X_train) // self.batch_size\n",
    "\n",
    "            for i in tqdm(range(num_batches_per_epoch), desc=f\"Epoch {epoch + 1}/{num_epochs}\"):\n",
    "                start = i * self.batch_size\n",
    "                end = start + self.batch_size\n",
    "                X_batch = X_train[start:end]\n",
    "                y_batch = y_train[start:end]\n",
    "\n",
    "                yi = self.forward(X_batch)\n",
    "\n",
    "                Loss = self.cross_entropy_loss(yi, y_batch)\n",
    "                total_loss += Loss\n",
    "\n",
    "                dLoss_dSigma_Zout = yi - y_batch\n",
    "\n",
    "                self.BackPropagation(dLoss_dSigma_Zout, X_batch)\n",
    "\n",
    "            print(f\"Epoch {epoch + 1}/{num_epochs}, Loss: {(total_loss / num_batches_per_epoch):.4f}\")\n",
    "\n",
    "    def predict(self, X):\n",
    "        return self.forward(X)\n",
    "\n",
    "\n",
    "def pad_sequences(sequences, max_len):\n",
    "    padded_sequences = np.zeros((len(sequences), max_len, sequences[0].shape[1]))\n",
    "    for i, seq in enumerate(sequences):\n",
    "        length = min(seq.shape[0], max_len)\n",
    "        padded_sequences[i, :length] = seq[:length]\n",
    "    return padded_sequences\n",
    "\n",
    "word_len = 300\n",
    "word_per_phrase=70\n",
    "dk = 32\n",
    "dv = 150\n",
    "batch_size = 64\n",
    "num_classes = 5\n",
    "max_seq_length = 70\n",
    "\n",
    "# Assuming X_train and y_train are your training data and labels\n",
    "X_train_padded = pad_sequences(X_train, max_seq_length)\n",
    " \n",
    "\n",
    "model = QKVAttentionClassifier(word_len, word_per_phrase, batch_size, dk, dv, num_classes)\n",
    "model.train(X_train_padded, y_train, num_epochs=30, learning_rate=0.001)\n",
    "\n",
    "\n"
   ]
  },
  {
   "cell_type": "code",
   "execution_count": 3,
   "id": "389c7910-755c-4c1e-8add-6bd7ddde5f3a",
   "metadata": {
    "scrolled": true
   },
   "outputs": [
    {
     "data": {
      "text/plain": [
       "70"
      ]
     },
     "execution_count": 3,
     "metadata": {},
     "output_type": "execute_result"
    }
   ],
   "source": [
    "X_train_padded.shape[1]"
   ]
  },
  {
   "cell_type": "code",
   "execution_count": 15,
   "id": "9f2289d7-cacb-4288-b9a1-86b0d81db14a",
   "metadata": {
    "scrolled": true
   },
   "outputs": [
    {
     "data": {
      "text/plain": [
       "(array([[1., 0., 0., 0., 0.],\n",
       "        [0., 0., 1., 0., 0.],\n",
       "        [0., 0., 0., 0., 1.],\n",
       "        ...,\n",
       "        [0., 1., 0., 0., 0.],\n",
       "        [0., 0., 1., 0., 0.],\n",
       "        [0., 0., 0., 1., 0.]]),\n",
       " array([[1, 0, 0, 0, 0],\n",
       "        [0, 0, 1, 0, 0],\n",
       "        [0, 0, 0, 0, 1],\n",
       "        ...,\n",
       "        [0, 1, 0, 0, 0],\n",
       "        [0, 0, 1, 0, 0],\n",
       "        [0, 0, 0, 1, 0]]))"
      ]
     },
     "execution_count": 15,
     "metadata": {},
     "output_type": "execute_result"
    }
   ],
   "source": [
    "X_test= pad_sequences(X_test, max_seq_length)\n",
    "\n",
    "predictions = classifier.predict(X_test)\n",
    "\n",
    "# Get the index of the maximum value in each row\n",
    "y_pred = np.argmax(predictions, axis=1)\n",
    "\n",
    "# Create a zero array with the same shape as `predictions`\n",
    "one_hot_output = np.zeros_like(predictions)\n",
    "\n",
    "# Set the maximum index in each row to 1\n",
    "one_hot_output[np.arange(predictions.shape[0]), max_indices] = 1\n",
    "\n",
    "one_hot_output,y_test"
   ]
  },
  {
   "cell_type": "code",
   "execution_count": 6,
   "id": "4c494b7e-bc42-4def-8cec-a5a87318e67d",
   "metadata": {},
   "outputs": [],
   "source": [
    "import numpy as np\n",
    "from sklearn.metrics import confusion_matrix\n",
    "import seaborn as sns\n",
    "import matplotlib.pyplot as plt"
   ]
  },
  {
   "cell_type": "code",
   "execution_count": 23,
   "id": "01641a4a-e67b-49a4-ac2e-a022304ec8e2",
   "metadata": {
    "scrolled": true
   },
   "outputs": [
    {
     "name": "stderr",
     "output_type": "stream",
     "text": [
      "C:\\Users\\dials\\AppData\\Local\\Temp\\ipykernel_154676\\2573844319.py:68: RuntimeWarning: overflow encountered in matmul\n",
      "  QKscaled = np.matmul(self.Qval, np.transpose(self.Kval, (0, 2, 1))) / np.sqrt(self.K.shape[1])\n"
     ]
    },
    {
     "data": {
      "image/png": "[encoded data removed]",
      "text/plain": [
       "<Figure size 500x500 with 2 Axes>"
      ]
     },
     "metadata": {},
     "output_type": "display_data"
    }
   ],
   "source": [
    "X_test= pad_sequences(X_test, max_seq_length)\n",
    "\n",
    "predictions = classifier.predict(X_test)\n",
    "y_pred = np.argmax(predictions, axis=1)\n",
    "\n",
    "# Convert one-hot encoded true labels to class labels\n",
    "y_true = np.argmax(y_test, axis=1) \n",
    "# Compute confusion matrix\n",
    "cm = confusion_matrix(y_true, y_pred, labels=np.arange(5))\n",
    "\n",
    "# Visualize the confusion matrix\n",
    "plt.figure(figsize=(5, 5))\n",
    "sns.heatmap(cm, annot=True, fmt='d', cmap='Blues', xticklabels=np.arange(5), yticklabels=np.arange(5))\n",
    "plt.xlabel('Predicted Label')\n",
    "plt.ylabel('True Label')\n",
    "plt.title('Confusion Matrix')\n",
    "plt.show()"
   ]
  },
  {
   "cell_type": "code",
   "execution_count": 25,
   "id": "7e7ceaa2-e90f-4522-a6eb-5c3fabb752cd",
   "metadata": {},
   "outputs": [
    {
     "data": {
      "image/png": "[encoded data removed]",
      "text/plain": [
       "<Figure size 500x500 with 2 Axes>"
      ]
     },
     "metadata": {},
     "output_type": "display_data"
    }
   ],
   "source": [
    "X_test= pad_sequences(X_test, max_seq_length)\n",
    "\n",
    "predictions = classifier.predict(X_test)\n",
    "y_pred = np.argmax(predictions, axis=1)\n",
    "\n",
    "# Convert one-hot encoded true labels to class labels\n",
    "y_true = np.argmax(y_test, axis=1) \n",
    "# Compute confusion matrix\n",
    "cm = confusion_matrix(y_true, y_pred, labels=np.arange(5))\n",
    "\n",
    "# Visualize the confusion matrix\n",
    "plt.figure(figsize=(5, 5))\n",
    "sns.heatmap(cm, annot=True, fmt='d', cmap='Blues', xticklabels=np.arange(5), yticklabels=np.arange(5))\n",
    "plt.xlabel('Predicted Label')\n",
    "plt.ylabel('True Label')\n",
    "plt.title('Confusion Matrix')\n",
    "plt.show()"
   ]
  },
  {
   "cell_type": "code",
   "execution_count": null,
   "id": "22a1638f-fa3c-48aa-8314-e5f934c8c0dc",
   "metadata": {},
   "outputs": [],
   "source": []
  }
 ],
 "metadata": {
  "kernelspec": {
   "display_name": "Python 3 (ipykernel)",
   "language": "python",
   "name": "python3"
  },
  "language_info": {
   "codemirror_mode": {
    "name": "ipython",
    "version": 3
   },
   "file_extension": ".py",
   "mimetype": "text/x-python",
   "name": "python",
   "nbconvert_exporter": "python",
   "pygments_lexer": "ipython3",
   "version": "3.12.2"
  }
 },
 "nbformat": 4,
 "nbformat_minor": 5
}
