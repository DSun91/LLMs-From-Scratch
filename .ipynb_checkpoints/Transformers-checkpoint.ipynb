{
 "cells": [
  {
   "cell_type": "code",
   "execution_count": 5,
   "id": "430cf7fc-f02d-414f-b79a-28fe47b7fbca",
   "metadata": {},
   "outputs": [
    {
     "name": "stdout",
     "output_type": "stream",
     "text": [
      "Vocabulary size:  29457\n",
      "Function 'create_vocabulary' executed in 0.7851 seconds\n"
     ]
    }
   ],
   "source": [
    "import sys \n",
    "sys.path.append('c:\\\\python312\\\\lib\\\\site-packages')\n",
    "import jax.numpy as jnp \n",
    "import re\n",
    "import cupy as cp\n",
    "import pickle\n",
    "import time\n",
    "import numpy as np\n",
    "import sys \n",
    "sys.path.append('c:\\\\python312\\\\lib\\\\site-packages')\n",
    "import jax.numpy as jnp\n",
    "import pandas as pd\n",
    "import numpy as np\n",
    "import jax\n",
    "def log_time(func):\n",
    "    def wrapper(*args, **kwargs):\n",
    "        start_time = time.time()  # Record start time\n",
    "        result = func(*args, **kwargs)  # Execute the wrapped function\n",
    "        end_time = time.time()  # Record end time\n",
    "        elapsed_time = end_time - start_time\n",
    "        print(f\"Function '{func.__name__}' executed in {elapsed_time:.4f} seconds\")\n",
    "        return result\n",
    "\n",
    "    return wrapper\n",
    "\n",
    "\n",
    "class Transformer:\n",
    "\n",
    "    def __init__(self,embedding_size):\n",
    "        self.embedding_size=embedding_size\n",
    "        self.key=jax.random.key(55)\n",
    "        pass\n",
    "\n",
    "    def cross_entropy_loss(self, predictions, target):\n",
    "        # Cross-entropy loss for a batch of predictions and targets\n",
    "        batch_loss = -jnp.sum(target * jnp.log(predictions + 1e-9), axis=1)\n",
    "        return jnp.mean(batch_loss)\n",
    "\n",
    "    def softmax(self, x, axis=-1):\n",
    "        x = jnp.clip(x, -1e4, 1e4)  # Clip for numerical stability\n",
    "        e_x = jnp.exp(x - jnp.max(x, axis=axis, keepdims=True))\n",
    "        return e_x / jnp.sum(e_x, axis=axis, keepdims=True)\n",
    "\n",
    "    def generate_input(self, input_phrase):\n",
    "\n",
    "\n",
    "\n",
    "\n",
    "        \n",
    "    def input_one_hot_vectors(self, words, vocabulary): \n",
    "        inputs = np.zeros((len(words), len(vocabulary)), int) \n",
    "        for i in range(len(words)):\n",
    "            inputs[i][vocabulary[words[i]]] = 1\n",
    "\n",
    "        return inputs\n",
    " \n",
    "    @log_time\n",
    "    def create_vocabulary(self,complete_text):\n",
    "\n",
    "        text = re.sub(r'[^\\w\\s]', ' ', complete_text).split()\n",
    "        words_list = list(set(text))\n",
    "        vocabulary=dict()\n",
    "        for i in words_list:\n",
    "            vocabulary[i]=jax.random.uniform(self.key,self.embedding_size)\n",
    "        \n",
    "        print(\"Vocabulary size: \", len(vocabulary))\n",
    "        # with open('data/vocabulary.pkl', 'wb') as handle:\n",
    "        #     pickle.dump(vocabulary, handle, protocol=pickle.HIGHEST_PROTOCOL)\n",
    "    \n",
    "        return vocabulary\n",
    "        \n",
    "\n",
    "\n",
    " \n",
    "     \n",
    "    \n",
    "\n",
    "\n",
    "df = pd.read_csv(\"data/bbc-text.csv\")\n",
    "# complete_text = ' '.join(df['text'].str.split()) \n",
    "complete_text = ' '.join(df[\"text\"].tolist())\n",
    "embedding_size = 100\n",
    "semi_context_window = 5\n",
    "\n",
    "model = Transformer(embedding_size)\n",
    "\n",
    "vocabulary=model.create_vocabulary(complete_text)"
   ]
  },
  {
   "cell_type": "code",
   "execution_count": 6,
   "id": "3bae8696-df6e-4a70-be04-b22dc5f94ca0",
   "metadata": {},
   "outputs": [
    {
     "data": {
      "text/plain": [
       "Array([2.84124494e-01, 9.36343908e-01, 1.60029411e-01, 2.98834562e-01,\n",
       "       5.50046802e-01, 3.83568406e-01, 6.52649403e-02, 8.70296717e-01,\n",
       "       8.68537664e-01, 7.56285548e-01, 2.94616222e-01, 7.83018231e-01,\n",
       "       2.56697178e-01, 3.43070984e-01, 3.71887207e-01, 2.60535479e-02,\n",
       "       5.39949059e-01, 9.69186306e-01, 1.28093004e-01, 2.77708411e-01,\n",
       "       4.67846513e-01, 7.05072999e-01, 6.89522028e-01, 1.01774216e-01,\n",
       "       9.14604664e-01, 5.09413600e-01, 8.35520864e-01, 6.85385466e-01,\n",
       "       1.42398596e-01, 8.82862926e-01, 2.90714860e-01, 8.00374508e-01,\n",
       "       4.56745148e-01, 2.22807765e-01, 3.52800965e-01, 3.10063362e-04,\n",
       "       5.44119000e-01, 3.48031282e-01, 9.97308493e-01, 6.28327847e-01,\n",
       "       1.90878510e-01, 1.89683437e-01, 6.84578896e-01, 6.57985806e-01,\n",
       "       3.33767414e-01, 6.40792727e-01, 6.32629275e-01, 6.88470483e-01,\n",
       "       8.70366693e-01, 8.09771538e-01, 7.09491253e-01, 7.67735124e-01,\n",
       "       1.26191378e-02, 5.29135823e-01, 7.09165335e-02, 8.56102705e-01,\n",
       "       1.69895887e-02, 4.71526265e-01, 8.25297713e-01, 1.26557827e-01,\n",
       "       7.08235025e-01, 7.00369000e-01, 3.63029718e-01, 3.82297039e-01,\n",
       "       3.87974262e-01, 6.40345573e-01, 8.47638965e-01, 6.02446675e-01,\n",
       "       8.99383783e-01, 7.04669237e-01, 1.15043402e-01, 1.71296239e-01,\n",
       "       9.48444605e-02, 7.99669862e-01, 5.33507586e-01, 6.29298568e-01,\n",
       "       5.69742799e-01, 7.31186628e-01, 2.78420925e-01, 2.99513578e-01,\n",
       "       9.22196269e-01, 9.99092698e-01, 6.25219464e-01, 8.66787434e-02,\n",
       "       9.00593877e-01, 5.01847267e-03, 3.99774432e-01, 6.25928879e-01,\n",
       "       6.99051738e-01, 9.86137748e-01, 5.57952404e-01, 1.92101955e-01,\n",
       "       1.35894179e-01, 6.96264386e-01, 1.55364394e-01, 6.83579445e-02,\n",
       "       5.04786253e-01, 2.32952595e-01, 3.65525961e-01, 8.25963616e-01],      dtype=float32)"
      ]
     },
     "execution_count": 6,
     "metadata": {},
     "output_type": "execute_result"
    }
   ],
   "source": [
    "vocabulary[\"soy\"]"
   ]
  },
  {
   "cell_type": "markdown",
   "id": "a1a2c903-f003-42ef-9d3a-a216b1a3185f",
   "metadata": {},
   "source": [
    "# Prepare input lookup table\n",
    "\n",
    "Step-by-Step Process:\n",
    "Create a Vocabulary:\n",
    "Map each word to an index (token) and initialize a random vector for each word.\n",
    "Initialize Embedding Vectors:\n",
    "For each word in the vocabulary, initialize a random embedding vector (say of dimension 3 or 512).\n",
    "For Each Input Sequence:\n",
    "Convert the words to their corresponding vectors using the vocabulary.\n",
    "Stack the vectors to form an input matrix."
   ]
  },
  {
   "cell_type": "code",
   "execution_count": 52,
   "id": "e9e19b31-64ea-4dd2-bc04-9bf120a00f63",
   "metadata": {},
   "outputs": [
    {
     "name": "stdout",
     "output_type": "stream",
     "text": [
      "Vocabulary size:  29457\n",
      "Function 'create_vocabulary' executed in 0.5892 seconds\n"
     ]
    }
   ],
   "source": [
    "import jax.random   \n",
    "seed=55\n",
    "\n",
    "\n",
    "\n",
    "\n",
    "@log_time\n",
    "def create_vocabulary(complete_text,embedding_size):\n",
    "\n",
    "    text = re.sub(r'[^\\w\\s]', ' ', complete_text).split()\n",
    "    words_list = list(set(text))\n",
    "    vocabulary=dict()\n",
    "    for i in words_list:\n",
    "        vocabulary[i]=jax.random.uniform(key,embedding_size)\n",
    "    vocabulary = {word: idx for idx, word in enumerate(vocabulary)}\n",
    "    print(\"Vocabulary size: \", len(vocabulary))\n",
    "    # with open('data/vocabulary.pkl', 'wb') as handle:\n",
    "    #     pickle.dump(vocabulary, handle, protocol=pickle.HIGHEST_PROTOCOL)\n",
    "\n",
    "    return vocabulary\n",
    "embedding_size=512\n",
    "key=jax.random.key(seed)\n",
    "x = jax.random.uniform(key,(5,5))\n",
    "y = jnp.arange(5)\n",
    "x\n",
    " "
   ]
  },
  {
   "cell_type": "code",
   "execution_count": 13,
   "id": "ba893391-ff82-47a9-8a60-baf6c6b3fe43",
   "metadata": {},
   "outputs": [],
   "source": [
    "x+=y"
   ]
  },
  {
   "cell_type": "code",
   "execution_count": 24,
   "id": "b3c96b25-a83f-4dcf-b4e3-6944a2fb33f1",
   "metadata": {},
   "outputs": [
    {
     "ename": "ValueError",
     "evalue": "Incompatible shapes for broadcasting: (3,) and requested shape (2,)",
     "output_type": "error",
     "traceback": [
      "\u001b[1;31m---------------------------------------------------------------------------\u001b[0m",
      "\u001b[1;31mValueError\u001b[0m                                Traceback (most recent call last)",
      "Cell \u001b[1;32mIn[24], line 1\u001b[0m\n\u001b[1;32m----> 1\u001b[0m \u001b[43mx\u001b[49m\u001b[38;5;241;43m.\u001b[39;49m\u001b[43mat\u001b[49m\u001b[43m[\u001b[49m\u001b[38;5;241;43m1\u001b[39;49m\u001b[43m:\u001b[49m\u001b[38;5;241;43m3\u001b[39;49m\u001b[43m]\u001b[49m\u001b[38;5;241;43m.\u001b[39;49m\u001b[43mset\u001b[49m\u001b[43m(\u001b[49m\u001b[43m[\u001b[49m\u001b[38;5;241;43m50\u001b[39;49m\u001b[43m,\u001b[49m\u001b[38;5;241;43m40\u001b[39;49m\u001b[43m,\u001b[49m\u001b[38;5;241;43m6\u001b[39;49m\u001b[43m]\u001b[49m\u001b[43m)\u001b[49m\n",
      "File \u001b[1;32mc:\\python312\\lib\\site-packages\\jax\\_src\\numpy\\array_methods.py:788\u001b[0m, in \u001b[0;36m_IndexUpdateRef.set\u001b[1;34m(self, values, indices_are_sorted, unique_indices, mode)\u001b[0m\n\u001b[0;32m    779\u001b[0m \u001b[38;5;28;01mdef\u001b[39;00m \u001b[38;5;21mset\u001b[39m(\u001b[38;5;28mself\u001b[39m, values, \u001b[38;5;241m*\u001b[39m, indices_are_sorted\u001b[38;5;241m=\u001b[39m\u001b[38;5;28;01mFalse\u001b[39;00m, unique_indices\u001b[38;5;241m=\u001b[39m\u001b[38;5;28;01mFalse\u001b[39;00m,\n\u001b[0;32m    780\u001b[0m         mode\u001b[38;5;241m=\u001b[39m\u001b[38;5;28;01mNone\u001b[39;00m):\n\u001b[0;32m    781\u001b[0m \u001b[38;5;250m  \u001b[39m\u001b[38;5;124;03m\"\"\"Pure equivalent of ``x[idx] = y``.\u001b[39;00m\n\u001b[0;32m    782\u001b[0m \n\u001b[0;32m    783\u001b[0m \u001b[38;5;124;03m  Returns the value of ``x`` that would result from the NumPy-style\u001b[39;00m\n\u001b[1;32m   (...)\u001b[0m\n\u001b[0;32m    786\u001b[0m \u001b[38;5;124;03m  See :mod:`jax.ops` for details.\u001b[39;00m\n\u001b[0;32m    787\u001b[0m \u001b[38;5;124;03m  \"\"\"\u001b[39;00m\n\u001b[1;32m--> 788\u001b[0m   \u001b[38;5;28;01mreturn\u001b[39;00m \u001b[43mscatter\u001b[49m\u001b[38;5;241;43m.\u001b[39;49m\u001b[43m_scatter_update\u001b[49m\u001b[43m(\u001b[49m\u001b[38;5;28;43mself\u001b[39;49m\u001b[38;5;241;43m.\u001b[39;49m\u001b[43marray\u001b[49m\u001b[43m,\u001b[49m\u001b[43m \u001b[49m\u001b[38;5;28;43mself\u001b[39;49m\u001b[38;5;241;43m.\u001b[39;49m\u001b[43mindex\u001b[49m\u001b[43m,\u001b[49m\u001b[43m \u001b[49m\u001b[43mvalues\u001b[49m\u001b[43m,\u001b[49m\u001b[43m \u001b[49m\u001b[43mlax\u001b[49m\u001b[38;5;241;43m.\u001b[39;49m\u001b[43mscatter\u001b[49m\u001b[43m,\u001b[49m\n\u001b[0;32m    789\u001b[0m \u001b[43m                                 \u001b[49m\u001b[43mindices_are_sorted\u001b[49m\u001b[38;5;241;43m=\u001b[39;49m\u001b[43mindices_are_sorted\u001b[49m\u001b[43m,\u001b[49m\n\u001b[0;32m    790\u001b[0m \u001b[43m                                 \u001b[49m\u001b[43munique_indices\u001b[49m\u001b[38;5;241;43m=\u001b[39;49m\u001b[43munique_indices\u001b[49m\u001b[43m,\u001b[49m\u001b[43m \u001b[49m\u001b[43mmode\u001b[49m\u001b[38;5;241;43m=\u001b[39;49m\u001b[43mmode\u001b[49m\u001b[43m)\u001b[49m\n",
      "File \u001b[1;32mc:\\python312\\lib\\site-packages\\jax\\_src\\ops\\scatter.py:76\u001b[0m, in \u001b[0;36m_scatter_update\u001b[1;34m(x, idx, y, scatter_op, indices_are_sorted, unique_indices, mode, normalize_indices)\u001b[0m\n\u001b[0;32m     73\u001b[0m \u001b[38;5;66;03m# XLA gathers and scatters are very similar in structure; the scatter logic\u001b[39;00m\n\u001b[0;32m     74\u001b[0m \u001b[38;5;66;03m# is more or less a transpose of the gather equivalent.\u001b[39;00m\n\u001b[0;32m     75\u001b[0m treedef, static_idx, dynamic_idx \u001b[38;5;241m=\u001b[39m jnp\u001b[38;5;241m.\u001b[39m_split_index_for_jit(idx, x\u001b[38;5;241m.\u001b[39mshape)\n\u001b[1;32m---> 76\u001b[0m \u001b[38;5;28;01mreturn\u001b[39;00m \u001b[43m_scatter_impl\u001b[49m\u001b[43m(\u001b[49m\u001b[43mx\u001b[49m\u001b[43m,\u001b[49m\u001b[43m \u001b[49m\u001b[43my\u001b[49m\u001b[43m,\u001b[49m\u001b[43m \u001b[49m\u001b[43mscatter_op\u001b[49m\u001b[43m,\u001b[49m\u001b[43m \u001b[49m\u001b[43mtreedef\u001b[49m\u001b[43m,\u001b[49m\u001b[43m \u001b[49m\u001b[43mstatic_idx\u001b[49m\u001b[43m,\u001b[49m\u001b[43m \u001b[49m\u001b[43mdynamic_idx\u001b[49m\u001b[43m,\u001b[49m\n\u001b[0;32m     77\u001b[0m \u001b[43m                     \u001b[49m\u001b[43mindices_are_sorted\u001b[49m\u001b[43m,\u001b[49m\u001b[43m \u001b[49m\u001b[43munique_indices\u001b[49m\u001b[43m,\u001b[49m\u001b[43m \u001b[49m\u001b[43mmode\u001b[49m\u001b[43m,\u001b[49m\n\u001b[0;32m     78\u001b[0m \u001b[43m                     \u001b[49m\u001b[43mnormalize_indices\u001b[49m\u001b[43m)\u001b[49m\n",
      "File \u001b[1;32mc:\\python312\\lib\\site-packages\\jax\\_src\\ops\\scatter.py:111\u001b[0m, in \u001b[0;36m_scatter_impl\u001b[1;34m(x, y, scatter_op, treedef, static_idx, dynamic_idx, indices_are_sorted, unique_indices, mode, normalize_indices)\u001b[0m\n\u001b[0;32m    108\u001b[0m x, y \u001b[38;5;241m=\u001b[39m promote_dtypes(x, y)\n\u001b[0;32m    110\u001b[0m \u001b[38;5;66;03m# Broadcast `y` to the slice output shape.\u001b[39;00m\n\u001b[1;32m--> 111\u001b[0m y \u001b[38;5;241m=\u001b[39m \u001b[43mjnp\u001b[49m\u001b[38;5;241;43m.\u001b[39;49m\u001b[43mbroadcast_to\u001b[49m\u001b[43m(\u001b[49m\u001b[43my\u001b[49m\u001b[43m,\u001b[49m\u001b[43m \u001b[49m\u001b[38;5;28;43mtuple\u001b[39;49m\u001b[43m(\u001b[49m\u001b[43mindexer\u001b[49m\u001b[38;5;241;43m.\u001b[39;49m\u001b[43mslice_shape\u001b[49m\u001b[43m)\u001b[49m\u001b[43m)\u001b[49m\n\u001b[0;32m    112\u001b[0m \u001b[38;5;66;03m# Collapse any `None`/`jnp.newaxis` dimensions.\u001b[39;00m\n\u001b[0;32m    113\u001b[0m y \u001b[38;5;241m=\u001b[39m jnp\u001b[38;5;241m.\u001b[39msqueeze(y, axis\u001b[38;5;241m=\u001b[39mindexer\u001b[38;5;241m.\u001b[39mnewaxis_dims)\n",
      "File \u001b[1;32mc:\\python312\\lib\\site-packages\\jax\\_src\\numpy\\lax_numpy.py:2578\u001b[0m, in \u001b[0;36mbroadcast_to\u001b[1;34m(array, shape)\u001b[0m\n\u001b[0;32m   2544\u001b[0m \u001b[38;5;28;01mdef\u001b[39;00m \u001b[38;5;21mbroadcast_to\u001b[39m(array: ArrayLike, shape: DimSize \u001b[38;5;241m|\u001b[39m Shape) \u001b[38;5;241m-\u001b[39m\u001b[38;5;241m>\u001b[39m Array:\n\u001b[0;32m   2545\u001b[0m \u001b[38;5;250m  \u001b[39m\u001b[38;5;124;03m\"\"\"Broadcast an array to a specified shape.\u001b[39;00m\n\u001b[0;32m   2546\u001b[0m \n\u001b[0;32m   2547\u001b[0m \u001b[38;5;124;03m  JAX implementation of :func:`numpy.broadcast_to`. JAX uses NumPy-style\u001b[39;00m\n\u001b[1;32m   (...)\u001b[0m\n\u001b[0;32m   2576\u001b[0m \u001b[38;5;124;03m  .. _NumPy broadcasting: https://numpy.org/doc/stable/user/basics.broadcasting.html\u001b[39;00m\n\u001b[0;32m   2577\u001b[0m \u001b[38;5;124;03m  \"\"\"\u001b[39;00m\n\u001b[1;32m-> 2578\u001b[0m   \u001b[38;5;28;01mreturn\u001b[39;00m \u001b[43mutil\u001b[49m\u001b[38;5;241;43m.\u001b[39;49m\u001b[43m_broadcast_to\u001b[49m\u001b[43m(\u001b[49m\u001b[43marray\u001b[49m\u001b[43m,\u001b[49m\u001b[43m \u001b[49m\u001b[43mshape\u001b[49m\u001b[43m)\u001b[49m\n",
      "File \u001b[1;32mc:\\python312\\lib\\site-packages\\jax\\_src\\numpy\\util.py:417\u001b[0m, in \u001b[0;36m_broadcast_to\u001b[1;34m(arr, shape)\u001b[0m\n\u001b[0;32m    415\u001b[0m \u001b[38;5;28;01mif\u001b[39;00m nlead \u001b[38;5;241m<\u001b[39m \u001b[38;5;241m0\u001b[39m \u001b[38;5;129;01mor\u001b[39;00m \u001b[38;5;129;01mnot\u001b[39;00m compatible:\n\u001b[0;32m    416\u001b[0m   msg \u001b[38;5;241m=\u001b[39m \u001b[38;5;124m\"\u001b[39m\u001b[38;5;124mIncompatible shapes for broadcasting: \u001b[39m\u001b[38;5;132;01m{}\u001b[39;00m\u001b[38;5;124m and requested shape \u001b[39m\u001b[38;5;132;01m{}\u001b[39;00m\u001b[38;5;124m\"\u001b[39m\n\u001b[1;32m--> 417\u001b[0m   \u001b[38;5;28;01mraise\u001b[39;00m \u001b[38;5;167;01mValueError\u001b[39;00m(msg\u001b[38;5;241m.\u001b[39mformat(arr_shape, shape))\n\u001b[0;32m    418\u001b[0m \u001b[38;5;28;01mreturn\u001b[39;00m lax\u001b[38;5;241m.\u001b[39mbroadcast_in_dim(arr, shape, \u001b[38;5;28mtuple\u001b[39m(\u001b[38;5;28mrange\u001b[39m(nlead, \u001b[38;5;28mlen\u001b[39m(shape))))\n",
      "\u001b[1;31mValueError\u001b[0m: Incompatible shapes for broadcasting: (3,) and requested shape (2,)"
     ]
    }
   ],
   "source": [
    "#x.at[1:3].set([50,40,6])"
   ]
  },
  {
   "cell_type": "code",
   "execution_count": null,
   "id": "c912210c-6de6-438b-bc56-3aff61dfac77",
   "metadata": {},
   "outputs": [],
   "source": []
  }
 ],
 "metadata": {
  "kernelspec": {
   "display_name": "Python 3 (ipykernel)",
   "language": "python",
   "name": "python3"
  },
  "language_info": {
   "codemirror_mode": {
    "name": "ipython",
    "version": 3
   },
   "file_extension": ".py",
   "mimetype": "text/x-python",
   "name": "python",
   "nbconvert_exporter": "python",
   "pygments_lexer": "ipython3",
   "version": "3.12.2"
  }
 },
 "nbformat": 4,
 "nbformat_minor": 5
}
