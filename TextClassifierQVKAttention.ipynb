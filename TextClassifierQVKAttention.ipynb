{
 "cells": [
  {
   "cell_type": "markdown",
   "id": "00344db5-aab6-4409-84d9-ef8cdf2e2db9",
   "metadata": {},
   "source": [
    " # NLP Model Implementation Using the QVC Attention Mechanism\n",
    "\n",
    "This guide focuses on developing a Natural Language Processing (NLP) model using the QVC (Query, Value, Context) attention mechanism from scratch using Python and Numpy. The attention mechanism is a critical component in modern NLP models, enhancing their ability to focus on different parts of the input sequence to make more accurate predictions.\n",
    "\n",
    "## Key Components:\n",
    "\n",
    "- **QVC Attention Mechanism**: Understanding and implementing the Query, Value, and Context (QVC) attention mechanism from scratch.\n",
    "- **Model Architecture**: Building the architecture of the NLP model utilizing QVC attention.\n",
    "- **Training and Evaluation**: Training the model with appropriate datasets and evaluating its performance.\n",
    "\n",
    "This project aims to provide a comprehensive guide to implementing and experimenting with attention mechanisms in NLP.\n"
   ]
  },
  {
   "cell_type": "markdown",
   "id": "7146946e-0ba5-4973-84d5-b9e5b5086ab8",
   "metadata": {},
   "source": [
    "# Preparing Input Data for NLP Model\n",
    "\n",
    "In this section, we are preparing the input data for our NLP model by defining arrays representing word embeddings and combining them into a structured format.\n",
    "\n",
    " \n"
   ]
  },
  {
   "cell_type": "markdown",
   "id": "aa334299-b0e7-483b-ae85-95b418fd030e",
   "metadata": {},
   "source": [
    "Let's consider as starting point for example 3 phrases made of 4 words each where each word have embedding size 5:"
   ]
  },
  {
   "cell_type": "code",
   "execution_count": 120,
   "id": "d9826cbc-8702-4db0-8063-c3425427ed68",
   "metadata": {},
   "outputs": [],
   "source": [
    "import sys\n",
    "sys.path.append('c:\\\\python312\\\\lib\\\\site-packages')\n",
    "import numpy as np\n",
    " \n",
    "\n",
    "import sys \n",
    "import numpy as np\n",
    " \n",
    "\n",
    "# Phrase 1\n",
    "word1 = np.array([0.1, 0.2, 0.3, 0.4, 0.5,0.3])\n",
    "word2 = np.array([0.5, 0.4, 0.7,0.3, 0.2,0.3])\n",
    "word3 = np.array([0.2,0.7, 0.3, 0.5, 0.4,0.4])\n",
    "word4 = np.array([0.4, 0.1,0.7, 0.2, 0.5,0.7])\n",
    "\n",
    "# Phrase 2\n",
    "word5 = np.array([0.1, 0.9, 0.3, 0.4, 0.5,0.2])\n",
    "word6 = np.array([0.4, 0.4, 0.7,0.3, 0.4,0.6])\n",
    "word7 = np.array([0.2,0.7, 0.4, 0.5, 0.4,0.2])\n",
    "word8 = np.array([0.4, 0.5,0.7, 0.7, 0.5,0.1])\n",
    "\n",
    "# Phrase 3\n",
    "word9 = np.array([0.1, 0.2, 0.3, 0.8, 0.5,0.2])\n",
    "word10 = np.array([0.4, 0.5, 0.7,0.3, 0.8,0.4])\n",
    "word11 = np.array([0.9,0.7, 0.3, 0.5, 0.4,0.6])\n",
    "word12 = np.array([0.4, 0.5,0.1, 0.7, 0.4,0.4])\n",
    " \n",
    " "
   ]
  },
  {
   "cell_type": "markdown",
   "id": "aa490b91-9b93-48fe-a5f4-c68e4323be09",
   "metadata": {},
   "source": [
    "We combine all these word embeddings into a single matrix. This matrix, `inputs`, has the shape `(3, 4, 6)`, where:\n",
    "- `3` represents the number of phrases (batch size),\n",
    "- `4` is the number of words in each phrase (sequence length),\n",
    "- `6` is the dimensionality of each word embedding.\n"
   ]
  },
  {
   "cell_type": "code",
   "execution_count": 2,
   "id": "010108fc-3efd-4649-84d4-1e405ea6af37",
   "metadata": {},
   "outputs": [
    {
     "data": {
      "text/plain": [
       "(array([[[0.1, 0.2, 0.3, 0.4, 0.5, 0.3],\n",
       "         [0.5, 0.4, 0.7, 0.3, 0.2, 0.3],\n",
       "         [0.2, 0.7, 0.3, 0.5, 0.4, 0.4],\n",
       "         [0.4, 0.1, 0.7, 0.2, 0.5, 0.7]],\n",
       " \n",
       "        [[0.1, 0.9, 0.3, 0.4, 0.5, 0.2],\n",
       "         [0.4, 0.4, 0.7, 0.3, 0.4, 0.6],\n",
       "         [0.2, 0.7, 0.4, 0.5, 0.4, 0.2],\n",
       "         [0.4, 0.5, 0.7, 0.7, 0.5, 0.1]],\n",
       " \n",
       "        [[0.1, 0.2, 0.3, 0.8, 0.5, 0.2],\n",
       "         [0.4, 0.5, 0.7, 0.3, 0.8, 0.4],\n",
       "         [0.9, 0.7, 0.3, 0.5, 0.4, 0.6],\n",
       "         [0.4, 0.5, 0.1, 0.7, 0.4, 0.4]]]),\n",
       " (3, 4, 6))"
      ]
     },
     "execution_count": 2,
     "metadata": {},
     "output_type": "execute_result"
    }
   ],
   "source": [
    "inputs = np.stack([[word1, word2, word3, word4],[word5, word6, word7, word8],[word9, word10, word11, word12]])\n",
    "#inputs = np.stack([word1, word2, word3, word4])\n",
    "inputs, inputs.shape\n",
    "\n"
   ]
  },
  {
   "cell_type": "markdown",
   "id": "01448d4b-217c-4fd2-99ce-e432932482f4",
   "metadata": {},
   "source": [
    "Implementing the classifier model class we can start by adding these parameters:"
   ]
  },
  {
   "cell_type": "code",
   "execution_count": 3,
   "id": "a32f97bf-07f9-4931-834f-98b0a2c86862",
   "metadata": {},
   "outputs": [],
   "source": [
    "class QKVAttentionClassifier:\n",
    "    def __init__(self,word_len,batch_size):\n",
    "        self.word_len=word_len\n",
    "        self.batch_size = batch_size "
   ]
  },
  {
   "cell_type": "markdown",
   "id": "d04c80dc-cdad-492c-b715-0dbdb1e01c13",
   "metadata": {},
   "source": [
    "# Attention Head\n",
    "\n",
    "An attention head in the attention mechanism is a crucial component of the model that computes the weighted sum of the values based on the similarity between the queries and keys.\n",
    "The primary goal of the attention mechanism is to derive better and richer representations of word embeddings. By focusing on different parts of the input sequence, the attention mechanism helps the model capture intricate relationships and dependencies between words. This enhanced representation improves the model’s ability to understand context and perform various NLP tasks more effectively.\n",
    "\n",
    "The output of an attention head can be represented mathematically as follows:\n",
    "\n",
    "1. **Calculate the Scores**: The attention scores are computed as the dot product of the query matrix \\\\( Q \\\\) with the transpose of the key matrix \\\\( K \\\\). To ensure that the gradients are well-behaved and to prevent excessively large values in the softmax step, the dot product is scaled by \\\\( \\sqrt{d_k} \\\\):\n",
    "  $$\n",
    "  \\text{Scores} = \\frac{QK^T}{\\sqrt{d_k}}\n",
    "  $$\n",
    "   where \\\\( d_k \\\\) refers to the dimensionality of the key vectors. Specifically, \\\\( d_k \\\\) is equal to the number of neurons in the key matrix \\\\( K \\\\). This dimension is crucial for scaling the attention scores, which helps in stabilizing the gradients during training.\n",
    "\n",
    "2. **Apply Softmax**: Apply the softmax function to the scores to get the attention weights:\n",
    "   $$\n",
    "   \\text{Attention Weights} = \\text{softmax}(\\text{Scores})\n",
    "   $$\n",
    "\n",
    "3. **Compute the Weighted Sum**: Multiply the attention weights by the value matrix \\\\( V \\\\) to get the weighted sum:\n",
    "   $$\n",
    "   \\text{Output} = \\text{Attention Weights} \\times V\n",
    "   $$\n",
    "\n",
    "Here’s a more detailed breakdown:\n",
    "\n",
    "- **Query Matrix \\( Q \\)**: Represents the queries for which we are computing attention.\n",
    "- **Key Matrix \\( K \\)**: Represents the keys that are used to compute the similarity with the queries.\n",
    "- **Value Matrix \\( V \\)**: Contains the values that will be weighted by the attention weights to produce the final output.\n",
    "\n",
    "While the query and key matrices have dimensions \\\\(\\text{embedding} \\times d_k\\\\), the value matrix \\\\( V \\\\) has a second dimension \\\\( d_v \\\\) that specifies how the words will be represented after attention. This dimension \\\\( d_v \\\\) influences the output representation of the words, allowing the model to create a more meaningful and rich representation based on the attention mechanism.\n",
    " "
   ]
  },
  {
   "cell_type": "markdown",
   "id": "682f61a6-2c2d-45a1-83c0-621fc877d3e8",
   "metadata": {},
   "source": [
    "![Alt text](imgs/NotebookAttention1.png)"
   ]
  },
  {
   "cell_type": "code",
   "execution_count": 65,
   "id": "5cc195bf-ea34-41a7-8682-3f902a54a29a",
   "metadata": {},
   "outputs": [],
   "source": [
    "word2vec_len=6\n",
    "dk=5\n",
    "dv=5\n",
    "num_prases=3\n",
    "num_head=2\n",
    "words_per_phrase=4\n",
    "Q = np.random.rand(num_head,word2vec_len, dk)/ np.sqrt(word2vec_len)\n",
    "K = np.random.rand(num_head,word2vec_len, dk)/ np.sqrt(word2vec_len)\n",
    "V = np.random.rand(num_head,word2vec_len, dv)/ np.sqrt(word2vec_len)\n"
   ]
  },
  {
   "cell_type": "code",
   "execution_count": 66,
   "id": "db965b7b-e103-4867-890d-c4cba8aebb81",
   "metadata": {},
   "outputs": [
    {
     "data": {
      "text/plain": [
       "array([[[0.23415098, 0.31460001, 0.35830761, 0.31637215, 0.12121329],\n",
       "        [0.01511963, 0.37463799, 0.06929941, 0.32233647, 0.02954524],\n",
       "        [0.12855307, 0.15196105, 0.12807635, 0.31897333, 0.25119741],\n",
       "        [0.36072389, 0.23409489, 0.30312702, 0.40559826, 0.37673865],\n",
       "        [0.38357843, 0.3962838 , 0.11107209, 0.31946467, 0.13115045],\n",
       "        [0.29073199, 0.12788633, 0.01961107, 0.28919533, 0.33903282]],\n",
       "\n",
       "       [[0.05638389, 0.27553134, 0.17058821, 0.22087972, 0.08687059],\n",
       "        [0.17696066, 0.08558182, 0.08926616, 0.318107  , 0.07508469],\n",
       "        [0.06288942, 0.3326586 , 0.28557413, 0.05651184, 0.18373996],\n",
       "        [0.33842056, 0.31093827, 0.12490728, 0.17868365, 0.03850839],\n",
       "        [0.02927902, 0.08024997, 0.15719157, 0.30466315, 0.22904225],\n",
       "        [0.08409397, 0.2868046 , 0.01159387, 0.39491377, 0.04146868]]])"
      ]
     },
     "execution_count": 66,
     "metadata": {},
     "output_type": "execute_result"
    }
   ],
   "source": [
    "Q"
   ]
  },
  {
   "cell_type": "code",
   "execution_count": null,
   "id": "9381c338-89ff-4ffc-b614-26d6b9d91824",
   "metadata": {},
   "outputs": [],
   "source": []
  },
  {
   "cell_type": "markdown",
   "id": "918bd284-1b11-46af-9381-c5f93d7f81b1",
   "metadata": {},
   "source": [
    "Adding Q,K,V to the classifier we have:\n"
   ]
  },
  {
   "cell_type": "code",
   "execution_count": 67,
   "id": "bbf587ef-f7dc-4c44-960c-ba87237d8597",
   "metadata": {},
   "outputs": [],
   "source": [
    "class QKVAttentionClassifier:\n",
    "    def __init__(self,word2vec_len,seqLenght,batch_size,dk,dv,num_heads):\n",
    "        self.word2vec_len=word2vec_len\n",
    "        self.batch_size = batch_size\n",
    "        self.dk=dk\n",
    "        self.dv = dv\n",
    "        self.num_heads=num_heads\n",
    "        self.Q = np.random.rand(self.num_heads,self.word2vec_len, self.dk) / np.sqrt(self.word_len)\n",
    "        self.K = np.random.rand(self.num_heads,self.word2vec_len, self.dk) / np.sqrt(self.word_len)\n",
    "        self.V = np.random.rand(self.num_heads,self.word2vec_len, self.dv) / np.sqrt(self.word_len)"
   ]
  },
  {
   "cell_type": "markdown",
   "id": "a393f1d5-2200-4f81-bf46-fc39f2841dee",
   "metadata": {},
   "source": [
    "## Forward Pass in Attention Mechanism\n",
    "\n",
    "The `forward` method in the attention mechanism is responsible for computing the query, key, and value vectors from the input embeddings. Let’s break down the code provided:\n"
   ]
  },
  {
   "cell_type": "code",
   "execution_count": 68,
   "id": "e056ba64-4e24-445d-a023-ef9400239ed3",
   "metadata": {
    "scrolled": true
   },
   "outputs": [
    {
     "data": {
      "text/plain": [
       "array([[[[0.48830332, 0.48212167, 0.27078372, 0.60052674, 0.41137013],\n",
       "         [0.48526294, 0.60137906, 0.41556286, 0.782733  , 0.48922446],\n",
       "         [0.54606598, 0.69747041, 0.36243079, 0.83086508, 0.49672618],\n",
       "         [0.65260589, 0.60415784, 0.36979563, 0.82535255, 0.60552396]],\n",
       "\n",
       "        [[0.23513327, 0.39500875, 0.25262115, 0.44494209, 0.22119107],\n",
       "         [0.27560896, 0.60023227, 0.39329111, 0.5102528 , 0.27188871],\n",
       "         [0.36857554, 0.51710208, 0.312244  , 0.65297699, 0.25251396],\n",
       "         [0.22546162, 0.65470759, 0.38875674, 0.62422881, 0.32212555]]],\n",
       "\n",
       "\n",
       "       [[[0.46981386, 0.73157963, 0.3173322 , 0.79724273, 0.39814851],\n",
       "         [0.62578313, 0.68754171, 0.40782984, 0.90174731, 0.60504307],\n",
       "         [0.50077488, 0.68708924, 0.37131621, 0.80492335, 0.45403936],\n",
       "         [0.6645765 , 0.79432869, 0.53731226, 0.98356906, 0.60229168]],\n",
       "\n",
       "        [[0.35059634, 0.42623556, 0.31394807, 0.62812561, 0.26960348],\n",
       "         [0.30105457, 0.67477051, 0.41114877, 0.66757159, 0.32145071],\n",
       "         [0.35804569, 0.49300702, 0.33848264, 0.57964542, 0.26259422],\n",
       "         [0.41499978, 0.6723267 , 0.47996052, 0.60386518, 0.34653242]]],\n",
       "\n",
       "\n",
       "       [[[0.60351967, 0.56297099, 0.39007342, 0.73384651, 0.52816231],\n",
       "         [0.72258007, 0.85794177, 0.4552664 , 1.00392776, 0.59265121],\n",
       "         [0.76811806, 0.94326768, 0.61716832, 1.11016465, 0.64938205],\n",
       "         [0.63630641, 0.70188958, 0.45524256, 0.8469972 , 0.54016804]],\n",
       "\n",
       "        [[0.3620921 , 0.4907036 , 0.30142467, 0.47692417, 0.23244756],\n",
       "         [0.31364345, 0.65806776, 0.48063324, 0.7422648 , 0.41228234],\n",
       "         [0.42486306, 0.76733494, 0.43397453, 0.88657554, 0.3216171 ],\n",
       "         [0.39956642, 0.55074792, 0.29637505, 0.65796589, 0.22582482]]]])"
      ]
     },
     "execution_count": 68,
     "metadata": {},
     "output_type": "execute_result"
    }
   ],
   "source": [
    "Qval = np.matmul(inputs[:, np.newaxis, :, :], Q[np.newaxis, :, :, :])\n",
    "Qval \n",
    "\n"
   ]
  },
  {
   "cell_type": "code",
   "execution_count": 69,
   "id": "9d3002d6-50aa-4319-9ff8-51b6fe4e0e77",
   "metadata": {
    "scrolled": true
   },
   "outputs": [
    {
     "data": {
      "text/plain": [
       "array([[[[0.27288818, 0.32668234, 0.43987998, 0.40353516, 0.25465167],\n",
       "         [0.29633193, 0.4995027 , 0.49230935, 0.55875161, 0.44099382],\n",
       "         [0.38283161, 0.56661481, 0.58486216, 0.55342048, 0.42001212],\n",
       "         [0.29939186, 0.50319141, 0.62098571, 0.64262208, 0.43436568]],\n",
       "\n",
       "        [[0.3862477 , 0.17223405, 0.26657642, 0.39743623, 0.53002439],\n",
       "         [0.41219553, 0.30326357, 0.27305641, 0.501071  , 0.57885631],\n",
       "         [0.48953984, 0.29091747, 0.3220343 , 0.52635797, 0.69940846],\n",
       "         [0.57238054, 0.29197191, 0.34300763, 0.54370742, 0.6909699 ]]],\n",
       "\n",
       "\n",
       "       [[[0.43267077, 0.52486023, 0.51811998, 0.54217197, 0.34591215],\n",
       "         [0.34311181, 0.59005077, 0.63791538, 0.6626669 , 0.47799567],\n",
       "         [0.38403687, 0.51235658, 0.52014679, 0.5236505 , 0.37647328],\n",
       "         [0.43419594, 0.53527668, 0.60293644, 0.62587106, 0.45808768]],\n",
       "\n",
       "        [[0.49145571, 0.28950913, 0.27269537, 0.57563749, 0.69267587],\n",
       "         [0.568812  , 0.33017565, 0.34353434, 0.58914561, 0.73190677],\n",
       "         [0.44599343, 0.27801208, 0.29234521, 0.53763834, 0.6611583 ],\n",
       "         [0.48751035, 0.31599475, 0.3758643 , 0.64109801, 0.76362716]]],\n",
       "\n",
       "\n",
       "       [[[0.30791811, 0.37998032, 0.5184287 , 0.40817692, 0.31294478],\n",
       "         [0.49978466, 0.5528039 , 0.67299657, 0.76804957, 0.45506622],\n",
       "         [0.52586696, 0.74663891, 0.78551942, 0.84404312, 0.75022877],\n",
       "         [0.39285119, 0.54249629, 0.62072194, 0.55258228, 0.49888754]],\n",
       "\n",
       "        [[0.3730142 , 0.17329406, 0.34709562, 0.42594192, 0.6120533 ],\n",
       "         [0.66862911, 0.36288521, 0.37969147, 0.73670499, 0.85987588],\n",
       "         [0.5967956 , 0.47124578, 0.45546643, 0.620086  , 0.86172783],\n",
       "         [0.43666462, 0.28906308, 0.38371188, 0.45213165, 0.68875695]]]])"
      ]
     },
     "execution_count": 69,
     "metadata": {},
     "output_type": "execute_result"
    }
   ],
   "source": [
    "Kval=np.matmul(inputs[:, np.newaxis, :, :], K[np.newaxis,:, :, :])\n",
    "Kval\n",
    "\n"
   ]
  },
  {
   "cell_type": "code",
   "execution_count": 70,
   "id": "53b206d8-fd56-4a0e-994b-9c04c755a067",
   "metadata": {
    "scrolled": true
   },
   "outputs": [
    {
     "data": {
      "text/plain": [
       "array([[[[0.41004327, 0.40524876, 0.41438249, 0.34808021, 0.36120131],\n",
       "         [0.55274083, 0.57247167, 0.55477581, 0.54474699, 0.50954881],\n",
       "         [0.59762075, 0.50218418, 0.596659  , 0.42705441, 0.60621111],\n",
       "         [0.6071217 , 0.70847462, 0.52889518, 0.58312974, 0.55634891]],\n",
       "\n",
       "        [[0.4987024 , 0.31736093, 0.27549481, 0.47444951, 0.40180584],\n",
       "         [0.63968421, 0.40094908, 0.28201351, 0.62051973, 0.48163086],\n",
       "         [0.74186296, 0.40944264, 0.39588903, 0.69829561, 0.51663476],\n",
       "         [0.59190739, 0.4417119 , 0.38101764, 0.73913009, 0.52228043]]],\n",
       "\n",
       "\n",
       "       [[[0.48577513, 0.39983759, 0.62757871, 0.35004028, 0.60157257],\n",
       "         [0.64887549, 0.68911428, 0.6010074 , 0.58905234, 0.63087547],\n",
       "         [0.5284141 , 0.45282125, 0.60067326, 0.42264319, 0.54667054],\n",
       "         [0.64152173, 0.60764812, 0.72731254, 0.62115457, 0.54211017]],\n",
       "\n",
       "        [[0.76681742, 0.37044753, 0.35352385, 0.69288226, 0.48552112],\n",
       "         [0.70884368, 0.45702809, 0.39811337, 0.78084988, 0.56041132],\n",
       "         [0.74155751, 0.39017882, 0.33285062, 0.63610303, 0.5058025 ],\n",
       "         [0.86797558, 0.50978513, 0.33555053, 0.67998832, 0.64527097]]],\n",
       "\n",
       "\n",
       "       [[[0.53130703, 0.45385304, 0.48959526, 0.43700412, 0.35999188],\n",
       "         [0.62308487, 0.68590465, 0.77060112, 0.60207976, 0.6650814 ],\n",
       "         [0.92932998, 0.79606842, 0.88303529, 0.68572593, 0.81601259],\n",
       "         [0.70249025, 0.54546233, 0.62897578, 0.47626176, 0.55945761]],\n",
       "\n",
       "        [[0.63600525, 0.39398674, 0.30956379, 0.45955083, 0.51804839],\n",
       "         [0.83964834, 0.52732134, 0.40894605, 0.88037676, 0.62683919],\n",
       "         [0.925806  , 0.64615509, 0.51851517, 0.98236427, 0.65105811],\n",
       "         [0.73622306, 0.47822295, 0.41343259, 0.66158173, 0.53776077]]]])"
      ]
     },
     "execution_count": 70,
     "metadata": {},
     "output_type": "execute_result"
    }
   ],
   "source": [
    "Vval=np.matmul(inputs[:, np.newaxis, :, :], V[np.newaxis,:, :, :])\n",
    "Vval\n",
    "\n"
   ]
  },
  {
   "cell_type": "markdown",
   "id": "efe060e4-c99f-4dab-acc6-ab43500fd004",
   "metadata": {},
   "source": [
    "Having the values of the \\\\(Q\\\\), \\\\(K\\\\), \\\\(V\\\\) matrices and the \\\\(dk\\\\) values we can calculate the scores:\n",
    "$$\n",
    "  \\text{QKscaled} = \\frac{QK^T}{\\sqrt{d_k}}\n",
    "  $$"
   ]
  },
  {
   "cell_type": "code",
   "execution_count": 71,
   "id": "3af7a0da-fbeb-4ae6-a83f-242f65e5410a",
   "metadata": {},
   "outputs": [
    {
     "data": {
      "text/plain": [
       "array([[[[0.33852053, 0.46321815, 0.50249394, 0.50156934],\n",
       "         [0.42580205, 0.58221536, 0.62978047, 0.63569398],\n",
       "         [0.44634944, 0.61354735, 0.66396425, 0.66599326],\n",
       "         [0.45856311, 0.62852278, 0.67955752, 0.68085512]],\n",
       "\n",
       "        [[0.23267148, 0.28473101, 0.31317315, 0.32705751],\n",
       "         [0.29586601, 0.3649627 , 0.40022475, 0.41734025],\n",
       "         [0.31663447, 0.38789553, 0.42562649, 0.44656728],\n",
       "         [0.32302502, 0.40109832, 0.43822303, 0.4541586 ]]],\n",
       "\n",
       "\n",
       "       [[[0.59105314, 0.67704495, 0.57586963, 0.65663389],\n",
       "         [0.68920982, 0.79037181, 0.67292439, 0.7724154 ],\n",
       "         [0.60961806, 0.69968022, 0.59475913, 0.68015169],\n",
       "         [0.77119756, 0.88510258, 0.75287327, 0.86276313]],\n",
       "\n",
       "        [[0.41574511, 0.45409622, 0.39471005, 0.46160316],\n",
       "         [0.4751045 , 0.520489  , 0.45325186, 0.5312784 ],\n",
       "         [0.41436781, 0.45455239, 0.39397624, 0.46049394],\n",
       "         [0.49959296, 0.55111009, 0.47677   , 0.55764259]]],\n",
       "\n",
       "\n",
       "       [[[0.47708864, 0.7510236 , 0.92115178, 0.65008506],\n",
       "         [0.61705051, 0.97607164, 1.19413033, 0.8417944 ],\n",
       "         [0.70269004, 1.10410827, 1.34934086, 0.95434985],\n",
       "         [0.54265469, 0.85361815, 1.04488068, 0.73827988]],\n",
       "\n",
       "        [[0.29969437, 0.48560744, 0.48328867, 0.35390235],\n",
       "         [0.43216882, 0.68528702, 0.6850186 , 0.50587393],\n",
       "         [0.45462021, 0.74103389, 0.73330511, 0.53496447],\n",
       "         [0.34248863, 0.56280005, 0.55256861, 0.40268259]]]])"
      ]
     },
     "execution_count": 71,
     "metadata": {},
     "output_type": "execute_result"
    }
   ],
   "source": [
    "QKscaled=np.matmul(Qval,np.transpose(Kval, (0, 1, 3,2)))/np.sqrt(dk)\n",
    "QKscaled\n",
    "\n"
   ]
  },
  {
   "cell_type": "markdown",
   "id": "2874ca4b-689b-42e5-b5fb-e19733e3a3b1",
   "metadata": {},
   "source": [
    "and finally the \\\\(attention\\\\) \\\\(weights\\\\) as:\n",
    "$$\n",
    "  \\text{Attention weights} =\\sigma( \\frac{QK^T}{\\sqrt{d_k}})\n",
    "  $$"
   ]
  },
  {
   "cell_type": "code",
   "execution_count": 72,
   "id": "57134a6b-fb58-4943-9a33-89df9fc70197",
   "metadata": {},
   "outputs": [
    {
     "data": {
      "text/plain": [
       "array([[[[0.22281228, 0.25240305, 0.26251364, 0.26227103],\n",
       "         [0.21602351, 0.25259832, 0.26490351, 0.26647466],\n",
       "         [0.21409933, 0.25306287, 0.26614862, 0.26668918],\n",
       "         [0.21360632, 0.25317839, 0.26643467, 0.26678062]],\n",
       "\n",
       "        [[0.23605767, 0.24867222, 0.25584653, 0.25942358],\n",
       "         [0.23198096, 0.24857683, 0.25749853, 0.26194368],\n",
       "         [0.23106605, 0.24813294, 0.25767411, 0.2631269 ],\n",
       "         [0.23023345, 0.24892884, 0.25834394, 0.26249377]]],\n",
       "\n",
       "\n",
       "       [[[0.24139968, 0.26307675, 0.23776207, 0.2577615 ],\n",
       "         [0.2394024 , 0.26488819, 0.23553521, 0.2601742 ],\n",
       "         [0.2408145 , 0.26350941, 0.23726271, 0.25841338],\n",
       "         [0.23818729, 0.26692355, 0.23386242, 0.26102674]],\n",
       "\n",
       "        [[0.24598997, 0.25560719, 0.2408696 , 0.25753324],\n",
       "         [0.24494218, 0.25631488, 0.23964761, 0.25909533],\n",
       "         [0.24581957, 0.25589889, 0.24085769, 0.25742385],\n",
       "         [0.24449457, 0.25742032, 0.23897768, 0.25910743]]],\n",
       "\n",
       "\n",
       "       [[[0.19751058, 0.25975194, 0.3079247 , 0.23481279],\n",
       "         [0.18299067, 0.26202929, 0.32587536, 0.22910469],\n",
       "         [0.17577051, 0.26259094, 0.33556982, 0.22606872],\n",
       "         [0.19108746, 0.26078458, 0.31575204, 0.23237592]],\n",
       "\n",
       "        [[0.22413735, 0.26993255, 0.26930736, 0.23662273],\n",
       "         [0.21495139, 0.27686502, 0.27679072, 0.23139287],\n",
       "         [0.2111177 , 0.28113346, 0.27896901, 0.22877982],\n",
       "         [0.22015356, 0.27441367, 0.27162034, 0.23381244]]]])"
      ]
     },
     "execution_count": 72,
     "metadata": {},
     "output_type": "execute_result"
    }
   ],
   "source": [
    "import numpy as np\n",
    "\n",
    "def softmax(x, axis=-1):\n",
    "    # Subtract the max value for numerical stability\n",
    "    e_x = np.exp(x - np.max(x, axis=axis, keepdims=True))\n",
    "    return e_x / np.sum(e_x, axis=axis, keepdims=True)\n",
    "\n",
    "Attention_weights=softmax(QKscaled)\n",
    "Attention_weights\n",
    "\n"
   ]
  },
  {
   "cell_type": "markdown",
   "id": "27b132f5-af6a-44a1-af9e-49de32810dd2",
   "metadata": {},
   "source": [
    "and finally the \\\\(Attention\\\\) value as:\n",
    "$$\n",
    "  \\text{Attention} =\\sigma( \\frac{QK^T}{\\sqrt{d_k}})V\n",
    "  $$"
   ]
  },
  {
   "cell_type": "code",
   "execution_count": 73,
   "id": "4f9a3f8b-7be8-4f5b-996c-0ad41fef0bc5",
   "metadata": {},
   "outputs": [
    {
     "data": {
      "text/plain": [
       "array([[[[0.54699018, 0.55243056, 0.52770162, 0.48009799, 0.51414465],\n",
       "         [0.54829477, 0.55396953, 0.52864602, 0.4813132 , 0.51557949],\n",
       "         [0.5486369 , 0.55423295, 0.52896276, 0.48155331, 0.51599533],\n",
       "         [0.54872506, 0.55430773, 0.52904159, 0.48162012, 0.5161004 ]],\n",
       "\n",
       "        [[0.62015202, 0.39396534, 0.33529338, 0.63670775, 0.48228864],\n",
       "         [0.62077516, 0.39442286, 0.33575758, 0.63773063, 0.48277433],\n",
       "         [0.62086555, 0.39454906, 0.33590068, 0.63801827, 0.4829016 ],\n",
       "         [0.62108163, 0.39459854, 0.33591971, 0.63811689, 0.48296577]]],\n",
       "\n",
       "\n",
       "       [[[0.57896645, 0.54210262, 0.63989887, 0.50006384, 0.58090074],\n",
       "         [0.57954272, 0.54301002, 0.64015128, 0.50098924, 0.58093262],\n",
       "         [0.57911725, 0.54233679, 0.63996582, 0.50030773, 0.58090208],\n",
       "         [0.57993614, 0.54368734, 0.64022723, 0.5015854 , 0.58103341]],\n",
       "\n",
       "        [[0.77196616, 0.43321487, 0.35531297, 0.69837041, 0.55068965],\n",
       "         [0.77211402, 0.43346969, 0.35534171, 0.6984819 , 0.55096741],\n",
       "         [0.77193848, 0.43322465, 0.35532819, 0.69839815, 0.55069378],\n",
       "         [0.77206808, 0.43355387, 0.35540464, 0.69861703, 0.55103855]]],\n",
       "\n",
       "\n",
       "       [[[0.71790361, 0.6410165 , 0.71646531, 0.56568862, 0.62649662],\n",
       "         [0.72428026, 0.64716504, 0.72337216, 0.57030519, 0.63423872],\n",
       "         [0.72767072, 0.65033484, 0.72692103, 0.57268995, 0.63822538],\n",
       "         [0.72069669, 0.64371152, 0.71949542, 0.56771025, 0.62989502]],\n",
       "\n",
       "        [[0.79273444, 0.51782109, 0.41724016, 0.76174806, 0.58789946],\n",
       "         [0.79579074, 0.52019195, 0.41894957, 0.76752123, 0.58954592],\n",
       "         [0.79702938, 0.52109026, 0.41955752, 0.76992842, 0.59024851],\n",
       "         [0.79403564, 0.5187651 , 0.41787691, 0.76427532, 0.58863922]]]])"
      ]
     },
     "execution_count": 73,
     "metadata": {},
     "output_type": "execute_result"
    }
   ],
   "source": [
    "Attention=np.matmul(Attention_weights, Vval)\n",
    "Attention \n",
    "\n"
   ]
  },
  {
   "cell_type": "markdown",
   "id": "308da6ec-5fef-4fec-aabd-c632f8d16a15",
   "metadata": {},
   "source": [
    "Consider now the change in the dimensionality of each word:\n",
    "\n",
    "- **Initial Embedding Size**: The word embeddings begin with a dimensionality of 6.\n",
    "- **Attention Output Size**: After applying the attention mechanism, the output of the attention layer typically has a reduced dimensionality, in our case it end up with a size of 3.\n",
    "\n",
    "This reduction occurs because:\n",
    "  - The attention mechanism often projects the embeddings into a lower-dimensional space to capture the most relevant information while reducing computational complexity.\n",
    "  - The output dimension of the attention mechanism is determined by the number of neurons in the linear layer of V matrix of the attention mechanism.\n"
   ]
  },
  {
   "cell_type": "markdown",
   "id": "ff92ed80-c07e-4513-9263-ac9742f88310",
   "metadata": {},
   "source": [
    "# Computing Phrase Representation from Attention Scores\n",
    "\n",
    "In the attention mechanism, once the attention scores are computed and applied, we often need to summarize or aggregate these scores to obtain a representation of the entire phrase. Here’s how we compute the `phrase_representation`:\n",
    "\n",
    "### Context\n",
    "\n",
    "Given an `Attention` matrix that represents the attention weights applied to each word in a phrase, the goal is to aggregate these weights to obtain a single representation for the phrase.\n",
    "\n",
    "### Computing Phrase Representation\n",
    "\n",
    "1. **Attention Matrix**:\n",
    "   - **Shape**: \\\\((\\text{batch\\_size}, \\text{sequence\\_length}, \\text{embedding\\_dim})\\\\) \n",
    "   - **Purpose**: Contains the attention weights for each word in each phrase. Each entry in this matrix represents the weighted influence of words in the phrase.\n",
    "\n",
    "2. **Phrase Representation Calculation**:\n",
    "   - To obtain a single representation for each phrase, we compute the average of the attention weights along the sequence length dimension.\n",
    "\n",
    "   ```python\n",
    "   phrase_representation = np.mean(Attention, axis=1)\n"
   ]
  },
  {
   "cell_type": "markdown",
   "id": "0e00244b-1414-4f05-aaee-9d5f84715048",
   "metadata": {},
   "source": [
    "![Alt text](imgs/NotebookAttention2.png)"
   ]
  },
  {
   "cell_type": "code",
   "execution_count": 74,
   "id": "da1fc1bc-fc23-4e16-933c-3d9af598890f",
   "metadata": {},
   "outputs": [
    {
     "name": "stdout",
     "output_type": "stream",
     "text": [
      "Phrase Representation:\n",
      "[[[0.54816173 0.55373519 0.528588   0.48114616 0.51545497]\n",
      "  [0.62071859 0.39438395 0.33571784 0.63764339 0.48273258]]\n",
      "\n",
      " [[0.57939064 0.54278419 0.6400608  0.50073655 0.58094221]\n",
      "  [0.77202168 0.43336577 0.35534688 0.69846687 0.55084735]]\n",
      "\n",
      " [[0.72263782 0.64555697 0.72156348 0.5690985  0.63221393]\n",
      "  [0.79489755 0.5194671  0.41840604 0.76586826 0.58908328]]] (3, 2, 5)\n"
     ]
    }
   ],
   "source": [
    "phrase_representation = np.mean(Attention, axis=2)\n",
    "print(\"Phrase Representation:\")\n",
    "print(phrase_representation,phrase_representation.shape)\n",
    "\n"
   ]
  },
  {
   "cell_type": "code",
   "execution_count": 75,
   "id": "fc6393e2-a20c-46d0-bf34-2842097108ea",
   "metadata": {},
   "outputs": [
    {
     "data": {
      "text/plain": [
       "(3, 10)"
      ]
     },
     "execution_count": 75,
     "metadata": {},
     "output_type": "execute_result"
    }
   ],
   "source": [
    "phrase_representation=phrase_representation.reshape(num_prases,dv*num_head)\n",
    "phrase_representation.shape\n",
    "\n"
   ]
  },
  {
   "cell_type": "code",
   "execution_count": 76,
   "id": "1569a24a-62df-4d23-b359-8dee5cbaa9b0",
   "metadata": {},
   "outputs": [
    {
     "data": {
      "text/plain": [
       "(3, 10)"
      ]
     },
     "execution_count": 76,
     "metadata": {},
     "output_type": "execute_result"
    }
   ],
   "source": [
    "phrase_representation.shape"
   ]
  },
  {
   "cell_type": "markdown",
   "id": "77d0cd05-aa0f-445b-9dd2-e29c173864c3",
   "metadata": {},
   "source": [
    "At this point, we have computed the following:\n",
    "\n",
    "- **Attention Mechanism**:\n",
    "  - `Qval`: The result of multiplying the input with the query weight matrix \\( Q \\).\n",
    "  - `Kval`: The result of multiplying the input with the key weight matrix \\( K \\).\n",
    "  - `Vval`: The result of multiplying the input with the value weight matrix \\( V \\).\n",
    "  - `QKscaled`: The scaled dot product of `Qval` and `Kval`, normalized by the square root of the dimensionality of the key vectors \\( d_k \\).\n",
    "  - `attention_weights`: The result of applying the softmax function to `QKscaled` to get attention weights.\n",
    "  - `attention`: The result of multiplying `attention_weights` with `Vval`.\n",
    "We can now add these parts to the classifier model:"
   ]
  },
  {
   "cell_type": "code",
   "execution_count": 77,
   "id": "6d3846a3-848f-476a-bda5-448164a63f63",
   "metadata": {},
   "outputs": [],
   "source": [
    "class QKVAttentionClassifier:\n",
    "    def __init__(self,word2vec_len,batch_size,dk,dv):\n",
    "        self.word2vec_len=word2vec_len\n",
    "        self.batch_size = batch_size\n",
    "        self.dk=dk\n",
    "        self.dv = dv\n",
    "        # Initialize weights with Xavier/Glorot initialization\n",
    "        self.Q = np.random.rand(self.word2vec_len, self.dk) / np.sqrt(self.word_len)\n",
    "        self.K = np.random.rand(self.word2vec_len, self.dk) / np.sqrt(self.word_len)\n",
    "        self.V = np.random.rand(self.word2vec_len, self.dv) / np.sqrt(self.word_len)\n",
    "\n",
    "    \n",
    "    def AttentionHead(self, Inputs):\n",
    "        self.Qval = np.dot(Inputs, self.Q)\n",
    "        self.Kval = np.dot(Inputs, self.K)\n",
    "        self.Vval = np.dot(Inputs, self.V) \n",
    "        QKscaled = np.matmul(self.Qval, np.transpose(self.Kval, (0, 2, 1))) / np.sqrt(self.K.shape[1]) \n",
    "        self.Attention_weights = self.softmax(QKscaled) \n",
    "        return np.matmul(self.Attention_weights, self.Vval)\n",
    "    \n",
    "    def forward(self, Inputs):\n",
    "        Attention = self.AttentionHead(Inputs)\n",
    "        self.phrase_representation = np.mean(Attention, axis=1)"
   ]
  },
  {
   "cell_type": "markdown",
   "id": "ceeb7df4-17d1-4cad-ae0d-e337352a00c9",
   "metadata": {},
   "source": [
    "With these computations complete, we are now ready to feed the `phrase_rep` into the linear layer for further or classification task."
   ]
  },
  {
   "cell_type": "markdown",
   "id": "960dfe9b-1d3a-4ee5-9fc0-f517be2ee94d",
   "metadata": {},
   "source": [
    "![Alt text](imgs/Notebooktxtclass.png)"
   ]
  },
  {
   "cell_type": "code",
   "execution_count": 78,
   "id": "f760b274-9ded-4466-8b1e-2a8404f2fb6f",
   "metadata": {},
   "outputs": [],
   "source": [
    "num_classes = 2  # Example number of classes (binary classification)\n",
    "linearlayer= np.random.rand(dv*num_head, num_classes)   \n",
    "linear_bias = np.random.rand(num_classes)\n"
   ]
  },
  {
   "cell_type": "code",
   "execution_count": null,
   "id": "97d69e7f-f3cd-446d-b64b-61e2ae6ec7dc",
   "metadata": {},
   "outputs": [],
   "source": []
  },
  {
   "cell_type": "code",
   "execution_count": 79,
   "id": "5e84053a-063e-4a51-925c-dc2e6a91caf8",
   "metadata": {},
   "outputs": [
    {
     "data": {
      "text/plain": [
       "array([[0.379405  , 0.620595  ],\n",
       "       [0.36440656, 0.63559344],\n",
       "       [0.36023999, 0.63976001]])"
      ]
     },
     "execution_count": 79,
     "metadata": {},
     "output_type": "execute_result"
    }
   ],
   "source": [
    "Sigma_Zout=softmax(np.matmul(phrase_representation, linearlayer) + linear_bias)\n",
    "Sigma_Zout"
   ]
  },
  {
   "cell_type": "markdown",
   "id": "e62c9059-abe9-47a8-b709-27cfb505317f",
   "metadata": {},
   "source": [
    "We add the linearlayer and Sigma_Zout calculation to the classifier:\n"
   ]
  },
  {
   "cell_type": "code",
   "execution_count": 80,
   "id": "3727326d-f64c-44d9-b23e-49df570ea4fb",
   "metadata": {},
   "outputs": [],
   "source": [
    "class QKVAttentionClassifier:\n",
    "    def __init__(self, word_len, words_per_phrase, batch_size, dk, dv, num_classes):\n",
    "\n",
    "        self.word_len = word_len\n",
    "        self.batch_size = batch_size\n",
    "        self.dk = dk\n",
    "        self.dv = dv\n",
    "        self.num_classes = num_classes\n",
    "        self.words_per_phrase = words_per_phrase\n",
    "\n",
    "        # Initialize weights with Xavier/Glorot initialization\n",
    "        self.Q = np.random.randn(self.word_len, self.dk) / np.sqrt(self.word_len)  \n",
    "        self.K = np.random.randn(self.word_len, self.dk) / np.sqrt(self.word_len)  \n",
    "        self.V = np.random.randn(self.word_len, self.dk) / np.sqrt(self.word_len)  \n",
    "\n",
    "        # Initialize linear layer weights\n",
    "        self.linearlayer = np.random.randn(self.dk, self.num_classes) / np.sqrt(self.dk)\n",
    "        self.linear_bias = np.zeros(self.num_classes) \n",
    "        \n",
    "    def LinearLayer(self):\n",
    "        output = np.matmul(self.phrase_representation, self.linearlayer) + self.linear_bias\n",
    "        return output\n",
    "\n",
    "    def forward(self, Inputs):\n",
    "        Attention = self.AttentionHead(Inputs)\n",
    "        self.phrase_representation = np.mean(Attention, axis=1)\n",
    "\n",
    "        Zout = self.LinearLayer()\n",
    "        Sigma_Zout = self.softmax(Zout)\n",
    "\n",
    "        return Sigma_Zout"
   ]
  },
  {
   "cell_type": "markdown",
   "id": "4df671f0-1e4e-47b4-9af2-9ca0bbc910ee",
   "metadata": {},
   "source": [
    "### Cross-Entropy Loss Calculation\n",
    "\n",
    "At this stage, we have calculated the cross-entropy loss between our predictions and the true target values.\n",
    "\n",
    " \n",
    "\n",
    "1. **True Target**:\n",
    "   - The `target` variable represents the true class labels for each example in the batch. It is a list of one-hot encoded vectors. For instance:\n",
    "     - `np.array([0, 1])` represents the true class for the first example.\n",
    "     - `np.array([1, 0])` represents the true class for the second example.\n",
    "     - `np.array([1, 0])` represents the true class for the third example.\n",
    "\n",
    "2. **Cross-Entropy Loss Calculation**:\n",
    "   - The cross-entropy loss is computed using the formula:\n",
    "     \\\\[\n",
    "     \\text{batch\\_loss} = -\\sum (\\text{target} \\cdot \\log(\\text{predictions} + 1e-8))\n",
    "     \\\\]\n",
    "   - This loss function measures the difference between the predicted probabilities and the true class labels. The `1e-8` term is added to avoid taking the logarithm of zero, which could result in undefined values.\n",
    "\n",
    "3. **Result**:\n",
    "   - The computed loss, `loss`, is an average of the individual losses across the batch. It quantifies how well the predicted probabilities match the true labels. A lower loss indicates better performance.\n",
    "\n",
    "In summary, this step provides a measure of how well our model's predictions align with the actual class labels in our batch. The output of this calculation will be used to guide the training process through backpropagation.\n"
   ]
  },
  {
   "cell_type": "code",
   "execution_count": 81,
   "id": "2c487b25",
   "metadata": {},
   "outputs": [
    {
     "name": "stdout",
     "output_type": "stream",
     "text": [
      "Cross-Entropy Loss:  0.835848818177003\n"
     ]
    }
   ],
   "source": [
    "import numpy as np\n",
    "\n",
    " \n",
    "target = [np.array([0, 1]),np.array([1, 0]),np.array([1, 0])]\n",
    "\n",
    "\n",
    "def cross_entropy_loss(predictions, target): \n",
    "    batch_loss = -np.sum(target * np.log(predictions + 1e-8), axis=1)\n",
    "    return np.mean(batch_loss) \n",
    " \n",
    "\n",
    "loss = cross_entropy_loss(Sigma_Zout, target)\n",
    "print(\"Cross-Entropy Loss: \",loss)\n",
    " \n"
   ]
  },
  {
   "cell_type": "markdown",
   "id": "a431718c-20aa-432b-9947-3a8e289e337d",
   "metadata": {},
   "source": [
    "We can now add both softmax and cross entropy loss functions to the classifier model:"
   ]
  },
  {
   "cell_type": "code",
   "execution_count": 82,
   "id": "31a1505c-b77c-4921-bdcc-27ed7f1e3160",
   "metadata": {},
   "outputs": [],
   "source": [
    "class QKVAttentionClassifier:\n",
    "     \n",
    "    def softmax(self, x, axis=-1):\n",
    "        x = np.clip(x, -1e4, 1e4)  # Clip for numerical stability\n",
    "        e_x = np.exp(x - np.max(x, axis=axis, keepdims=True))\n",
    "        return e_x / np.sum(e_x, axis=axis, keepdims=True)\n",
    "\n",
    "    def cross_entropy_loss(self, predictions, target):\n",
    "        # Cross-entropy loss for a batch of predictions and targets\n",
    "        batch_loss = -np.sum(target * np.log(predictions + 1e-9), axis=1)\n",
    "        return np.mean(batch_loss)\n"
   ]
  },
  {
   "cell_type": "markdown",
   "id": "e5138a1a-2c16-4d06-82f3-8a889dc0106c",
   "metadata": {},
   "source": [
    "## Backpropagation\n",
    " \n",
    "### Overview\n",
    "\n",
    "Backpropagation is a fundamental algorithm used for training artificial neural networks. It is a supervised learning technique that adjusts the weights of the network to minimize the error between the predicted output and the actual target values. The goal of backpropagation is to optimize the network's performance by systematically reducing the loss function through gradient descent.\n",
    "\n",
    "In our example, using the chain rule we need to calculate therefore the following quantities:\n",
    "\n",
    "\\\\[\n",
    "\\frac{\\partial \\text{Loss}}{\\partial Z^{out}} = \\frac{\\partial \\text{Loss}}{\\partial \\sigma(Z^{out})} \\frac{\\partial \\sigma(Z^{out})}{\\partial Z^{out}}\n",
    "\\\\]\n",
    "\n",
    "\\\\[\n",
    "\\frac{\\partial \\text{Loss}}{\\partial Q} = \\frac{\\partial \\text{Loss}}{\\partial Z^{out}}  \\frac{\\partial Z^{out}}{\\partial A} \\frac{\\partial A}{\\partial Q}\n",
    "\\\\]\n",
    "\\\\[\n",
    "\\frac{\\partial \\text{Loss}}{\\partial K} = \\frac{\\partial \\text{Loss}}{\\partial Z^{out}}  \\frac{\\partial Z^{out}}{\\partial A} \\frac{\\partial A}{\\partial K}\n",
    "\\\\]\n",
    "\\\\[\n",
    "\\frac{\\partial \\text{Loss}}{\\partial V} = \\frac{\\partial \\text{Loss}}{\\partial Z^{out}}  \\frac{\\partial Z^{out}}{\\partial A} \\frac{\\partial A}{\\partial V}\n",
    "\\\\]\n",
    "\\\\[\n",
    "\\frac{\\partial \\text{Loss}}{\\partial W} = \\frac{\\partial \\text{Loss}}{\\partial Z^{out}}  \\frac{\\partial Z^{out}}{\\partial W}\n",
    "\\\\]\n",
    "\\\\[\n",
    "\\frac{\\partial \\text{Loss}}{\\partial Bias} =\\frac{\\partial \\text{Loss}}{\\partial Z^{out}}  \\frac{\\partial Z^{out}}{\\partial Bias}\n",
    "\\\\]"
   ]
  },
  {
   "cell_type": "markdown",
   "id": "ff47a656-1879-422e-be31-c66af2997650",
   "metadata": {},
   "source": [
    "### Gradient of loss with respect to output probabilities:\n",
    "\n",
    "\n",
    "The gradient of the loss with respect to the logits \\\\( Z^{out} \\\\) can be expressed as:\n",
    "\\\\[\n",
    "L=-\\sum y_ilog(\\sigma(Z^{out}))\n",
    "\\\\]\n",
    "\n",
    "\\\\[\n",
    "\\frac{\\partial \\text{Loss}}{\\partial Z^{out}} = -\\sum y_i \\frac{1}{\\sigma(Z^{out})}  \\frac{\\partial \\sigma(Z^{out})}{\\partial Z^{out}}= -\\sum y_i \\frac{1}{\\sigma(Z^{out})}\\sigma(Z^{out})[1-\\sigma(Z^{out})]\n",
    "\\\\]\n",
    "\n",
    "as \\\\(y_i\\\\) is a one hot encoded vector: \n",
    "\n",
    "\\\\[ \\sum y_i = 1 \\\\]\n",
    "\n",
    "so:\n",
    "\\\\[\n",
    "\\frac{\\partial \\text{Loss}}{\\partial Z^{out}} = \\frac{\\partial \\text{Loss}}{\\partial \\sigma(Z^{out})} \\frac{\\partial \\sigma(Z^{out})}{\\partial Z^{out}}=\\sigma_i(Z^{out})-y_i\n",
    "\\\\]"
   ]
  },
  {
   "cell_type": "code",
   "execution_count": 83,
   "id": "a46ee5c0",
   "metadata": {},
   "outputs": [
    {
     "data": {
      "text/plain": [
       "array([[ 0.379405  , -0.379405  ],\n",
       "       [-0.63559344,  0.63559344],\n",
       "       [-0.63976001,  0.63976001]])"
      ]
     },
     "execution_count": 83,
     "metadata": {},
     "output_type": "execute_result"
    }
   ],
   "source": [
    "# Gradient of loss with respect to output probabilities\n",
    "dLoss_dSigma_Zout =Sigma_Zout - np.stack(target)\n",
    "dLoss_dSigma_Zout\n",
    "\n"
   ]
  },
  {
   "cell_type": "markdown",
   "id": "d86d5926-b7ef-4b54-9d69-c259363d4723",
   "metadata": {},
   "source": [
    "### Gradient of the loss with respect to linear layer and bias:\n",
    "\n",
    "The gradient of the loss with respect to the linear layer weights and bias can be expressed as:\n",
    "\\\\[\n",
    "\\frac{\\partial Loss}{\\partial W}=\\begin{cases} \\frac{\\partial Loss}{\\partial Z^{out}}=\\frac{\\partial Loss}{\\partial \\sigma(Z^{out})}\\frac{\\partial \\sigma(Z^{out})}{\\partial  Z^{out}}= \\sigma(Z^{out})-y_{true} \\\\  \\frac{\\partial Loss}{\\partial w_{11}}=\\frac{\\partial Loss}{\\partial \\sigma(Z^{out}_1)}\\frac{\\partial \\sigma(Z^{out}_1)}{\\partial Z^{out}_1}\\frac{\\partial Z^{out}_1}{\\partial w_{11}}= [\\sigma(Z^{out}_1)-y_{1}]\\cdot Y_1\\\\  \\frac{\\partial Loss}{\\partial w_{21}}=\\frac{\\partial Loss}{\\partial \\sigma(Z^{out}_1)}\\frac{\\partial \\sigma(Z^{out}_1)}{\\partial Z^{out}_1}\\frac{\\partial Z^{out}_1}{\\partial w_{21}}= [\\sigma(Z^{out}_1)-y_{1}]\\cdot Y_2\\\\  \\frac{\\partial Loss}{\\partial w_{31}}=\\frac{\\partial Loss}{\\partial \\sigma(Z^{out}_1)}\\frac{\\partial \\sigma(Z^{out}_1)}{\\partial Z^{out}_1}\\frac{\\partial Z^{out}_1}{\\partial w_{31}}= [\\sigma(Z^{out}_1)-y_{1}]\\cdot Y_3\\\\  \\frac{\\partial Loss}{\\partial w_{12}}=\\frac{\\partial Loss}{\\partial \\sigma(Z^{out}_2)}\\frac{\\partial \\sigma(Z^{out}_2)}{\\partial Z^{out}_2}\\frac{\\partial Z^{out}_2}{\\partial w_{12}}= [\\sigma(Z^{out}_2)-y_{2}]\\cdot Y_1\\\\  \\frac{\\partial Loss}{\\partial w_{22}}=\\frac{\\partial Loss}{\\partial \\sigma(Z^{out}_2)}\\frac{\\partial \\sigma(Z^{out}_2)}{\\partial Z^{out}_2}\\frac{\\partial Z^{out}_2}{\\partial w_{22}}= [\\sigma(Z^{out}_2)-y_{2}]\\cdot Y_2\\\\  \\frac{\\partial Loss}{\\partial w_{32}}=\\frac{\\partial Loss}{\\partial \\sigma(Z^{out}_2)}\\frac{\\partial \\sigma(Z^{out}_2)}{\\partial Z^{out}_2}\\frac{\\partial Z^{out}_2}{\\partial w_{32}}= [\\sigma(Z^{out}_2)-y_{2}]\\cdot Y_3\\\\  \\frac{\\partial Loss}{\\partial B_{1}}=\\frac{\\partial Loss}{\\partial \\sigma(Z^{out}_1)}\\frac{\\partial \\sigma(Z^{out}_1)}{\\partial Z^{out}_1}\\frac{\\partial Z^{out}_2}{\\partial B_{1}}= [\\sigma(Z^{out}_1)-y_{1}]\\cdot 1\\\\   \\frac{\\partial Loss}{\\partial B_{2}}=\\frac{\\partial Loss}{\\partial \\sigma(Z^{out}_2)}\\frac{\\partial \\sigma(Z^{out}_2)}{\\partial Z^{out}_2}\\frac{\\partial Z^{out}_2}{\\partial B_{2}}= [\\sigma(Z^{out}_2)-y_{2}]\\cdot 1\\\\ \\end{cases}\n",
    "\\\\]\n",
    "\n",
    "These values will be used to update the weights of the linear layer trought the learning rate."
   ]
  },
  {
   "cell_type": "code",
   "execution_count": 84,
   "id": "2f3098d2-304b-4007-84fd-a07e3652b289",
   "metadata": {},
   "outputs": [
    {
     "data": {
      "text/plain": [
       "(array([[-0.62259637,  0.62259637],\n",
       "        [-0.54790171,  0.54790171],\n",
       "        [-0.66789698,  0.66789698],\n",
       "        [-0.49980208,  0.49980208],\n",
       "        [-0.57814206,  0.57814206],\n",
       "        [-0.76373185,  0.76373185],\n",
       "        [-0.45814748,  0.45814748],\n",
       "        [-0.36616257,  0.36616257],\n",
       "        [-0.69198776,  0.69198776],\n",
       "        [-0.54383573,  0.54383573]]),\n",
       " array([-0.89594846,  0.89594846]))"
      ]
     },
     "execution_count": 84,
     "metadata": {},
     "output_type": "execute_result"
    }
   ],
   "source": [
    "# Gradient for linear layer and bias\n",
    "d_linear = np.dot(dLoss_dSigma_Zout.T, phrase_representation).T\n",
    "d_bias =  np.sum(dLoss_dSigma_Zout, axis=0)\n",
    "d_linear,d_bias"
   ]
  },
  {
   "cell_type": "code",
   "execution_count": 85,
   "id": "a2666bc3-a1e0-461a-903c-b8bdc3886468",
   "metadata": {},
   "outputs": [],
   "source": [
    "class QKVAttentionClassifier: \n",
    "    def BackPropagation(self, dLoss_dSigma_Zout, inputs):\n",
    "        \n",
    "        # Gradient for linear layer\n",
    "        dlinear_dW = np.dot(dLoss_dSigma_Zout.T, self.phrase_representation).T\n",
    "\n",
    "        # Gradient for bias\n",
    "        d_bias = np.sum(dLoss_dSigma_Zout, axis=0)"
   ]
  },
  {
   "cell_type": "markdown",
   "id": "c8550983-d28e-4555-b782-11872d8723f4",
   "metadata": {},
   "source": [
    "### Gradient of the loss with respect to phrase representation:\n",
    " \n",
    "\n",
    "The gradient of the loss with respect to phrase representation can be expressed as:\n",
    "\\\\[\n",
    "\\frac{\\partial Loss}{\\partial Y}=\\begin{cases} \\frac{\\partial Loss}{\\partial Y^{z_1}_1}=\\frac{\\partial Loss}{\\partial \\sigma(Z^{out}_1)}\\frac{\\partial \\sigma(Z^{out}_1)}{\\partial Z^{out}_1}\\frac{\\partial Z^{out}_1}{\\partial Y_1}=[\\sigma(Z_1^{out})-y_1]\\cdot w_{11}\\\\  \\frac{\\partial Loss}{\\partial Y^{z_2}_1}=\\frac{\\partial Loss}{\\partial \\sigma(Z^{out}_2)}\\frac{\\partial \\sigma(Z^{out}_2)}{\\partial Z^{out}_2}\\frac{\\partial Z^{out}_2}{\\partial Y_1}=[\\sigma(Z_2^{out})-y_2]\\cdot w_{12}\\\\    \\frac{\\partial Loss}{\\partial Y^{z_1}_2}=\\frac{\\partial Loss}{\\partial \\sigma(Z^{out}_1)}\\frac{\\partial \\sigma(Z^{out}_1)}{\\partial Z^{out}_1}\\frac{\\partial Z^{out}_1}{\\partial Y_2}=[\\sigma(Z_1^{out})-y_1]\\cdot w_{21}\\\\  \\frac{\\partial Loss}{\\partial Y^{z_2}_2}=\\frac{\\partial Loss}{\\partial \\sigma(Z^{out}_2)}\\frac{\\partial \\sigma(Z^{out}_2)}{\\partial Z^{out}_2}\\frac{\\partial Z^{out}_2}{\\partial Y_2}=[\\sigma(Z_2^{out})-y_2]\\cdot w_{22}\\\\     \\frac{\\partial Loss}{\\partial Y^{z_1}_3}=\\frac{\\partial Loss}{\\partial \\sigma(Z^{out}_1)}\\frac{\\partial \\sigma(Z^{out}_1)}{\\partial Z^{out}_1}\\frac{\\partial Z^{out}_1}{\\partial Y_3}=[\\sigma(Z_1^{out})-y_1]\\cdot w_{31}\\\\  \\frac{\\partial Loss}{\\partial Y^{z_2}_3}=\\frac{\\partial Loss}{\\partial \\sigma(Z^{out}_2)}\\frac{\\partial \\sigma(Z^{out}_2)}{\\partial Z^{out}_2}\\frac{\\partial Z^{out}_2}{\\partial Y_2}=[\\sigma(Z_2^{out})-y_3]\\cdot w_{32}\\end{cases}=\\begin{cases}\\frac{\\partial Loss}{\\partial Y_1}=\\frac{\\partial Loss}{\\partial Y^{z_1}_1}+\\frac{\\partial Loss}{\\partial Y^{z_2}_1}\\\\  \\frac{\\partial Loss}{\\partial Y_2}=\\frac{\\partial Loss}{\\partial Y^{z_1}_2}+\\frac{\\partial Loss}{\\partial Y^{z_2}_2}\\\\  \\frac{\\partial Loss}{\\partial Y_3}=\\frac{\\partial Loss}{\\partial Y^{z_1}_3}+\\frac{\\partial Loss}{\\partial Y^{z_2}_3}\\end{cases}\n",
    "\\\\]\n",
    " \n"
   ]
  },
  {
   "cell_type": "code",
   "execution_count": 86,
   "id": "57f28c04-c59d-40ef-bd6c-03591fb0fedb",
   "metadata": {},
   "outputs": [
    {
     "data": {
      "text/plain": [
       "array([[-0.06747083, -0.02231603, -0.11821003,  0.20084437,  0.00370432,\n",
       "        -0.03683823, -0.0054395 ,  0.11903841,  0.0083512 , -0.15502397],\n",
       "       [ 0.11302966,  0.03738464,  0.19802987, -0.33646201, -0.00620562,\n",
       "         0.06171279,  0.00911245, -0.1994176 , -0.01399024,  0.25970196],\n",
       "       [ 0.11377061,  0.03762971,  0.19932804, -0.33866765, -0.0062463 ,\n",
       "         0.06211734,  0.00917218, -0.20072487, -0.01408195,  0.26140441]])"
      ]
     },
     "execution_count": 86,
     "metadata": {},
     "output_type": "execute_result"
    }
   ],
   "source": [
    "# Gradient for phrase representation\n",
    "d_phrase_rep = np.dot(dLoss_dSigma_Zout, linearlayer.T)\n",
    "d_phrase_rep\n",
    "\n"
   ]
  },
  {
   "cell_type": "code",
   "execution_count": null,
   "id": "8df43ef8-93b5-433c-85b1-d93a7a752d9d",
   "metadata": {},
   "outputs": [],
   "source": [
    " "
   ]
  },
  {
   "cell_type": "code",
   "execution_count": 87,
   "id": "8fa25f63-a6c4-4072-b424-26185f8584c5",
   "metadata": {},
   "outputs": [
    {
     "data": {
      "text/plain": [
       "(3, 10)"
      ]
     },
     "execution_count": 87,
     "metadata": {},
     "output_type": "execute_result"
    }
   ],
   "source": [
    "d_phrase_rep.shape"
   ]
  },
  {
   "cell_type": "code",
   "execution_count": 88,
   "id": "ede1786d-8c88-429e-8007-34c4d3029288",
   "metadata": {},
   "outputs": [],
   "source": [
    "class QKVAttentionClassifier: \n",
    "    def BackPropagation(self, dLoss_dSigma_Zout, inputs):\n",
    "        \n",
    "        # Gradient for linear layer\n",
    "        dlinear_dW = np.dot(self.phrase_representation.T, dLoss_dSigma_Zout)\n",
    "\n",
    "        # Gradient for bias\n",
    "        d_bias = np.sum(dLoss_dSigma_Zout, axis=0)\n",
    "        \n",
    "         # Gradient for phrase representation\n",
    "        d_phrase_rep = np.dot(dLoss_dSigma_Zout, self.linearlayer.T)\n",
    "\n"
   ]
  },
  {
   "cell_type": "markdown",
   "id": "4653d85a-7ba3-4c00-8621-31eb998fca4a",
   "metadata": {},
   "source": [
    "### Gradient of the Loss with Respect to Attention Output\n",
    "\n",
    "Given the attention output matrix:\n",
    "\n",
    "\\\\[\n",
    "\\text{Attention} = \n",
    "\\begin{bmatrix}\n",
    "Y_a^1 & Y_a^2 & Y_a^3 \\\\\n",
    "Y_b^1 & Y_b^2 & Y_b^3 \\\\\n",
    "Y_c^1 & Y_c^2 & Y_c^3 \\\\\n",
    "Y_d^1 & Y_d^2 & Y_d^3 \\\\\n",
    "\\end{bmatrix}\n",
    "\\\\]\n",
    "\n",
    "Each row \\\\(Y_a, Y_b, Y_c, Y_d\\\\) represents the attention for each input token.\n",
    "\n",
    "#### Phrase Representation\n",
    "\n",
    "We compute the phrase representation by averaging over the rows for each component:\n",
    "\n",
    "\\\\[\n",
    "\\text{Phrase Representation} = Y =\n",
    "\\begin{bmatrix}\n",
    "\\frac{Y^1_a + Y^1_b + Y^1_c + Y^1_d}{4} \\\\\n",
    "\\frac{Y^2_a + Y^2_b + Y^2_c + Y^2_d}{4} \\\\\n",
    "\\frac{Y^3_a + Y^3_b + Y^3_c + Y^3_d}{4} \\\\\n",
    "\\end{bmatrix} = \\begin{bmatrix}\n",
    "{Y_1}\\\\\n",
    "{Y_2}\\\\\n",
    "{Y_3}\\\\\n",
    "\\end{bmatrix}\n",
    "\\\\]\n",
    "\n",
    "#### Loss Function and Gradient\n",
    "\n",
    "The loss is computed based on the phrase representation. To compute the gradient of the loss with respect to each attention component \\\\(Y_x^i\\\\), we apply the chain rule:\n",
    "\n",
    "\\\\[\n",
    "\\frac{\\partial Loss}{\\partial Y_x^i} = \\frac{\\partial Loss}{\\partial \\text{Y}_i} \\cdot \\frac{\\partial \\text{Y}_i}{\\partial Y_x^i}\n",
    "\\\\]\n",
    "\n",
    "So we end up with the following set of equations:\n",
    "\\\\[\n",
    "\\begin{align*}\n",
    "\\frac{\\partial Loss}{\\partial Y_x^1} = \\begin{cases}\n",
    "\\frac{\\partial Loss}{\\partial Y^1_a} = \\frac{\\partial Loss}{\\partial \\text{Y}_1} \\cdot \\frac{\\partial \\text{Y}_1}{\\partial Y_1^a}\\\\\n",
    "\\frac{\\partial Loss}{\\partial Y^1_b} = \\frac{\\partial Loss}{\\partial \\text{Y}_1} \\cdot \\frac{\\partial \\text{Y}_1}{\\partial Y_1^b}\\\\\n",
    "\\frac{\\partial Loss}{\\partial Y^1_c} = \\frac{\\partial Loss}{\\partial \\text{Y}_1} \\cdot \\frac{\\partial \\text{Y}_1}{\\partial Y_1^c}\\\\\n",
    "\\frac{\\partial Loss}{\\partial Y^1_d} = \\frac{\\partial Loss}{\\partial \\text{Y}_1} \\cdot \\frac{\\partial \\text{Y}_1}{\\partial Y_1^d}\\\\\n",
    "\\end{cases}  & \n",
    "\\frac{\\partial Loss}{\\partial Y_x^2} = \\begin{cases}\n",
    "\\frac{\\partial Loss}{\\partial Y^2_a} = \\frac{\\partial Loss}{\\partial \\text{Y}_2} \\cdot \\frac{\\partial \\text{Y}_2}{\\partial Y_2^a}\\\\\n",
    "\\frac{\\partial Loss}{\\partial Y^2_b} = \\frac{\\partial Loss}{\\partial \\text{Y}_2} \\cdot \\frac{\\partial \\text{Y}_2}{\\partial Y_2^b}\\\\\n",
    "\\frac{\\partial Loss}{\\partial Y^2_c} = \\frac{\\partial Loss}{\\partial \\text{Y}_2} \\cdot \\frac{\\partial \\text{Y}_2}{\\partial Y_2^c}\\\\\n",
    "\\frac{\\partial Loss}{\\partial Y^2_d} = \\frac{\\partial Loss}{\\partial \\text{Y}_2} \\cdot \\frac{\\partial \\text{Y}_2}{\\partial Y_2^d}\\\\\n",
    "\\end{cases}  & \n",
    "\\frac{\\partial Loss}{\\partial Y_x^3} = \\begin{cases}\n",
    "\\frac{\\partial Loss}{\\partial Y^3_a} = \\frac{\\partial Loss}{\\partial \\text{Y}_3} \\cdot \\frac{\\partial \\text{Y}_3}{\\partial Y_3^a}\\\\\n",
    "\\frac{\\partial Loss}{\\partial Y^3_b} = \\frac{\\partial Loss}{\\partial \\text{Y}_3} \\cdot \\frac{\\partial \\text{Y}_3}{\\partial Y_3^b}\\\\\n",
    "\\frac{\\partial Loss}{\\partial Y^3_c} = \\frac{\\partial Loss}{\\partial \\text{Y}_3} \\cdot \\frac{\\partial \\text{Y}_3}{\\partial Y_3^c}\\\\\n",
    "\\frac{\\partial Loss}{\\partial Y^3_d} = \\frac{\\partial Loss}{\\partial \\text{Y}_3} \\cdot \\frac{\\partial \\text{Y}_3}{\\partial Y_3^d}\\\\\n",
    "\\end{cases}\n",
    "\\end{align*}\n",
    "\\\\]\n",
    "\n",
    "\n",
    "\n",
    "Since the phrase representation we used is the mean of the attention outputs, we can simplify the derivative with respect to each attention component as:\n",
    "\n",
    "\\\\[\n",
    "\\frac{\\partial \\text{Y}_i}{\\partial Y_x^i} = \\frac{1}{4}\n",
    "\\\\]\n",
    "\n",
    "Therefore, the gradient of the loss with respect to each attention component is:\n",
    "\n",
    "\\\\[ \n",
    "\\frac{\\partial Loss}{\\partial A} = \\begin{cases}\n",
    "\\frac{\\partial Loss}{\\partial Y_a^i} = \\frac{1}{4} \\frac{\\partial Loss}{\\partial \\text{Y}_i}; \\\\\n",
    "\\frac{\\partial Loss}{\\partial Y_b^i} = \\frac{1}{4} \\frac{\\partial Loss}{\\partial \\text{Y}_i}; \\\\\n",
    "\\frac{\\partial Loss}{\\partial Y_c^i} = \\frac{1}{4} \\frac{\\partial Loss}{\\partial \\text{Y}_i}; \\\\\n",
    "\\frac{\\partial Loss}{\\partial Y_d^i} = \\frac{1}{4} \\frac{\\partial Loss}{\\partial \\text{Y}_i};  \n",
    "\\end{cases} \n",
    "\\\\]\n",
    "This shows how the gradient propagates through the mean operation during backpropagation.\n",
    "\n"
   ]
  },
  {
   "cell_type": "code",
   "execution_count": 89,
   "id": "2734b391-4b7c-49a9-9151-3828b844b17d",
   "metadata": {
    "scrolled": true
   },
   "outputs": [
    {
     "data": {
      "text/plain": [
       "array([[[-0.01686771, -0.00557901, -0.02955251,  0.05021109,\n",
       "          0.00092608, -0.00920956, -0.00135987,  0.0297596 ,\n",
       "          0.0020878 , -0.03875599],\n",
       "        [-0.01686771, -0.00557901, -0.02955251,  0.05021109,\n",
       "          0.00092608, -0.00920956, -0.00135987,  0.0297596 ,\n",
       "          0.0020878 , -0.03875599],\n",
       "        [-0.01686771, -0.00557901, -0.02955251,  0.05021109,\n",
       "          0.00092608, -0.00920956, -0.00135987,  0.0297596 ,\n",
       "          0.0020878 , -0.03875599],\n",
       "        [-0.01686771, -0.00557901, -0.02955251,  0.05021109,\n",
       "          0.00092608, -0.00920956, -0.00135987,  0.0297596 ,\n",
       "          0.0020878 , -0.03875599]],\n",
       "\n",
       "       [[ 0.02825741,  0.00934616,  0.04950747, -0.0841155 ,\n",
       "         -0.0015514 ,  0.0154282 ,  0.00227811, -0.0498544 ,\n",
       "         -0.00349756,  0.06492549],\n",
       "        [ 0.02825741,  0.00934616,  0.04950747, -0.0841155 ,\n",
       "         -0.0015514 ,  0.0154282 ,  0.00227811, -0.0498544 ,\n",
       "         -0.00349756,  0.06492549],\n",
       "        [ 0.02825741,  0.00934616,  0.04950747, -0.0841155 ,\n",
       "         -0.0015514 ,  0.0154282 ,  0.00227811, -0.0498544 ,\n",
       "         -0.00349756,  0.06492549],\n",
       "        [ 0.02825741,  0.00934616,  0.04950747, -0.0841155 ,\n",
       "         -0.0015514 ,  0.0154282 ,  0.00227811, -0.0498544 ,\n",
       "         -0.00349756,  0.06492549]],\n",
       "\n",
       "       [[ 0.02844265,  0.00940743,  0.04983201, -0.08466691,\n",
       "         -0.00156157,  0.01552933,  0.00229305, -0.05018122,\n",
       "         -0.00352049,  0.0653511 ],\n",
       "        [ 0.02844265,  0.00940743,  0.04983201, -0.08466691,\n",
       "         -0.00156157,  0.01552933,  0.00229305, -0.05018122,\n",
       "         -0.00352049,  0.0653511 ],\n",
       "        [ 0.02844265,  0.00940743,  0.04983201, -0.08466691,\n",
       "         -0.00156157,  0.01552933,  0.00229305, -0.05018122,\n",
       "         -0.00352049,  0.0653511 ],\n",
       "        [ 0.02844265,  0.00940743,  0.04983201, -0.08466691,\n",
       "         -0.00156157,  0.01552933,  0.00229305, -0.05018122,\n",
       "         -0.00352049,  0.0653511 ]]])"
      ]
     },
     "execution_count": 89,
     "metadata": {},
     "output_type": "execute_result"
    }
   ],
   "source": [
    "# Gradient for attention\n",
    "dL_dA = np.array([np.outer(np.ones(inputs.shape[1]), d_phrase_rep[i, :]) for i in range(d_phrase_rep.shape[0])])  / inputs.shape[1]\n",
    "dL_dA \n"
   ]
  },
  {
   "cell_type": "code",
   "execution_count": 90,
   "id": "fc8cbe16-671a-4538-bd86-568334032b08",
   "metadata": {},
   "outputs": [
    {
     "data": {
      "text/plain": [
       "(5, 5, 2, 3)"
      ]
     },
     "execution_count": 90,
     "metadata": {},
     "output_type": "execute_result"
    }
   ],
   "source": [
    "dk,dv,num_head,num_prases"
   ]
  },
  {
   "cell_type": "code",
   "execution_count": 91,
   "id": "7ff059ae-8ff8-49b5-9a48-2d368655b754",
   "metadata": {},
   "outputs": [
    {
     "data": {
      "text/plain": [
       "(3, 4, 10)"
      ]
     },
     "execution_count": 91,
     "metadata": {},
     "output_type": "execute_result"
    }
   ],
   "source": [
    "dL_dA.shape"
   ]
  },
  {
   "cell_type": "code",
   "execution_count": 92,
   "id": "74f8b14e-bfbb-4952-92e5-6e3e8151efab",
   "metadata": {},
   "outputs": [],
   "source": [
    "dL_dA =dL_dA.reshape(num_prases, num_head, words_per_phrase, dv) "
   ]
  },
  {
   "cell_type": "code",
   "execution_count": 93,
   "id": "dbea7979-f839-4249-8d10-29a3b2970fc7",
   "metadata": {},
   "outputs": [
    {
     "data": {
      "text/plain": [
       "(3, 2, 4, 5)"
      ]
     },
     "execution_count": 93,
     "metadata": {},
     "output_type": "execute_result"
    }
   ],
   "source": [
    "dL_dA.shape"
   ]
  },
  {
   "cell_type": "code",
   "execution_count": 94,
   "id": "eaeb3407-984b-48f3-a746-49b233f04db9",
   "metadata": {},
   "outputs": [],
   "source": [
    "class QKVAttentionClassifier: \n",
    "    def BackPropagation(self, dLoss_dSigma_Zout, inputs):\n",
    "        \n",
    "        # Gradient for linear layer\n",
    "        dlinear_dW = np.dot(self.phrase_representation.T, dLoss_dSigma_Zout)\n",
    "\n",
    "        # Gradient for bias\n",
    "        d_bias = np.sum(dLoss_dSigma_Zout, axis=0)\n",
    "        \n",
    "         # Gradient for phrase representation\n",
    "        d_phrase_rep = np.dot(dLoss_dSigma_Zout, self.linearlayer.T)\n",
    "\n",
    "        # Gradient for attention\n",
    "        dL_dA = np.array([np.outer(np.ones(self.words_per_phrase), d_phrase_rep[i, :]) for i in range(d_phrase_rep.shape[0])])"
   ]
  },
  {
   "cell_type": "markdown",
   "id": "95b60002-82cd-4ec8-bdf9-23e91566d6d6",
   "metadata": {},
   "source": [
    "### Gradient of the loss with respect to values matrix V:\n",
    " \n",
    "\n",
    "The gradient of the loss with respect to values matrix can be expressed as:\n",
    "\\\\[\n",
    "\\text{A} =\\sigma( \\frac{Q_{val}K_{val}^T}{\\sqrt{d_k}})V_{val} = \\sigma( \\frac{Q_{val}K_{val}^T}{\\sqrt{d_k}})\\cdot Inputs \\cdot V\n",
    "\\\\]\n",
    "\\\\[ \n",
    "\\frac{\\partial Loss}{\\partial \\text{V}} =\\frac{\\partial Loss}{\\partial A} \\cdot \\frac{\\partial A}{\\partial V}=\\frac{\\partial Loss}{\\partial A} \\cdot \\sigma( \\frac{Q_{val}K_{val}^T}{\\sqrt{d_k}})\\cdot Inputs\n",
    "\\\\] "
   ]
  },
  {
   "cell_type": "code",
   "execution_count": 95,
   "id": "2aef4f23-ca5c-4ece-8d9a-961165860b0e",
   "metadata": {
    "scrolled": true
   },
   "outputs": [
    {
     "data": {
      "text/plain": [
       "array([[[[0.22281228, 0.25240305, 0.26251364, 0.26227103],\n",
       "         [0.21602351, 0.25259832, 0.26490351, 0.26647466],\n",
       "         [0.21409933, 0.25306287, 0.26614862, 0.26668918],\n",
       "         [0.21360632, 0.25317839, 0.26643467, 0.26678062]],\n",
       "\n",
       "        [[0.23605767, 0.24867222, 0.25584653, 0.25942358],\n",
       "         [0.23198096, 0.24857683, 0.25749853, 0.26194368],\n",
       "         [0.23106605, 0.24813294, 0.25767411, 0.2631269 ],\n",
       "         [0.23023345, 0.24892884, 0.25834394, 0.26249377]]],\n",
       "\n",
       "\n",
       "       [[[0.24139968, 0.26307675, 0.23776207, 0.2577615 ],\n",
       "         [0.2394024 , 0.26488819, 0.23553521, 0.2601742 ],\n",
       "         [0.2408145 , 0.26350941, 0.23726271, 0.25841338],\n",
       "         [0.23818729, 0.26692355, 0.23386242, 0.26102674]],\n",
       "\n",
       "        [[0.24598997, 0.25560719, 0.2408696 , 0.25753324],\n",
       "         [0.24494218, 0.25631488, 0.23964761, 0.25909533],\n",
       "         [0.24581957, 0.25589889, 0.24085769, 0.25742385],\n",
       "         [0.24449457, 0.25742032, 0.23897768, 0.25910743]]],\n",
       "\n",
       "\n",
       "       [[[0.19751058, 0.25975194, 0.3079247 , 0.23481279],\n",
       "         [0.18299067, 0.26202929, 0.32587536, 0.22910469],\n",
       "         [0.17577051, 0.26259094, 0.33556982, 0.22606872],\n",
       "         [0.19108746, 0.26078458, 0.31575204, 0.23237592]],\n",
       "\n",
       "        [[0.22413735, 0.26993255, 0.26930736, 0.23662273],\n",
       "         [0.21495139, 0.27686502, 0.27679072, 0.23139287],\n",
       "         [0.2111177 , 0.28113346, 0.27896901, 0.22877982],\n",
       "         [0.22015356, 0.27441367, 0.27162034, 0.23381244]]]])"
      ]
     },
     "execution_count": 95,
     "metadata": {},
     "output_type": "execute_result"
    }
   ],
   "source": [
    "Attention_weights"
   ]
  },
  {
   "cell_type": "code",
   "execution_count": 96,
   "id": "e925ac2d-a640-4512-81ce-41e6a3f98092",
   "metadata": {
    "scrolled": true
   },
   "outputs": [
    {
     "data": {
      "text/plain": [
       "array([[[[-0.01686771, -0.00920956, -0.01686771, -0.00920956],\n",
       "         [-0.00557901, -0.00135987, -0.00557901, -0.00135987],\n",
       "         [-0.02955251,  0.0297596 , -0.02955251,  0.0297596 ],\n",
       "         [ 0.05021109,  0.0020878 ,  0.05021109,  0.0020878 ],\n",
       "         [ 0.00092608, -0.03875599,  0.00092608, -0.03875599]],\n",
       "\n",
       "        [[-0.01686771, -0.00920956, -0.01686771, -0.00920956],\n",
       "         [-0.00557901, -0.00135987, -0.00557901, -0.00135987],\n",
       "         [-0.02955251,  0.0297596 , -0.02955251,  0.0297596 ],\n",
       "         [ 0.05021109,  0.0020878 ,  0.05021109,  0.0020878 ],\n",
       "         [ 0.00092608, -0.03875599,  0.00092608, -0.03875599]]],\n",
       "\n",
       "\n",
       "       [[[ 0.02825741,  0.0154282 ,  0.02825741,  0.0154282 ],\n",
       "         [ 0.00934616,  0.00227811,  0.00934616,  0.00227811],\n",
       "         [ 0.04950747, -0.0498544 ,  0.04950747, -0.0498544 ],\n",
       "         [-0.0841155 , -0.00349756, -0.0841155 , -0.00349756],\n",
       "         [-0.0015514 ,  0.06492549, -0.0015514 ,  0.06492549]],\n",
       "\n",
       "        [[ 0.02825741,  0.0154282 ,  0.02825741,  0.0154282 ],\n",
       "         [ 0.00934616,  0.00227811,  0.00934616,  0.00227811],\n",
       "         [ 0.04950747, -0.0498544 ,  0.04950747, -0.0498544 ],\n",
       "         [-0.0841155 , -0.00349756, -0.0841155 , -0.00349756],\n",
       "         [-0.0015514 ,  0.06492549, -0.0015514 ,  0.06492549]]],\n",
       "\n",
       "\n",
       "       [[[ 0.02844265,  0.01552933,  0.02844265,  0.01552933],\n",
       "         [ 0.00940743,  0.00229305,  0.00940743,  0.00229305],\n",
       "         [ 0.04983201, -0.05018122,  0.04983201, -0.05018122],\n",
       "         [-0.08466691, -0.00352049, -0.08466691, -0.00352049],\n",
       "         [-0.00156157,  0.0653511 , -0.00156157,  0.0653511 ]],\n",
       "\n",
       "        [[ 0.02844265,  0.01552933,  0.02844265,  0.01552933],\n",
       "         [ 0.00940743,  0.00229305,  0.00940743,  0.00229305],\n",
       "         [ 0.04983201, -0.05018122,  0.04983201, -0.05018122],\n",
       "         [-0.08466691, -0.00352049, -0.08466691, -0.00352049],\n",
       "         [-0.00156157,  0.0653511 , -0.00156157,  0.0653511 ]]]])"
      ]
     },
     "execution_count": 96,
     "metadata": {},
     "output_type": "execute_result"
    }
   ],
   "source": [
    "np.transpose(dL_dA,(0,1,3,2))"
   ]
  },
  {
   "cell_type": "code",
   "execution_count": 97,
   "id": "4729440e-770a-4d0f-8f6e-c9a310eda190",
   "metadata": {},
   "outputs": [
    {
     "data": {
      "text/plain": [
       "(3, 2, 5, 4)"
      ]
     },
     "execution_count": 97,
     "metadata": {},
     "output_type": "execute_result"
    }
   ],
   "source": [
    "d_Vval=np.transpose(dL_dA,(0,1,3,2))@Attention_weights \n",
    "d_Vval.shape"
   ]
  },
  {
   "cell_type": "code",
   "execution_count": 98,
   "id": "40894489-8059-4d72-ac0b-0028a5af8145",
   "metadata": {},
   "outputs": [
    {
     "data": {
      "text/plain": [
       "6"
      ]
     },
     "execution_count": 98,
     "metadata": {},
     "output_type": "execute_result"
    }
   ],
   "source": [
    "inputs.shape[2]"
   ]
  },
  {
   "cell_type": "code",
   "execution_count": null,
   "id": "704feda4-573c-4f0d-a788-db5ce650a672",
   "metadata": {},
   "outputs": [],
   "source": []
  },
  {
   "cell_type": "code",
   "execution_count": 99,
   "id": "17f28c59-ebe7-49e4-a254-84b788090699",
   "metadata": {},
   "outputs": [
    {
     "data": {
      "text/plain": [
       "(3, 2, 5, 6)"
      ]
     },
     "execution_count": 99,
     "metadata": {},
     "output_type": "execute_result"
    }
   ],
   "source": [
    "np.matmul(d_Vval,inputs.reshape(num_prases, 1, words_per_phrase, inputs.shape[2])).shape"
   ]
  },
  {
   "cell_type": "code",
   "execution_count": 100,
   "id": "4577a940-455b-42df-9128-4a178a230075",
   "metadata": {},
   "outputs": [
    {
     "data": {
      "text/plain": [
       "(2, 6, 5)"
      ]
     },
     "execution_count": 100,
     "metadata": {},
     "output_type": "execute_result"
    }
   ],
   "source": [
    "np.transpose(np.mean(np.matmul(d_Vval,inputs.reshape(num_prases, 1, words_per_phrase, inputs.shape[2])),axis=0),(0,2,1)).shape"
   ]
  },
  {
   "cell_type": "code",
   "execution_count": 101,
   "id": "1b5cf74a-090d-42ad-ac9c-86772f81ee84",
   "metadata": {},
   "outputs": [
    {
     "data": {
      "text/plain": [
       "(array([[[ 0.01762669,  0.00469007, -0.00014544, -0.03534795,\n",
       "           0.02557546],\n",
       "         [ 0.02667187,  0.00709996, -0.00013401, -0.05353434,\n",
       "           0.03862594],\n",
       "         [ 0.01720924,  0.00457767, -0.00017823, -0.03449081,\n",
       "           0.02500075],\n",
       "         [ 0.02389885,  0.00635858, -0.00020738, -0.04792029,\n",
       "           0.03468475],\n",
       "         [ 0.02152672,  0.00572771, -0.00017967, -0.04316781,\n",
       "           0.03123596],\n",
       "         [ 0.01314346,  0.00349742, -0.00010216, -0.02636091,\n",
       "           0.01906513]],\n",
       " \n",
       "        [[ 0.01665734,  0.00443185, -0.00014557, -0.03339956,\n",
       "           0.02417593],\n",
       "         [ 0.02630477,  0.00700087, -0.00016938, -0.05277698,\n",
       "           0.03812615],\n",
       "         [ 0.01732586,  0.00460938, -0.00016059, -0.03473494,\n",
       "           0.02515405],\n",
       "         [ 0.02411811,  0.0064173 , -0.00019885, -0.04836571,\n",
       "           0.03499406],\n",
       "         [ 0.02176188,  0.00579035, -0.00017982, -0.04364038,\n",
       "           0.03157563],\n",
       "         [ 0.01263291,  0.00336146, -0.00010091, -0.02533544,\n",
       "           0.01832688]]]),\n",
       " (2, 6, 5))"
      ]
     },
     "execution_count": 101,
     "metadata": {},
     "output_type": "execute_result"
    }
   ],
   "source": [
    "# Gradient for V\n",
    "d_Vval=np.matmul(np.transpose(dL_dA,(0,1,3,2)), Attention_weights) \n",
    "dLoss_dV = np.transpose(np.mean(np.matmul(d_Vval,inputs.reshape(num_prases, 1, words_per_phrase, inputs.shape[2])),axis=0),(0,2,1)) \n",
    "dLoss_dV,dLoss_dV.shape\n",
    "\n"
   ]
  },
  {
   "cell_type": "code",
   "execution_count": 102,
   "id": "d4ce2ade-d0f1-4230-8611-38543adde97d",
   "metadata": {},
   "outputs": [
    {
     "data": {
      "text/plain": [
       "(2, 6, 5)"
      ]
     },
     "execution_count": 102,
     "metadata": {},
     "output_type": "execute_result"
    }
   ],
   "source": [
    "V.shape"
   ]
  },
  {
   "cell_type": "markdown",
   "id": "7fbb8a0f-28a1-4190-9bf2-0f41f2ce9139",
   "metadata": {},
   "source": [
    "### Gradient of the loss with respect to values matrix Q:\n",
    " \n",
    " \n",
    "The gradient of the loss with respect to queries matrix can be expressed as:\n",
    "\\\\[\n",
    "\\text{A} =\\sigma( \\frac{Q_{val}K_{val}^T}{\\sqrt{d_k}})V_{val}  \n",
    "\\\\]\n",
    "\\\\[ \n",
    "\\frac{\\partial Loss}{\\partial \\text{Q}} =\\frac{\\partial Loss}{\\partial A} \\cdot \\frac{\\partial A}{\\partial Q} \n",
    "\\\\] \n",
    "\\\\[ \n",
    "\\frac{\\partial A}{\\partial Q}  = \\frac{\\partial \\sigma( \\frac{Q_{val}K_{val}^T}{\\sqrt{d_k}})}{\\partial Q} \\cdot V_{val} \n",
    "\\\\] \n",
    "\\\\[ \n",
    "\\frac{\\partial \\sigma( \\frac{Q_{val}K_{val}^T}{\\sqrt{d_k}})}{\\partial Q}   = \\sigma( \\frac{Q_{val}K_{val}^T}{\\sqrt{d_k}}) \\cdot [1-\\sigma( \\frac{Q_{val}K_{val}^T}{\\sqrt{d_k}})] \\cdot \n",
    "\\frac{\\partial (\\frac{Q_{val}K_{val}^T}{\\sqrt{d_k}})}{\\partial Q}\n",
    "\\\\] \n",
    "\\\\[ \n",
    "\\frac{\\partial (\\frac{Q_{val}K_{val}^T}{\\sqrt{d_k}})}{\\partial Q} = \\frac{\\partial (\\frac{Inputs \\cdot Q \\cdot K_{val}^T}{\\sqrt{d_k}})}{\\partial Q}=\\frac{Inputs \\cdot K_{val}^T}{\\sqrt{d_k}}\n",
    "\\\\]  \n",
    "\\\\[ \n",
    "\\frac{\\partial Loss}{\\partial \\text{Q}} =\\frac{\\partial Loss}{\\partial A} \\cdot [\\sigma( \\frac{Q_{val}K_{val}^T}{\\sqrt{d_k}}) \\cdot [1-\\sigma( \\frac{Q_{val}K_{val}^T}{\\sqrt{d_k}})]] \\cdot \\frac{Inputs \\cdot K_{val}^T}{\\sqrt{d_k}} \\cdot V_{val}\n",
    "\\\\] "
   ]
  },
  {
   "cell_type": "code",
   "execution_count": 119,
   "id": "076035fe-5128-4f4b-ba42-952eddaf4a95",
   "metadata": {},
   "outputs": [
    {
     "data": {
      "text/plain": [
       "(array([[[0.1, 0.2, 0.3, 0.4, 0.5, 0.3],\n",
       "         [0.5, 0.4, 0.7, 0.3, 0.2, 0.3],\n",
       "         [0.2, 0.7, 0.3, 0.5, 0.4, 0.4],\n",
       "         [0.4, 0.1, 0.7, 0.2, 0.5, 0.7]],\n",
       " \n",
       "        [[0.1, 0.9, 0.3, 0.4, 0.5, 0.2],\n",
       "         [0.4, 0.4, 0.7, 0.3, 0.4, 0.6],\n",
       "         [0.2, 0.7, 0.4, 0.5, 0.4, 0.2],\n",
       "         [0.4, 0.5, 0.7, 0.7, 0.5, 0.1]],\n",
       " \n",
       "        [[0.1, 0.2, 0.3, 0.8, 0.5, 0.2],\n",
       "         [0.4, 0.5, 0.7, 0.3, 0.8, 0.4],\n",
       "         [0.9, 0.7, 0.3, 0.5, 0.4, 0.6],\n",
       "         [0.4, 0.5, 0.1, 0.7, 0.4, 0.4]]]),\n",
       " (3, 4, 6))"
      ]
     },
     "execution_count": 119,
     "metadata": {},
     "output_type": "execute_result"
    }
   ],
   "source": [
    "inputs,inputs.shape"
   ]
  },
  {
   "cell_type": "code",
   "execution_count": 103,
   "id": "c93b9c06-d450-4cab-88ba-377642f62c5c",
   "metadata": {},
   "outputs": [
    {
     "data": {
      "text/plain": [
       "(3, 6, 4)"
      ]
     },
     "execution_count": 103,
     "metadata": {},
     "output_type": "execute_result"
    }
   ],
   "source": [
    "np.transpose(inputs,(0,2,1)).shape"
   ]
  },
  {
   "cell_type": "code",
   "execution_count": 104,
   "id": "e463ccec-800e-44e0-be23-ec1dcfb1a4e3",
   "metadata": {
    "scrolled": true
   },
   "outputs": [
    {
     "data": {
      "text/plain": [
       "(3, 1, 6, 4)"
      ]
     },
     "execution_count": 104,
     "metadata": {},
     "output_type": "execute_result"
    }
   ],
   "source": [
    "np.transpose(inputs,(0,2,1)).reshape(num_prases,1,inputs.shape[2],words_per_phrase).shape"
   ]
  },
  {
   "cell_type": "code",
   "execution_count": 105,
   "id": "2e623f5e-f4fc-48e4-87d9-e1ba4dd28f0e",
   "metadata": {},
   "outputs": [
    {
     "data": {
      "text/plain": [
       "(3, 2, 4, 5)"
      ]
     },
     "execution_count": 105,
     "metadata": {},
     "output_type": "execute_result"
    }
   ],
   "source": [
    "Kval.shape"
   ]
  },
  {
   "cell_type": "code",
   "execution_count": null,
   "id": "57636286-9ef0-41a1-bf5a-a472736f17ca",
   "metadata": {
    "scrolled": true
   },
   "outputs": [],
   "source": []
  },
  {
   "cell_type": "code",
   "execution_count": 106,
   "id": "f9f1e45c-c162-4269-a900-74888aeef18d",
   "metadata": {},
   "outputs": [
    {
     "data": {
      "text/plain": [
       "(3, 2, 4, 5)"
      ]
     },
     "execution_count": 106,
     "metadata": {},
     "output_type": "execute_result"
    }
   ],
   "source": [
    "dL_dA.shape"
   ]
  },
  {
   "cell_type": "code",
   "execution_count": 107,
   "id": "0852d1bd-d95f-4e28-8082-7f408354376f",
   "metadata": {},
   "outputs": [
    {
     "ename": "NameError",
     "evalue": "name 'dAttention_dSoftmax' is not defined",
     "output_type": "error",
     "traceback": [
      "\u001b[1;31m---------------------------------------------------------------------------\u001b[0m",
      "\u001b[1;31mNameError\u001b[0m                                 Traceback (most recent call last)",
      "Cell \u001b[1;32mIn[107], line 1\u001b[0m\n\u001b[1;32m----> 1\u001b[0m \u001b[43mdAttention_dSoftmax\u001b[49m\u001b[38;5;241m.\u001b[39mshape\n",
      "\u001b[1;31mNameError\u001b[0m: name 'dAttention_dSoftmax' is not defined"
     ]
    }
   ],
   "source": [
    "dAttention_dSoftmax.shape"
   ]
  },
  {
   "cell_type": "code",
   "execution_count": null,
   "id": "e977eb51-7758-462c-8e4c-31e33e3b4b83",
   "metadata": {},
   "outputs": [],
   "source": [
    "np.transpose(dL_dA,(0,1,3,2)).shape"
   ]
  },
  {
   "cell_type": "code",
   "execution_count": null,
   "id": "5c19c850-a7fd-4397-8150-4b0272af2186",
   "metadata": {},
   "outputs": [],
   "source": []
  },
  {
   "cell_type": "code",
   "execution_count": 108,
   "id": "fe169fae-c86f-4e0e-8718-6faef0b4e32e",
   "metadata": {},
   "outputs": [
    {
     "ename": "NameError",
     "evalue": "name 'dQKscaled_dQ' is not defined",
     "output_type": "error",
     "traceback": [
      "\u001b[1;31m---------------------------------------------------------------------------\u001b[0m",
      "\u001b[1;31mNameError\u001b[0m                                 Traceback (most recent call last)",
      "Cell \u001b[1;32mIn[108], line 1\u001b[0m\n\u001b[1;32m----> 1\u001b[0m np\u001b[38;5;241m.\u001b[39mtranspose(\u001b[43mdQKscaled_dQ\u001b[49m,(\u001b[38;5;241m0\u001b[39m,\u001b[38;5;241m1\u001b[39m,\u001b[38;5;241m3\u001b[39m,\u001b[38;5;241m2\u001b[39m))\u001b[38;5;241m.\u001b[39mshape\n",
      "\u001b[1;31mNameError\u001b[0m: name 'dQKscaled_dQ' is not defined"
     ]
    }
   ],
   "source": [
    "np.transpose(dQKscaled_dQ,(0,1,3,2)).shape"
   ]
  },
  {
   "cell_type": "code",
   "execution_count": 109,
   "id": "74ee5970-619d-458a-8384-e60d45911814",
   "metadata": {
    "scrolled": true
   },
   "outputs": [
    {
     "ename": "NameError",
     "evalue": "name 'dAttention_dSoftmax' is not defined",
     "output_type": "error",
     "traceback": [
      "\u001b[1;31m---------------------------------------------------------------------------\u001b[0m",
      "\u001b[1;31mNameError\u001b[0m                                 Traceback (most recent call last)",
      "Cell \u001b[1;32mIn[109], line 1\u001b[0m\n\u001b[1;32m----> 1\u001b[0m A\u001b[38;5;241m=\u001b[39mnp\u001b[38;5;241m.\u001b[39mtranspose(dL_dA,(\u001b[38;5;241m0\u001b[39m,\u001b[38;5;241m1\u001b[39m,\u001b[38;5;241m3\u001b[39m,\u001b[38;5;241m2\u001b[39m))\u001b[38;5;129m@dAttention_dSoftmax\u001b[39m\n\u001b[0;32m      2\u001b[0m A\u001b[38;5;241m.\u001b[39mshape                   \n",
      "\u001b[1;31mNameError\u001b[0m: name 'dAttention_dSoftmax' is not defined"
     ]
    }
   ],
   "source": [
    "A=np.transpose(dL_dA,(0,1,3,2))@dAttention_dSoftmax\n",
    "A.shape                   "
   ]
  },
  {
   "cell_type": "code",
   "execution_count": 110,
   "id": "d23797c1-89c7-466d-89ae-51132a788f15",
   "metadata": {},
   "outputs": [
    {
     "ename": "NameError",
     "evalue": "name 'dQKscaled_dQ' is not defined",
     "output_type": "error",
     "traceback": [
      "\u001b[1;31m---------------------------------------------------------------------------\u001b[0m",
      "\u001b[1;31mNameError\u001b[0m                                 Traceback (most recent call last)",
      "Cell \u001b[1;32mIn[110], line 1\u001b[0m\n\u001b[1;32m----> 1\u001b[0m \u001b[43mdQKscaled_dQ\u001b[49m\u001b[38;5;241m.\u001b[39mshape\n",
      "\u001b[1;31mNameError\u001b[0m: name 'dQKscaled_dQ' is not defined"
     ]
    }
   ],
   "source": [
    "dQKscaled_dQ.shape"
   ]
  },
  {
   "cell_type": "code",
   "execution_count": 111,
   "id": "e6030b70-988a-43de-a6a4-5092c736f038",
   "metadata": {
    "scrolled": true
   },
   "outputs": [
    {
     "ename": "NameError",
     "evalue": "name 'A' is not defined",
     "output_type": "error",
     "traceback": [
      "\u001b[1;31m---------------------------------------------------------------------------\u001b[0m",
      "\u001b[1;31mNameError\u001b[0m                                 Traceback (most recent call last)",
      "Cell \u001b[1;32mIn[111], line 1\u001b[0m\n\u001b[1;32m----> 1\u001b[0m B\u001b[38;5;241m=\u001b[39mnp\u001b[38;5;241m.\u001b[39mtranspose(\u001b[43mA\u001b[49m,(\u001b[38;5;241m0\u001b[39m,\u001b[38;5;241m1\u001b[39m,\u001b[38;5;241m3\u001b[39m,\u001b[38;5;241m2\u001b[39m))\u001b[38;5;129m@dQKscaled_dQ\u001b[39m\n\u001b[0;32m      2\u001b[0m B\u001b[38;5;241m.\u001b[39mshape\n",
      "\u001b[1;31mNameError\u001b[0m: name 'A' is not defined"
     ]
    }
   ],
   "source": [
    "B=np.transpose(A,(0,1,3,2))@dQKscaled_dQ\n",
    "B.shape"
   ]
  },
  {
   "cell_type": "code",
   "execution_count": 112,
   "id": "d91b9915-c25f-4e6d-9afb-d13baa5a15bf",
   "metadata": {
    "scrolled": true
   },
   "outputs": [
    {
     "ename": "NameError",
     "evalue": "name 'B' is not defined",
     "output_type": "error",
     "traceback": [
      "\u001b[1;31m---------------------------------------------------------------------------\u001b[0m",
      "\u001b[1;31mNameError\u001b[0m                                 Traceback (most recent call last)",
      "Cell \u001b[1;32mIn[112], line 1\u001b[0m\n\u001b[1;32m----> 1\u001b[0m np\u001b[38;5;241m.\u001b[39mtranspose(\u001b[43mB\u001b[49m,(\u001b[38;5;241m0\u001b[39m,\u001b[38;5;241m1\u001b[39m,\u001b[38;5;241m3\u001b[39m,\u001b[38;5;241m2\u001b[39m))\u001b[38;5;129m@Vval\u001b[39m \n",
      "\u001b[1;31mNameError\u001b[0m: name 'B' is not defined"
     ]
    }
   ],
   "source": [
    "np.transpose(B,(0,1,3,2))@Vval "
   ]
  },
  {
   "cell_type": "code",
   "execution_count": 113,
   "id": "0c19169b-63ac-4dbd-a137-b5652ba4ab56",
   "metadata": {},
   "outputs": [
    {
     "ename": "NameError",
     "evalue": "name 'A' is not defined",
     "output_type": "error",
     "traceback": [
      "\u001b[1;31m---------------------------------------------------------------------------\u001b[0m",
      "\u001b[1;31mNameError\u001b[0m                                 Traceback (most recent call last)",
      "Cell \u001b[1;32mIn[113], line 1\u001b[0m\n\u001b[1;32m----> 1\u001b[0m \u001b[43mA\u001b[49m\u001b[38;5;241m.\u001b[39mshape\n",
      "\u001b[1;31mNameError\u001b[0m: name 'A' is not defined"
     ]
    }
   ],
   "source": [
    "A.shape"
   ]
  },
  {
   "cell_type": "code",
   "execution_count": 114,
   "id": "f87a8204-4caa-42dd-b16a-8963959ce57d",
   "metadata": {},
   "outputs": [
    {
     "ename": "NameError",
     "evalue": "name 'dQKscaled_dQ' is not defined",
     "output_type": "error",
     "traceback": [
      "\u001b[1;31m---------------------------------------------------------------------------\u001b[0m",
      "\u001b[1;31mNameError\u001b[0m                                 Traceback (most recent call last)",
      "Cell \u001b[1;32mIn[114], line 1\u001b[0m\n\u001b[1;32m----> 1\u001b[0m \u001b[43mdQKscaled_dQ\u001b[49m\u001b[38;5;241m.\u001b[39mshape\n",
      "\u001b[1;31mNameError\u001b[0m: name 'dQKscaled_dQ' is not defined"
     ]
    }
   ],
   "source": [
    "dQKscaled_dQ.shape"
   ]
  },
  {
   "cell_type": "code",
   "execution_count": 115,
   "id": "a5965bcf-13e8-4337-add0-a3b89df2742b",
   "metadata": {
    "scrolled": true
   },
   "outputs": [
    {
     "ename": "ValueError",
     "evalue": "matmul: Input operand 1 has a mismatch in its core dimension 0, with gufunc signature (n?,k),(k,m?)->(n?,m?) (size 6 is different from 5)",
     "output_type": "error",
     "traceback": [
      "\u001b[1;31m---------------------------------------------------------------------------\u001b[0m",
      "\u001b[1;31mValueError\u001b[0m                                Traceback (most recent call last)",
      "Cell \u001b[1;32mIn[115], line 5\u001b[0m\n\u001b[0;32m      3\u001b[0m dAttention_dSoftmax\u001b[38;5;241m=\u001b[39mnp\u001b[38;5;241m.\u001b[39mmatmul(Attention_weights,(\u001b[38;5;241m1\u001b[39m\u001b[38;5;241m-\u001b[39mAttention_weights))\n\u001b[0;32m      4\u001b[0m A\u001b[38;5;241m=\u001b[39mnp\u001b[38;5;241m.\u001b[39mtranspose(dL_dA,(\u001b[38;5;241m0\u001b[39m,\u001b[38;5;241m1\u001b[39m,\u001b[38;5;241m3\u001b[39m,\u001b[38;5;241m2\u001b[39m))\u001b[38;5;129m@dAttention_dSoftmax\u001b[39m\n\u001b[1;32m----> 5\u001b[0m B\u001b[38;5;241m=\u001b[39m\u001b[43mnp\u001b[49m\u001b[38;5;241;43m.\u001b[39;49m\u001b[43mtranspose\u001b[49m\u001b[43m(\u001b[49m\u001b[43mA\u001b[49m\u001b[43m,\u001b[49m\u001b[43m(\u001b[49m\u001b[38;5;241;43m0\u001b[39;49m\u001b[43m,\u001b[49m\u001b[38;5;241;43m1\u001b[39;49m\u001b[43m,\u001b[49m\u001b[38;5;241;43m3\u001b[39;49m\u001b[43m,\u001b[49m\u001b[38;5;241;43m2\u001b[39;49m\u001b[43m)\u001b[49m\u001b[43m)\u001b[49m\u001b[38;5;129;43m@dQKscaled_dQ\u001b[39;49m\n\u001b[0;32m      6\u001b[0m C\u001b[38;5;241m=\u001b[39mnp\u001b[38;5;241m.\u001b[39mtranspose(B,(\u001b[38;5;241m0\u001b[39m,\u001b[38;5;241m1\u001b[39m,\u001b[38;5;241m3\u001b[39m,\u001b[38;5;241m2\u001b[39m))\u001b[38;5;129m@Vval\u001b[39m \n\u001b[0;32m      7\u001b[0m dLoss_dQ\u001b[38;5;241m=\u001b[39mnp\u001b[38;5;241m.\u001b[39mtranspose(np\u001b[38;5;241m.\u001b[39mmean(C,axis\u001b[38;5;241m=\u001b[39m\u001b[38;5;241m0\u001b[39m),(\u001b[38;5;241m0\u001b[39m,\u001b[38;5;241m2\u001b[39m,\u001b[38;5;241m1\u001b[39m))\n",
      "\u001b[1;31mValueError\u001b[0m: matmul: Input operand 1 has a mismatch in its core dimension 0, with gufunc signature (n?,k),(k,m?)->(n?,m?) (size 6 is different from 5)"
     ]
    }
   ],
   "source": [
    "#Gradient of Q\n",
    "dQKscaled_dQ=np.matmul(np.transpose(inputs,(0,2,1)).reshape(num_prases,1,inputs.shape[2],words_per_phrase),Kval)/np.sqrt(dk)\n",
    "dAttention_dSoftmax=np.matmul(Attention_weights,(1-Attention_weights))\n",
    "A=np.transpose(dL_dA,(0,1,3,2))@dAttention_dSoftmax\n",
    "B=np.transpose(A,(0,1,3,2))@dQKscaled_dQ\n",
    "C=np.transpose(B,(0,1,3,2))@Vval \n",
    "dLoss_dQ=np.transpose(np.mean(C,axis=0),(0,2,1))\n",
    "dLoss_dQ\n",
    "\n",
    " "
   ]
  },
  {
   "cell_type": "code",
   "execution_count": 323,
   "id": "6154c95b-a361-465f-952a-0c2ad481204f",
   "metadata": {},
   "outputs": [
    {
     "data": {
      "text/plain": [
       "(3, 6, 5)"
      ]
     },
     "execution_count": 323,
     "metadata": {},
     "output_type": "execute_result"
    }
   ],
   "source": [
    "dLoss_dQ.shape"
   ]
  },
  {
   "cell_type": "code",
   "execution_count": 324,
   "id": "0113ab83-caf6-4ae2-baa8-401b51721438",
   "metadata": {},
   "outputs": [
    {
     "data": {
      "text/plain": [
       "(3, 6, 5)"
      ]
     },
     "execution_count": 324,
     "metadata": {},
     "output_type": "execute_result"
    }
   ],
   "source": [
    "Q.shape"
   ]
  },
  {
   "cell_type": "code",
   "execution_count": 116,
   "id": "ee3113bd-d3ac-48ab-9eba-93de732e2fe4",
   "metadata": {
    "scrolled": true
   },
   "outputs": [
    {
     "ename": "ValueError",
     "evalue": "axes don't match array",
     "output_type": "error",
     "traceback": [
      "\u001b[1;31m---------------------------------------------------------------------------\u001b[0m",
      "\u001b[1;31mValueError\u001b[0m                                Traceback (most recent call last)",
      "Cell \u001b[1;32mIn[116], line 4\u001b[0m\n\u001b[0;32m      2\u001b[0m dQKscaled_dQ\u001b[38;5;241m=\u001b[39mnp\u001b[38;5;241m.\u001b[39mmatmul(np\u001b[38;5;241m.\u001b[39mtranspose(inputs,(\u001b[38;5;241m0\u001b[39m,\u001b[38;5;241m2\u001b[39m,\u001b[38;5;241m1\u001b[39m))\u001b[38;5;241m.\u001b[39mreshape(num_prases,\u001b[38;5;241m1\u001b[39m,inputs\u001b[38;5;241m.\u001b[39mshape[\u001b[38;5;241m2\u001b[39m],words_per_phrase),Kval)\u001b[38;5;241m/\u001b[39mnp\u001b[38;5;241m.\u001b[39msqrt(dk)\n\u001b[0;32m      3\u001b[0m dAttention_dSoftmax\u001b[38;5;241m=\u001b[39mnp\u001b[38;5;241m.\u001b[39mmatmul(Attention_weights,(\u001b[38;5;241m1\u001b[39m\u001b[38;5;241m-\u001b[39mAttention_weights))\n\u001b[1;32m----> 4\u001b[0m dLoss_dQ\u001b[38;5;241m=\u001b[39mnp\u001b[38;5;241m.\u001b[39mmean(np\u001b[38;5;241m.\u001b[39mtranspose(np\u001b[38;5;241m.\u001b[39mtranspose(\u001b[43mnp\u001b[49m\u001b[38;5;241;43m.\u001b[39;49m\u001b[43mtranspose\u001b[49m\u001b[43m(\u001b[49m\u001b[43mdL_dA\u001b[49m\u001b[43m,\u001b[49m\u001b[43m(\u001b[49m\u001b[38;5;241;43m0\u001b[39;49m\u001b[43m,\u001b[49m\u001b[38;5;241;43m2\u001b[39;49m\u001b[43m,\u001b[49m\u001b[38;5;241;43m1\u001b[39;49m\u001b[43m)\u001b[49m\u001b[43m)\u001b[49m\u001b[38;5;129m@dAttention_dSoftmax\u001b[39m,(\u001b[38;5;241m0\u001b[39m,\u001b[38;5;241m2\u001b[39m,\u001b[38;5;241m1\u001b[39m))\u001b[38;5;129m@np\u001b[39m\u001b[38;5;241m.\u001b[39mtranspose( dQKscaled_dQ,(\u001b[38;5;241m0\u001b[39m,\u001b[38;5;241m2\u001b[39m,\u001b[38;5;241m1\u001b[39m)),(\u001b[38;5;241m0\u001b[39m,\u001b[38;5;241m2\u001b[39m,\u001b[38;5;241m1\u001b[39m))\u001b[38;5;129m@Vval\u001b[39m,axis\u001b[38;5;241m=\u001b[39m\u001b[38;5;241m0\u001b[39m)\n\u001b[0;32m      5\u001b[0m dLoss_dQ\n",
      "File \u001b[1;32m~\\Desktop\\LLMs from scratch\\spacy_env\\Lib\\site-packages\\numpy\\core\\fromnumeric.py:655\u001b[0m, in \u001b[0;36mtranspose\u001b[1;34m(a, axes)\u001b[0m\n\u001b[0;32m    588\u001b[0m \u001b[38;5;129m@array_function_dispatch\u001b[39m(_transpose_dispatcher)\n\u001b[0;32m    589\u001b[0m \u001b[38;5;28;01mdef\u001b[39;00m \u001b[38;5;21mtranspose\u001b[39m(a, axes\u001b[38;5;241m=\u001b[39m\u001b[38;5;28;01mNone\u001b[39;00m):\n\u001b[0;32m    590\u001b[0m \u001b[38;5;250m    \u001b[39m\u001b[38;5;124;03m\"\"\"\u001b[39;00m\n\u001b[0;32m    591\u001b[0m \u001b[38;5;124;03m    Returns an array with axes transposed.\u001b[39;00m\n\u001b[0;32m    592\u001b[0m \n\u001b[1;32m   (...)\u001b[0m\n\u001b[0;32m    653\u001b[0m \n\u001b[0;32m    654\u001b[0m \u001b[38;5;124;03m    \"\"\"\u001b[39;00m\n\u001b[1;32m--> 655\u001b[0m     \u001b[38;5;28;01mreturn\u001b[39;00m \u001b[43m_wrapfunc\u001b[49m\u001b[43m(\u001b[49m\u001b[43ma\u001b[49m\u001b[43m,\u001b[49m\u001b[43m \u001b[49m\u001b[38;5;124;43m'\u001b[39;49m\u001b[38;5;124;43mtranspose\u001b[39;49m\u001b[38;5;124;43m'\u001b[39;49m\u001b[43m,\u001b[49m\u001b[43m \u001b[49m\u001b[43maxes\u001b[49m\u001b[43m)\u001b[49m\n",
      "File \u001b[1;32m~\\Desktop\\LLMs from scratch\\spacy_env\\Lib\\site-packages\\numpy\\core\\fromnumeric.py:59\u001b[0m, in \u001b[0;36m_wrapfunc\u001b[1;34m(obj, method, *args, **kwds)\u001b[0m\n\u001b[0;32m     56\u001b[0m     \u001b[38;5;28;01mreturn\u001b[39;00m _wrapit(obj, method, \u001b[38;5;241m*\u001b[39margs, \u001b[38;5;241m*\u001b[39m\u001b[38;5;241m*\u001b[39mkwds)\n\u001b[0;32m     58\u001b[0m \u001b[38;5;28;01mtry\u001b[39;00m:\n\u001b[1;32m---> 59\u001b[0m     \u001b[38;5;28;01mreturn\u001b[39;00m \u001b[43mbound\u001b[49m\u001b[43m(\u001b[49m\u001b[38;5;241;43m*\u001b[39;49m\u001b[43margs\u001b[49m\u001b[43m,\u001b[49m\u001b[43m \u001b[49m\u001b[38;5;241;43m*\u001b[39;49m\u001b[38;5;241;43m*\u001b[39;49m\u001b[43mkwds\u001b[49m\u001b[43m)\u001b[49m\n\u001b[0;32m     60\u001b[0m \u001b[38;5;28;01mexcept\u001b[39;00m \u001b[38;5;167;01mTypeError\u001b[39;00m:\n\u001b[0;32m     61\u001b[0m     \u001b[38;5;66;03m# A TypeError occurs if the object does have such a method in its\u001b[39;00m\n\u001b[0;32m     62\u001b[0m     \u001b[38;5;66;03m# class, but its signature is not identical to that of NumPy's. This\u001b[39;00m\n\u001b[1;32m   (...)\u001b[0m\n\u001b[0;32m     66\u001b[0m     \u001b[38;5;66;03m# Call _wrapit from within the except clause to ensure a potential\u001b[39;00m\n\u001b[0;32m     67\u001b[0m     \u001b[38;5;66;03m# exception has a traceback chain.\u001b[39;00m\n\u001b[0;32m     68\u001b[0m     \u001b[38;5;28;01mreturn\u001b[39;00m _wrapit(obj, method, \u001b[38;5;241m*\u001b[39margs, \u001b[38;5;241m*\u001b[39m\u001b[38;5;241m*\u001b[39mkwds)\n",
      "\u001b[1;31mValueError\u001b[0m: axes don't match array"
     ]
    }
   ],
   "source": [
    "#Gradient of Q\n",
    "dQKscaled_dQ=np.matmul(np.transpose(inputs,(0,2,1)).reshape(num_prases,1,inputs.shape[2],words_per_phrase),Kval)/np.sqrt(dk)\n",
    "dAttention_dSoftmax=np.matmul(Attention_weights,(1-Attention_weights))\n",
    "dLoss_dQ=np.mean(np.transpose(np.transpose(np.transpose(dL_dA,(0,2,1))@dAttention_dSoftmax,(0,2,1))@np.transpose( dQKscaled_dQ,(0,2,1)),(0,2,1))@Vval,axis=0)\n",
    "dLoss_dQ"
   ]
  },
  {
   "cell_type": "markdown",
   "id": "4271928d-103a-44e4-800d-ce8cc38c4bec",
   "metadata": {},
   "source": [
    "### Gradient of the loss with respect to values matrix K:\n",
    " \n",
    " \n",
    "The gradient of the loss with respect to queries matrix can be expressed as:\n",
    "\\\\[\n",
    "\\text{A} =\\sigma( \\frac{Q_{val}K_{val}^T}{\\sqrt{d_k}})V_{val}  \n",
    "\\\\]\n",
    "\\\\[ \n",
    "\\frac{\\partial Loss}{\\partial \\text{K}} =\\frac{\\partial Loss}{\\partial A} \\cdot \\frac{\\partial A}{\\partial K} \n",
    "\\\\] \n",
    "\\\\[ \n",
    "\\frac{\\partial A}{\\partial K}  = \\frac{\\partial \\sigma( \\frac{Q_{val}K_{val}^T}{\\sqrt{d_k}})}{\\partial K} \\cdot V_{val} \n",
    "\\\\] \n",
    "\\\\[ \n",
    "\\frac{\\partial \\sigma( \\frac{Q_{val}K_{val}^T}{\\sqrt{d_k}})}{\\partial K}   = \\sigma( \\frac{Q_{val}K_{val}^T}{\\sqrt{d_k}}) \\cdot [1-\\sigma( \\frac{Q_{val}K_{val}^T}{\\sqrt{d_k}})] \\cdot \n",
    "\\frac{\\partial (\\frac{Q_{val}K_{val}^T}{\\sqrt{d_k}})}{\\partial K}\n",
    "\\\\] \n",
    "\\\\[ \n",
    "\\frac{\\partial (\\frac{Q_{val}K_{val}^T}{\\sqrt{d_k}})}{\\partial K} = \\frac{\\partial (\\frac{Q_{val} \\cdot Inputs \\cdot K }{\\sqrt{d_k}})}{\\partial K}=\\frac{Q_{val} \\cdot Inputs}{\\sqrt{d_k}}\n",
    "\\\\]  \n",
    "\\\\[ \n",
    "\\frac{\\partial Loss}{\\partial \\text{K}} =\\frac{\\partial Loss}{\\partial A} \\cdot [\\sigma( \\frac{Q_{val}K_{val}^T}{\\sqrt{d_k}}) \\cdot [1-\\sigma( \\frac{Q_{val}K_{val}^T}{\\sqrt{d_k}})]] \\cdot \\frac{Q_{val} \\cdot Inputs}{\\sqrt{d_k}} \\cdot V_{val}\n",
    "\\\\] "
   ]
  },
  {
   "cell_type": "code",
   "execution_count": 326,
   "id": "38d4d6fd-5324-47f7-8247-134054db7ee9",
   "metadata": {
    "scrolled": true
   },
   "outputs": [
    {
     "data": {
      "text/plain": [
       "array([[[[0.13315715, 0.36160432, 0.3870892 , 0.4078847 , 0.28349901],\n",
       "         [0.2791403 , 0.38482965, 0.48216021, 0.49335054, 0.4837765 ],\n",
       "         [0.22351638, 0.46213427, 0.49217453, 0.53306329, 0.48519063],\n",
       "         [0.27752218, 0.42732385, 0.49753365, 0.57876492, 0.39402241]],\n",
       "\n",
       "        [[0.46183388, 0.32327784, 0.29735276, 0.32411487, 0.51005132],\n",
       "         [0.53980734, 0.47515922, 0.40018635, 0.43077769, 0.726098  ],\n",
       "         [0.68728035, 0.48894789, 0.46095752, 0.50693222, 0.73001509],\n",
       "         [0.59188693, 0.51441092, 0.45111115, 0.40773682, 0.74328136]],\n",
       "\n",
       "        [[0.29235756, 0.22250554, 0.47378881, 0.30647452, 0.28416896],\n",
       "         [0.36217101, 0.42308144, 0.47386521, 0.46357898, 0.42190007],\n",
       "         [0.42596616, 0.40717232, 0.63895836, 0.4824136 , 0.42962552],\n",
       "         [0.46073358, 0.36807765, 0.52029214, 0.49858521, 0.42415067]]],\n",
       "\n",
       "\n",
       "       [[[0.20201394, 0.47572828, 0.47672607, 0.54396823, 0.51715281],\n",
       "         [0.29596945, 0.46446822, 0.52575314, 0.60709827, 0.48811349],\n",
       "         [0.20908445, 0.45890679, 0.4915192 , 0.51824566, 0.49408969],\n",
       "         [0.25784595, 0.55525477, 0.6545037 , 0.61224924, 0.57768227]],\n",
       "\n",
       "        [[0.67706686, 0.46392368, 0.43025726, 0.50126501, 0.66803174],\n",
       "         [0.67361865, 0.56522258, 0.48642673, 0.49024795, 0.81755679],\n",
       "         [0.640311  , 0.45854352, 0.40923771, 0.48944206, 0.70076253],\n",
       "         [0.68956196, 0.51966588, 0.44249898, 0.55211307, 0.86937102]],\n",
       "\n",
       "        [[0.38328604, 0.41398526, 0.65709064, 0.47386152, 0.46392757],\n",
       "         [0.47106386, 0.44277368, 0.59172406, 0.55056958, 0.4789179 ],\n",
       "         [0.36353366, 0.39770462, 0.62188093, 0.45072633, 0.43034967],\n",
       "         [0.38753127, 0.44635865, 0.70798085, 0.49235434, 0.48962835]]],\n",
       "\n",
       "\n",
       "       [[[0.1232895 , 0.44449502, 0.48871217, 0.44099315, 0.33051166],\n",
       "         [0.30507354, 0.57996645, 0.66496134, 0.7151694 , 0.58620506],\n",
       "         [0.43276044, 0.5405659 , 0.77966545, 0.65180438, 0.74219799],\n",
       "         [0.23887343, 0.45719294, 0.57863729, 0.48497369, 0.48858038]],\n",
       "\n",
       "        [[0.55018259, 0.35628501, 0.31816763, 0.41426481, 0.6397273 ],\n",
       "         [0.73265547, 0.56865408, 0.52963351, 0.52704303, 0.84854355],\n",
       "         [0.80799335, 0.62176557, 0.72269528, 0.62178738, 1.01078114],\n",
       "         [0.65683523, 0.44267736, 0.49631242, 0.49667734, 0.75676338]],\n",
       "\n",
       "        [[0.29756973, 0.23607201, 0.59933003, 0.3119878 , 0.28968741],\n",
       "         [0.50478325, 0.4769879 , 0.71631089, 0.5771954 , 0.56600585],\n",
       "         [0.66588441, 0.63287246, 0.68064768, 0.65088926, 0.55704719],\n",
       "         [0.4587019 , 0.39251885, 0.61827979, 0.43543525, 0.36995715]]]])"
      ]
     },
     "execution_count": 326,
     "metadata": {},
     "output_type": "execute_result"
    }
   ],
   "source": [
    "Qval"
   ]
  },
  {
   "cell_type": "code",
   "execution_count": 327,
   "id": "c1f4a278-e55d-4dc6-8706-77c0e90b4f6c",
   "metadata": {
    "scrolled": true
   },
   "outputs": [
    {
     "data": {
      "text/plain": [
       "array([[[0.1, 0.2, 0.3, 0.4, 0.5, 0.3],\n",
       "        [0.5, 0.4, 0.7, 0.3, 0.2, 0.3],\n",
       "        [0.2, 0.7, 0.3, 0.5, 0.4, 0.4],\n",
       "        [0.4, 0.1, 0.7, 0.2, 0.5, 0.7]],\n",
       "\n",
       "       [[0.1, 0.9, 0.3, 0.4, 0.5, 0.2],\n",
       "        [0.4, 0.4, 0.7, 0.3, 0.4, 0.6],\n",
       "        [0.2, 0.7, 0.4, 0.5, 0.4, 0.2],\n",
       "        [0.4, 0.5, 0.7, 0.7, 0.5, 0.1]],\n",
       "\n",
       "       [[0.1, 0.2, 0.3, 0.8, 0.5, 0.2],\n",
       "        [0.4, 0.5, 0.7, 0.3, 0.8, 0.4],\n",
       "        [0.9, 0.7, 0.3, 0.5, 0.4, 0.6],\n",
       "        [0.4, 0.5, 0.1, 0.7, 0.4, 0.4]]])"
      ]
     },
     "execution_count": 327,
     "metadata": {},
     "output_type": "execute_result"
    }
   ],
   "source": [
    "inputs"
   ]
  },
  {
   "cell_type": "code",
   "execution_count": 328,
   "id": "a013d29a-cc13-4afa-bd3a-4b17fe939130",
   "metadata": {},
   "outputs": [
    {
     "data": {
      "text/plain": [
       "((3, 3, 4, 5), (3, 4, 6))"
      ]
     },
     "execution_count": 328,
     "metadata": {},
     "output_type": "execute_result"
    }
   ],
   "source": [
    "Qval.shape,inputs.shape"
   ]
  },
  {
   "cell_type": "code",
   "execution_count": 329,
   "id": "18f4d913-d9f6-4b2d-86ee-2c913786f10d",
   "metadata": {},
   "outputs": [
    {
     "data": {
      "text/plain": [
       "(3, 3, 5, 4)"
      ]
     },
     "execution_count": 329,
     "metadata": {},
     "output_type": "execute_result"
    }
   ],
   "source": [
    "np.transpose(Qval,(0,1,3,2)).shape"
   ]
  },
  {
   "cell_type": "code",
   "execution_count": null,
   "id": "842f7768-b335-497d-9a91-d34ad5ac4a5e",
   "metadata": {},
   "outputs": [],
   "source": []
  },
  {
   "cell_type": "code",
   "execution_count": 330,
   "id": "b6a0be64-e78c-4375-bf5a-9f3a69af453f",
   "metadata": {
    "scrolled": true
   },
   "outputs": [
    {
     "data": {
      "text/plain": [
       "(3, 3, 5, 6)"
      ]
     },
     "execution_count": 330,
     "metadata": {},
     "output_type": "execute_result"
    }
   ],
   "source": [
    "dQKscaled_dK=np.transpose(Qval,(0,1,3,2))@inputs.reshape(num_prases,1,words_per_phrase,inputs.shape[2])/np.sqrt(dk)\n",
    "dQKscaled_dK.shape"
   ]
  },
  {
   "cell_type": "code",
   "execution_count": null,
   "id": "7d5e58c0-eb7b-4e39-9ca3-0c4fd80c03cf",
   "metadata": {},
   "outputs": [],
   "source": []
  },
  {
   "cell_type": "code",
   "execution_count": 331,
   "id": "e74cbcf6-fcac-4b9a-85e7-5e4ec5766b95",
   "metadata": {
    "scrolled": true
   },
   "outputs": [
    {
     "data": {
      "text/plain": [
       "(3, 3, 6, 4)"
      ]
     },
     "execution_count": 331,
     "metadata": {},
     "output_type": "execute_result"
    }
   ],
   "source": [
    "A=np.transpose(dL_dA,(0,1,3,2))@dAttention_dSoftmax\n",
    "A.shape"
   ]
  },
  {
   "cell_type": "code",
   "execution_count": 332,
   "id": "2ca40c4d-24b1-435a-8d4b-d0d300f4b58a",
   "metadata": {},
   "outputs": [
    {
     "data": {
      "text/plain": [
       "(3, 3, 5, 6)"
      ]
     },
     "execution_count": 332,
     "metadata": {},
     "output_type": "execute_result"
    }
   ],
   "source": [
    "dQKscaled_dK.shape"
   ]
  },
  {
   "cell_type": "code",
   "execution_count": 333,
   "id": "76c8e73e-b568-4110-b8e2-1c2a1f08fb58",
   "metadata": {},
   "outputs": [
    {
     "data": {
      "text/plain": [
       "(3, 3, 6, 5)"
      ]
     },
     "execution_count": 333,
     "metadata": {},
     "output_type": "execute_result"
    }
   ],
   "source": [
    "np.transpose(dQKscaled_dK,(0,1,3,2)).shape"
   ]
  },
  {
   "cell_type": "code",
   "execution_count": 334,
   "id": "4c50188d-91c7-4418-8643-edfbb875ceac",
   "metadata": {},
   "outputs": [
    {
     "data": {
      "text/plain": [
       "(3, 3, 4, 5)"
      ]
     },
     "execution_count": 334,
     "metadata": {},
     "output_type": "execute_result"
    }
   ],
   "source": [
    "B=np.transpose(A,(0,1,3,2))@np.transpose(dQKscaled_dK,(0,1,3,2)) \n",
    "B.shape"
   ]
  },
  {
   "cell_type": "code",
   "execution_count": 335,
   "id": "02b0cb3c-7a85-42c9-9d5e-089fda8346b9",
   "metadata": {},
   "outputs": [
    {
     "data": {
      "text/plain": [
       "(3, 3, 4, 6)"
      ]
     },
     "execution_count": 335,
     "metadata": {},
     "output_type": "execute_result"
    }
   ],
   "source": [
    "Vval.shape"
   ]
  },
  {
   "cell_type": "code",
   "execution_count": 336,
   "id": "f96a2a18-f38a-4775-bb86-5fbe6a8807b3",
   "metadata": {},
   "outputs": [
    {
     "data": {
      "text/plain": [
       "array([[[0.4169357 , 0.30186363, 0.34419425, 0.23502904, 0.32662851,\n",
       "         0.31072044],\n",
       "        [0.30932963, 0.22403817, 0.25588742, 0.1737776 , 0.24155532,\n",
       "         0.23091452],\n",
       "        [0.42908947, 0.31097847, 0.35412103, 0.24407391, 0.33902599,\n",
       "         0.32211283],\n",
       "        [0.5635516 , 0.40851269, 0.46586541, 0.31945499, 0.44382374,\n",
       "         0.42335686],\n",
       "        [0.29097067, 0.21068087, 0.24057167, 0.16335649, 0.22707718,\n",
       "         0.2168209 ]],\n",
       "\n",
       "       [[0.52034467, 0.45738922, 0.46433001, 0.45151806, 0.39513784,\n",
       "         0.49152739],\n",
       "        [0.46468998, 0.40661999, 0.41404908, 0.4030244 , 0.34935266,\n",
       "         0.43735076],\n",
       "        [0.40860874, 0.35869396, 0.36449342, 0.35446122, 0.30947628,\n",
       "         0.38550121],\n",
       "        [0.47508958, 0.41660834, 0.42349181, 0.41232885, 0.35847669,\n",
       "         0.44815612],\n",
       "        [0.52980829, 0.46564822, 0.47253832, 0.4600627 , 0.40151321,\n",
       "         0.50085877]],\n",
       "\n",
       "       [[0.57481968, 0.40871946, 0.37473369, 0.55996618, 0.45650519,\n",
       "         0.70048358],\n",
       "        [0.47636277, 0.3382521 , 0.31036362, 0.46373498, 0.3785589 ,\n",
       "         0.58078912],\n",
       "        [0.39514254, 0.2816675 , 0.25757378, 0.3851429 , 0.31370562,\n",
       "         0.48113654],\n",
       "        [0.46285483, 0.32926165, 0.30145103, 0.4506842 , 0.36781389,\n",
       "         0.56400211],\n",
       "        [0.32754399, 0.23291446, 0.2134678 , 0.3190294 , 0.2601782 ,\n",
       "         0.39914997]]])"
      ]
     },
     "execution_count": 336,
     "metadata": {},
     "output_type": "execute_result"
    }
   ],
   "source": [
    "np.mean(C,axis=0)"
   ]
  },
  {
   "cell_type": "code",
   "execution_count": 117,
   "id": "7873e792-bda8-4516-b845-7d7b998e8690",
   "metadata": {},
   "outputs": [
    {
     "ename": "ValueError",
     "evalue": "matmul: Input operand 1 has a mismatch in its core dimension 0, with gufunc signature (n?,k),(k,m?)->(n?,m?) (size 6 is different from 5)",
     "output_type": "error",
     "traceback": [
      "\u001b[1;31m---------------------------------------------------------------------------\u001b[0m",
      "\u001b[1;31mValueError\u001b[0m                                Traceback (most recent call last)",
      "Cell \u001b[1;32mIn[117], line 5\u001b[0m\n\u001b[0;32m      3\u001b[0m dAttention_dSoftmax\u001b[38;5;241m=\u001b[39mnp\u001b[38;5;241m.\u001b[39mmatmul(Attention_weights,(\u001b[38;5;241m1\u001b[39m\u001b[38;5;241m-\u001b[39mAttention_weights))\n\u001b[0;32m      4\u001b[0m A\u001b[38;5;241m=\u001b[39mnp\u001b[38;5;241m.\u001b[39mtranspose(dL_dA,(\u001b[38;5;241m0\u001b[39m,\u001b[38;5;241m1\u001b[39m,\u001b[38;5;241m3\u001b[39m,\u001b[38;5;241m2\u001b[39m))\u001b[38;5;129m@dAttention_dSoftmax\u001b[39m\n\u001b[1;32m----> 5\u001b[0m B\u001b[38;5;241m=\u001b[39m\u001b[43mnp\u001b[49m\u001b[38;5;241;43m.\u001b[39;49m\u001b[43mtranspose\u001b[49m\u001b[43m(\u001b[49m\u001b[43mA\u001b[49m\u001b[43m,\u001b[49m\u001b[43m(\u001b[49m\u001b[38;5;241;43m0\u001b[39;49m\u001b[43m,\u001b[49m\u001b[38;5;241;43m1\u001b[39;49m\u001b[43m,\u001b[49m\u001b[38;5;241;43m3\u001b[39;49m\u001b[43m,\u001b[49m\u001b[38;5;241;43m2\u001b[39;49m\u001b[43m)\u001b[49m\u001b[43m)\u001b[49m\u001b[38;5;129;43m@np\u001b[39;49m\u001b[38;5;241;43m.\u001b[39;49m\u001b[43mtranspose\u001b[49m\u001b[43m(\u001b[49m\u001b[43mdQKscaled_dK\u001b[49m\u001b[43m,\u001b[49m\u001b[43m(\u001b[49m\u001b[38;5;241;43m0\u001b[39;49m\u001b[43m,\u001b[49m\u001b[38;5;241;43m1\u001b[39;49m\u001b[43m,\u001b[49m\u001b[38;5;241;43m3\u001b[39;49m\u001b[43m,\u001b[49m\u001b[38;5;241;43m2\u001b[39;49m\u001b[43m)\u001b[49m\u001b[43m)\u001b[49m \n\u001b[0;32m      6\u001b[0m C\u001b[38;5;241m=\u001b[39mnp\u001b[38;5;241m.\u001b[39mtranspose(B,(\u001b[38;5;241m0\u001b[39m,\u001b[38;5;241m1\u001b[39m,\u001b[38;5;241m3\u001b[39m,\u001b[38;5;241m2\u001b[39m))\u001b[38;5;129m@Vval\u001b[39m\n\u001b[0;32m      7\u001b[0m dLoss_dK\u001b[38;5;241m=\u001b[39mnp\u001b[38;5;241m.\u001b[39mtranspose(np\u001b[38;5;241m.\u001b[39mmean(C,axis\u001b[38;5;241m=\u001b[39m\u001b[38;5;241m0\u001b[39m),(\u001b[38;5;241m0\u001b[39m,\u001b[38;5;241m2\u001b[39m,\u001b[38;5;241m1\u001b[39m))\n",
      "\u001b[1;31mValueError\u001b[0m: matmul: Input operand 1 has a mismatch in its core dimension 0, with gufunc signature (n?,k),(k,m?)->(n?,m?) (size 6 is different from 5)"
     ]
    }
   ],
   "source": [
    " \n",
    "#gradient of K\n",
    "dQKscaled_dK=np.transpose(Qval,(0,1,3,2))@inputs.reshape(num_prases,1,words_per_phrase,inputs.shape[2])/np.sqrt(dk)\n",
    "dAttention_dSoftmax=np.matmul(Attention_weights,(1-Attention_weights))\n",
    "A=np.transpose(dL_dA,(0,1,3,2))@dAttention_dSoftmax\n",
    "B=np.transpose(A,(0,1,3,2))@np.transpose(dQKscaled_dK,(0,1,3,2)) \n",
    "C=np.transpose(B,(0,1,3,2))@Vval\n",
    "dLoss_dK=np.transpose(np.mean(C,axis=0),(0,2,1))\n",
    "dLoss_dK\n"
   ]
  },
  {
   "cell_type": "code",
   "execution_count": null,
   "id": "9640378f-b399-40f2-9251-4531500c6a43",
   "metadata": {},
   "outputs": [],
   "source": []
  },
  {
   "cell_type": "code",
   "execution_count": 341,
   "id": "6104f84f-0b8e-4fde-b0f8-1c183e99cd67",
   "metadata": {
    "scrolled": true
   },
   "outputs": [
    {
     "data": {
      "text/plain": [
       "(3, 6, 5)"
      ]
     },
     "execution_count": 341,
     "metadata": {},
     "output_type": "execute_result"
    }
   ],
   "source": [
    "dLoss_dK.shape"
   ]
  },
  {
   "cell_type": "code",
   "execution_count": 342,
   "id": "5b4cd2e4-89bc-4b91-9d6f-cbebe65dc0c6",
   "metadata": {},
   "outputs": [
    {
     "data": {
      "text/plain": [
       "(3, 6, 5)"
      ]
     },
     "execution_count": 342,
     "metadata": {},
     "output_type": "execute_result"
    }
   ],
   "source": [
    "K.shape"
   ]
  },
  {
   "cell_type": "markdown",
   "id": "74766bc9-de8b-48d3-b7c4-fd377c1508bf",
   "metadata": {},
   "source": [
    "Adding all the gradients in the backpropagation of our classifier we get:"
   ]
  },
  {
   "cell_type": "code",
   "execution_count": 343,
   "id": "a76b2355-c353-4cfc-8167-e842ff53b484",
   "metadata": {},
   "outputs": [],
   "source": [
    "class QKVAttentionClassifier: \n",
    "    def BackPropagation(self, dLoss_dSigma_Zout, inputs):\n",
    "        \n",
    "        # Gradient for linear layer\n",
    "        dlinear_dW = np.dot(self.phrase_representation.T, dLoss_dSigma_Zout)\n",
    "\n",
    "        # Gradient for bias\n",
    "        d_bias = np.sum(dLoss_dSigma_Zout, axis=0)\n",
    "        \n",
    "         # Gradient for phrase representation\n",
    "        d_phrase_rep = np.dot(dLoss_dSigma_Zout, self.linearlayer.T)\n",
    "\n",
    "        # Gradient for attention\n",
    "        dL_dA = np.array([np.outer(np.ones(self.words_per_phrase), d_phrase_rep[i, :]) for i in range(d_phrase_rep.shape[0])])\n",
    "\n",
    "        # Gradient for V\n",
    "        d_Vval=np.matmul(np.transpose(d_attention,(0,2,1)), self.Attention_weights) \n",
    "        dLoss_dV = np.mean(np.matmul(d_Vval,inputs),axis=0).T\n",
    "        \n",
    "        #Gradient of softmax\n",
    "        dAttention_dSoftmax=np.matmul(self.Attention_weights,(1-self.Attention_weights))\n",
    "        \n",
    "        #Gradient of Q\n",
    "        dQKscaled_dQ=np.matmul(np.transpose(inputs,(0,2,1)),self.Kval)/np.sqrt(self.dk)\n",
    "        dLoss_dQ=np.mean(np.transpose(np.transpose(np.transpose(dL_dA,(0,2,1))@dAttention_dSoftmax,(0,2,1))@np.transpose( dQKscaled_dQ,(0,2,1)),(0,2,1))@self.Vval,axis=0)\n",
    "        \n",
    "        #Gradient of K\n",
    "        dQKscaled_dK=np.transpose(self.Qval,(0,2,1))@inputs/np.sqrt(self.dk) \n",
    "        dLoss_dK=np.mean(np.transpose(np.transpose(np.transpose(dL_dA,(0,2,1))@dAttention_dSoftmax,(0,2,1))@dQKscaled_dK,(0,2,1))@Vself.val,axis=0)"
   ]
  },
  {
   "cell_type": "markdown",
   "id": "72b98c1f-4438-4183-af8a-3855d863b94d",
   "metadata": {},
   "source": [
    "### Parameters update:\n",
    " \n",
    " \n",
    "Fixing a value for the learning rate \\eta we can now proceed to update the model parameters:\n",
    "\\\\[\n",
    "\\text{Q} = \\text{Q} - \\eta \\cdot \\frac{\\partial Loss}{\\partial Q}\\\\   \n",
    "\\\\]\n",
    "\\\\[ \n",
    "\\text{V} = \\text{V} - \\eta \\cdot \\frac{\\partial Loss}{\\partial V}\\\\ \n",
    "\\\\] \n",
    "\\\\[ \n",
    "\\text{K} = \\text{K} - \\eta \\cdot \\frac{\\partial Loss}{\\partial K}\\\\  \n",
    "\\\\] \n",
    "\\\\[ \n",
    "\\text{W} = \\text{W} - \\eta \\cdot \\frac{\\partial Loss}{\\partial W}\\\\  \n",
    "\\\\] \n",
    "\\\\[ \n",
    "\\text{b} = \\text{b} - \\eta \\cdot \\frac{\\partial Loss}{\\partial b}\\\\  \n",
    "\\\\]  "
   ]
  },
  {
   "cell_type": "code",
   "execution_count": null,
   "id": "f3dee326-dcbc-4cf4-9477-0d23a66a45fc",
   "metadata": {},
   "outputs": [],
   "source": []
  },
  {
   "cell_type": "code",
   "execution_count": 344,
   "id": "1c179624-513e-4b6e-81f2-0e468523eb1e",
   "metadata": {},
   "outputs": [],
   "source": [
    "# Update weights\n",
    "learning_rate=0.001\n",
    "Q -= learning_rate * dLoss_dQ\n",
    "K -= learning_rate * dLoss_dK\n",
    "V -= learning_rate * dLoss_dV\n",
    "linearlayer -= learning_rate * d_linear\n",
    "linear_bias -= learning_rate * d_bias"
   ]
  },
  {
   "cell_type": "markdown",
   "id": "5538f436-433c-419c-a253-c0efe256a5e0",
   "metadata": {},
   "source": [
    "Putting together all the steps we finally have the classification model:"
   ]
  },
  {
   "cell_type": "code",
   "execution_count": 284,
   "id": "df45d5ed-1d29-4f99-a24b-529148fe03f4",
   "metadata": {},
   "outputs": [],
   "source": [
    "class QKVAttentionClassifier:\n",
    "    def __init__(self, word_len, words_per_phrase, batch_size, dk, dv, num_classes):\n",
    "\n",
    "        self.word_len = word_len\n",
    "        self.batch_size = batch_size\n",
    "        self.dk = dk\n",
    "        self.dv = dv\n",
    "        self.num_classes = num_classes\n",
    "        self.words_per_phrase = words_per_phrase\n",
    "        \n",
    "        # Initialize weights with Xavier/Glorot initialization\n",
    "        self.Q = np.random.randn(self.word_len, self.dk) / np.sqrt(self.word_len)  # * 0.01\n",
    "        self.K = np.random.randn(self.word_len, self.dk) / np.sqrt(self.word_len)  # * 0.01\n",
    "        self.V = np.random.randn(self.word_len, self.dk) / np.sqrt(self.word_len)  # * 0.01\n",
    "\n",
    "        # Initialize linear layer weights\n",
    "        self.linearlayer = np.random.randn(self.dk, self.num_classes) / np.sqrt(self.dk)\n",
    "        self.linear_bias = np.zeros(self.num_classes)\n",
    "\n",
    "    def softmax(self, x, axis=-1):\n",
    "        x = np.clip(x, -1e4, 1e4)  # Clip for numerical stability\n",
    "        e_x = np.exp(x - np.max(x, axis=axis, keepdims=True))\n",
    "        return e_x / np.sum(e_x, axis=axis, keepdims=True)\n",
    "\n",
    "    def cross_entropy_loss(self, predictions, target):\n",
    "        # Cross-entropy loss for a batch of predictions and targets\n",
    "        batch_loss = -np.sum(target * np.log(predictions + 1e-9), axis=1)\n",
    "        return np.mean(batch_loss)\n",
    "\n",
    "    def AttentionHead(self, Inputs):\n",
    "        self.Qval = np.dot(Inputs, self.Q)\n",
    "        self.Kval = np.dot(Inputs, self.K)\n",
    "        self.Vval = np.dot(Inputs, self.V)\n",
    "\n",
    "        QKscaled = np.matmul(self.Qval, np.transpose(self.Kval, (0, 2, 1))) / np.sqrt(self.K.shape[1])\n",
    "        # QKscaled = np.clip(QKscaled, -1e2, 1e2)\n",
    "        self.Attention_weights = self.softmax(QKscaled)\n",
    "\n",
    "        return np.matmul(self.Attention_weights, self.Vval)\n",
    "\n",
    "    def LinearLayer(self):\n",
    "        output = np.matmul(self.phrase_representation, self.linearlayer) + self.linear_bias\n",
    "        return output\n",
    "\n",
    "    def forward(self, Inputs):\n",
    "\n",
    "        Attention = self.AttentionHead(Inputs)\n",
    "\n",
    "        self.phrase_representation = np.mean(Attention, axis=1)\n",
    "\n",
    "        Zout = self.LinearLayer()\n",
    "\n",
    "        Sigma_Zout = self.softmax(Zout)\n",
    "\n",
    "        return Sigma_Zout\n",
    "        \n",
    "    def BackPropagation(self, dLoss_dSigma_Zout, inputs):\n",
    "        \n",
    "        # Gradient for linear layer\n",
    "        dlinear_dW = np.dot(self.phrase_representation.T, dLoss_dSigma_Zout)\n",
    "\n",
    "        # Gradient for bias\n",
    "        d_bias = np.sum(dLoss_dSigma_Zout, axis=0)\n",
    "        \n",
    "         # Gradient for phrase representation\n",
    "        d_phrase_rep = np.dot(dLoss_dSigma_Zout, self.linearlayer.T)\n",
    "\n",
    "        # Gradient for attention\n",
    "        dL_dA = np.array([np.outer(np.ones(self.words_per_phrase), d_phrase_rep[i, :]) for i in range(d_phrase_rep.shape[0])])\n",
    "\n",
    "        # Gradient for V\n",
    "        d_Vval=np.matmul(np.transpose(dL_dA,(0,2,1)), self.Attention_weights) \n",
    "        dLoss_dV = np.mean(np.matmul(d_Vval,inputs),axis=0).T\n",
    "        \n",
    "        #Gradient of softmax\n",
    "        dAttention_dSoftmax=np.matmul(self.Attention_weights,(1-self.Attention_weights))\n",
    "        \n",
    "        #Gradient of Q\n",
    "        dQKscaled_dQ=np.matmul(np.transpose(inputs,(0,2,1)),self.Kval)/np.sqrt(self.dk)\n",
    "        dLoss_dQ=np.mean(np.transpose(np.transpose(np.transpose(dL_dA,(0,2,1))@dAttention_dSoftmax,(0,2,1))@np.transpose( dQKscaled_dQ,(0,2,1)),(0,2,1))@self.Vval,axis=0)\n",
    "        \n",
    "        #Gradient of K\n",
    "        dQKscaled_dK=np.transpose(self.Qval,(0,2,1))@inputs/np.sqrt(dk) \n",
    "        dLoss_dK=np.mean(np.transpose(np.transpose(np.transpose(dL_dA,(0,2,1))@dAttention_dSoftmax,(0,2,1))@dQKscaled_dK,(0,2,1))@self.Vval,axis=0)\n",
    "        \n",
    "        #Gradient clipping\n",
    "        clip_value = 10.0\n",
    "        dLoss_dQ = np.clip(dLoss_dQ, -clip_value, clip_value)\n",
    "        dLoss_dK = np.clip(dLoss_dK, -clip_value, clip_value)\n",
    "        dLoss_dV = np.clip(dLoss_dV, -clip_value, clip_value)\n",
    "        dlinear_dW = np.clip(dlinear_dW, -clip_value, clip_value)\n",
    "        d_bias = np.clip(d_bias, -clip_value, clip_value)\n",
    "\n",
    "        self.UpdateParams(dLoss_dQ,dLoss_dK,dLoss_dV,dlinear_dW,d_bias)\n",
    "\n",
    "    def UpdateParams(self, dLoss_dQ, dLoss_dK, dLoss_dV, dlinear_dW, d_bias):\n",
    "        self.Q -= self.learning_rate * dLoss_dQ\n",
    "        self.K -= self.learning_rate * dLoss_dK\n",
    "        self.V -= self.learning_rate * dLoss_dV\n",
    "        self.linearlayer -= self.learning_rate * dlinear_dW\n",
    "        self.linear_bias -= self.learning_rate * d_bias\n",
    "\n",
    "    def train(self, X_train, y_train, num_epochs, learning_rate=0.01):\n",
    "\n",
    "        self.learning_rate = learning_rate\n",
    "\n",
    "        for epoch in range(num_epochs):\n",
    "\n",
    "            total_loss = 0\n",
    "\n",
    "            num_batches_per_epoch = len(X_train) // self.batch_size\n",
    "\n",
    "            for i in tqdm(range(num_batches_per_epoch), desc=f\"Epoch {epoch + 1}/{num_epochs}\"):\n",
    "                start = i * self.batch_size\n",
    "                end = start + self.batch_size\n",
    "                X_batch = X_train[start:end]\n",
    "                y_batch = y_train[start:end]\n",
    "\n",
    "                yi = self.forward(X_batch)\n",
    "\n",
    "                Loss = self.cross_entropy_loss(yi, y_batch)\n",
    "                total_loss += Loss\n",
    "\n",
    "                dLoss_dSigma_Zout = yi - y_batch\n",
    "\n",
    "                self.BackPropagation(dLoss_dSigma_Zout, X_batch)\n",
    "\n",
    "            print(f\"Epoch {epoch + 1}/{num_epochs}, Loss: {(total_loss / num_batches_per_epoch):.4f}\")\n",
    "\n",
    "    def predict(self, X):\n",
    "        return self.forward(X)"
   ]
  },
  {
   "cell_type": "code",
   "execution_count": null,
   "id": "614bc7b6-8229-4c26-b4a7-7bbf02cf12b3",
   "metadata": {},
   "outputs": [],
   "source": []
  },
  {
   "cell_type": "code",
   "execution_count": null,
   "id": "e45cab89-4a7a-49b2-8446-fa5d45449e82",
   "metadata": {},
   "outputs": [],
   "source": []
  },
  {
   "cell_type": "code",
   "execution_count": null,
   "id": "4b50a552-3422-4b37-8713-d4ec13830644",
   "metadata": {},
   "outputs": [],
   "source": []
  },
  {
   "cell_type": "code",
   "execution_count": 79,
   "id": "73d48560-3e6e-4f76-b6fb-ea168a2988ed",
   "metadata": {
    "scrolled": true
   },
   "outputs": [],
   "source": [
    "\n"
   ]
  },
  {
   "cell_type": "code",
   "execution_count": 28,
   "id": "2898e162-809a-4934-8945-a7bebc9cf396",
   "metadata": {},
   "outputs": [],
   "source": []
  },
  {
   "cell_type": "code",
   "execution_count": null,
   "id": "ba720f59-28b9-4c2f-b129-677a567505fd",
   "metadata": {},
   "outputs": [],
   "source": []
  },
  {
   "cell_type": "code",
   "execution_count": null,
   "id": "e1446c00-9370-4bf4-ad93-ae0f79e846f9",
   "metadata": {},
   "outputs": [],
   "source": []
  },
  {
   "cell_type": "code",
   "execution_count": 42,
   "id": "b036f928-2902-4ece-92f6-abf185e4fe51",
   "metadata": {},
   "outputs": [
    {
     "data": {
      "text/plain": [
       "((1891,), (334,), (1891, 5), (334, 5))"
      ]
     },
     "execution_count": 42,
     "metadata": {},
     "output_type": "execute_result"
    }
   ],
   "source": [
    "import numpy as np\n",
    "from tqdm import tqdm\n",
    "import sys\n",
    "sys.path.append('c:\\\\python312\\\\lib\\\\site-packages')\n",
    "import pickle\n",
    "import spacy\n",
    "import numpy as np\n",
    "import pandas as pd\n",
    "from tqdm import tqdm\n",
    " \n",
    "\n",
    "df=pd.read_csv(\"data/bbc-text.csv\")\n",
    "nlp = spacy.load('en_core_web_lg')\n",
    "with open('data/InputProcessed.pkl', 'rb') as f:\n",
    "    X = pickle.load(f)\n",
    "\n",
    "y = np.array(pd.get_dummies(df[\"category\"], dtype=int))\n",
    "tts=0.85\n",
    "X_train,X_test=X[0:round(tts*len(X))],X[round(tts*len(X)):]\n",
    "y_train,y_test=y[0:round(tts*len(X))],y[round(tts*len(X)):]\n",
    "X_train.shape,X_test.shape,y_train.shape,y_test.shape\n"
   ]
  },
  {
   "cell_type": "code",
   "execution_count": 43,
   "id": "31b2fbaa-eae7-4ef1-b209-cb2d3243470c",
   "metadata": {},
   "outputs": [
    {
     "data": {
      "text/plain": [
       "((1668,), (557,), (1668, 5), (557, 5))"
      ]
     },
     "execution_count": 43,
     "metadata": {},
     "output_type": "execute_result"
    }
   ],
   "source": [
    "from sklearn.model_selection import train_test_split\n",
    "X_train, X_test, y_train, y_test = train_test_split(\n",
    "    X, y, test_size=0.25, random_state=42)\n",
    "X_train.shape,X_test.shape,y_train.shape,y_test.shape"
   ]
  },
  {
   "cell_type": "code",
   "execution_count": 45,
   "id": "28528f67-f07e-45d8-97ef-747667fbe72a",
   "metadata": {},
   "outputs": [
    {
     "name": "stderr",
     "output_type": "stream",
     "text": [
      "Epoch 1/125:   0%|                                                                              | 0/26 [00:05<?, ?it/s]\n"
     ]
    },
    {
     "ename": "ValueError",
     "evalue": "matmul: Input operand 1 has a mismatch in its core dimension 0, with gufunc signature (n?,k),(k,m?)->(n?,m?) (size 64 is different from 300)",
     "output_type": "error",
     "traceback": [
      "\u001b[1;31m---------------------------------------------------------------------------\u001b[0m",
      "\u001b[1;31mValueError\u001b[0m                                Traceback (most recent call last)",
      "Cell \u001b[1;32mIn[45], line 177\u001b[0m\n\u001b[0;32m    174\u001b[0m X_train_padded \u001b[38;5;241m=\u001b[39m pad_sequences(X_train, max_seq_length)\n\u001b[0;32m    176\u001b[0m model \u001b[38;5;241m=\u001b[39m QKVAttentionClassifier(word_len, word_per_phrase, batch_size, dk, dv, num_classes)\n\u001b[1;32m--> 177\u001b[0m \u001b[43mmodel\u001b[49m\u001b[38;5;241;43m.\u001b[39;49m\u001b[43mtrain\u001b[49m\u001b[43m(\u001b[49m\u001b[43mX_train_padded\u001b[49m\u001b[43m,\u001b[49m\u001b[43m \u001b[49m\u001b[43my_train\u001b[49m\u001b[43m,\u001b[49m\u001b[43m \u001b[49m\u001b[43mnum_epochs\u001b[49m\u001b[38;5;241;43m=\u001b[39;49m\u001b[38;5;241;43m125\u001b[39;49m\u001b[43m,\u001b[49m\u001b[43m \u001b[49m\u001b[43mlearning_rate\u001b[49m\u001b[38;5;241;43m=\u001b[39;49m\u001b[38;5;241;43m0.001\u001b[39;49m\u001b[43m)\u001b[49m\n",
      "Cell \u001b[1;32mIn[45], line 141\u001b[0m, in \u001b[0;36mQKVAttentionClassifier.train\u001b[1;34m(self, X_train, y_train, num_epochs, learning_rate)\u001b[0m\n\u001b[0;32m    138\u001b[0m X_batch \u001b[38;5;241m=\u001b[39m X_train[start:end]\n\u001b[0;32m    139\u001b[0m y_batch \u001b[38;5;241m=\u001b[39m y_train[start:end]\n\u001b[1;32m--> 141\u001b[0m yi \u001b[38;5;241m=\u001b[39m \u001b[38;5;28;43mself\u001b[39;49m\u001b[38;5;241;43m.\u001b[39;49m\u001b[43mforward\u001b[49m\u001b[43m(\u001b[49m\u001b[43mX_batch\u001b[49m\u001b[43m)\u001b[49m\n\u001b[0;32m    143\u001b[0m Loss \u001b[38;5;241m=\u001b[39m \u001b[38;5;28mself\u001b[39m\u001b[38;5;241m.\u001b[39mcross_entropy_loss(yi, y_batch)\n\u001b[0;32m    144\u001b[0m total_loss \u001b[38;5;241m+\u001b[39m\u001b[38;5;241m=\u001b[39m Loss\n",
      "Cell \u001b[1;32mIn[45], line 67\u001b[0m, in \u001b[0;36mQKVAttentionClassifier.forward\u001b[1;34m(self, Inputs)\u001b[0m\n\u001b[0;32m     64\u001b[0m Attention \u001b[38;5;241m=\u001b[39m \u001b[38;5;28mself\u001b[39m\u001b[38;5;241m.\u001b[39mLinearLayer(Attention)\n\u001b[0;32m     65\u001b[0m \u001b[38;5;28mself\u001b[39m\u001b[38;5;241m.\u001b[39mphrase_representation \u001b[38;5;241m=\u001b[39m np\u001b[38;5;241m.\u001b[39mmean(Attention, axis\u001b[38;5;241m=\u001b[39m\u001b[38;5;241m1\u001b[39m)\n\u001b[1;32m---> 67\u001b[0m Zout \u001b[38;5;241m=\u001b[39m \u001b[43mnp\u001b[49m\u001b[38;5;241;43m.\u001b[39;49m\u001b[43mmatmul\u001b[49m\u001b[43m(\u001b[49m\u001b[38;5;28;43mself\u001b[39;49m\u001b[38;5;241;43m.\u001b[39;49m\u001b[43mphrase_representation\u001b[49m\u001b[43m,\u001b[49m\u001b[43m \u001b[49m\u001b[38;5;28;43mself\u001b[39;49m\u001b[38;5;241;43m.\u001b[39;49m\u001b[43mlinearlayer\u001b[49m\u001b[43m)\u001b[49m \u001b[38;5;241m+\u001b[39m \u001b[38;5;28mself\u001b[39m\u001b[38;5;241m.\u001b[39mlinear_bias\n\u001b[0;32m     68\u001b[0m Sigma_Zout \u001b[38;5;241m=\u001b[39m \u001b[38;5;28mself\u001b[39m\u001b[38;5;241m.\u001b[39msoftmax(Zout)\n\u001b[0;32m     70\u001b[0m \u001b[38;5;28;01mreturn\u001b[39;00m Sigma_Zout\n",
      "\u001b[1;31mValueError\u001b[0m: matmul: Input operand 1 has a mismatch in its core dimension 0, with gufunc signature (n?,k),(k,m?)->(n?,m?) (size 64 is different from 300)"
     ]
    }
   ],
   "source": [
    "class QKVAttentionClassifier:\n",
    "    def __init__(self, word_len, words_per_phrase, batch_size, dk, dv, num_classes):\n",
    "        self.word_len = word_len\n",
    "        self.batch_size = batch_size\n",
    "        self.dk = dk\n",
    "        self.dv = dv\n",
    "        self.num_classes = num_classes\n",
    "        self.words_per_phrase = words_per_phrase\n",
    "\n",
    "        # Initialize weights with Xavier/Glorot initialization\n",
    "        self.num_heads = 8  # Number of attention heads\n",
    "\n",
    "        self.Q = [np.random.randn(self.word_len, self.dk) / np.sqrt(self.word_len) for _ in range(self.num_heads)]\n",
    "        self.K = [np.random.randn(self.word_len, self.dk) / np.sqrt(self.word_len) for _ in range(self.num_heads)]\n",
    "        self.V = [np.random.randn(self.word_len, self.dv) / np.sqrt(self.word_len) for _ in range(self.num_heads)]\n",
    "\n",
    "        # Linear layer to project concatenated heads output\n",
    "        self.W_o = np.random.randn(self.num_heads * self.dv, self.word_len) / np.sqrt(self.num_heads * self.dv)\n",
    "\n",
    "        # Initialize linear layer weights\n",
    "        self.linearlayer = np.random.randn(self.dk, self.num_classes) / np.sqrt(self.dk)\n",
    "        self.linear_bias = np.zeros(self.num_classes)\n",
    "\n",
    "    def softmax(self, x, axis=-1):\n",
    "        x = np.clip(x, -1e4, 1e4)  # Clip for numerical stability\n",
    "        e_x = np.exp(x - np.max(x, axis=axis, keepdims=True))\n",
    "        return e_x / np.sum(e_x, axis=axis, keepdims=True)\n",
    "\n",
    "    def cross_entropy_loss(self, predictions, target):\n",
    "        # Cross-entropy loss for a batch of predictions and targets\n",
    "        batch_loss = -np.sum(target * np.log(predictions + 1e-9), axis=1)\n",
    "        return np.mean(batch_loss)\n",
    "\n",
    "\n",
    "    def AttentionHead(self, Inputs):\n",
    "        head_outputs = []\n",
    "        for i in range(self.num_heads):\n",
    "            Qval = np.dot(Inputs, self.Q[i])\n",
    "            Kval = np.dot(Inputs, self.K[i])\n",
    "            Vval = np.dot(Inputs, self.V[i])\n",
    "    \n",
    "            QKscaled = np.matmul(Qval, np.transpose(Kval, (0, 2, 1))) / np.sqrt(self.dk)\n",
    "            Attention_weights = self.softmax(QKscaled)\n",
    "            head_output = np.matmul(Attention_weights, Vval)\n",
    "            head_outputs.append(head_output)\n",
    "    \n",
    "        # Concatenate along the last axis\n",
    "        multihead_output = np.concatenate(head_outputs, axis=-1)\n",
    "        return multihead_output\n",
    "    \n",
    "    \n",
    "    def LinearLayer(self):\n",
    "        output = np.matmul(self.phrase_representation, self.linearlayer) + self.linear_bias\n",
    "        return output\n",
    "    \n",
    "    \n",
    "    def LinearLayer(self, multihead_output):\n",
    "        output = np.dot(multihead_output, self.W_o)  # Project back to original size\n",
    "        return output\n",
    "    \n",
    "    \n",
    "    def forward(self, Inputs):\n",
    "        Attention = self.AttentionHead(Inputs)\n",
    "        Attention = self.LinearLayer(Attention)\n",
    "        self.phrase_representation = np.mean(Attention, axis=1)\n",
    "    \n",
    "        Zout = np.matmul(self.phrase_representation, self.linearlayer) + self.linear_bias\n",
    "        Sigma_Zout = self.softmax(Zout)\n",
    "    \n",
    "        return Sigma_Zout\n",
    "    \n",
    "    \n",
    "    def BackPropagation(self, dLoss_dSigma_Zout, inputs):\n",
    "        # Gradient for linear layer\n",
    "        dlinear_dW = np.dot(self.phrase_representation.T, dLoss_dSigma_Zout)\n",
    "    \n",
    "        # Gradient for bias\n",
    "        d_bias = np.sum(dLoss_dSigma_Zout, axis=0)\n",
    "    \n",
    "        # Gradient for phrase representation\n",
    "        d_phrase_rep = np.dot(dLoss_dSigma_Zout, self.linearlayer.T)\n",
    "    \n",
    "        # Gradient for attention\n",
    "        dL_dA = np.array(\n",
    "            [np.outer(np.ones(self.words_per_phrase), d_phrase_rep[i, :]) for i in range(d_phrase_rep.shape[0])])\n",
    "    \n",
    "        # Gradient for V\n",
    "        d_Vval = np.matmul(np.transpose(dL_dA, (0, 2, 1)), self.Attention_weights)\n",
    "        dLoss_dV = np.mean(np.matmul(d_Vval, inputs), axis=0).T\n",
    "    \n",
    "        # Gradient of softmax\n",
    "        dAttention_dSoftmax = np.matmul(self.Attention_weights, (1 - self.Attention_weights))\n",
    "    \n",
    "        # Gradient of Q\n",
    "        dQKscaled_dQ = np.matmul(np.transpose(inputs, (0, 2, 1)), self.Kval) / np.sqrt(self.dk)\n",
    "        dLoss_dQ = np.mean(np.transpose(\n",
    "            np.transpose(np.transpose(dL_dA, (0, 2, 1)) @ dAttention_dSoftmax, (0, 2, 1)) @ np.transpose(dQKscaled_dQ,\n",
    "                                                                                                         (0, 2, 1)),\n",
    "            (0, 2, 1)) @ self.Vval, axis=0)\n",
    "    \n",
    "        # Gradient of K\n",
    "        dQKscaled_dK = np.transpose(self.Qval, (0, 2, 1)) @ inputs / np.sqrt(self.dk)\n",
    "        dLoss_dK = np.mean(\n",
    "            np.transpose(np.transpose(np.transpose(dL_dA, (0, 2, 1)) @ dAttention_dSoftmax, (0, 2, 1)) @ dQKscaled_dK,\n",
    "                         (0, 2, 1)) @ self.Vval, axis=0)\n",
    "    \n",
    "        # Gradient clipping\n",
    "        clip_value = 15.0\n",
    "        dLoss_dQ = np.clip(dLoss_dQ, -clip_value, clip_value)\n",
    "        dLoss_dK = np.clip(dLoss_dK, -clip_value, clip_value)\n",
    "        dLoss_dV = np.clip(dLoss_dV, -clip_value, clip_value)\n",
    "        dlinear_dW = np.clip(dlinear_dW, -clip_value, clip_value)\n",
    "        d_bias = np.clip(d_bias, -clip_value, clip_value)\n",
    "    \n",
    "        self.UpdateParams(dLoss_dQ, dLoss_dK, dLoss_dV, dlinear_dW, d_bias)\n",
    "    \n",
    "    \n",
    "    def UpdateParams(self, dLoss_dQ, dLoss_dK, dLoss_dV, dlinear_dW, d_bias):\n",
    "        self.Q -= self.learning_rate * dLoss_dQ\n",
    "        self.K -= self.learning_rate * dLoss_dK\n",
    "        self.V -= self.learning_rate * dLoss_dV\n",
    "        self.linearlayer -= self.learning_rate * dlinear_dW\n",
    "        self.linear_bias -= self.learning_rate * d_bias\n",
    "    \n",
    "    \n",
    "    def train(self, X_train, y_train, num_epochs, learning_rate=0.01):\n",
    "        self.learning_rate = learning_rate\n",
    "    \n",
    "        for epoch in range(num_epochs):\n",
    "    \n",
    "            total_loss = 0\n",
    "    \n",
    "            num_batches_per_epoch = len(X_train) // self.batch_size\n",
    "    \n",
    "            for i in tqdm(range(num_batches_per_epoch), desc=f\"Epoch {epoch + 1}/{num_epochs}\"):\n",
    "                start = i * self.batch_size\n",
    "                end = start + self.batch_size\n",
    "                X_batch = X_train[start:end]\n",
    "                y_batch = y_train[start:end]\n",
    "    \n",
    "                yi = self.forward(X_batch)\n",
    "    \n",
    "                Loss = self.cross_entropy_loss(yi, y_batch)\n",
    "                total_loss += Loss\n",
    "    \n",
    "                dLoss_dSigma_Zout = yi - y_batch\n",
    "    \n",
    "                self.BackPropagation(dLoss_dSigma_Zout, X_batch)\n",
    "    \n",
    "            print(f\"Epoch {epoch + 1}/{num_epochs}, Loss: {(total_loss / num_batches_per_epoch):.4f}\")\n",
    "    \n",
    "    \n",
    "    def predict(self, X):\n",
    "        return self.forward(X)\n",
    "    \n",
    "    \n",
    "def pad_sequences(sequences, max_len):\n",
    "    padded_sequences = np.zeros((len(sequences), max_len, sequences[0].shape[1]))\n",
    "    for i, seq in enumerate(sequences):\n",
    "        length = min(seq.shape[0], max_len)\n",
    "        padded_sequences[i, :length] = seq[:length]\n",
    "    return padded_sequences\n",
    "\n",
    "\n",
    "word_len = 300\n",
    "word_per_phrase = 70\n",
    "dk = 64\n",
    "dv = 200\n",
    "batch_size = 64\n",
    "num_classes = 5\n",
    "max_seq_length = 70\n",
    "\n",
    "# Assuming X_train and y_train are your training data and labels\n",
    "X_train_padded = pad_sequences(X_train, max_seq_length)\n",
    "\n",
    "model = QKVAttentionClassifier(word_len, word_per_phrase, batch_size, dk, dv, num_classes)\n",
    "model.train(X_train_padded, y_train, num_epochs=125, learning_rate=0.001)\n",
    "\n",
    "\n"
   ]
  },
  {
   "cell_type": "code",
   "execution_count": null,
   "id": "97374499-092c-43ea-9e6a-9c3421c02137",
   "metadata": {},
   "outputs": [],
   "source": []
  },
  {
   "cell_type": "code",
   "execution_count": null,
   "id": "a8983f54-01c5-4290-b658-6dfd4621957c",
   "metadata": {},
   "outputs": [],
   "source": []
  },
  {
   "cell_type": "code",
   "execution_count": 67,
   "id": "68c3a014-7c52-47d6-b0f0-4aab54cf6c1d",
   "metadata": {
    "scrolled": true
   },
   "outputs": [
    {
     "name": "stderr",
     "output_type": "stream",
     "text": [
      "Epoch 1/125: 100%|█████████████████████████████████████████████████████████████████████| 26/26 [00:06<00:00,  3.74it/s]\n"
     ]
    },
    {
     "name": "stdout",
     "output_type": "stream",
     "text": [
      "Epoch 1/125, Loss: 10.3450\n"
     ]
    },
    {
     "name": "stderr",
     "output_type": "stream",
     "text": [
      "Epoch 2/125: 100%|█████████████████████████████████████████████████████████████████████| 26/26 [00:06<00:00,  3.90it/s]\n"
     ]
    },
    {
     "name": "stdout",
     "output_type": "stream",
     "text": [
      "Epoch 2/125, Loss: 11.1005\n"
     ]
    },
    {
     "name": "stderr",
     "output_type": "stream",
     "text": [
      "Epoch 3/125: 100%|█████████████████████████████████████████████████████████████████████| 26/26 [00:06<00:00,  3.84it/s]\n"
     ]
    },
    {
     "name": "stdout",
     "output_type": "stream",
     "text": [
      "Epoch 3/125, Loss: 9.6620\n"
     ]
    },
    {
     "name": "stderr",
     "output_type": "stream",
     "text": [
      "Epoch 4/125: 100%|█████████████████████████████████████████████████████████████████████| 26/26 [00:06<00:00,  3.97it/s]\n"
     ]
    },
    {
     "name": "stdout",
     "output_type": "stream",
     "text": [
      "Epoch 4/125, Loss: 4.6970\n"
     ]
    },
    {
     "name": "stderr",
     "output_type": "stream",
     "text": [
      "Epoch 5/125: 100%|█████████████████████████████████████████████████████████████████████| 26/26 [00:06<00:00,  3.84it/s]\n"
     ]
    },
    {
     "name": "stdout",
     "output_type": "stream",
     "text": [
      "Epoch 5/125, Loss: 1.7717\n"
     ]
    },
    {
     "name": "stderr",
     "output_type": "stream",
     "text": [
      "Epoch 6/125: 100%|█████████████████████████████████████████████████████████████████████| 26/26 [00:06<00:00,  3.75it/s]\n"
     ]
    },
    {
     "name": "stdout",
     "output_type": "stream",
     "text": [
      "Epoch 6/125, Loss: 0.8996\n"
     ]
    },
    {
     "name": "stderr",
     "output_type": "stream",
     "text": [
      "Epoch 7/125: 100%|█████████████████████████████████████████████████████████████████████| 26/26 [00:06<00:00,  3.94it/s]\n"
     ]
    },
    {
     "name": "stdout",
     "output_type": "stream",
     "text": [
      "Epoch 7/125, Loss: 0.5680\n"
     ]
    },
    {
     "name": "stderr",
     "output_type": "stream",
     "text": [
      "Epoch 8/125: 100%|█████████████████████████████████████████████████████████████████████| 26/26 [00:06<00:00,  3.94it/s]\n"
     ]
    },
    {
     "name": "stdout",
     "output_type": "stream",
     "text": [
      "Epoch 8/125, Loss: 0.4868\n"
     ]
    },
    {
     "name": "stderr",
     "output_type": "stream",
     "text": [
      "Epoch 9/125: 100%|█████████████████████████████████████████████████████████████████████| 26/26 [00:06<00:00,  3.99it/s]\n"
     ]
    },
    {
     "name": "stdout",
     "output_type": "stream",
     "text": [
      "Epoch 9/125, Loss: 0.3955\n"
     ]
    },
    {
     "name": "stderr",
     "output_type": "stream",
     "text": [
      "Epoch 10/125: 100%|████████████████████████████████████████████████████████████████████| 26/26 [00:06<00:00,  3.97it/s]\n"
     ]
    },
    {
     "name": "stdout",
     "output_type": "stream",
     "text": [
      "Epoch 10/125, Loss: 0.3767\n"
     ]
    },
    {
     "name": "stderr",
     "output_type": "stream",
     "text": [
      "Epoch 11/125: 100%|████████████████████████████████████████████████████████████████████| 26/26 [00:06<00:00,  4.00it/s]\n"
     ]
    },
    {
     "name": "stdout",
     "output_type": "stream",
     "text": [
      "Epoch 11/125, Loss: 0.3654\n"
     ]
    },
    {
     "name": "stderr",
     "output_type": "stream",
     "text": [
      "Epoch 12/125: 100%|████████████████████████████████████████████████████████████████████| 26/26 [00:06<00:00,  4.04it/s]\n"
     ]
    },
    {
     "name": "stdout",
     "output_type": "stream",
     "text": [
      "Epoch 12/125, Loss: 0.2962\n"
     ]
    },
    {
     "name": "stderr",
     "output_type": "stream",
     "text": [
      "Epoch 13/125: 100%|████████████████████████████████████████████████████████████████████| 26/26 [00:06<00:00,  3.98it/s]\n"
     ]
    },
    {
     "name": "stdout",
     "output_type": "stream",
     "text": [
      "Epoch 13/125, Loss: 0.2824\n"
     ]
    },
    {
     "name": "stderr",
     "output_type": "stream",
     "text": [
      "Epoch 14/125: 100%|████████████████████████████████████████████████████████████████████| 26/26 [00:06<00:00,  3.97it/s]\n"
     ]
    },
    {
     "name": "stdout",
     "output_type": "stream",
     "text": [
      "Epoch 14/125, Loss: 0.2825\n"
     ]
    },
    {
     "name": "stderr",
     "output_type": "stream",
     "text": [
      "Epoch 15/125: 100%|████████████████████████████████████████████████████████████████████| 26/26 [00:06<00:00,  3.85it/s]\n"
     ]
    },
    {
     "name": "stdout",
     "output_type": "stream",
     "text": [
      "Epoch 15/125, Loss: 0.2661\n"
     ]
    },
    {
     "name": "stderr",
     "output_type": "stream",
     "text": [
      "Epoch 16/125: 100%|████████████████████████████████████████████████████████████████████| 26/26 [00:06<00:00,  3.95it/s]\n"
     ]
    },
    {
     "name": "stdout",
     "output_type": "stream",
     "text": [
      "Epoch 16/125, Loss: 0.2341\n"
     ]
    },
    {
     "name": "stderr",
     "output_type": "stream",
     "text": [
      "Epoch 17/125: 100%|████████████████████████████████████████████████████████████████████| 26/26 [00:06<00:00,  3.94it/s]\n"
     ]
    },
    {
     "name": "stdout",
     "output_type": "stream",
     "text": [
      "Epoch 17/125, Loss: 0.2273\n"
     ]
    },
    {
     "name": "stderr",
     "output_type": "stream",
     "text": [
      "Epoch 18/125: 100%|████████████████████████████████████████████████████████████████████| 26/26 [00:06<00:00,  3.84it/s]\n"
     ]
    },
    {
     "name": "stdout",
     "output_type": "stream",
     "text": [
      "Epoch 18/125, Loss: 0.2068\n"
     ]
    },
    {
     "name": "stderr",
     "output_type": "stream",
     "text": [
      "Epoch 19/125: 100%|████████████████████████████████████████████████████████████████████| 26/26 [00:06<00:00,  3.73it/s]\n"
     ]
    },
    {
     "name": "stdout",
     "output_type": "stream",
     "text": [
      "Epoch 19/125, Loss: 0.1853\n"
     ]
    },
    {
     "name": "stderr",
     "output_type": "stream",
     "text": [
      "Epoch 20/125: 100%|████████████████████████████████████████████████████████████████████| 26/26 [00:06<00:00,  3.91it/s]\n"
     ]
    },
    {
     "name": "stdout",
     "output_type": "stream",
     "text": [
      "Epoch 20/125, Loss: 0.1609\n"
     ]
    },
    {
     "name": "stderr",
     "output_type": "stream",
     "text": [
      "Epoch 21/125: 100%|████████████████████████████████████████████████████████████████████| 26/26 [00:06<00:00,  3.93it/s]\n"
     ]
    },
    {
     "name": "stdout",
     "output_type": "stream",
     "text": [
      "Epoch 21/125, Loss: 0.1431\n"
     ]
    },
    {
     "name": "stderr",
     "output_type": "stream",
     "text": [
      "Epoch 22/125: 100%|████████████████████████████████████████████████████████████████████| 26/26 [00:06<00:00,  3.84it/s]\n"
     ]
    },
    {
     "name": "stdout",
     "output_type": "stream",
     "text": [
      "Epoch 22/125, Loss: 0.1313\n"
     ]
    },
    {
     "name": "stderr",
     "output_type": "stream",
     "text": [
      "Epoch 23/125: 100%|████████████████████████████████████████████████████████████████████| 26/26 [00:06<00:00,  3.87it/s]\n"
     ]
    },
    {
     "name": "stdout",
     "output_type": "stream",
     "text": [
      "Epoch 23/125, Loss: 0.1244\n"
     ]
    },
    {
     "name": "stderr",
     "output_type": "stream",
     "text": [
      "Epoch 24/125: 100%|████████████████████████████████████████████████████████████████████| 26/26 [00:06<00:00,  3.86it/s]\n"
     ]
    },
    {
     "name": "stdout",
     "output_type": "stream",
     "text": [
      "Epoch 24/125, Loss: 0.1116\n"
     ]
    },
    {
     "name": "stderr",
     "output_type": "stream",
     "text": [
      "Epoch 25/125: 100%|████████████████████████████████████████████████████████████████████| 26/26 [00:06<00:00,  3.88it/s]\n"
     ]
    },
    {
     "name": "stdout",
     "output_type": "stream",
     "text": [
      "Epoch 25/125, Loss: 0.1034\n"
     ]
    },
    {
     "name": "stderr",
     "output_type": "stream",
     "text": [
      "Epoch 26/125: 100%|████████████████████████████████████████████████████████████████████| 26/26 [00:06<00:00,  3.87it/s]\n"
     ]
    },
    {
     "name": "stdout",
     "output_type": "stream",
     "text": [
      "Epoch 26/125, Loss: 0.0940\n"
     ]
    },
    {
     "name": "stderr",
     "output_type": "stream",
     "text": [
      "Epoch 27/125: 100%|████████████████████████████████████████████████████████████████████| 26/26 [00:06<00:00,  3.84it/s]\n"
     ]
    },
    {
     "name": "stdout",
     "output_type": "stream",
     "text": [
      "Epoch 27/125, Loss: 0.0855\n"
     ]
    },
    {
     "name": "stderr",
     "output_type": "stream",
     "text": [
      "Epoch 28/125: 100%|████████████████████████████████████████████████████████████████████| 26/26 [00:06<00:00,  3.87it/s]\n"
     ]
    },
    {
     "name": "stdout",
     "output_type": "stream",
     "text": [
      "Epoch 28/125, Loss: 0.0800\n"
     ]
    },
    {
     "name": "stderr",
     "output_type": "stream",
     "text": [
      "Epoch 29/125: 100%|████████████████████████████████████████████████████████████████████| 26/26 [00:06<00:00,  3.81it/s]\n"
     ]
    },
    {
     "name": "stdout",
     "output_type": "stream",
     "text": [
      "Epoch 29/125, Loss: 0.0768\n"
     ]
    },
    {
     "name": "stderr",
     "output_type": "stream",
     "text": [
      "Epoch 30/125: 100%|████████████████████████████████████████████████████████████████████| 26/26 [00:06<00:00,  3.84it/s]\n"
     ]
    },
    {
     "name": "stdout",
     "output_type": "stream",
     "text": [
      "Epoch 30/125, Loss: 0.0718\n"
     ]
    },
    {
     "name": "stderr",
     "output_type": "stream",
     "text": [
      "Epoch 31/125: 100%|████████████████████████████████████████████████████████████████████| 26/26 [00:06<00:00,  3.91it/s]\n"
     ]
    },
    {
     "name": "stdout",
     "output_type": "stream",
     "text": [
      "Epoch 31/125, Loss: 0.0700\n"
     ]
    },
    {
     "name": "stderr",
     "output_type": "stream",
     "text": [
      "Epoch 32/125: 100%|████████████████████████████████████████████████████████████████████| 26/26 [00:06<00:00,  3.75it/s]\n"
     ]
    },
    {
     "name": "stdout",
     "output_type": "stream",
     "text": [
      "Epoch 32/125, Loss: 0.0663\n"
     ]
    },
    {
     "name": "stderr",
     "output_type": "stream",
     "text": [
      "Epoch 33/125: 100%|████████████████████████████████████████████████████████████████████| 26/26 [00:06<00:00,  3.88it/s]\n"
     ]
    },
    {
     "name": "stdout",
     "output_type": "stream",
     "text": [
      "Epoch 33/125, Loss: 0.0634\n"
     ]
    },
    {
     "name": "stderr",
     "output_type": "stream",
     "text": [
      "Epoch 34/125: 100%|████████████████████████████████████████████████████████████████████| 26/26 [00:06<00:00,  3.90it/s]\n"
     ]
    },
    {
     "name": "stdout",
     "output_type": "stream",
     "text": [
      "Epoch 34/125, Loss: 0.0605\n"
     ]
    },
    {
     "name": "stderr",
     "output_type": "stream",
     "text": [
      "Epoch 35/125: 100%|████████████████████████████████████████████████████████████████████| 26/26 [00:06<00:00,  3.82it/s]\n"
     ]
    },
    {
     "name": "stdout",
     "output_type": "stream",
     "text": [
      "Epoch 35/125, Loss: 0.0586\n"
     ]
    },
    {
     "name": "stderr",
     "output_type": "stream",
     "text": [
      "Epoch 36/125: 100%|████████████████████████████████████████████████████████████████████| 26/26 [00:06<00:00,  3.92it/s]\n"
     ]
    },
    {
     "name": "stdout",
     "output_type": "stream",
     "text": [
      "Epoch 36/125, Loss: 0.0548\n"
     ]
    },
    {
     "name": "stderr",
     "output_type": "stream",
     "text": [
      "Epoch 37/125: 100%|████████████████████████████████████████████████████████████████████| 26/26 [00:06<00:00,  3.79it/s]\n"
     ]
    },
    {
     "name": "stdout",
     "output_type": "stream",
     "text": [
      "Epoch 37/125, Loss: 0.0521\n"
     ]
    },
    {
     "name": "stderr",
     "output_type": "stream",
     "text": [
      "Epoch 38/125: 100%|████████████████████████████████████████████████████████████████████| 26/26 [00:06<00:00,  3.78it/s]\n"
     ]
    },
    {
     "name": "stdout",
     "output_type": "stream",
     "text": [
      "Epoch 38/125, Loss: 0.0507\n"
     ]
    },
    {
     "name": "stderr",
     "output_type": "stream",
     "text": [
      "Epoch 39/125: 100%|████████████████████████████████████████████████████████████████████| 26/26 [00:06<00:00,  3.80it/s]\n"
     ]
    },
    {
     "name": "stdout",
     "output_type": "stream",
     "text": [
      "Epoch 39/125, Loss: 0.0486\n"
     ]
    },
    {
     "name": "stderr",
     "output_type": "stream",
     "text": [
      "Epoch 40/125: 100%|████████████████████████████████████████████████████████████████████| 26/26 [00:06<00:00,  3.84it/s]\n"
     ]
    },
    {
     "name": "stdout",
     "output_type": "stream",
     "text": [
      "Epoch 40/125, Loss: 0.0459\n"
     ]
    },
    {
     "name": "stderr",
     "output_type": "stream",
     "text": [
      "Epoch 41/125: 100%|████████████████████████████████████████████████████████████████████| 26/26 [00:06<00:00,  3.86it/s]\n"
     ]
    },
    {
     "name": "stdout",
     "output_type": "stream",
     "text": [
      "Epoch 41/125, Loss: 0.0438\n"
     ]
    },
    {
     "name": "stderr",
     "output_type": "stream",
     "text": [
      "Epoch 42/125: 100%|████████████████████████████████████████████████████████████████████| 26/26 [00:06<00:00,  3.84it/s]\n"
     ]
    },
    {
     "name": "stdout",
     "output_type": "stream",
     "text": [
      "Epoch 42/125, Loss: 0.0421\n"
     ]
    },
    {
     "name": "stderr",
     "output_type": "stream",
     "text": [
      "Epoch 43/125: 100%|████████████████████████████████████████████████████████████████████| 26/26 [00:06<00:00,  4.05it/s]\n"
     ]
    },
    {
     "name": "stdout",
     "output_type": "stream",
     "text": [
      "Epoch 43/125, Loss: 0.0407\n"
     ]
    },
    {
     "name": "stderr",
     "output_type": "stream",
     "text": [
      "Epoch 44/125: 100%|████████████████████████████████████████████████████████████████████| 26/26 [00:06<00:00,  3.90it/s]\n"
     ]
    },
    {
     "name": "stdout",
     "output_type": "stream",
     "text": [
      "Epoch 44/125, Loss: 0.0392\n"
     ]
    },
    {
     "name": "stderr",
     "output_type": "stream",
     "text": [
      "Epoch 45/125: 100%|████████████████████████████████████████████████████████████████████| 26/26 [00:06<00:00,  3.92it/s]\n"
     ]
    },
    {
     "name": "stdout",
     "output_type": "stream",
     "text": [
      "Epoch 45/125, Loss: 0.0378\n"
     ]
    },
    {
     "name": "stderr",
     "output_type": "stream",
     "text": [
      "Epoch 46/125: 100%|████████████████████████████████████████████████████████████████████| 26/26 [00:07<00:00,  3.66it/s]\n"
     ]
    },
    {
     "name": "stdout",
     "output_type": "stream",
     "text": [
      "Epoch 46/125, Loss: 0.0366\n"
     ]
    },
    {
     "name": "stderr",
     "output_type": "stream",
     "text": [
      "Epoch 47/125: 100%|████████████████████████████████████████████████████████████████████| 26/26 [00:06<00:00,  3.94it/s]\n"
     ]
    },
    {
     "name": "stdout",
     "output_type": "stream",
     "text": [
      "Epoch 47/125, Loss: 0.0357\n"
     ]
    },
    {
     "name": "stderr",
     "output_type": "stream",
     "text": [
      "Epoch 48/125: 100%|████████████████████████████████████████████████████████████████████| 26/26 [00:06<00:00,  4.00it/s]\n"
     ]
    },
    {
     "name": "stdout",
     "output_type": "stream",
     "text": [
      "Epoch 48/125, Loss: 0.0345\n"
     ]
    },
    {
     "name": "stderr",
     "output_type": "stream",
     "text": [
      "Epoch 49/125: 100%|████████████████████████████████████████████████████████████████████| 26/26 [00:06<00:00,  4.04it/s]\n"
     ]
    },
    {
     "name": "stdout",
     "output_type": "stream",
     "text": [
      "Epoch 49/125, Loss: 0.0331\n"
     ]
    },
    {
     "name": "stderr",
     "output_type": "stream",
     "text": [
      "Epoch 50/125: 100%|████████████████████████████████████████████████████████████████████| 26/26 [00:06<00:00,  3.80it/s]\n"
     ]
    },
    {
     "name": "stdout",
     "output_type": "stream",
     "text": [
      "Epoch 50/125, Loss: 0.0322\n"
     ]
    },
    {
     "name": "stderr",
     "output_type": "stream",
     "text": [
      "Epoch 51/125: 100%|████████████████████████████████████████████████████████████████████| 26/26 [00:06<00:00,  4.02it/s]\n"
     ]
    },
    {
     "name": "stdout",
     "output_type": "stream",
     "text": [
      "Epoch 51/125, Loss: 0.0311\n"
     ]
    },
    {
     "name": "stderr",
     "output_type": "stream",
     "text": [
      "Epoch 52/125: 100%|████████████████████████████████████████████████████████████████████| 26/26 [00:06<00:00,  3.73it/s]\n"
     ]
    },
    {
     "name": "stdout",
     "output_type": "stream",
     "text": [
      "Epoch 52/125, Loss: 0.0303\n"
     ]
    },
    {
     "name": "stderr",
     "output_type": "stream",
     "text": [
      "Epoch 53/125: 100%|████████████████████████████████████████████████████████████████████| 26/26 [00:06<00:00,  3.87it/s]\n"
     ]
    },
    {
     "name": "stdout",
     "output_type": "stream",
     "text": [
      "Epoch 53/125, Loss: 0.0292\n"
     ]
    },
    {
     "name": "stderr",
     "output_type": "stream",
     "text": [
      "Epoch 54/125: 100%|████████████████████████████████████████████████████████████████████| 26/26 [00:06<00:00,  3.87it/s]\n"
     ]
    },
    {
     "name": "stdout",
     "output_type": "stream",
     "text": [
      "Epoch 54/125, Loss: 0.0283\n"
     ]
    },
    {
     "name": "stderr",
     "output_type": "stream",
     "text": [
      "Epoch 55/125: 100%|████████████████████████████████████████████████████████████████████| 26/26 [00:06<00:00,  3.98it/s]\n"
     ]
    },
    {
     "name": "stdout",
     "output_type": "stream",
     "text": [
      "Epoch 55/125, Loss: 0.0272\n"
     ]
    },
    {
     "name": "stderr",
     "output_type": "stream",
     "text": [
      "Epoch 56/125: 100%|████████████████████████████████████████████████████████████████████| 26/26 [00:06<00:00,  3.84it/s]\n"
     ]
    },
    {
     "name": "stdout",
     "output_type": "stream",
     "text": [
      "Epoch 56/125, Loss: 0.0262\n"
     ]
    },
    {
     "name": "stderr",
     "output_type": "stream",
     "text": [
      "Epoch 57/125: 100%|████████████████████████████████████████████████████████████████████| 26/26 [00:06<00:00,  3.87it/s]\n"
     ]
    },
    {
     "name": "stdout",
     "output_type": "stream",
     "text": [
      "Epoch 57/125, Loss: 0.0254\n"
     ]
    },
    {
     "name": "stderr",
     "output_type": "stream",
     "text": [
      "Epoch 58/125: 100%|████████████████████████████████████████████████████████████████████| 26/26 [00:06<00:00,  3.87it/s]\n"
     ]
    },
    {
     "name": "stdout",
     "output_type": "stream",
     "text": [
      "Epoch 58/125, Loss: 0.0243\n"
     ]
    },
    {
     "name": "stderr",
     "output_type": "stream",
     "text": [
      "Epoch 59/125: 100%|████████████████████████████████████████████████████████████████████| 26/26 [00:06<00:00,  3.91it/s]\n"
     ]
    },
    {
     "name": "stdout",
     "output_type": "stream",
     "text": [
      "Epoch 59/125, Loss: 0.0234\n"
     ]
    },
    {
     "name": "stderr",
     "output_type": "stream",
     "text": [
      "Epoch 60/125: 100%|████████████████████████████████████████████████████████████████████| 26/26 [00:06<00:00,  3.87it/s]\n"
     ]
    },
    {
     "name": "stdout",
     "output_type": "stream",
     "text": [
      "Epoch 60/125, Loss: 0.0227\n"
     ]
    },
    {
     "name": "stderr",
     "output_type": "stream",
     "text": [
      "Epoch 61/125: 100%|████████████████████████████████████████████████████████████████████| 26/26 [00:06<00:00,  3.85it/s]\n"
     ]
    },
    {
     "name": "stdout",
     "output_type": "stream",
     "text": [
      "Epoch 61/125, Loss: 0.0219\n"
     ]
    },
    {
     "name": "stderr",
     "output_type": "stream",
     "text": [
      "Epoch 62/125: 100%|████████████████████████████████████████████████████████████████████| 26/26 [00:06<00:00,  4.00it/s]\n"
     ]
    },
    {
     "name": "stdout",
     "output_type": "stream",
     "text": [
      "Epoch 62/125, Loss: 0.0211\n"
     ]
    },
    {
     "name": "stderr",
     "output_type": "stream",
     "text": [
      "Epoch 63/125: 100%|████████████████████████████████████████████████████████████████████| 26/26 [00:06<00:00,  3.90it/s]\n"
     ]
    },
    {
     "name": "stdout",
     "output_type": "stream",
     "text": [
      "Epoch 63/125, Loss: 0.0204\n"
     ]
    },
    {
     "name": "stderr",
     "output_type": "stream",
     "text": [
      "Epoch 64/125: 100%|████████████████████████████████████████████████████████████████████| 26/26 [00:07<00:00,  3.69it/s]\n"
     ]
    },
    {
     "name": "stdout",
     "output_type": "stream",
     "text": [
      "Epoch 64/125, Loss: 0.0198\n"
     ]
    },
    {
     "name": "stderr",
     "output_type": "stream",
     "text": [
      "Epoch 65/125: 100%|████████████████████████████████████████████████████████████████████| 26/26 [00:06<00:00,  3.94it/s]\n"
     ]
    },
    {
     "name": "stdout",
     "output_type": "stream",
     "text": [
      "Epoch 65/125, Loss: 0.0192\n"
     ]
    },
    {
     "name": "stderr",
     "output_type": "stream",
     "text": [
      "Epoch 66/125: 100%|████████████████████████████████████████████████████████████████████| 26/26 [00:06<00:00,  3.89it/s]\n"
     ]
    },
    {
     "name": "stdout",
     "output_type": "stream",
     "text": [
      "Epoch 66/125, Loss: 0.0187\n"
     ]
    },
    {
     "name": "stderr",
     "output_type": "stream",
     "text": [
      "Epoch 67/125: 100%|████████████████████████████████████████████████████████████████████| 26/26 [00:06<00:00,  3.85it/s]\n"
     ]
    },
    {
     "name": "stdout",
     "output_type": "stream",
     "text": [
      "Epoch 67/125, Loss: 0.0179\n"
     ]
    },
    {
     "name": "stderr",
     "output_type": "stream",
     "text": [
      "Epoch 68/125: 100%|████████████████████████████████████████████████████████████████████| 26/26 [00:06<00:00,  3.85it/s]\n"
     ]
    },
    {
     "name": "stdout",
     "output_type": "stream",
     "text": [
      "Epoch 68/125, Loss: 0.0173\n"
     ]
    },
    {
     "name": "stderr",
     "output_type": "stream",
     "text": [
      "Epoch 69/125: 100%|████████████████████████████████████████████████████████████████████| 26/26 [00:06<00:00,  3.93it/s]\n"
     ]
    },
    {
     "name": "stdout",
     "output_type": "stream",
     "text": [
      "Epoch 69/125, Loss: 0.0167\n"
     ]
    },
    {
     "name": "stderr",
     "output_type": "stream",
     "text": [
      "Epoch 70/125: 100%|████████████████████████████████████████████████████████████████████| 26/26 [00:07<00:00,  3.65it/s]\n"
     ]
    },
    {
     "name": "stdout",
     "output_type": "stream",
     "text": [
      "Epoch 70/125, Loss: 0.0163\n"
     ]
    },
    {
     "name": "stderr",
     "output_type": "stream",
     "text": [
      "Epoch 71/125: 100%|████████████████████████████████████████████████████████████████████| 26/26 [00:06<00:00,  3.84it/s]\n"
     ]
    },
    {
     "name": "stdout",
     "output_type": "stream",
     "text": [
      "Epoch 71/125, Loss: 0.0159\n"
     ]
    },
    {
     "name": "stderr",
     "output_type": "stream",
     "text": [
      "Epoch 72/125: 100%|████████████████████████████████████████████████████████████████████| 26/26 [00:06<00:00,  3.82it/s]\n"
     ]
    },
    {
     "name": "stdout",
     "output_type": "stream",
     "text": [
      "Epoch 72/125, Loss: 0.0153\n"
     ]
    },
    {
     "name": "stderr",
     "output_type": "stream",
     "text": [
      "Epoch 73/125: 100%|████████████████████████████████████████████████████████████████████| 26/26 [00:07<00:00,  3.66it/s]\n"
     ]
    },
    {
     "name": "stdout",
     "output_type": "stream",
     "text": [
      "Epoch 73/125, Loss: 0.0149\n"
     ]
    },
    {
     "name": "stderr",
     "output_type": "stream",
     "text": [
      "Epoch 74/125: 100%|████████████████████████████████████████████████████████████████████| 26/26 [00:06<00:00,  3.87it/s]\n"
     ]
    },
    {
     "name": "stdout",
     "output_type": "stream",
     "text": [
      "Epoch 74/125, Loss: 0.0143\n"
     ]
    },
    {
     "name": "stderr",
     "output_type": "stream",
     "text": [
      "Epoch 75/125: 100%|████████████████████████████████████████████████████████████████████| 26/26 [00:06<00:00,  3.84it/s]\n"
     ]
    },
    {
     "name": "stdout",
     "output_type": "stream",
     "text": [
      "Epoch 75/125, Loss: 0.0139\n"
     ]
    },
    {
     "name": "stderr",
     "output_type": "stream",
     "text": [
      "Epoch 76/125: 100%|████████████████████████████████████████████████████████████████████| 26/26 [00:06<00:00,  3.83it/s]\n"
     ]
    },
    {
     "name": "stdout",
     "output_type": "stream",
     "text": [
      "Epoch 76/125, Loss: 0.0135\n"
     ]
    },
    {
     "name": "stderr",
     "output_type": "stream",
     "text": [
      "Epoch 77/125: 100%|████████████████████████████████████████████████████████████████████| 26/26 [00:06<00:00,  3.81it/s]\n"
     ]
    },
    {
     "name": "stdout",
     "output_type": "stream",
     "text": [
      "Epoch 77/125, Loss: 0.0132\n"
     ]
    },
    {
     "name": "stderr",
     "output_type": "stream",
     "text": [
      "Epoch 78/125: 100%|████████████████████████████████████████████████████████████████████| 26/26 [00:06<00:00,  3.86it/s]\n"
     ]
    },
    {
     "name": "stdout",
     "output_type": "stream",
     "text": [
      "Epoch 78/125, Loss: 0.0130\n"
     ]
    },
    {
     "name": "stderr",
     "output_type": "stream",
     "text": [
      "Epoch 79/125: 100%|████████████████████████████████████████████████████████████████████| 26/26 [00:06<00:00,  3.85it/s]\n"
     ]
    },
    {
     "name": "stdout",
     "output_type": "stream",
     "text": [
      "Epoch 79/125, Loss: 0.0125\n"
     ]
    },
    {
     "name": "stderr",
     "output_type": "stream",
     "text": [
      "Epoch 80/125: 100%|████████████████████████████████████████████████████████████████████| 26/26 [00:06<00:00,  4.07it/s]\n"
     ]
    },
    {
     "name": "stdout",
     "output_type": "stream",
     "text": [
      "Epoch 80/125, Loss: 0.0122\n"
     ]
    },
    {
     "name": "stderr",
     "output_type": "stream",
     "text": [
      "Epoch 81/125: 100%|████████████████████████████████████████████████████████████████████| 26/26 [00:06<00:00,  3.91it/s]\n"
     ]
    },
    {
     "name": "stdout",
     "output_type": "stream",
     "text": [
      "Epoch 81/125, Loss: 0.0119\n"
     ]
    },
    {
     "name": "stderr",
     "output_type": "stream",
     "text": [
      "Epoch 82/125: 100%|████████████████████████████████████████████████████████████████████| 26/26 [00:06<00:00,  3.73it/s]\n"
     ]
    },
    {
     "name": "stdout",
     "output_type": "stream",
     "text": [
      "Epoch 82/125, Loss: 0.0116\n"
     ]
    },
    {
     "name": "stderr",
     "output_type": "stream",
     "text": [
      "Epoch 83/125: 100%|████████████████████████████████████████████████████████████████████| 26/26 [00:06<00:00,  3.93it/s]\n"
     ]
    },
    {
     "name": "stdout",
     "output_type": "stream",
     "text": [
      "Epoch 83/125, Loss: 0.0113\n"
     ]
    },
    {
     "name": "stderr",
     "output_type": "stream",
     "text": [
      "Epoch 84/125: 100%|████████████████████████████████████████████████████████████████████| 26/26 [00:06<00:00,  4.04it/s]\n"
     ]
    },
    {
     "name": "stdout",
     "output_type": "stream",
     "text": [
      "Epoch 84/125, Loss: 0.0110\n"
     ]
    },
    {
     "name": "stderr",
     "output_type": "stream",
     "text": [
      "Epoch 85/125: 100%|████████████████████████████████████████████████████████████████████| 26/26 [00:06<00:00,  4.03it/s]\n"
     ]
    },
    {
     "name": "stdout",
     "output_type": "stream",
     "text": [
      "Epoch 85/125, Loss: 0.0108\n"
     ]
    },
    {
     "name": "stderr",
     "output_type": "stream",
     "text": [
      "Epoch 86/125: 100%|████████████████████████████████████████████████████████████████████| 26/26 [00:06<00:00,  3.94it/s]\n"
     ]
    },
    {
     "name": "stdout",
     "output_type": "stream",
     "text": [
      "Epoch 86/125, Loss: 0.0105\n"
     ]
    },
    {
     "name": "stderr",
     "output_type": "stream",
     "text": [
      "Epoch 87/125: 100%|████████████████████████████████████████████████████████████████████| 26/26 [00:06<00:00,  3.95it/s]\n"
     ]
    },
    {
     "name": "stdout",
     "output_type": "stream",
     "text": [
      "Epoch 87/125, Loss: 0.0103\n"
     ]
    },
    {
     "name": "stderr",
     "output_type": "stream",
     "text": [
      "Epoch 88/125: 100%|████████████████████████████████████████████████████████████████████| 26/26 [00:06<00:00,  3.85it/s]\n"
     ]
    },
    {
     "name": "stdout",
     "output_type": "stream",
     "text": [
      "Epoch 88/125, Loss: 0.0101\n"
     ]
    },
    {
     "name": "stderr",
     "output_type": "stream",
     "text": [
      "Epoch 89/125: 100%|████████████████████████████████████████████████████████████████████| 26/26 [00:06<00:00,  3.82it/s]\n"
     ]
    },
    {
     "name": "stdout",
     "output_type": "stream",
     "text": [
      "Epoch 89/125, Loss: 0.0099\n"
     ]
    },
    {
     "name": "stderr",
     "output_type": "stream",
     "text": [
      "Epoch 90/125: 100%|████████████████████████████████████████████████████████████████████| 26/26 [00:07<00:00,  3.70it/s]\n"
     ]
    },
    {
     "name": "stdout",
     "output_type": "stream",
     "text": [
      "Epoch 90/125, Loss: 0.0097\n"
     ]
    },
    {
     "name": "stderr",
     "output_type": "stream",
     "text": [
      "Epoch 91/125: 100%|████████████████████████████████████████████████████████████████████| 26/26 [00:06<00:00,  3.85it/s]\n"
     ]
    },
    {
     "name": "stdout",
     "output_type": "stream",
     "text": [
      "Epoch 91/125, Loss: 0.0095\n"
     ]
    },
    {
     "name": "stderr",
     "output_type": "stream",
     "text": [
      "Epoch 92/125: 100%|████████████████████████████████████████████████████████████████████| 26/26 [00:06<00:00,  3.90it/s]\n"
     ]
    },
    {
     "name": "stdout",
     "output_type": "stream",
     "text": [
      "Epoch 92/125, Loss: 0.0094\n"
     ]
    },
    {
     "name": "stderr",
     "output_type": "stream",
     "text": [
      "Epoch 93/125: 100%|████████████████████████████████████████████████████████████████████| 26/26 [00:06<00:00,  3.91it/s]\n"
     ]
    },
    {
     "name": "stdout",
     "output_type": "stream",
     "text": [
      "Epoch 93/125, Loss: 0.0092\n"
     ]
    },
    {
     "name": "stderr",
     "output_type": "stream",
     "text": [
      "Epoch 94/125: 100%|████████████████████████████████████████████████████████████████████| 26/26 [00:06<00:00,  3.84it/s]\n"
     ]
    },
    {
     "name": "stdout",
     "output_type": "stream",
     "text": [
      "Epoch 94/125, Loss: 0.0090\n"
     ]
    },
    {
     "name": "stderr",
     "output_type": "stream",
     "text": [
      "Epoch 95/125: 100%|████████████████████████████████████████████████████████████████████| 26/26 [00:06<00:00,  3.78it/s]\n"
     ]
    },
    {
     "name": "stdout",
     "output_type": "stream",
     "text": [
      "Epoch 95/125, Loss: 0.0087\n"
     ]
    },
    {
     "name": "stderr",
     "output_type": "stream",
     "text": [
      "Epoch 96/125: 100%|████████████████████████████████████████████████████████████████████| 26/26 [00:06<00:00,  3.88it/s]\n"
     ]
    },
    {
     "name": "stdout",
     "output_type": "stream",
     "text": [
      "Epoch 96/125, Loss: 0.0086\n"
     ]
    },
    {
     "name": "stderr",
     "output_type": "stream",
     "text": [
      "Epoch 97/125: 100%|████████████████████████████████████████████████████████████████████| 26/26 [00:06<00:00,  3.87it/s]\n"
     ]
    },
    {
     "name": "stdout",
     "output_type": "stream",
     "text": [
      "Epoch 97/125, Loss: 0.0084\n"
     ]
    },
    {
     "name": "stderr",
     "output_type": "stream",
     "text": [
      "Epoch 98/125: 100%|████████████████████████████████████████████████████████████████████| 26/26 [00:07<00:00,  3.68it/s]\n"
     ]
    },
    {
     "name": "stdout",
     "output_type": "stream",
     "text": [
      "Epoch 98/125, Loss: 0.0083\n"
     ]
    },
    {
     "name": "stderr",
     "output_type": "stream",
     "text": [
      "Epoch 99/125: 100%|████████████████████████████████████████████████████████████████████| 26/26 [00:06<00:00,  3.85it/s]\n"
     ]
    },
    {
     "name": "stdout",
     "output_type": "stream",
     "text": [
      "Epoch 99/125, Loss: 0.0081\n"
     ]
    },
    {
     "name": "stderr",
     "output_type": "stream",
     "text": [
      "Epoch 100/125: 100%|███████████████████████████████████████████████████████████████████| 26/26 [00:06<00:00,  3.84it/s]\n"
     ]
    },
    {
     "name": "stdout",
     "output_type": "stream",
     "text": [
      "Epoch 100/125, Loss: 0.0079\n"
     ]
    },
    {
     "name": "stderr",
     "output_type": "stream",
     "text": [
      "Epoch 101/125: 100%|███████████████████████████████████████████████████████████████████| 26/26 [00:06<00:00,  3.84it/s]\n"
     ]
    },
    {
     "name": "stdout",
     "output_type": "stream",
     "text": [
      "Epoch 101/125, Loss: 0.0077\n"
     ]
    },
    {
     "name": "stderr",
     "output_type": "stream",
     "text": [
      "Epoch 102/125: 100%|███████████████████████████████████████████████████████████████████| 26/26 [00:06<00:00,  3.88it/s]\n"
     ]
    },
    {
     "name": "stdout",
     "output_type": "stream",
     "text": [
      "Epoch 102/125, Loss: 0.0076\n"
     ]
    },
    {
     "name": "stderr",
     "output_type": "stream",
     "text": [
      "Epoch 103/125: 100%|███████████████████████████████████████████████████████████████████| 26/26 [00:06<00:00,  3.73it/s]\n"
     ]
    },
    {
     "name": "stdout",
     "output_type": "stream",
     "text": [
      "Epoch 103/125, Loss: 0.0074\n"
     ]
    },
    {
     "name": "stderr",
     "output_type": "stream",
     "text": [
      "Epoch 104/125: 100%|███████████████████████████████████████████████████████████████████| 26/26 [00:06<00:00,  3.77it/s]\n"
     ]
    },
    {
     "name": "stdout",
     "output_type": "stream",
     "text": [
      "Epoch 104/125, Loss: 0.0073\n"
     ]
    },
    {
     "name": "stderr",
     "output_type": "stream",
     "text": [
      "Epoch 105/125: 100%|███████████████████████████████████████████████████████████████████| 26/26 [00:06<00:00,  3.89it/s]\n"
     ]
    },
    {
     "name": "stdout",
     "output_type": "stream",
     "text": [
      "Epoch 105/125, Loss: 0.0072\n"
     ]
    },
    {
     "name": "stderr",
     "output_type": "stream",
     "text": [
      "Epoch 106/125: 100%|███████████████████████████████████████████████████████████████████| 26/26 [00:06<00:00,  3.80it/s]\n"
     ]
    },
    {
     "name": "stdout",
     "output_type": "stream",
     "text": [
      "Epoch 106/125, Loss: 0.0071\n"
     ]
    },
    {
     "name": "stderr",
     "output_type": "stream",
     "text": [
      "Epoch 107/125: 100%|███████████████████████████████████████████████████████████████████| 26/26 [00:06<00:00,  3.85it/s]\n"
     ]
    },
    {
     "name": "stdout",
     "output_type": "stream",
     "text": [
      "Epoch 107/125, Loss: 0.0070\n"
     ]
    },
    {
     "name": "stderr",
     "output_type": "stream",
     "text": [
      "Epoch 108/125: 100%|███████████████████████████████████████████████████████████████████| 26/26 [00:06<00:00,  3.73it/s]\n"
     ]
    },
    {
     "name": "stdout",
     "output_type": "stream",
     "text": [
      "Epoch 108/125, Loss: 0.0069\n"
     ]
    },
    {
     "name": "stderr",
     "output_type": "stream",
     "text": [
      "Epoch 109/125: 100%|███████████████████████████████████████████████████████████████████| 26/26 [00:06<00:00,  3.81it/s]\n"
     ]
    },
    {
     "name": "stdout",
     "output_type": "stream",
     "text": [
      "Epoch 109/125, Loss: 0.0068\n"
     ]
    },
    {
     "name": "stderr",
     "output_type": "stream",
     "text": [
      "Epoch 110/125: 100%|███████████████████████████████████████████████████████████████████| 26/26 [00:06<00:00,  3.85it/s]\n"
     ]
    },
    {
     "name": "stdout",
     "output_type": "stream",
     "text": [
      "Epoch 110/125, Loss: 0.0066\n"
     ]
    },
    {
     "name": "stderr",
     "output_type": "stream",
     "text": [
      "Epoch 111/125: 100%|███████████████████████████████████████████████████████████████████| 26/26 [00:06<00:00,  3.83it/s]\n"
     ]
    },
    {
     "name": "stdout",
     "output_type": "stream",
     "text": [
      "Epoch 111/125, Loss: 0.0065\n"
     ]
    },
    {
     "name": "stderr",
     "output_type": "stream",
     "text": [
      "Epoch 112/125: 100%|███████████████████████████████████████████████████████████████████| 26/26 [00:06<00:00,  3.77it/s]\n"
     ]
    },
    {
     "name": "stdout",
     "output_type": "stream",
     "text": [
      "Epoch 112/125, Loss: 0.0064\n"
     ]
    },
    {
     "name": "stderr",
     "output_type": "stream",
     "text": [
      "Epoch 113/125: 100%|███████████████████████████████████████████████████████████████████| 26/26 [00:06<00:00,  3.87it/s]\n"
     ]
    },
    {
     "name": "stdout",
     "output_type": "stream",
     "text": [
      "Epoch 113/125, Loss: 0.0063\n"
     ]
    },
    {
     "name": "stderr",
     "output_type": "stream",
     "text": [
      "Epoch 114/125: 100%|███████████████████████████████████████████████████████████████████| 26/26 [00:06<00:00,  3.89it/s]\n"
     ]
    },
    {
     "name": "stdout",
     "output_type": "stream",
     "text": [
      "Epoch 114/125, Loss: 0.0062\n"
     ]
    },
    {
     "name": "stderr",
     "output_type": "stream",
     "text": [
      "Epoch 115/125: 100%|███████████████████████████████████████████████████████████████████| 26/26 [00:06<00:00,  3.93it/s]\n"
     ]
    },
    {
     "name": "stdout",
     "output_type": "stream",
     "text": [
      "Epoch 115/125, Loss: 0.0061\n"
     ]
    },
    {
     "name": "stderr",
     "output_type": "stream",
     "text": [
      "Epoch 116/125: 100%|███████████████████████████████████████████████████████████████████| 26/26 [00:06<00:00,  3.99it/s]\n"
     ]
    },
    {
     "name": "stdout",
     "output_type": "stream",
     "text": [
      "Epoch 116/125, Loss: 0.0060\n"
     ]
    },
    {
     "name": "stderr",
     "output_type": "stream",
     "text": [
      "Epoch 117/125: 100%|███████████████████████████████████████████████████████████████████| 26/26 [00:06<00:00,  4.04it/s]\n"
     ]
    },
    {
     "name": "stdout",
     "output_type": "stream",
     "text": [
      "Epoch 117/125, Loss: 0.0059\n"
     ]
    },
    {
     "name": "stderr",
     "output_type": "stream",
     "text": [
      "Epoch 118/125: 100%|███████████████████████████████████████████████████████████████████| 26/26 [00:06<00:00,  4.02it/s]\n"
     ]
    },
    {
     "name": "stdout",
     "output_type": "stream",
     "text": [
      "Epoch 118/125, Loss: 0.0059\n"
     ]
    },
    {
     "name": "stderr",
     "output_type": "stream",
     "text": [
      "Epoch 119/125: 100%|███████████████████████████████████████████████████████████████████| 26/26 [00:06<00:00,  3.92it/s]\n"
     ]
    },
    {
     "name": "stdout",
     "output_type": "stream",
     "text": [
      "Epoch 119/125, Loss: 0.0058\n"
     ]
    },
    {
     "name": "stderr",
     "output_type": "stream",
     "text": [
      "Epoch 120/125: 100%|███████████████████████████████████████████████████████████████████| 26/26 [00:06<00:00,  3.95it/s]\n"
     ]
    },
    {
     "name": "stdout",
     "output_type": "stream",
     "text": [
      "Epoch 120/125, Loss: 0.0057\n"
     ]
    },
    {
     "name": "stderr",
     "output_type": "stream",
     "text": [
      "Epoch 121/125: 100%|███████████████████████████████████████████████████████████████████| 26/26 [00:06<00:00,  4.04it/s]\n"
     ]
    },
    {
     "name": "stdout",
     "output_type": "stream",
     "text": [
      "Epoch 121/125, Loss: 0.0057\n"
     ]
    },
    {
     "name": "stderr",
     "output_type": "stream",
     "text": [
      "Epoch 122/125: 100%|███████████████████████████████████████████████████████████████████| 26/26 [00:06<00:00,  4.03it/s]\n"
     ]
    },
    {
     "name": "stdout",
     "output_type": "stream",
     "text": [
      "Epoch 122/125, Loss: 0.0055\n"
     ]
    },
    {
     "name": "stderr",
     "output_type": "stream",
     "text": [
      "Epoch 123/125: 100%|███████████████████████████████████████████████████████████████████| 26/26 [00:06<00:00,  3.86it/s]\n"
     ]
    },
    {
     "name": "stdout",
     "output_type": "stream",
     "text": [
      "Epoch 123/125, Loss: 0.0055\n"
     ]
    },
    {
     "name": "stderr",
     "output_type": "stream",
     "text": [
      "Epoch 124/125: 100%|███████████████████████████████████████████████████████████████████| 26/26 [00:06<00:00,  3.92it/s]\n"
     ]
    },
    {
     "name": "stdout",
     "output_type": "stream",
     "text": [
      "Epoch 124/125, Loss: 0.0054\n"
     ]
    },
    {
     "name": "stderr",
     "output_type": "stream",
     "text": [
      "Epoch 125/125: 100%|███████████████████████████████████████████████████████████████████| 26/26 [00:06<00:00,  3.90it/s]"
     ]
    },
    {
     "name": "stdout",
     "output_type": "stream",
     "text": [
      "Epoch 125/125, Loss: 0.0053\n"
     ]
    },
    {
     "name": "stderr",
     "output_type": "stream",
     "text": [
      "\n"
     ]
    }
   ],
   "source": [
    "\n",
    "class QKVAttentionClassifier:\n",
    "    def __init__(self, word_len, words_per_phrase, batch_size, dk, dv, num_classes):\n",
    "\n",
    "        self.word_len = word_len\n",
    "        self.batch_size = batch_size\n",
    "        self.dk = dk\n",
    "        self.dv = dv\n",
    "        self.num_classes = num_classes\n",
    "        self.words_per_phrase = words_per_phrase\n",
    "        \n",
    "        # Initialize weights with Xavier/Glorot initialization\n",
    "        self.Q = np.random.randn(self.word_len, self.dk) / np.sqrt(self.word_len)  # * 0.01\n",
    "        self.K = np.random.randn(self.word_len, self.dk) / np.sqrt(self.word_len)  # * 0.01\n",
    "        self.V = np.random.randn(self.word_len, self.dk) / np.sqrt(self.word_len)  # * 0.01\n",
    "\n",
    "        # Initialize linear layer weights\n",
    "        self.linearlayer = np.random.randn(self.dk, self.num_classes) / np.sqrt(self.dk)\n",
    "        self.linear_bias = np.zeros(self.num_classes)\n",
    "\n",
    "    def softmax(self, x, axis=-1):\n",
    "        x = np.clip(x, -1e4, 1e4)  # Clip for numerical stability\n",
    "        e_x = np.exp(x - np.max(x, axis=axis, keepdims=True))\n",
    "        return e_x / np.sum(e_x, axis=axis, keepdims=True)\n",
    "\n",
    "    def cross_entropy_loss(self, predictions, target):\n",
    "        # Cross-entropy loss for a batch of predictions and targets\n",
    "        batch_loss = -np.sum(target * np.log(predictions + 1e-9), axis=1)\n",
    "        return np.mean(batch_loss)\n",
    "\n",
    "    def AttentionHead(self, Inputs):\n",
    "        self.Qval = np.dot(Inputs, self.Q)\n",
    "        self.Kval = np.dot(Inputs, self.K)\n",
    "        self.Vval = np.dot(Inputs, self.V)\n",
    "\n",
    "        QKscaled = np.matmul(self.Qval, np.transpose(self.Kval, (0, 2, 1))) / np.sqrt(self.K.shape[1])\n",
    "        # QKscaled = np.clip(QKscaled, -1e2, 1e2)\n",
    "        self.Attention_weights = self.softmax(QKscaled)\n",
    "\n",
    "        return np.matmul(self.Attention_weights, self.Vval)\n",
    "\n",
    "    def LinearLayer(self):\n",
    "        output = np.matmul(self.phrase_representation, self.linearlayer) + self.linear_bias\n",
    "        return output\n",
    "\n",
    "    def forward(self, Inputs):\n",
    "\n",
    "        Attention = self.AttentionHead(Inputs)\n",
    "\n",
    "        self.phrase_representation = np.mean(Attention, axis=1)\n",
    "\n",
    "        Zout = self.LinearLayer()\n",
    "\n",
    "        Sigma_Zout = self.softmax(Zout)\n",
    "\n",
    "        return Sigma_Zout\n",
    "        \n",
    "    def BackPropagation(self, dLoss_dSigma_Zout, inputs):\n",
    "        \n",
    "        # Gradient for linear layer\n",
    "        dlinear_dW = np.dot(self.phrase_representation.T, dLoss_dSigma_Zout)\n",
    "\n",
    "        # Gradient for bias\n",
    "        d_bias = np.sum(dLoss_dSigma_Zout, axis=0)\n",
    "        \n",
    "         # Gradient for phrase representation\n",
    "        d_phrase_rep = np.dot(dLoss_dSigma_Zout, self.linearlayer.T)\n",
    "\n",
    "        # Gradient for attention\n",
    "        dL_dA = np.array([np.outer(np.ones(self.words_per_phrase), d_phrase_rep[i, :]) for i in range(d_phrase_rep.shape[0])])\n",
    "\n",
    "        # Gradient for V\n",
    "        d_Vval=np.matmul(np.transpose(dL_dA,(0,2,1)), self.Attention_weights) \n",
    "        dLoss_dV = np.mean(np.matmul(d_Vval,inputs),axis=0).T\n",
    "        \n",
    "        #Gradient of softmax\n",
    "        dAttention_dSoftmax=np.matmul(self.Attention_weights,(1-self.Attention_weights))\n",
    "        \n",
    "        #Gradient of Q\n",
    "        dQKscaled_dQ=np.matmul(np.transpose(inputs,(0,2,1)),self.Kval)/np.sqrt(self.dk)\n",
    "        dLoss_dQ=np.mean(np.transpose(np.transpose(np.transpose(dL_dA,(0,2,1))@dAttention_dSoftmax,(0,2,1))@np.transpose( dQKscaled_dQ,(0,2,1)),(0,2,1))@self.Vval,axis=0)\n",
    "        \n",
    "        #Gradient of K\n",
    "        dQKscaled_dK=np.transpose(self.Qval,(0,2,1))@inputs/np.sqrt(self.dk) \n",
    "        dLoss_dK=np.mean(np.transpose(np.transpose(np.transpose(dL_dA,(0,2,1))@dAttention_dSoftmax,(0,2,1))@dQKscaled_dK,(0,2,1))@self.Vval,axis=0)\n",
    "        \n",
    "        #Gradient clipping\n",
    "        clip_value = 15.0\n",
    "        dLoss_dQ = np.clip(dLoss_dQ, -clip_value, clip_value)\n",
    "        dLoss_dK = np.clip(dLoss_dK, -clip_value, clip_value)\n",
    "        dLoss_dV = np.clip(dLoss_dV, -clip_value, clip_value)\n",
    "        dlinear_dW = np.clip(dlinear_dW, -clip_value, clip_value)\n",
    "        d_bias = np.clip(d_bias, -clip_value, clip_value)\n",
    "\n",
    "        self.UpdateParams(dLoss_dQ,dLoss_dK,dLoss_dV,dlinear_dW,d_bias)\n",
    "\n",
    "    \n",
    "    \n",
    "        \n",
    "\n",
    "    def UpdateParams(self, dLoss_dQ, dLoss_dK, dLoss_dV, dlinear_dW, d_bias):\n",
    "        self.Q -= self.learning_rate * dLoss_dQ\n",
    "        self.K -= self.learning_rate * dLoss_dK\n",
    "        self.V -= self.learning_rate * dLoss_dV\n",
    "        self.linearlayer -= self.learning_rate * dlinear_dW\n",
    "        self.linear_bias -= self.learning_rate * d_bias\n",
    "\n",
    "    def train(self, X_train, y_train, num_epochs, learning_rate=0.01):\n",
    "\n",
    "        self.learning_rate = learning_rate\n",
    "\n",
    "        for epoch in range(num_epochs):\n",
    "\n",
    "            total_loss = 0\n",
    "\n",
    "            num_batches_per_epoch = len(X_train) // self.batch_size\n",
    "\n",
    "            for i in tqdm(range(num_batches_per_epoch), desc=f\"Epoch {epoch + 1}/{num_epochs}\"):\n",
    "                start = i * self.batch_size\n",
    "                end = start + self.batch_size\n",
    "                X_batch = X_train[start:end]\n",
    "                y_batch = y_train[start:end]\n",
    "\n",
    "                yi = self.forward(X_batch)\n",
    "\n",
    "                Loss = self.cross_entropy_loss(yi, y_batch)\n",
    "                total_loss += Loss\n",
    "\n",
    "                dLoss_dSigma_Zout = yi - y_batch\n",
    "\n",
    "                self.BackPropagation(dLoss_dSigma_Zout, X_batch)\n",
    "\n",
    "            print(f\"Epoch {epoch + 1}/{num_epochs}, Loss: {(total_loss / num_batches_per_epoch):.4f}\")\n",
    "\n",
    "    def predict(self, X):\n",
    "        return self.forward(X)\n",
    " \n",
    "\n",
    "\n",
    "def pad_sequences(sequences, max_len):\n",
    "    padded_sequences = np.zeros((len(sequences), max_len, sequences[0].shape[1]))\n",
    "    for i, seq in enumerate(sequences):\n",
    "        length = min(seq.shape[0], max_len)\n",
    "        padded_sequences[i, :length] = seq[:length]\n",
    "    return padded_sequences\n",
    "\n",
    "word_len = 300\n",
    "word_per_phrase=70\n",
    "dk = 64\n",
    "dv = 200\n",
    "batch_size = 64\n",
    "num_classes = 5\n",
    "max_seq_length = 70\n",
    "\n",
    "# Assuming X_train and y_train are your training data and labels\n",
    "X_train_padded = pad_sequences(X_train, max_seq_length)\n",
    " \n",
    "\n",
    "model = QKVAttentionClassifier(word_len, word_per_phrase, batch_size, dk, dv, num_classes)\n",
    "model.train(X_train_padded, y_train, num_epochs=125, learning_rate=0.001)\n",
    "\n",
    "\n"
   ]
  },
  {
   "cell_type": "code",
   "execution_count": 3,
   "id": "389c7910-755c-4c1e-8add-6bd7ddde5f3a",
   "metadata": {
    "scrolled": true
   },
   "outputs": [
    {
     "data": {
      "text/plain": [
       "70"
      ]
     },
     "execution_count": 3,
     "metadata": {},
     "output_type": "execute_result"
    }
   ],
   "source": [
    "X_train_padded.shape[1]"
   ]
  },
  {
   "cell_type": "code",
   "execution_count": 59,
   "id": "4c494b7e-bc42-4def-8cec-a5a87318e67d",
   "metadata": {},
   "outputs": [],
   "source": [
    "import numpy as np\n",
    "from sklearn.metrics import confusion_matrix,f1_score\n",
    "import seaborn as sns\n",
    "import matplotlib.pyplot as plt"
   ]
  },
  {
   "cell_type": "code",
   "execution_count": 92,
   "id": "01641a4a-e67b-49a4-ac2e-a022304ec8e2",
   "metadata": {
    "scrolled": true
   },
   "outputs": [
    {
     "data": {
      "image/png": "[encoded data removed]",
      "text/plain": [
       "<Figure size 500x500 with 2 Axes>"
      ]
     },
     "metadata": {},
     "output_type": "display_data"
    }
   ],
   "source": [
    "X_test= pad_sequences(X_test, max_seq_length)\n",
    "\n",
    "predictions = model.predict(X_test)\n",
    "y_pred = np.argmax(predictions, axis=1)\n",
    "\n",
    "# Convert one-hot encoded true labels to class labels\n",
    "y_true = np.argmax(y_test, axis=1) \n",
    "# Compute confusion matrix\n",
    "cm = confusion_matrix(y_true, y_pred, labels=np.arange(5))\n",
    "\n",
    "# Visualize the confusion matrix\n",
    "plt.figure(figsize=(5, 5))\n",
    "sns.heatmap(cm, annot=True, fmt='d', cmap='Blues', xticklabels=np.arange(5), yticklabels=np.arange(5))\n",
    "plt.xlabel('Predicted Label')\n",
    "plt.ylabel('True Label')\n",
    "plt.title('Confusion Matrix')\n",
    "plt.show()\n"
   ]
  },
  {
   "cell_type": "code",
   "execution_count": 66,
   "id": "f5108cc7-e1cc-4928-a3a8-6cb5d74502de",
   "metadata": {
    "scrolled": true
   },
   "outputs": [
    {
     "data": {
      "text/plain": [
       "array([0.89824561, 0.94565217, 0.89130435, 0.96      , 0.9478673 ])"
      ]
     },
     "execution_count": 66,
     "metadata": {},
     "output_type": "execute_result"
    }
   ],
   "source": [
    "f1_score(y_pred,y_true,average=None)"
   ]
  },
  {
   "cell_type": "code",
   "execution_count": 93,
   "id": "388d96c7-4198-444a-a879-38dfd1527902",
   "metadata": {},
   "outputs": [
    {
     "data": {
      "text/plain": [
       "array([0.91320755, 0.95384615, 0.90640394, 0.97991968, 0.95049505])"
      ]
     },
     "execution_count": 93,
     "metadata": {},
     "output_type": "execute_result"
    }
   ],
   "source": [
    "f1_score(y_pred,y_true,average=None)"
   ]
  },
  {
   "cell_type": "code",
   "execution_count": 25,
   "id": "7e7ceaa2-e90f-4522-a6eb-5c3fabb752cd",
   "metadata": {},
   "outputs": [
    {
     "data": {
      "image/png": "[encoded data removed]",
      "text/plain": [
       "<Figure size 500x500 with 2 Axes>"
      ]
     },
     "metadata": {},
     "output_type": "display_data"
    }
   ],
   "source": [
    "X_test= pad_sequences(X_test, max_seq_length)\n",
    "\n",
    "predictions = classifier.predict(X_test)\n",
    "y_pred = np.argmax(predictions, axis=1)\n",
    "\n",
    "# Convert one-hot encoded true labels to class labels\n",
    "y_true = np.argmax(y_test, axis=1) \n",
    "# Compute confusion matrix\n",
    "cm = confusion_matrix(y_true, y_pred, labels=np.arange(5))\n",
    "\n",
    "# Visualize the confusion matrix\n",
    "plt.figure(figsize=(5, 5))\n",
    "sns.heatmap(cm, annot=True, fmt='d', cmap='Blues', xticklabels=np.arange(5), yticklabels=np.arange(5))\n",
    "plt.xlabel('Predicted Label')\n",
    "plt.ylabel('True Label')\n",
    "plt.title('Confusion Matrix')\n",
    "plt.show()"
   ]
  },
  {
   "cell_type": "code",
   "execution_count": null,
   "id": "22a1638f-fa3c-48aa-8314-e5f934c8c0dc",
   "metadata": {},
   "outputs": [],
   "source": []
  },
  {
   "cell_type": "code",
   "execution_count": null,
   "id": "2d3a3e38-6051-49da-afda-adc678a81f90",
   "metadata": {},
   "outputs": [],
   "source": []
  },
  {
   "cell_type": "code",
   "execution_count": 1,
   "id": "ee2c4570-5df9-4b65-bc33-3b71cef36eb5",
   "metadata": {
    "scrolled": true
   },
   "outputs": [],
   "source": [
    "import spacy \n",
    "import numpy as np \n",
    "import pandas as pd\n",
    "#df=pd.read_csv(\"data/bbc-text.csv\")\n",
    "nlp = spacy.load('en_core_web_lg')\n",
    " \n",
    "# def preprocess_text(text, max_words=70):\n",
    "#     # Process the text using SpaCy\n",
    "#     doc = nlp(text)\n",
    "    \n",
    "#     # Filter out stopwords, punctuation, and spaces\n",
    "#     tokens = [token.text for token in doc if not token.is_stop and not token.is_punct and not token.is_space]\n",
    "    \n",
    "#     # Limit to the top 'max_words' words and pad if necessary\n",
    "#     if len(tokens) > max_words:\n",
    "#         tokens = tokens[:max_words]  # Keep the first max_words words\n",
    "#     else:\n",
    "#         tokens += ['<PAD>'] * (max_words - len(tokens))  # Pad the list with '<PAD>' token\n",
    "    \n",
    "#     # Join the tokens back into a string or return a list\n",
    "#     return tokens\n",
    "# df['processed_text'] = df['text'].apply(preprocess_text)\n",
    "# df['processed_text']\n",
    "\n",
    "\n",
    "# inputs = [] \n",
    "# # Process each phrase in the 'category' column\n",
    "# for phrase in list(df['processed_text']):\n",
    "#     doc = nlp(\" \".join(phrase))  # Process the phrase with SpaCy\n",
    "#     # Extract word vectors\n",
    "#     matrix = np.array([token.vector for token in doc])\n",
    "#     inputs.append(matrix)\n",
    "\n",
    "\n",
    "\n"
   ]
  },
  {
   "cell_type": "code",
   "execution_count": 2,
   "id": "8f9407be-9310-49e9-b752-cf53e432c109",
   "metadata": {},
   "outputs": [],
   "source": [
    "def get_train_test_data(data_dir):\n",
    "    # Get the train data\n",
    "    train_data = pd.read_json(f\"{data_dir}/train.json\")\n",
    "    train_data.drop(['id'], axis=1, inplace=True)\n",
    "\n",
    "    # Get the test data\n",
    "    test_data = pd.read_json(f\"{data_dir}/test.json\")\n",
    "    test_data.drop(['id'], axis=1, inplace=True)\n",
    "    \n",
    "    return train_data, test_data\n",
    "\n",
    "data_dir = \"corpus\"\n",
    "\n",
    "df_train, df_test = get_train_test_data(data_dir)\n",
    "\n",
    "# Take one example from the dataset and print it\n",
    " \n",
    " "
   ]
  },
  {
   "cell_type": "code",
   "execution_count": 3,
   "id": "701a663c-3638-4c2a-b20f-5b046d809291",
   "metadata": {},
   "outputs": [
    {
     "data": {
      "text/html": [
       "<div>\n",
       "<style scoped>\n",
       "    .dataframe tbody tr th:only-of-type {\n",
       "        vertical-align: middle;\n",
       "    }\n",
       "\n",
       "    .dataframe tbody tr th {\n",
       "        vertical-align: top;\n",
       "    }\n",
       "\n",
       "    .dataframe thead th {\n",
       "        text-align: right;\n",
       "    }\n",
       "</style>\n",
       "<table border=\"1\" class=\"dataframe\">\n",
       "  <thead>\n",
       "    <tr style=\"text-align: right;\">\n",
       "      <th></th>\n",
       "      <th>summary</th>\n",
       "      <th>dialogue</th>\n",
       "    </tr>\n",
       "  </thead>\n",
       "  <tbody>\n",
       "    <tr>\n",
       "      <th>0</th>\n",
       "      <td>Amanda baked cookies and will bring Jerry some...</td>\n",
       "      <td>Amanda: I baked  cookies. Do you want some?\\r\\...</td>\n",
       "    </tr>\n",
       "    <tr>\n",
       "      <th>1</th>\n",
       "      <td>Olivia and Olivier are voting for liberals in ...</td>\n",
       "      <td>Olivia: Who are you voting for in this electio...</td>\n",
       "    </tr>\n",
       "    <tr>\n",
       "      <th>2</th>\n",
       "      <td>Kim may try the pomodoro technique recommended...</td>\n",
       "      <td>Tim: Hi, what's up?\\r\\nKim: Bad mood tbh, I wa...</td>\n",
       "    </tr>\n",
       "    <tr>\n",
       "      <th>3</th>\n",
       "      <td>Edward thinks he is in love with Bella. Rachel...</td>\n",
       "      <td>Edward: Rachel, I think I'm in ove with Bella....</td>\n",
       "    </tr>\n",
       "    <tr>\n",
       "      <th>4</th>\n",
       "      <td>Sam is confused, because he overheard Rick com...</td>\n",
       "      <td>Sam: hey  overheard rick say something\\r\\nSam:...</td>\n",
       "    </tr>\n",
       "    <tr>\n",
       "      <th>...</th>\n",
       "      <td>...</td>\n",
       "      <td>...</td>\n",
       "    </tr>\n",
       "    <tr>\n",
       "      <th>14727</th>\n",
       "      <td>Romeo is trying to get Greta to add him to her...</td>\n",
       "      <td>Romeo: You are on my ‘People you may know’ lis...</td>\n",
       "    </tr>\n",
       "    <tr>\n",
       "      <th>14728</th>\n",
       "      <td>Theresa is at work. She gets free food and fre...</td>\n",
       "      <td>Theresa: &lt;file_photo&gt;\\r\\nTheresa: &lt;file_photo&gt;...</td>\n",
       "    </tr>\n",
       "    <tr>\n",
       "      <th>14729</th>\n",
       "      <td>Japan is going to hunt whales again. Island an...</td>\n",
       "      <td>John: Every day some bad news. Japan will hunt...</td>\n",
       "    </tr>\n",
       "    <tr>\n",
       "      <th>14730</th>\n",
       "      <td>Celia couldn't make it to the afternoon with t...</td>\n",
       "      <td>Jennifer: Dear Celia! How are you doing?\\r\\nJe...</td>\n",
       "    </tr>\n",
       "    <tr>\n",
       "      <th>14731</th>\n",
       "      <td>Georgia and Juliette are looking for a hotel i...</td>\n",
       "      <td>Georgia: are you ready for hotel hunting? We n...</td>\n",
       "    </tr>\n",
       "  </tbody>\n",
       "</table>\n",
       "<p>14732 rows × 2 columns</p>\n",
       "</div>"
      ],
      "text/plain": [
       "                                                 summary  \\\n",
       "0      Amanda baked cookies and will bring Jerry some...   \n",
       "1      Olivia and Olivier are voting for liberals in ...   \n",
       "2      Kim may try the pomodoro technique recommended...   \n",
       "3      Edward thinks he is in love with Bella. Rachel...   \n",
       "4      Sam is confused, because he overheard Rick com...   \n",
       "...                                                  ...   \n",
       "14727  Romeo is trying to get Greta to add him to her...   \n",
       "14728  Theresa is at work. She gets free food and fre...   \n",
       "14729  Japan is going to hunt whales again. Island an...   \n",
       "14730  Celia couldn't make it to the afternoon with t...   \n",
       "14731  Georgia and Juliette are looking for a hotel i...   \n",
       "\n",
       "                                                dialogue  \n",
       "0      Amanda: I baked  cookies. Do you want some?\\r\\...  \n",
       "1      Olivia: Who are you voting for in this electio...  \n",
       "2      Tim: Hi, what's up?\\r\\nKim: Bad mood tbh, I wa...  \n",
       "3      Edward: Rachel, I think I'm in ove with Bella....  \n",
       "4      Sam: hey  overheard rick say something\\r\\nSam:...  \n",
       "...                                                  ...  \n",
       "14727  Romeo: You are on my ‘People you may know’ lis...  \n",
       "14728  Theresa: <file_photo>\\r\\nTheresa: <file_photo>...  \n",
       "14729  John: Every day some bad news. Japan will hunt...  \n",
       "14730  Jennifer: Dear Celia! How are you doing?\\r\\nJe...  \n",
       "14731  Georgia: are you ready for hotel hunting? We n...  \n",
       "\n",
       "[14732 rows x 2 columns]"
      ]
     },
     "execution_count": 3,
     "metadata": {},
     "output_type": "execute_result"
    }
   ],
   "source": [
    "df_train"
   ]
  },
  {
   "cell_type": "code",
   "execution_count": 7,
   "id": "88b2430d-9fe8-4326-ac52-4b533747ccfb",
   "metadata": {
    "scrolled": true
   },
   "outputs": [
    {
     "data": {
      "image/png": "[encoded data removed]",
      "text/plain": [
       "<Figure size 1000x600 with 1 Axes>"
      ]
     },
     "metadata": {},
     "output_type": "display_data"
    }
   ],
   "source": [
    "import pandas as pd\n",
    "import matplotlib.pyplot as plt\n",
    "import seaborn as sns\n",
    "# Calculate word count for each dialogue\n",
    "df_train['word_count'] = df_train['dialogue'].apply(lambda x: len(x.split()))\n",
    "df_test['word_count'] = df_test['dialogue'].apply(lambda x: len(x.split()))\n",
    "\n",
    "maxlen=200\n",
    "# Filter out rows where word count is less than 300\n",
    "df_train = df_train[df_train['word_count'] <  maxlen]\n",
    "df_test = df_test[df_test['word_count'] <  maxlen]\n",
    "# Plot histogram using Seaborn or Matplotlib\n",
    "plt.figure(figsize=(10, 6))\n",
    "sns.histplot(df_train['word_count'], bins=20, kde=False)\n",
    "plt.title('Histogram of Dialogue Lengths (Word Count)')\n",
    "plt.xlabel('Number of Words')\n",
    "plt.ylabel('Frequency')\n",
    "plt.show()\n"
   ]
  },
  {
   "cell_type": "code",
   "execution_count": 8,
   "id": "945ba48d-a220-4a51-a829-96b673e2058c",
   "metadata": {},
   "outputs": [
    {
     "data": {
      "text/html": [
       "<div>\n",
       "<style scoped>\n",
       "    .dataframe tbody tr th:only-of-type {\n",
       "        vertical-align: middle;\n",
       "    }\n",
       "\n",
       "    .dataframe tbody tr th {\n",
       "        vertical-align: top;\n",
       "    }\n",
       "\n",
       "    .dataframe thead th {\n",
       "        text-align: right;\n",
       "    }\n",
       "</style>\n",
       "<table border=\"1\" class=\"dataframe\">\n",
       "  <thead>\n",
       "    <tr style=\"text-align: right;\">\n",
       "      <th></th>\n",
       "      <th>summary</th>\n",
       "      <th>dialogue</th>\n",
       "      <th>word_count</th>\n",
       "    </tr>\n",
       "  </thead>\n",
       "  <tbody>\n",
       "    <tr>\n",
       "      <th>0</th>\n",
       "      <td>Amanda baked cookies and will bring Jerry some...</td>\n",
       "      <td>Amanda: I baked  cookies. Do you want some?\\r\\...</td>\n",
       "      <td>16</td>\n",
       "    </tr>\n",
       "    <tr>\n",
       "      <th>1</th>\n",
       "      <td>Olivia and Olivier are voting for liberals in ...</td>\n",
       "      <td>Olivia: Who are you voting for in this electio...</td>\n",
       "      <td>18</td>\n",
       "    </tr>\n",
       "    <tr>\n",
       "      <th>2</th>\n",
       "      <td>Kim may try the pomodoro technique recommended...</td>\n",
       "      <td>Tim: Hi, what's up?\\r\\nKim: Bad mood tbh, I wa...</td>\n",
       "      <td>98</td>\n",
       "    </tr>\n",
       "    <tr>\n",
       "      <th>3</th>\n",
       "      <td>Edward thinks he is in love with Bella. Rachel...</td>\n",
       "      <td>Edward: Rachel, I think I'm in ove with Bella....</td>\n",
       "      <td>26</td>\n",
       "    </tr>\n",
       "    <tr>\n",
       "      <th>4</th>\n",
       "      <td>Sam is confused, because he overheard Rick com...</td>\n",
       "      <td>Sam: hey  overheard rick say something\\r\\nSam:...</td>\n",
       "      <td>179</td>\n",
       "    </tr>\n",
       "    <tr>\n",
       "      <th>...</th>\n",
       "      <td>...</td>\n",
       "      <td>...</td>\n",
       "      <td>...</td>\n",
       "    </tr>\n",
       "    <tr>\n",
       "      <th>14725</th>\n",
       "      <td>Czar's profile on Kakaotalk shows a text in a ...</td>\n",
       "      <td>Dakarai: What does that mean on your profile s...</td>\n",
       "      <td>59</td>\n",
       "    </tr>\n",
       "    <tr>\n",
       "      <th>14726</th>\n",
       "      <td>Barbara and Jess won't meet tonight, because B...</td>\n",
       "      <td>Jess: Hi, sorry but I can't come tonight :-(\\r...</td>\n",
       "      <td>141</td>\n",
       "    </tr>\n",
       "    <tr>\n",
       "      <th>14727</th>\n",
       "      <td>Romeo is trying to get Greta to add him to her...</td>\n",
       "      <td>Romeo: You are on my ‘People you may know’ lis...</td>\n",
       "      <td>56</td>\n",
       "    </tr>\n",
       "    <tr>\n",
       "      <th>14728</th>\n",
       "      <td>Theresa is at work. She gets free food and fre...</td>\n",
       "      <td>Theresa: &lt;file_photo&gt;\\r\\nTheresa: &lt;file_photo&gt;...</td>\n",
       "      <td>198</td>\n",
       "    </tr>\n",
       "    <tr>\n",
       "      <th>14729</th>\n",
       "      <td>Japan is going to hunt whales again. Island an...</td>\n",
       "      <td>John: Every day some bad news. Japan will hunt...</td>\n",
       "      <td>142</td>\n",
       "    </tr>\n",
       "  </tbody>\n",
       "</table>\n",
       "<p>13459 rows × 3 columns</p>\n",
       "</div>"
      ],
      "text/plain": [
       "                                                 summary  \\\n",
       "0      Amanda baked cookies and will bring Jerry some...   \n",
       "1      Olivia and Olivier are voting for liberals in ...   \n",
       "2      Kim may try the pomodoro technique recommended...   \n",
       "3      Edward thinks he is in love with Bella. Rachel...   \n",
       "4      Sam is confused, because he overheard Rick com...   \n",
       "...                                                  ...   \n",
       "14725  Czar's profile on Kakaotalk shows a text in a ...   \n",
       "14726  Barbara and Jess won't meet tonight, because B...   \n",
       "14727  Romeo is trying to get Greta to add him to her...   \n",
       "14728  Theresa is at work. She gets free food and fre...   \n",
       "14729  Japan is going to hunt whales again. Island an...   \n",
       "\n",
       "                                                dialogue  word_count  \n",
       "0      Amanda: I baked  cookies. Do you want some?\\r\\...          16  \n",
       "1      Olivia: Who are you voting for in this electio...          18  \n",
       "2      Tim: Hi, what's up?\\r\\nKim: Bad mood tbh, I wa...          98  \n",
       "3      Edward: Rachel, I think I'm in ove with Bella....          26  \n",
       "4      Sam: hey  overheard rick say something\\r\\nSam:...         179  \n",
       "...                                                  ...         ...  \n",
       "14725  Dakarai: What does that mean on your profile s...          59  \n",
       "14726  Jess: Hi, sorry but I can't come tonight :-(\\r...         141  \n",
       "14727  Romeo: You are on my ‘People you may know’ lis...          56  \n",
       "14728  Theresa: <file_photo>\\r\\nTheresa: <file_photo>...         198  \n",
       "14729  John: Every day some bad news. Japan will hunt...         142  \n",
       "\n",
       "[13459 rows x 3 columns]"
      ]
     },
     "execution_count": 8,
     "metadata": {},
     "output_type": "execute_result"
    }
   ],
   "source": [
    "df_train"
   ]
  },
  {
   "cell_type": "code",
   "execution_count": 9,
   "id": "35a8c8e7-6896-4bc6-8779-a6951dd58ff6",
   "metadata": {
    "scrolled": true
   },
   "outputs": [
    {
     "name": "stderr",
     "output_type": "stream",
     "text": [
      "C:\\Users\\dials\\AppData\\Local\\Temp\\ipykernel_52444\\1088077169.py:16: SettingWithCopyWarning: \n",
      "A value is trying to be set on a copy of a slice from a DataFrame.\n",
      "Try using .loc[row_indexer,col_indexer] = value instead\n",
      "\n",
      "See the caveats in the documentation: https://pandas.pydata.org/pandas-docs/stable/user_guide/indexing.html#returning-a-view-versus-a-copy\n",
      "  df_train['processed_text'] = df_train['dialogue'].apply(preprocess_text)\n"
     ]
    },
    {
     "data": {
      "text/plain": [
       "0        [Amanda, I, baked, cookies, Do, you, want, som...\n",
       "1        [Olivia, Who, are, you, voting, for, in, this,...\n",
       "2        [Tim, Hi, what, 's, up, Kim, Bad, mood, tbh, I...\n",
       "3        [Edward, Rachel, I, think, I, 'm, in, ove, wit...\n",
       "4        [Sam, hey, overheard, rick, say, something, Sa...\n",
       "                               ...                        \n",
       "14725    [Dakarai, What, does, that, mean, on, your, pr...\n",
       "14726    [Jess, Hi, sorry, but, I, ca, n't, come, tonig...\n",
       "14727    [Romeo, You, are, on, my, People, you, may, kn...\n",
       "14728    [Theresa, <, file_photo, >, Theresa, <, file_p...\n",
       "14729    [John, Every, day, some, bad, news, Japan, wil...\n",
       "Name: processed_text, Length: 13459, dtype: object"
      ]
     },
     "execution_count": 9,
     "metadata": {},
     "output_type": "execute_result"
    }
   ],
   "source": [
    "def preprocess_text(text, max_words=300):\n",
    "    # Process the text using SpaCy\n",
    "    doc = nlp(text)\n",
    "    \n",
    "    # Filter out stopwords, punctuation, and spaces\n",
    "    tokens = [token.text for token in doc if  not token.is_punct and not token.is_space]\n",
    "    \n",
    "    # Limit to the top 'max_words' words and pad if necessary\n",
    "    if len(tokens) > max_words:\n",
    "        tokens = tokens[:max_words]  # Keep the first max_words words\n",
    "    else:\n",
    "        tokens += ['<PAD>'] * (max_words - len(tokens))  # Pad the list with '<PAD>' token\n",
    "    \n",
    "    # Join the tokens back into a string or return a list\n",
    "    return tokens\n",
    "df_train['processed_text'] = df_train['dialogue'].apply(preprocess_text)\n",
    "df_train['processed_text']"
   ]
  },
  {
   "cell_type": "code",
   "execution_count": null,
   "id": "8e07b395-53d7-4664-b661-15926630f012",
   "metadata": {
    "scrolled": true
   },
   "outputs": [],
   "source": [
    "\n",
    "\n"
   ]
  },
  {
   "cell_type": "code",
   "execution_count": 9,
   "id": "1f2ac808-2ecb-4fc0-9de6-e330fcd91a12",
   "metadata": {
    "scrolled": true
   },
   "outputs": [
    {
     "name": "stderr",
     "output_type": "stream",
     "text": [
      "C:\\Users\\dials\\AppData\\Local\\Temp\\ipykernel_52444\\1088077169.py:16: SettingWithCopyWarning: \n",
      "A value is trying to be set on a copy of a slice from a DataFrame.\n",
      "Try using .loc[row_indexer,col_indexer] = value instead\n",
      "\n",
      "See the caveats in the documentation: https://pandas.pydata.org/pandas-docs/stable/user_guide/indexing.html#returning-a-view-versus-a-copy\n",
      "  df_train['processed_text'] = df_train['dialogue'].apply(preprocess_text)\n"
     ]
    },
    {
     "data": {
      "text/plain": [
       "0        [Amanda, I, baked, cookies, Do, you, want, som...\n",
       "1        [Olivia, Who, are, you, voting, for, in, this,...\n",
       "2        [Tim, Hi, what, 's, up, Kim, Bad, mood, tbh, I...\n",
       "3        [Edward, Rachel, I, think, I, 'm, in, ove, wit...\n",
       "4        [Sam, hey, overheard, rick, say, something, Sa...\n",
       "                               ...                        \n",
       "14725    [Dakarai, What, does, that, mean, on, your, pr...\n",
       "14726    [Jess, Hi, sorry, but, I, ca, n't, come, tonig...\n",
       "14727    [Romeo, You, are, on, my, People, you, may, kn...\n",
       "14728    [Theresa, <, file_photo, >, Theresa, <, file_p...\n",
       "14729    [John, Every, day, some, bad, news, Japan, wil...\n",
       "Name: processed_text, Length: 13459, dtype: object"
      ]
     },
     "execution_count": 9,
     "metadata": {},
     "output_type": "execute_result"
    }
   ],
   "source": [
    "def preprocess_text(text, max_words=300):\n",
    "    # Process the text using SpaCy\n",
    "    doc = nlp(text)\n",
    "    \n",
    "    # Filter out stopwords, punctuation, and spaces\n",
    "    tokens = [token.text for token in doc if  not token.is_punct and not token.is_space]\n",
    "    \n",
    "    # Limit to the top 'max_words' words and pad if necessary\n",
    "    if len(tokens) > max_words:\n",
    "        tokens = tokens[:max_words]  # Keep the first max_words words\n",
    "    else:\n",
    "        tokens += ['<PAD>'] * (max_words - len(tokens))  # Pad the list with '<PAD>' token\n",
    "    \n",
    "    # Join the tokens back into a string or return a list\n",
    "    return tokens\n",
    "df_train['processed_text'] = df_train['dialogue'].apply(preprocess_text)\n",
    "df_train['processed_text']"
   ]
  },
  {
   "cell_type": "code",
   "execution_count": 11,
   "id": "5e7e7641-6eb1-4f9c-9c77-6c4772d814a9",
   "metadata": {},
   "outputs": [
    {
     "data": {
      "text/plain": [
       "31546"
      ]
     },
     "execution_count": 11,
     "metadata": {},
     "output_type": "execute_result"
    }
   ],
   "source": [
    "all_words =  [x for sublist in [word for word in df_train[\"processed_text\"]] for x in sublist]\n",
    "\n",
    "# Get the unique words by converting to a set, then back to a listdialogue\n",
    "unique_words = list(set(all_words))\n",
    "\n",
    "len(unique_words)"
   ]
  },
  {
   "cell_type": "code",
   "execution_count": null,
   "id": "08e1c048-929f-4d6c-9e9c-28e6b1b0aa64",
   "metadata": {},
   "outputs": [],
   "source": [
    "dialogue"
   ]
  },
  {
   "cell_type": "code",
   "execution_count": 192,
   "id": "fc12c53c-699a-4444-b3f0-2fa03813f9df",
   "metadata": {
    "scrolled": true
   },
   "outputs": [
    {
     "data": {
      "text/plain": [
       "['Amanda:',\n",
       " 'I',\n",
       " 'baked',\n",
       " '',\n",
       " 'cookies.',\n",
       " 'Do',\n",
       " 'you',\n",
       " 'want',\n",
       " 'some?\\r\\nJerry:',\n",
       " 'Sure!\\r\\nAmanda:',\n",
       " \"I'll\",\n",
       " 'bring',\n",
       " 'you',\n",
       " 'tomorrow',\n",
       " ':-)',\n",
       " 'Olivia:',\n",
       " 'Who',\n",
       " 'are',\n",
       " 'you',\n",
       " 'voting',\n",
       " 'for',\n",
       " 'in',\n",
       " 'this',\n",
       " 'election?',\n",
       " '\\r\\nOliver:',\n",
       " 'Liberals',\n",
       " 'as',\n",
       " 'always.\\r\\nOlivia:',\n",
       " 'Me',\n",
       " 'too!!\\r\\nOliver:',\n",
       " 'Great',\n",
       " 'Tim:',\n",
       " 'Hi,',\n",
       " \"what's\",\n",
       " 'up?\\r\\nKim:',\n",
       " 'Bad',\n",
       " 'mood',\n",
       " 'tbh,',\n",
       " 'I',\n",
       " 'was',\n",
       " 'going',\n",
       " 'to',\n",
       " 'do',\n",
       " 'lots',\n",
       " 'of',\n",
       " 'stuff',\n",
       " 'but',\n",
       " 'ended',\n",
       " 'up',\n",
       " 'procrastinating\\r\\nTim:',\n",
       " 'What',\n",
       " 'did',\n",
       " 'you',\n",
       " 'plan',\n",
       " 'on',\n",
       " 'doing?\\r\\nKim:',\n",
       " 'Oh',\n",
       " 'you',\n",
       " 'know,',\n",
       " 'uni',\n",
       " 'stuff',\n",
       " 'and',\n",
       " 'unfucking',\n",
       " 'my',\n",
       " 'room\\r\\nKim:',\n",
       " 'Maybe',\n",
       " 'tomorrow',\n",
       " \"I'll\",\n",
       " 'move',\n",
       " 'my',\n",
       " 'ass',\n",
       " 'and',\n",
       " 'do',\n",
       " 'everything\\r\\nKim:',\n",
       " 'We',\n",
       " 'were',\n",
       " 'going',\n",
       " 'to',\n",
       " 'defrost',\n",
       " 'a',\n",
       " 'fridge',\n",
       " 'so',\n",
       " 'instead',\n",
       " 'of',\n",
       " 'shopping',\n",
       " \"I'll\",\n",
       " 'eat',\n",
       " 'some',\n",
       " 'defrosted',\n",
       " 'veggies\\r\\nTim:',\n",
       " 'For',\n",
       " 'doing',\n",
       " 'stuff',\n",
       " 'I',\n",
       " 'recommend',\n",
       " 'Pomodoro',\n",
       " 'technique',\n",
       " 'where',\n",
       " 'u',\n",
       " 'use',\n",
       " 'breaks',\n",
       " 'for',\n",
       " 'doing',\n",
       " 'chores\\r\\nTim:',\n",
       " 'It',\n",
       " 'really',\n",
       " 'helps\\r\\nKim:',\n",
       " 'thanks,',\n",
       " 'maybe',\n",
       " \"I'll\",\n",
       " 'do',\n",
       " 'that\\r\\nTim:',\n",
       " 'I',\n",
       " 'also',\n",
       " 'like',\n",
       " 'using',\n",
       " 'post-its',\n",
       " 'in',\n",
       " 'kaban',\n",
       " 'style',\n",
       " 'Edward:',\n",
       " 'Rachel,',\n",
       " 'I',\n",
       " 'think',\n",
       " \"I'm\",\n",
       " 'in',\n",
       " 'ove',\n",
       " 'with',\n",
       " 'Bella..\\r\\nrachel:',\n",
       " 'Dont',\n",
       " 'say',\n",
       " 'anything',\n",
       " 'else..\\r\\nEdward:',\n",
       " 'What',\n",
       " 'do',\n",
       " 'you',\n",
       " 'mean??\\r\\nrachel:',\n",
       " 'Open',\n",
       " 'your',\n",
       " 'fu**ing',\n",
       " 'door..',\n",
       " \"I'm\",\n",
       " 'outside',\n",
       " 'Sam:',\n",
       " 'hey',\n",
       " '',\n",
       " 'overheard',\n",
       " 'rick',\n",
       " 'say',\n",
       " 'something\\r\\nSam:',\n",
       " 'i',\n",
       " \"don't\",\n",
       " 'know',\n",
       " 'what',\n",
       " 'to',\n",
       " 'do',\n",
       " ':-/\\r\\nNaomi:',\n",
       " 'what',\n",
       " 'did',\n",
       " 'he',\n",
       " 'say??\\r\\nSam:',\n",
       " 'he',\n",
       " 'was',\n",
       " 'talking',\n",
       " 'on',\n",
       " 'the',\n",
       " 'phone',\n",
       " 'with',\n",
       " 'someone\\r\\nSam:',\n",
       " 'i',\n",
       " \"don't\",\n",
       " 'know',\n",
       " 'who\\r\\nSam:',\n",
       " 'and',\n",
       " 'he',\n",
       " 'was',\n",
       " 'telling',\n",
       " 'them',\n",
       " 'that',\n",
       " 'he',\n",
       " \"wasn't\",\n",
       " 'very',\n",
       " 'happy',\n",
       " 'here\\r\\nNaomi:',\n",
       " 'damn!!!\\r\\nSam:',\n",
       " 'he',\n",
       " 'was',\n",
       " 'saying',\n",
       " 'he',\n",
       " \"doesn't\",\n",
       " 'like',\n",
       " 'being',\n",
       " 'my',\n",
       " 'roommate\\r\\nNaomi:',\n",
       " 'wow,',\n",
       " 'how',\n",
       " 'do',\n",
       " 'you',\n",
       " 'feel',\n",
       " 'about',\n",
       " 'it?\\r\\nSam:',\n",
       " 'i',\n",
       " 'thought',\n",
       " 'i',\n",
       " 'was',\n",
       " 'a',\n",
       " 'good',\n",
       " 'rommate\\r\\nSam:',\n",
       " 'and',\n",
       " 'that',\n",
       " 'we',\n",
       " 'have',\n",
       " 'a',\n",
       " 'nice',\n",
       " 'place\\r\\nNaomi:',\n",
       " \"that's\",\n",
       " 'true',\n",
       " 'man!!!\\r\\nNaomi:',\n",
       " 'i',\n",
       " 'used',\n",
       " 'to',\n",
       " 'love',\n",
       " 'living',\n",
       " 'with',\n",
       " 'you',\n",
       " 'before',\n",
       " 'i',\n",
       " 'moved',\n",
       " 'in',\n",
       " 'with',\n",
       " 'me',\n",
       " 'boyfriend\\r\\nNaomi:',\n",
       " 'i',\n",
       " \"don't\",\n",
       " 'know',\n",
       " 'why',\n",
       " \"he's\",\n",
       " 'saying',\n",
       " 'that\\r\\nSam:',\n",
       " 'what',\n",
       " 'should',\n",
       " 'i',\n",
       " 'do???\\r\\nNaomi:',\n",
       " 'honestly',\n",
       " 'if',\n",
       " \"it's\",\n",
       " 'bothering',\n",
       " 'you',\n",
       " 'that',\n",
       " 'much',\n",
       " 'you',\n",
       " 'should',\n",
       " 'talk',\n",
       " 'to',\n",
       " 'him\\r\\nNaomi:',\n",
       " 'see',\n",
       " \"what's\",\n",
       " 'going',\n",
       " 'on\\r\\nSam:',\n",
       " 'i',\n",
       " \"don't\",\n",
       " 'want',\n",
       " 'to',\n",
       " 'get',\n",
       " 'in',\n",
       " 'any',\n",
       " 'kind',\n",
       " 'of',\n",
       " 'confrontation',\n",
       " 'though\\r\\nSam:',\n",
       " 'maybe',\n",
       " \"i'll\",\n",
       " 'just',\n",
       " 'let',\n",
       " 'it',\n",
       " 'go\\r\\nSam:',\n",
       " 'and',\n",
       " 'see',\n",
       " 'how',\n",
       " 'it',\n",
       " 'goes',\n",
       " 'in',\n",
       " 'the',\n",
       " 'future\\r\\nNaomi:',\n",
       " \"it's\",\n",
       " 'your',\n",
       " 'choice',\n",
       " 'sam\\r\\nNaomi:',\n",
       " 'if',\n",
       " 'i',\n",
       " 'were',\n",
       " 'you',\n",
       " 'i',\n",
       " 'would',\n",
       " 'just',\n",
       " 'talk',\n",
       " 'to',\n",
       " 'him',\n",
       " 'and',\n",
       " 'clear',\n",
       " 'the',\n",
       " 'air',\n",
       " 'Neville:',\n",
       " 'Hi',\n",
       " 'there,',\n",
       " 'does',\n",
       " 'anyone',\n",
       " 'remember',\n",
       " 'what',\n",
       " 'date',\n",
       " 'I',\n",
       " 'got',\n",
       " 'married',\n",
       " 'on?\\r\\nDon:',\n",
       " 'Are',\n",
       " 'you',\n",
       " 'serious?\\r\\nNeville:',\n",
       " 'Dead',\n",
       " 'serious.',\n",
       " \"We're\",\n",
       " 'on',\n",
       " 'vacation,',\n",
       " 'and',\n",
       " \"Tina's\",\n",
       " 'mad',\n",
       " 'at',\n",
       " 'me',\n",
       " 'about',\n",
       " 'something.',\n",
       " 'I',\n",
       " 'have',\n",
       " 'a',\n",
       " 'strange',\n",
       " 'suspicion',\n",
       " 'that',\n",
       " 'this',\n",
       " 'might',\n",
       " 'have',\n",
       " 'something',\n",
       " 'to',\n",
       " 'do',\n",
       " 'with',\n",
       " 'our',\n",
       " 'wedding',\n",
       " 'anniversary,',\n",
       " 'but',\n",
       " 'I',\n",
       " 'have',\n",
       " 'nowhere',\n",
       " 'to',\n",
       " 'check.\\r\\nWyatt:',\n",
       " 'Hang',\n",
       " 'on,',\n",
       " \"I'll\",\n",
       " 'ask',\n",
       " 'my',\n",
       " 'wife.\\r\\nDon:',\n",
       " 'Haha,',\n",
       " \"someone's\",\n",
       " 'in',\n",
       " 'a',\n",
       " 'lot',\n",
       " 'of',\n",
       " 'trouble',\n",
       " ':D\\r\\nWyatt:',\n",
       " 'September',\n",
       " '17.',\n",
       " 'I',\n",
       " 'hope',\n",
       " 'you',\n",
       " 'remember',\n",
       " 'the',\n",
       " 'year',\n",
       " ';)',\n",
       " 'Sarah:',\n",
       " 'I',\n",
       " 'found',\n",
       " 'a',\n",
       " 'song',\n",
       " 'on',\n",
       " 'youtube',\n",
       " 'and',\n",
       " 'I',\n",
       " 'think',\n",
       " \"you'll\",\n",
       " 'like',\n",
       " 'it\\r\\nJames:',\n",
       " 'What',\n",
       " 'song?\\r\\nSarah:',\n",
       " '<file_other>\\r\\nJames:',\n",
       " 'Oh.',\n",
       " 'I',\n",
       " 'know',\n",
       " 'it!',\n",
       " '\\r\\nJames:',\n",
       " 'I',\n",
       " 'heard',\n",
       " 'it',\n",
       " 'before',\n",
       " 'in',\n",
       " 'some',\n",
       " 'compilation\\r\\nSarah:',\n",
       " 'I',\n",
       " \"can't\",\n",
       " 'stop',\n",
       " 'playing',\n",
       " 'it',\n",
       " 'over',\n",
       " 'and',\n",
       " 'over\\r\\nJames:',\n",
       " \"That's\",\n",
       " 'exactly',\n",
       " 'how',\n",
       " 'I',\n",
       " 'know',\n",
       " 'lyrics',\n",
       " 'to',\n",
       " 'all',\n",
       " 'of',\n",
       " 'the',\n",
       " 'songs',\n",
       " 'on',\n",
       " 'my',\n",
       " 'playlist',\n",
       " ':D\\r\\nSarah:',\n",
       " 'Haha.',\n",
       " 'No',\n",
       " 'lyrics',\n",
       " 'here',\n",
       " 'though.',\n",
       " 'Instrumental',\n",
       " ';D\\r\\nJames:',\n",
       " 'Instrumental',\n",
       " 'songs',\n",
       " 'are',\n",
       " 'different',\n",
       " 'kind',\n",
       " 'of',\n",
       " 'music.',\n",
       " '\\r\\nJames:',\n",
       " 'But',\n",
       " 'you',\n",
       " 'have',\n",
       " 'to',\n",
       " 'remember',\n",
       " 'that',\n",
       " 'the',\n",
       " 'activity',\n",
       " 'you',\n",
       " 'do',\n",
       " 'when',\n",
       " 'you',\n",
       " 'listen',\n",
       " 'to',\n",
       " 'this',\n",
       " 'song\\r\\nJames:',\n",
       " 'Is',\n",
       " 'the',\n",
       " 'actvity',\n",
       " 'your',\n",
       " 'brain',\n",
       " 'will',\n",
       " 'connect',\n",
       " 'to',\n",
       " 'the',\n",
       " 'song\\r\\nJames:',\n",
       " 'And',\n",
       " 'everytime',\n",
       " 'you',\n",
       " 'play',\n",
       " 'this',\n",
       " 'song',\n",
       " 'at',\n",
       " 'home\\r\\nJames:',\n",
       " \"You'll\",\n",
       " 'be',\n",
       " 'thinking',\n",
       " 'of',\n",
       " 'your',\n",
       " 'work\\r\\nSarah:',\n",
       " 'Yeah,',\n",
       " 'I',\n",
       " 'know',\n",
       " 'that.',\n",
       " \"That's\",\n",
       " 'why',\n",
       " 'we',\n",
       " 'sometimes',\n",
       " 'say',\n",
       " '-',\n",
       " 'I',\n",
       " 'used',\n",
       " 'to',\n",
       " 'like',\n",
       " 'that',\n",
       " 'song,',\n",
       " 'but',\n",
       " 'now',\n",
       " 'it',\n",
       " 'just',\n",
       " 'reminds',\n",
       " 'me',\n",
       " 'of',\n",
       " 'bad',\n",
       " 'memories\\r\\nJames:',\n",
       " 'Yup.',\n",
       " 'Everytime',\n",
       " 'you',\n",
       " 'change',\n",
       " 'your',\n",
       " 'partner,',\n",
       " 'you',\n",
       " 'have',\n",
       " 'to',\n",
       " 'get',\n",
       " 'rid',\n",
       " 'of',\n",
       " 'your',\n",
       " 'favorite',\n",
       " 'music',\n",
       " ':D\\r\\nSarah:',\n",
       " 'Hahaha.',\n",
       " 'True,',\n",
       " 'true.',\n",
       " 'Noah:',\n",
       " 'When',\n",
       " 'and',\n",
       " 'where',\n",
       " 'are',\n",
       " 'we',\n",
       " 'meeting?',\n",
       " ':)\\r\\nMadison:',\n",
       " 'I',\n",
       " 'thought',\n",
       " 'you',\n",
       " 'were',\n",
       " 'busy...?\\r\\nNoah:',\n",
       " 'Yeah,',\n",
       " 'I',\n",
       " 'WAS.',\n",
       " 'I',\n",
       " 'quit',\n",
       " 'my',\n",
       " 'job.',\n",
       " '\\r\\nMadison:',\n",
       " 'No',\n",
       " 'way!',\n",
       " ':o',\n",
       " ':o',\n",
       " ':o',\n",
       " 'Why?',\n",
       " 'I',\n",
       " 'thought',\n",
       " 'you',\n",
       " 'liked',\n",
       " 'it...?\\r\\nNoah:',\n",
       " 'Well,',\n",
       " 'I',\n",
       " 'used',\n",
       " 'to,',\n",
       " 'until',\n",
       " 'my',\n",
       " 'boss',\n",
       " 'turned',\n",
       " 'into',\n",
       " 'a',\n",
       " 'complete',\n",
       " 'cock...',\n",
       " 'Long',\n",
       " 'story.',\n",
       " 'Matt:',\n",
       " 'Do',\n",
       " 'you',\n",
       " 'want',\n",
       " 'to',\n",
       " 'go',\n",
       " 'for',\n",
       " 'date?\\r\\nAgnes:',\n",
       " 'Wow!',\n",
       " 'You',\n",
       " 'caught',\n",
       " 'me',\n",
       " 'out',\n",
       " 'with',\n",
       " 'this',\n",
       " 'question',\n",
       " 'Matt.\\r\\nMatt:',\n",
       " 'Why?\\r\\nAgnes:',\n",
       " 'I',\n",
       " 'simply',\n",
       " \"didn't\",\n",
       " 'expect',\n",
       " 'this',\n",
       " 'from',\n",
       " 'you.\\r\\nMatt:',\n",
       " 'Well,',\n",
       " 'expect',\n",
       " 'the',\n",
       " 'unexpected.\\r\\nAgnes:',\n",
       " 'Can',\n",
       " 'I',\n",
       " 'think',\n",
       " 'about',\n",
       " 'it?\\r\\nMatt:',\n",
       " 'What',\n",
       " 'is',\n",
       " 'there',\n",
       " 'to',\n",
       " 'think',\n",
       " 'about?\\r\\nAgnes:',\n",
       " 'Well,',\n",
       " 'I',\n",
       " \"don't\",\n",
       " 'really',\n",
       " 'know',\n",
       " 'you.\\r\\nMatt:',\n",
       " 'This',\n",
       " 'is',\n",
       " 'the',\n",
       " 'perfect',\n",
       " 'time',\n",
       " 'to',\n",
       " 'get',\n",
       " 'to',\n",
       " 'know',\n",
       " 'eachother\\r\\nAgnes:',\n",
       " 'Well',\n",
       " \"that's\",\n",
       " 'true.\\r\\nMatt:',\n",
       " 'So',\n",
       " \"let's\",\n",
       " 'go',\n",
       " 'to',\n",
       " 'the',\n",
       " 'Georgian',\n",
       " 'restaurant',\n",
       " 'in',\n",
       " 'Kazimierz.\\r\\nAgnes:',\n",
       " 'Now',\n",
       " 'your',\n",
       " 'convincing',\n",
       " 'me.\\r\\nMatt:',\n",
       " 'Cool,',\n",
       " 'saturday',\n",
       " 'at',\n",
       " '6pm?\\r\\nAgnes:',\n",
       " \"That's\",\n",
       " 'fine.\\r\\nMatt:',\n",
       " 'I',\n",
       " 'can',\n",
       " 'pick',\n",
       " 'you',\n",
       " 'up',\n",
       " 'on',\n",
       " 'the',\n",
       " 'way',\n",
       " 'to',\n",
       " 'the',\n",
       " 'restaurant.\\r\\nAgnes:',\n",
       " \"That's\",\n",
       " 'really',\n",
       " 'kind',\n",
       " 'of',\n",
       " 'you.\\r\\nMatt:',\n",
       " 'No',\n",
       " 'problem.\\r\\nAgnes:',\n",
       " 'See',\n",
       " 'you',\n",
       " 'on',\n",
       " 'saturday.\\r\\nMatt:',\n",
       " 'Yes,',\n",
       " 'looking',\n",
       " 'forward',\n",
       " 'to',\n",
       " 'it.\\r\\nAgnes:',\n",
       " 'Me',\n",
       " 'too.',\n",
       " 'Lucas:',\n",
       " 'Hey!',\n",
       " 'How',\n",
       " 'was',\n",
       " 'your',\n",
       " 'day?\\r\\nDemi:',\n",
       " 'Hey',\n",
       " 'there!',\n",
       " '\\r\\nDemi:',\n",
       " 'It',\n",
       " 'was',\n",
       " 'pretty',\n",
       " 'fine,',\n",
       " 'actually,',\n",
       " 'thank',\n",
       " 'you!\\r\\nDemi:',\n",
       " 'I',\n",
       " 'just',\n",
       " 'got',\n",
       " 'promoted!',\n",
       " ':D\\r\\nLucas:',\n",
       " 'Whoa!',\n",
       " 'Great',\n",
       " 'news!\\r\\nLucas:',\n",
       " 'Congratulations!\\r\\nLucas:',\n",
       " 'Such',\n",
       " 'a',\n",
       " 'success',\n",
       " 'has',\n",
       " 'to',\n",
       " 'be',\n",
       " 'celebrated.\\r\\nDemi:',\n",
       " 'I',\n",
       " 'agree!',\n",
       " ':D\\r\\nDemi:',\n",
       " 'Tonight',\n",
       " 'at',\n",
       " 'Death',\n",
       " '&',\n",
       " 'Co.?\\r\\nLucas:',\n",
       " 'Sure!\\r\\nLucas:',\n",
       " 'See',\n",
       " 'you',\n",
       " 'there',\n",
       " 'at',\n",
       " '10pm?\\r\\nDemi:',\n",
       " 'Yeah!',\n",
       " 'See',\n",
       " 'you',\n",
       " 'there!',\n",
       " ':D',\n",
       " 'Mark:',\n",
       " 'I',\n",
       " 'just',\n",
       " 'shipped',\n",
       " 'the',\n",
       " 'goods\\r\\nMark:',\n",
       " 'Tomorrow',\n",
       " 'I’ll',\n",
       " 'send',\n",
       " 'you',\n",
       " 'the',\n",
       " 'tracking',\n",
       " 'number\\r\\nGeorge:',\n",
       " 'Thanks!',\n",
       " 'Anita:',\n",
       " \"I'm\",\n",
       " 'at',\n",
       " 'the',\n",
       " 'station',\n",
       " 'in',\n",
       " 'Bologna\\nJenny:',\n",
       " 'No',\n",
       " 'problems',\n",
       " 'so',\n",
       " 'far?\\nAnita:',\n",
       " 'no,',\n",
       " \"everything's\",\n",
       " 'going',\n",
       " 'smoothly\\nTomy:',\n",
       " 'good!',\n",
       " 'Leon:',\n",
       " 'did',\n",
       " 'you',\n",
       " 'find',\n",
       " 'the',\n",
       " 'job',\n",
       " 'yet?\\r\\nArthur:',\n",
       " 'no',\n",
       " 'bro,',\n",
       " 'still',\n",
       " 'unemployed',\n",
       " ':D\\r\\nLeon:',\n",
       " 'hahaha,',\n",
       " 'LIVING',\n",
       " 'LIFE\\r\\nArthur:',\n",
       " 'i',\n",
       " 'love',\n",
       " 'it,',\n",
       " 'waking',\n",
       " 'up',\n",
       " 'at',\n",
       " 'noon,',\n",
       " 'watching',\n",
       " 'sports',\n",
       " '-',\n",
       " 'what',\n",
       " 'else',\n",
       " 'could',\n",
       " 'a',\n",
       " 'man',\n",
       " 'want?\\r\\nLeon:',\n",
       " 'a',\n",
       " 'paycheck?',\n",
       " ';)\\r\\nArthur:',\n",
       " \"don't\",\n",
       " 'be',\n",
       " 'mean...',\n",
       " '\\r\\nLeon:',\n",
       " 'but',\n",
       " 'seriously,',\n",
       " 'my',\n",
       " 'mate',\n",
       " 'has',\n",
       " 'an',\n",
       " 'offer',\n",
       " 'as',\n",
       " 'a',\n",
       " 'junior',\n",
       " 'project',\n",
       " 'manager',\n",
       " 'at',\n",
       " 'his',\n",
       " 'company,',\n",
       " 'are',\n",
       " 'you',\n",
       " 'interested?\\r\\nArthur:',\n",
       " 'sure',\n",
       " 'thing,',\n",
       " 'do',\n",
       " 'you',\n",
       " 'have',\n",
       " 'any',\n",
       " 'details?\\r\\nLeon:',\n",
       " '<file_photo>\\r\\nArthur:',\n",
       " 'that',\n",
       " 'actually',\n",
       " 'looks',\n",
       " 'nice,',\n",
       " 'should',\n",
       " 'I',\n",
       " 'reach',\n",
       " 'out',\n",
       " 'directly',\n",
       " 'to',\n",
       " 'your',\n",
       " 'friend',\n",
       " 'or',\n",
       " 'just',\n",
       " 'apply',\n",
       " 'to',\n",
       " 'this',\n",
       " 'email',\n",
       " 'address',\n",
       " 'from',\n",
       " 'the',\n",
       " 'screenshot?\\r\\nLeon:',\n",
       " \"it's\",\n",
       " 'his',\n",
       " 'email,',\n",
       " 'you',\n",
       " 'can',\n",
       " 'send',\n",
       " 'your',\n",
       " 'resume',\n",
       " 'directly',\n",
       " 'and',\n",
       " 'I',\n",
       " 'will',\n",
       " 'mention',\n",
       " 'to',\n",
       " 'him',\n",
       " 'who',\n",
       " 'you',\n",
       " 'are',\n",
       " ':)',\n",
       " 'Macca:',\n",
       " \"i'm\",\n",
       " 'so',\n",
       " 'exited',\n",
       " 'today\\nAdrien:',\n",
       " 'why?\\nMacca:',\n",
       " \"I've\",\n",
       " 'never',\n",
       " 'done',\n",
       " 'ice',\n",
       " 'climbing',\n",
       " 'before\\nMark:',\n",
       " 'Are',\n",
       " 'you',\n",
       " 'ready?\\nMacca:',\n",
       " 'think',\n",
       " 'so\\nTobias:',\n",
       " 'where',\n",
       " 'are',\n",
       " 'you',\n",
       " 'doing',\n",
       " 'this?\\nMacca:',\n",
       " 'not',\n",
       " 'far',\n",
       " 'from',\n",
       " 'Reykjavik\\nMacca:',\n",
       " 'Has',\n",
       " 'anybody',\n",
       " 'seriously',\n",
       " 'injured',\n",
       " 'themselves',\n",
       " 'doing',\n",
       " 'this?\\nMark:',\n",
       " 'not',\n",
       " 'seriously\\nAdrien:',\n",
       " 'I',\n",
       " \"didn't\",\n",
       " 'know',\n",
       " \"you're\",\n",
       " 'in',\n",
       " 'Iceland!\\nMacca:',\n",
       " 'hahaha,',\n",
       " \"doesn't\",\n",
       " 'sound',\n",
       " 'so',\n",
       " 'good\\nMark:',\n",
       " 'no',\n",
       " 'need',\n",
       " 'to',\n",
       " 'be',\n",
       " 'afraid\\nMacca:',\n",
       " 'gosh,',\n",
       " 'it',\n",
       " 'was',\n",
       " 'such',\n",
       " 'a',\n",
       " 'rush\\nMark:',\n",
       " 'did',\n",
       " 'you',\n",
       " 'enjoy',\n",
       " 'it?\\nMacca:',\n",
       " 'every',\n",
       " 'second\\nMacca:',\n",
       " 'it',\n",
       " 'was',\n",
       " 'not',\n",
       " 'very',\n",
       " 'cold\\nMacca:',\n",
       " 'the',\n",
       " 'landscapes',\n",
       " 'were',\n",
       " 'magnificent\\nMark:',\n",
       " \"I'm\",\n",
       " 'glad',\n",
       " 'to',\n",
       " 'read',\n",
       " 'that\\nMacca:',\n",
       " 'Challenge',\n",
       " 'of',\n",
       " 'the',\n",
       " 'day',\n",
       " 'done!',\n",
       " 'Isabella:',\n",
       " 'fuck',\n",
       " 'my',\n",
       " 'life,',\n",
       " \"I'm\",\n",
       " 'so',\n",
       " 'not',\n",
       " 'able',\n",
       " 'to',\n",
       " 'get',\n",
       " 'up',\n",
       " 'to',\n",
       " 'work',\n",
       " 'today\\r\\nIsabella:',\n",
       " 'I',\n",
       " 'need',\n",
       " 'to',\n",
       " 'call',\n",
       " 'in',\n",
       " 'sick',\n",
       " ':(\\r\\nOscar:',\n",
       " 'haha,',\n",
       " 'well',\n",
       " 'you',\n",
       " 'certainly',\n",
       " 'had',\n",
       " 'a',\n",
       " 'good',\n",
       " 'time',\n",
       " 'at',\n",
       " 'the',\n",
       " 'Christmas',\n",
       " 'party',\n",
       " 'yesterday',\n",
       " 'XD\\r\\nIsabella:',\n",
       " 'shut',\n",
       " 'up,',\n",
       " \"you're\",\n",
       " 'a',\n",
       " 'traitor\\r\\nIsabella:',\n",
       " 'I',\n",
       " 'told',\n",
       " 'you',\n",
       " 'to',\n",
       " 'guard',\n",
       " 'my',\n",
       " 'glass\\r\\nIsabella:',\n",
       " 'and',\n",
       " 'my',\n",
       " 'sobriety.',\n",
       " 'You',\n",
       " 'clearly',\n",
       " 'failed!\\r\\nOscar:',\n",
       " 'but',\n",
       " 'you',\n",
       " ...]"
      ]
     },
     "execution_count": 192,
     "metadata": {},
     "output_type": "execute_result"
    }
   ],
   "source": [
    "all_words"
   ]
  },
  {
   "cell_type": "code",
   "execution_count": 135,
   "id": "b0bcd1c4-9732-461b-a7bd-5e00e52b38b8",
   "metadata": {
    "scrolled": true
   },
   "outputs": [
    {
     "name": "stdout",
     "output_type": "stream",
     "text": [
      "Original Dialogue:  ['tim', 'hi', 'what', \"'s\", 'up', 'kim', 'bad', 'mood', 'tbh', 'i', 'was', 'going', 'to', 'do', 'lots', 'of', 'stuff', 'but', 'ended', 'up', 'procrastinating', 'tim', 'what', 'did', 'you', 'plan', 'on', 'doing', 'kim', 'oh', 'you', 'know', 'uni', 'stuff', 'and', 'unfucking', 'my', 'room', 'kim', 'maybe', 'tomorrow', 'i', \"'ll\", 'move', 'my', 'ass', 'and', 'do', 'everything', 'kim', 'we', 'were', 'going', 'to', 'defrost', 'a', 'fridge', 'so', 'instead', 'of', 'shopping', 'i', \"'ll\", 'eat', 'some', 'defrosted', 'veggies', 'tim', 'for', 'doing', 'stuff', 'i', 'recommend', 'pomodoro', 'technique', 'where', 'u', 'use', 'breaks', 'for', 'doing', 'chores', 'tim', 'it', 'really', 'helps', 'kim', 'thanks', 'maybe', 'i', \"'ll\", 'do', 'that', 'tim', 'i', 'also', 'like', 'using', 'post', 'its', 'in', 'kaban', 'style', '<pad>', '<pad>', '<pad>', '<pad>', '<pad>', '<pad>', '<pad>', '<pad>', '<pad>', '<pad>', '<pad>', '<pad>', '<pad>', '<pad>', '<pad>', '<pad>', '<pad>', '<pad>', '<pad>', '<pad>', '<pad>', '<pad>', '<pad>', '<pad>', '<pad>', '<pad>', '<pad>', '<pad>', '<pad>', '<pad>', '<pad>', '<pad>', '<pad>', '<pad>', '<pad>', '<pad>', '<pad>', '<pad>', '<pad>', '<pad>', '<pad>', '<pad>', '<pad>', '<pad>', '<pad>', '<pad>', '<pad>', '<pad>', '<pad>', '<pad>', '<pad>', '<pad>', '<pad>', '<pad>', '<pad>', '<pad>', '<pad>', '<pad>', '<pad>', '<pad>', '<pad>', '<pad>', '<pad>', '<pad>', '<pad>', '<pad>', '<pad>', '<pad>', '<pad>', '<pad>', '<pad>', '<pad>', '<pad>', '<pad>', '<pad>', '<pad>', '<pad>', '<pad>', '<pad>', '<pad>', '<pad>', '<pad>', '<pad>', '<pad>', '<pad>', '<pad>', '<pad>', '<pad>', '<pad>', '<pad>', '<pad>', '<pad>', '<pad>', '<pad>', '<pad>', '<pad>', '<pad>', '<pad>', '<pad>', '<pad>', '<pad>', '<pad>', '<pad>', '<pad>', '<pad>', '<pad>', '<pad>', '<pad>', '<pad>', '<pad>', '<pad>', '<pad>', '<pad>', '<pad>', '<pad>', '<pad>', '<pad>', '<pad>', '<pad>', '<pad>', '<pad>', '<pad>', '<pad>', '<pad>', '<pad>', '<pad>', '<pad>', '<pad>', '<pad>', '<pad>', '<pad>', '<pad>', '<pad>', '<pad>', '<pad>', '<pad>', '<pad>', '<pad>', '<pad>', '<pad>', '<pad>', '<pad>', '<pad>', '<pad>', '<pad>', '<pad>', '<pad>', '<pad>', '<pad>', '<pad>', '<pad>', '<pad>', '<pad>', '<pad>', '<pad>', '<pad>', '<pad>', '<pad>', '<pad>', '<pad>', '<pad>', '<pad>', '<pad>', '<pad>', '<pad>', '<pad>', '<pad>', '<pad>', '<pad>', '<pad>', '<pad>', '<pad>', '<pad>', '<pad>', '<pad>', '<pad>', '<pad>', '<pad>', '<pad>', '<pad>', '<pad>', '<pad>', '<pad>', '<pad>', '<pad>', '<pad>', '<pad>', '<pad>', '<pad>', '<pad>', '<pad>', '<pad>', '<pad>', '<pad>', '<pad>', '<pad>', '<pad>', '<pad>', '<pad>', '<pad>', '<pad>', '<pad>', '<pad>', '<pad>', '<pad>', '<pad>', '<pad>', '<pad>', '<pad>', '<pad>', '<pad>', '<pad>', '<pad>', '<pad>', '<pad>', '<pad>', '<pad>', '<pad>', '<pad>', '<pad>', '<pad>', '<pad>', '<pad>', '<pad>', '<pad>', '<pad>', '<pad>', '<pad>', '<pad>', '<pad>', '<pad>', '<pad>', '<pad>', '<pad>', '<pad>', '<pad>', '<pad>', '<pad>', '<pad>', '<pad>', '<pad>', '<pad>', '<pad>', '<pad>', '<pad>', '<pad>', '<pad>', '<pad>', '<pad>', '<pad>', '<pad>', '<pad>', '<pad>', '<pad>', '<pad>', '<pad>', '<pad>', '<pad>', '<pad>', '<pad>', '<pad>', '<pad>', '<pad>', '<pad>', '<pad>', '<pad>', '<pad>', '<pad>', '<pad>', '<pad>', '<pad>', '<pad>', '<pad>', '<pad>', '<pad>', '<pad>', '<pad>', '<pad>', '<pad>', '<pad>', '<pad>', '<pad>', '<pad>', '<pad>', '<pad>', '<pad>', '<pad>', '<pad>', '<pad>', '<pad>', '<pad>', '<pad>', '<pad>', '<pad>', '<pad>', '<pad>', '<pad>', '<pad>', '<pad>', '<pad>', '<pad>', '<pad>', '<pad>', '<pad>', '<pad>', '<pad>', '<pad>', '<pad>', '<pad>', '<pad>', '<pad>', '<pad>', '<pad>', '<pad>', '<pad>', '<pad>', '<pad>', '<pad>', '<pad>', '<pad>', '<pad>', '<pad>', '<pad>', '<pad>', '<pad>', '<pad>', '<pad>', '<pad>', '<pad>', '<pad>', '<pad>', '<pad>', '<pad>', '<pad>', '<pad>', '<pad>', '<pad>', '<pad>', '<pad>', '<pad>', '<pad>', '<pad>', '<pad>', '<pad>', '<pad>', '<pad>', '<pad>', '<pad>', '<pad>', '<pad>', '<pad>', '<pad>', '<pad>', '<pad>', '<pad>', '<pad>', '<pad>', '<pad>', '<pad>', '<pad>', '<pad>', '<pad>', '<pad>', '<pad>', '<pad>', '<pad>', '<pad>', '<pad>', '<pad>', '<pad>', '<pad>', '<pad>', '<pad>', '<pad>', '<pad>', '<pad>', '<pad>', '<pad>', '<pad>', '<pad>', '<pad>', '<pad>', '<pad>', '<pad>', '<pad>', '<pad>', '<pad>', '<pad>', '<pad>', '<pad>', '<pad>', '<pad>', '<pad>', '<pad>', '<pad>', '<pad>', '<pad>', '<pad>', '<pad>', '<pad>', '<pad>', '<pad>', '<pad>', '<pad>', '<pad>', '<pad>', '<pad>', '<pad>', '<pad>', '<pad>', '<pad>', '<pad>', '<pad>', '<pad>', '<pad>', '<pad>', '<pad>', '<pad>', '<pad>', '<pad>', '<pad>', '<pad>', '<pad>', '<pad>', '<pad>', '<pad>', '<pad>', '<pad>', '<pad>', '<pad>', '<pad>', '<pad>', '<pad>', '<pad>', '<pad>', '<pad>', '<pad>', '<pad>', '<pad>', '<pad>', '<pad>', '<pad>', '<pad>', '<pad>', '<pad>', '<pad>', '<pad>', '<pad>', '<pad>', '<pad>', '<pad>', '<pad>', '<pad>', '<pad>', '<pad>', '<pad>', '<pad>', '<pad>', '<pad>', '<pad>', '<pad>', '<pad>', '<pad>', '<pad>', '<pad>', '<pad>', '<pad>', '<pad>', '<pad>', '<pad>', '<pad>', '<pad>', '<pad>', '<pad>', '<pad>', '<pad>', '<pad>', '<pad>', '<pad>', '<pad>', '<pad>', '<pad>', '<pad>', '<pad>', '<pad>', '<pad>', '<pad>', '<pad>', '<pad>', '<pad>', '<pad>', '<pad>', '<pad>', '<pad>', '<pad>', '<pad>', '<pad>', '<pad>', '<pad>', '<pad>', '<pad>', '<pad>', '<pad>', '<pad>', '<pad>', '<pad>', '<pad>', '<pad>', '<pad>', '<pad>', '<pad>', '<pad>', '<pad>', '<pad>', '<pad>', '<pad>', '<pad>', '<pad>', '<pad>', '<pad>', '<pad>', '<pad>', '<pad>', '<pad>', '<pad>', '<pad>', '<pad>', '<pad>', '<pad>', '<pad>', '<pad>', '<pad>', '<pad>', '<pad>', '<pad>', '<pad>', '<pad>', '<pad>', '<pad>', '<pad>', '<pad>', '<pad>', '<pad>', '<pad>', '<pad>', '<pad>', '<pad>', '<pad>', '<pad>', '<pad>', '<pad>', '<pad>', '<pad>', '<pad>', '<pad>', '<pad>', '<pad>', '<pad>', '<pad>', '<pad>', '<pad>', '<pad>', '<pad>', '<pad>', '<pad>', '<pad>', '<pad>', '<pad>', '<pad>', '<pad>', '<pad>', '<pad>', '<pad>', '<pad>', '<pad>', '<pad>', '<pad>', '<pad>', '<pad>', '<pad>', '<pad>', '<pad>', '<pad>', '<pad>', '<pad>', '<pad>', '<pad>', '<pad>', '<pad>', '<pad>', '<pad>', '<pad>', '<pad>', '<pad>', '<pad>', '<pad>', '<pad>', '<pad>', '<pad>', '<pad>', '<pad>', '<pad>', '<pad>', '<pad>', '<pad>', '<pad>', '<pad>', '<pad>', '<pad>', '<pad>', '<pad>', '<pad>', '<pad>', '<pad>', '<pad>', '<pad>', '<pad>', '<pad>', '<pad>', '<pad>', '<pad>', '<pad>', '<pad>', '<pad>', '<pad>', '<pad>', '<pad>', '<pad>', '<pad>', '<pad>', '<pad>', '<pad>', '<pad>', '<pad>', '<pad>', '<pad>', '<pad>', '<pad>', '<pad>', '<pad>', '<pad>', '<pad>', '<pad>', '<pad>', '<pad>', '<pad>', '<pad>', '<pad>', '<pad>', '<pad>', '<pad>', '<pad>', '<pad>', '<pad>', '<pad>', '<pad>', '<pad>', '<pad>', '<pad>', '<pad>', '<pad>', '<pad>', '<pad>', '<pad>', '<pad>', '<pad>', '<pad>', '<pad>', '<pad>', '<pad>', '<pad>', '<pad>', '<pad>', '<pad>', '<pad>', '<pad>', '<pad>', '<pad>', '<pad>', '<pad>', '<pad>', '<pad>', '<pad>', '<pad>', '<pad>', '<pad>', '<pad>', '<pad>', '<pad>', '<pad>', '<pad>', '<pad>', '<pad>', '<pad>', '<pad>', '<pad>', '<pad>', '<pad>', '<pad>', '<pad>', '<pad>', '<pad>', '<pad>', '<pad>', '<pad>', '<pad>', '<pad>', '<pad>', '<pad>', '<pad>', '<pad>', '<pad>', '<pad>', '<pad>', '<pad>', '<pad>', '<pad>', '<pad>', '<pad>', '<pad>', '<pad>', '<pad>', '<pad>', '<pad>', '<pad>', '<pad>', '<pad>', '<pad>', '<pad>', '<pad>', '<pad>', '<pad>', '<pad>', '<pad>', '<pad>', '<pad>', '<pad>', '<pad>', '<pad>', '<pad>', '<pad>', '<pad>', '<pad>', '<pad>', '<pad>', '<pad>', '<pad>', '<pad>', '<pad>', '<pad>', '<pad>', '<pad>', '<pad>', '<pad>', '<pad>', '<pad>', '<pad>', '<pad>', '<pad>', '<pad>', '<pad>', '<pad>', '<pad>', '<pad>', '<pad>', '<pad>', '<pad>', '<pad>', '<pad>', '<pad>', '<pad>', '<pad>', '<pad>', '<pad>', '<pad>', '<pad>', '<pad>', '<pad>', '<pad>', '<pad>', '<pad>', '<pad>', '<pad>', '<pad>', '<pad>', '<pad>', '<pad>', '<pad>', '<pad>', '<pad>', '<pad>', '<pad>', '<pad>', '<pad>', '<pad>', '<pad>', '<pad>', '<pad>', '<pad>', '<pad>', '<pad>', '<pad>', '<pad>', '<pad>', '<pad>', '<pad>', '<pad>', '<pad>', '<pad>', '<pad>', '<pad>', '<pad>', '<pad>', '<pad>', '<pad>', '<pad>', '<pad>', '<pad>', '<pad>', '<pad>', '<pad>', '<pad>', '<pad>', '<pad>', '<pad>', '<pad>', '<pad>', '<pad>', '<pad>', '<pad>', '<pad>', '<pad>', '<pad>', '<pad>', '<pad>', '<pad>', '<pad>', '<pad>', '<pad>', '<pad>', '<pad>', '<pad>', '<pad>', '<pad>', '<pad>', '<pad>', '<pad>', '<pad>', '<pad>', '<pad>', '<pad>', '<pad>', '<pad>', '<pad>', '<pad>', '<pad>', '<pad>', '<pad>', '<pad>', '<pad>', '<pad>', '<pad>', '<pad>', '<pad>', '<pad>', '<pad>', '<pad>', '<pad>', '<pad>', '<pad>', '<pad>', '<pad>', '<pad>', '<pad>', '<pad>', '<pad>', '<pad>', '<pad>', '<pad>', '<pad>', '<pad>', '<pad>', '<pad>', '<pad>', '<pad>', '<pad>', '<pad>', '<pad>', '<pad>', '<pad>', '<pad>', '<pad>', '<pad>', '<pad>', '<pad>', '<pad>', '<pad>', '<pad>', '<pad>', '<pad>', '<pad>', '<pad>', '<pad>', '<pad>', '<pad>', '<pad>', '<pad>', '<pad>', '<pad>', '<pad>', '<pad>', '<pad>', '<pad>', '<pad>', '<pad>', '<pad>', '<pad>', '<pad>', '<pad>', '<pad>', '<pad>', '<pad>', '<pad>', '<pad>', '<pad>', '<pad>', '<pad>', '<pad>', '<pad>', '<pad>', '<pad>', '<pad>', '<pad>', '<pad>', '<pad>', '<pad>', '<pad>', '<pad>', '<pad>', '<pad>', '<pad>', '<pad>', '<pad>', '<pad>', '<pad>', '<pad>', '<pad>', '<pad>', '<pad>', '<pad>', '<pad>', '<pad>', '<pad>', '<pad>', '<pad>', '<pad>', '<pad>', '<pad>', '<pad>', '<pad>', '<pad>', '<pad>', '<pad>', '<pad>', '<pad>', '<pad>', '<pad>', '<pad>', '<pad>', '<pad>', '<pad>', '<pad>', '<pad>', '<pad>', '<pad>', '<pad>', '<pad>', '<pad>', '<pad>', '<pad>', '<pad>', '<pad>', '<pad>', '<pad>', '<pad>', '<pad>', '<pad>', '<pad>', '<pad>', '<pad>', '<pad>', '<pad>', '<pad>', '<pad>', '<pad>', '<pad>', '<pad>', '<pad>', '<pad>', '<pad>', '<pad>', '<pad>', '<pad>', '<pad>', '<pad>', '<pad>', '<pad>', '<pad>', '<pad>', '<pad>', '<pad>', '<pad>', '<pad>', '<pad>', '<pad>', '<pad>', '<pad>', '<pad>', '<pad>', '<pad>', '<pad>', '<pad>', '<pad>', '<pad>', '<pad>', '<pad>', '<pad>', '<pad>', '<pad>', '<pad>', '<pad>', '<pad>', '<pad>', '<pad>', '<pad>', '<pad>', '<pad>', '<pad>', '<pad>', '<pad>', '<pad>', '<pad>', '<pad>', '<pad>', '<pad>', '<pad>', '<pad>', '<pad>', '<pad>', '<pad>', '<pad>', '<pad>', '<pad>', '<pad>', '<pad>', '<pad>', '<pad>', '<pad>', '<pad>', '<pad>', '<pad>', '<pad>', '<pad>', '<pad>', '<pad>', '<pad>', '<pad>', '<pad>', '<pad>', '<pad>', '<pad>', '<pad>', '<pad>', '<pad>', '<pad>', '<pad>', '<pad>', '<pad>', '<pad>', '<pad>', '<pad>', '<pad>', '<pad>', '<pad>', '<pad>', '<pad>', '<pad>', '<pad>', '<pad>', '<pad>', '<pad>', '<pad>', '<pad>', '<pad>', '<pad>', '<pad>', '<pad>', '<pad>', '<pad>', '<pad>', '<pad>', '<pad>', '<pad>', '<pad>', '<pad>', '<pad>', '<pad>', '<pad>', '<pad>', '<pad>', '<pad>', '<pad>', '<pad>', '<pad>', '<pad>', '<pad>', '<pad>', '<pad>', '<pad>', '<pad>', '<pad>', '<pad>', '<pad>', '<pad>', '<pad>', '<pad>', '<pad>', '<pad>', '<pad>', '<pad>', '<pad>', '<pad>', '<pad>', '<pad>', '<pad>', '<pad>', '<pad>', '<pad>', '<pad>', '<pad>', '<pad>', '<pad>', '<pad>', '<pad>', '<pad>', '<pad>', '<pad>', '<pad>', '<pad>', '<pad>', '<pad>', '<pad>', '<pad>', '<pad>', '<pad>', '<pad>', '<pad>', '<pad>', '<pad>', '<pad>', '<pad>', '<pad>', '<pad>', '<pad>', '<pad>', '<pad>', '<pad>', '<pad>', '<pad>', '<pad>', '<pad>', '<pad>', '<pad>', '<pad>', '<pad>', '<pad>', '<pad>', '<pad>', '<pad>', '<pad>', '<pad>', '<pad>', '<pad>', '<pad>', '<pad>', '<pad>', '<pad>', '<pad>', '<pad>', '<pad>', '<pad>', '<pad>', '<pad>', '<pad>', '<pad>', '<pad>', '<pad>', '<pad>', '<pad>', '<pad>', '<pad>', '<pad>', '<pad>', '<pad>', '<pad>', '<pad>', '<pad>', '<pad>', '<pad>', '<pad>', '<pad>', '<pad>', '<pad>', '<pad>', '<pad>', '<pad>', '<pad>', '<pad>', '<pad>', '<pad>', '<pad>', '<pad>', '<pad>', '<pad>', '<pad>', '<pad>', '<pad>', '<pad>', '<pad>', '<pad>', '<pad>', '<pad>', '<pad>', '<pad>', '<pad>', '<pad>', '<pad>', '<pad>', '<pad>', '<pad>', '<pad>', '<pad>', '<pad>', '<pad>', '<pad>', '<pad>', '<pad>', '<pad>', '<pad>', '<pad>', '<pad>', '<pad>', '<pad>', '<pad>', '<pad>', '<pad>', '<pad>', '<pad>', '<pad>', '<pad>', '<pad>', '<pad>', '<pad>', '<pad>', '<pad>', '<pad>', '<pad>', '<pad>', '<pad>', '<pad>', '<pad>', '<pad>', '<pad>', '<pad>', '<pad>', '<pad>', '<pad>', '<pad>', '<pad>', '<pad>', '<pad>', '<pad>', '<pad>', '<pad>', '<pad>', '<pad>', '<pad>', '<pad>', '<pad>', '<pad>', '<pad>', '<pad>', '<pad>', '<pad>', '<pad>', '<pad>', '<pad>', '<pad>', '<pad>', '<pad>', '<pad>', '<pad>', '<pad>', '<pad>', '<pad>', '<pad>', '<pad>', '<pad>', '<pad>', '<pad>', '<pad>', '<pad>', '<pad>', '<pad>', '<pad>', '<pad>', '<pad>', '<pad>', '<pad>', '<pad>', '<pad>', '<pad>', '<pad>', '<pad>', '<pad>', '<pad>', '<pad>', '<pad>', '<pad>', '<pad>', '<pad>', '<pad>', '<pad>', '<pad>', '<pad>', '<pad>', '<pad>', '<pad>', '<pad>', '<pad>', '<pad>', '<pad>', '<pad>', '<pad>', '<pad>', '<pad>', '<pad>', '<pad>', '<pad>', '<pad>', '<pad>', '<pad>', '<pad>', '<pad>', '<pad>', '<pad>', '<pad>', '<pad>', '<pad>', '<pad>', '<pad>', '<pad>', '<pad>', '<pad>', '<pad>', '<pad>', '<pad>', '<pad>', '<pad>', '<pad>', '<pad>', '<pad>', '<pad>', '<pad>', '<pad>', '<pad>', '<pad>', '<pad>', '<pad>', '<pad>', '<pad>', '<pad>', '<pad>', '<pad>', '<pad>', '<pad>', '<pad>', '<pad>', '<pad>', '<pad>', '<pad>', '<pad>', '<pad>', '<pad>', '<pad>', '<pad>', '<pad>', '<pad>', '<pad>', '<pad>', '<pad>', '<pad>', '<pad>', '<pad>', '<pad>', '<pad>', '<pad>', '<pad>', '<pad>', '<pad>', '<pad>', '<pad>', '<pad>', '<pad>', '<pad>', '<pad>', '<pad>', '<pad>', '<pad>', '<pad>', '<pad>', '<pad>', '<pad>', '<pad>', '<pad>', '<pad>', '<pad>', '<pad>', '<pad>', '<pad>', '<pad>', '<pad>', '<pad>', '<pad>', '<pad>', '<pad>', '<pad>', '<pad>', '<pad>', '<pad>', '<pad>', '<pad>', '<pad>', '<pad>', '<pad>', '<pad>', '<pad>', '<pad>', '<pad>', '<pad>', '<pad>', '<pad>', '<pad>', '<pad>', '<pad>', '<pad>', '<pad>', '<pad>', '<pad>', '<pad>', '<pad>', '<pad>', '<pad>', '<pad>', '<pad>', '<pad>', '<pad>', '<pad>', '<pad>', '<pad>', '<pad>', '<pad>', '<pad>', '<pad>', '<pad>', '<pad>', '<pad>', '<pad>', '<pad>', '<pad>', '<pad>', '<pad>', '<pad>', '<pad>', '<pad>', '<pad>', '<pad>', '<pad>', '<pad>', '<pad>', '<pad>', '<pad>', '<pad>', '<pad>', '<pad>', '<pad>', '<pad>', '<pad>', '<pad>', '<pad>', '<pad>', '<pad>', '<pad>', '<pad>', '<pad>', '<pad>', '<pad>', '<pad>', '<pad>', '<pad>', '<pad>', '<pad>', '<pad>', '<pad>', '<pad>', '<pad>', '<pad>', '<pad>', '<pad>', '<pad>', '<pad>', '<pad>', '<pad>', '<pad>', '<pad>', '<pad>', '<pad>', '<pad>', '<pad>', '<pad>', '<pad>', '<pad>', '<pad>', '<pad>', '<pad>', '<pad>', '<pad>', '<pad>', '<pad>', '<pad>', '<pad>', '<pad>', '<pad>', '<pad>', '<pad>', '<pad>', '<pad>', '<pad>', '<pad>', '<pad>', '<pad>', '<pad>', '<pad>', '<pad>', '<pad>', '<pad>', '<pad>', '<pad>', '<pad>', '<pad>', '<pad>', '<pad>', '<pad>', '<pad>', '<pad>', '<pad>', '<pad>', '<pad>', '<pad>', '<pad>', '<pad>', '<pad>', '<pad>', '<pad>', '<pad>', '<pad>', '<pad>', '<pad>', '<pad>', '<pad>', '<pad>', '<pad>', '<pad>', '<pad>', '<pad>', '<pad>', '<pad>', '<pad>', '<pad>', '<pad>', '<pad>', '<pad>', '<pad>', '<pad>', '<pad>', '<pad>', '<pad>', '<pad>', '<pad>', '<pad>', '<pad>', '<pad>', '<pad>', '<pad>', '<pad>', '<pad>', '<pad>', '<pad>', '<pad>', '<pad>', '<pad>', '<pad>', '<pad>', '<pad>', '<pad>', '<pad>', '<pad>', '<pad>', '<pad>', '<pad>', '<pad>', '<pad>', '<pad>', '<pad>', '<pad>', '<pad>', '<pad>', '<pad>', '<pad>', '<pad>', '<pad>', '<pad>', '<pad>', '<pad>', '<pad>', '<pad>', '<pad>', '<pad>', '<pad>', '<pad>', '<pad>', '<pad>', '<pad>', '<pad>', '<pad>', '<pad>', '<pad>', '<pad>', '<pad>', '<pad>', '<pad>', '<pad>', '<pad>', '<pad>', '<pad>', '<pad>', '<pad>', '<pad>', '<pad>', '<pad>', '<pad>', '<pad>', '<pad>', '<pad>', '<pad>', '<pad>', '<pad>', '<pad>', '<pad>', '<pad>', '<pad>', '<pad>', '<pad>', '<pad>', '<pad>', '<pad>', '<pad>', '<pad>', '<pad>', '<pad>', '<pad>', '<pad>', '<pad>', '<pad>', '<pad>', '<pad>', '<pad>', '<pad>', '<pad>', '<pad>', '<pad>', '<pad>', '<pad>', '<pad>', '<pad>', '<pad>', '<pad>', '<pad>', '<pad>', '<pad>', '<pad>', '<pad>', '<pad>', '<pad>', '<pad>', '<pad>', '<pad>', '<pad>', '<pad>', '<pad>', '<pad>', '<pad>', '<pad>', '<pad>', '<pad>', '<pad>', '<pad>', '<pad>', '<pad>', '<pad>', '<pad>', '<pad>', '<pad>', '<pad>', '<pad>', '<pad>', '<pad>', '<pad>', '<pad>', '<pad>', '<pad>', '<pad>', '<pad>', '<pad>', '<pad>', '<pad>', '<pad>', '<pad>', '<pad>', '<pad>', '<pad>', '<pad>', '<pad>', '<pad>', '<pad>', '<pad>', '<pad>', '<pad>', '<pad>', '<pad>', '<pad>', '<pad>', '<pad>', '<pad>', '<pad>', '<pad>', '<pad>', '<pad>', '<pad>', '<pad>', '<pad>', '<pad>', '<pad>', '<pad>', '<pad>', '<pad>', '<pad>', '<pad>', '<pad>', '<pad>', '<pad>', '<pad>', '<pad>', '<pad>', '<pad>', '<pad>', '<pad>', '<pad>', '<pad>', '<pad>', '<pad>', '<pad>', '<pad>', '<pad>', '<pad>', '<pad>', '<pad>', '<pad>', '<pad>', '<pad>', '<pad>', '<pad>', '<pad>', '<pad>', '<pad>', '<pad>', '<pad>', '<pad>', '<pad>', '<pad>', '<pad>', '<pad>', '<pad>', '<pad>', '<pad>', '<pad>', '<pad>', '<pad>', '<pad>', '<pad>', '<pad>', '<pad>', '<pad>', '<pad>', '<pad>', '<pad>', '<pad>', '<pad>', '<pad>', '<pad>', '<pad>', '<pad>', '<pad>', '<pad>', '<pad>', '<pad>', '<pad>', '<pad>', '<pad>', '<pad>', '<pad>', '<pad>', '<pad>', '<pad>', '<pad>', '<pad>', '<pad>', '<pad>', '<pad>', '<pad>', '<pad>', '<pad>', '<pad>', '<pad>', '<pad>', '<pad>', '<pad>', '<pad>', '<pad>', '<pad>', '<pad>', '<pad>', '<pad>', '<pad>', '<pad>', '<pad>', '<pad>', '<pad>', '<pad>', '<pad>', '<pad>', '<pad>', '<pad>', '<pad>', '<pad>', '<pad>', '<pad>', '<pad>', '<pad>', '<pad>', '<pad>', '<pad>', '<pad>', '<pad>', '<pad>', '<pad>', '<pad>', '<pad>', '<pad>', '<pad>', '<pad>', '<pad>', '<pad>', '<pad>', '<pad>', '<pad>', '<pad>', '<pad>', '<pad>', '<pad>', '<pad>', '<pad>', '<pad>', '<pad>', '<pad>', '<pad>', '<pad>', '<pad>', '<pad>', '<pad>', '<pad>', '<pad>', '<pad>', '<pad>', '<pad>', '<pad>', '<pad>', '<pad>', '<pad>', '<pad>', '<pad>', '<pad>', '<pad>', '<pad>', '<pad>', '<pad>', '<pad>', '<pad>', '<pad>', '<pad>', '<pad>', '<pad>', '<pad>', '<pad>', '<pad>', '<pad>', '<pad>', '<pad>', '<pad>', '<pad>', '<pad>', '<pad>', '<pad>', '<pad>', '<pad>', '<pad>', '<pad>', '<pad>', '<pad>', '<pad>', '<pad>', '<pad>', '<pad>', '<pad>', '<pad>', '<pad>', '<pad>', '<pad>', '<pad>', '<pad>', '<pad>', '<pad>', '<pad>', '<pad>', '<pad>', '<pad>', '<pad>', '<pad>', '<pad>', '<pad>', '<pad>', '<pad>', '<pad>', '<pad>', '<pad>', '<pad>', '<pad>', '<pad>', '<pad>', '<pad>', '<pad>', '<pad>', '<pad>', '<pad>', '<pad>', '<pad>', '<pad>', '<pad>', '<pad>', '<pad>', '<pad>', '<pad>', '<pad>', '<pad>', '<pad>', '<pad>', '<pad>', '<pad>', '<pad>', '<pad>', '<pad>', '<pad>', '<pad>', '<pad>', '<pad>', '<pad>', '<pad>', '<pad>', '<pad>', '<pad>', '<pad>', '<pad>', '<pad>', '<pad>', '<pad>', '<pad>', '<pad>', '<pad>', '<pad>', '<pad>', '<pad>', '<pad>', '<pad>', '<pad>', '<pad>', '<pad>', '<pad>', '<pad>', '<pad>', '<pad>', '<pad>', '<pad>', '<pad>', '<pad>', '<pad>', '<pad>', '<pad>', '<pad>', '<pad>', '<pad>', '<pad>', '<pad>', '<pad>', '<pad>', '<pad>', '<pad>', '<pad>', '<pad>', '<pad>', '<pad>', '<pad>', '<pad>', '<pad>', '<pad>', '<pad>', '<pad>', '<pad>', '<pad>', '<pad>', '<pad>', '<pad>', '<pad>', '<pad>', '<pad>', '<pad>', '<pad>', '<pad>', '<pad>', '<pad>', '<pad>', '<pad>', '<pad>', '<pad>', '<pad>', '<pad>', '<pad>', '<pad>', '<pad>', '<pad>', '<pad>', '<pad>', '<pad>', '<pad>', '<pad>', '<pad>', '<pad>', '<pad>', '<pad>', '<pad>', '<pad>', '<pad>', '<pad>', '<pad>', '<pad>', '<pad>', '<pad>', '<pad>', '<pad>', '<pad>', '<pad>', '<pad>', '<pad>', '<pad>', '<pad>', '<pad>', '<pad>', '<pad>', '<pad>', '<pad>', '<pad>', '<pad>', '<pad>', '<pad>', '<pad>', '<pad>', '<pad>', '<pad>', '<pad>', '<pad>', '<pad>', '<pad>', '<pad>', '<pad>', '<pad>', '<pad>', '<pad>', '<pad>', '<pad>', '<pad>', '<pad>', '<pad>', '<pad>', '<pad>', '<pad>', '<pad>', '<pad>', '<pad>', '<pad>', '<pad>', '<pad>', '<pad>', '<pad>', '<pad>', '<pad>', '<pad>', '<pad>', '<pad>', '<pad>', '<pad>', '<pad>', '<pad>', '<pad>', '<pad>', '<pad>', '<pad>', '<pad>', '<pad>', '<pad>', '<pad>', '<pad>', '<pad>', '<pad>', '<pad>', '<pad>', '<pad>', '<pad>', '<pad>', '<pad>', '<pad>', '<pad>', '<pad>', '<pad>', '<pad>', '<pad>', '<pad>', '<pad>', '<pad>', '<pad>', '<pad>', '<pad>', '<pad>', '<pad>', '<pad>', '<pad>', '<pad>', '<pad>', '<pad>', '<pad>', '<pad>', '<pad>', '<pad>', '<pad>', '<pad>', '<pad>', '<pad>', '<pad>', '<pad>', '<pad>', '<pad>', '<pad>', '<pad>', '<pad>', '<pad>', '<pad>', '<pad>', '<pad>', '<pad>', '<pad>', '<pad>', '<pad>', '<pad>', '<pad>', '<pad>', '<pad>', '<pad>', '<pad>', '<pad>', '<pad>', '<pad>', '<pad>', '<pad>', '<pad>', '<pad>', '<pad>', '<pad>', '<pad>', '<pad>', '<pad>', '<pad>', '<pad>', '<pad>', '<pad>', '<pad>', '<pad>', '<pad>', '<pad>', '<pad>', '<pad>', '<pad>', '<pad>', '<pad>', '<pad>', '<pad>', '<pad>', '<pad>', '<pad>', '<pad>', '<pad>', '<pad>', '<pad>', '<pad>', '<pad>', '<pad>', '<pad>', '<pad>', '<pad>', '<pad>', '<pad>', '<pad>', '<pad>', '<pad>', '<pad>', '<pad>', '<pad>', '<pad>', '<pad>', '<pad>', '<pad>', '<pad>', '<pad>', '<pad>', '<pad>', '<pad>', '<pad>', '<pad>', '<pad>', '<pad>', '<pad>', '<pad>', '<pad>', '<pad>', '<pad>', '<pad>', '<pad>', '<pad>', '<pad>', '<pad>', '<pad>', '<pad>', '<pad>', '<pad>', '<pad>', '<pad>', '<pad>', '<pad>', '<pad>', '<pad>', '<pad>', '<pad>', '<pad>', '<pad>', '<pad>', '<pad>', '<pad>', '<pad>', '<pad>', '<pad>', '<pad>', '<pad>', '<pad>', '<pad>', '<pad>', '<pad>', '<pad>', '<pad>', '<pad>', '<pad>', '<pad>', '<pad>', '<pad>', '<pad>', '<pad>', '<pad>', '<pad>', '<pad>', '<pad>', '<pad>', '<pad>', '<pad>', '<pad>', '<pad>', '<pad>', '<pad>', '<pad>', '<pad>', '<pad>', '<pad>', '<pad>', '<pad>', '<pad>', '<pad>', '<pad>', '<pad>', '<pad>', '<pad>', '<pad>', '<pad>', '<pad>', '<pad>', '<pad>', '<pad>', '<pad>', '<pad>', '<pad>', '<pad>', '<pad>', '<pad>', '<pad>', '<pad>', '<pad>', '<pad>', '<pad>', '<pad>', '<pad>', '<pad>', '<pad>', '<pad>', '<pad>', '<pad>', '<pad>', '<pad>', '<pad>', '<pad>', '<pad>', '<pad>', '<pad>', '<pad>', '<pad>', '<pad>', '<pad>', '<pad>', '<pad>', '<pad>', '<pad>', '<pad>', '<pad>', '<pad>', '<pad>', '<pad>', '<pad>', '<pad>', '<pad>', '<pad>', '<pad>', '<pad>', '<pad>', '<pad>', '<pad>', '<pad>', '<pad>', '<pad>', '<pad>', '<pad>', '<pad>', '<pad>', '<pad>', '<pad>', '<pad>', '<pad>', '<pad>', '<pad>', '<pad>', '<pad>', '<pad>', '<pad>', '<pad>', '<pad>', '<pad>', '<pad>', '<pad>', '<pad>', '<pad>', '<pad>', '<pad>', '<pad>', '<pad>', '<pad>', '<pad>', '<pad>', '<pad>', '<pad>', '<pad>', '<pad>', '<pad>', '<pad>', '<pad>', '<pad>', '<pad>', '<pad>', '<pad>', '<pad>', '<pad>', '<pad>', '<pad>', '<pad>', '<pad>', '<pad>', '<pad>', '<pad>', '<pad>', '<pad>', '<pad>', '<pad>', '<pad>', '<pad>', '<pad>', '<pad>', '<pad>', '<pad>', '<pad>', '<pad>', '<pad>', '<pad>', '<pad>', '<pad>', '<pad>', '<pad>', '<pad>', '<pad>', '<pad>', '<pad>', '<pad>', '<pad>', '<pad>', '<pad>', '<pad>', '<pad>', '<pad>', '<pad>', '<pad>', '<pad>', '<pad>', '<pad>', '<pad>', '<pad>', '<pad>', '<pad>', '<pad>', '<pad>', '<pad>', '<pad>', '<pad>', '<pad>', '<pad>', '<pad>', '<pad>', '<pad>', '<pad>', '<pad>', '<pad>', '<pad>', '<pad>', '<pad>', '<pad>', '<pad>', '<pad>', '<pad>', '<pad>', '<pad>', '<pad>', '<pad>', '<pad>', '<pad>', '<pad>', '<pad>', '<pad>', '<pad>', '<pad>', '<pad>', '<pad>', '<pad>', '<pad>', '<pad>', '<pad>', '<pad>', '<pad>', '<pad>', '<pad>', '<pad>', '<pad>', '<pad>', '<pad>', '<pad>', '<pad>', '<pad>', '<pad>', '<pad>', '<pad>', '<pad>', '<pad>', '<pad>', '<pad>', '<pad>', '<pad>', '<pad>', '<pad>', '<pad>', '<pad>', '<pad>', '<pad>', '<pad>', '<pad>', '<pad>', '<pad>', '<pad>', '<pad>', '<pad>', '<pad>', '<pad>', '<pad>', '<pad>', '<pad>', '<pad>', '<pad>', '<pad>', '<pad>', '<pad>', '<pad>', '<pad>', '<pad>', '<pad>', '<pad>', '<pad>', '<pad>', '<pad>', '<pad>', '<pad>', '<pad>', '<pad>', '<pad>', '<pad>', '<pad>', '<pad>', '<pad>', '<pad>', '<pad>', '<pad>', '<pad>', '<pad>', '<pad>', '<pad>', '<pad>', '<pad>', '<pad>', '<pad>', '<pad>', '<pad>', '<pad>', '<pad>', '<pad>', '<pad>', '<pad>', '<pad>', '<pad>', '<pad>', '<pad>', '<pad>', '<pad>', '<pad>', '<pad>', '<pad>', '<pad>', '<pad>', '<pad>', '<pad>', '<pad>', '<pad>', '<pad>', '<pad>', '<pad>', '<pad>', '<pad>', '<pad>', '<pad>', '<pad>', '<pad>', '<pad>', '<pad>', '<pad>', '<pad>', '<pad>', '<pad>', '<pad>', '<pad>', '<pad>', '<pad>', '<pad>', '<pad>', '<pad>', '<pad>', '<pad>', '<pad>', '<pad>', '<pad>', '<pad>', '<pad>', '<pad>', '<pad>', '<pad>', '<pad>', '<pad>', '<pad>', '<pad>', '<pad>', '<pad>', '<pad>', '<pad>', '<pad>', '<pad>', '<pad>', '<pad>', '<pad>', '<pad>', '<pad>', '<pad>', '<pad>', '<pad>', '<pad>', '<pad>', '<pad>', '<pad>', '<pad>', '<pad>', '<pad>', '<pad>', '<pad>', '<pad>', '<pad>', '<pad>', '<pad>', '<pad>', '<pad>', '<pad>', '<pad>', '<pad>', '<pad>', '<pad>', '<pad>', '<pad>', '<pad>', '<pad>', '<pad>', '<pad>', '<pad>', '<pad>', '<pad>', '<pad>', '<pad>', '<pad>', '<pad>', '<pad>', '<pad>', '<pad>', '<pad>', '<pad>', '<pad>', '<pad>', '<pad>', '<pad>', '<pad>', '<pad>', '<pad>', '<pad>', '<pad>', '<pad>', '<pad>', '<pad>', '<pad>', '<pad>', '<pad>', '<pad>', '<pad>', '<pad>', '<pad>', '<pad>', '<pad>', '<pad>', '<pad>', '<pad>', '<pad>', '<pad>', '<pad>', '<pad>', '<pad>', '<pad>', '<pad>', '<pad>', '<pad>', '<pad>', '<pad>', '<pad>', '<pad>', '<pad>', '<pad>', '<pad>', '<pad>', '<pad>', '<pad>', '<pad>', '<pad>', '<pad>', '<pad>', '<pad>', '<pad>', '<pad>', '<pad>', '<pad>', '<pad>', '<pad>', '<pad>', '<pad>', '<pad>', '<pad>', '<pad>', '<pad>', '<pad>', '<pad>', '<pad>', '<pad>', '<pad>', '<pad>', '<pad>', '<pad>', '<pad>', '<pad>', '<pad>', '<pad>', '<pad>', '<pad>', '<pad>', '<pad>', '<pad>', '<pad>', '<pad>', '<pad>', '<pad>', '<pad>', '<pad>', '<pad>', '<pad>', '<pad>', '<pad>', '<pad>', '<pad>', '<pad>', '<pad>', '<pad>', '<pad>', '<pad>', '<pad>', '<pad>', '<pad>', '<pad>', '<pad>', '<pad>', '<pad>', '<pad>', '<pad>', '<pad>', '<pad>', '<pad>', '<pad>', '<pad>', '<pad>', '<pad>', '<pad>', '<pad>', '<pad>', '<pad>', '<pad>', '<pad>', '<pad>', '<pad>', '<pad>', '<pad>', '<pad>', '<pad>', '<pad>', '<pad>', '<pad>', '<pad>', '<pad>', '<pad>', '<pad>', '<pad>', '<pad>', '<pad>', '<pad>', '<pad>', '<pad>', '<pad>', '<pad>', '<pad>', '<pad>', '<pad>', '<pad>', '<pad>', '<pad>', '<pad>', '<pad>', '<pad>', '<pad>', '<pad>', '<pad>', '<pad>', '<pad>', '<pad>', '<pad>', '<pad>', '<pad>', '<pad>', '<pad>', '<pad>', '<pad>', '<pad>', '<pad>', '<pad>', '<pad>', '<pad>', '<pad>', '<pad>', '<pad>', '<pad>', '<pad>', '<pad>', '<pad>', '<pad>', '<pad>', '<pad>', '<pad>', '<pad>', '<pad>', '<pad>', '<pad>', '<pad>', '<pad>', '<pad>', '<pad>', '<pad>', '<pad>', '<pad>', '<pad>', '<pad>', '<pad>', '<pad>', '<pad>', '<pad>', '<pad>', '<pad>', '<pad>', '<pad>', '<pad>', '<pad>', '<pad>', '<pad>', '<pad>', '<pad>', '<pad>', '<pad>', '<pad>', '<pad>', '<pad>', '<pad>', '<pad>', '<pad>', '<pad>', '<pad>', '<pad>', '<pad>', '<pad>', '<pad>', '<pad>', '<pad>', '<pad>', '<pad>', '<pad>', '<pad>', '<pad>', '<pad>', '<pad>', '<pad>', '<pad>', '<pad>', '<pad>', '<pad>', '<pad>', '<pad>', '<pad>', '<pad>', '<pad>', '<pad>', '<pad>', '<pad>', '<pad>', '<pad>', '<pad>', '<pad>', '<pad>', '<pad>', '<pad>', '<pad>', '<pad>', '<pad>', '<pad>', '<pad>', '<pad>', '<pad>', '<pad>', '<pad>', '<pad>', '<pad>', '<pad>', '<pad>', '<pad>', '<pad>', '<pad>', '<pad>', '<pad>', '<pad>', '<pad>', '<pad>', '<pad>', '<pad>', '<pad>', '<pad>', '<pad>', '<pad>', '<pad>', '<pad>', '<pad>', '<pad>', '<pad>', '<pad>', '<pad>', '<pad>', '<pad>', '<pad>', '<pad>', '<pad>', '<pad>', '<pad>', '<pad>', '<pad>', '<pad>', '<pad>', '<pad>', '<pad>', '<pad>', '<pad>', '<pad>', '<pad>', '<pad>', '<pad>', '<pad>', '<pad>', '<pad>', '<pad>', '<pad>', '<pad>', '<pad>', '<pad>', '<pad>', '<pad>', '<pad>', '<pad>', '<pad>', '<pad>', '<pad>', '<pad>', '<pad>', '<pad>', '<pad>', '<pad>', '<pad>', '<pad>', '<pad>', '<pad>', '<pad>', '<pad>', '<pad>', '<pad>', '<pad>', '<pad>', '<pad>', '<pad>', '<pad>', '<pad>', '<pad>', '<pad>', '<pad>', '<pad>', '<pad>', '<pad>', '<pad>', '<pad>', '<pad>', '<pad>', '<pad>', '<pad>', '<pad>', '<pad>', '<pad>', '<pad>', '<pad>', '<pad>', '<pad>', '<pad>', '<pad>', '<pad>', '<pad>', '<pad>', '<pad>', '<pad>', '<pad>', '<pad>', '<pad>', '<pad>', '<pad>', '<pad>', '<pad>', '<pad>', '<pad>', '<pad>', '<pad>', '<pad>', '<pad>', '<pad>', '<pad>', '<pad>', '<pad>', '<pad>', '<pad>', '<pad>', '<pad>', '<pad>', '<pad>', '<pad>', '<pad>', '<pad>', '<pad>', '<pad>', '<pad>', '<pad>', '<pad>', '<pad>', '<pad>', '<pad>', '<pad>', '<pad>', '<pad>', '<pad>', '<pad>', '<pad>', '<pad>', '<pad>', '<pad>', '<pad>', '<pad>', '<pad>', '<pad>', '<pad>', '<pad>', '<pad>', '<pad>', '<pad>', '<pad>', '<pad>', '<pad>', '<pad>', '<pad>', '<pad>', '<pad>', '<pad>', '<pad>', '<pad>', '<pad>', '<pad>', '<pad>', '<pad>', '<pad>', '<pad>', '<pad>', '<pad>', '<pad>', '<pad>', '<pad>', '<pad>', '<pad>', '<pad>', '<pad>', '<pad>', '<pad>', '<pad>', '<pad>', '<pad>', '<pad>', '<pad>', '<pad>', '<pad>', '<pad>', '<pad>', '<pad>', '<pad>', '<pad>', '<pad>', '<pad>', '<pad>', '<pad>', '<pad>', '<pad>', '<pad>', '<pad>', '<pad>', '<pad>', '<pad>', '<pad>', '<pad>', '<pad>', '<pad>', '<pad>', '<pad>', '<pad>', '<pad>', '<pad>', '<pad>', '<pad>', '<pad>', '<pad>', '<pad>', '<pad>', '<pad>', '<pad>', '<pad>', '<pad>', '<pad>', '<pad>', '<pad>', '<pad>', '<pad>', '<pad>', '<pad>', '<pad>', '<pad>', '<pad>', '<pad>', '<pad>', '<pad>', '<pad>', '<pad>', '<pad>', '<pad>', '<pad>', '<pad>', '<pad>', '<pad>', '<pad>', '<pad>', '<pad>', '<pad>', '<pad>', '<pad>', '<pad>', '<pad>', '<pad>', '<pad>', '<pad>', '<pad>', '<pad>', '<pad>', '<pad>', '<pad>', '<pad>', '<pad>', '<pad>', '<pad>', '<pad>', '<pad>', '<pad>', '<pad>', '<pad>', '<pad>', '<pad>', '<pad>', '<pad>', '<pad>', '<pad>', '<pad>', '<pad>', '<pad>', '<pad>', '<pad>', '<pad>', '<pad>', '<pad>', '<pad>', '<pad>', '<pad>', '<pad>', '<pad>', '<pad>', '<pad>', '<pad>', '<pad>', '<pad>', '<pad>', '<pad>', '<pad>', '<pad>', '<pad>', '<pad>', '<pad>', '<pad>', '<pad>', '<pad>', '<pad>', '<pad>', '<pad>', '<pad>', '<pad>', '<pad>', '<pad>', '<pad>', '<pad>', '<pad>', '<pad>', '<pad>', '<pad>', '<pad>', '<pad>', '<pad>', '<pad>', '<pad>', '<pad>', '<pad>', '<pad>', '<pad>', '<pad>', '<pad>', '<pad>', '<pad>', '<pad>', '<pad>', '<pad>', '<pad>', '<pad>', '<pad>', '<pad>', '<pad>', '<pad>', '<pad>', '<pad>', '<pad>', '<pad>', '<pad>', '<pad>', '<pad>', '<pad>', '<pad>', '<pad>', '<pad>', '<pad>', '<pad>', '<pad>', '<pad>', '<pad>', '<pad>', '<pad>', '<pad>', '<pad>', '<pad>', '<pad>', '<pad>', '<pad>', '<pad>', '<pad>', '<pad>', '<pad>', '<pad>', '<pad>', '<pad>', '<pad>', '<pad>', '<pad>', '<pad>', '<pad>', '<pad>', '<pad>', '<pad>', '<pad>', '<pad>', '<pad>', '<pad>', '<pad>', '<pad>', '<pad>', '<pad>', '<pad>', '<pad>', '<pad>', '<pad>', '<pad>', '<pad>', '<pad>', '<pad>', '<pad>', '<pad>', '<pad>', '<pad>', '<pad>', '<pad>', '<pad>', '<pad>', '<pad>', '<pad>', '<pad>', '<pad>', '<pad>', '<pad>', '<pad>', '<pad>', '<pad>', '<pad>', '<pad>', '<pad>', '<pad>', '<pad>', '<pad>', '<pad>', '<pad>', '<pad>', '<pad>', '<pad>', '<pad>', '<pad>', '<pad>', '<pad>', '<pad>', '<pad>', '<pad>', '<pad>', '<pad>', '<pad>', '<pad>', '<pad>', '<pad>', '<pad>', '<pad>', '<pad>', '<pad>', '<pad>', '<pad>', '<pad>', '<pad>', '<pad>', '<pad>', '<pad>', '<pad>', '<pad>', '<pad>', '<pad>', '<pad>', '<pad>', '<pad>', '<pad>', '<pad>', '<pad>', '<pad>', '<pad>', '<pad>', '<pad>', '<pad>', '<pad>', '<pad>', '<pad>', '<pad>', '<pad>', '<pad>', '<pad>', '<pad>', '<pad>', '<pad>', '<pad>', '<pad>', '<pad>', '<pad>', '<pad>', '<pad>', '<pad>', '<pad>', '<pad>', '<pad>', '<pad>', '<pad>', '<pad>', '<pad>', '<pad>', '<pad>', '<pad>', '<pad>', '<pad>', '<pad>', '<pad>', '<pad>', '<pad>', '<pad>', '<pad>', '<pad>', '<pad>', '<pad>', '<pad>', '<pad>', '<pad>', '<pad>', '<pad>', '<pad>', '<pad>', '<pad>', '<pad>', '<pad>', '<pad>', '<pad>', '<pad>', '<pad>', '<pad>', '<pad>', '<pad>', '<pad>', '<pad>', '<pad>', '<pad>', '<pad>', '<pad>', '<pad>', '<pad>', '<pad>', '<pad>', '<pad>', '<pad>', '<pad>', '<pad>', '<pad>', '<pad>', '<pad>', '<pad>', '<pad>', '<pad>', '<pad>', '<pad>', '<pad>', '<pad>', '<pad>', '<pad>', '<pad>', '<pad>', '<pad>', '<pad>', '<pad>', '<pad>', '<pad>', '<pad>', '<pad>', '<pad>', '<pad>', '<pad>', '<pad>', '<pad>', '<pad>', '<pad>', '<pad>', '<pad>', '<pad>', '<pad>', '<pad>', '<pad>', '<pad>', '<pad>', '<pad>', '<pad>', '<pad>', '<pad>', '<pad>', '<pad>', '<pad>', '<pad>', '<pad>', '<pad>', '<pad>', '<pad>', '<pad>', '<pad>', '<pad>', '<pad>', '<pad>', '<pad>', '<pad>', '<pad>', '<pad>', '<pad>', '<pad>', '<pad>', '<pad>', '<pad>', '<pad>', '<pad>', '<pad>', '<pad>', '<pad>', '<pad>', '<pad>', '<pad>', '<pad>', '<pad>', '<pad>', '<pad>', '<pad>', '<pad>', '<pad>', '<pad>', '<pad>', '<pad>', '<pad>', '<pad>', '<pad>', '<pad>', '<pad>', '<pad>', '<pad>', '<pad>', '<pad>', '<pad>', '<pad>', '<pad>', '<pad>', '<pad>', '<pad>', '<pad>', '<pad>', '<pad>', '<pad>', '<pad>', '<pad>', '<pad>', '<pad>', '<pad>', '<pad>', '<pad>', '<pad>', '<pad>', '<pad>', '<pad>', '<pad>', '<pad>', '<pad>', '<pad>', '<pad>', '<pad>', '<pad>', '<pad>', '<pad>', '<pad>', '<pad>', '<pad>', '<pad>', '<pad>', '<pad>', '<pad>', '<pad>', '<pad>', '<pad>', '<pad>', '<pad>', '<pad>', '<pad>', '<pad>', '<pad>', '<pad>', '<pad>', '<pad>', '<pad>', '<pad>', '<pad>', '<pad>', '<pad>', '<pad>', '<pad>', '<pad>', '<pad>', '<pad>', '<pad>', '<pad>', '<pad>', '<pad>', '<pad>', '<pad>', '<pad>', '<pad>', '<pad>', '<pad>', '<pad>', '<pad>', '<pad>', '<pad>', '<pad>', '<pad>', '<pad>', '<pad>', '<pad>', '<pad>', '<pad>', '<pad>', '<pad>', '<pad>', '<pad>', '<pad>', '<pad>', '<pad>', '<pad>', '<pad>', '<pad>', '<pad>', '<pad>', '<pad>', '<pad>', '<pad>', '<pad>', '<pad>', '<pad>', '<pad>', '<pad>', '<pad>', '<pad>', '<pad>', '<pad>', '<pad>', '<pad>', '<pad>', '<pad>', '<pad>', '<pad>', '<pad>', '<pad>', '<pad>', '<pad>', '<pad>', '<pad>', '<pad>', '<pad>', '<pad>', '<pad>', '<pad>', '<pad>', '<pad>', '<pad>', '<pad>', '<pad>', '<pad>', '<pad>', '<pad>', '<pad>', '<pad>', '<pad>', '<pad>', '<pad>', '<pad>', '<pad>', '<pad>', '<pad>', '<pad>', '<pad>', '<pad>', '<pad>', '<pad>', '<pad>', '<pad>', '<pad>', '<pad>', '<pad>', '<pad>', '<pad>', '<pad>', '<pad>', '<pad>', '<pad>', '<pad>', '<pad>', '<pad>', '<pad>', '<pad>', '<pad>', '<pad>', '<pad>', '<pad>', '<pad>', '<pad>', '<pad>', '<pad>', '<pad>', '<pad>', '<pad>', '<pad>', '<pad>', '<pad>', '<pad>', '<pad>', '<pad>', '<pad>', '<pad>', '<pad>', '<pad>', '<pad>', '<pad>', '<pad>', '<pad>', '<pad>', '<pad>', '<pad>', '<pad>', '<pad>', '<pad>', '<pad>', '<pad>', '<pad>', '<pad>', '<pad>', '<pad>', '<pad>', '<pad>', '<pad>', '<pad>', '<pad>', '<pad>', '<pad>', '<pad>', '<pad>', '<pad>', '<pad>', '<pad>', '<pad>', '<pad>', '<pad>', '<pad>', '<pad>', '<pad>', '<pad>', '<pad>', '<pad>', '<pad>', '<pad>', '<pad>', '<pad>', '<pad>', '<pad>', '<pad>', '<pad>', '<pad>', '<pad>', '<pad>', '<pad>', '<pad>', '<pad>', '<pad>', '<pad>', '<pad>', '<pad>', '<pad>', '<pad>', '<pad>', '<pad>', '<pad>', '<pad>', '<pad>', '<pad>', '<pad>', '<pad>', '<pad>', '<pad>', '<pad>', '<pad>', '<pad>', '<pad>', '<pad>', '<pad>', '<pad>', '<pad>', '<pad>', '<pad>', '<pad>', '<pad>', '<pad>', '<pad>', '<pad>', '<pad>', '<pad>', '<pad>', '<pad>', '<pad>', '<pad>', '<pad>', '<pad>', '<pad>', '<pad>', '<pad>', '<pad>', '<pad>', '<pad>', '<pad>', '<pad>', '<pad>', '<pad>', '<pad>', '<pad>', '<pad>', '<pad>', '<pad>', '<pad>', '<pad>', '<pad>', '<pad>', '<pad>', '<pad>', '<pad>', '<pad>', '<pad>', '<pad>', '<pad>', '<pad>', '<pad>', '<pad>', '<pad>', '<pad>', '<pad>', '<pad>', '<pad>', '<pad>', '<pad>', '<pad>', '<pad>', '<pad>', '<pad>', '<pad>', '<pad>', '<pad>', '<pad>', '<pad>', '<pad>', '<pad>', '<pad>', '<pad>', '<pad>', '<pad>', '<pad>', '<pad>', '<pad>', '<pad>', '<pad>', '<pad>', '<pad>', '<pad>', '<pad>', '<pad>', '<pad>', '<pad>', '<pad>', '<pad>', '<pad>', '<pad>', '<pad>', '<pad>', '<pad>', '<pad>', '<pad>', '<pad>', '<pad>', '<pad>', '<pad>', '<pad>', '<pad>', '<pad>', '<pad>', '<pad>', '<pad>', '<pad>', '<pad>', '<pad>', '<pad>', '<pad>', '<pad>', '<pad>', '<pad>', '<pad>', '<pad>', '<pad>', '<pad>', '<pad>', '<pad>', '<pad>', '<pad>', '<pad>', '<pad>', '<pad>', '<pad>', '<pad>', '<pad>', '<pad>', '<pad>', '<pad>', '<pad>', '<pad>', '<pad>', '<pad>', '<pad>', '<pad>', '<pad>', '<pad>', '<pad>', '<pad>', '<pad>', '<pad>', '<pad>', '<pad>', '<pad>', '<pad>', '<pad>', '<pad>', '<pad>', '<pad>', '<pad>', '<pad>', '<pad>', '<pad>', '<pad>', '<pad>', '<pad>', '<pad>', '<pad>', '<pad>', '<pad>', '<pad>', '<pad>', '<pad>', '<pad>', '<pad>', '<pad>', '<pad>', '<pad>', '<pad>', '<pad>', '<pad>', '<pad>', '<pad>', '<pad>', '<pad>', '<pad>', '<pad>', '<pad>', '<pad>', '<pad>', '<pad>', '<pad>', '<pad>', '<pad>', '<pad>', '<pad>', '<pad>', '<pad>', '<pad>', '<pad>', '<pad>', '<pad>', '<pad>', '<pad>', '<pad>', '<pad>', '<pad>', '<pad>', '<pad>', '<pad>', '<pad>', '<pad>', '<pad>', '<pad>', '<pad>', '<pad>', '<pad>', '<pad>', '<pad>', '<pad>', '<pad>', '<pad>', '<pad>', '<pad>', '<pad>', '<pad>', '<pad>', '<pad>', '<pad>', '<pad>', '<pad>', '<pad>', '<pad>', '<pad>', '<pad>', '<pad>', '<pad>', '<pad>', '<pad>', '<pad>', '<pad>', '<pad>', '<pad>', '<pad>', '<pad>', '<pad>', '<pad>', '<pad>', '<pad>', '<pad>', '<pad>', '<pad>', '<pad>', '<pad>', '<pad>', '<pad>', '<pad>', '<pad>', '<pad>', '<pad>', '<pad>', '<pad>', '<pad>', '<pad>', '<pad>', '<pad>', '<pad>', '<pad>', '<pad>', '<pad>', '<pad>', '<pad>', '<pad>', '<pad>', '<pad>', '<pad>', '<pad>', '<pad>', '<pad>', '<pad>', '<pad>', '<pad>', '<pad>', '<pad>', '<pad>', '<pad>', '<pad>', '<pad>', '<pad>', '<pad>', '<pad>', '<pad>', '<pad>', '<pad>', '<pad>', '<pad>', '<pad>', '<pad>', '<pad>', '<pad>', '<pad>', '<pad>', '<pad>', '<pad>', '<pad>', '<pad>', '<pad>', '<pad>', '<pad>', '<pad>', '<pad>', '<pad>', '<pad>', '<pad>', '<pad>', '<pad>', '<pad>', '<pad>', '<pad>', '<pad>', '<pad>', '<pad>', '<pad>', '<pad>', '<pad>', '<pad>', '<pad>', '<pad>', '<pad>', '<pad>', '<pad>', '<pad>', '<pad>', '<pad>', '<pad>', '<pad>', '<pad>', '<pad>', '<pad>', '<pad>', '<pad>', '<pad>', '<pad>', '<pad>', '<pad>', '<pad>', '<pad>', '<pad>', '<pad>', '<pad>', '<pad>', '<pad>', '<pad>', '<pad>', '<pad>', '<pad>', '<pad>', '<pad>', '<pad>', '<pad>', '<pad>', '<pad>', '<pad>', '<pad>', '<pad>', '<pad>', '<pad>', '<pad>', '<pad>', '<pad>', '<pad>', '<pad>', '<pad>', '<pad>', '<pad>', '<pad>', '<pad>', '<pad>', '<pad>', '<pad>', '<pad>', '<pad>', '<pad>', '<pad>', '<pad>', '<pad>', '<pad>', '<pad>', '<pad>', '<pad>', '<pad>', '<pad>', '<pad>', '<pad>', '<pad>', '<pad>', '<pad>', '<pad>', '<pad>', '<pad>', '<pad>', '<pad>', '<pad>', '<pad>', '<pad>', '<pad>', '<pad>', '<pad>', '<pad>', '<pad>', '<pad>', '<pad>', '<pad>', '<pad>', '<pad>', '<pad>', '<pad>', '<pad>', '<pad>', '<pad>', '<pad>', '<pad>', '<pad>', '<pad>', '<pad>', '<pad>', '<pad>', '<pad>', '<pad>', '<pad>', '<pad>', '<pad>', '<pad>', '<pad>', '<pad>', '<pad>', '<pad>', '<pad>', '<pad>', '<pad>', '<pad>', '<pad>', '<pad>', '<pad>', '<pad>', '<pad>', '<pad>', '<pad>', '<pad>', '<pad>', '<pad>', '<pad>', '<pad>', '<pad>', '<pad>', '<pad>', '<pad>', '<pad>', '<pad>', '<pad>', '<pad>', '<pad>', '<pad>', '<pad>', '<pad>', '<pad>', '<pad>', '<pad>', '<pad>', '<pad>', '<pad>', '<pad>', '<pad>', '<pad>', '<pad>', '<pad>', '<pad>', '<pad>', '<pad>', '<pad>', '<pad>', '<pad>', '<pad>', '<pad>', '<pad>', '<pad>', '<pad>', '<pad>', '<pad>', '<pad>', '<pad>', '<pad>', '<pad>', '<pad>', '<pad>', '<pad>', '<pad>', '<pad>', '<pad>', '<pad>', '<pad>', '<pad>', '<pad>', '<pad>', '<pad>', '<pad>', '<pad>', '<pad>', '<pad>', '<pad>', '<pad>', '<pad>', '<pad>', '<pad>', '<pad>', '<pad>', '<pad>', '<pad>', '<pad>', '<pad>', '<pad>', '<pad>', '<pad>', '<pad>', '<pad>', '<pad>', '<pad>', '<pad>', '<pad>', '<pad>', '<pad>', '<pad>', '<pad>', '<pad>', '<pad>', '<pad>', '<pad>', '<pad>', '<pad>', '<pad>', '<pad>', '<pad>', '<pad>', '<pad>', '<pad>', '<pad>', '<pad>', '<pad>', '<pad>', '<pad>', '<pad>', '<pad>', '<pad>', '<pad>', '<pad>', '<pad>', '<pad>', '<pad>', '<pad>', '<pad>', '<pad>', '<pad>', '<pad>', '<pad>', '<pad>', '<pad>', '<pad>', '<pad>', '<pad>', '<pad>', '<pad>', '<pad>', '<pad>', '<pad>', '<pad>', '<pad>', '<pad>', '<pad>', '<pad>', '<pad>', '<pad>', '<pad>', '<pad>', '<pad>', '<pad>', '<pad>', '<pad>', '<pad>', '<pad>', '<pad>', '<pad>', '<pad>', '<pad>', '<pad>', '<pad>', '<pad>', '<pad>', '<pad>', '<pad>', '<pad>', '<pad>', '<pad>', '<pad>', '<pad>', '<pad>', '<pad>', '<pad>', '<pad>', '<pad>', '<pad>', '<pad>', '<pad>', '<pad>', '<pad>', '<pad>', '<pad>', '<pad>', '<pad>', '<pad>', '<pad>', '<pad>', '<pad>', '<pad>', '<pad>', '<pad>', '<pad>', '<pad>', '<pad>', '<pad>', '<pad>', '<pad>', '<pad>', '<pad>', '<pad>', '<pad>', '<pad>', '<pad>', '<pad>', '<pad>', '<pad>', '<pad>', '<pad>', '<pad>', '<pad>', '<pad>', '<pad>', '<pad>', '<pad>', '<pad>', '<pad>', '<pad>', '<pad>', '<pad>', '<pad>', '<pad>', '<pad>', '<pad>', '<pad>', '<pad>', '<pad>', '<pad>', '<pad>', '<pad>', '<pad>', '<pad>', '<pad>', '<pad>', '<pad>', '<pad>', '<pad>', '<pad>', '<pad>', '<pad>', '<pad>', '<pad>', '<pad>', '<pad>', '<pad>', '<pad>', '<pad>', '<pad>', '<pad>', '<pad>', '<pad>', '<pad>', '<pad>', '<pad>', '<pad>', '<pad>', '<pad>', '<pad>', '<pad>', '<pad>', '<pad>', '<pad>', '<pad>', '<pad>', '<pad>', '<pad>', '<pad>', '<pad>', '<pad>', '<pad>', '<pad>', '<pad>', '<pad>', '<pad>', '<pad>', '<pad>', '<pad>', '<pad>', '<pad>', '<pad>', '<pad>', '<pad>', '<pad>', '<pad>', '<pad>', '<pad>', '<pad>', '<pad>', '<pad>', '<pad>', '<pad>', '<pad>', '<pad>', '<pad>', '<pad>', '<pad>', '<pad>', '<pad>', '<pad>', '<pad>', '<pad>', '<pad>', '<pad>', '<pad>', '<pad>', '<pad>', '<pad>', '<pad>', '<pad>', '<pad>', '<pad>', '<pad>', '<pad>', '<pad>', '<pad>', '<pad>', '<pad>', '<pad>', '<pad>', '<pad>', '<pad>', '<pad>', '<pad>', '<pad>', '<pad>', '<pad>', '<pad>', '<pad>', '<pad>', '<pad>', '<pad>', '<pad>', '<pad>', '<pad>', '<pad>', '<pad>', '<pad>', '<pad>', '<pad>', '<pad>', '<pad>', '<pad>', '<pad>', '<pad>', '<pad>', '<pad>', '<pad>', '<pad>', '<pad>', '<pad>', '<pad>', '<pad>', '<pad>', '<pad>', '<pad>', '<pad>', '<pad>', '<pad>', '<pad>', '<pad>', '<pad>', '<pad>', '<pad>', '<pad>', '<pad>', '<pad>', '<pad>', '<pad>', '<pad>', '<pad>', '<pad>', '<pad>', '<pad>', '<pad>', '<pad>', '<pad>', '<pad>', '<pad>', '<pad>', '<pad>', '<pad>', '<pad>', '<pad>', '<pad>', '<pad>', '<pad>', '<pad>', '<pad>', '<pad>', '<pad>', '<pad>', '<pad>', '<pad>', '<pad>', '<pad>', '<pad>', '<pad>', '<pad>', '<pad>', '<pad>', '<pad>', '<pad>', '<pad>', '<pad>', '<pad>', '<pad>', '<pad>', '<pad>', '<pad>', '<pad>', '<pad>', '<pad>', '<pad>', '<pad>', '<pad>', '<pad>', '<pad>', '<pad>', '<pad>', '<pad>', '<pad>', '<pad>', '<pad>', '<pad>', '<pad>', '<pad>', '<pad>', '<pad>', '<pad>', '<pad>', '<pad>', '<pad>', '<pad>', '<pad>', '<pad>', '<pad>', '<pad>', '<pad>', '<pad>', '<pad>', '<pad>', '<pad>', '<pad>', '<pad>', '<pad>', '<pad>', '<pad>', '<pad>', '<pad>', '<pad>', '<pad>', '<pad>', '<pad>', '<pad>', '<pad>', '<pad>', '<pad>', '<pad>', '<pad>', '<pad>', '<pad>', '<pad>', '<pad>', '<pad>', '<pad>', '<pad>', '<pad>', '<pad>', '<pad>', '<pad>', '<pad>', '<pad>', '<pad>', '<pad>', '<pad>', '<pad>', '<pad>', '<pad>', '<pad>', '<pad>', '<pad>', '<pad>', '<pad>', '<pad>', '<pad>', '<pad>', '<pad>', '<pad>', '<pad>', '<pad>', '<pad>', '<pad>', '<pad>', '<pad>', '<pad>', '<pad>', '<pad>', '<pad>', '<pad>', '<pad>', '<pad>', '<pad>', '<pad>', '<pad>', '<pad>', '<pad>', '<pad>', '<pad>', '<pad>', '<pad>', '<pad>', '<pad>', '<pad>', '<pad>', '<pad>', '<pad>', '<pad>', '<pad>', '<pad>', '<pad>', '<pad>', '<pad>', '<pad>', '<pad>', '<pad>', '<pad>', '<pad>', '<pad>', '<pad>', '<pad>', '<pad>', '<pad>', '<pad>', '<pad>', '<pad>', '<pad>', '<pad>', '<pad>', '<pad>', '<pad>', '<pad>', '<pad>', '<pad>', '<pad>', '<pad>', '<pad>', '<pad>', '<pad>', '<pad>', '<pad>', '<pad>', '<pad>', '<pad>', '<pad>', '<pad>', '<pad>', '<pad>', '<pad>', '<pad>', '<pad>', '<pad>', '<pad>', '<pad>', '<pad>', '<pad>', '<pad>', '<pad>', '<pad>', '<pad>', '<pad>', '<pad>', '<pad>', '<pad>', '<pad>', '<pad>', '<pad>', '<pad>', '<pad>', '<pad>', '<pad>', '<pad>', '<pad>', '<pad>', '<pad>', '<pad>', '<pad>', '<pad>', '<pad>', '<pad>', '<pad>', '<pad>', '<pad>', '<pad>', '<pad>', '<pad>', '<pad>', '<pad>', '<pad>', '<pad>', '<pad>', '<pad>', '<pad>', '<pad>', '<pad>', '<pad>', '<pad>', '<pad>', '<pad>', '<pad>', '<pad>', '<pad>', '<pad>', '<pad>', '<pad>', '<pad>', '<pad>', '<pad>', '<pad>', '<pad>', '<pad>', '<pad>', '<pad>', '<pad>', '<pad>', '<pad>', '<pad>', '<pad>', '<pad>', '<pad>', '<pad>', '<pad>', '<pad>', '<pad>', '<pad>', '<pad>', '<pad>', '<pad>', '<pad>', '<pad>', '<pad>', '<pad>', '<pad>', '<pad>', '<pad>', '<pad>', '<pad>', '<pad>', '<pad>', '<pad>', '<pad>', '<pad>', '<pad>', '<pad>', '<pad>', '<pad>', '<pad>', '<pad>', '<pad>', '<pad>', '<pad>', '<pad>', '<pad>', '<pad>', '<pad>', '<pad>', '<pad>', '<pad>', '<pad>', '<pad>', '<pad>', '<pad>', '<pad>', '<pad>', '<pad>', '<pad>', '<pad>', '<pad>', '<pad>', '<pad>', '<pad>', '<pad>', '<pad>', '<pad>', '<pad>', '<pad>', '<pad>', '<pad>', '<pad>', '<pad>', '<pad>', '<pad>', '<pad>', '<pad>', '<pad>', '<pad>', '<pad>', '<pad>', '<pad>', '<pad>', '<pad>', '<pad>', '<pad>', '<pad>', '<pad>', '<pad>', '<pad>', '<pad>', '<pad>', '<pad>', '<pad>', '<pad>', '<pad>', '<pad>', '<pad>', '<pad>', '<pad>', '<pad>', '<pad>', '<pad>', '<pad>', '<pad>', '<pad>', '<pad>', '<pad>', '<pad>', '<pad>', '<pad>', '<pad>', '<pad>', '<pad>', '<pad>', '<pad>', '<pad>', '<pad>', '<pad>', '<pad>', '<pad>', '<pad>', '<pad>', '<pad>', '<pad>', '<pad>', '<pad>', '<pad>', '<pad>', '<pad>', '<pad>', '<pad>', '<pad>', '<pad>', '<pad>', '<pad>', '<pad>', '<pad>', '<pad>', '<pad>', '<pad>', '<pad>', '<pad>', '<pad>', '<pad>', '<pad>', '<pad>', '<pad>', '<pad>', '<pad>', '<pad>', '<pad>', '<pad>', '<pad>', '<pad>', '<pad>', '<pad>', '<pad>', '<pad>', '<pad>', '<pad>', '<pad>', '<pad>', '<pad>', '<pad>', '<pad>', '<pad>', '<pad>', '<pad>', '<pad>', '<pad>', '<pad>', '<pad>', '<pad>', '<pad>', '<pad>', '<pad>', '<pad>', '<pad>', '<pad>', '<pad>', '<pad>', '<pad>', '<pad>', '<pad>', '<pad>', '<pad>', '<pad>', '<pad>', '<pad>', '<pad>', '<pad>', '<pad>', '<pad>', '<pad>', '<pad>', '<pad>', '<pad>', '<pad>', '<pad>', '<pad>', '<pad>', '<pad>', '<pad>', '<pad>', '<pad>', '<pad>', '<pad>', '<pad>', '<pad>', '<pad>', '<pad>', '<pad>', '<pad>', '<pad>', '<pad>', '<pad>', '<pad>', '<pad>', '<pad>', '<pad>', '<pad>', '<pad>', '<pad>', '<pad>', '<pad>', '<pad>', '<pad>', '<pad>', '<pad>', '<pad>', '<pad>', '<pad>', '<pad>', '<pad>', '<pad>', '<pad>', '<pad>', '<pad>', '<pad>', '<pad>', '<pad>', '<pad>', '<pad>', '<pad>', '<pad>', '<pad>', '<pad>', '<pad>', '<pad>', '<pad>', '<pad>', '<pad>', '<pad>', '<pad>', '<pad>', '<pad>', '<pad>', '<pad>', '<pad>', '<pad>', '<pad>', '<pad>', '<pad>', '<pad>', '<pad>', '<pad>', '<pad>', '<pad>', '<pad>', '<pad>', '<pad>', '<pad>', '<pad>', '<pad>', '<pad>', '<pad>', '<pad>', '<pad>', '<pad>', '<pad>', '<pad>', '<pad>', '<pad>', '<pad>', '<pad>', '<pad>', '<pad>', '<pad>', '<pad>', '<pad>', '<pad>', '<pad>', '<pad>', '<pad>', '<pad>', '<pad>', '<pad>', '<pad>', '<pad>', '<pad>', '<pad>', '<pad>', '<pad>', '<pad>', '<pad>', '<pad>', '<pad>', '<pad>', '<pad>', '<pad>', '<pad>', '<pad>', '<pad>', '<pad>', '<pad>', '<pad>', '<pad>', '<pad>', '<pad>', '<pad>', '<pad>', '<pad>', '<pad>', '<pad>', '<pad>', '<pad>', '<pad>', '<pad>', '<pad>', '<pad>', '<pad>', '<pad>', '<pad>', '<pad>', '<pad>', '<pad>', '<pad>', '<pad>', '<pad>', '<pad>', '<pad>', '<pad>', '<pad>', '<pad>', '<pad>', '<pad>', '<pad>', '<pad>', '<pad>', '<pad>', '<pad>', '<pad>', '<pad>', '<pad>', '<pad>', '<pad>', '<pad>', '<pad>', '<pad>', '<pad>', '<pad>', '<pad>', '<pad>', '<pad>', '<pad>', '<pad>', '<pad>', '<pad>', '<pad>', '<pad>', '<pad>', '<pad>', '<pad>', '<pad>', '<pad>', '<pad>', '<pad>', '<pad>', '<pad>', '<pad>', '<pad>', '<pad>', '<pad>', '<pad>', '<pad>', '<pad>', '<pad>', '<pad>', '<pad>', '<pad>', '<pad>', '<pad>', '<pad>', '<pad>', '<pad>', '<pad>', '<pad>', '<pad>', '<pad>', '<pad>', '<pad>', '<pad>', '<pad>', '<pad>', '<pad>', '<pad>', '<pad>', '<pad>', '<pad>', '<pad>', '<pad>', '<pad>', '<pad>', '<pad>', '<pad>', '<pad>', '<pad>', '<pad>', '<pad>', '<pad>', '<pad>', '<pad>', '<pad>', '<pad>', '<pad>', '<pad>', '<pad>', '<pad>', '<pad>', '<pad>', '<pad>', '<pad>', '<pad>', '<pad>', '<pad>', '<pad>', '<pad>', '<pad>', '<pad>', '<pad>', '<pad>', '<pad>', '<pad>', '<pad>', '<pad>', '<pad>', '<pad>', '<pad>', '<pad>', '<pad>', '<pad>', '<pad>', '<pad>', '<pad>', '<pad>', '<pad>', '<pad>', '<pad>', '<pad>', '<pad>', '<pad>', '<pad>', '<pad>', '<pad>', '<pad>', '<pad>', '<pad>', '<pad>', '<pad>', '<pad>', '<pad>', '<pad>', '<pad>', '<pad>', '<pad>', '<pad>', '<pad>', '<pad>', '<pad>', '<pad>', '<pad>', '<pad>', '<pad>', '<pad>', '<pad>', '<pad>', '<pad>', '<pad>', '<pad>', '<pad>', '<pad>', '<pad>', '<pad>', '<pad>', '<pad>', '<pad>', '<pad>', '<pad>', '<pad>', '<pad>', '<pad>', '<pad>', '<pad>', '<pad>', '<pad>', '<pad>', '<pad>', '<pad>', '<pad>', '<pad>', '<pad>', '<pad>', '<pad>', '<pad>', '<pad>', '<pad>', '<pad>', '<pad>', '<pad>', '<pad>', '<pad>', '<pad>', '<pad>', '<pad>', '<pad>', '<pad>', '<pad>', '<pad>', '<pad>', '<pad>', '<pad>', '<pad>', '<pad>', '<pad>', '<pad>', '<pad>', '<pad>', '<pad>', '<pad>', '<pad>', '<pad>', '<pad>', '<pad>', '<pad>', '<pad>', '<pad>', '<pad>', '<pad>', '<pad>', '<pad>', '<pad>', '<pad>', '<pad>', '<pad>', '<pad>', '<pad>', '<pad>', '<pad>', '<pad>', '<pad>', '<pad>', '<pad>', '<pad>', '<pad>', '<pad>', '<pad>', '<pad>', '<pad>', '<pad>', '<pad>', '<pad>', '<pad>', '<pad>', '<pad>', '<pad>', '<pad>', '<pad>', '<pad>', '<pad>', '<pad>', '<pad>', '<pad>', '<pad>', '<pad>', '<pad>', '<pad>', '<pad>', '<pad>', '<pad>', '<pad>', '<pad>', '<pad>', '<pad>', '<pad>', '<pad>', '<pad>', '<pad>', '<pad>', '<pad>', '<pad>', '<pad>', '<pad>', '<pad>', '<pad>', '<pad>', '<pad>', '<pad>', '<pad>', '<pad>', '<pad>', '<pad>', '<pad>', '<pad>', '<pad>', '<pad>', '<pad>', '<pad>', '<pad>', '<pad>', '<pad>', '<pad>', '<pad>', '<pad>', '<pad>', '<pad>', '<pad>', '<pad>', '<pad>', '<pad>', '<pad>', '<pad>', '<pad>', '<pad>', '<pad>', '<pad>', '<pad>', '<pad>', '<pad>', '<pad>', '<pad>', '<pad>', '<pad>', '<pad>', '<pad>', '<pad>', '<pad>', '<pad>', '<pad>', '<pad>', '<pad>', '<pad>', '<pad>', '<pad>', '<pad>', '<pad>', '<pad>', '<pad>', '<pad>', '<pad>', '<pad>', '<pad>', '<pad>', '<pad>', '<pad>', '<pad>', '<pad>', '<pad>', '<pad>', '<pad>', '<pad>', '<pad>', '<pad>', '<pad>', '<pad>', '<pad>', '<pad>', '<pad>', '<pad>', '<pad>', '<pad>', '<pad>', '<pad>', '<pad>', '<pad>', '<pad>', '<pad>', '<pad>', '<pad>', '<pad>', '<pad>', '<pad>', '<pad>', '<pad>', '<pad>', '<pad>', '<pad>', '<pad>', '<pad>', '<pad>', '<pad>', '<pad>', '<pad>', '<pad>', '<pad>', '<pad>', '<pad>', '<pad>', '<pad>', '<pad>', '<pad>', '<pad>', '<pad>', '<pad>', '<pad>', '<pad>', '<pad>', '<pad>', '<pad>', '<pad>', '<pad>', '<pad>', '<pad>', '<pad>', '<pad>', '<pad>', '<pad>', '<pad>', '<pad>', '<pad>', '<pad>', '<pad>', '<pad>', '<pad>', '<pad>', '<pad>', '<pad>', '<pad>', '<pad>', '<pad>', '<pad>', '<pad>', '<pad>', '<pad>', '<pad>', '<pad>', '<pad>', '<pad>', '<pad>', '<pad>', '<pad>', '<pad>', '<pad>', '<pad>', '<pad>', '<pad>', '<pad>', '<pad>', '<pad>', '<pad>', '<pad>', '<pad>', '<pad>', '<pad>', '<pad>', '<pad>', '<pad>', '<pad>', '<pad>', '<pad>', '<pad>', '<pad>', '<pad>', '<pad>', '<pad>', '<pad>', '<pad>', '<pad>', '<pad>', '<pad>', '<pad>', '<pad>', '<pad>', '<pad>', '<pad>', '<pad>', '<pad>', '<pad>', '<pad>', '<pad>', '<pad>', '<pad>', '<pad>', '<pad>', '<pad>', '<pad>', '<pad>', '<pad>', '<pad>', '<pad>', '<pad>', '<pad>', '<pad>', '<pad>', '<pad>', '<pad>', '<pad>', '<pad>', '<pad>', '<pad>', '<pad>', '<pad>', '<pad>', '<pad>', '<pad>', '<pad>', '<pad>', '<pad>', '<pad>', '<pad>', '<pad>', '<pad>', '<pad>', '<pad>', '<pad>', '<pad>', '<pad>', '<pad>', '<pad>', '<pad>', '<pad>', '<pad>', '<pad>', '<pad>', '<pad>', '<pad>', '<pad>', '<pad>', '<pad>', '<pad>', '<pad>', '<pad>', '<pad>', '<pad>', '<pad>', '<pad>', '<pad>', '<pad>', '<pad>', '<pad>', '<pad>', '<pad>', '<pad>', '<pad>', '<pad>', '<pad>', '<pad>', '<pad>', '<pad>', '<pad>', '<pad>', '<pad>', '<pad>', '<pad>', '<pad>', '<pad>', '<pad>', '<pad>', '<pad>', '<pad>', '<pad>', '<pad>', '<pad>', '<pad>', '<pad>', '<pad>', '<pad>', '<pad>', '<pad>', '<pad>', '<pad>', '<pad>', '<pad>', '<pad>', '<pad>', '<pad>', '<pad>', '<pad>', '<pad>', '<pad>', '<pad>', '<pad>', '<pad>', '<pad>', '<pad>', '<pad>', '<pad>', '<pad>', '<pad>', '<pad>', '<pad>', '<pad>', '<pad>', '<pad>', '<pad>', '<pad>', '<pad>', '<pad>', '<pad>', '<pad>', '<pad>', '<pad>', '<pad>', '<pad>', '<pad>', '<pad>', '<pad>', '<pad>', '<pad>', '<pad>', '<pad>', '<pad>', '<pad>', '<pad>', '<pad>', '<pad>', '<pad>', '<pad>', '<pad>', '<pad>', '<pad>', '<pad>', '<pad>', '<pad>', '<pad>', '<pad>', '<pad>', '<pad>', '<pad>', '<pad>', '<pad>', '<pad>', '<pad>', '<pad>', '<pad>', '<pad>', '<pad>', '<pad>', '<pad>', '<pad>', '<pad>', '<pad>', '<pad>', '<pad>', '<pad>', '<pad>', '<pad>', '<pad>', '<pad>', '<pad>', '<pad>', '<pad>', '<pad>', '<pad>', '<pad>', '<pad>', '<pad>', '<pad>', '<pad>', '<pad>', '<pad>', '<pad>', '<pad>', '<pad>', '<pad>', '<pad>', '<pad>', '<pad>', '<pad>', '<pad>', '<pad>', '<pad>', '<pad>', '<pad>', '<pad>', '<pad>', '<pad>', '<pad>', '<pad>', '<pad>', '<pad>', '<pad>', '<pad>', '<pad>', '<pad>', '<pad>', '<pad>', '<pad>', '<pad>', '<pad>', '<pad>', '<pad>', '<pad>', '<pad>', '<pad>', '<pad>', '<pad>', '<pad>', '<pad>', '<pad>', '<pad>', '<pad>', '<pad>', '<pad>', '<pad>', '<pad>', '<pad>', '<pad>', '<pad>', '<pad>', '<pad>', '<pad>', '<pad>', '<pad>', '<pad>', '<pad>', '<pad>', '<pad>', '<pad>', '<pad>', '<pad>', '<pad>', '<pad>', '<pad>', '<pad>', '<pad>', '<pad>', '<pad>', '<pad>', '<pad>', '<pad>', '<pad>', '<pad>', '<pad>', '<pad>', '<pad>', '<pad>', '<pad>', '<pad>', '<pad>', '<pad>', '<pad>', '<pad>', '<pad>', '<pad>', '<pad>', '<pad>', '<pad>', '<pad>', '<pad>', '<pad>', '<pad>', '<pad>', '<pad>', '<pad>', '<pad>', '<pad>', '<pad>', '<pad>', '<pad>', '<pad>', '<pad>', '<pad>', '<pad>', '<pad>', '<pad>', '<pad>', '<pad>', '<pad>', '<pad>', '<pad>', '<pad>', '<pad>', '<pad>', '<pad>', '<pad>', '<pad>', '<pad>', '<pad>', '<pad>', '<pad>', '<pad>', '<pad>', '<pad>', '<pad>', '<pad>', '<pad>', '<pad>', '<pad>', '<pad>', '<pad>', '<pad>', '<pad>', '<pad>', '<pad>', '<pad>', '<pad>', '<pad>', '<pad>', '<pad>', '<pad>', '<pad>', '<pad>', '<pad>', '<pad>', '<pad>', '<pad>', '<pad>', '<pad>', '<pad>', '<pad>', '<pad>', '<pad>', '<pad>', '<pad>', '<pad>', '<pad>', '<pad>', '<pad>', '<pad>', '<pad>', '<pad>', '<pad>', '<pad>', '<pad>', '<pad>', '<pad>', '<pad>', '<pad>', '<pad>', '<pad>', '<pad>', '<pad>', '<pad>', '<pad>', '<pad>', '<pad>', '<pad>', '<pad>', '<pad>', '<pad>', '<pad>', '<pad>', '<pad>', '<pad>', '<pad>', '<pad>', '<pad>', '<pad>', '<pad>', '<pad>', '<pad>', '<pad>', '<pad>', '<pad>', '<pad>', '<pad>', '<pad>', '<pad>', '<pad>', '<pad>', '<pad>', '<pad>', '<pad>', '<pad>', '<pad>', '<pad>', '<pad>', '<pad>', '<pad>', '<pad>', '<pad>', '<pad>', '<pad>', '<pad>', '<pad>', '<pad>', '<pad>', '<pad>', '<pad>', '<pad>', '<pad>', '<pad>', '<pad>', '<pad>', '<pad>', '<pad>', '<pad>', '<pad>', '<pad>', '<pad>', '<pad>', '<pad>', '<pad>', '<pad>', '<pad>', '<pad>', '<pad>', '<pad>', '<pad>', '<pad>', '<pad>', '<pad>', '<pad>', '<pad>', '<pad>', '<pad>', '<pad>', '<pad>', '<pad>', '<pad>', '<pad>', '<pad>', '<pad>', '<pad>', '<pad>', '<pad>', '<pad>', '<pad>', '<pad>', '<pad>', '<pad>', '<pad>', '<pad>', '<pad>', '<pad>', '<pad>', '<pad>', '<pad>', '<pad>', '<pad>', '<pad>', '<pad>', '<pad>', '<pad>', '<pad>', '<pad>', '<pad>', '<pad>', '<pad>', '<pad>', '<pad>', '<pad>', '<pad>', '<pad>', '<pad>', '<pad>', '<pad>', '<pad>', '<pad>', '<pad>', '<pad>', '<pad>', '<pad>', '<pad>', '<pad>', '<pad>', '<pad>', '<pad>', '<pad>', '<pad>', '<pad>', '<pad>', '<pad>', '<pad>', '<pad>', '<pad>', '<pad>', '<pad>', '<pad>', '<pad>', '<pad>', '<pad>', '<pad>', '<pad>', '<pad>', '<pad>', '<pad>', '<pad>', '<pad>', '<pad>', '<pad>', '<pad>', '<pad>', '<pad>', '<pad>', '<pad>', '<pad>', '<pad>', '<pad>', '<pad>', '<pad>', '<pad>', '<pad>', '<pad>', '<pad>', '<pad>', '<pad>', '<pad>', '<pad>', '<pad>', '<pad>', '<pad>', '<pad>', '<pad>', '<pad>', '<pad>', '<pad>', '<pad>', '<pad>', '<pad>', '<pad>', '<pad>', '<pad>', '<pad>', '<pad>', '<pad>', '<pad>', '<pad>', '<pad>', '<pad>', '<pad>', '<pad>', '<pad>', '<pad>', '<pad>', '<pad>', '<pad>', '<pad>', '<pad>', '<pad>', '<pad>', '<pad>', '<pad>', '<pad>', '<pad>', '<pad>', '<pad>', '<pad>', '<pad>', '<pad>', '<pad>', '<pad>', '<pad>', '<pad>', '<pad>', '<pad>', '<pad>', '<pad>', '<pad>', '<pad>', '<pad>', '<pad>', '<pad>', '<pad>', '<pad>', '<pad>', '<pad>', '<pad>', '<pad>', '<pad>', '<pad>', '<pad>', '<pad>', '<pad>', '<pad>', '<pad>', '<pad>', '<pad>', '<pad>', '<pad>', '<pad>', '<pad>', '<pad>', '<pad>', '<pad>', '<pad>', '<pad>', '<pad>', '<pad>', '<pad>', '<pad>', '<pad>', '<pad>', '<pad>', '<pad>', '<pad>', '<pad>', '<pad>', '<pad>', '<pad>', '<pad>', '<pad>', '<pad>', '<pad>', '<pad>', '<pad>', '<pad>', '<pad>', '<pad>', '<pad>', '<pad>', '<pad>', '<pad>', '<pad>', '<pad>', '<pad>', '<pad>', '<pad>', '<pad>', '<pad>', '<pad>', '<pad>', '<pad>', '<pad>', '<pad>', '<pad>', '<pad>', '<pad>', '<pad>', '<pad>', '<pad>', '<pad>', '<pad>', '<pad>', '<pad>', '<pad>', '<pad>', '<pad>', '<pad>', '<pad>', '<pad>', '<pad>', '<pad>', '<pad>', '<pad>', '<pad>', '<pad>', '<pad>', '<pad>', '<pad>', '<pad>', '<pad>', '<pad>', '<pad>', '<pad>', '<pad>', '<pad>', '<pad>', '<pad>', '<pad>', '<pad>', '<pad>', '<pad>', '<pad>', '<pad>', '<pad>', '<pad>', '<pad>', '<pad>', '<pad>', '<pad>', '<pad>', '<pad>', '<pad>', '<pad>', '<pad>', '<pad>', '<pad>', '<pad>', '<pad>', '<pad>', '<pad>', '<pad>', '<pad>', '<pad>', '<pad>', '<pad>', '<pad>', '<pad>', '<pad>', '<pad>', '<pad>', '<pad>', '<pad>', '<pad>', '<pad>', '<pad>', '<pad>', '<pad>', '<pad>', '<pad>', '<pad>', '<pad>', '<pad>', '<pad>', '<pad>', '<pad>', '<pad>', '<pad>', '<pad>', '<pad>', '<pad>', '<pad>', '<pad>', '<pad>', '<pad>', '<pad>', '<pad>', '<pad>', '<pad>', '<pad>', '<pad>', '<pad>', '<pad>', '<pad>', '<pad>', '<pad>', '<pad>', '<pad>', '<pad>', '<pad>', '<pad>', '<pad>', '<pad>', '<pad>', '<pad>', '<pad>', '<pad>', '<pad>', '<pad>', '<pad>', '<pad>', '<pad>', '<pad>', '<pad>', '<pad>', '<pad>', '<pad>', '<pad>', '<pad>', '<pad>', '<pad>', '<pad>', '<pad>', '<pad>', '<pad>', '<pad>', '<pad>', '<pad>', '<pad>', '<pad>', '<pad>', '<pad>', '<pad>', '<pad>', '<pad>', '<pad>', '<pad>', '<pad>', '<pad>', '<pad>', '<pad>', '<pad>', '<pad>', '<pad>', '<pad>', '<pad>', '<pad>', '<pad>', '<pad>', '<pad>', '<pad>', '<pad>', '<pad>', '<pad>', '<pad>', '<pad>', '<pad>', '<pad>', '<pad>', '<pad>', '<pad>', '<pad>', '<pad>', '<pad>', '<pad>', '<pad>', '<pad>', '<pad>', '<pad>', '<pad>', '<pad>', '<pad>', '<pad>', '<pad>', '<pad>', '<pad>', '<pad>', '<pad>', '<pad>', '<pad>', '<pad>', '<pad>', '<pad>', '<pad>', '<pad>', '<pad>', '<pad>', '<pad>', '<pad>', '<pad>', '<pad>', '<pad>', '<pad>', '<pad>', '<pad>', '<pad>', '<pad>', '<pad>', '<pad>', '<pad>', '<pad>', '<pad>', '<pad>', '<pad>', '<pad>', '<pad>', '<pad>', '<pad>', '<pad>', '<pad>', '<pad>', '<pad>', '<pad>', '<pad>', '<pad>', '<pad>', '<pad>', '<pad>', '<pad>', '<pad>', '<pad>', '<pad>', '<pad>', '<pad>', '<pad>', '<pad>', '<pad>', '<pad>', '<pad>', '<pad>', '<pad>', '<pad>', '<pad>', '<pad>', '<pad>', '<pad>', '<pad>', '<pad>', '<pad>', '<pad>', '<pad>', '<pad>', '<pad>', '<pad>', '<pad>', '<pad>', '<pad>', '<pad>', '<pad>', '<pad>', '<pad>', '<pad>', '<pad>', '<pad>', '<pad>', '<pad>', '<pad>', '<pad>', '<pad>', '<pad>', '<pad>', '<pad>', '<pad>', '<pad>', '<pad>', '<pad>', '<pad>', '<pad>', '<pad>', '<pad>', '<pad>', '<pad>', '<pad>', '<pad>', '<pad>', '<pad>', '<pad>', '<pad>', '<pad>', '<pad>', '<pad>', '<pad>', '<pad>', '<pad>', '<pad>', '<pad>', '<pad>', '<pad>', '<pad>', '<pad>', '<pad>', '<pad>', '<pad>', '<pad>', '<pad>', '<pad>', '<pad>', '<pad>', '<pad>', '<pad>', '<pad>', '<pad>', '<pad>', '<pad>', '<pad>', '<pad>', '<pad>', '<pad>', '<pad>', '<pad>', '<pad>', '<pad>', '<pad>', '<pad>', '<pad>', '<pad>', '<pad>', '<pad>', '<pad>', '<pad>', '<pad>', '<pad>', '<pad>', '<pad>', '<pad>', '<pad>', '<pad>', '<pad>', '<pad>', '<pad>', '<pad>', '<pad>', '<pad>', '<pad>', '<pad>', '<pad>', '<pad>', '<pad>', '<pad>', '<pad>', '<pad>', '<pad>', '<pad>', '<pad>', '<pad>', '<pad>', '<pad>', '<pad>', '<pad>', '<pad>', '<pad>', '<pad>', '<pad>', '<pad>', '<pad>', '<pad>', '<pad>', '<pad>', '<pad>', '<pad>', '<pad>', '<pad>', '<pad>', '<pad>', '<pad>', '<pad>', '<pad>', '<pad>', '<pad>', '<pad>', '<pad>', '<pad>', '<pad>', '<pad>', '<pad>', '<pad>', '<pad>', '<pad>', '<pad>', '<pad>', '<pad>', '<pad>', '<pad>', '<pad>', '<pad>', '<pad>', '<pad>', '<pad>', '<pad>', '<pad>', '<pad>', '<pad>', '<pad>', '<pad>', '<pad>', '<pad>', '<pad>', '<pad>', '<pad>', '<pad>', '<pad>', '<pad>', '<pad>', '<pad>', '<pad>', '<pad>', '<pad>', '<pad>', '<pad>', '<pad>', '<pad>', '<pad>', '<pad>', '<pad>', '<pad>', '<pad>', '<pad>', '<pad>', '<pad>', '<pad>', '<pad>', '<pad>', '<pad>', '<pad>', '<pad>', '<pad>', '<pad>', '<pad>', '<pad>', '<pad>', '<pad>', '<pad>', '<pad>', '<pad>', '<pad>', '<pad>', '<pad>', '<pad>', '<pad>', '<pad>', '<pad>', '<pad>', '<pad>', '<pad>', '<pad>', '<pad>', '<pad>', '<pad>', '<pad>', '<pad>', '<pad>', '<pad>', '<pad>', '<pad>', '<pad>', '<pad>', '<pad>', '<pad>', '<pad>', '<pad>', '<pad>', '<pad>', '<pad>', '<pad>', '<pad>', '<pad>', '<pad>', '<pad>', '<pad>', '<pad>', '<pad>', '<pad>', '<pad>', '<pad>', '<pad>', '<pad>', '<pad>', '<pad>', '<pad>', '<pad>', '<pad>', '<pad>', '<pad>', '<pad>', '<pad>', '<pad>', '<pad>', '<pad>', '<pad>', '<pad>', '<pad>', '<pad>', '<pad>', '<pad>', '<pad>', '<pad>', '<pad>', '<pad>', '<pad>', '<pad>', '<pad>', '<pad>', '<pad>', '<pad>', '<pad>', '<pad>', '<pad>', '<pad>', '<pad>', '<pad>', '<pad>', '<pad>', '<pad>', '<pad>', '<pad>', '<pad>', '<pad>', '<pad>', '<pad>', '<pad>', '<pad>', '<pad>', '<pad>', '<pad>', '<pad>', '<pad>', '<pad>', '<pad>', '<pad>', '<pad>', '<pad>', '<pad>', '<pad>', '<pad>', '<pad>', '<pad>', '<pad>', '<pad>', '<pad>', '<pad>', '<pad>', '<pad>', '<pad>', '<pad>', '<pad>', '<pad>', '<pad>', '<pad>', '<pad>', '<pad>', '<pad>', '<pad>', '<pad>', '<pad>', '<pad>', '<pad>', '<pad>', '<pad>', '<pad>', '<pad>', '<pad>', '<pad>', '<pad>', '<pad>', '<pad>', '<pad>', '<pad>', '<pad>', '<pad>', '<pad>', '<pad>', '<pad>', '<pad>', '<pad>', '<pad>', '<pad>', '<pad>', '<pad>', '<pad>', '<pad>', '<pad>', '<pad>', '<pad>', '<pad>', '<pad>', '<pad>', '<pad>', '<pad>', '<pad>', '<pad>', '<pad>', '<pad>', '<pad>', '<pad>', '<pad>', '<pad>', '<pad>', '<pad>', '<pad>', '<pad>', '<pad>', '<pad>', '<pad>', '<pad>', '<pad>', '<pad>', '<pad>', '<pad>', '<pad>']\n",
      "Binary Dialogue:  [0, 0, 'are', 0, 'voting', 'for', 'in', 'this', 0, 0, 0, 0, 0, 0, 0, 0, 0, 0]\n",
      "Original summary:  ['kim', 'may', 'try', 'the', 'pomodoro', 'technique', 'recommended', 'by', 'tim', 'to', 'get', 'more', 'stuff', 'done.']\n"
     ]
    }
   ],
   "source": [
    "n = 2\n",
    "dialogue = train_data.iloc[n][\"dialogue\"]\n",
    "summary = train_data.iloc[n][\"summary\"]\n",
    "\n",
    "# Tokenize the dialogue and summary into words\n",
    "dialogue_words =[x.lower() for x in df_train[\"processed_text\"].iloc[n]] \n",
    "summary_words = [x.lower() for x in summary.split()] \n",
    "\n",
    "# Create a binary copy of dialogue where words in summary are 1, others are 0 \n",
    "# Show the binary representation\n",
    "print(\"Original Dialogue: \", dialogue_words)\n",
    "print(\"Binary Dialogue: \", binary_dialogue)\n",
    "print(\"Original summary: \", summary_words)"
   ]
  },
  {
   "cell_type": "code",
   "execution_count": 136,
   "id": "85411f4b-799c-481a-b5ee-50c0b5f20a8d",
   "metadata": {
    "scrolled": true
   },
   "outputs": [
    {
     "data": {
      "text/plain": [
       "['tim',\n",
       " 'hi',\n",
       " 'what',\n",
       " \"'s\",\n",
       " 'up',\n",
       " 'kim',\n",
       " 'bad',\n",
       " 'mood',\n",
       " 'tbh',\n",
       " 'i',\n",
       " 'was',\n",
       " 'going',\n",
       " 'to',\n",
       " 'do',\n",
       " 'lots',\n",
       " 'of',\n",
       " 'stuff',\n",
       " 'but',\n",
       " 'ended',\n",
       " 'up',\n",
       " 'procrastinating',\n",
       " 'tim',\n",
       " 'what',\n",
       " 'did',\n",
       " 'you',\n",
       " 'plan',\n",
       " 'on',\n",
       " 'doing',\n",
       " 'kim',\n",
       " 'oh',\n",
       " 'you',\n",
       " 'know',\n",
       " 'uni',\n",
       " 'stuff',\n",
       " 'and',\n",
       " 'unfucking',\n",
       " 'my',\n",
       " 'room',\n",
       " 'kim',\n",
       " 'maybe',\n",
       " 'tomorrow',\n",
       " 'i',\n",
       " \"'ll\",\n",
       " 'move',\n",
       " 'my',\n",
       " 'ass',\n",
       " 'and',\n",
       " 'do',\n",
       " 'everything',\n",
       " 'kim',\n",
       " 'we',\n",
       " 'were',\n",
       " 'going',\n",
       " 'to',\n",
       " 'defrost',\n",
       " 'a',\n",
       " 'fridge',\n",
       " 'so',\n",
       " 'instead',\n",
       " 'of',\n",
       " 'shopping',\n",
       " 'i',\n",
       " \"'ll\",\n",
       " 'eat',\n",
       " 'some',\n",
       " 'defrosted',\n",
       " 'veggies',\n",
       " 'tim',\n",
       " 'for',\n",
       " 'doing',\n",
       " 'stuff',\n",
       " 'i',\n",
       " 'recommend',\n",
       " 'pomodoro',\n",
       " 'technique',\n",
       " 'where',\n",
       " 'u',\n",
       " 'use',\n",
       " 'breaks',\n",
       " 'for',\n",
       " 'doing',\n",
       " 'chores',\n",
       " 'tim',\n",
       " 'it',\n",
       " 'really',\n",
       " 'helps',\n",
       " 'kim',\n",
       " 'thanks',\n",
       " 'maybe',\n",
       " 'i',\n",
       " \"'ll\",\n",
       " 'do',\n",
       " 'that',\n",
       " 'tim',\n",
       " 'i',\n",
       " 'also',\n",
       " 'like',\n",
       " 'using',\n",
       " 'post',\n",
       " 'its',\n",
       " 'in',\n",
       " 'kaban',\n",
       " 'style',\n",
       " '<pad>',\n",
       " '<pad>',\n",
       " '<pad>',\n",
       " '<pad>',\n",
       " '<pad>',\n",
       " '<pad>',\n",
       " '<pad>',\n",
       " '<pad>',\n",
       " '<pad>',\n",
       " '<pad>',\n",
       " '<pad>',\n",
       " '<pad>',\n",
       " '<pad>',\n",
       " '<pad>',\n",
       " '<pad>',\n",
       " '<pad>',\n",
       " '<pad>',\n",
       " '<pad>',\n",
       " '<pad>',\n",
       " '<pad>',\n",
       " '<pad>',\n",
       " '<pad>',\n",
       " '<pad>',\n",
       " '<pad>',\n",
       " '<pad>',\n",
       " '<pad>',\n",
       " '<pad>',\n",
       " '<pad>',\n",
       " '<pad>',\n",
       " '<pad>',\n",
       " '<pad>',\n",
       " '<pad>',\n",
       " '<pad>',\n",
       " '<pad>',\n",
       " '<pad>',\n",
       " '<pad>',\n",
       " '<pad>',\n",
       " '<pad>',\n",
       " '<pad>',\n",
       " '<pad>',\n",
       " '<pad>',\n",
       " '<pad>',\n",
       " '<pad>',\n",
       " '<pad>',\n",
       " '<pad>',\n",
       " '<pad>',\n",
       " '<pad>',\n",
       " '<pad>',\n",
       " '<pad>',\n",
       " '<pad>',\n",
       " '<pad>',\n",
       " '<pad>',\n",
       " '<pad>',\n",
       " '<pad>',\n",
       " '<pad>',\n",
       " '<pad>',\n",
       " '<pad>',\n",
       " '<pad>',\n",
       " '<pad>',\n",
       " '<pad>',\n",
       " '<pad>',\n",
       " '<pad>',\n",
       " '<pad>',\n",
       " '<pad>',\n",
       " '<pad>',\n",
       " '<pad>',\n",
       " '<pad>',\n",
       " '<pad>',\n",
       " '<pad>',\n",
       " '<pad>',\n",
       " '<pad>',\n",
       " '<pad>',\n",
       " '<pad>',\n",
       " '<pad>',\n",
       " '<pad>',\n",
       " '<pad>',\n",
       " '<pad>',\n",
       " '<pad>',\n",
       " '<pad>',\n",
       " '<pad>',\n",
       " '<pad>',\n",
       " '<pad>',\n",
       " '<pad>',\n",
       " '<pad>',\n",
       " '<pad>',\n",
       " '<pad>',\n",
       " '<pad>',\n",
       " '<pad>',\n",
       " '<pad>',\n",
       " '<pad>',\n",
       " '<pad>',\n",
       " '<pad>',\n",
       " '<pad>',\n",
       " '<pad>',\n",
       " '<pad>',\n",
       " '<pad>',\n",
       " '<pad>',\n",
       " '<pad>',\n",
       " '<pad>',\n",
       " '<pad>',\n",
       " '<pad>',\n",
       " '<pad>',\n",
       " '<pad>',\n",
       " '<pad>',\n",
       " '<pad>',\n",
       " '<pad>',\n",
       " '<pad>',\n",
       " '<pad>',\n",
       " '<pad>',\n",
       " '<pad>',\n",
       " '<pad>',\n",
       " '<pad>',\n",
       " '<pad>',\n",
       " '<pad>',\n",
       " '<pad>',\n",
       " '<pad>',\n",
       " '<pad>',\n",
       " '<pad>',\n",
       " '<pad>',\n",
       " '<pad>',\n",
       " '<pad>',\n",
       " '<pad>',\n",
       " '<pad>',\n",
       " '<pad>',\n",
       " '<pad>',\n",
       " '<pad>',\n",
       " '<pad>',\n",
       " '<pad>',\n",
       " '<pad>',\n",
       " '<pad>',\n",
       " '<pad>',\n",
       " '<pad>',\n",
       " '<pad>',\n",
       " '<pad>',\n",
       " '<pad>',\n",
       " '<pad>',\n",
       " '<pad>',\n",
       " '<pad>',\n",
       " '<pad>',\n",
       " '<pad>',\n",
       " '<pad>',\n",
       " '<pad>',\n",
       " '<pad>',\n",
       " '<pad>',\n",
       " '<pad>',\n",
       " '<pad>',\n",
       " '<pad>',\n",
       " '<pad>',\n",
       " '<pad>',\n",
       " '<pad>',\n",
       " '<pad>',\n",
       " '<pad>',\n",
       " '<pad>',\n",
       " '<pad>',\n",
       " '<pad>',\n",
       " '<pad>',\n",
       " '<pad>',\n",
       " '<pad>',\n",
       " '<pad>',\n",
       " '<pad>',\n",
       " '<pad>',\n",
       " '<pad>',\n",
       " '<pad>',\n",
       " '<pad>',\n",
       " '<pad>',\n",
       " '<pad>',\n",
       " '<pad>',\n",
       " '<pad>',\n",
       " '<pad>',\n",
       " '<pad>',\n",
       " '<pad>',\n",
       " '<pad>',\n",
       " '<pad>',\n",
       " '<pad>',\n",
       " '<pad>',\n",
       " '<pad>',\n",
       " '<pad>',\n",
       " '<pad>',\n",
       " '<pad>',\n",
       " '<pad>',\n",
       " '<pad>',\n",
       " '<pad>',\n",
       " '<pad>',\n",
       " '<pad>',\n",
       " '<pad>',\n",
       " '<pad>',\n",
       " '<pad>',\n",
       " '<pad>',\n",
       " '<pad>',\n",
       " '<pad>',\n",
       " '<pad>',\n",
       " '<pad>',\n",
       " '<pad>',\n",
       " '<pad>',\n",
       " '<pad>',\n",
       " '<pad>',\n",
       " '<pad>',\n",
       " '<pad>',\n",
       " '<pad>',\n",
       " '<pad>',\n",
       " '<pad>',\n",
       " '<pad>',\n",
       " '<pad>',\n",
       " '<pad>',\n",
       " '<pad>',\n",
       " '<pad>',\n",
       " '<pad>',\n",
       " '<pad>',\n",
       " '<pad>',\n",
       " '<pad>',\n",
       " '<pad>',\n",
       " '<pad>',\n",
       " '<pad>',\n",
       " '<pad>',\n",
       " '<pad>',\n",
       " '<pad>',\n",
       " '<pad>',\n",
       " '<pad>',\n",
       " '<pad>',\n",
       " '<pad>',\n",
       " '<pad>',\n",
       " '<pad>',\n",
       " '<pad>',\n",
       " '<pad>',\n",
       " '<pad>',\n",
       " '<pad>',\n",
       " '<pad>',\n",
       " '<pad>',\n",
       " '<pad>',\n",
       " '<pad>',\n",
       " '<pad>',\n",
       " '<pad>',\n",
       " '<pad>',\n",
       " '<pad>',\n",
       " '<pad>',\n",
       " '<pad>',\n",
       " '<pad>',\n",
       " '<pad>',\n",
       " '<pad>',\n",
       " '<pad>',\n",
       " '<pad>',\n",
       " '<pad>',\n",
       " '<pad>',\n",
       " '<pad>',\n",
       " '<pad>',\n",
       " '<pad>',\n",
       " '<pad>',\n",
       " '<pad>',\n",
       " '<pad>',\n",
       " '<pad>',\n",
       " '<pad>',\n",
       " '<pad>',\n",
       " '<pad>',\n",
       " '<pad>',\n",
       " '<pad>',\n",
       " '<pad>',\n",
       " '<pad>',\n",
       " '<pad>',\n",
       " '<pad>',\n",
       " '<pad>',\n",
       " '<pad>',\n",
       " '<pad>',\n",
       " '<pad>',\n",
       " '<pad>',\n",
       " '<pad>',\n",
       " '<pad>',\n",
       " '<pad>',\n",
       " '<pad>',\n",
       " '<pad>',\n",
       " '<pad>',\n",
       " '<pad>',\n",
       " '<pad>',\n",
       " '<pad>',\n",
       " '<pad>',\n",
       " '<pad>',\n",
       " '<pad>',\n",
       " '<pad>',\n",
       " '<pad>',\n",
       " '<pad>',\n",
       " '<pad>',\n",
       " '<pad>',\n",
       " '<pad>',\n",
       " '<pad>',\n",
       " '<pad>',\n",
       " '<pad>',\n",
       " '<pad>',\n",
       " '<pad>',\n",
       " '<pad>',\n",
       " '<pad>',\n",
       " '<pad>',\n",
       " '<pad>',\n",
       " '<pad>',\n",
       " '<pad>',\n",
       " '<pad>',\n",
       " '<pad>',\n",
       " '<pad>',\n",
       " '<pad>',\n",
       " '<pad>',\n",
       " '<pad>',\n",
       " '<pad>',\n",
       " '<pad>',\n",
       " '<pad>',\n",
       " '<pad>',\n",
       " '<pad>',\n",
       " '<pad>',\n",
       " '<pad>',\n",
       " '<pad>',\n",
       " '<pad>',\n",
       " '<pad>',\n",
       " '<pad>',\n",
       " '<pad>',\n",
       " '<pad>',\n",
       " '<pad>',\n",
       " '<pad>',\n",
       " '<pad>',\n",
       " '<pad>',\n",
       " '<pad>',\n",
       " '<pad>',\n",
       " '<pad>',\n",
       " '<pad>',\n",
       " '<pad>',\n",
       " '<pad>',\n",
       " '<pad>',\n",
       " '<pad>',\n",
       " '<pad>',\n",
       " '<pad>',\n",
       " '<pad>',\n",
       " '<pad>',\n",
       " '<pad>',\n",
       " '<pad>',\n",
       " '<pad>',\n",
       " '<pad>',\n",
       " '<pad>',\n",
       " '<pad>',\n",
       " '<pad>',\n",
       " '<pad>',\n",
       " '<pad>',\n",
       " '<pad>',\n",
       " '<pad>',\n",
       " '<pad>',\n",
       " '<pad>',\n",
       " '<pad>',\n",
       " '<pad>',\n",
       " '<pad>',\n",
       " '<pad>',\n",
       " '<pad>',\n",
       " '<pad>',\n",
       " '<pad>',\n",
       " '<pad>',\n",
       " '<pad>',\n",
       " '<pad>',\n",
       " '<pad>',\n",
       " '<pad>',\n",
       " '<pad>',\n",
       " '<pad>',\n",
       " '<pad>',\n",
       " '<pad>',\n",
       " '<pad>',\n",
       " '<pad>',\n",
       " '<pad>',\n",
       " '<pad>',\n",
       " '<pad>',\n",
       " '<pad>',\n",
       " '<pad>',\n",
       " '<pad>',\n",
       " '<pad>',\n",
       " '<pad>',\n",
       " '<pad>',\n",
       " '<pad>',\n",
       " '<pad>',\n",
       " '<pad>',\n",
       " '<pad>',\n",
       " '<pad>',\n",
       " '<pad>',\n",
       " '<pad>',\n",
       " '<pad>',\n",
       " '<pad>',\n",
       " '<pad>',\n",
       " '<pad>',\n",
       " '<pad>',\n",
       " '<pad>',\n",
       " '<pad>',\n",
       " '<pad>',\n",
       " '<pad>',\n",
       " '<pad>',\n",
       " '<pad>',\n",
       " '<pad>',\n",
       " '<pad>',\n",
       " '<pad>',\n",
       " '<pad>',\n",
       " '<pad>',\n",
       " '<pad>',\n",
       " '<pad>',\n",
       " '<pad>',\n",
       " '<pad>',\n",
       " '<pad>',\n",
       " '<pad>',\n",
       " '<pad>',\n",
       " '<pad>',\n",
       " '<pad>',\n",
       " '<pad>',\n",
       " '<pad>',\n",
       " '<pad>',\n",
       " '<pad>',\n",
       " '<pad>',\n",
       " '<pad>',\n",
       " '<pad>',\n",
       " '<pad>',\n",
       " '<pad>',\n",
       " '<pad>',\n",
       " '<pad>',\n",
       " '<pad>',\n",
       " '<pad>',\n",
       " '<pad>',\n",
       " '<pad>',\n",
       " '<pad>',\n",
       " '<pad>',\n",
       " '<pad>',\n",
       " '<pad>',\n",
       " '<pad>',\n",
       " '<pad>',\n",
       " '<pad>',\n",
       " '<pad>',\n",
       " '<pad>',\n",
       " '<pad>',\n",
       " '<pad>',\n",
       " '<pad>',\n",
       " '<pad>',\n",
       " '<pad>',\n",
       " '<pad>',\n",
       " '<pad>',\n",
       " '<pad>',\n",
       " '<pad>',\n",
       " '<pad>',\n",
       " '<pad>',\n",
       " '<pad>',\n",
       " '<pad>',\n",
       " '<pad>',\n",
       " '<pad>',\n",
       " '<pad>',\n",
       " '<pad>',\n",
       " '<pad>',\n",
       " '<pad>',\n",
       " '<pad>',\n",
       " '<pad>',\n",
       " '<pad>',\n",
       " '<pad>',\n",
       " '<pad>',\n",
       " '<pad>',\n",
       " '<pad>',\n",
       " '<pad>',\n",
       " '<pad>',\n",
       " '<pad>',\n",
       " '<pad>',\n",
       " '<pad>',\n",
       " '<pad>',\n",
       " '<pad>',\n",
       " '<pad>',\n",
       " '<pad>',\n",
       " '<pad>',\n",
       " '<pad>',\n",
       " '<pad>',\n",
       " '<pad>',\n",
       " '<pad>',\n",
       " '<pad>',\n",
       " '<pad>',\n",
       " '<pad>',\n",
       " '<pad>',\n",
       " '<pad>',\n",
       " '<pad>',\n",
       " '<pad>',\n",
       " '<pad>',\n",
       " '<pad>',\n",
       " '<pad>',\n",
       " '<pad>',\n",
       " '<pad>',\n",
       " '<pad>',\n",
       " '<pad>',\n",
       " '<pad>',\n",
       " '<pad>',\n",
       " '<pad>',\n",
       " '<pad>',\n",
       " '<pad>',\n",
       " '<pad>',\n",
       " '<pad>',\n",
       " '<pad>',\n",
       " '<pad>',\n",
       " '<pad>',\n",
       " '<pad>',\n",
       " '<pad>',\n",
       " '<pad>',\n",
       " '<pad>',\n",
       " '<pad>',\n",
       " '<pad>',\n",
       " '<pad>',\n",
       " '<pad>',\n",
       " '<pad>',\n",
       " '<pad>',\n",
       " '<pad>',\n",
       " '<pad>',\n",
       " '<pad>',\n",
       " '<pad>',\n",
       " '<pad>',\n",
       " '<pad>',\n",
       " '<pad>',\n",
       " '<pad>',\n",
       " '<pad>',\n",
       " '<pad>',\n",
       " '<pad>',\n",
       " '<pad>',\n",
       " '<pad>',\n",
       " '<pad>',\n",
       " '<pad>',\n",
       " '<pad>',\n",
       " '<pad>',\n",
       " '<pad>',\n",
       " '<pad>',\n",
       " '<pad>',\n",
       " '<pad>',\n",
       " '<pad>',\n",
       " '<pad>',\n",
       " '<pad>',\n",
       " '<pad>',\n",
       " '<pad>',\n",
       " '<pad>',\n",
       " '<pad>',\n",
       " '<pad>',\n",
       " '<pad>',\n",
       " '<pad>',\n",
       " '<pad>',\n",
       " '<pad>',\n",
       " '<pad>',\n",
       " '<pad>',\n",
       " '<pad>',\n",
       " '<pad>',\n",
       " '<pad>',\n",
       " '<pad>',\n",
       " '<pad>',\n",
       " '<pad>',\n",
       " '<pad>',\n",
       " '<pad>',\n",
       " '<pad>',\n",
       " '<pad>',\n",
       " '<pad>',\n",
       " '<pad>',\n",
       " '<pad>',\n",
       " '<pad>',\n",
       " '<pad>',\n",
       " '<pad>',\n",
       " '<pad>',\n",
       " '<pad>',\n",
       " '<pad>',\n",
       " '<pad>',\n",
       " '<pad>',\n",
       " '<pad>',\n",
       " '<pad>',\n",
       " '<pad>',\n",
       " '<pad>',\n",
       " '<pad>',\n",
       " '<pad>',\n",
       " '<pad>',\n",
       " '<pad>',\n",
       " '<pad>',\n",
       " '<pad>',\n",
       " '<pad>',\n",
       " '<pad>',\n",
       " '<pad>',\n",
       " '<pad>',\n",
       " '<pad>',\n",
       " '<pad>',\n",
       " '<pad>',\n",
       " '<pad>',\n",
       " '<pad>',\n",
       " '<pad>',\n",
       " '<pad>',\n",
       " '<pad>',\n",
       " '<pad>',\n",
       " '<pad>',\n",
       " '<pad>',\n",
       " '<pad>',\n",
       " '<pad>',\n",
       " '<pad>',\n",
       " '<pad>',\n",
       " '<pad>',\n",
       " '<pad>',\n",
       " '<pad>',\n",
       " '<pad>',\n",
       " '<pad>',\n",
       " '<pad>',\n",
       " '<pad>',\n",
       " '<pad>',\n",
       " '<pad>',\n",
       " '<pad>',\n",
       " '<pad>',\n",
       " '<pad>',\n",
       " '<pad>',\n",
       " '<pad>',\n",
       " '<pad>',\n",
       " '<pad>',\n",
       " '<pad>',\n",
       " '<pad>',\n",
       " '<pad>',\n",
       " '<pad>',\n",
       " '<pad>',\n",
       " '<pad>',\n",
       " '<pad>',\n",
       " '<pad>',\n",
       " '<pad>',\n",
       " '<pad>',\n",
       " '<pad>',\n",
       " '<pad>',\n",
       " '<pad>',\n",
       " '<pad>',\n",
       " '<pad>',\n",
       " '<pad>',\n",
       " '<pad>',\n",
       " '<pad>',\n",
       " '<pad>',\n",
       " '<pad>',\n",
       " '<pad>',\n",
       " '<pad>',\n",
       " '<pad>',\n",
       " '<pad>',\n",
       " '<pad>',\n",
       " '<pad>',\n",
       " '<pad>',\n",
       " '<pad>',\n",
       " '<pad>',\n",
       " '<pad>',\n",
       " '<pad>',\n",
       " '<pad>',\n",
       " '<pad>',\n",
       " '<pad>',\n",
       " '<pad>',\n",
       " '<pad>',\n",
       " '<pad>',\n",
       " '<pad>',\n",
       " '<pad>',\n",
       " '<pad>',\n",
       " '<pad>',\n",
       " '<pad>',\n",
       " '<pad>',\n",
       " '<pad>',\n",
       " '<pad>',\n",
       " '<pad>',\n",
       " '<pad>',\n",
       " '<pad>',\n",
       " '<pad>',\n",
       " '<pad>',\n",
       " '<pad>',\n",
       " '<pad>',\n",
       " '<pad>',\n",
       " '<pad>',\n",
       " '<pad>',\n",
       " '<pad>',\n",
       " '<pad>',\n",
       " '<pad>',\n",
       " '<pad>',\n",
       " '<pad>',\n",
       " '<pad>',\n",
       " '<pad>',\n",
       " '<pad>',\n",
       " '<pad>',\n",
       " '<pad>',\n",
       " '<pad>',\n",
       " '<pad>',\n",
       " '<pad>',\n",
       " '<pad>',\n",
       " '<pad>',\n",
       " '<pad>',\n",
       " '<pad>',\n",
       " '<pad>',\n",
       " '<pad>',\n",
       " '<pad>',\n",
       " '<pad>',\n",
       " '<pad>',\n",
       " '<pad>',\n",
       " '<pad>',\n",
       " '<pad>',\n",
       " '<pad>',\n",
       " '<pad>',\n",
       " '<pad>',\n",
       " '<pad>',\n",
       " '<pad>',\n",
       " '<pad>',\n",
       " '<pad>',\n",
       " '<pad>',\n",
       " '<pad>',\n",
       " '<pad>',\n",
       " '<pad>',\n",
       " '<pad>',\n",
       " '<pad>',\n",
       " '<pad>',\n",
       " '<pad>',\n",
       " '<pad>',\n",
       " '<pad>',\n",
       " '<pad>',\n",
       " '<pad>',\n",
       " '<pad>',\n",
       " '<pad>',\n",
       " '<pad>',\n",
       " '<pad>',\n",
       " '<pad>',\n",
       " '<pad>',\n",
       " '<pad>',\n",
       " '<pad>',\n",
       " '<pad>',\n",
       " '<pad>',\n",
       " '<pad>',\n",
       " '<pad>',\n",
       " '<pad>',\n",
       " '<pad>',\n",
       " '<pad>',\n",
       " '<pad>',\n",
       " '<pad>',\n",
       " '<pad>',\n",
       " '<pad>',\n",
       " '<pad>',\n",
       " '<pad>',\n",
       " '<pad>',\n",
       " '<pad>',\n",
       " '<pad>',\n",
       " '<pad>',\n",
       " '<pad>',\n",
       " '<pad>',\n",
       " '<pad>',\n",
       " '<pad>',\n",
       " '<pad>',\n",
       " '<pad>',\n",
       " '<pad>',\n",
       " '<pad>',\n",
       " '<pad>',\n",
       " '<pad>',\n",
       " '<pad>',\n",
       " '<pad>',\n",
       " '<pad>',\n",
       " '<pad>',\n",
       " '<pad>',\n",
       " '<pad>',\n",
       " '<pad>',\n",
       " '<pad>',\n",
       " '<pad>',\n",
       " '<pad>',\n",
       " '<pad>',\n",
       " '<pad>',\n",
       " '<pad>',\n",
       " '<pad>',\n",
       " '<pad>',\n",
       " '<pad>',\n",
       " '<pad>',\n",
       " '<pad>',\n",
       " '<pad>',\n",
       " '<pad>',\n",
       " '<pad>',\n",
       " '<pad>',\n",
       " '<pad>',\n",
       " '<pad>',\n",
       " '<pad>',\n",
       " '<pad>',\n",
       " '<pad>',\n",
       " '<pad>',\n",
       " '<pad>',\n",
       " '<pad>',\n",
       " '<pad>',\n",
       " '<pad>',\n",
       " '<pad>',\n",
       " '<pad>',\n",
       " '<pad>',\n",
       " '<pad>',\n",
       " '<pad>',\n",
       " '<pad>',\n",
       " '<pad>',\n",
       " '<pad>',\n",
       " '<pad>',\n",
       " '<pad>',\n",
       " '<pad>',\n",
       " '<pad>',\n",
       " '<pad>',\n",
       " '<pad>',\n",
       " '<pad>',\n",
       " '<pad>',\n",
       " '<pad>',\n",
       " '<pad>',\n",
       " '<pad>',\n",
       " '<pad>',\n",
       " '<pad>',\n",
       " '<pad>',\n",
       " '<pad>',\n",
       " '<pad>',\n",
       " '<pad>',\n",
       " '<pad>',\n",
       " '<pad>',\n",
       " '<pad>',\n",
       " '<pad>',\n",
       " '<pad>',\n",
       " '<pad>',\n",
       " '<pad>',\n",
       " '<pad>',\n",
       " '<pad>',\n",
       " '<pad>',\n",
       " '<pad>',\n",
       " '<pad>',\n",
       " '<pad>',\n",
       " '<pad>',\n",
       " '<pad>',\n",
       " '<pad>',\n",
       " '<pad>',\n",
       " '<pad>',\n",
       " '<pad>',\n",
       " '<pad>',\n",
       " '<pad>',\n",
       " '<pad>',\n",
       " '<pad>',\n",
       " '<pad>',\n",
       " '<pad>',\n",
       " '<pad>',\n",
       " '<pad>',\n",
       " '<pad>',\n",
       " '<pad>',\n",
       " '<pad>',\n",
       " '<pad>',\n",
       " '<pad>',\n",
       " '<pad>',\n",
       " '<pad>',\n",
       " '<pad>',\n",
       " '<pad>',\n",
       " '<pad>',\n",
       " '<pad>',\n",
       " '<pad>',\n",
       " '<pad>',\n",
       " '<pad>',\n",
       " '<pad>',\n",
       " '<pad>',\n",
       " '<pad>',\n",
       " '<pad>',\n",
       " '<pad>',\n",
       " '<pad>',\n",
       " '<pad>',\n",
       " '<pad>',\n",
       " '<pad>',\n",
       " '<pad>',\n",
       " '<pad>',\n",
       " '<pad>',\n",
       " '<pad>',\n",
       " '<pad>',\n",
       " '<pad>',\n",
       " '<pad>',\n",
       " '<pad>',\n",
       " '<pad>',\n",
       " '<pad>',\n",
       " '<pad>',\n",
       " '<pad>',\n",
       " '<pad>',\n",
       " '<pad>',\n",
       " '<pad>',\n",
       " '<pad>',\n",
       " '<pad>',\n",
       " '<pad>',\n",
       " '<pad>',\n",
       " '<pad>',\n",
       " '<pad>',\n",
       " '<pad>',\n",
       " '<pad>',\n",
       " '<pad>',\n",
       " '<pad>',\n",
       " '<pad>',\n",
       " '<pad>',\n",
       " '<pad>',\n",
       " '<pad>',\n",
       " '<pad>',\n",
       " '<pad>',\n",
       " '<pad>',\n",
       " '<pad>',\n",
       " '<pad>',\n",
       " '<pad>',\n",
       " '<pad>',\n",
       " '<pad>',\n",
       " '<pad>',\n",
       " '<pad>',\n",
       " '<pad>',\n",
       " '<pad>',\n",
       " '<pad>',\n",
       " '<pad>',\n",
       " '<pad>',\n",
       " '<pad>',\n",
       " '<pad>',\n",
       " '<pad>',\n",
       " '<pad>',\n",
       " '<pad>',\n",
       " '<pad>',\n",
       " '<pad>',\n",
       " '<pad>',\n",
       " '<pad>',\n",
       " '<pad>',\n",
       " '<pad>',\n",
       " '<pad>',\n",
       " '<pad>',\n",
       " ...]"
      ]
     },
     "execution_count": 136,
     "metadata": {},
     "output_type": "execute_result"
    }
   ],
   "source": [
    "dialogue_words"
   ]
  },
  {
   "cell_type": "code",
   "execution_count": 137,
   "id": "a34ad962-484e-4781-85f3-ccc903d9cf8c",
   "metadata": {},
   "outputs": [
    {
     "data": {
      "text/plain": [
       "['kim',\n",
       " 'may',\n",
       " 'try',\n",
       " 'the',\n",
       " 'pomodoro',\n",
       " 'technique',\n",
       " 'recommended',\n",
       " 'by',\n",
       " 'tim',\n",
       " 'to',\n",
       " 'get',\n",
       " 'more',\n",
       " 'stuff',\n",
       " 'done.']"
      ]
     },
     "execution_count": 137,
     "metadata": {},
     "output_type": "execute_result"
    }
   ],
   "source": [
    "summary_words"
   ]
  },
  {
   "cell_type": "code",
   "execution_count": 138,
   "id": "d9cc3dd9-d72a-4b6b-a863-d7165b91efd0",
   "metadata": {},
   "outputs": [
    {
     "data": {
      "text/plain": [
       "['kim', 'pomodoro', 'technique', 'tim', 'to', 'stuff']"
      ]
     },
     "execution_count": 138,
     "metadata": {},
     "output_type": "execute_result"
    }
   ],
   "source": [
    "[x for x in summary_words if x in dialogue_words]"
   ]
  },
  {
   "cell_type": "code",
   "execution_count": 153,
   "id": "a852e0ec-9278-4498-8672-22ebfc580d42",
   "metadata": {},
   "outputs": [],
   "source": []
  },
  {
   "cell_type": "code",
   "execution_count": 154,
   "id": "e4189022-d75a-4224-be7f-91107df2d4d7",
   "metadata": {
    "scrolled": true
   },
   "outputs": [
    {
     "data": {
      "text/plain": [
       "36898"
      ]
     },
     "execution_count": 154,
     "metadata": {},
     "output_type": "execute_result"
    }
   ],
   "source": []
  },
  {
   "cell_type": "code",
   "execution_count": 141,
   "id": "789a1866-22c0-415f-9965-378451c3b4b9",
   "metadata": {},
   "outputs": [
    {
     "ename": "TypeError",
     "evalue": "unhashable type: 'list'",
     "output_type": "error",
     "traceback": [
      "\u001b[1;31m---------------------------------------------------------------------------\u001b[0m",
      "\u001b[1;31mTypeError\u001b[0m                                 Traceback (most recent call last)",
      "Cell \u001b[1;32mIn[141], line 1\u001b[0m\n\u001b[1;32m----> 1\u001b[0m \u001b[38;5;28mlist\u001b[39m(\u001b[38;5;28;43mset\u001b[39;49m\u001b[43m(\u001b[49m\u001b[43mdf_train\u001b[49m\u001b[43m[\u001b[49m\u001b[38;5;124;43m\"\u001b[39;49m\u001b[38;5;124;43mprocessed_text\u001b[39;49m\u001b[38;5;124;43m\"\u001b[39;49m\u001b[43m]\u001b[49m\u001b[38;5;241;43m.\u001b[39;49m\u001b[43mtolist\u001b[49m\u001b[43m(\u001b[49m\u001b[43m)\u001b[49m\u001b[43m)\u001b[49m)\n",
      "\u001b[1;31mTypeError\u001b[0m: unhashable type: 'list'"
     ]
    }
   ],
   "source": [
    "list(set(df_train[\"processed_text\"].tolist()))"
   ]
  },
  {
   "cell_type": "code",
   "execution_count": 152,
   "id": "aaee3944-3628-4e77-a84b-b04a309978d2",
   "metadata": {},
   "outputs": [
    {
     "name": "stdout",
     "output_type": "stream",
     "text": [
      "Sam: hey  overheard rick say something\n",
      "Sam: i don't know what to do :-/\n",
      "Naomi: what did he say??\n",
      "Sam: he was talking on the phone with someone\n",
      "Sam: i don't know who\n",
      "Sam: and he was telling them that he wasn't very happy here\n",
      "Naomi: damn!!!\n",
      "Sam: he was saying he doesn't like being my roommate\n",
      "Naomi: wow, how do you feel about it?\n",
      "Sam: i thought i was a good rommate\n",
      "Sam: and that we have a nice place\n",
      "Naomi: that's true man!!!\n",
      "Naomi: i used to love living with you before i moved in with me boyfriend\n",
      "Naomi: i don't know why he's saying that\n",
      "Sam: what should i do???\n",
      "Naomi: honestly if it's bothering you that much you should talk to him\n",
      "Naomi: see what's going on\n",
      "Sam: i don't want to get in any kind of confrontation though\n",
      "Sam: maybe i'll just let it go\n",
      "Sam: and see how it goes in the future\n",
      "Naomi: it's your choice sam\n",
      "Naomi: if i were you i would just talk to him and clear the air \n",
      "\n",
      "\n",
      "Sam is confused, because he overheard Rick complaining about him as a roommate. Naomi thinks Sam should talk to Rick. Sam is not sure what to do.\n"
     ]
    }
   ],
   "source": [
    "n=4\n",
    "print(train_data.iloc[n][\"dialogue\"],\"\\n\\n\")\n",
    "print(train_data.iloc[n][\"summary\"])"
   ]
  },
  {
   "cell_type": "code",
   "execution_count": 156,
   "id": "1b4a4432-2e5f-4395-a19e-75a583fb9822",
   "metadata": {},
   "outputs": [
    {
     "data": {
      "image/png": "[encoded data removed]",
      "text/plain": [
       "<Figure size 1000x600 with 1 Axes>"
      ]
     },
     "metadata": {},
     "output_type": "display_data"
    }
   ],
   "source": []
  },
  {
   "cell_type": "code",
   "execution_count": null,
   "id": "a76679b5-b008-416b-93a9-89d1dc76d321",
   "metadata": {},
   "outputs": [],
   "source": []
  }
 ],
 "metadata": {
  "kernelspec": {
   "display_name": "Python 3 (ipykernel)",
   "language": "python",
   "name": "python3"
  },
  "language_info": {
   "codemirror_mode": {
    "name": "ipython",
    "version": 3
   },
   "file_extension": ".py",
   "mimetype": "text/x-python",
   "name": "python",
   "nbconvert_exporter": "python",
   "pygments_lexer": "ipython3",
   "version": "3.12.2"
  }
 },
 "nbformat": 4,
 "nbformat_minor": 5
}
