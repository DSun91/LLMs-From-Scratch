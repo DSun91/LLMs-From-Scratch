{
 "cells": [
  {
   "cell_type": "code",
   "execution_count": 15,
   "id": "e369085c-ed60-44b8-9930-9dd98baf8858",
   "metadata": {},
   "outputs": [
    {
     "data": {
      "text/plain": [
       "((31, 15), (31, 15), (31, 15))"
      ]
     },
     "execution_count": 15,
     "metadata": {},
     "output_type": "execute_result"
    }
   ],
   "source": [
    "import sys \n",
    "import numpy as np\n",
    "np.set_printoptions(edgeitems=30, linewidth=100000, formatter=dict(float=lambda x: \"%.3g\" % x)) \n",
    "def softmax(x, axis=-1):\n",
    "    # Subtract the max value for numerical stability\n",
    "    e_x = np.exp(x - np.max(x, axis=axis, keepdims=True))\n",
    "    return e_x / np.sum(e_x, axis=axis, keepdims=True)\n",
    "\n",
    "num_classes=2\n",
    "word2vec_len = 31 \n",
    "num_phrases = 17\n",
    "words_per_phrase = 13 \n",
    "dk = 15\n",
    "dv = 15\n",
    "num_heads=5 \n",
    " \n",
    " \n",
    "inputs = np.random.rand(num_phrases,words_per_phrase, word2vec_len)\n",
    "target = softmax(np.random.rand(num_phrases,num_classes))\n",
    "\n",
    "Q = np.random.rand(word2vec_len, dk) / np.sqrt(word2vec_len)\n",
    "K = np.random.rand(word2vec_len, dk) / np.sqrt(word2vec_len)\n",
    "V = np.random.rand(word2vec_len, dv) / np.sqrt(word2vec_len)\n",
    "Q.shape,K.shape,V.shape\n"
   ]
  },
  {
   "cell_type": "code",
   "execution_count": 16,
   "id": "60adc1fc-9393-47c0-a181-ed799c4d3b0f",
   "metadata": {
    "scrolled": true
   },
   "outputs": [
    {
     "data": {
      "text/plain": [
       "(17, 13, 31)"
      ]
     },
     "execution_count": 16,
     "metadata": {},
     "output_type": "execute_result"
    }
   ],
   "source": [
    "inputs.shape"
   ]
  },
  {
   "cell_type": "code",
   "execution_count": 17,
   "id": "2d2ff37d-f071-4d6d-811b-bf30eff4dc1f",
   "metadata": {},
   "outputs": [
    {
     "name": "stdout",
     "output_type": "stream",
     "text": [
      "Qval.shape:  (5, 13, 3) 17\n",
      "Kval.shape:  (5, 13, 3) 17\n",
      "Vval.shape:  (5, 13, 3) 17\n",
      "Attention_weights shape: (17, 5, 13, 13)\n",
      "Attention shape: (17, 5, 13, 3)\n",
      "Concat Phrase Representation: (17, 15)\n",
      "Cross-Entropy Loss:  0.8283677687390041\n"
     ]
    }
   ],
   "source": [
    "# Qval = np.matmul(inputs, Q)\n",
    "# print(\"Qval.shape: \",Qval.shape,len(Qval))\n",
    "\n",
    "# Kval = np.matmul(inputs, K)\n",
    "# print(\"Kval.shape: \",Kval.shape,len(Kval))\n",
    " \n",
    "# Vval =np.matmul(inputs, V)\n",
    "# print(\"Vval.shape: \",Vval.shape,len(Vval))\n",
    "\n",
    "\n",
    "\n",
    "\n",
    "\n",
    "\n",
    "Qval = np.swapaxes(np.array_split(np.matmul(inputs, Q),num_heads,axis=2), 0, 1)\n",
    "print(\"Qval.shape: \",Qval[0].shape,len(Qval))\n",
    "\n",
    "Kval = np.swapaxes(np.array_split(np.matmul(inputs, K),num_heads,axis=2), 0, 1)\n",
    "print(\"Kval.shape: \",Kval[0].shape,len(Kval))\n",
    "\n",
    "\n",
    "Vval = np.swapaxes(np.array_split(np.matmul(inputs, V),num_heads,axis=2), 0, 1)\n",
    "print(\"Vval.shape: \",Vval[0].shape,len(Vval))\n",
    "\n",
    " \n",
    "QKscaled = np.matmul(Qval, np.transpose(Kval, (0, 1, 3, 2))) / np.sqrt(dk)\n",
    " \n",
    "QKscaled\n",
    "\n",
    " \n",
    "Attention_weights = softmax(QKscaled)\n",
    "print(\"Attention_weights shape:\",Attention_weights.shape)\n",
    "\n",
    "Attention = np.matmul(Attention_weights, Vval)\n",
    "print(\"Attention shape:\",Attention.shape)\n",
    "\n",
    "phrase_representation = np.mean(Attention, axis=2).reshape(num_phrases,dv)\n",
    "print(\"Concat Phrase Representation:\",phrase_representation.shape)\n",
    "\n",
    "\n",
    "\n",
    "\n",
    "\n",
    "linearlayer= np.random.rand(dv, num_classes)   \n",
    "linear_bias = np.random.rand(num_classes)\n",
    "Sigma_Zout=softmax(np.matmul(phrase_representation, linearlayer) + linear_bias)\n",
    "Sigma_Zout\n",
    "import numpy as np\n",
    "\n",
    " \n",
    "def cross_entropy_loss(predictions, target): \n",
    "    batch_loss = -np.sum(target * np.log(predictions + 1e-8), axis=1)\n",
    "    return np.mean(batch_loss) \n",
    " \n",
    "\n",
    "loss = cross_entropy_loss(Sigma_Zout, target)\n",
    "print(\"Cross-Entropy Loss: \",loss)"
   ]
  },
  {
   "cell_type": "code",
   "execution_count": 18,
   "id": "cc405f96-fe61-48f5-ba8d-788e4694fe3f",
   "metadata": {},
   "outputs": [],
   "source": [
    "dLoss_dSigma_Zout =Sigma_Zout - np.stack(target)\n",
    "dLoss_dSigma_Zout\n",
    "\n",
    "# Gradient for linear layer and bias\n",
    "d_linear = np.dot(dLoss_dSigma_Zout.T, phrase_representation).T\n",
    "d_bias =  np.sum(dLoss_dSigma_Zout, axis=0)\n",
    "d_linear,d_bias\n",
    "\n",
    "\n",
    "# Gradient for phrase representation\n",
    "d_phrase_rep = np.dot(dLoss_dSigma_Zout, linearlayer.T)\n",
    "d_phrase_rep.shape\n",
    "dL_dA = np.array([np.outer(np.ones(inputs.shape[1]), d_phrase_rep[i, :]) for i in range(d_phrase_rep.shape[0])])  / inputs.shape[1]\n",
    "dL_dA = np.swapaxes(np.array(np.array_split(dL_dA,num_heads,axis=2)), 0, 1)\n",
    "dL_dA \n",
    "\n",
    "\n",
    "softmax_derivative = Attention_weights*(1 - Attention_weights)\n",
    "\n",
    "\n",
    "# Gradient for V\n",
    "d_Vval=np.matmul(np.transpose(dL_dA,(0,1,3,2)), Attention_weights) \n",
    "dLoss_dV = np.concatenate(np.mean(np.matmul(d_Vval,inputs.reshape(num_phrases, 1, words_per_phrase, inputs.shape[2])),axis=0),axis=0).T\n",
    "dLoss_dV\n",
    "\n",
    "# Gradient for Q\n",
    "dLoss_dQ=np.transpose(dL_dA,(0,1,3,2))@softmax_derivative@Kval@np.transpose(Vval,(0,1,3,2))@inputs.reshape(num_phrases, 1, words_per_phrase, inputs.shape[2])\n",
    "dLoss_dQ=np.concatenate(np.mean(dLoss_dQ,axis=0),axis=0).T\n",
    "dLoss_dQ.shape\n",
    "\n",
    "# Gradient for K\n",
    "dLoss_dK=np.transpose(dL_dA,(0,1,3,2))@softmax_derivative@Qval@np.transpose(Vval,(0,1,3,2))@inputs.reshape(num_phrases, 1, words_per_phrase, inputs.shape[2])\n",
    "dLoss_dK=np.concatenate(np.mean(dLoss_dK,axis=0),axis=0).T\n",
    "dLoss_dK.shape\n",
    "\n",
    "clip_value = 15.0\n",
    "dLoss_dQ = np.clip(dLoss_dQ, -clip_value, clip_value)\n",
    "dLoss_dK = np.clip(dLoss_dK, -clip_value, clip_value)\n",
    "dLoss_dV = np.clip(dLoss_dV, -clip_value, clip_value)\n",
    "d_linear = np.clip(d_linear, -clip_value, clip_value)\n",
    "d_bias = np.clip(d_bias, -clip_value, clip_value)\n",
    "learning_rate=0.001\n",
    "Q -= learning_rate * dLoss_dQ\n",
    "K -= learning_rate * dLoss_dK\n",
    "V -= learning_rate * dLoss_dV\n",
    "linearlayer -= learning_rate * d_linear\n",
    "linear_bias -= learning_rate * d_bias"
   ]
  },
  {
   "cell_type": "code",
   "execution_count": null,
   "id": "59d09480-1faf-49d0-8a9e-1f0a17c251fa",
   "metadata": {},
   "outputs": [],
   "source": []
  },
  {
   "cell_type": "code",
   "execution_count": 30,
   "id": "72a51ee3-bc25-4b45-abad-e4ae9bcfcdb7",
   "metadata": {},
   "outputs": [],
   "source": []
  },
  {
   "cell_type": "code",
   "execution_count": null,
   "id": "f2360157-06e6-4854-8bee-c3593af53387",
   "metadata": {},
   "outputs": [],
   "source": []
  },
  {
   "cell_type": "code",
   "execution_count": null,
   "id": "5aa3bf41-ca57-4132-8cf6-0b8f45974e2b",
   "metadata": {},
   "outputs": [],
   "source": []
  },
  {
   "cell_type": "code",
   "execution_count": null,
   "id": "c9fccc24-364a-4d05-9163-531ac64ed86d",
   "metadata": {},
   "outputs": [],
   "source": []
  },
  {
   "cell_type": "code",
   "execution_count": null,
   "id": "882e7e03-a749-4d8a-b2cb-4bdf89eb3fcf",
   "metadata": {},
   "outputs": [],
   "source": []
  },
  {
   "cell_type": "code",
   "execution_count": 58,
   "id": "07885241-988d-4a5a-9a22-da5b8c361080",
   "metadata": {},
   "outputs": [
    {
     "name": "stdout",
     "output_type": "stream",
     "text": [
      "softmax_derivative.shape:  (25, 4, 7, 7)\n"
     ]
    }
   ],
   "source": [
    "softmax_derivative = Attention_weights*(1 - Attention_weights)\n",
    "print(\"softmax_derivative.shape: \", softmax_derivative.shape)"
   ]
  },
  {
   "cell_type": "markdown",
   "id": "a5278948-1ae1-4a4a-9bad-02edced98006",
   "metadata": {},
   "source": [
    "\\\\[ \n",
    " \\frac{Inputs \\cdot K_{val}^T}{\\sqrt{d_k}}\n",
    "\\\\] "
   ]
  },
  {
   "cell_type": "code",
   "execution_count": 52,
   "id": "23bbbee5-21de-460d-9b2a-685c337a0487",
   "metadata": {},
   "outputs": [
    {
     "name": "stdout",
     "output_type": "stream",
     "text": [
      "inputs.shape:  (25, 7, 15)\n",
      "Kval.shape:  (25, 4, 7, 2)\n",
      "Q.shape:  (15, 8) K.shape:  (15, 8)\n",
      "Vval.shape:  (25, 4, 7, 2)\n"
     ]
    }
   ],
   "source": [
    "print(\"inputs.shape: \", inputs.shape)\n",
    "print(\"Kval.shape: \", Kval.shape)\n",
    "print(\"Q.shape: \", Q.shape,\"K.shape: \",K.shape)\n",
    "print(\"Vval.shape: \", Vval.shape ) "
   ]
  },
  {
   "cell_type": "markdown",
   "id": "b5a4e00e-29c8-49e3-a65d-bb680f9bf8d4",
   "metadata": {},
   "source": [
    "\\\\[ \n",
    " K_{val}^T=(Inputs \\cdot K)^T = K^T \\cdot I^T\n",
    "\\\\] "
   ]
  },
  {
   "cell_type": "code",
   "execution_count": 22,
   "id": "3c5bdd10-b2ad-448d-ae9d-1ce47957d644",
   "metadata": {},
   "outputs": [
    {
     "data": {
      "text/plain": [
       "(9, 2, 5, 6)"
      ]
     },
     "execution_count": 22,
     "metadata": {},
     "output_type": "execute_result"
    }
   ],
   "source": [
    "I=np.repeat(inputs, num_head, axis=0).reshape(num_phrases,num_head,words_per_phrase,word2vec_len)\n",
    "I.shape"
   ]
  },
  {
   "cell_type": "code",
   "execution_count": null,
   "id": "6eab7a77-f3e8-452f-b49a-986ab4c7cf8a",
   "metadata": {},
   "outputs": [],
   "source": []
  },
  {
   "cell_type": "code",
   "execution_count": 55,
   "id": "7f7e99b3-0772-4c84-8582-4b990a8299f4",
   "metadata": {},
   "outputs": [
    {
     "ename": "NameError",
     "evalue": "name 'I' is not defined",
     "output_type": "error",
     "traceback": [
      "\u001b[1;31m---------------------------------------------------------------------------\u001b[0m",
      "\u001b[1;31mNameError\u001b[0m                                 Traceback (most recent call last)",
      "Cell \u001b[1;32mIn[55], line 1\u001b[0m\n\u001b[1;32m----> 1\u001b[0m dLoss_dQ\u001b[38;5;241m=\u001b[39mnp\u001b[38;5;241m.\u001b[39mtranspose(np\u001b[38;5;241m.\u001b[39mtranspose(dL_dA,(\u001b[38;5;241m0\u001b[39m,\u001b[38;5;241m1\u001b[39m,\u001b[38;5;241m3\u001b[39m,\u001b[38;5;241m2\u001b[39m))\u001b[38;5;129m@softmax_derivative\u001b[39m\u001b[38;5;129m@Kval\u001b[39m,(\u001b[38;5;241m0\u001b[39m,\u001b[38;5;241m1\u001b[39m,\u001b[38;5;241m3\u001b[39m,\u001b[38;5;241m2\u001b[39m))\u001b[38;5;129m@np\u001b[39m\u001b[38;5;241m.\u001b[39mtranspose(Vval,(\u001b[38;5;241m0\u001b[39m,\u001b[38;5;241m1\u001b[39m,\u001b[38;5;241m3\u001b[39m,\u001b[38;5;241m2\u001b[39m))\u001b[38;5;129m@I\u001b[39m\u001b[38;5;241m/\u001b[39mnp\u001b[38;5;241m.\u001b[39msqrt(dk)\n\u001b[0;32m      2\u001b[0m dLoss_dQ\u001b[38;5;241m=\u001b[39mnp\u001b[38;5;241m.\u001b[39mtranspose(np\u001b[38;5;241m.\u001b[39mmean(dLoss_dQ,axis\u001b[38;5;241m=\u001b[39m\u001b[38;5;241m0\u001b[39m),(\u001b[38;5;241m0\u001b[39m,\u001b[38;5;241m2\u001b[39m,\u001b[38;5;241m1\u001b[39m))\u001b[38;5;241m.\u001b[39mshape\n",
      "\u001b[1;31mNameError\u001b[0m: name 'I' is not defined"
     ]
    }
   ],
   "source": [
    "dLoss_dQ=np.transpose(np.transpose(dL_dA,(0,1,3,2))@softmax_derivative@Kval,(0,1,3,2))@np.transpose(Vval,(0,1,3,2))@I/np.sqrt(dk)\n",
    "dLoss_dQ=np.transpose(np.mean(dLoss_dQ,axis=0),(0,2,1)).shape"
   ]
  },
  {
   "cell_type": "code",
   "execution_count": 24,
   "id": "0e79186b-3feb-432c-987d-9215c399bcc3",
   "metadata": {},
   "outputs": [
    {
     "data": {
      "text/plain": [
       "(2, 6, 3)"
      ]
     },
     "execution_count": 24,
     "metadata": {},
     "output_type": "execute_result"
    }
   ],
   "source": [
    "Q.shape"
   ]
  },
  {
   "cell_type": "code",
   "execution_count": 25,
   "id": "fead05db-c4b7-433f-a52f-0cb8d09cd1c7",
   "metadata": {},
   "outputs": [
    {
     "data": {
      "text/plain": [
       "(9, 2, 6, 5)"
      ]
     },
     "execution_count": 25,
     "metadata": {},
     "output_type": "execute_result"
    }
   ],
   "source": [
    "np.transpose(I,(0,1,3,2)).shape"
   ]
  },
  {
   "cell_type": "code",
   "execution_count": 26,
   "id": "70cb3eb0-eaac-4278-acda-bb1848fa420d",
   "metadata": {},
   "outputs": [
    {
     "data": {
      "text/plain": [
       "(9, 2, 4, 5)"
      ]
     },
     "execution_count": 26,
     "metadata": {},
     "output_type": "execute_result"
    }
   ],
   "source": [
    "np.transpose(Vval,(0,1,3,2)).shape"
   ]
  },
  {
   "cell_type": "code",
   "execution_count": 31,
   "id": "dab612f0-689a-44de-9d77-661850e4f844",
   "metadata": {},
   "outputs": [],
   "source": [
    "I=np.repeat(inputs, num_head, axis=0).reshape(num_phrases,num_head,words_per_phrase,word2vec_len)\n",
    "\n",
    "dLoss_dQ=np.transpose(np.transpose(dL_dA,(0,1,3,2))@softmax_derivative@Kval,(0,1,3,2))@np.transpose(Vval,(0,1,3,2))@I/np.sqrt(dk)\n",
    "dLoss_dQ=np.transpose(np.mean(dLoss_dQ,axis=0),(0,2,1)) \n",
    "\n",
    "dLoss_dK=np.transpose(np.transpose(dL_dA,(0,1,3,2))@softmax_derivative@Qval,(0,1,3,2))@np.transpose(Vval,(0,1,3,2))@I/np.sqrt(dk)\n",
    "dLoss_dK=np.transpose(np.mean(dLoss_dK,axis=0),(0,2,1)) "
   ]
  },
  {
   "cell_type": "code",
   "execution_count": 32,
   "id": "0d8bed9f-2b1f-45b1-83cd-c720c538e9e3",
   "metadata": {},
   "outputs": [],
   "source": [
    "# Update weights\n",
    "learning_rate=0.001\n",
    "Q -= learning_rate * dLoss_dQ\n",
    "K -= learning_rate * dLoss_dK\n",
    "V -= learning_rate * dLoss_dV\n",
    "linearlayer -= learning_rate * d_linear\n",
    "linear_bias -= learning_rate * d_bias"
   ]
  },
  {
   "cell_type": "code",
   "execution_count": 30,
   "id": "e59af831-f34e-41a6-a788-0d8f771ec093",
   "metadata": {},
   "outputs": [
    {
     "data": {
      "text/plain": [
       "(2, 6, 3)"
      ]
     },
     "execution_count": 30,
     "metadata": {},
     "output_type": "execute_result"
    }
   ],
   "source": [
    "dLoss_dQ"
   ]
  },
  {
   "cell_type": "code",
   "execution_count": null,
   "id": "8a37a52d-62e9-4fb1-8126-7b73b592ad53",
   "metadata": {},
   "outputs": [],
   "source": []
  },
  {
   "cell_type": "code",
   "execution_count": 1,
   "id": "77f6790c-9d32-4591-9fd8-33708a38f671",
   "metadata": {},
   "outputs": [],
   "source": [
    "\n",
    "\n"
   ]
  },
  {
   "cell_type": "code",
   "execution_count": null,
   "id": "007e5820-f949-4289-a3bc-ec9824c6c555",
   "metadata": {},
   "outputs": [],
   "source": []
  },
  {
   "cell_type": "code",
   "execution_count": null,
   "id": "3aa2fee8-7d02-4b64-89f7-64b3d8e8e2ae",
   "metadata": {},
   "outputs": [],
   "source": []
  },
  {
   "cell_type": "code",
   "execution_count": 102,
   "id": "bc0faa1a-d812-4b7b-b6fb-2702ef84d51f",
   "metadata": {},
   "outputs": [
    {
     "name": "stdout",
     "output_type": "stream",
     "text": [
      "[0. 0. 0.]\n"
     ]
    }
   ],
   "source": [
    "import numpy as np\n",
    "from numba import int32, float32    # import the types\n",
    "from numba.experimental import jitclass\n",
    "from numba import jit\n",
    "spec = [\n",
    "    ('value', int32),               # a simple scalar field\n",
    "    ('array', float32[:]),          # an array field\n",
    "]\n",
    "\n",
    "@jitclass(spec)\n",
    "class Bag(object):\n",
    "    def __init__(self, value):\n",
    "        self.value = value\n",
    "        self.array = np.zeros(3, dtype=np.float32)\n",
    "\n",
    "    @property\n",
    "    def size(self):\n",
    "        return self.array.size\n",
    "\n",
    "    def increment(self, val,val2=0,val3=0):\n",
    "        for i in range(self.size):\n",
    "            pass\n",
    "            #self.array[i] += val2\n",
    "        return self.array\n",
    "\n",
    "    @staticmethod\n",
    "    def add(x, y):\n",
    "        return x + y\n",
    "\n",
    "n = 5\n",
    "mybag = Bag(n)\n",
    "b=3\n",
    "c=3\n",
    "print(mybag.increment(X_train,5))"
   ]
  },
  {
   "cell_type": "code",
   "execution_count": null,
   "id": "b616864e-2fc7-406d-881e-3dd145f2adbb",
   "metadata": {},
   "outputs": [],
   "source": []
  },
  {
   "cell_type": "code",
   "execution_count": 2,
   "id": "f372ba9c-0ab6-4038-906c-8bb243abcef5",
   "metadata": {},
   "outputs": [
    {
     "data": {
      "text/plain": [
       "((1668, 70, 300), (557, 70, 300), (1668, 5), (557, 5))"
      ]
     },
     "execution_count": 2,
     "metadata": {},
     "output_type": "execute_result"
    }
   ],
   "source": []
  },
  {
   "cell_type": "code",
   "execution_count": null,
   "id": "4bbe5c8a-5601-460d-8da2-d877085e12e9",
   "metadata": {},
   "outputs": [],
   "source": []
  },
  {
   "cell_type": "code",
   "execution_count": null,
   "id": "21771a30-40fd-42c7-97f3-cede7d50aecc",
   "metadata": {},
   "outputs": [],
   "source": []
  },
  {
   "cell_type": "code",
   "execution_count": 1,
   "id": "f527ad40-8f13-4ab7-ad90-7e2877a149c4",
   "metadata": {},
   "outputs": [],
   "source": [
    "import sys\n",
    "sys.path.append('c:\\\\python312\\\\lib\\\\site-packages')\n",
    "from sklearn.model_selection import train_test_split\n",
    "import numpy as np\n",
    "from tqdm import tqdm \n",
    "import pickle\n",
    "import spacy\n",
    "import numpy as np\n",
    "import pandas as pd\n",
    "from tqdm import tqdm\n",
    "from sklearn.metrics import confusion_matrix, f1_score\n",
    "import seaborn as sns\n",
    "import matplotlib.pyplot as plt\n",
    "import pandas as pd \n",
    "from PIL import Image\n",
    "import io\n",
    "from IPython.display import display\n",
    "from numba import int32, float64, types, typed\n",
    "from numba.experimental import jitclass\n",
    "from numba.typed import List\n",
    "import numpy as np"
   ]
  },
  {
   "cell_type": "code",
   "execution_count": 2,
   "id": "c9fdeade-397e-44c9-85e5-d3d0f8a41105",
   "metadata": {},
   "outputs": [
    {
     "data": {
      "text/plain": [
       "((1668, 70, 300), (557, 70, 300), (1668, 5), (557, 5))"
      ]
     },
     "execution_count": 2,
     "metadata": {},
     "output_type": "execute_result"
    }
   ],
   "source": [
    "df=pd.read_csv(\"data/bbc-text.csv\")\n",
    "nlp = spacy.load('en_core_web_lg')\n",
    "with open('data/InputProcessed.pkl', 'rb') as f:\n",
    "    X = pickle.load(f)\n",
    "\n",
    "y = np.array(pd.get_dummies(df[\"category\"], dtype=int))\n",
    "X_train, X_test, y_train, y_test = train_test_split(\n",
    "    X, y, test_size=0.25, random_state=42)\n",
    "X_train.shape,X_test.shape,y_train.shape,y_test.shape"
   ]
  },
  {
   "cell_type": "code",
   "execution_count": 69,
   "id": "9eccf413-5f2a-464a-be76-669c6ce9666a",
   "metadata": {},
   "outputs": [
    {
     "data": {
      "text/plain": [
       "1e-07"
      ]
     },
     "execution_count": 69,
     "metadata": {},
     "output_type": "execute_result"
    }
   ],
   "source": [
    "1e-7"
   ]
  },
  {
   "cell_type": "code",
   "execution_count": 3,
   "id": "f916e46f-2964-47fc-9870-fb7a98d2bc59",
   "metadata": {},
   "outputs": [],
   "source": [
    "class QKVMultiHeadsAttentionClassifier:\n",
    "    def __init__(self, word_len, words_per_phrase, num_heads, batch_size, dk, dv, num_classes, validation_split=0.0,momentum_beta=0.9,rmsprop_beta=0.98,epsilon=0.00000001):\n",
    "\n",
    "        self.word_len = word_len\n",
    "        self.batch_size = batch_size\n",
    "        self.dk = dk\n",
    "        self.dv = dv\n",
    "        self.num_heads = num_heads\n",
    "        self.num_classes = num_classes\n",
    "        self.words_per_phrase = words_per_phrase\n",
    "        self.validation_split = validation_split\n",
    "        self.validation_scores = []\n",
    "        self.training_losses = []\n",
    "        self.MomQ = 0\n",
    "        self.MomK = 0\n",
    "        self.MomV = 0\n",
    "        self.MomLy = 0\n",
    "        self.MomB = 0\n",
    "        self.RMSPQ = 0\n",
    "        self.RMSPK = 0\n",
    "        self.RMSPV = 0\n",
    "        self.RMSPLy= 0\n",
    "        self.RMSPB = 0\n",
    "        self.momentum_beta=momentum_beta\n",
    "        self.rmsprop_beta=rmsprop_beta\n",
    "        self.epsilon=epsilon\n",
    "        self.iterations=0\n",
    "        \n",
    "\n",
    "        \n",
    "        # Initialize weights with Xavier/Glorot initialization\n",
    "        self.Q = np.random.randn(self.word_len, self.dv) / np.sqrt(self.word_len)  # * 0.01\n",
    "        self.K = np.random.randn(self.word_len, self.dv) / np.sqrt(self.word_len)  # * 0.01\n",
    "        self.V = np.random.randn(self.word_len, self.dv) / np.sqrt(self.word_len)  # * 0.01\n",
    "\n",
    "        # Initialize linear layer weights\n",
    "        self.linearlayer = np.random.randn(self.dv, self.num_classes) / np.sqrt(self.dk)\n",
    "        self.linear_bias = np.zeros(self.num_classes)\n",
    "\n",
    "    def softmax(self, x, axis=-1):\n",
    "        x = np.clip(x, -1e4, 1e4)  # Clip for numerical stability\n",
    "        e_x = np.exp(x - np.max(x, axis=axis, keepdims=True))\n",
    "        softmax_result = e_x / np.sum(e_x, axis=axis, keepdims=True)\n",
    "        # print(\"Softmax result shape:\", softmax_result.shape)\n",
    "        return softmax_result\n",
    "\n",
    "    def cross_entropy_loss(self, predictions, target):\n",
    "        # Cross-entropy loss for a batch of predictions and targets\n",
    "        batch_loss = -np.sum(target * np.log(predictions + 1e-9), axis=1)\n",
    "        mean_loss = np.mean(batch_loss)\n",
    "        # print(\"Cross-entropy loss:\", mean_loss)\n",
    "        return mean_loss\n",
    "    def load_train_validation_splits(self, X_train, y_train):\n",
    "        X_train_validation = X_train[0:round(self.validation_split * len(X_train))]\n",
    "        y_train_validation = y_train[0:round(self.validation_split * len(y_train))]\n",
    "        X_train = X_train[round(self.validation_split * len(X_train)):]\n",
    "        y_train = y_train[round(self.validation_split * len(y_train)):]\n",
    "        return [X_train, X_train_validation, y_train, y_train_validation]\n",
    "\n",
    "    def pad_sequences(self, sequences, max_len):\n",
    "        padded_sequences = np.zeros((len(sequences), max_len, sequences[0].shape[1]))\n",
    "        for i, seq in enumerate(sequences):\n",
    "            length = min(seq.shape[0], max_len)\n",
    "            padded_sequences[i, :length] = seq[:length]\n",
    "        return padded_sequences\n",
    "\n",
    "    def training_validation(self, X_validation, y_validation, current_loss):\n",
    "        # Pad validation sequences\n",
    "        X_validation = self.pad_sequences(X_validation, self.words_per_phrase)\n",
    "\n",
    "        # Make predictions\n",
    "        predictions = self.predict(X_validation)\n",
    "\n",
    "        # Convert predictions to class labels\n",
    "        y_pred = np.argmax(predictions, axis=1)\n",
    "\n",
    "        # Convert one-hot encoded true labels to class labels\n",
    "        y_true = np.argmax(y_validation, axis=1)\n",
    "\n",
    "        # Calculate F1 score\n",
    "        f1 = f1_score(y_true, y_pred, average=\"weighted\")\n",
    "        print(\"Validation F1 score: \", f1)\n",
    "\n",
    "        # Append current F1 score and loss\n",
    "        self.validation_scores.append(f1)\n",
    "        self.training_losses.append(current_loss)\n",
    "\n",
    "        # Create an Epoch column\n",
    "        epochs = list(range(1, len(self.validation_scores) + 1))\n",
    "\n",
    "        # Create DataFrame for plotting\n",
    "        data = pd.DataFrame({\n",
    "            'Epoch': epochs,\n",
    "            'F1 Score': self.validation_scores,\n",
    "            'Loss': self.training_losses\n",
    "        })\n",
    "\n",
    "        # Plot F1 score and Loss\n",
    "        self.image = plt.figure(figsize=(10, 6))\n",
    "\n",
    "        # F1 score line plot\n",
    "        sns.lineplot(x='Epoch', y='F1 Score', data=data, label='F1 Score', marker='o')\n",
    "\n",
    "        # Loss line plot on the same axes\n",
    "        sns.lineplot(x='Epoch', y='Loss', data=data, label='Loss', marker='o')\n",
    "\n",
    "        # Set plot labels and title\n",
    "        plt.title('F1 Score and Loss over Epochs')\n",
    "        plt.xlabel('Epoch')\n",
    "        plt.ylabel('Score / Loss')\n",
    "\n",
    "        # Show legend and grid\n",
    "        plt.legend()\n",
    "        plt.grid(True)\n",
    "        buf = io.BytesIO()\n",
    "        plt.savefig(buf, format='png')\n",
    "        buf.seek(0)\n",
    "\n",
    "        # Load the image from BytesIO object into a PIL Image\n",
    "        self.image = Image.open(buf)\n",
    "\n",
    "        plt.close()\n",
    "        # Display the plot\n",
    "        # self.image.show()\n",
    "\n",
    "    \n",
    "    def MultiHeadsAttention(self, Inputs):\n",
    "        self.Qval = np.swapaxes(np.array_split(np.matmul(Inputs, self.Q),self.num_heads,axis=2), 0, 1)\n",
    "        self.Kval = np.swapaxes(np.array_split(np.matmul(Inputs, self.K),self.num_heads,axis=2), 0, 1)\n",
    "        self.Vval = np.swapaxes(np.array_split(np.matmul(Inputs, self.V),self.num_heads,axis=2), 0, 1)\n",
    "        # print(\"Qval shape:\", self.Qval.shape)\n",
    "        # print(\"Kval shape:\", self.Kval.shape)\n",
    "        # print(\"Vval shape:\", self.Vval.shape)\n",
    "\n",
    "        QKscaled = np.matmul(self.Qval, np.transpose(self.Kval, (0, 1, 3, 2))) / np.sqrt(self.dk)\n",
    "        # print(\"QKscaled shape:\", QKscaled.shape)\n",
    "\n",
    "        self.Attention_weights = self.softmax(QKscaled)\n",
    "        # print(\"Attention_weights shape:\", self.Attention_weights.shape)\n",
    "\n",
    "        Attention_output = np.matmul(self.Attention_weights, self.Vval)\n",
    "        # print(\"Attention output shape:\", Attention_output.shape)\n",
    "\n",
    "        return Attention_output\n",
    "\n",
    "    def LinearLayer(self):\n",
    "        output = np.matmul(self.phrase_representation, self.linearlayer) + self.linear_bias\n",
    "        # print(\"Linear layer output shape:\", output.shape)\n",
    "        return output\n",
    "\n",
    "    def forward(self, Inputs):\n",
    "\n",
    "        Attention = self.MultiHeadsAttention(Inputs)\n",
    "\n",
    "        #print(\"Attention shape:\", Attention.shape)\n",
    "        #print(\"Attention mean shape:\", np.mean(Attention, axis=2).shape)\n",
    "        self.phrase_representation = np.mean(Attention, axis=2).reshape(Inputs.shape[0],self.dv)\n",
    "        \n",
    "\n",
    "        Zout = self.LinearLayer()\n",
    "\n",
    "        Sigma_Zout = self.softmax(Zout)\n",
    "        # print(\"Sigma_Zout shape:\", Sigma_Zout.shape)\n",
    "\n",
    "        return Sigma_Zout\n",
    "\n",
    "    def BackPropagation(self, dLoss_dSigma_Zout, Inputs):\n",
    "\n",
    "        # Gradient for linear layer\n",
    "        dlinear_dW = np.dot(dLoss_dSigma_Zout.T, self.phrase_representation).T\n",
    "        # print(\"dlinear_dW shape:\", dlinear_dW.shape)\n",
    "\n",
    "        # Gradient for bias\n",
    "        d_bias = np.sum(dLoss_dSigma_Zout, axis=0)\n",
    "        # print(\"d_bias shape:\", d_bias.shape)\n",
    "\n",
    "        # Gradient for phrase representation\n",
    "        d_phrase_rep = np.dot(dLoss_dSigma_Zout, self.linearlayer.T)\n",
    "        # print(\"d_phrase_rep shape:\", d_phrase_rep.shape)\n",
    "\n",
    "        # Gradient for attention\n",
    "        dL_dA = np.array(\n",
    "            [np.outer(np.ones(Inputs.shape[1]), d_phrase_rep[i, :]) for i in range(d_phrase_rep.shape[0])]) / \\\n",
    "                Inputs.shape[1]\n",
    "        dL_dA = np.swapaxes(np.array(np.array_split(dL_dA, self.num_heads, axis=2)), 0, 1)\n",
    "        # print(\"dL_dA shape:\", dL_dA.shape)\n",
    "\n",
    "        # Gradient for V\n",
    "        d_Vval = np.matmul(np.transpose(dL_dA, (0, 1, 3, 2)), self.Attention_weights)\n",
    "        dLoss_dV = np.concatenate(np.mean(np.matmul(d_Vval,Inputs.reshape(Inputs.shape[0], 1, self.words_per_phrase, Inputs.shape[2])),axis=0),axis=0).T\n",
    "        # print(\"dLoss_dV shape:\", dLoss_dV.shape)\n",
    "\n",
    "        # Gradient of softmax\n",
    "        dAttention_dSoftmax = self.Attention_weights * (1 - self.Attention_weights)\n",
    "        # print(\"dAttention_dSoftmax shape:\", dAttention_dSoftmax.shape)\n",
    "\n",
    "\n",
    "        # Compute dLoss_dQ\n",
    "        dLoss_dQ = np.transpose(dL_dA, (0, 1, 3, 2)) @ dAttention_dSoftmax @ self.Kval @ np.transpose(self.Vval, (\n",
    "        0, 1, 3, 2)) @ Inputs.reshape(Inputs.shape[0], 1, self.words_per_phrase, Inputs.shape[2])\n",
    "        dLoss_dQ = np.concatenate(np.mean(dLoss_dQ, axis=0), axis=0).T\n",
    "        # print(\"dLoss_dQ shape:\", dLoss_dQ.shape)\n",
    "\n",
    "        # Gradient of K\n",
    "        dLoss_dK = np.transpose(dL_dA, (0, 1, 3, 2)) @ dAttention_dSoftmax @ self.Qval @ np.transpose(self.Vval, (\n",
    "            0, 1, 3, 2)) @ Inputs.reshape(Inputs.shape[0], 1, self.words_per_phrase, Inputs.shape[2])\n",
    "        dLoss_dK = np.concatenate(np.mean(dLoss_dK, axis=0), axis=0).T\n",
    "        # print(\"dLoss_dK shape:\", dLoss_dK.shape)\n",
    "\n",
    "        # Gradient clipping\n",
    "        clip_value = 150.0\n",
    "        dLoss_dQ = np.clip(dLoss_dQ, -clip_value, clip_value)\n",
    "        dLoss_dK = np.clip(dLoss_dK, -clip_value, clip_value)\n",
    "        dLoss_dV = np.clip(dLoss_dV, -clip_value, clip_value)\n",
    "        dlinear_dW = np.clip(dlinear_dW, -clip_value, clip_value)\n",
    "        d_bias = np.clip(d_bias, -clip_value, clip_value)\n",
    "\n",
    "        self.UpdateParams(dLoss_dQ, dLoss_dK, dLoss_dV, dlinear_dW, d_bias)\n",
    "\n",
    "    def UpdateParams(self, dLoss_dQ, dLoss_dK, dLoss_dV, dlinear_dW, d_bias):\n",
    "        self.iterations += 1\n",
    "           # Set a minimum learning rate to avoid it going too low\n",
    "        # Linear learning rate decay\n",
    "        \n",
    "        lr = self.learning_rate * (1 - self.iterations / self.total_iterations)\n",
    "        self.learning_rate = max(lr, 0.001)  # Prevent learning rate from becoming too small\n",
    "        \n",
    "        \n",
    "        # Update biased first moments (momentum)\n",
    "        self.MomQ = (self.momentum_beta * self.MomQ + (1 - self.momentum_beta) * dLoss_dQ)\n",
    "        self.MomK = (self.momentum_beta * self.MomK + (1 - self.momentum_beta) * dLoss_dK)\n",
    "        self.MomV = (self.momentum_beta * self.MomV + (1 - self.momentum_beta) * dLoss_dV)\n",
    "        self.MomLy = (self.momentum_beta * self.MomLy + (1 - self.momentum_beta) * dlinear_dW)\n",
    "        self.MomB = (self.momentum_beta * self.MomB + (1 - self.momentum_beta) * d_bias)\n",
    "    \n",
    "        # Update biased second moments (variance)\n",
    "        self.RMSPQ = (self.rmsprop_beta * self.RMSPQ + (1 - self.rmsprop_beta) * dLoss_dQ * dLoss_dQ)\n",
    "        self.RMSPK = (self.rmsprop_beta * self.RMSPK + (1 - self.rmsprop_beta) * dLoss_dK * dLoss_dK)\n",
    "        self.RMSPV = (self.rmsprop_beta * self.RMSPV + (1 - self.rmsprop_beta) * dLoss_dV * dLoss_dV)\n",
    "        self.RMSPLy = (self.rmsprop_beta * self.RMSPLy + (1 - self.rmsprop_beta) * dlinear_dW * dlinear_dW)\n",
    "        self.RMSPB = (self.rmsprop_beta * self.RMSPB + (1 - self.rmsprop_beta) * d_bias * d_bias)\n",
    "    \n",
    "        # Bias correction for first moments\n",
    "        MomQ_corrected = self.MomQ / (1 - self.momentum_beta ** self.iterations)\n",
    "        MomK_corrected = self.MomK / (1 - self.momentum_beta ** self.iterations)\n",
    "        MomV_corrected = self.MomV / (1 - self.momentum_beta ** self.iterations)\n",
    "        MomLy_corrected = self.MomLy / (1 - self.momentum_beta ** self.iterations)\n",
    "        MomB_corrected = self.MomB / (1 - self.momentum_beta ** self.iterations)\n",
    "    \n",
    "        # Bias correction for second moments\n",
    "        RMSPQ_corrected = self.RMSPQ / (1 - self.rmsprop_beta ** self.iterations)\n",
    "        RMSPK_corrected = self.RMSPK / (1 - self.rmsprop_beta ** self.iterations)\n",
    "        RMSPV_corrected = self.RMSPV / (1 - self.rmsprop_beta ** self.iterations)\n",
    "        RMSPLy_corrected = self.RMSPLy / (1 - self.rmsprop_beta ** self.iterations)\n",
    "        RMSPB_corrected = self.RMSPB / (1 - self.rmsprop_beta ** self.iterations)\n",
    "    \n",
    "        # Update parameters using bias-corrected moments\n",
    "        self.Q -= self.learning_rate * MomQ_corrected / (np.sqrt(RMSPQ_corrected) + self.epsilon)\n",
    "        self.K -= self.learning_rate * MomK_corrected / (np.sqrt(RMSPK_corrected) + self.epsilon)\n",
    "        self.V -= self.learning_rate * MomV_corrected / (np.sqrt(RMSPV_corrected) + self.epsilon)\n",
    "        self.linearlayer -= self.learning_rate * MomLy_corrected / (np.sqrt(RMSPLy_corrected) + self.epsilon)\n",
    "        self.linear_bias -= self.learning_rate * MomB_corrected / (np.sqrt(RMSPB_corrected) + self.epsilon)\n",
    "\n",
    "         \n",
    "\n",
    "\n",
    "\n",
    "    def train(self, X_train, y_train, num_epochs, learning_rate=0.01):\n",
    "        \n",
    "        self.learning_rate = learning_rate\n",
    "        X_train = self.pad_sequences(X_train, self.words_per_phrase)\n",
    "\n",
    "        if self.validation_split > 0:\n",
    "            X_train, X_train_validation, y_train, y_train_validation = train_test_split(\n",
    "                X_train, y_train, test_size=self.validation_split, random_state=42)\n",
    "            print(\"Training starting:\")\n",
    "            print(\"X_train samples: \", X_train.shape[0])\n",
    "            print(\"X_train_validation samples\", X_train_validation.shape[0], \"\\n\")\n",
    "\n",
    "        \n",
    "        self.total_iterations = num_epochs*(len(X_train) // self.batch_size)\n",
    "        for epoch in range(num_epochs):\n",
    "            self.iterations=0\n",
    "            total_loss = 0\n",
    "\n",
    "            num_batches_per_epoch = len(X_train) // self.batch_size\n",
    "\n",
    "            for i in tqdm(range(num_batches_per_epoch), desc=f\"Epoch {epoch + 1}/{num_epochs}\"):\n",
    "                \n",
    "                \n",
    "                \n",
    "                start = i * self.batch_size\n",
    "                end = start + self.batch_size\n",
    "                \n",
    "                X_batch = X_train[start:end]\n",
    "                y_batch = y_train[start:end]\n",
    "\n",
    "                yi = self.forward(X_batch)\n",
    "\n",
    "                Loss = self.cross_entropy_loss(yi, y_batch)\n",
    "                total_loss += Loss\n",
    "\n",
    "                dLoss_dSigma_Zout = yi - y_batch\n",
    "\n",
    "                self.BackPropagation(dLoss_dSigma_Zout, X_batch)\n",
    "\n",
    "                \n",
    "            \n",
    "            if self.validation_split > 0:\n",
    "                self.training_validation(X_train_validation, y_train_validation, Loss)\n",
    "            print(f\"Epoch {epoch + 1}/{num_epochs}, Loss: {(total_loss / num_batches_per_epoch):.4f}, learning rate: {self.learning_rate}\")\n",
    "\n",
    "    def predict(self, X):\n",
    "        X = self.pad_sequences(X, self.words_per_phrase)\n",
    "        return self.forward(X)"
   ]
  },
  {
   "cell_type": "code",
   "execution_count": 5,
   "id": "6dc61562-feda-429a-bc15-db2b31b73639",
   "metadata": {
    "scrolled": true
   },
   "outputs": [
    {
     "name": "stdout",
     "output_type": "stream",
     "text": [
      "Training starting:\n",
      "X_train samples:  1501\n",
      "X_train_validation samples 167 \n",
      "\n"
     ]
    },
    {
     "name": "stderr",
     "output_type": "stream",
     "text": [
      "Epoch 1/10: 100%|██████████████████████████████████████████████████████████████████████| 23/23 [00:06<00:00,  3.34it/s]\n"
     ]
    },
    {
     "name": "stdout",
     "output_type": "stream",
     "text": [
      "Validation F1 score:  0.8041244604907094\n",
      "Epoch 1/10, Loss: 8.0878, learning rate: 0.2596412807906856\n"
     ]
    },
    {
     "name": "stderr",
     "output_type": "stream",
     "text": [
      "Epoch 2/10: 100%|██████████████████████████████████████████████████████████████████████| 23/23 [00:05<00:00,  3.91it/s]\n"
     ]
    },
    {
     "name": "stdout",
     "output_type": "stream",
     "text": [
      "Validation F1 score:  0.8983214060402446\n",
      "Epoch 2/10, Loss: 2.6897, learning rate: 0.07490399410069735\n"
     ]
    },
    {
     "name": "stderr",
     "output_type": "stream",
     "text": [
      "Epoch 3/10: 100%|██████████████████████████████████████████████████████████████████████| 23/23 [00:05<00:00,  3.87it/s]\n"
     ]
    },
    {
     "name": "stdout",
     "output_type": "stream",
     "text": [
      "Validation F1 score:  0.9045974792619272\n",
      "Epoch 3/10, Loss: 1.5318, learning rate: 0.021609076627381128\n"
     ]
    },
    {
     "name": "stderr",
     "output_type": "stream",
     "text": [
      "Epoch 4/10: 100%|██████████████████████████████████████████████████████████████████████| 23/23 [00:05<00:00,  3.98it/s]\n"
     ]
    },
    {
     "name": "stdout",
     "output_type": "stream",
     "text": [
      "Validation F1 score:  0.8985505474055974\n",
      "Epoch 4/10, Loss: 1.3040, learning rate: 0.006234009258041448\n"
     ]
    },
    {
     "name": "stderr",
     "output_type": "stream",
     "text": [
      "Epoch 5/10: 100%|██████████████████████████████████████████████████████████████████████| 23/23 [00:05<00:00,  3.84it/s]\n"
     ]
    },
    {
     "name": "stdout",
     "output_type": "stream",
     "text": [
      "Validation F1 score:  0.8984122871762936\n",
      "Epoch 5/10, Loss: 1.2697, learning rate: 0.0017984512757987477\n"
     ]
    },
    {
     "name": "stderr",
     "output_type": "stream",
     "text": [
      "Epoch 6/10: 100%|██████████████████████████████████████████████████████████████████████| 23/23 [00:06<00:00,  3.37it/s]\n"
     ]
    },
    {
     "name": "stdout",
     "output_type": "stream",
     "text": [
      "Validation F1 score:  0.8984122871762936\n",
      "Epoch 6/10, Loss: 1.2578, learning rate: 0.001\n"
     ]
    },
    {
     "name": "stderr",
     "output_type": "stream",
     "text": [
      "Epoch 7/10: 100%|██████████████████████████████████████████████████████████████████████| 23/23 [00:06<00:00,  3.74it/s]\n"
     ]
    },
    {
     "name": "stdout",
     "output_type": "stream",
     "text": [
      "Validation F1 score:  0.8984122871762936\n",
      "Epoch 7/10, Loss: 1.2534, learning rate: 0.001\n"
     ]
    },
    {
     "name": "stderr",
     "output_type": "stream",
     "text": [
      "Epoch 8/10: 100%|██████████████████████████████████████████████████████████████████████| 23/23 [00:05<00:00,  4.08it/s]\n"
     ]
    },
    {
     "name": "stdout",
     "output_type": "stream",
     "text": [
      "Validation F1 score:  0.8984122871762936\n",
      "Epoch 8/10, Loss: 1.2526, learning rate: 0.001\n"
     ]
    },
    {
     "name": "stderr",
     "output_type": "stream",
     "text": [
      "Epoch 9/10: 100%|██████████████████████████████████████████████████████████████████████| 23/23 [00:05<00:00,  4.08it/s]\n"
     ]
    },
    {
     "name": "stdout",
     "output_type": "stream",
     "text": [
      "Validation F1 score:  0.8984122871762936\n",
      "Epoch 9/10, Loss: 1.2389, learning rate: 0.001\n"
     ]
    },
    {
     "name": "stderr",
     "output_type": "stream",
     "text": [
      "Epoch 10/10: 100%|█████████████████████████████████████████████████████████████████████| 23/23 [00:06<00:00,  3.83it/s]\n"
     ]
    },
    {
     "name": "stdout",
     "output_type": "stream",
     "text": [
      "Validation F1 score:  0.8984122871762936\n",
      "Epoch 10/10, Loss: 1.2267, learning rate: 0.001\n"
     ]
    }
   ],
   "source": [
    " \n",
    "\n",
    "word_len = 300\n",
    "max_words_per_phrase=100\n",
    "dk = 32\n",
    "dv = 32\n",
    "batch_size = 64\n",
    "num_classes = 5\n",
    "num_head=8\n",
    "\n",
    " \n",
    "\n",
    "\n",
    "#validation_split\n",
    "model = QKVMultiHeadsAttentionClassifier(word_len, max_words_per_phrase,num_head, batch_size, dk, dv, num_classes,validation_split=0.1)\n",
    "model.train(X_train, y_train, num_epochs=10, learning_rate=0.9)"
   ]
  },
  {
   "cell_type": "code",
   "execution_count": 22,
   "id": "5d64d351-f15e-4502-932d-a11408d87655",
   "metadata": {},
   "outputs": [
    {
     "data": {
      "text/plain": [
       "960"
      ]
     },
     "execution_count": 22,
     "metadata": {},
     "output_type": "execute_result"
    }
   ],
   "source": [
    "64*15"
   ]
  },
  {
   "cell_type": "code",
   "execution_count": 6,
   "id": "36fa011e-9e20-49a2-b966-3339de40a86f",
   "metadata": {
    "scrolled": true
   },
   "outputs": [
    {
     "data": {
      "image/png": "[encoded data removed]",
      "text/plain": [
       "<PIL.PngImagePlugin.PngImageFile image mode=RGBA size=1000x600>"
      ]
     },
     "execution_count": 6,
     "metadata": {},
     "output_type": "execute_result"
    }
   ],
   "source": [
    "model.image"
   ]
  },
  {
   "cell_type": "code",
   "execution_count": 7,
   "id": "15df5a1e-2aca-44ac-9181-0afa79bfe51d",
   "metadata": {},
   "outputs": [],
   "source": [
    "def pad_sequences(sequences, max_len):\n",
    "        padded_sequences = np.zeros((len(sequences), max_len, sequences[0].shape[1]))\n",
    "        for i, seq in enumerate(sequences):\n",
    "            length = min(seq.shape[0], max_len)\n",
    "            padded_sequences[i, :length] = seq[:length]\n",
    "        return padded_sequences"
   ]
  },
  {
   "cell_type": "code",
   "execution_count": 8,
   "id": "250dd30b-012a-46c0-bf5d-d529f69044c4",
   "metadata": {},
   "outputs": [
    {
     "data": {
      "image/png": "[encoded data removed]",
      "text/plain": [
       "<Figure size 500x500 with 2 Axes>"
      ]
     },
     "metadata": {},
     "output_type": "display_data"
    }
   ],
   "source": [
    "import numpy as np\n",
    "from sklearn.metrics import confusion_matrix,f1_score\n",
    "import seaborn as sns\n",
    "import matplotlib.pyplot as plt\n",
    "\n",
    "X_test= pad_sequences(X_test, max_words_per_phrase)\n",
    "\n",
    "predictions = model.predict(X_test)\n",
    "y_pred = np.argmax(predictions, axis=1)\n",
    "\n",
    "# Convert one-hot encoded true labels to class labels\n",
    "y_true = np.argmax(y_test, axis=1) \n",
    "# Compute confusion matrix\n",
    "cm = confusion_matrix(y_true, y_pred, labels=np.arange(5))\n",
    "\n",
    "# Visualize the confusion matrix\n",
    "plt.figure(figsize=(5, 5))\n",
    "sns.heatmap(cm, annot=True, fmt='d', cmap='Blues', xticklabels=np.arange(5), yticklabels=np.arange(5))\n",
    "plt.xlabel('Predicted Label')\n",
    "plt.ylabel('True Label')\n",
    "plt.title('Confusion Matrix')\n",
    "plt.show()"
   ]
  },
  {
   "cell_type": "code",
   "execution_count": 9,
   "id": "da8c1177-b396-4077-b1c6-0187fb5e66dd",
   "metadata": {},
   "outputs": [
    {
     "data": {
      "text/plain": [
       "0.892093664536214"
      ]
     },
     "execution_count": 9,
     "metadata": {},
     "output_type": "execute_result"
    }
   ],
   "source": [
    "f1_score(y_pred,y_true,average=\"weighted\")"
   ]
  },
  {
   "cell_type": "code",
   "execution_count": 210,
   "id": "4ca2fb80-bac8-4f4b-909f-955195588a1e",
   "metadata": {},
   "outputs": [
    {
     "data": {
      "text/plain": [
       "array([0.76806084, 0.74025974, 0.73626374, 0.89380531, 0.7638191 ])"
      ]
     },
     "execution_count": 210,
     "metadata": {},
     "output_type": "execute_result"
    }
   ],
   "source": [
    "f1_score(y_pred,y_true,average=None)"
   ]
  },
  {
   "cell_type": "code",
   "execution_count": 213,
   "id": "9f2c27d1-7d09-4d44-87d6-d5fd796f377f",
   "metadata": {},
   "outputs": [
    {
     "data": {
      "text/plain": [
       "array([0.808     , 0.76190476, 0.8       , 0.88311688, 0.81052632])"
      ]
     },
     "execution_count": 213,
     "metadata": {},
     "output_type": "execute_result"
    }
   ],
   "source": [
    "f1_score(y_pred,y_true,average=None)"
   ]
  },
  {
   "cell_type": "code",
   "execution_count": 216,
   "id": "7aa2e429-18b8-4569-9b67-5d0c92932d57",
   "metadata": {},
   "outputs": [
    {
     "data": {
      "text/plain": [
       "array([0.82071713, 0.7816092 , 0.83937824, 0.89686099, 0.80874317])"
      ]
     },
     "execution_count": 216,
     "metadata": {},
     "output_type": "execute_result"
    }
   ],
   "source": [
    "f1_score(y_pred,y_true,average=None)"
   ]
  },
  {
   "cell_type": "code",
   "execution_count": 219,
   "id": "0d45d6f8-be94-4652-9b97-4ff464f258b3",
   "metadata": {},
   "outputs": [
    {
     "data": {
      "text/plain": [
       "array([0.83464567, 0.82634731, 0.78974359, 0.88596491, 0.88888889])"
      ]
     },
     "execution_count": 219,
     "metadata": {},
     "output_type": "execute_result"
    }
   ],
   "source": [
    "f1_score(y_pred,y_true,average=None)"
   ]
  },
  {
   "cell_type": "code",
   "execution_count": null,
   "id": "89b3f1d1-6461-4c95-bfce-3b54a020f5fe",
   "metadata": {},
   "outputs": [],
   "source": []
  }
 ],
 "metadata": {
  "kernelspec": {
   "display_name": "Python 3 (ipykernel)",
   "language": "python",
   "name": "python3"
  },
  "language_info": {
   "codemirror_mode": {
    "name": "ipython",
    "version": 3
   },
   "file_extension": ".py",
   "mimetype": "text/x-python",
   "name": "python",
   "nbconvert_exporter": "python",
   "pygments_lexer": "ipython3",
   "version": "3.12.2"
  }
 },
 "nbformat": 4,
 "nbformat_minor": 5
}
