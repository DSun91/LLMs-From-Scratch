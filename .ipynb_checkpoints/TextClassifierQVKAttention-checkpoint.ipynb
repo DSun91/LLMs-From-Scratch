{
 "cells": [
  {
   "cell_type": "markdown",
   "id": "00344db5-aab6-4409-84d9-ef8cdf2e2db9",
   "metadata": {},
   "source": [
    " # NLP Model Implementation Using the QVC Attention Mechanism\n",
    "\n",
    "This guide focuses on developing a Natural Language Processing (NLP) model using the QVC (Query, Value, Context) attention mechanism from scratch using Python and Numpy. The attention mechanism is a critical component in modern NLP models, enhancing their ability to focus on different parts of the input sequence to make more accurate predictions.\n",
    "\n",
    "## Key Components:\n",
    "\n",
    "- **QVC Attention Mechanism**: Understanding and implementing the Query, Value, and Context (QVC) attention mechanism from scratch.\n",
    "- **Model Architecture**: Building the architecture of the NLP model utilizing QVC attention.\n",
    "- **Training and Evaluation**: Training the model with appropriate datasets and evaluating its performance.\n",
    "\n",
    "This project aims to provide a comprehensive guide to implementing and experimenting with attention mechanisms in NLP.\n"
   ]
  },
  {
   "cell_type": "markdown",
   "id": "7146946e-0ba5-4973-84d5-b9e5b5086ab8",
   "metadata": {},
   "source": [
    "# Preparing Input Data for NLP Model\n",
    "\n",
    "In this section, we are preparing the input data for our NLP model by defining arrays representing word embeddings and combining them into a structured format.\n",
    "\n",
    " \n"
   ]
  },
  {
   "cell_type": "markdown",
   "id": "aa334299-b0e7-483b-ae85-95b418fd030e",
   "metadata": {},
   "source": [
    "Let's consider as starting point for example 3 phrases made of 4 words each where each word have embedding size 5:"
   ]
  },
  {
   "cell_type": "code",
   "execution_count": 113,
   "id": "d9826cbc-8702-4db0-8063-c3425427ed68",
   "metadata": {},
   "outputs": [],
   "source": [
    "import sys\n",
    "sys.path.append('c:\\\\python312\\\\lib\\\\site-packages')\n",
    "import numpy as np\n",
    " \n",
    "\n",
    "# Phrase 1\n",
    "word1 = np.array([0.1, 0.2, 0.3, 0.4, 0.5,0.3])\n",
    "word2 = np.array([0.5, 0.4, 0.7,0.3, 0.2,0.3])\n",
    "word3 = np.array([0.2,0.7, 0.3, 0.5, 0.4,0.4])\n",
    "word4 = np.array([0.4, 0.1,0.7, 0.2, 0.5,0.7])\n",
    "\n",
    "# Phrase 2\n",
    "word5 = np.array([0.1, 0.9, 0.3, 0.4, 0.5,0.2])\n",
    "word6 = np.array([0.4, 0.4, 0.7,0.3, 0.4,0.6])\n",
    "word7 = np.array([0.2,0.7, 0.4, 0.5, 0.4,0.2])\n",
    "word8 = np.array([0.4, 0.5,0.7, 0.7, 0.5,0.1])\n",
    "\n",
    "# Phrase 3\n",
    "word9 = np.array([0.1, 0.2, 0.3, 0.8, 0.5,0.2])\n",
    "word10 = np.array([0.4, 0.5, 0.7,0.3, 0.8,0.4])\n",
    "word11 = np.array([0.9,0.7, 0.3, 0.5, 0.4,0.6])\n",
    "word12 = np.array([0.4, 0.5,0.1, 0.7, 0.4,0.4])\n",
    " "
   ]
  },
  {
   "cell_type": "markdown",
   "id": "aa490b91-9b93-48fe-a5f4-c68e4323be09",
   "metadata": {},
   "source": [
    "Finally, we combine all these word embeddings into a single matrix. This matrix, `inputs`, has the shape `(3, 4, 6)`, where:\n",
    "- `3` represents the number of phrases (batch size),\n",
    "- `4` is the number of words in each phrase (sequence length),\n",
    "- `6` is the dimensionality of each word embedding.\n"
   ]
  },
  {
   "cell_type": "code",
   "execution_count": 114,
   "id": "010108fc-3efd-4649-84d4-1e405ea6af37",
   "metadata": {},
   "outputs": [
    {
     "data": {
      "text/plain": [
       "(array([[[0.1, 0.2, 0.3, 0.4, 0.5, 0.3],\n",
       "         [0.5, 0.4, 0.7, 0.3, 0.2, 0.3],\n",
       "         [0.2, 0.7, 0.3, 0.5, 0.4, 0.4],\n",
       "         [0.4, 0.1, 0.7, 0.2, 0.5, 0.7]],\n",
       " \n",
       "        [[0.1, 0.9, 0.3, 0.4, 0.5, 0.2],\n",
       "         [0.4, 0.4, 0.7, 0.3, 0.4, 0.6],\n",
       "         [0.2, 0.7, 0.4, 0.5, 0.4, 0.2],\n",
       "         [0.4, 0.5, 0.7, 0.7, 0.5, 0.1]],\n",
       " \n",
       "        [[0.1, 0.2, 0.3, 0.8, 0.5, 0.2],\n",
       "         [0.4, 0.5, 0.7, 0.3, 0.8, 0.4],\n",
       "         [0.9, 0.7, 0.3, 0.5, 0.4, 0.6],\n",
       "         [0.4, 0.5, 0.1, 0.7, 0.4, 0.4]]]),\n",
       " (3, 4, 6))"
      ]
     },
     "execution_count": 114,
     "metadata": {},
     "output_type": "execute_result"
    }
   ],
   "source": [
    "inputs = np.stack([[word1, word2, word3, word4],[word5, word6, word7, word8],[word9, word10, word11, word12]])\n",
    "inputs, inputs.shape"
   ]
  },
  {
   "cell_type": "markdown",
   "id": "01448d4b-217c-4fd2-99ce-e432932482f4",
   "metadata": {},
   "source": [
    "Implementing the classifier model class we can start by adding these parameters:"
   ]
  },
  {
   "cell_type": "code",
   "execution_count": 115,
   "id": "a32f97bf-07f9-4931-834f-98b0a2c86862",
   "metadata": {},
   "outputs": [],
   "source": [
    "class QKVAttentionClassifier:\n",
    "    def __init__(self,word_len,batch_size):\n",
    "        self.word_len=word_len\n",
    "        self.batch_size = batch_size "
   ]
  },
  {
   "cell_type": "markdown",
   "id": "d04c80dc-cdad-492c-b715-0dbdb1e01c13",
   "metadata": {},
   "source": [
    "# Attention Head\n",
    "\n",
    "An attention head in the attention mechanism is a crucial component of the model that computes the weighted sum of the values based on the similarity between the queries and keys.\n",
    "The primary goal of the attention mechanism is to derive better and richer representations of word embeddings. By focusing on different parts of the input sequence, the attention mechanism helps the model capture intricate relationships and dependencies between words. This enhanced representation improves the model’s ability to understand context and perform various NLP tasks more effectively.\n",
    "\n",
    "The output of an attention head can be represented mathematically as follows:\n",
    "\n",
    "1. **Calculate the Scores**: The attention scores are computed as the dot product of the query matrix \\\\( Q \\\\) with the transpose of the key matrix \\\\( K \\\\). To ensure that the gradients are well-behaved and to prevent excessively large values in the softmax step, the dot product is scaled by \\\\( \\sqrt{d_k} \\\\):\n",
    "  $$\n",
    "  \\text{Scores} = \\frac{QK^T}{\\sqrt{d_k}}\n",
    "  $$\n",
    "   where \\\\( d_k \\\\) refers to the dimensionality of the key vectors. Specifically, \\\\( d_k \\\\) is equal to the number of neurons in the key matrix \\\\( K \\\\). This dimension is crucial for scaling the attention scores, which helps in stabilizing the gradients during training.\n",
    "\n",
    "2. **Apply Softmax**: Apply the softmax function to the scores to get the attention weights:\n",
    "   $$\n",
    "   \\text{Attention Weights} = \\text{softmax}(\\text{Scores})\n",
    "   $$\n",
    "\n",
    "3. **Compute the Weighted Sum**: Multiply the attention weights by the value matrix \\\\( V \\\\) to get the weighted sum:\n",
    "   $$\n",
    "   \\text{Output} = \\text{Attention Weights} \\times V\n",
    "   $$\n",
    "\n",
    "Here’s a more detailed breakdown:\n",
    "\n",
    "- **Query Matrix \\( Q \\)**: Represents the queries for which we are computing attention.\n",
    "- **Key Matrix \\( K \\)**: Represents the keys that are used to compute the similarity with the queries.\n",
    "- **Value Matrix \\( V \\)**: Contains the values that will be weighted by the attention weights to produce the final output.\n",
    "\n",
    "While the query and key matrices have dimensions \\\\(\\text{word\\_length} \\times d_k\\\\), the value matrix \\\\( V \\\\) has a second dimension \\\\( d_v \\\\) that specifies how the words will be represented after attention. This dimension \\\\( d_v \\\\) influences the output representation of the words, allowing the model to create a more meaningful and rich representation based on the attention mechanism.\n",
    " "
   ]
  },
  {
   "cell_type": "markdown",
   "id": "682f61a6-2c2d-45a1-83c0-621fc877d3e8",
   "metadata": {},
   "source": [
    "![Alt text](imgs/NotebookAttention1.png)"
   ]
  },
  {
   "cell_type": "code",
   "execution_count": 123,
   "id": "5cc195bf-ea34-41a7-8682-3f902a54a29a",
   "metadata": {},
   "outputs": [],
   "source": [
    "word2vec_len=6\n",
    "dk=3\n",
    "dv=3\n",
    "Q = np.random.rand(word2vec_len, dk)/ np.sqrt(word2vec_len)\n",
    "K = np.random.rand(word2vec_len, dk)/ np.sqrt(word2vec_len)\n",
    "V = np.random.rand(word2vec_len, dv)/ np.sqrt(word2vec_len)"
   ]
  },
  {
   "cell_type": "markdown",
   "id": "918bd284-1b11-46af-9381-c5f93d7f81b1",
   "metadata": {},
   "source": [
    "Adding Q,K,V to the classifier we have:\n"
   ]
  },
  {
   "cell_type": "code",
   "execution_count": 124,
   "id": "bbf587ef-f7dc-4c44-960c-ba87237d8597",
   "metadata": {},
   "outputs": [],
   "source": [
    "class QKVAttentionClassifier:\n",
    "    def __init__(self,word2vec_len,batch_size,dk,dv):\n",
    "        self.word2vec_len=word2vec_len\n",
    "        self.batch_size = batch_size\n",
    "        self.dk=dk\n",
    "        self.dv = dv\n",
    "        self.Q = np.random.rand(self.word2vec_len, self.dk) / np.sqrt(self.word_len)\n",
    "        self.K = np.random.rand(self.word2vec_len, self.dk) / np.sqrt(self.word_len)\n",
    "        self.V = np.random.rand(self.word2vec_len, self.dv) / np.sqrt(self.word_len)"
   ]
  },
  {
   "cell_type": "markdown",
   "id": "a393f1d5-2200-4f81-bf46-fc39f2841dee",
   "metadata": {},
   "source": [
    "## Forward Pass in Attention Mechanism\n",
    "\n",
    "The `forward` method in the attention mechanism is responsible for computing the query, key, and value vectors from the input embeddings. Let’s break down the code provided:\n"
   ]
  },
  {
   "cell_type": "code",
   "execution_count": 125,
   "id": "4ca4a1e1-9ccc-4c10-91e4-13ee411b1b15",
   "metadata": {},
   "outputs": [
    {
     "data": {
      "text/plain": [
       "(array([[[0.22577369, 0.42706725, 0.37118764],\n",
       "         [0.31867248, 0.54100725, 0.43120605],\n",
       "         [0.27692632, 0.6088111 , 0.53412471],\n",
       "         [0.37436676, 0.53774899, 0.4664951 ]],\n",
       " \n",
       "        [[0.24606572, 0.6172034 , 0.55233752],\n",
       "         [0.36968967, 0.61518327, 0.51698646],\n",
       "         [0.26502203, 0.60293486, 0.50820893],\n",
       "         [0.35880584, 0.71648738, 0.567437  ]],\n",
       " \n",
       "        [[0.24913562, 0.52973741, 0.41847591],\n",
       "         [0.40705565, 0.71741545, 0.65233669],\n",
       "         [0.43832427, 0.76354827, 0.75228171],\n",
       "         [0.29396457, 0.60104685, 0.55585522]]]),\n",
       " (3, 4, 3))"
      ]
     },
     "execution_count": 125,
     "metadata": {},
     "output_type": "execute_result"
    }
   ],
   "source": [
    "Qval=np.matmul(inputs, Q)\n",
    "Qval,Qval.shape"
   ]
  },
  {
   "cell_type": "code",
   "execution_count": 126,
   "id": "9d3002d6-50aa-4319-9ff8-51b6fe4e0e77",
   "metadata": {},
   "outputs": [
    {
     "data": {
      "text/plain": [
       "array([[[0.34591897, 0.33559158, 0.29740082],\n",
       "        [0.41271255, 0.56074489, 0.3693872 ],\n",
       "        [0.4537308 , 0.42839923, 0.35616238],\n",
       "        [0.41098946, 0.69268228, 0.37994884]],\n",
       "\n",
       "       [[0.41327595, 0.34992201, 0.33653826],\n",
       "        [0.45735313, 0.66351386, 0.40210514],\n",
       "        [0.44672889, 0.38650795, 0.36747856],\n",
       "        [0.58499327, 0.51811483, 0.51326718]],\n",
       "\n",
       "       [[0.49013491, 0.30751583, 0.39914827],\n",
       "        [0.50754346, 0.66766376, 0.47570383],\n",
       "        [0.59920288, 0.75884143, 0.47974607],\n",
       "        [0.51549273, 0.43448965, 0.39160742]]])"
      ]
     },
     "execution_count": 126,
     "metadata": {},
     "output_type": "execute_result"
    }
   ],
   "source": [
    "Kval=np.dot(inputs, K)\n",
    "Kval"
   ]
  },
  {
   "cell_type": "code",
   "execution_count": 127,
   "id": "53b206d8-fd56-4a0e-994b-9c04c755a067",
   "metadata": {},
   "outputs": [
    {
     "data": {
      "text/plain": [
       "array([[[0.40320791, 0.55761701, 0.44606745],\n",
       "        [0.45176174, 0.66719408, 0.60134744],\n",
       "        [0.53578071, 0.74814978, 0.64087468],\n",
       "        [0.53726383, 0.75161334, 0.67461275]],\n",
       "\n",
       "       [[0.58191354, 0.72381895, 0.63153992],\n",
       "        [0.57536543, 0.80941657, 0.73089011],\n",
       "        [0.52512727, 0.71742403, 0.60850101],\n",
       "        [0.58477764, 0.85514081, 0.69017719]],\n",
       "\n",
       "       [[0.41875796, 0.66885641, 0.48216923],\n",
       "        [0.71470181, 0.89995424, 0.7843814 ],\n",
       "        [0.59159801, 0.9076409 , 0.78549829],\n",
       "        [0.45254626, 0.72723259, 0.57066216]]])"
      ]
     },
     "execution_count": 127,
     "metadata": {},
     "output_type": "execute_result"
    }
   ],
   "source": [
    "Vval=np.dot(inputs, V)\n",
    "Vval"
   ]
  },
  {
   "cell_type": "markdown",
   "id": "efe060e4-c99f-4dab-acc6-ab43500fd004",
   "metadata": {},
   "source": [
    "Having the values of the \\\\(Q\\\\), \\\\(K\\\\), \\\\(V\\\\) matrices and the \\\\(dk\\\\) values we can calculate the scores:\n",
    "$$\n",
    "  \\text{QKscaled} = \\frac{QK^T}{\\sqrt{d_k}}\n",
    "  $$"
   ]
  },
  {
   "cell_type": "code",
   "execution_count": null,
   "id": "90fc4e23-d919-4a86-9a2f-28a2ae4f1cd1",
   "metadata": {},
   "outputs": [],
   "source": []
  },
  {
   "cell_type": "code",
   "execution_count": 128,
   "id": "3af7a0da-fbeb-4ae6-a83f-242f65e5410a",
   "metadata": {},
   "outputs": [
    {
     "data": {
      "text/plain": [
       "array([[[0.19157122, 0.27122032, 0.2411008 , 0.30579059],\n",
       "        [0.24250638, 0.34304374, 0.30595984, 0.38656684],\n",
       "        [0.26497784, 0.37699674, 0.33295751, 0.42635384],\n",
       "        [0.25905743, 0.36278565, 0.32700022, 0.40622034]],\n",
       "\n",
       "       [[0.29072404, 0.4296408 , 0.31838032, 0.43141098],\n",
       "        [0.31294448, 0.45330325, 0.34231428, 0.46208444],\n",
       "        [0.28379027, 0.41893558, 0.31072299, 0.42046836],\n",
       "        [0.34061633, 0.50094929, 0.37281697, 0.5036622 ]],\n",
       "\n",
       "       [[0.26098925, 0.39213874, 0.43418568, 0.30164894],\n",
       "        [0.3928914 , 0.57498879, 0.63581821, 0.4486033 ],\n",
       "        [0.43296256, 0.6293842 , 0.6945301 , 0.49207904],\n",
       "        [0.31799435, 0.47049396, 0.51898768, 0.36393982]]])"
      ]
     },
     "execution_count": 128,
     "metadata": {},
     "output_type": "execute_result"
    }
   ],
   "source": [
    "QKscaled=np.matmul(Qval, np.transpose(Kval, (0, 2, 1)))/np.sqrt(K.shape[1])\n",
    "QKscaled"
   ]
  },
  {
   "cell_type": "markdown",
   "id": "2874ca4b-689b-42e5-b5fb-e19733e3a3b1",
   "metadata": {},
   "source": [
    "and finally the \\\\(attention\\\\) \\\\(weights\\\\) as:\n",
    "$$\n",
    "  \\text{Attention weights} =\\sigma( \\frac{QK^T}{\\sqrt{d_k}})\n",
    "  $$"
   ]
  },
  {
   "cell_type": "code",
   "execution_count": 129,
   "id": "57134a6b-fb58-4943-9a33-89df9fc70197",
   "metadata": {},
   "outputs": [
    {
     "data": {
      "text/plain": [
       "array([[[0.23503521, 0.25452128, 0.24696951, 0.263474  ],\n",
       "        [0.2311482 , 0.25559558, 0.2462907 , 0.26696552],\n",
       "        [0.22914734, 0.2563091 , 0.24526638, 0.26927717],\n",
       "        [0.23051324, 0.25570809, 0.24671926, 0.26705942]],\n",
       "\n",
       "       [[0.2310464 , 0.26547889, 0.23752546, 0.26594925],\n",
       "        [0.2303443 , 0.26505409, 0.23720979, 0.26739183],\n",
       "        [0.23156399, 0.26507202, 0.23788538, 0.26547862],\n",
       "        [0.22811691, 0.26778682, 0.23558197, 0.26851429]],\n",
       "\n",
       "       [[0.22879445, 0.26085729, 0.2720594 , 0.23828887],\n",
       "        [0.22065316, 0.26472445, 0.28132734, 0.23329505],\n",
       "        [0.21848833, 0.26590903, 0.28380863, 0.23179401],\n",
       "        [0.22551088, 0.26266199, 0.27571334, 0.23611379]]])"
      ]
     },
     "execution_count": 129,
     "metadata": {},
     "output_type": "execute_result"
    }
   ],
   "source": [
    "import numpy as np\n",
    "\n",
    "def softmax(x, axis=-1):\n",
    "    # Subtract the max value for numerical stability\n",
    "    e_x = np.exp(x - np.max(x, axis=axis, keepdims=True))\n",
    "    return e_x / np.sum(e_x, axis=axis, keepdims=True)\n",
    "\n",
    "Attention_weights=softmax(QKscaled)\n",
    "Attention_weights"
   ]
  },
  {
   "cell_type": "markdown",
   "id": "27b132f5-af6a-44a1-af9e-49de32810dd2",
   "metadata": {},
   "source": [
    "and finally the \\\\(Attention\\\\) value as:\n",
    "$$\n",
    "  \\text{Attention} =\\sigma( \\frac{QK^T}{\\sqrt{d_k}})V\n",
    "  $$"
   ]
  },
  {
   "cell_type": "code",
   "execution_count": 259,
   "id": "4f9a3f8b-7be8-4f5b-996c-0ad41fef0bc5",
   "metadata": {},
   "outputs": [
    {
     "data": {
      "text/plain": [
       "array([[[0.48362758, 0.68367548, 0.5939167 ],\n",
       "        [0.48405781, 0.6843412 , 0.59474925],\n",
       "        [0.48426655, 0.68467268, 0.59518882],\n",
       "        [0.48413268, 0.6844534 , 0.59487167]],\n",
       "\n",
       "       [[0.56744868, 0.7799493 , 0.66803751],\n",
       "        [0.56747352, 0.7801044 , 0.66808717],\n",
       "        [0.56742955, 0.77985037, 0.6679612 ],\n",
       "        [0.56755127, 0.78049613, 0.66846198]],\n",
       "\n",
       "       [[0.55103121, 0.80801392, 0.66461388],\n",
       "        [0.55360881, 0.81082913, 0.6681519 ],\n",
       "        [0.55433752, 0.81160776, 0.66912971],\n",
       "        [0.55212335, 0.80917652, 0.66607515]]])"
      ]
     },
     "execution_count": 259,
     "metadata": {},
     "output_type": "execute_result"
    }
   ],
   "source": [
    "Attention=np.matmul(Attention_weights, Vval)\n",
    "Attention "
   ]
  },
  {
   "cell_type": "markdown",
   "id": "308da6ec-5fef-4fec-aabd-c632f8d16a15",
   "metadata": {},
   "source": [
    "Consider now the change in the dimensionality of each word:\n",
    "\n",
    "- **Initial Embedding Size**: The word embeddings begin with a dimensionality of 6.\n",
    "- **Attention Output Size**: After applying the attention mechanism, the output of the attention layer typically has a reduced dimensionality, in our case it end up with a size of 3.\n",
    "\n",
    "This reduction occurs because:\n",
    "  - The attention mechanism often projects the embeddings into a lower-dimensional space to capture the most relevant information while reducing computational complexity.\n",
    "  - The output dimension of the attention mechanism is determined by the number of neurons in the linear layer of V matrix of the attention mechanism.\n"
   ]
  },
  {
   "cell_type": "markdown",
   "id": "ff92ed80-c07e-4513-9263-ac9742f88310",
   "metadata": {},
   "source": [
    "# Computing Phrase Representation from Attention Scores\n",
    "\n",
    "In the attention mechanism, once the attention scores are computed and applied, we often need to summarize or aggregate these scores to obtain a representation of the entire phrase. Here’s how we compute the `phrase_representation`:\n",
    "\n",
    "### Context\n",
    "\n",
    "Given an `Attention` matrix that represents the attention weights applied to each word in a phrase, the goal is to aggregate these weights to obtain a single representation for the phrase.\n",
    "\n",
    "### Computing Phrase Representation\n",
    "\n",
    "1. **Attention Matrix**:\n",
    "   - **Shape**: \\\\((\\text{batch\\_size}, \\text{sequence\\_length}, \\text{embedding\\_dim})\\\\) \n",
    "   - **Purpose**: Contains the attention weights for each word in each phrase. Each entry in this matrix represents the weighted influence of words in the phrase.\n",
    "\n",
    "2. **Phrase Representation Calculation**:\n",
    "   - To obtain a single representation for each phrase, we compute the average of the attention weights along the sequence length dimension.\n",
    "\n",
    "   ```python\n",
    "   phrase_representation = np.mean(Attention, axis=1)\n"
   ]
  },
  {
   "cell_type": "markdown",
   "id": "0e00244b-1414-4f05-aaee-9d5f84715048",
   "metadata": {},
   "source": [
    "![Alt text](imgs/NotebookAttention2.png)"
   ]
  },
  {
   "cell_type": "code",
   "execution_count": 131,
   "id": "da1fc1bc-fc23-4e16-933c-3d9af598890f",
   "metadata": {},
   "outputs": [
    {
     "name": "stdout",
     "output_type": "stream",
     "text": [
      "Phrase Representation:\n",
      "[[0.48402116 0.68428569 0.59468161]\n",
      " [0.56747575 0.78010005 0.66813696]\n",
      " [0.55277522 0.80990683 0.66699266]]\n"
     ]
    }
   ],
   "source": [
    "phrase_representation = np.mean(Attention, axis=1)\n",
    "print(\"Phrase Representation:\")\n",
    "print(phrase_representation)"
   ]
  },
  {
   "cell_type": "markdown",
   "id": "77d0cd05-aa0f-445b-9dd2-e29c173864c3",
   "metadata": {},
   "source": [
    "At this point, we have computed the following:\n",
    "\n",
    "- **Attention Mechanism**:\n",
    "  - `Qval`: The result of multiplying the input with the query weight matrix \\( Q \\).\n",
    "  - `Kval`: The result of multiplying the input with the key weight matrix \\( K \\).\n",
    "  - `Vval`: The result of multiplying the input with the value weight matrix \\( V \\).\n",
    "  - `QKscaled`: The scaled dot product of `Qval` and `Kval`, normalized by the square root of the dimensionality of the key vectors \\( d_k \\).\n",
    "  - `attention_weights`: The result of applying the softmax function to `QKscaled` to get attention weights.\n",
    "  - `attention`: The result of multiplying `attention_weights` with `Vval`.\n",
    "We can now add these parts to the classifier model:"
   ]
  },
  {
   "cell_type": "code",
   "execution_count": 132,
   "id": "6d3846a3-848f-476a-bda5-448164a63f63",
   "metadata": {},
   "outputs": [],
   "source": [
    "class QKVAttentionClassifier:\n",
    "    def __init__(self,word2vec_len,batch_size,dk,dv):\n",
    "        self.word2vec_len=word2vec_len\n",
    "        self.batch_size = batch_size\n",
    "        self.dk=dk\n",
    "        self.dv = dv\n",
    "        # Initialize weights with Xavier/Glorot initialization\n",
    "        self.Q = np.random.rand(self.word2vec_len, self.dk) / np.sqrt(self.word_len)\n",
    "        self.K = np.random.rand(self.word2vec_len, self.dk) / np.sqrt(self.word_len)\n",
    "        self.V = np.random.rand(self.word2vec_len, self.dv) / np.sqrt(self.word_len)\n",
    "\n",
    "    \n",
    "    def AttentionHead(self, Inputs):\n",
    "        self.Qval = np.dot(Inputs, self.Q)\n",
    "        self.Kval = np.dot(Inputs, self.K)\n",
    "        self.Vval = np.dot(Inputs, self.V) \n",
    "        QKscaled = np.matmul(self.Qval, np.transpose(self.Kval, (0, 2, 1))) / np.sqrt(self.K.shape[1]) \n",
    "        self.Attention_weights = self.softmax(QKscaled) \n",
    "        return np.matmul(self.Attention_weights, self.Vval)\n",
    "    \n",
    "    def forward(self, Inputs):\n",
    "        Attention = self.AttentionHead(Inputs)\n",
    "        self.phrase_representation = np.mean(Attention, axis=1)"
   ]
  },
  {
   "cell_type": "markdown",
   "id": "ceeb7df4-17d1-4cad-ae0d-e337352a00c9",
   "metadata": {},
   "source": [
    "With these computations complete, we are now ready to feed the `phrase_rep` into the linear layer for further processing."
   ]
  },
  {
   "cell_type": "markdown",
   "id": "960dfe9b-1d3a-4ee5-9fc0-f517be2ee94d",
   "metadata": {},
   "source": [
    "![Alt text](imgs/Notebooktxtclass.png)"
   ]
  },
  {
   "cell_type": "code",
   "execution_count": 133,
   "id": "f760b274-9ded-4466-8b1e-2a8404f2fb6f",
   "metadata": {},
   "outputs": [],
   "source": [
    "num_classes = 2  # Example number of classes (binary classification)\n",
    "linearlayer= np.random.rand(dv, num_classes)   \n",
    "linear_bias = np.random.rand(num_classes)"
   ]
  },
  {
   "cell_type": "code",
   "execution_count": 134,
   "id": "5e84053a-063e-4a51-925c-dc2e6a91caf8",
   "metadata": {},
   "outputs": [
    {
     "data": {
      "text/plain": [
       "array([[0.41860061, 0.58139939],\n",
       "       [0.43331587, 0.56668413],\n",
       "       [0.43393571, 0.56606429]])"
      ]
     },
     "execution_count": 134,
     "metadata": {},
     "output_type": "execute_result"
    }
   ],
   "source": [
    "Sigma_Zout=softmax(np.matmul(phrase_representation, linearlayer) + linear_bias)\n",
    "Sigma_Zout"
   ]
  },
  {
   "cell_type": "markdown",
   "id": "e62c9059-abe9-47a8-b709-27cfb505317f",
   "metadata": {},
   "source": [
    "We add the linearlayer and Sigma_Zout calculation to the classifier:\n"
   ]
  },
  {
   "cell_type": "code",
   "execution_count": 135,
   "id": "3727326d-f64c-44d9-b23e-49df570ea4fb",
   "metadata": {},
   "outputs": [],
   "source": [
    "class QKVAttentionClassifier:\n",
    "    def __init__(self, word_len, words_per_phrase, batch_size, dk, dv, num_classes):\n",
    "\n",
    "        self.word_len = word_len\n",
    "        self.batch_size = batch_size\n",
    "        self.dk = dk\n",
    "        self.dv = dv\n",
    "        self.num_classes = num_classes\n",
    "        self.words_per_phrase = words_per_phrase\n",
    "\n",
    "        # Initialize weights with Xavier/Glorot initialization\n",
    "        self.Q = np.random.randn(self.word_len, self.dk) / np.sqrt(self.word_len)  \n",
    "        self.K = np.random.randn(self.word_len, self.dk) / np.sqrt(self.word_len)  \n",
    "        self.V = np.random.randn(self.word_len, self.dk) / np.sqrt(self.word_len)  \n",
    "\n",
    "        # Initialize linear layer weights\n",
    "        self.linearlayer = np.random.randn(self.dk, self.num_classes) / np.sqrt(self.dk)\n",
    "        self.linear_bias = np.zeros(self.num_classes) \n",
    "        \n",
    "    def LinearLayer(self):\n",
    "        output = np.matmul(self.phrase_representation, self.linearlayer) + self.linear_bias\n",
    "        return output\n",
    "\n",
    "    def forward(self, Inputs):\n",
    "        Attention = self.AttentionHead(Inputs)\n",
    "        self.phrase_representation = np.mean(Attention, axis=1)\n",
    "\n",
    "        Zout = self.LinearLayer()\n",
    "        Sigma_Zout = self.softmax(Zout)\n",
    "\n",
    "        return Sigma_Zout"
   ]
  },
  {
   "cell_type": "markdown",
   "id": "4df671f0-1e4e-47b4-9af2-9ca0bbc910ee",
   "metadata": {},
   "source": [
    "### Cross-Entropy Loss Calculation\n",
    "\n",
    "At this stage, we have calculated the cross-entropy loss between our predictions and the true target values.\n",
    "\n",
    " \n",
    "\n",
    "1. **True Target**:\n",
    "   - The `target` variable represents the true class labels for each example in the batch. It is a list of one-hot encoded vectors. For instance:\n",
    "     - `np.array([0, 1])` represents the true class for the first example.\n",
    "     - `np.array([1, 0])` represents the true class for the second example.\n",
    "     - `np.array([1, 0])` represents the true class for the third example.\n",
    "\n",
    "2. **Cross-Entropy Loss Calculation**:\n",
    "   - The cross-entropy loss is computed using the formula:\n",
    "     \\\\[\n",
    "     \\text{batch\\_loss} = -\\sum (\\text{target} \\cdot \\log(\\text{predictions} + 1e-8))\n",
    "     \\\\]\n",
    "   - This loss function measures the difference between the predicted probabilities and the true class labels. The `1e-8` term is added to avoid taking the logarithm of zero, which could result in undefined values.\n",
    "\n",
    "3. **Result**:\n",
    "   - The computed loss, `loss`, is an average of the individual losses across the batch. It quantifies how well the predicted probabilities match the true labels. A lower loss indicates better performance.\n",
    "\n",
    "In summary, this step provides a measure of how well our model's predictions align with the actual class labels in our batch. The output of this calculation will be used to guide the training process through backpropagation.\n"
   ]
  },
  {
   "cell_type": "code",
   "execution_count": 136,
   "id": "2c487b25",
   "metadata": {},
   "outputs": [
    {
     "name": "stdout",
     "output_type": "stream",
     "text": [
      "Cross-Entropy Loss:  0.737821499876489\n"
     ]
    }
   ],
   "source": [
    "import numpy as np\n",
    "\n",
    " \n",
    "target = [np.array([0, 1]),np.array([1, 0]),np.array([1, 0])]\n",
    "\n",
    "\n",
    "def cross_entropy_loss(predictions, target): \n",
    "    batch_loss = -np.sum(target * np.log(predictions + 1e-8), axis=1)\n",
    "    return np.mean(batch_loss) \n",
    " \n",
    "\n",
    "loss = cross_entropy_loss(Sigma_Zout, target)\n",
    "print(\"Cross-Entropy Loss: \",loss)\n",
    " \n"
   ]
  },
  {
   "cell_type": "markdown",
   "id": "a431718c-20aa-432b-9947-3a8e289e337d",
   "metadata": {},
   "source": [
    "We can now add both softmax and cross entropy loss functions to the classifier model:"
   ]
  },
  {
   "cell_type": "code",
   "execution_count": 137,
   "id": "31a1505c-b77c-4921-bdcc-27ed7f1e3160",
   "metadata": {},
   "outputs": [],
   "source": [
    "class QKVAttentionClassifier:\n",
    "     \n",
    "    def softmax(self, x, axis=-1):\n",
    "        x = np.clip(x, -1e4, 1e4)  # Clip for numerical stability\n",
    "        e_x = np.exp(x - np.max(x, axis=axis, keepdims=True))\n",
    "        return e_x / np.sum(e_x, axis=axis, keepdims=True)\n",
    "\n",
    "    def cross_entropy_loss(self, predictions, target):\n",
    "        # Cross-entropy loss for a batch of predictions and targets\n",
    "        batch_loss = -np.sum(target * np.log(predictions + 1e-9), axis=1)\n",
    "        return np.mean(batch_loss)\n"
   ]
  },
  {
   "cell_type": "markdown",
   "id": "e5138a1a-2c16-4d06-82f3-8a889dc0106c",
   "metadata": {},
   "source": [
    "## Backpropagation\n",
    "\n",
    "To update the model parameters, we need to compute the gradient of the loss function with respect to the output probabilities. This gradient indicates how much the loss function would change if the output probabilities were adjusted.\n",
    "\n",
    "### Gradient of loss with respect to output probabilities:\n",
    "\n",
    "\n",
    "The gradient of the loss with respect to the logits \\( Z^{out} \\) can be expressed as:\n",
    "\n",
    "\\\\[\n",
    "\\frac{\\partial \\text{Loss}}{\\partial Z^{out}} = \\frac{\\partial \\text{Loss}}{\\partial \\sigma(Z^{out})} \\frac{\\partial \\sigma(Z^{out})}{\\partial Z^{out}} = \\sigma(Z^{out}_i) - y_i\n",
    "\\\\]\n"
   ]
  },
  {
   "cell_type": "code",
   "execution_count": 138,
   "id": "a46ee5c0",
   "metadata": {},
   "outputs": [
    {
     "data": {
      "text/plain": [
       "array([[ 0.41860061, -0.41860061],\n",
       "       [-0.56668413,  0.56668413],\n",
       "       [-0.56606429,  0.56606429]])"
      ]
     },
     "execution_count": 138,
     "metadata": {},
     "output_type": "execute_result"
    }
   ],
   "source": [
    "# Gradient of loss with respect to output probabilities\n",
    "dLoss_dSigma_Zout =Sigma_Zout - np.stack(target)\n",
    "dLoss_dSigma_Zout\n",
    "\n"
   ]
  },
  {
   "cell_type": "markdown",
   "id": "d86d5926-b7ef-4b54-9d69-c259363d4723",
   "metadata": {},
   "source": [
    "### Gradient of the loss with respect to linear layer and bias:\n",
    "\n",
    "The gradient of the loss with respect to the linear layer weights and bias can be expressed as:\n",
    "\\\\[\n",
    "\\frac{\\partial Loss}{\\partial W}=\\begin{cases} \\frac{\\partial Loss}{\\partial Z^{out}}=\\frac{\\partial Loss}{\\partial \\sigma(Z^{out})}\\frac{\\partial \\sigma(Z^{out})}{\\partial  Z^{out}}= \\sigma(Z^{out})-y_{true} \\\\  \\frac{\\partial Loss}{\\partial w_{11}}=\\frac{\\partial Loss}{\\partial \\sigma(Z^{out}_1)}\\frac{\\partial \\sigma(Z^{out}_1)}{\\partial Z^{out}_1}\\frac{\\partial Z^{out}_1}{\\partial w_{11}}= [\\sigma(Z^{out}_1)-y_{1}]\\cdot Y_1\\\\  \\frac{\\partial Loss}{\\partial w_{21}}=\\frac{\\partial Loss}{\\partial \\sigma(Z^{out}_1)}\\frac{\\partial \\sigma(Z^{out}_1)}{\\partial Z^{out}_1}\\frac{\\partial Z^{out}_1}{\\partial w_{21}}= [\\sigma(Z^{out}_1)-y_{1}]\\cdot Y_2\\\\  \\frac{\\partial Loss}{\\partial w_{31}}=\\frac{\\partial Loss}{\\partial \\sigma(Z^{out}_1)}\\frac{\\partial \\sigma(Z^{out}_1)}{\\partial Z^{out}_1}\\frac{\\partial Z^{out}_1}{\\partial w_{31}}= [\\sigma(Z^{out}_1)-y_{1}]\\cdot Y_3\\\\  \\frac{\\partial Loss}{\\partial w_{12}}=\\frac{\\partial Loss}{\\partial \\sigma(Z^{out}_2)}\\frac{\\partial \\sigma(Z^{out}_2)}{\\partial Z^{out}_2}\\frac{\\partial Z^{out}_2}{\\partial w_{12}}= [\\sigma(Z^{out}_2)-y_{2}]\\cdot Y_1\\\\  \\frac{\\partial Loss}{\\partial w_{22}}=\\frac{\\partial Loss}{\\partial \\sigma(Z^{out}_2)}\\frac{\\partial \\sigma(Z^{out}_2)}{\\partial Z^{out}_2}\\frac{\\partial Z^{out}_2}{\\partial w_{22}}= [\\sigma(Z^{out}_2)-y_{2}]\\cdot Y_2\\\\  \\frac{\\partial Loss}{\\partial w_{32}}=\\frac{\\partial Loss}{\\partial \\sigma(Z^{out}_2)}\\frac{\\partial \\sigma(Z^{out}_2)}{\\partial Z^{out}_2}\\frac{\\partial Z^{out}_2}{\\partial w_{32}}= [\\sigma(Z^{out}_2)-y_{2}]\\cdot Y_3\\\\  \\frac{\\partial Loss}{\\partial B_{1}}=\\frac{\\partial Loss}{\\partial \\sigma(Z^{out}_1)}\\frac{\\partial \\sigma(Z^{out}_1)}{\\partial Z^{out}_1}\\frac{\\partial Z^{out}_2}{\\partial B_{1}}= [\\sigma(Z^{out}_1)-y_{1}]\\cdot 1\\\\   \\frac{\\partial Loss}{\\partial B_{2}}=\\frac{\\partial Loss}{\\partial \\sigma(Z^{out}_2)}\\frac{\\partial \\sigma(Z^{out}_2)}{\\partial Z^{out}_2}\\frac{\\partial Z^{out}_2}{\\partial B_{2}}= [\\sigma(Z^{out}_2)-y_{2}]\\cdot 1\\\\ \\end{cases}\n",
    "\\\\]\n",
    "\n",
    "These values will be used to update the weights of the linear layer trought the learning rate."
   ]
  },
  {
   "cell_type": "code",
   "execution_count": 139,
   "id": "2f3098d2-304b-4007-84fd-a07e3652b289",
   "metadata": {},
   "outputs": [
    {
     "data": {
      "text/plain": [
       "(array([[-0.43187427,  0.43187427],\n",
       "        [-0.61408725,  0.61408725],\n",
       "        [-0.50724925,  0.50724925]]),\n",
       " array([-0.71414781,  0.71414781]))"
      ]
     },
     "execution_count": 139,
     "metadata": {},
     "output_type": "execute_result"
    }
   ],
   "source": [
    "# Gradient for linear layer and bias\n",
    "d_linear = np.dot(phrase_representation.T, dLoss_dSigma_Zout) \n",
    "d_bias =  np.sum(dLoss_dSigma_Zout, axis=0)\n",
    "d_linear,d_bias"
   ]
  },
  {
   "cell_type": "code",
   "execution_count": null,
   "id": "a2666bc3-a1e0-461a-903c-b8bdc3886468",
   "metadata": {},
   "outputs": [],
   "source": [
    "class QKVAttentionClassifier: \n",
    "    def BackPropagation(self, dLoss_dSigma_Zout, inputs):\n",
    "        \n",
    "        # Gradient for linear layer\n",
    "        dlinear_dW = np.dot(self.phrase_representation.T, dLoss_dSigma_Zout)\n",
    "\n",
    "        # Gradient for bias\n",
    "        d_bias = np.sum(dLoss_dSigma_Zout, axis=0)"
   ]
  },
  {
   "cell_type": "markdown",
   "id": "c8550983-d28e-4555-b782-11872d8723f4",
   "metadata": {},
   "source": [
    "### Gradient of the loss with respect to phrase representation:\n",
    " \n",
    "\n",
    "The gradient of the loss with respect to phrase representation can be expressed as:\n",
    "\\\\[\n",
    "\\frac{\\partial Loss}{\\partial Y}=\\begin{cases} \\frac{\\partial Loss}{\\partial Y^{z_1}_1}=\\frac{\\partial Loss}{\\partial \\sigma(Z^{out}_1)}\\frac{\\partial \\sigma(Z^{out}_1)}{\\partial Z^{out}_1}\\frac{\\partial Z^{out}_1}{\\partial Y_1}=[\\sigma(Z_1^{out})-y_1]\\cdot w_{11}\\\\  \\frac{\\partial Loss}{\\partial Y^{z_2}_1}=\\frac{\\partial Loss}{\\partial \\sigma(Z^{out}_2)}\\frac{\\partial \\sigma(Z^{out}_2)}{\\partial Z^{out}_2}\\frac{\\partial Z^{out}_2}{\\partial Y_1}=[\\sigma(Z_2^{out})-y_2]\\cdot w_{12}\\\\    \\frac{\\partial Loss}{\\partial Y^{z_1}_2}=\\frac{\\partial Loss}{\\partial \\sigma(Z^{out}_1)}\\frac{\\partial \\sigma(Z^{out}_1)}{\\partial Z^{out}_1}\\frac{\\partial Z^{out}_1}{\\partial Y_2}=[\\sigma(Z_1^{out})-y_1]\\cdot w_{21}\\\\  \\frac{\\partial Loss}{\\partial Y^{z_2}_2}=\\frac{\\partial Loss}{\\partial \\sigma(Z^{out}_2)}\\frac{\\partial \\sigma(Z^{out}_2)}{\\partial Z^{out}_2}\\frac{\\partial Z^{out}_2}{\\partial Y_2}=[\\sigma(Z_2^{out})-y_2]\\cdot w_{22}\\\\     \\frac{\\partial Loss}{\\partial Y^{z_1}_3}=\\frac{\\partial Loss}{\\partial \\sigma(Z^{out}_1)}\\frac{\\partial \\sigma(Z^{out}_1)}{\\partial Z^{out}_1}\\frac{\\partial Z^{out}_1}{\\partial Y_3}=[\\sigma(Z_1^{out})-y_1]\\cdot w_{31}\\\\  \\frac{\\partial Loss}{\\partial Y^{z_2}_3}=\\frac{\\partial Loss}{\\partial \\sigma(Z^{out}_2)}\\frac{\\partial \\sigma(Z^{out}_2)}{\\partial Z^{out}_2}\\frac{\\partial Z^{out}_2}{\\partial Y_2}=[\\sigma(Z_2^{out})-y_3]\\cdot w_{32}\\end{cases}=\\begin{cases}\\frac{\\partial Loss}{\\partial Y_1}=\\frac{\\partial Loss}{\\partial Y^{z_1}_1}+\\frac{\\partial Loss}{\\partial Y^{z_2}_1}\\\\  \\frac{\\partial Loss}{\\partial Y_2}=\\frac{\\partial Loss}{\\partial Y^{z_1}_2}+\\frac{\\partial Loss}{\\partial Y^{z_2}_2}\\\\  \\frac{\\partial Loss}{\\partial Y_3}=\\frac{\\partial Loss}{\\partial Y^{z_1}_3}+\\frac{\\partial Loss}{\\partial Y^{z_2}_3}\\end{cases}\n",
    "\\\\]\n",
    " \n"
   ]
  },
  {
   "cell_type": "code",
   "execution_count": 140,
   "id": "57f28c04-c59d-40ef-bd6c-03591fb0fedb",
   "metadata": {},
   "outputs": [
    {
     "data": {
      "text/plain": [
       "array([[ 0.26741035,  0.16078187, -0.17055435],\n",
       "       [-0.36200903, -0.21765982,  0.23088939],\n",
       "       [-0.36161307, -0.21742174,  0.23063685]])"
      ]
     },
     "execution_count": 140,
     "metadata": {},
     "output_type": "execute_result"
    }
   ],
   "source": [
    "# Gradient for phrase representation\n",
    "d_phrase_rep = np.dot(dLoss_dSigma_Zout, linearlayer.T)\n",
    "d_phrase_rep"
   ]
  },
  {
   "cell_type": "code",
   "execution_count": 141,
   "id": "ede1786d-8c88-429e-8007-34c4d3029288",
   "metadata": {},
   "outputs": [],
   "source": [
    "class QKVAttentionClassifier: \n",
    "    def BackPropagation(self, dLoss_dSigma_Zout, inputs):\n",
    "        \n",
    "        # Gradient for linear layer\n",
    "        dlinear_dW = np.dot(self.phrase_representation.T, dLoss_dSigma_Zout)\n",
    "\n",
    "        # Gradient for bias\n",
    "        d_bias = np.sum(dLoss_dSigma_Zout, axis=0)\n",
    "        \n",
    "         # Gradient for phrase representation\n",
    "        d_phrase_rep = np.dot(dLoss_dSigma_Zout, self.linearlayer.T)\n",
    "\n"
   ]
  },
  {
   "cell_type": "markdown",
   "id": "4653d85a-7ba3-4c00-8621-31eb998fca4a",
   "metadata": {},
   "source": [
    "### Gradient of the Loss with Respect to Attention Output\n",
    "\n",
    "Given the attention output matrix:\n",
    "\n",
    "\\\\[\n",
    "\\text{Attention} = \n",
    "\\begin{bmatrix}\n",
    "Y_a^1 & Y_a^2 & Y_a^3 \\\\\n",
    "Y_b^1 & Y_b^2 & Y_b^3 \\\\\n",
    "Y_c^1 & Y_c^2 & Y_c^3 \\\\\n",
    "Y_d^1 & Y_d^2 & Y_d^3 \\\\\n",
    "\\end{bmatrix}\n",
    "\\\\]\n",
    "\n",
    "Each row \\\\(Y_a, Y_b, Y_c, Y_d\\\\) represents the attention for each input token.\n",
    "\n",
    "#### Phrase Representation\n",
    "\n",
    "We compute the phrase representation by averaging over the rows for each component:\n",
    "\n",
    "\\\\[\n",
    "\\text{Phrase Representation} = Y =\n",
    "\\begin{bmatrix}\n",
    "\\frac{Y^1_a + Y^1_b + Y^1_c + Y^1_d}{4} \\\\\n",
    "\\frac{Y^2_a + Y^2_b + Y^2_c + Y^2_d}{4} \\\\\n",
    "\\frac{Y^3_a + Y^3_b + Y^3_c + Y^3_d}{4} \\\\\n",
    "\\end{bmatrix} = \\begin{bmatrix}\n",
    "{Y_1}\\\\\n",
    "{Y_2}\\\\\n",
    "{Y_3}\\\\\n",
    "\\end{bmatrix}\n",
    "\\\\]\n",
    "\n",
    "#### Loss Function and Gradient\n",
    "\n",
    "The loss is computed based on the phrase representation. To compute the gradient of the loss with respect to each attention component \\\\(Y_x^i\\\\), we apply the chain rule:\n",
    "\n",
    "\\\\[\n",
    "\\frac{\\partial Loss}{\\partial Y_x^i} = \\frac{\\partial Loss}{\\partial \\text{Y}_i} \\cdot \\frac{\\partial \\text{Y}_i}{\\partial Y_x^i}\n",
    "\\\\]\n",
    "\n",
    "So we end up with the following set of equations:\n",
    "\\\\[\n",
    "\\begin{align*}\n",
    "\\frac{\\partial Loss}{\\partial Y_x^1} = \\begin{cases}\n",
    "\\frac{\\partial Loss}{\\partial Y^1_a} = \\frac{\\partial Loss}{\\partial \\text{Y}_1} \\cdot \\frac{\\partial \\text{Y}_1}{\\partial Y_1^a}\\\\\n",
    "\\frac{\\partial Loss}{\\partial Y^1_b} = \\frac{\\partial Loss}{\\partial \\text{Y}_1} \\cdot \\frac{\\partial \\text{Y}_1}{\\partial Y_1^b}\\\\\n",
    "\\frac{\\partial Loss}{\\partial Y^1_c} = \\frac{\\partial Loss}{\\partial \\text{Y}_1} \\cdot \\frac{\\partial \\text{Y}_1}{\\partial Y_1^c}\\\\\n",
    "\\frac{\\partial Loss}{\\partial Y^1_d} = \\frac{\\partial Loss}{\\partial \\text{Y}_1} \\cdot \\frac{\\partial \\text{Y}_1}{\\partial Y_1^d}\\\\\n",
    "\\end{cases}  & \n",
    "\\frac{\\partial Loss}{\\partial Y_x^2} = \\begin{cases}\n",
    "\\frac{\\partial Loss}{\\partial Y^2_a} = \\frac{\\partial Loss}{\\partial \\text{Y}_2} \\cdot \\frac{\\partial \\text{Y}_2}{\\partial Y_2^a}\\\\\n",
    "\\frac{\\partial Loss}{\\partial Y^2_b} = \\frac{\\partial Loss}{\\partial \\text{Y}_2} \\cdot \\frac{\\partial \\text{Y}_2}{\\partial Y_2^b}\\\\\n",
    "\\frac{\\partial Loss}{\\partial Y^2_c} = \\frac{\\partial Loss}{\\partial \\text{Y}_2} \\cdot \\frac{\\partial \\text{Y}_2}{\\partial Y_2^c}\\\\\n",
    "\\frac{\\partial Loss}{\\partial Y^2_d} = \\frac{\\partial Loss}{\\partial \\text{Y}_2} \\cdot \\frac{\\partial \\text{Y}_2}{\\partial Y_2^d}\\\\\n",
    "\\end{cases}  & \n",
    "\\frac{\\partial Loss}{\\partial Y_x^3} = \\begin{cases}\n",
    "\\frac{\\partial Loss}{\\partial Y^3_a} = \\frac{\\partial Loss}{\\partial \\text{Y}_3} \\cdot \\frac{\\partial \\text{Y}_3}{\\partial Y_3^a}\\\\\n",
    "\\frac{\\partial Loss}{\\partial Y^3_b} = \\frac{\\partial Loss}{\\partial \\text{Y}_3} \\cdot \\frac{\\partial \\text{Y}_3}{\\partial Y_3^b}\\\\\n",
    "\\frac{\\partial Loss}{\\partial Y^3_c} = \\frac{\\partial Loss}{\\partial \\text{Y}_3} \\cdot \\frac{\\partial \\text{Y}_3}{\\partial Y_3^c}\\\\\n",
    "\\frac{\\partial Loss}{\\partial Y^3_d} = \\frac{\\partial Loss}{\\partial \\text{Y}_3} \\cdot \\frac{\\partial \\text{Y}_3}{\\partial Y_3^d}\\\\\n",
    "\\end{cases}\n",
    "\\end{align*}\n",
    "\\\\]\n",
    "\n",
    "\n",
    "\n",
    "Since the phrase representation we used is the mean of the attention outputs, we can simplify the derivative with respect to each attention component as:\n",
    "\n",
    "\\\\[\n",
    "\\frac{\\partial \\text{Y}_i}{\\partial Y_x^i} = \\frac{1}{4}\n",
    "\\\\]\n",
    "\n",
    "Therefore, the gradient of the loss with respect to each attention component is:\n",
    "\n",
    "\\\\[ \n",
    "\\frac{\\partial Loss}{\\partial A} = \\begin{cases}\n",
    "\\frac{\\partial Loss}{\\partial Y_a^i} = \\frac{1}{4} \\frac{\\partial Loss}{\\partial \\text{Y}_i}; \\\\\n",
    "\\frac{\\partial Loss}{\\partial Y_b^i} = \\frac{1}{4} \\frac{\\partial Loss}{\\partial \\text{Y}_i}; \\\\\n",
    "\\frac{\\partial Loss}{\\partial Y_c^i} = \\frac{1}{4} \\frac{\\partial Loss}{\\partial \\text{Y}_i}; \\\\\n",
    "\\frac{\\partial Loss}{\\partial Y_d^i} = \\frac{1}{4} \\frac{\\partial Loss}{\\partial \\text{Y}_i};  \n",
    "\\end{cases} \n",
    "\\\\]\n",
    "This shows how the gradient propagates through the mean operation during backpropagation.\n",
    "\n"
   ]
  },
  {
   "cell_type": "code",
   "execution_count": 260,
   "id": "2734b391-4b7c-49a9-9151-3828b844b17d",
   "metadata": {},
   "outputs": [
    {
     "data": {
      "text/plain": [
       "array([[[ 0.06685259,  0.04019547, -0.04263859],\n",
       "        [ 0.06685259,  0.04019547, -0.04263859],\n",
       "        [ 0.06685259,  0.04019547, -0.04263859],\n",
       "        [ 0.06685259,  0.04019547, -0.04263859]],\n",
       "\n",
       "       [[-0.09050226, -0.05441495,  0.05772235],\n",
       "        [-0.09050226, -0.05441495,  0.05772235],\n",
       "        [-0.09050226, -0.05441495,  0.05772235],\n",
       "        [-0.09050226, -0.05441495,  0.05772235]],\n",
       "\n",
       "       [[-0.09040327, -0.05435543,  0.05765921],\n",
       "        [-0.09040327, -0.05435543,  0.05765921],\n",
       "        [-0.09040327, -0.05435543,  0.05765921],\n",
       "        [-0.09040327, -0.05435543,  0.05765921]]])"
      ]
     },
     "execution_count": 260,
     "metadata": {},
     "output_type": "execute_result"
    }
   ],
   "source": [
    "# Gradient for attention\n",
    "dL_dA = np.array([np.outer(np.ones(inputs.shape[1]), d_phrase_rep[i, :]) for i in range(d_phrase_rep.shape[0])])  / inputs.shape[1]\n",
    "dL_dA"
   ]
  },
  {
   "cell_type": "code",
   "execution_count": 143,
   "id": "eaeb3407-984b-48f3-a746-49b233f04db9",
   "metadata": {},
   "outputs": [],
   "source": [
    "class QKVAttentionClassifier: \n",
    "    def BackPropagation(self, dLoss_dSigma_Zout, inputs):\n",
    "        \n",
    "        # Gradient for linear layer\n",
    "        dlinear_dW = np.dot(self.phrase_representation.T, dLoss_dSigma_Zout)\n",
    "\n",
    "        # Gradient for bias\n",
    "        d_bias = np.sum(dLoss_dSigma_Zout, axis=0)\n",
    "        \n",
    "         # Gradient for phrase representation\n",
    "        d_phrase_rep = np.dot(dLoss_dSigma_Zout, self.linearlayer.T)\n",
    "\n",
    "        # Gradient for attention\n",
    "        dL_dA = np.array([np.outer(np.ones(self.words_per_phrase), d_phrase_rep[i, :]) for i in range(d_phrase_rep.shape[0])])"
   ]
  },
  {
   "cell_type": "markdown",
   "id": "95b60002-82cd-4ec8-bdf9-23e91566d6d6",
   "metadata": {},
   "source": [
    "### Gradient of the loss with respect to values matrix V:\n",
    " \n",
    "\n",
    "The gradient of the loss with respect to values matrix can be expressed as:\n",
    "\\\\[\n",
    "\\text{A} =\\sigma( \\frac{Q_{val}K_{val}^T}{\\sqrt{d_k}})V_{val} = \\sigma( \\frac{Q_{val}K_{val}^T}{\\sqrt{d_k}})\\cdot Inputs \\cdot V\n",
    "\\\\]\n",
    "\\\\[ \n",
    "\\frac{\\partial Loss}{\\partial \\text{V}} =\\frac{\\partial Loss}{\\partial A} \\cdot \\frac{\\partial A}{\\partial V}=\\frac{\\partial Loss}{\\partial A} \\cdot \\sigma( \\frac{Q_{val}K_{val}^T}{\\sqrt{d_k}})\\cdot Inputs\n",
    "\\\\] "
   ]
  },
  {
   "cell_type": "code",
   "execution_count": 278,
   "id": "8e6ad508-c70e-4964-8057-87fada6de5c7",
   "metadata": {},
   "outputs": [
    {
     "data": {
      "text/plain": [
       "array([[-0.02864241, -0.03035565, -0.01701608],\n",
       "       [-0.0496356 , -0.05260454, -0.02948786],\n",
       "       [-0.02213913, -0.02346337, -0.01315257],\n",
       "       [-0.04540561, -0.04812154, -0.02697488],\n",
       "       [-0.03685711, -0.03906171, -0.02189633],\n",
       "       [-0.01405762, -0.01489847, -0.00835145]])"
      ]
     },
     "execution_count": 278,
     "metadata": {},
     "output_type": "execute_result"
    }
   ],
   "source": [
    "# Gradient for V\n",
    "d_Vval=np.matmul(np.transpose(d_attention,(0,2,1)), Attention_weights) \n",
    "dLoss_dV = np.mean(np.matmul(d_Vval,inputs),axis=0).T\n",
    "dLoss_dV"
   ]
  },
  {
   "cell_type": "markdown",
   "id": "7fbb8a0f-28a1-4190-9bf2-0f41f2ce9139",
   "metadata": {},
   "source": [
    "### Gradient of the loss with respect to values matrix Q:\n",
    " \n",
    " \n",
    "The gradient of the loss with respect to queries matrix can be expressed as:\n",
    "\\\\[\n",
    "\\text{A} =\\sigma( \\frac{Q_{val}K_{val}^T}{\\sqrt{d_k}})V_{val}  \n",
    "\\\\]\n",
    "\\\\[ \n",
    "\\frac{\\partial Loss}{\\partial \\text{Q}} =\\frac{\\partial Loss}{\\partial A} \\cdot \\frac{\\partial A}{\\partial Q} \n",
    "\\\\] \n",
    "\\\\[ \n",
    "\\frac{\\partial A}{\\partial Q}  = \\frac{\\partial \\sigma( \\frac{Q_{val}K_{val}^T}{\\sqrt{d_k}})}{\\partial Q} \\cdot V_{val} \n",
    "\\\\] \n",
    "\\\\[ \n",
    "\\frac{\\partial \\sigma( \\frac{Q_{val}K_{val}^T}{\\sqrt{d_k}})}{\\partial Q}   = \\sigma( \\frac{Q_{val}K_{val}^T}{\\sqrt{d_k}}) \\cdot [1-\\sigma( \\frac{Q_{val}K_{val}^T}{\\sqrt{d_k}})] \\cdot \n",
    "\\frac{\\partial (\\frac{Q_{val}K_{val}^T}{\\sqrt{d_k}})}{\\partial Q}\n",
    "\\\\] \n",
    "\\\\[ \n",
    "\\frac{\\partial (\\frac{Q_{val}K_{val}^T}{\\sqrt{d_k}})}{\\partial Q} = \\frac{\\partial (\\frac{Inputs \\cdot Q \\cdot K_{val}^T}{\\sqrt{d_k}})}{\\partial Q}=\\frac{Inputs \\cdot K_{val}^T}{\\sqrt{d_k}}\n",
    "\\\\]  \n",
    "\\\\[ \n",
    "\\frac{\\partial Loss}{\\partial \\text{Q}} =\\frac{\\partial Loss}{\\partial A} \\cdot [\\sigma( \\frac{Q_{val}K_{val}^T}{\\sqrt{d_k}}) \\cdot [1-\\sigma( \\frac{Q_{val}K_{val}^T}{\\sqrt{d_k}})]] \\cdot \\frac{Inputs \\cdot K_{val}^T}{\\sqrt{d_k}} \\cdot V_{val}\n",
    "\\\\] "
   ]
  },
  {
   "cell_type": "code",
   "execution_count": 208,
   "id": "ee3113bd-d3ac-48ab-9eba-93de732e2fe4",
   "metadata": {},
   "outputs": [
    {
     "data": {
      "text/plain": [
       "array([[-0.04795894, -0.06923879, -0.05675471],\n",
       "       [-0.06897801, -0.09796685, -0.08134587],\n",
       "       [-0.04595965, -0.06485524, -0.05357087],\n",
       "       [-0.06370296, -0.09108245, -0.07527546],\n",
       "       [-0.05713204, -0.08177329, -0.06737821],\n",
       "       [-0.03578613, -0.05167345, -0.04199959]])"
      ]
     },
     "execution_count": 208,
     "metadata": {},
     "output_type": "execute_result"
    }
   ],
   "source": [
    "#Gradient of Q\n",
    "dQKscaled_dQ=np.matmul(np.transpose(inputs,(0,2,1)),Kval)/np.sqrt(dk)\n",
    "dAttention_dSoftmax=np.matmul(Attention_weights,(1-Attention_weights))\n",
    "dLoss_dQ=np.mean(np.transpose(np.transpose(np.transpose(dL_dA,(0,2,1))@dAttention_dSoftmax,(0,2,1))@np.transpose( dQKscaled_dQ,(0,2,1)),(0,2,1))@Vval,axis=0)\n",
    "dLoss_dQ"
   ]
  },
  {
   "cell_type": "markdown",
   "id": "4271928d-103a-44e4-800d-ce8cc38c4bec",
   "metadata": {},
   "source": [
    "### Gradient of the loss with respect to values matrix K:\n",
    " \n",
    " \n",
    "The gradient of the loss with respect to queries matrix can be expressed as:\n",
    "\\\\[\n",
    "\\text{A} =\\sigma( \\frac{Q_{val}K_{val}^T}{\\sqrt{d_k}})V_{val}  \n",
    "\\\\]\n",
    "\\\\[ \n",
    "\\frac{\\partial Loss}{\\partial \\text{K}} =\\frac{\\partial Loss}{\\partial A} \\cdot \\frac{\\partial A}{\\partial K} \n",
    "\\\\] \n",
    "\\\\[ \n",
    "\\frac{\\partial A}{\\partial K}  = \\frac{\\partial \\sigma( \\frac{Q_{val}K_{val}^T}{\\sqrt{d_k}})}{\\partial K} \\cdot V_{val} \n",
    "\\\\] \n",
    "\\\\[ \n",
    "\\frac{\\partial \\sigma( \\frac{Q_{val}K_{val}^T}{\\sqrt{d_k}})}{\\partial K}   = \\sigma( \\frac{Q_{val}K_{val}^T}{\\sqrt{d_k}}) \\cdot [1-\\sigma( \\frac{Q_{val}K_{val}^T}{\\sqrt{d_k}})] \\cdot \n",
    "\\frac{\\partial (\\frac{Q_{val}K_{val}^T}{\\sqrt{d_k}})}{\\partial K}\n",
    "\\\\] \n",
    "\\\\[ \n",
    "\\frac{\\partial (\\frac{Q_{val}K_{val}^T}{\\sqrt{d_k}})}{\\partial K} = \\frac{\\partial (\\frac{Q_{val} \\cdot Inputs \\cdot K }{\\sqrt{d_k}})}{\\partial K}=\\frac{Q_{val} \\cdot Inputs}{\\sqrt{d_k}}\n",
    "\\\\]  \n",
    "\\\\[ \n",
    "\\frac{\\partial Loss}{\\partial \\text{K}} =\\frac{\\partial Loss}{\\partial A} \\cdot [\\sigma( \\frac{Q_{val}K_{val}^T}{\\sqrt{d_k}}) \\cdot [1-\\sigma( \\frac{Q_{val}K_{val}^T}{\\sqrt{d_k}})]] \\cdot \\frac{Q_{val} \\cdot Inputs}{\\sqrt{d_k}} \\cdot V_{val}\n",
    "\\\\] "
   ]
  },
  {
   "cell_type": "code",
   "execution_count": 274,
   "id": "6104f84f-0b8e-4fde-b0f8-1c183e99cd67",
   "metadata": {},
   "outputs": [
    {
     "data": {
      "text/plain": [
       "array([[-0.02960017, -0.04259179, -0.03494746],\n",
       "       [-0.04455991, -0.06311051, -0.05248634],\n",
       "       [-0.03128414, -0.04405873, -0.03643295],\n",
       "       [-0.04187331, -0.05970672, -0.04942408],\n",
       "       [-0.03797199, -0.05424964, -0.04474604],\n",
       "       [-0.02203745, -0.03173937, -0.02579298]])"
      ]
     },
     "execution_count": 274,
     "metadata": {},
     "output_type": "execute_result"
    }
   ],
   "source": [
    "dQKscaled_dK=np.transpose(Qval,(0,2,1))@inputs/np.sqrt(dk)\n",
    "dAttention_dSoftmax=np.matmul(Attention_weights,(1-Attention_weights))\n",
    "dLoss_dK=np.mean(np.transpose(np.transpose(np.transpose(dL_dA,(0,2,1))@dAttention_dSoftmax,(0,2,1))@dQKscaled_dK,(0,2,1))@Vval,axis=0)\n",
    "dLoss_dK"
   ]
  },
  {
   "cell_type": "markdown",
   "id": "74766bc9-de8b-48d3-b7c4-fd377c1508bf",
   "metadata": {},
   "source": [
    "Adding all the gradients in the backpropagation of our classifier we get:"
   ]
  },
  {
   "cell_type": "code",
   "execution_count": 275,
   "id": "a76b2355-c353-4cfc-8167-e842ff53b484",
   "metadata": {},
   "outputs": [],
   "source": [
    "class QKVAttentionClassifier: \n",
    "    def BackPropagation(self, dLoss_dSigma_Zout, inputs):\n",
    "        \n",
    "        # Gradient for linear layer\n",
    "        dlinear_dW = np.dot(self.phrase_representation.T, dLoss_dSigma_Zout)\n",
    "\n",
    "        # Gradient for bias\n",
    "        d_bias = np.sum(dLoss_dSigma_Zout, axis=0)\n",
    "        \n",
    "         # Gradient for phrase representation\n",
    "        d_phrase_rep = np.dot(dLoss_dSigma_Zout, self.linearlayer.T)\n",
    "\n",
    "        # Gradient for attention\n",
    "        dL_dA = np.array([np.outer(np.ones(self.words_per_phrase), d_phrase_rep[i, :]) for i in range(d_phrase_rep.shape[0])])\n",
    "\n",
    "        # Gradient for V\n",
    "        d_Vval=np.matmul(np.transpose(d_attention,(0,2,1)), self.Attention_weights) \n",
    "        dLoss_dV = np.mean(np.matmul(d_Vval,inputs),axis=0).T\n",
    "        \n",
    "        #Gradient of softmax\n",
    "        dAttention_dSoftmax=np.matmul(self.Attention_weights,(1-self.Attention_weights))\n",
    "        \n",
    "        #Gradient of Q\n",
    "        dQKscaled_dQ=np.matmul(np.transpose(inputs,(0,2,1)),self.Kval)/np.sqrt(self.dk)\n",
    "        dLoss_dQ=np.mean(np.transpose(np.transpose(np.transpose(dL_dA,(0,2,1))@dAttention_dSoftmax,(0,2,1))@np.transpose( dQKscaled_dQ,(0,2,1)),(0,2,1))@self.Vval,axis=0)\n",
    "        \n",
    "        #Gradient of K\n",
    "        dQKscaled_dK=np.transpose(self.Qval,(0,2,1))@inputs/np.sqrt(self.dk) \n",
    "        dLoss_dK=np.mean(np.transpose(np.transpose(np.transpose(dL_dA,(0,2,1))@dAttention_dSoftmax,(0,2,1))@dQKscaled_dK,(0,2,1))@Vself.val,axis=0)"
   ]
  },
  {
   "cell_type": "markdown",
   "id": "72b98c1f-4438-4183-af8a-3855d863b94d",
   "metadata": {},
   "source": [
    "### Parameters update:\n",
    " \n",
    " \n",
    "Fixing a value for the learning rate \\eta we can now proceed to update the model parameters:\n",
    "\\\\[\n",
    "\\text{Q} = \\text{Q} - \\eta \\cdot \\frac{\\partial Loss}{\\partial Q}\\\\   \n",
    "\\\\]\n",
    "\\\\[ \n",
    "\\text{V} = \\text{V} - \\eta \\cdot \\frac{\\partial Loss}{\\partial V}\\\\ \n",
    "\\\\] \n",
    "\\\\[ \n",
    "\\text{K} = \\text{K} - \\eta \\cdot \\frac{\\partial Loss}{\\partial K}\\\\  \n",
    "\\\\] \n",
    "\\\\[ \n",
    "\\text{W} = \\text{W} - \\eta \\cdot \\frac{\\partial Loss}{\\partial W}\\\\  \n",
    "\\\\] \n",
    "\\\\[ \n",
    "\\text{b} = \\text{b} - \\eta \\cdot \\frac{\\partial Loss}{\\partial b}\\\\  \n",
    "\\\\]  "
   ]
  },
  {
   "cell_type": "code",
   "execution_count": 279,
   "id": "1c179624-513e-4b6e-81f2-0e468523eb1e",
   "metadata": {},
   "outputs": [],
   "source": [
    "# Update weights\n",
    "learning_rate=0.001\n",
    "Q -= learning_rate * dLoss_dQ\n",
    "K -= learning_rate * dLoss_dK\n",
    "V -= learning_rate * dLoss_dV\n",
    "linearlayer -= learning_rate * d_linear\n",
    "linear_bias -= learning_rate * d_bias"
   ]
  },
  {
   "cell_type": "markdown",
   "id": "5538f436-433c-419c-a253-c0efe256a5e0",
   "metadata": {},
   "source": [
    "Putting together all the steps we finally have the classification model:"
   ]
  },
  {
   "cell_type": "code",
   "execution_count": 284,
   "id": "df45d5ed-1d29-4f99-a24b-529148fe03f4",
   "metadata": {},
   "outputs": [],
   "source": [
    "class QKVAttentionClassifier:\n",
    "    def __init__(self, word_len, words_per_phrase, batch_size, dk, dv, num_classes):\n",
    "\n",
    "        self.word_len = word_len\n",
    "        self.batch_size = batch_size\n",
    "        self.dk = dk\n",
    "        self.dv = dv\n",
    "        self.num_classes = num_classes\n",
    "        self.words_per_phrase = words_per_phrase\n",
    "        \n",
    "        # Initialize weights with Xavier/Glorot initialization\n",
    "        self.Q = np.random.randn(self.word_len, self.dk) / np.sqrt(self.word_len)  # * 0.01\n",
    "        self.K = np.random.randn(self.word_len, self.dk) / np.sqrt(self.word_len)  # * 0.01\n",
    "        self.V = np.random.randn(self.word_len, self.dk) / np.sqrt(self.word_len)  # * 0.01\n",
    "\n",
    "        # Initialize linear layer weights\n",
    "        self.linearlayer = np.random.randn(self.dk, self.num_classes) / np.sqrt(self.dk)\n",
    "        self.linear_bias = np.zeros(self.num_classes)\n",
    "\n",
    "    def softmax(self, x, axis=-1):\n",
    "        x = np.clip(x, -1e4, 1e4)  # Clip for numerical stability\n",
    "        e_x = np.exp(x - np.max(x, axis=axis, keepdims=True))\n",
    "        return e_x / np.sum(e_x, axis=axis, keepdims=True)\n",
    "\n",
    "    def cross_entropy_loss(self, predictions, target):\n",
    "        # Cross-entropy loss for a batch of predictions and targets\n",
    "        batch_loss = -np.sum(target * np.log(predictions + 1e-9), axis=1)\n",
    "        return np.mean(batch_loss)\n",
    "\n",
    "    def AttentionHead(self, Inputs):\n",
    "        self.Qval = np.dot(Inputs, self.Q)\n",
    "        self.Kval = np.dot(Inputs, self.K)\n",
    "        self.Vval = np.dot(Inputs, self.V)\n",
    "\n",
    "        QKscaled = np.matmul(self.Qval, np.transpose(self.Kval, (0, 2, 1))) / np.sqrt(self.K.shape[1])\n",
    "        # QKscaled = np.clip(QKscaled, -1e2, 1e2)\n",
    "        self.Attention_weights = self.softmax(QKscaled)\n",
    "\n",
    "        return np.matmul(self.Attention_weights, self.Vval)\n",
    "\n",
    "    def LinearLayer(self):\n",
    "        output = np.matmul(self.phrase_representation, self.linearlayer) + self.linear_bias\n",
    "        return output\n",
    "\n",
    "    def forward(self, Inputs):\n",
    "\n",
    "        Attention = self.AttentionHead(Inputs)\n",
    "\n",
    "        self.phrase_representation = np.mean(Attention, axis=1)\n",
    "\n",
    "        Zout = self.LinearLayer()\n",
    "\n",
    "        Sigma_Zout = self.softmax(Zout)\n",
    "\n",
    "        return Sigma_Zout\n",
    "        \n",
    "    def BackPropagation(self, dLoss_dSigma_Zout, inputs):\n",
    "        \n",
    "        # Gradient for linear layer\n",
    "        dlinear_dW = np.dot(self.phrase_representation.T, dLoss_dSigma_Zout)\n",
    "\n",
    "        # Gradient for bias\n",
    "        d_bias = np.sum(dLoss_dSigma_Zout, axis=0)\n",
    "        \n",
    "         # Gradient for phrase representation\n",
    "        d_phrase_rep = np.dot(dLoss_dSigma_Zout, self.linearlayer.T)\n",
    "\n",
    "        # Gradient for attention\n",
    "        dL_dA = np.array([np.outer(np.ones(self.words_per_phrase), d_phrase_rep[i, :]) for i in range(d_phrase_rep.shape[0])])\n",
    "\n",
    "        # Gradient for V\n",
    "        d_Vval=np.matmul(np.transpose(dL_dA,(0,2,1)), self.Attention_weights) \n",
    "        dLoss_dV = np.mean(np.matmul(d_Vval,inputs),axis=0).T\n",
    "        \n",
    "        #Gradient of softmax\n",
    "        dAttention_dSoftmax=np.matmul(self.Attention_weights,(1-self.Attention_weights))\n",
    "        \n",
    "        #Gradient of Q\n",
    "        dQKscaled_dQ=np.matmul(np.transpose(inputs,(0,2,1)),self.Kval)/np.sqrt(self.dk)\n",
    "        dLoss_dQ=np.mean(np.transpose(np.transpose(np.transpose(dL_dA,(0,2,1))@dAttention_dSoftmax,(0,2,1))@np.transpose( dQKscaled_dQ,(0,2,1)),(0,2,1))@self.Vval,axis=0)\n",
    "        \n",
    "        #Gradient of K\n",
    "        dQKscaled_dK=np.transpose(self.Qval,(0,2,1))@inputs/np.sqrt(dk) \n",
    "        dLoss_dK=np.mean(np.transpose(np.transpose(np.transpose(dL_dA,(0,2,1))@dAttention_dSoftmax,(0,2,1))@dQKscaled_dK,(0,2,1))@self.Vval,axis=0)\n",
    "        \n",
    "        #Gradient clipping\n",
    "        clip_value = 10.0\n",
    "        dLoss_dQ = np.clip(dLoss_dQ, -clip_value, clip_value)\n",
    "        dLoss_dK = np.clip(dLoss_dK, -clip_value, clip_value)\n",
    "        dLoss_dV = np.clip(dLoss_dV, -clip_value, clip_value)\n",
    "        dlinear_dW = np.clip(dlinear_dW, -clip_value, clip_value)\n",
    "        d_bias = np.clip(d_bias, -clip_value, clip_value)\n",
    "\n",
    "        self.UpdateParams(dLoss_dQ,dLoss_dK,dLoss_dV,dlinear_dW,d_bias)\n",
    "\n",
    "    def UpdateParams(self, dLoss_dQ, dLoss_dK, dLoss_dV, dlinear_dW, d_bias):\n",
    "        self.Q -= self.learning_rate * dLoss_dQ\n",
    "        self.K -= self.learning_rate * dLoss_dK\n",
    "        self.V -= self.learning_rate * dLoss_dV\n",
    "        self.linearlayer -= self.learning_rate * dlinear_dW\n",
    "        self.linear_bias -= self.learning_rate * d_bias\n",
    "\n",
    "    def train(self, X_train, y_train, num_epochs, learning_rate=0.01):\n",
    "\n",
    "        self.learning_rate = learning_rate\n",
    "\n",
    "        for epoch in range(num_epochs):\n",
    "\n",
    "            total_loss = 0\n",
    "\n",
    "            num_batches_per_epoch = len(X_train) // self.batch_size\n",
    "\n",
    "            for i in tqdm(range(num_batches_per_epoch), desc=f\"Epoch {epoch + 1}/{num_epochs}\"):\n",
    "                start = i * self.batch_size\n",
    "                end = start + self.batch_size\n",
    "                X_batch = X_train[start:end]\n",
    "                y_batch = y_train[start:end]\n",
    "\n",
    "                yi = self.forward(X_batch)\n",
    "\n",
    "                Loss = self.cross_entropy_loss(yi, y_batch)\n",
    "                total_loss += Loss\n",
    "\n",
    "                dLoss_dSigma_Zout = yi - y_batch\n",
    "\n",
    "                self.BackPropagation(dLoss_dSigma_Zout, X_batch)\n",
    "\n",
    "            print(f\"Epoch {epoch + 1}/{num_epochs}, Loss: {(total_loss / num_batches_per_epoch):.4f}\")\n",
    "\n",
    "    def predict(self, X):\n",
    "        return self.forward(X)"
   ]
  },
  {
   "cell_type": "code",
   "execution_count": null,
   "id": "614bc7b6-8229-4c26-b4a7-7bbf02cf12b3",
   "metadata": {},
   "outputs": [],
   "source": []
  },
  {
   "cell_type": "code",
   "execution_count": null,
   "id": "e45cab89-4a7a-49b2-8446-fa5d45449e82",
   "metadata": {},
   "outputs": [],
   "source": []
  },
  {
   "cell_type": "code",
   "execution_count": null,
   "id": "4b50a552-3422-4b37-8713-d4ec13830644",
   "metadata": {},
   "outputs": [],
   "source": []
  },
  {
   "cell_type": "code",
   "execution_count": 79,
   "id": "73d48560-3e6e-4f76-b6fb-ea168a2988ed",
   "metadata": {
    "scrolled": true
   },
   "outputs": [],
   "source": [
    "\n"
   ]
  },
  {
   "cell_type": "code",
   "execution_count": 28,
   "id": "2898e162-809a-4934-8945-a7bebc9cf396",
   "metadata": {},
   "outputs": [],
   "source": [
    "# import spacy \n",
    "# import numpy as np \n",
    "# import pandas as pd\n",
    "# df=pd.read_csv(\"data/bbc-text.csv\")\n",
    "# nlp = spacy.load('en_core_web_lg')\n",
    " \n",
    "# def preprocess_text(text, max_words=70):\n",
    "#     # Process the text using SpaCy\n",
    "#     doc = nlp(text)\n",
    "    \n",
    "#     # Filter out stopwords, punctuation, and spaces\n",
    "#     tokens = [token.text for token in doc if not token.is_stop and not token.is_punct and not token.is_space]\n",
    "    \n",
    "#     # Limit to the top 'max_words' words and pad if necessary\n",
    "#     if len(tokens) > max_words:\n",
    "#         tokens = tokens[:max_words]  # Keep the first max_words words\n",
    "#     else:\n",
    "#         tokens += ['<PAD>'] * (max_words - len(tokens))  # Pad the list with '<PAD>' token\n",
    "    \n",
    "#     # Join the tokens back into a string or return a list\n",
    "#     return tokens\n",
    "# df['processed_text'] = df['text'].apply(preprocess_text)\n",
    "# df['processed_text']\n",
    "\n",
    "\n",
    "# inputs = [] \n",
    "# # Process each phrase in the 'category' column\n",
    "# for phrase in list(df['processed_text']):\n",
    "#     doc = nlp(\" \".join(phrase))  # Process the phrase with SpaCy\n",
    "#     # Extract word vectors\n",
    "#     matrix = np.array([token.vector for token in doc])\n",
    "#     inputs.append(matrix)\n",
    "\n",
    "\n",
    "\n",
    "# def get_train_test_data(data_dir):\n",
    "#     # Get the train data\n",
    "#     train_data = pd.read_json(f\"{data_dir}/train.json\")\n",
    "#     train_data.drop(['id'], axis=1, inplace=True)\n",
    "\n",
    "#     # Get the test data\n",
    "#     test_data = pd.read_json(f\"{data_dir}/test.json\")\n",
    "#     test_data.drop(['id'], axis=1, inplace=True)\n",
    "    \n",
    "#     return train_data, test_data\n",
    "\n",
    "# data_dir = \"corpus\"\n",
    "\n",
    "# train_data, test_data = get_train_test_data(data_dir)\n",
    "\n",
    "# # Take one example from the dataset and print it\n",
    "# example_summary, example_dialogue = train_data.iloc[10]\n",
    "# print(f\"Dialogue:\\n{example_dialogue}\")\n",
    "# print(f\"\\nSummary:\\n{example_summary}\")"
   ]
  },
  {
   "cell_type": "code",
   "execution_count": null,
   "id": "ba720f59-28b9-4c2f-b129-677a567505fd",
   "metadata": {},
   "outputs": [],
   "source": []
  },
  {
   "cell_type": "code",
   "execution_count": null,
   "id": "e1446c00-9370-4bf4-ad93-ae0f79e846f9",
   "metadata": {},
   "outputs": [],
   "source": []
  },
  {
   "cell_type": "code",
   "execution_count": null,
   "id": "b036f928-2902-4ece-92f6-abf185e4fe51",
   "metadata": {},
   "outputs": [],
   "source": [
    "import numpy as np\n",
    "from tqdm import tqdm\n",
    "import sys\n",
    "sys.path.append('c:\\\\python312\\\\lib\\\\site-packages')\n",
    "import pickle\n",
    "import spacy\n",
    "import numpy as np\n",
    "import pandas as pd\n",
    "from tqdm import tqdm\n",
    "\n",
    "def softmax(x, axis=-1):\n",
    "    # Subtract the max value for numerical stability\n",
    "    x = np.clip(x, -1500, 1500)\n",
    "    e_x = np.exp(x - np.max(x, axis=axis, keepdims=True))\n",
    "    return e_x / np.sum(e_x, axis=axis, keepdims=True)\n",
    "\n",
    "\n",
    "def cross_entropy_loss(predictions, target):\n",
    "    return -np.sum(target * np.log(predictions + 1e-9))  # Adding a small constant to avoid log(0)\n",
    "\n",
    "\n",
    "df=pd.read_csv(\"data/bbc-text.csv\")\n",
    "nlp = spacy.load('en_core_web_lg')\n",
    "with open('data/InputProcessed.pkl', 'rb') as f:\n",
    "    X = pickle.load(f)\n",
    "\n",
    "y = np.array(pd.get_dummies(df[\"category\"], dtype=int))\n",
    "tts=0.85\n",
    "X_train,X_test=X[0:round(tts*len(X))],X[round(tts*len(X)):]\n",
    "y_train,y_test=y[0:round(tts*len(X))],y[round(tts*len(X)):]\n",
    "X_train.shape,X_test.shape,y_train.shape,y_test.shape\n"
   ]
  },
  {
   "cell_type": "code",
   "execution_count": 288,
   "id": "68c3a014-7c52-47d6-b0f0-4aab54cf6c1d",
   "metadata": {
    "scrolled": true
   },
   "outputs": [
    {
     "name": "stderr",
     "output_type": "stream",
     "text": [
      "Epoch 1/30: 100%|██████████████████████████████████████████████████████████████████████| 59/59 [00:12<00:00,  4.89it/s]\n"
     ]
    },
    {
     "name": "stdout",
     "output_type": "stream",
     "text": [
      "Epoch 1/30, Loss: 3.9633\n"
     ]
    },
    {
     "name": "stderr",
     "output_type": "stream",
     "text": [
      "Epoch 2/30: 100%|██████████████████████████████████████████████████████████████████████| 59/59 [00:12<00:00,  4.70it/s]\n"
     ]
    },
    {
     "name": "stdout",
     "output_type": "stream",
     "text": [
      "Epoch 2/30, Loss: 2.7801\n"
     ]
    },
    {
     "name": "stderr",
     "output_type": "stream",
     "text": [
      "Epoch 3/30: 100%|██████████████████████████████████████████████████████████████████████| 59/59 [00:11<00:00,  5.14it/s]\n"
     ]
    },
    {
     "name": "stdout",
     "output_type": "stream",
     "text": [
      "Epoch 3/30, Loss: 0.6913\n"
     ]
    },
    {
     "name": "stderr",
     "output_type": "stream",
     "text": [
      "Epoch 4/30: 100%|██████████████████████████████████████████████████████████████████████| 59/59 [00:10<00:00,  5.41it/s]\n"
     ]
    },
    {
     "name": "stdout",
     "output_type": "stream",
     "text": [
      "Epoch 4/30, Loss: 0.3028\n"
     ]
    },
    {
     "name": "stderr",
     "output_type": "stream",
     "text": [
      "Epoch 5/30: 100%|██████████████████████████████████████████████████████████████████████| 59/59 [00:10<00:00,  5.77it/s]\n"
     ]
    },
    {
     "name": "stdout",
     "output_type": "stream",
     "text": [
      "Epoch 5/30, Loss: 0.2236\n"
     ]
    },
    {
     "name": "stderr",
     "output_type": "stream",
     "text": [
      "Epoch 6/30: 100%|██████████████████████████████████████████████████████████████████████| 59/59 [00:10<00:00,  5.60it/s]\n"
     ]
    },
    {
     "name": "stdout",
     "output_type": "stream",
     "text": [
      "Epoch 6/30, Loss: 0.1853\n"
     ]
    },
    {
     "name": "stderr",
     "output_type": "stream",
     "text": [
      "Epoch 7/30: 100%|██████████████████████████████████████████████████████████████████████| 59/59 [00:11<00:00,  5.24it/s]\n"
     ]
    },
    {
     "name": "stdout",
     "output_type": "stream",
     "text": [
      "Epoch 7/30, Loss: 0.1632\n"
     ]
    },
    {
     "name": "stderr",
     "output_type": "stream",
     "text": [
      "Epoch 8/30: 100%|██████████████████████████████████████████████████████████████████████| 59/59 [00:10<00:00,  5.72it/s]\n"
     ]
    },
    {
     "name": "stdout",
     "output_type": "stream",
     "text": [
      "Epoch 8/30, Loss: 0.1474\n"
     ]
    },
    {
     "name": "stderr",
     "output_type": "stream",
     "text": [
      "Epoch 9/30: 100%|██████████████████████████████████████████████████████████████████████| 59/59 [00:11<00:00,  5.21it/s]\n"
     ]
    },
    {
     "name": "stdout",
     "output_type": "stream",
     "text": [
      "Epoch 9/30, Loss: 0.1332\n"
     ]
    },
    {
     "name": "stderr",
     "output_type": "stream",
     "text": [
      "Epoch 10/30: 100%|█████████████████████████████████████████████████████████████████████| 59/59 [00:11<00:00,  5.10it/s]\n"
     ]
    },
    {
     "name": "stdout",
     "output_type": "stream",
     "text": [
      "Epoch 10/30, Loss: 0.1227\n"
     ]
    },
    {
     "name": "stderr",
     "output_type": "stream",
     "text": [
      "Epoch 11/30: 100%|█████████████████████████████████████████████████████████████████████| 59/59 [00:12<00:00,  4.78it/s]\n"
     ]
    },
    {
     "name": "stdout",
     "output_type": "stream",
     "text": [
      "Epoch 11/30, Loss: 0.1150\n"
     ]
    },
    {
     "name": "stderr",
     "output_type": "stream",
     "text": [
      "Epoch 12/30: 100%|█████████████████████████████████████████████████████████████████████| 59/59 [00:11<00:00,  5.28it/s]\n"
     ]
    },
    {
     "name": "stdout",
     "output_type": "stream",
     "text": [
      "Epoch 12/30, Loss: 0.1072\n"
     ]
    },
    {
     "name": "stderr",
     "output_type": "stream",
     "text": [
      "Epoch 13/30: 100%|█████████████████████████████████████████████████████████████████████| 59/59 [00:10<00:00,  5.69it/s]\n"
     ]
    },
    {
     "name": "stdout",
     "output_type": "stream",
     "text": [
      "Epoch 13/30, Loss: 0.1001\n"
     ]
    },
    {
     "name": "stderr",
     "output_type": "stream",
     "text": [
      "Epoch 14/30: 100%|█████████████████████████████████████████████████████████████████████| 59/59 [00:10<00:00,  5.80it/s]\n"
     ]
    },
    {
     "name": "stdout",
     "output_type": "stream",
     "text": [
      "Epoch 14/30, Loss: 0.0946\n"
     ]
    },
    {
     "name": "stderr",
     "output_type": "stream",
     "text": [
      "Epoch 15/30: 100%|█████████████████████████████████████████████████████████████████████| 59/59 [00:10<00:00,  5.47it/s]\n"
     ]
    },
    {
     "name": "stdout",
     "output_type": "stream",
     "text": [
      "Epoch 15/30, Loss: 0.0899\n"
     ]
    },
    {
     "name": "stderr",
     "output_type": "stream",
     "text": [
      "Epoch 16/30: 100%|█████████████████████████████████████████████████████████████████████| 59/59 [00:10<00:00,  5.44it/s]\n"
     ]
    },
    {
     "name": "stdout",
     "output_type": "stream",
     "text": [
      "Epoch 16/30, Loss: 0.0843\n"
     ]
    },
    {
     "name": "stderr",
     "output_type": "stream",
     "text": [
      "Epoch 17/30: 100%|█████████████████████████████████████████████████████████████████████| 59/59 [00:10<00:00,  5.86it/s]\n"
     ]
    },
    {
     "name": "stdout",
     "output_type": "stream",
     "text": [
      "Epoch 17/30, Loss: 0.0802\n"
     ]
    },
    {
     "name": "stderr",
     "output_type": "stream",
     "text": [
      "Epoch 18/30: 100%|█████████████████████████████████████████████████████████████████████| 59/59 [00:10<00:00,  5.48it/s]\n"
     ]
    },
    {
     "name": "stdout",
     "output_type": "stream",
     "text": [
      "Epoch 18/30, Loss: 0.0760\n"
     ]
    },
    {
     "name": "stderr",
     "output_type": "stream",
     "text": [
      "Epoch 19/30: 100%|█████████████████████████████████████████████████████████████████████| 59/59 [00:09<00:00,  6.03it/s]\n"
     ]
    },
    {
     "name": "stdout",
     "output_type": "stream",
     "text": [
      "Epoch 19/30, Loss: 0.0724\n"
     ]
    },
    {
     "name": "stderr",
     "output_type": "stream",
     "text": [
      "Epoch 20/30: 100%|█████████████████████████████████████████████████████████████████████| 59/59 [00:10<00:00,  5.83it/s]\n"
     ]
    },
    {
     "name": "stdout",
     "output_type": "stream",
     "text": [
      "Epoch 20/30, Loss: 0.0686\n"
     ]
    },
    {
     "name": "stderr",
     "output_type": "stream",
     "text": [
      "Epoch 21/30: 100%|█████████████████████████████████████████████████████████████████████| 59/59 [00:10<00:00,  5.60it/s]\n"
     ]
    },
    {
     "name": "stdout",
     "output_type": "stream",
     "text": [
      "Epoch 21/30, Loss: 0.0652\n"
     ]
    },
    {
     "name": "stderr",
     "output_type": "stream",
     "text": [
      "Epoch 22/30: 100%|█████████████████████████████████████████████████████████████████████| 59/59 [00:10<00:00,  5.67it/s]\n"
     ]
    },
    {
     "name": "stdout",
     "output_type": "stream",
     "text": [
      "Epoch 22/30, Loss: 0.0620\n"
     ]
    },
    {
     "name": "stderr",
     "output_type": "stream",
     "text": [
      "Epoch 23/30: 100%|█████████████████████████████████████████████████████████████████████| 59/59 [00:09<00:00,  5.93it/s]\n"
     ]
    },
    {
     "name": "stdout",
     "output_type": "stream",
     "text": [
      "Epoch 23/30, Loss: 0.0588\n"
     ]
    },
    {
     "name": "stderr",
     "output_type": "stream",
     "text": [
      "Epoch 24/30: 100%|█████████████████████████████████████████████████████████████████████| 59/59 [00:10<00:00,  5.58it/s]\n"
     ]
    },
    {
     "name": "stdout",
     "output_type": "stream",
     "text": [
      "Epoch 24/30, Loss: 0.0563\n"
     ]
    },
    {
     "name": "stderr",
     "output_type": "stream",
     "text": [
      "Epoch 25/30: 100%|█████████████████████████████████████████████████████████████████████| 59/59 [00:10<00:00,  5.38it/s]\n"
     ]
    },
    {
     "name": "stdout",
     "output_type": "stream",
     "text": [
      "Epoch 25/30, Loss: 0.0540\n"
     ]
    },
    {
     "name": "stderr",
     "output_type": "stream",
     "text": [
      "Epoch 26/30: 100%|█████████████████████████████████████████████████████████████████████| 59/59 [00:10<00:00,  5.66it/s]\n"
     ]
    },
    {
     "name": "stdout",
     "output_type": "stream",
     "text": [
      "Epoch 26/30, Loss: 0.0515\n"
     ]
    },
    {
     "name": "stderr",
     "output_type": "stream",
     "text": [
      "Epoch 27/30: 100%|█████████████████████████████████████████████████████████████████████| 59/59 [00:11<00:00,  5.36it/s]\n"
     ]
    },
    {
     "name": "stdout",
     "output_type": "stream",
     "text": [
      "Epoch 27/30, Loss: 0.0488\n"
     ]
    },
    {
     "name": "stderr",
     "output_type": "stream",
     "text": [
      "Epoch 28/30: 100%|█████████████████████████████████████████████████████████████████████| 59/59 [00:11<00:00,  5.21it/s]\n"
     ]
    },
    {
     "name": "stdout",
     "output_type": "stream",
     "text": [
      "Epoch 28/30, Loss: 0.0465\n"
     ]
    },
    {
     "name": "stderr",
     "output_type": "stream",
     "text": [
      "Epoch 29/30: 100%|█████████████████████████████████████████████████████████████████████| 59/59 [00:08<00:00,  6.68it/s]\n"
     ]
    },
    {
     "name": "stdout",
     "output_type": "stream",
     "text": [
      "Epoch 29/30, Loss: 0.0443\n"
     ]
    },
    {
     "name": "stderr",
     "output_type": "stream",
     "text": [
      "Epoch 30/30: 100%|█████████████████████████████████████████████████████████████████████| 59/59 [00:10<00:00,  5.56it/s]"
     ]
    },
    {
     "name": "stdout",
     "output_type": "stream",
     "text": [
      "Epoch 30/30, Loss: 0.0426\n"
     ]
    },
    {
     "name": "stderr",
     "output_type": "stream",
     "text": [
      "\n"
     ]
    }
   ],
   "source": [
    "\n",
    "class QKVAttentionClassifier:\n",
    "    def __init__(self, word_len, words_per_phrase, batch_size, dk, dv, num_classes):\n",
    "\n",
    "        self.word_len = word_len\n",
    "        self.batch_size = batch_size\n",
    "        self.dk = dk\n",
    "        self.dv = dv\n",
    "        self.num_classes = num_classes\n",
    "        self.words_per_phrase = words_per_phrase\n",
    "        \n",
    "        # Initialize weights with Xavier/Glorot initialization\n",
    "        self.Q = np.random.randn(self.word_len, self.dk) / np.sqrt(self.word_len)  # * 0.01\n",
    "        self.K = np.random.randn(self.word_len, self.dk) / np.sqrt(self.word_len)  # * 0.01\n",
    "        self.V = np.random.randn(self.word_len, self.dk) / np.sqrt(self.word_len)  # * 0.01\n",
    "\n",
    "        # Initialize linear layer weights\n",
    "        self.linearlayer = np.random.randn(self.dk, self.num_classes) / np.sqrt(self.dk)\n",
    "        self.linear_bias = np.zeros(self.num_classes)\n",
    "\n",
    "    def softmax(self, x, axis=-1):\n",
    "        x = np.clip(x, -1e4, 1e4)  # Clip for numerical stability\n",
    "        e_x = np.exp(x - np.max(x, axis=axis, keepdims=True))\n",
    "        return e_x / np.sum(e_x, axis=axis, keepdims=True)\n",
    "\n",
    "    def cross_entropy_loss(self, predictions, target):\n",
    "        # Cross-entropy loss for a batch of predictions and targets\n",
    "        batch_loss = -np.sum(target * np.log(predictions + 1e-9), axis=1)\n",
    "        return np.mean(batch_loss)\n",
    "\n",
    "    def AttentionHead(self, Inputs):\n",
    "        self.Qval = np.dot(Inputs, self.Q)\n",
    "        self.Kval = np.dot(Inputs, self.K)\n",
    "        self.Vval = np.dot(Inputs, self.V)\n",
    "\n",
    "        QKscaled = np.matmul(self.Qval, np.transpose(self.Kval, (0, 2, 1))) / np.sqrt(self.K.shape[1])\n",
    "        # QKscaled = np.clip(QKscaled, -1e2, 1e2)\n",
    "        self.Attention_weights = self.softmax(QKscaled)\n",
    "\n",
    "        return np.matmul(self.Attention_weights, self.Vval)\n",
    "\n",
    "    def LinearLayer(self):\n",
    "        output = np.matmul(self.phrase_representation, self.linearlayer) + self.linear_bias\n",
    "        return output\n",
    "\n",
    "    def forward(self, Inputs):\n",
    "\n",
    "        Attention = self.AttentionHead(Inputs)\n",
    "\n",
    "        self.phrase_representation = np.mean(Attention, axis=1)\n",
    "\n",
    "        Zout = self.LinearLayer()\n",
    "\n",
    "        Sigma_Zout = self.softmax(Zout)\n",
    "\n",
    "        return Sigma_Zout\n",
    "        \n",
    "    def BackPropagation(self, dLoss_dSigma_Zout, inputs):\n",
    "        \n",
    "        # Gradient for linear layer\n",
    "        dlinear_dW = np.dot(self.phrase_representation.T, dLoss_dSigma_Zout)\n",
    "\n",
    "        # Gradient for bias\n",
    "        d_bias = np.sum(dLoss_dSigma_Zout, axis=0)\n",
    "        \n",
    "         # Gradient for phrase representation\n",
    "        d_phrase_rep = np.dot(dLoss_dSigma_Zout, self.linearlayer.T)\n",
    "\n",
    "        # Gradient for attention\n",
    "        dL_dA = np.array([np.outer(np.ones(self.words_per_phrase), d_phrase_rep[i, :]) for i in range(d_phrase_rep.shape[0])])\n",
    "\n",
    "        # Gradient for V\n",
    "        d_Vval=np.matmul(np.transpose(dL_dA,(0,2,1)), self.Attention_weights) \n",
    "        dLoss_dV = np.mean(np.matmul(d_Vval,inputs),axis=0).T\n",
    "        \n",
    "        #Gradient of softmax\n",
    "        dAttention_dSoftmax=np.matmul(self.Attention_weights,(1-self.Attention_weights))\n",
    "        \n",
    "        #Gradient of Q\n",
    "        dQKscaled_dQ=np.matmul(np.transpose(inputs,(0,2,1)),self.Kval)/np.sqrt(self.dk)\n",
    "        dLoss_dQ=np.mean(np.transpose(np.transpose(np.transpose(dL_dA,(0,2,1))@dAttention_dSoftmax,(0,2,1))@np.transpose( dQKscaled_dQ,(0,2,1)),(0,2,1))@self.Vval,axis=0)\n",
    "        \n",
    "        #Gradient of K\n",
    "        dQKscaled_dK=np.transpose(self.Qval,(0,2,1))@inputs/np.sqrt(self.dk) \n",
    "        dLoss_dK=np.mean(np.transpose(np.transpose(np.transpose(dL_dA,(0,2,1))@dAttention_dSoftmax,(0,2,1))@dQKscaled_dK,(0,2,1))@self.Vval,axis=0)\n",
    "        \n",
    "        #Gradient clipping\n",
    "        clip_value = 10.0\n",
    "        dLoss_dQ = np.clip(dLoss_dQ, -clip_value, clip_value)\n",
    "        dLoss_dK = np.clip(dLoss_dK, -clip_value, clip_value)\n",
    "        dLoss_dV = np.clip(dLoss_dV, -clip_value, clip_value)\n",
    "        dlinear_dW = np.clip(dlinear_dW, -clip_value, clip_value)\n",
    "        d_bias = np.clip(d_bias, -clip_value, clip_value)\n",
    "\n",
    "        self.UpdateParams(dLoss_dQ,dLoss_dK,dLoss_dV,dlinear_dW,d_bias)\n",
    "\n",
    "    \n",
    "    \n",
    "        \n",
    "\n",
    "    def UpdateParams(self, dLoss_dQ, dLoss_dK, dLoss_dV, dlinear_dW, d_bias):\n",
    "        self.Q -= self.learning_rate * dLoss_dQ\n",
    "        self.K -= self.learning_rate * dLoss_dK\n",
    "        self.V -= self.learning_rate * dLoss_dV\n",
    "        self.linearlayer -= self.learning_rate * dlinear_dW\n",
    "        self.linear_bias -= self.learning_rate * d_bias\n",
    "\n",
    "    def train(self, X_train, y_train, num_epochs, learning_rate=0.01):\n",
    "\n",
    "        self.learning_rate = learning_rate\n",
    "\n",
    "        for epoch in range(num_epochs):\n",
    "\n",
    "            total_loss = 0\n",
    "\n",
    "            num_batches_per_epoch = len(X_train) // self.batch_size\n",
    "\n",
    "            for i in tqdm(range(num_batches_per_epoch), desc=f\"Epoch {epoch + 1}/{num_epochs}\"):\n",
    "                start = i * self.batch_size\n",
    "                end = start + self.batch_size\n",
    "                X_batch = X_train[start:end]\n",
    "                y_batch = y_train[start:end]\n",
    "\n",
    "                yi = self.forward(X_batch)\n",
    "\n",
    "                Loss = self.cross_entropy_loss(yi, y_batch)\n",
    "                total_loss += Loss\n",
    "\n",
    "                dLoss_dSigma_Zout = yi - y_batch\n",
    "\n",
    "                self.BackPropagation(dLoss_dSigma_Zout, X_batch)\n",
    "\n",
    "            print(f\"Epoch {epoch + 1}/{num_epochs}, Loss: {(total_loss / num_batches_per_epoch):.4f}\")\n",
    "\n",
    "    def predict(self, X):\n",
    "        return self.forward(X)\n",
    " \n",
    "\n",
    "\n",
    "def pad_sequences(sequences, max_len):\n",
    "    padded_sequences = np.zeros((len(sequences), max_len, sequences[0].shape[1]))\n",
    "    for i, seq in enumerate(sequences):\n",
    "        length = min(seq.shape[0], max_len)\n",
    "        padded_sequences[i, :length] = seq[:length]\n",
    "    return padded_sequences\n",
    "\n",
    "word_len = 300\n",
    "word_per_phrase=70\n",
    "dk = 32\n",
    "dv = 150\n",
    "batch_size = 32\n",
    "num_classes = 5\n",
    "max_seq_length = 70\n",
    "\n",
    "# Assuming X_train and y_train are your training data and labels\n",
    "X_train_padded = pad_sequences(X_train, max_seq_length)\n",
    " \n",
    "\n",
    "model = QKVAttentionClassifier(word_len, word_per_phrase, batch_size, dk, dv, num_classes)\n",
    "model.train(X_train_padded, y_train, num_epochs=30, learning_rate=0.001)\n",
    "\n",
    "\n"
   ]
  },
  {
   "cell_type": "code",
   "execution_count": 3,
   "id": "389c7910-755c-4c1e-8add-6bd7ddde5f3a",
   "metadata": {
    "scrolled": true
   },
   "outputs": [
    {
     "data": {
      "text/plain": [
       "70"
      ]
     },
     "execution_count": 3,
     "metadata": {},
     "output_type": "execute_result"
    }
   ],
   "source": [
    "X_train_padded.shape[1]"
   ]
  },
  {
   "cell_type": "code",
   "execution_count": 293,
   "id": "4c494b7e-bc42-4def-8cec-a5a87318e67d",
   "metadata": {},
   "outputs": [],
   "source": [
    "import numpy as np\n",
    "from sklearn.metrics import confusion_matrix\n",
    "import seaborn as sns\n",
    "import matplotlib.pyplot as plt"
   ]
  },
  {
   "cell_type": "code",
   "execution_count": 294,
   "id": "01641a4a-e67b-49a4-ac2e-a022304ec8e2",
   "metadata": {
    "scrolled": true
   },
   "outputs": [
    {
     "data": {
      "image/png": "[encoded data removed]",
      "text/plain": [
       "<Figure size 500x500 with 2 Axes>"
      ]
     },
     "metadata": {},
     "output_type": "display_data"
    }
   ],
   "source": [
    "X_test= pad_sequences(X_test, max_seq_length)\n",
    "\n",
    "predictions = model.predict(X_test)\n",
    "y_pred = np.argmax(predictions, axis=1)\n",
    "\n",
    "# Convert one-hot encoded true labels to class labels\n",
    "y_true = np.argmax(y_test, axis=1) \n",
    "# Compute confusion matrix\n",
    "cm = confusion_matrix(y_true, y_pred, labels=np.arange(5))\n",
    "\n",
    "# Visualize the confusion matrix\n",
    "plt.figure(figsize=(5, 5))\n",
    "sns.heatmap(cm, annot=True, fmt='d', cmap='Blues', xticklabels=np.arange(5), yticklabels=np.arange(5))\n",
    "plt.xlabel('Predicted Label')\n",
    "plt.ylabel('True Label')\n",
    "plt.title('Confusion Matrix')\n",
    "plt.show()"
   ]
  },
  {
   "cell_type": "code",
   "execution_count": 25,
   "id": "7e7ceaa2-e90f-4522-a6eb-5c3fabb752cd",
   "metadata": {},
   "outputs": [
    {
     "data": {
      "image/png": "[encoded data removed]",
      "text/plain": [
       "<Figure size 500x500 with 2 Axes>"
      ]
     },
     "metadata": {},
     "output_type": "display_data"
    }
   ],
   "source": [
    "X_test= pad_sequences(X_test, max_seq_length)\n",
    "\n",
    "predictions = classifier.predict(X_test)\n",
    "y_pred = np.argmax(predictions, axis=1)\n",
    "\n",
    "# Convert one-hot encoded true labels to class labels\n",
    "y_true = np.argmax(y_test, axis=1) \n",
    "# Compute confusion matrix\n",
    "cm = confusion_matrix(y_true, y_pred, labels=np.arange(5))\n",
    "\n",
    "# Visualize the confusion matrix\n",
    "plt.figure(figsize=(5, 5))\n",
    "sns.heatmap(cm, annot=True, fmt='d', cmap='Blues', xticklabels=np.arange(5), yticklabels=np.arange(5))\n",
    "plt.xlabel('Predicted Label')\n",
    "plt.ylabel('True Label')\n",
    "plt.title('Confusion Matrix')\n",
    "plt.show()"
   ]
  },
  {
   "cell_type": "code",
   "execution_count": null,
   "id": "22a1638f-fa3c-48aa-8314-e5f934c8c0dc",
   "metadata": {},
   "outputs": [],
   "source": []
  }
 ],
 "metadata": {
  "kernelspec": {
   "display_name": "Python 3 (ipykernel)",
   "language": "python",
   "name": "python3"
  },
  "language_info": {
   "codemirror_mode": {
    "name": "ipython",
    "version": 3
   },
   "file_extension": ".py",
   "mimetype": "text/x-python",
   "name": "python",
   "nbconvert_exporter": "python",
   "pygments_lexer": "ipython3",
   "version": "3.12.2"
  }
 },
 "nbformat": 4,
 "nbformat_minor": 5
}
